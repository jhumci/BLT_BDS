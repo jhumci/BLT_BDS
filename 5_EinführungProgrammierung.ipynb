{
  "cells": [
    {
      "cell_type": "markdown",
      "metadata": {
        "id": "G1Ingk5cAudG"
      },
      "source": [
        "<table style=\"width: 100%\">\n",
        "    <tr style=\"background: #ffffff\">\n",
        "        <td style=\"padding-top:25px;width: 180px\"><img src=\"https://mci.edu/templates/mci/images/logo.svg\" alt=\"Logo\"></td>\n",
        "        <td style=\"width: 100%\">\n",
        "            <div style=\"text-align:right; width: 100%; text-align:right\"><font style=\"font-size:38px\"><b>Grundlagen Programmierung</b></font></div>\n",
        "            <div style=\"padding-top:0px; width: 100%; text-align:right\"><font size=\"4\"><b>WS 2022</b></font></div>\n",
        "        </td>\n",
        "    </tr>\n",
        "</table>\n",
        "\n",
        "---\n",
        "\n",
        "# 5 Functions\n",
        "\n",
        "In this chapter you’ll learn to write\n",
        "functions, which are named blocks of code\n",
        "that are designed to do one specific job.\n",
        "When you want to perform a particular task\n",
        "that you’ve defined in a function, you call the name\n",
        "of the function responsible for it. If you need to\n",
        "perform that task multiple times throughout your program, you don’t\n",
        "need to type all the code for the same task again and again; you just call\n",
        "the function dedicated to handling that task, and the call tells Python to\n",
        "run the code inside the function. You’ll find that using functions makes\n",
        "your programs easier to write, read, test, and fix."
      ]
    },
    {
      "cell_type": "markdown",
      "metadata": {
        "id": "3Xn_KqIrA8P4"
      },
      "source": [
        "## Defining a Function\n",
        "Here’s a simple function named `greet_user()` that prints a greeting:"
      ]
    },
    {
      "cell_type": "code",
      "execution_count": null,
      "metadata": {
        "colab": {
          "base_uri": "https://localhost:8080/"
        },
        "id": "LOvKgI1DAsQH",
        "outputId": "89cab111-2e23-4e93-e538-e885bc9b4963"
      },
      "outputs": [
        {
          "name": "stdout",
          "output_type": "stream",
          "text": [
            "Hello!\n"
          ]
        }
      ],
      "source": [
        "def greet_user():\n",
        "  \"\"\"Display a simple greeting.\"\"\"\n",
        "  print(\"Hello!\")\n",
        "\n",
        "greet_user()"
      ]
    },
    {
      "cell_type": "markdown",
      "metadata": {
        "id": "gqNN14yQBGGD"
      },
      "source": [
        "This example shows the simplest structure of a function. Frist, the keyword ```def``` informs Python that you’re defining a function. This\n",
        "is the function definition, which tells Python the name of the function and, if\n",
        "applicable, what kind of information the function needs to do its job. The\n",
        "parentheses hold that information. In this case, the name of the function\n",
        "is ```greet_user()```, and it needs no information to do its job, so its parentheses are empty. (Even so, the parentheses are required.) Finally, the definition ends in a colon.\n",
        "Any indented lines that follow ```def greet_user():``` make up the body of\n",
        "the function. The text at in the second line is a comment called a docstring, which describes what the function does. Docstrings are enclosed in triple quotes, which Python looks for when it generates documentation for the functions in your programs.\n",
        "The line ```print(\"Hello!\")``` is the only line of actual code in the body\n",
        "of this function, so ```greet_user()``` has just one job: ```print(\"Hello!\")```.\n",
        "When you want to use this function, you call it. A function call tells\n",
        "Python to execute the code in the function. To call a function, you write\n",
        "the name of the function, followed by any necessary information in parentheses. Because no information is needed here, calling our\n",
        "function is as simple as entering ```greet_user()```. As expected, it prints ```Hello!```"
      ]
    },
    {
      "cell_type": "markdown",
      "metadata": {
        "id": "a-MrdvBFCxTU"
      },
      "source": [
        "## Passing Information to a Function\n",
        "\n",
        "After some modification, the function `greet_user()` can not only tell the user \"Hello!\" but also greet them by name. For the function to do this, you enter username in the parentheses of the function’s definition at def `greet_user()`. By adding username here you allow the function to accept any value of username you specify. The function now expects you to provide a value for username each\n",
        "time you call it. When you call `greet_user()`, you can pass it a name, such as\n",
        "'jesse', inside the parentheses:"
      ]
    },
    {
      "cell_type": "code",
      "execution_count": null,
      "metadata": {
        "colab": {
          "base_uri": "https://localhost:8080/"
        },
        "id": "WNjW-dLaBCEt",
        "outputId": "3b43da34-3939-4426-c42d-7a26620e6b7f"
      },
      "outputs": [
        {
          "name": "stdout",
          "output_type": "stream",
          "text": [
            "Hello, Tom!\n"
          ]
        }
      ],
      "source": [
        "def greet_user(user_name):\n",
        "  \"\"\"Display a simple greeting.\"\"\"\n",
        "  print(\"Hello, {}!\".format(user_name))\n",
        "\n",
        "greet_user(\"Tom\")"
      ]
    },
    {
      "cell_type": "markdown",
      "metadata": {
        "id": "RZ2Ed93oDDLD"
      },
      "source": [
        "### Arguments and Parameters\n",
        "\n",
        "In the preceding ```greet_user()``` function, we defined ```greet_user()``` to require a value for the variable `username`. Once we called the function and gave it the information (a person’s name), it printed the right greeting.\n",
        "The variable ```username``` in the definition of ```greet_user()``` is an example of a **parameter**, a piece of information the function needs to do its job. The value ```'jesse'``` in ```greet_user('jesse')``` is an example of an **argument**."
      ]
    },
    {
      "cell_type": "markdown",
      "metadata": {
        "id": "EyxlkH4hDokN"
      },
      "source": [
        "## Positional Arguments\n",
        "\n",
        "When you call a function, Python must match each argument in the function\n",
        "call with a parameter in the function definition. The simplest way to\n",
        "do this is based on the order of the arguments provided. Values matched\n",
        "up this way are called positional arguments."
      ]
    },
    {
      "cell_type": "code",
      "execution_count": null,
      "metadata": {
        "colab": {
          "base_uri": "https://localhost:8080/"
        },
        "id": "iVqnoN-1C549",
        "outputId": "e3823d93-1f40-4052-9b73-1d39d5ebf924"
      },
      "outputs": [
        {
          "name": "stdout",
          "output_type": "stream",
          "text": [
            "\n",
            "I have a hamster.\n",
            "My hamster's name is Harry.\n"
          ]
        }
      ],
      "source": [
        "def describe_pet(animal_type, pet_name):\n",
        "  \"\"\"Display information about a pet.\"\"\"\n",
        "  print(\"\\nI have a \" + animal_type + \".\")\n",
        "  print(\"My \" + animal_type + \"'s name is \" + pet_name.title() + \".\")\n",
        "\n",
        "describe_pet('hamster', 'harry')"
      ]
    },
    {
      "cell_type": "markdown",
      "metadata": {
        "id": "oukG24vbDvR3"
      },
      "source": [
        "✍️ **Task**\n",
        "\n",
        "Given a list of condons as dna sequence, write a function `look_for_codon` find the out the postition of the first time the codon appears and print it.\n",
        "\n",
        "*Hint*: You can use a for loop and and in clause.\n",
        "\n",
        "The `dna_sequence` and the `codon_to_look_for` are the parameters of the function."
      ]
    },
    {
      "cell_type": "code",
      "execution_count": 2,
      "metadata": {
        "id": "5Xzp728huKF2"
      },
      "outputs": [],
      "source": [
        "dna_sequence = [\"GAG\",\"AUU\", \"GUU\", \"UUC\", \"CUC\", \"AUC\"] \n",
        "codon_to_look_for = \"GUU\""
      ]
    },
    {
      "cell_type": "code",
      "execution_count": 3,
      "metadata": {
        "colab": {
          "base_uri": "https://localhost:8080/"
        },
        "id": "xhsS7HhiD7Zw",
        "outputId": "ce2e1419-95b5-4176-d49e-a13f04d852e6"
      },
      "outputs": [
        {
          "name": "stdout",
          "output_type": "stream",
          "text": [
            "Found codon GUU at position 4!\n"
          ]
        }
      ],
      "source": [
        "def look_for_codon(dna_sequence, codon_to_look_for):\n",
        "  position = 1\n",
        "  for codon in dna_sequence:\n",
        "    position = position + 1\n",
        "    if codon == codon_to_look_for:\n",
        "      print(\"Found codon {} at position {}!\".format(codon_to_look_for, position))\n",
        "\n",
        "look_for_codon(dna_sequence, codon_to_look_for)"
      ]
    },
    {
      "cell_type": "markdown",
      "metadata": {
        "id": "yxDV3bruFZDu"
      },
      "source": [
        "#### Multiple Function Calls\n",
        "You can call a function as many times as needed."
      ]
    },
    {
      "cell_type": "code",
      "execution_count": null,
      "metadata": {
        "colab": {
          "base_uri": "https://localhost:8080/"
        },
        "id": "2KHq53ZzFXy2",
        "outputId": "fdb39451-233d-4972-f85b-a7dd81f3075b"
      },
      "outputs": [
        {
          "name": "stdout",
          "output_type": "stream",
          "text": [
            "Found codon GUU at position 4!\n",
            "Found codon CUC at position 6!\n"
          ]
        }
      ],
      "source": [
        "dna_sequence = [\"GAG\",\"AUU\", \"GUU\", \"UUC\", \"CUC\", \"AUC\"] \n",
        "\n",
        "look_for_codon(dna_sequence, \"GUU\")\n",
        "look_for_codon(dna_sequence, \"CUC\")\n"
      ]
    },
    {
      "cell_type": "markdown",
      "metadata": {
        "id": "kFajpd6TFjwf"
      },
      "source": [
        "#### Order Matters in Positional Arguments\n",
        "You can get unexpected results if you mix up the order of the arguments in\n",
        "a function call when using positional arguments:"
      ]
    },
    {
      "cell_type": "code",
      "execution_count": 4,
      "metadata": {
        "id": "LfZjSJTeFjL_"
      },
      "outputs": [],
      "source": [
        "look_for_codon(\"CUC\", dna_sequence)"
      ]
    },
    {
      "cell_type": "markdown",
      "metadata": {
        "id": "Ue84cXA6Fra3"
      },
      "source": [
        "### Keyword Arguments\n",
        "A keyword argument is a name-value pair that you pass to a function. You\n",
        "directly associate the name and the value within the argument, so when you\n",
        "pass the argument to the function, there’s no confusion."
      ]
    },
    {
      "cell_type": "code",
      "execution_count": null,
      "metadata": {
        "colab": {
          "base_uri": "https://localhost:8080/"
        },
        "id": "js7wn4Y3EqZW",
        "outputId": "df58cf77-6509-411c-cc9e-4834298934f6"
      },
      "outputs": [
        {
          "name": "stdout",
          "output_type": "stream",
          "text": [
            "Found codon CUC at position 6!\n"
          ]
        }
      ],
      "source": [
        "look_for_codon(dna_sequence = [\"GAG\",\"AUU\", \"GUU\", \"UUC\", \"CUC\", \"AUC\"]  , codon_to_look_for = \"CUC\")"
      ]
    },
    {
      "cell_type": "code",
      "execution_count": null,
      "metadata": {
        "colab": {
          "base_uri": "https://localhost:8080/"
        },
        "id": "RP2BrQNoF0kY",
        "outputId": "33af0e58-7ae6-4e92-fb8c-9c67b881ebd1"
      },
      "outputs": [
        {
          "name": "stdout",
          "output_type": "stream",
          "text": [
            "Found codon CUC at position 6!\n"
          ]
        }
      ],
      "source": [
        "look_for_codon(codon_to_look_for = \"CUC\", dna_sequence = [\"GAG\",\"AUU\", \"GUU\", \"UUC\", \"CUC\", \"AUC\"] )"
      ]
    },
    {
      "cell_type": "markdown",
      "metadata": {
        "id": "VVQyuc2xF_-Q"
      },
      "source": [
        "#### 🤓 Default Values\n",
        "\n",
        "When writing a function, you can define a default value for each parameter.\n",
        "If an argument for a parameter is provided in the function call, Python uses\n",
        "the argument value. If not, it uses the parameter’s default value. So when\n",
        "you define a default value for a parameter, you can exclude the corresponding\n",
        "argument you’d usually write in the function call. Using default values\n",
        "can simplify your function calls and clarify the ways in which your functions\n",
        "are typically used."
      ]
    },
    {
      "cell_type": "code",
      "execution_count": null,
      "metadata": {
        "colab": {
          "base_uri": "https://localhost:8080/"
        },
        "id": "fOve03CdF6BQ",
        "outputId": "191883f2-4ff8-4a0e-d8dc-6bbcc6d0382e"
      },
      "outputs": [
        {
          "name": "stdout",
          "output_type": "stream",
          "text": [
            "The Chemistry is supervised by Alex\n",
            "The IT is supervised by Julian\n"
          ]
        }
      ],
      "source": [
        "def describe_lab(lab_name, lab_supervisor='Alex'):\n",
        "  \"\"\"Display information about a lab.\"\"\"\n",
        "  print(\"The {} is supervised by {}\".format(lab_name, lab_supervisor))\n",
        "\n",
        "describe_lab(lab_name='Chemistry')\n",
        "describe_lab(lab_name='IT', lab_supervisor = 'Julian')"
      ]
    },
    {
      "cell_type": "markdown",
      "metadata": {
        "id": "8ZTP1Rt5V1wn"
      },
      "source": [
        "#### 🤓 Making an Argument Optional\n",
        "\n",
        "Sometimes it makes sense to make an argument optional so that people\n",
        "using the function can choose to provide extra information only if they\n",
        "want to. You can use default values to make an argument optional.\n",
        "\n"
      ]
    },
    {
      "cell_type": "code",
      "execution_count": 5,
      "metadata": {
        "colab": {
          "base_uri": "https://localhost:8080/"
        },
        "id": "Fa1GVJSHV9DE",
        "outputId": "60365a54-d056-4f8a-fc87-91d8c04d4e0e"
      },
      "outputs": [
        {
          "name": "stdout",
          "output_type": "stream",
          "text": [
            "The Chemistry lab is supervised by Alex\n",
            "The IT lab is supervised by Julian\n",
            "The IT lab is supervised by Julian\n"
          ]
        }
      ],
      "source": [
        "def describe_lab(lab_name, lab_supervisor = 'Alex', room_number = ''):\n",
        "  \"\"\"Display information about a lab.\"\"\"\n",
        "  print(\"The {} lab is supervised by {}\".format(lab_name, lab_supervisor))\n",
        "\n",
        "describe_lab(lab_name='Chemistry')\n",
        "describe_lab(lab_name='IT', lab_supervisor = 'Julian')\n",
        "describe_lab(lab_name='IT', lab_supervisor = 'Julian', room_number = 2)"
      ]
    },
    {
      "cell_type": "markdown",
      "metadata": {
        "id": "obbng2ugGGvY"
      },
      "source": [
        "#### Avoiding Argument Errors\n",
        "\n",
        "When you start to use functions, don’t be surprised if you encounter errors\n",
        "about unmatched arguments. Unmatched arguments occur when you\n",
        "provide fewer or more arguments than a function needs to do its work.\n",
        "For example, here’s what happens if we try to call ```describe_lab``` with no\n",
        "arguments:"
      ]
    },
    {
      "cell_type": "code",
      "execution_count": null,
      "metadata": {
        "colab": {
          "base_uri": "https://localhost:8080/",
          "height": 166
        },
        "id": "B7c5ex2nGGib",
        "outputId": "9bb6d3be-095c-4a25-c304-934fbbba34d0"
      },
      "outputs": [
        {
          "ename": "TypeError",
          "evalue": "ignored",
          "output_type": "error",
          "traceback": [
            "\u001b[0;31m---------------------------------------------------------------------------\u001b[0m",
            "\u001b[0;31mTypeError\u001b[0m                                 Traceback (most recent call last)",
            "\u001b[0;32m<ipython-input-19-65c9a9d4113a>\u001b[0m in \u001b[0;36m<module>\u001b[0;34m()\u001b[0m\n\u001b[0;32m----> 1\u001b[0;31m \u001b[0mdescribe_lab\u001b[0m\u001b[0;34m(\u001b[0m\u001b[0;34m)\u001b[0m\u001b[0;34m\u001b[0m\u001b[0;34m\u001b[0m\u001b[0m\n\u001b[0m",
            "\u001b[0;31mTypeError\u001b[0m: describe_lab() missing 1 required positional argument: 'lab_name'"
          ]
        }
      ],
      "source": [
        "describe_lab()"
      ]
    },
    {
      "cell_type": "markdown",
      "metadata": {
        "id": "LUPprAfPRS-a"
      },
      "source": [
        "The traceback tells us the location of the problem, allowing us to\n",
        "look back and see that something went wrong in our function call. At 1\n",
        "the offending function call is written out for us to see. Next, the traceback tells us the call is missing an argument and reports the name of the missing\n",
        "argument (```lab_name```)."
      ]
    },
    {
      "cell_type": "markdown",
      "metadata": {
        "id": "R72ny9MxRt7T"
      },
      "source": [
        "## Return Values\n",
        "A function doesn’t always have to display its output directly. Instead, it can\n",
        "process some data and then return a value or set of values. The value the\n",
        "function returns is called a return value. The ```return``` statement takes a value\n",
        "from inside a function and sends it back to the line that called the function.\n",
        "Return values allow you to move much of your program’s grunt work into\n",
        "functions, which can simplify the body of your program."
      ]
    },
    {
      "cell_type": "code",
      "execution_count": null,
      "metadata": {
        "colab": {
          "base_uri": "https://localhost:8080/"
        },
        "id": "Zp0LUN2qF3io",
        "outputId": "7b2fa6f2-c36b-4489-fe07-0c9cb5693a9b"
      },
      "outputs": [
        {
          "name": "stdout",
          "output_type": "stream",
          "text": [
            "Julian Huber\n"
          ]
        }
      ],
      "source": [
        "def get_formatted_name(first_name, last_name):\n",
        "  \"\"\"Return a full name, neatly formatted.\"\"\"\n",
        "  full_name = first_name + ' ' + last_name\n",
        "  return full_name.title()\n",
        "\n",
        "person_1 = get_formatted_name('Julian', 'Huber')\n",
        "print(person_1)"
      ]
    },
    {
      "cell_type": "markdown",
      "metadata": {
        "id": "zkPlL4phSNDj"
      },
      "source": [
        "### Returning a Dictionary\n",
        "\n"
      ]
    },
    {
      "cell_type": "code",
      "execution_count": null,
      "metadata": {
        "colab": {
          "base_uri": "https://localhost:8080/"
        },
        "id": "7Bw-oX8VSC5k",
        "outputId": "6d5dfd5c-0a86-49c5-df36-4e2578f1c84b"
      },
      "outputs": [
        {
          "name": "stdout",
          "output_type": "stream",
          "text": [
            "{'first': 'Julian', 'last': 'Huber'}\n"
          ]
        }
      ],
      "source": [
        "def build_person(first_name, last_name):\n",
        "  \"\"\"Return a dictionary of information about a person.\"\"\"\n",
        "  person = {'first': first_name, 'last': last_name}\n",
        "  return person\n",
        "\n",
        "person_1 = build_person('Julian', 'Huber')\n",
        "print(person_1)"
      ]
    },
    {
      "cell_type": "markdown",
      "metadata": {
        "id": "_fi4V1-wSTdb"
      },
      "source": [
        "✍️ **Task**\n",
        "\n",
        "Write a function to build a dictionary for an experiment, that has arguments for:\n",
        "- Experiment Name\n",
        "- Date\n",
        "- Supervisor\n",
        "  - First Name\n",
        "  - Last Name\n",
        "\n",
        "The function should return a dictionary with all the information like in this example:\n",
        "\n",
        "`{'experiment_name': 'First Experiment', 'date': '22.3.2023', 'supervisors': {'first_name': 'Julian', 'last_name': 'Huber'}}`\n",
        "\n",
        "Put the supervisors first and last name in a nestet dictionary within the dictionary."
      ]
    },
    {
      "cell_type": "code",
      "execution_count": null,
      "metadata": {
        "colab": {
          "base_uri": "https://localhost:8080/"
        },
        "id": "qwTwTG1rTYpj",
        "outputId": "6a40d919-713a-4b1c-b211-e70e5fb2f920"
      },
      "outputs": [
        {
          "name": "stdout",
          "output_type": "stream",
          "text": [
            "{'experiment_name': 'First Experiment', 'date': '22.3.2023', 'supervisors': {'first_name': 'Julian', 'last_name': 'Huber'}}\n"
          ]
        }
      ],
      "source": [
        "def build_experiment(experiment_name ,date, first_name, last_name):\n",
        "    \"\"\"Return a dictionary of information about an experiment.\"\"\"\n",
        "    dict = {\"experiment_name\" : experiment_name,\n",
        "            \"date\" : date,\n",
        "            \"supervisors\" :   { \"first_name\" : first_name,\n",
        "                                \"last_name\" : last_name}\n",
        "            }\n",
        "    return dict\n",
        "\n",
        "experiment_1 = build_experiment(\"First Experiment\" ,\"22.3.2023\", \"Julian\", \"Huber\")\n",
        "print(experiment_1)"
      ]
    },
    {
      "cell_type": "markdown",
      "metadata": {
        "id": "4aDbj_SdwSHl"
      },
      "source": [
        "# 🏁 Recap\n",
        "\n",
        "- If you have finished the tasks and have no questions, place the green card on top.\n",
        "- If you have finished the tasks but would like to discuss the solutions together again, place the yellow card on top.\n",
        "\n",
        "![](https://www.lokalinfo.ch/fileadmin/news_import/image003_03.jpg)"
      ]
    },
    {
      "cell_type": "markdown",
      "metadata": {
        "id": "L75q_AJoUPWj"
      },
      "source": [
        "## Using Functions to structure the Code\n",
        "\n",
        "Funktions help  to structure your code to make it easier to understand and change. For instace, we can break up the function above to have one function to create the supervisor and another to build the experiment. "
      ]
    },
    {
      "cell_type": "code",
      "execution_count": null,
      "metadata": {
        "colab": {
          "base_uri": "https://localhost:8080/"
        },
        "id": "u5e18uSOUAwU",
        "outputId": "673f8885-d876-4038-9df0-04824ff1b764"
      },
      "outputs": [
        {
          "name": "stdout",
          "output_type": "stream",
          "text": [
            "{'experiment_name': 'First Experiment', 'date': '22.3.2023', 'supervisors': {'first_name': 'Julian', 'last_name': 'Huber'}}\n"
          ]
        }
      ],
      "source": [
        "def build_supervisor(first_name, last_name):\n",
        "    \"\"\"Return a dictionary of information about a supervisor.\"\"\"\n",
        "    dict = { \"first_name\" : first_name,\n",
        "             \"last_name\" : last_name}\n",
        "    return dict\n",
        "\n",
        "def build_experiment(experiment_name ,date, supervisor):\n",
        "    \"\"\"Return a dictionary of information about an experiment.\"\"\"\n",
        "    dict = {\"experiment_name\" : experiment_name,\n",
        "            \"date\" : date,\n",
        "            \"supervisors\" :   supervisor\n",
        "            }\n",
        "    return dict\n",
        "\n",
        "supervisor_1 = build_supervisor(\"Julian\", \"Huber\")\n",
        "experiment_2 = build_experiment(\"First Experiment\" ,\"22.3.2023\", supervisor_1)\n",
        "print(experiment_2)"
      ]
    },
    {
      "cell_type": "markdown",
      "metadata": {
        "id": "TyiamK8lVldV"
      },
      "source": [
        "✍️ **Task**\n",
        "\n",
        "Adjust the function ```build_supervisor(first_name, last_name)``` to take an *optional* middle name and use it to create two experiments of which one of the supervisors has a middle name, the other does not.\n",
        "\n",
        "*Hint*: Start with the following code and add a if-clause to treat the different cases.\n",
        "\n",
        "```Python\n",
        "def build_supervisor(first_name, last_name, middle_name = \"\"):\n",
        "    \"\"\"Return a dictionary of information about a supervisor.\"\"\"\n",
        "```"
      ]
    },
    {
      "cell_type": "code",
      "execution_count": null,
      "metadata": {
        "colab": {
          "base_uri": "https://localhost:8080/"
        },
        "id": "so7-bs8oVUAS",
        "outputId": "56b64922-ca63-475c-e2f1-35ca03a83c98"
      },
      "outputs": [
        {
          "name": "stdout",
          "output_type": "stream",
          "text": [
            "{'experiment_name': 'First Experiment', 'date': '22.3.2023', 'supervisors': {'first_name': 'Julian', 'last_name': 'Huber'}}\n",
            "{'experiment_name': 'First Experiment', 'date': '22.3.2023', 'supervisors': {'first_name': 'Julian', 'middle_name': 'C.', 'last_name': 'Huber'}}\n"
          ]
        }
      ],
      "source": [
        "def build_supervisor(first_name, last_name, middle_name = \"\"):\n",
        "    \"\"\"Return a dictionary of information about a supervisor.\"\"\"\n",
        "    if middle_name == \"\":\n",
        "      dict = { \"first_name\" : first_name,\n",
        "             \"last_name\" : last_name}\n",
        "    else:\n",
        "      dict = { \"first_name\" : first_name,\n",
        "              \"middle_name\" : middle_name,\n",
        "             \"last_name\" : last_name}      \n",
        "    return dict\n",
        "\n",
        "\n",
        "supervisor_1 = build_supervisor(\"Julian\", \"Huber\")\n",
        "supervisor_2 = build_supervisor(\"Julian\", \"Huber\", middle_name = \"C.\" )\n",
        "\n",
        "experiment_3 = build_experiment(\"First Experiment\" ,\"22.3.2023\", supervisor_1)\n",
        "experiment_4 = build_experiment(\"First Experiment\" ,\"22.3.2023\", supervisor_2)\n",
        "\n",
        "print(experiment_3)\n",
        "print(experiment_4)"
      ]
    },
    {
      "cell_type": "markdown",
      "metadata": {
        "id": "pbzjFkZ2Xqhy"
      },
      "source": [
        "## Passing Lists in a Function\n",
        "\n",
        "Be careful when passing lists to a function as they change the list itself even without a return statement:\n",
        "\n"
      ]
    },
    {
      "cell_type": "code",
      "execution_count": 6,
      "metadata": {
        "colab": {
          "base_uri": "https://localhost:8080/"
        },
        "id": "cQdlV1p-XWGq",
        "outputId": "af938233-b45d-4e16-cdaf-082daaee2169"
      },
      "outputs": [
        {
          "name": "stdout",
          "output_type": "stream",
          "text": [
            "[1, 'b', 'c']\n"
          ]
        }
      ],
      "source": [
        "list = [\"a\", \"b\", \"c\"]\n",
        "\n",
        "def change_list(list):\n",
        "  list[0] = 1\n",
        "\n",
        "change_list(list)\n",
        "\n",
        "print(list)"
      ]
    },
    {
      "cell_type": "markdown",
      "metadata": {
        "id": "NylmT22TYcjF"
      },
      "source": [
        "You can prevent this behaviour by copying the list as You pass it to the function:"
      ]
    },
    {
      "cell_type": "code",
      "execution_count": 7,
      "metadata": {
        "colab": {
          "base_uri": "https://localhost:8080/"
        },
        "id": "XjZ4tIPBYbsM",
        "outputId": "0cb31a5e-5b3a-45da-c16a-758ba896597a"
      },
      "outputs": [
        {
          "name": "stdout",
          "output_type": "stream",
          "text": [
            "['a', 'b', 'c']\n"
          ]
        }
      ],
      "source": [
        "list = [\"a\", \"b\", \"c\"]\n",
        "\n",
        "def change_list(list):\n",
        "  list[0] = 1\n",
        "\n",
        "change_list(list[:])\n",
        "\n",
        "print(list)"
      ]
    },
    {
      "cell_type": "markdown",
      "metadata": {
        "id": "nxfDMJO1Y0Hk"
      },
      "source": [
        "## 🤓 Passing an Arbitrary Number of Arguments\n",
        "\n",
        "Sometimes you won’t know ahead of time how many arguments a function\n",
        "needs to accept. Fortunately, Python allows a function to collect an arbitrary\n",
        "number of arguments from the calling statement.\n"
      ]
    },
    {
      "cell_type": "code",
      "execution_count": null,
      "metadata": {
        "colab": {
          "base_uri": "https://localhost:8080/"
        },
        "id": "wliA61baYDLj",
        "outputId": "68b95389-b2bc-4107-f1d1-8ee053aadf43"
      },
      "outputs": [
        {
          "name": "stdout",
          "output_type": "stream",
          "text": [
            "('A', 'G', 'T')\n",
            "('A', 'G', 'T', 'C')\n"
          ]
        }
      ],
      "source": [
        "def make_dna_sequence(*nucleotides):\n",
        "  \"\"\"Print the list of nucleotides that have been given.\"\"\"\n",
        "  print(nucleotides)\n",
        "\n",
        "make_dna_sequence(\"A\",\"G\",\"T\")\n",
        "make_dna_sequence(\"A\",\"G\",\"T\",\"C\")"
      ]
    },
    {
      "cell_type": "markdown",
      "metadata": {
        "id": "0WrydTciZOYD"
      },
      "source": [
        "### 🤓 Mixing Positional and Arbitrary Arguments\n",
        "If you want a function to accept several different kinds of arguments, the\n",
        "parameter that accepts an arbitrary number of arguments must be placed\n",
        "last in the function definition. Python matches positional and keyword\n",
        "arguments first and then collects any remaining arguments in the final\n",
        "parameter.\n",
        "For example, if the function needs to take in the name of the organism the sequence stems from, that parameter must come before the parameter *nucleotides:"
      ]
    },
    {
      "cell_type": "code",
      "execution_count": null,
      "metadata": {
        "colab": {
          "base_uri": "https://localhost:8080/"
        },
        "id": "94hGSCqCZRPO",
        "outputId": "8c6a7f74-c5fe-4dd1-e7d1-e0851c302629"
      },
      "outputs": [
        {
          "name": "stdout",
          "output_type": "stream",
          "text": [
            "E. Coli -- ('A', 'G', 'T')\n"
          ]
        }
      ],
      "source": [
        "def make_dna_sequence(organism, *nucleotides):\n",
        "  \"\"\"Print the list of nucleotides that have been given.\"\"\"\n",
        "  print(organism + \" -- \" + str(nucleotides))\n",
        "\n",
        "make_dna_sequence(\"E. Coli\",\"A\",\"G\",\"T\")"
      ]
    },
    {
      "cell_type": "markdown",
      "metadata": {
        "id": "IkORHY-SZekL"
      },
      "source": [
        "### 🤓 Using Arbitrary Keyword Arguments\n",
        "Sometimes you’ll want to accept an arbitrary number of arguments, but you\n",
        "won’t know ahead of time what kind of information will be passed to the\n",
        "function. In this case, you can write functions that accept as many key-value\n",
        "pairs as the calling statement provides. One example involves building user\n",
        "profiles: you know you’ll get information about a user, but you’re not sure\n",
        "what kind of information you’ll receive. The function build_profile() in the following example always takes in a first and last name, but it accepts an\n",
        "arbitrary number of keyword arguments as well:"
      ]
    },
    {
      "cell_type": "code",
      "execution_count": null,
      "metadata": {
        "colab": {
          "base_uri": "https://localhost:8080/"
        },
        "id": "2-5JeJnCZXKi",
        "outputId": "5eb7447e-0db2-4502-97fd-5d5464dd8c55"
      },
      "outputs": [
        {
          "name": "stdout",
          "output_type": "stream",
          "text": [
            "{'first_name': 'albert', 'last_name': 'einstein', 'location': 'princeton', 'field': 'physics'}\n"
          ]
        }
      ],
      "source": [
        "def build_profile(first, last, **user_info):\n",
        "  \"\"\"Build a dictionary containing everything we know about a user.\"\"\"\n",
        "  profile = {}\n",
        "  profile['first_name'] = first\n",
        "  profile['last_name'] = last\n",
        "  for key, value in user_info.items():\n",
        "    profile[key] = value\n",
        "  return profile\n",
        "\n",
        "user_profile = build_profile('albert', 'einstein',\n",
        "location='princeton',\n",
        "field='physics')\n",
        "print(user_profile)"
      ]
    },
    {
      "cell_type": "markdown",
      "metadata": {
        "id": "L-PJOK2KwUNO"
      },
      "source": [
        "# 🏁 Recap\n",
        "\n",
        "- If you have finished the tasks and have no questions, place the green card on top.\n",
        "- If you have finished the tasks but would like to discuss the solutions together again, place the yellow card on top.\n",
        "\n",
        "![](https://www.lokalinfo.ch/fileadmin/news_import/image003_03.jpg)"
      ]
    },
    {
      "cell_type": "markdown",
      "metadata": {
        "id": "1ytTPxr1fBi6"
      },
      "source": [
        "## 🏆  **Task**\n",
        "\n",
        "Break down Your simulation from last week into the distinctive functions, that take sensible parameters and return a fitting data structure.\n",
        "\n",
        "Use the functions You built to simualte the growth with the data from last week and new data.\n",
        "\n",
        "|  | Scenario 1 | Scenario 2 | Scenario ... |\n",
        "|:---:|:---:|:---:|:---:|\n",
        "| $\\epsilon$ | 1 | 10 | ... |\n",
        "| Initial population | 1 | 200 | ... |\n",
        "| Carrying capacity | 200 | 1000 | ... |\n",
        "| Growth rate | 0.1 | 0.01 | ... |\n",
        "\n",
        "```\n",
        "epsilon = 10\n",
        "inital_population_size = 200\n",
        "carrying_capacity = 1000\n",
        "growth_rate = 0.01\n",
        "```\n",
        "\n",
        "First, a function that describes the logistic growth and returns the current population size:\n",
        "```\n",
        "population_size = carrying_capacity / (1+((carrying_capacity - inital_population_size)/inital_population_size) * math.exp(- growth_rate*t))\n",
        "```\n",
        "\n",
        "\n",
        "\n",
        "Second, a function that runs the simulation until a given `epsilon` is reached and adds the results (in a dictionary) to a list of results:\n",
        "\n",
        "```\n",
        "# importing the math library\n",
        "import math\n",
        "\n",
        "\n",
        "\n",
        "\n",
        "t = 0\n",
        "epsilon = 1\n",
        "\n",
        "# here the user can define the input\n",
        "population_size = 1\n",
        "carrying_capacity = 200\n",
        "growth_rate = 0.1\n",
        "\n",
        "results = []\n",
        "\n",
        "print(\"Started simulation with the following parameters: \\n inital population size: {} \\n carrying capacity: {} \\n growth rate: {}\".format(inital_population_size, carrying_capacity, growth_rate))\n",
        "\n",
        "while population_size + epsilon  < carrying_capacity:\n",
        "\n",
        "  last_population_size = population_size\n",
        "\n",
        "  population_size = carrying_capacity / (1+((carrying_capacity - inital_population_size)/inital_population_size) * math.exp(- growth_rate*t))\n",
        "\n",
        "  growth = population_size - last_population_size\n",
        "\n",
        "  print(\"The population after {0} time steps is {1:.2f}\".format(t, population_size))\n",
        "\n",
        "  t = t + 1  \n",
        "\n",
        "  new_result = {\"Time step\" : t, \"Population size\" : population_size, \"Growth\" : growth}\n",
        "  results.append(new_result)\n",
        "```\n",
        "\n",
        "\n",
        "Last, a function that evaluates the results and prints a notification:\n",
        "```\n",
        "last_growth = 0\n",
        "\n",
        "for data_point in results:\n",
        "  growth = data_point[\"Growth\"] \n",
        "  is_current_groth_lower_than_before = (last_growth > growth)\n",
        "\n",
        "  if is_current_groth_lower_than_before:\n",
        "    print(\"Found maximum growth of {} at {}!\".format(last_data_point[\"Growth\"],last_data_point[\"Time step\"] ))\n",
        "    break\n",
        "  last_growth = data_point[\"Growth\"] \n",
        "  last_data_point = data_point\n",
        "```"
      ]
    },
    {
      "cell_type": "code",
      "execution_count": 8,
      "metadata": {
        "id": "UXrn7tc5bUO5"
      },
      "outputs": [],
      "source": [
        "def calculate_logistic_growth(carrying_capacity,inital_population_size,growth_rate,t):\n",
        "\n",
        "  \"\"\"returns the population size at a given time t\"\"\"\n",
        "  population_size = carrying_capacity / (1+((carrying_capacity - inital_population_size)/inital_population_size) * math.exp(- growth_rate*t))\n",
        "  return (population_size)"
      ]
    },
    {
      "cell_type": "code",
      "execution_count": 22,
      "metadata": {
        "id": "Tkz-mRTkiOvu"
      },
      "outputs": [],
      "source": [
        "import math\n",
        "\n",
        "def carry_out_simulation(epsilon, carrying_capacity, inital_population_size, growth_rate):\n",
        "  \"\"\"runs the simulation and returns a list with the results\"\"\"\n",
        "  t = 0\n",
        "  results = []\n",
        "  population_size = inital_population_size\n",
        "\n",
        "  print(\"Started simulation with the following parameters: \\n inital population size: {} \\n carrying capacity: {} \\n growth rate: {}\".format(inital_population_size, carrying_capacity, growth_rate))\n",
        "\n",
        "  while population_size + epsilon  < carrying_capacity:\n",
        "\n",
        "    last_population_size = population_size\n",
        "\n",
        "    population_size = calculate_logistic_growth(carrying_capacity,inital_population_size,growth_rate,t)\n",
        "\n",
        "    growth = population_size - last_population_size\n",
        "\n",
        "    print(\"The population after {0} time steps is {1:.2f}\".format(t, population_size))\n",
        "\n",
        "    t = t + 1  \n",
        "\n",
        "    new_result = {\"Time step\" : t, \"Population size\" : population_size, \"Growth\" : growth}\n",
        "    results.append(new_result)\n",
        "\n",
        "  return results "
      ]
    },
    {
      "cell_type": "code",
      "execution_count": 23,
      "metadata": {
        "id": "WGs_JfT2jUzE"
      },
      "outputs": [],
      "source": [
        "def find_highest_growth(results):\n",
        "  \"\"\"returns the time step with the highest growth \"\"\"\n",
        "\n",
        "  last_growth = 0\n",
        "\n",
        "  for data_point in results:\n",
        "    growth = data_point[\"Growth\"] \n",
        "    is_current_groth_lower_than_before = (last_growth > growth)\n",
        "\n",
        "    if is_current_groth_lower_than_before:\n",
        "      print(\"Found maximum growth of {0:.2f} at {1}!\".format(last_data_point[\"Growth\"],last_data_point[\"Time step\"] ))\n",
        "      break\n",
        "    last_growth = data_point[\"Growth\"] \n",
        "    last_data_point = data_point\n",
        "  "
      ]
    },
    {
      "cell_type": "code",
      "execution_count": 24,
      "metadata": {
        "colab": {
          "base_uri": "https://localhost:8080/"
        },
        "id": "VJNaLJ1jiZ9G",
        "outputId": "ac59ed03-dc95-4a33-b3ef-8aa2566302e7"
      },
      "outputs": [
        {
          "name": "stdout",
          "output_type": "stream",
          "text": [
            "Started simulation with the following parameters: \n",
            " inital population size: 1 \n",
            " carrying capacity: 200 \n",
            " growth rate: 0.1\n",
            "The population after 0 time steps is 1.00\n",
            "The population after 1 time steps is 1.10\n",
            "The population after 2 time steps is 1.22\n",
            "The population after 3 time steps is 1.35\n",
            "The population after 4 time steps is 1.49\n",
            "The population after 5 time steps is 1.64\n",
            "The population after 6 time steps is 1.81\n",
            "The population after 7 time steps is 2.00\n",
            "The population after 8 time steps is 2.21\n",
            "The population after 9 time steps is 2.44\n",
            "The population after 10 time steps is 2.70\n",
            "The population after 11 time steps is 2.97\n",
            "The population after 12 time steps is 3.28\n",
            "The population after 13 time steps is 3.62\n",
            "The population after 14 time steps is 3.99\n",
            "The population after 15 time steps is 4.41\n",
            "The population after 16 time steps is 4.86\n",
            "The population after 17 time steps is 5.35\n",
            "The population after 18 time steps is 5.90\n",
            "The population after 19 time steps is 6.50\n",
            "The population after 20 time steps is 7.16\n",
            "The population after 21 time steps is 7.88\n",
            "The population after 22 time steps is 8.68\n",
            "The population after 23 time steps is 9.55\n",
            "The population after 24 time steps is 10.50\n",
            "The population after 25 time steps is 11.54\n",
            "The population after 26 time steps is 12.67\n",
            "The population after 27 time steps is 13.91\n",
            "The population after 28 time steps is 15.27\n",
            "The population after 29 time steps is 16.74\n",
            "The population after 30 time steps is 18.34\n",
            "The population after 31 time steps is 20.07\n",
            "The population after 32 time steps is 21.95\n",
            "The population after 33 time steps is 23.98\n",
            "The population after 34 time steps is 26.17\n",
            "The population after 35 time steps is 28.53\n",
            "The population after 36 time steps is 31.07\n",
            "The population after 37 time steps is 33.78\n",
            "The population after 38 time steps is 36.69\n",
            "The population after 39 time steps is 39.78\n",
            "The population after 40 time steps is 43.06\n",
            "The population after 41 time steps is 46.53\n",
            "The population after 42 time steps is 50.20\n",
            "The population after 43 time steps is 54.05\n",
            "The population after 44 time steps is 58.09\n",
            "The population after 45 time steps is 62.29\n",
            "The population after 46 time steps is 66.66\n",
            "The population after 47 time steps is 71.18\n",
            "The population after 48 time steps is 75.82\n",
            "The population after 49 time steps is 80.58\n",
            "The population after 50 time steps is 85.44\n",
            "The population after 51 time steps is 90.36\n",
            "The population after 52 time steps is 95.34\n",
            "The population after 53 time steps is 100.33\n",
            "The population after 54 time steps is 105.33\n",
            "The population after 55 time steps is 110.30\n",
            "The population after 56 time steps is 115.22\n",
            "The population after 57 time steps is 120.06\n",
            "The population after 58 time steps is 124.81\n",
            "The population after 59 time steps is 129.44\n",
            "The population after 60 time steps is 133.93\n",
            "The population after 61 time steps is 138.28\n",
            "The population after 62 time steps is 142.46\n",
            "The population after 63 time steps is 146.47\n",
            "The population after 64 time steps is 150.30\n",
            "The population after 65 time steps is 153.94\n",
            "The population after 66 time steps is 157.39\n",
            "The population after 67 time steps is 160.65\n",
            "The population after 68 time steps is 163.71\n",
            "The population after 69 time steps is 166.59\n",
            "The population after 70 time steps is 169.28\n",
            "The population after 71 time steps is 171.79\n",
            "The population after 72 time steps is 174.13\n",
            "The population after 73 time steps is 176.30\n",
            "The population after 74 time steps is 178.31\n",
            "The population after 75 time steps is 180.17\n",
            "The population after 76 time steps is 181.89\n",
            "The population after 77 time steps is 183.47\n",
            "The population after 78 time steps is 184.92\n",
            "The population after 79 time steps is 186.26\n",
            "The population after 80 time steps is 187.48\n",
            "The population after 81 time steps is 188.61\n",
            "The population after 82 time steps is 189.64\n",
            "The population after 83 time steps is 190.58\n",
            "The population after 84 time steps is 191.43\n",
            "The population after 85 time steps is 192.22\n",
            "The population after 86 time steps is 192.93\n",
            "The population after 87 time steps is 193.58\n",
            "The population after 88 time steps is 194.18\n",
            "The population after 89 time steps is 194.72\n",
            "The population after 90 time steps is 195.21\n",
            "The population after 91 time steps is 195.65\n",
            "The population after 92 time steps is 196.06\n",
            "The population after 93 time steps is 196.43\n",
            "The population after 94 time steps is 196.76\n",
            "The population after 95 time steps is 197.06\n",
            "The population after 96 time steps is 197.34\n",
            "The population after 97 time steps is 197.59\n",
            "The population after 98 time steps is 197.82\n",
            "The population after 99 time steps is 198.02\n",
            "The population after 100 time steps is 198.21\n",
            "The population after 101 time steps is 198.38\n",
            "The population after 102 time steps is 198.53\n",
            "The population after 103 time steps is 198.67\n",
            "The population after 104 time steps is 198.80\n",
            "The population after 105 time steps is 198.91\n",
            "The population after 106 time steps is 199.01\n",
            "Found maximum growth of 5.00 at 54!\n"
          ]
        }
      ],
      "source": [
        "epsilon = 1\n",
        "inital_population_size = 1\n",
        "carrying_capacity = 200\n",
        "growth_rate = 0.1\n",
        "\n",
        "results = carry_out_simulation(epsilon, carrying_capacity, inital_population_size, growth_rate)\n",
        "find_highest_growth(results)\n"
      ]
    },
    {
      "cell_type": "code",
      "execution_count": 25,
      "metadata": {
        "colab": {
          "base_uri": "https://localhost:8080/"
        },
        "id": "ln3gV3iBi3dE",
        "outputId": "ed8c6ffa-bfb9-4007-aa85-bf2993ba1dd7"
      },
      "outputs": [
        {
          "name": "stdout",
          "output_type": "stream",
          "text": [
            "Started simulation with the following parameters: \n",
            " inital population size: 200 \n",
            " carrying capacity: 1000 \n",
            " growth rate: 0.01\n",
            "The population after 0 time steps is 200.00\n",
            "The population after 1 time steps is 201.60\n",
            "The population after 2 time steps is 203.22\n",
            "The population after 3 time steps is 204.84\n",
            "The population after 4 time steps is 206.48\n",
            "The population after 5 time steps is 208.12\n",
            "The population after 6 time steps is 209.77\n",
            "The population after 7 time steps is 211.44\n",
            "The population after 8 time steps is 213.11\n",
            "The population after 9 time steps is 214.79\n",
            "The population after 10 time steps is 216.48\n",
            "The population after 11 time steps is 218.18\n",
            "The population after 12 time steps is 219.89\n",
            "The population after 13 time steps is 221.61\n",
            "The population after 14 time steps is 223.34\n",
            "The population after 15 time steps is 225.08\n",
            "The population after 16 time steps is 226.83\n",
            "The population after 17 time steps is 228.59\n",
            "The population after 18 time steps is 230.36\n",
            "The population after 19 time steps is 232.14\n",
            "The population after 20 time steps is 233.92\n",
            "The population after 21 time steps is 235.72\n",
            "The population after 22 time steps is 237.53\n",
            "The population after 23 time steps is 239.34\n",
            "The population after 24 time steps is 241.17\n",
            "The population after 25 time steps is 243.00\n",
            "The population after 26 time steps is 244.85\n",
            "The population after 27 time steps is 246.70\n",
            "The population after 28 time steps is 248.56\n",
            "The population after 29 time steps is 250.43\n",
            "The population after 30 time steps is 252.32\n",
            "The population after 31 time steps is 254.21\n",
            "The population after 32 time steps is 256.11\n",
            "The population after 33 time steps is 258.02\n",
            "The population after 34 time steps is 259.94\n",
            "The population after 35 time steps is 261.87\n",
            "The population after 36 time steps is 263.80\n",
            "The population after 37 time steps is 265.75\n",
            "The population after 38 time steps is 267.71\n",
            "The population after 39 time steps is 269.67\n",
            "The population after 40 time steps is 271.64\n",
            "The population after 41 time steps is 273.63\n",
            "The population after 42 time steps is 275.62\n",
            "The population after 43 time steps is 277.62\n",
            "The population after 44 time steps is 279.63\n",
            "The population after 45 time steps is 281.65\n",
            "The population after 46 time steps is 283.68\n",
            "The population after 47 time steps is 285.71\n",
            "The population after 48 time steps is 287.76\n",
            "The population after 49 time steps is 289.81\n",
            "The population after 50 time steps is 291.88\n",
            "The population after 51 time steps is 293.95\n",
            "The population after 52 time steps is 296.03\n",
            "The population after 53 time steps is 298.11\n",
            "The population after 54 time steps is 300.21\n",
            "The population after 55 time steps is 302.32\n",
            "The population after 56 time steps is 304.43\n",
            "The population after 57 time steps is 306.55\n",
            "The population after 58 time steps is 308.68\n",
            "The population after 59 time steps is 310.82\n",
            "The population after 60 time steps is 312.96\n",
            "The population after 61 time steps is 315.12\n",
            "The population after 62 time steps is 317.28\n",
            "The population after 63 time steps is 319.45\n",
            "The population after 64 time steps is 321.63\n",
            "The population after 65 time steps is 323.81\n",
            "The population after 66 time steps is 326.01\n",
            "The population after 67 time steps is 328.21\n",
            "The population after 68 time steps is 330.42\n",
            "The population after 69 time steps is 332.63\n",
            "The population after 70 time steps is 334.86\n",
            "The population after 71 time steps is 337.09\n",
            "The population after 72 time steps is 339.33\n",
            "The population after 73 time steps is 341.57\n",
            "The population after 74 time steps is 343.83\n",
            "The population after 75 time steps is 346.08\n",
            "The population after 76 time steps is 348.35\n",
            "The population after 77 time steps is 350.62\n",
            "The population after 78 time steps is 352.90\n",
            "The population after 79 time steps is 355.19\n",
            "The population after 80 time steps is 357.49\n",
            "The population after 81 time steps is 359.79\n",
            "The population after 82 time steps is 362.09\n",
            "The population after 83 time steps is 364.41\n",
            "The population after 84 time steps is 366.72\n",
            "The population after 85 time steps is 369.05\n",
            "The population after 86 time steps is 371.38\n",
            "The population after 87 time steps is 373.72\n",
            "The population after 88 time steps is 376.06\n",
            "The population after 89 time steps is 378.41\n",
            "The population after 90 time steps is 380.77\n",
            "The population after 91 time steps is 383.13\n",
            "The population after 92 time steps is 385.49\n",
            "The population after 93 time steps is 387.87\n",
            "The population after 94 time steps is 390.24\n",
            "The population after 95 time steps is 392.62\n",
            "The population after 96 time steps is 395.01\n",
            "The population after 97 time steps is 397.40\n",
            "The population after 98 time steps is 399.80\n",
            "The population after 99 time steps is 402.20\n",
            "The population after 100 time steps is 404.61\n",
            "The population after 101 time steps is 407.02\n",
            "The population after 102 time steps is 409.44\n",
            "The population after 103 time steps is 411.86\n",
            "The population after 104 time steps is 414.28\n",
            "The population after 105 time steps is 416.71\n",
            "The population after 106 time steps is 419.14\n",
            "The population after 107 time steps is 421.58\n",
            "The population after 108 time steps is 424.02\n",
            "The population after 109 time steps is 426.46\n",
            "The population after 110 time steps is 428.91\n",
            "The population after 111 time steps is 431.36\n",
            "The population after 112 time steps is 433.82\n",
            "The population after 113 time steps is 436.27\n",
            "The population after 114 time steps is 438.74\n",
            "The population after 115 time steps is 441.20\n",
            "The population after 116 time steps is 443.67\n",
            "The population after 117 time steps is 446.14\n",
            "The population after 118 time steps is 448.61\n",
            "The population after 119 time steps is 451.08\n",
            "The population after 120 time steps is 453.56\n",
            "The population after 121 time steps is 456.04\n",
            "The population after 122 time steps is 458.52\n",
            "The population after 123 time steps is 461.01\n",
            "The population after 124 time steps is 463.49\n",
            "The population after 125 time steps is 465.98\n",
            "The population after 126 time steps is 468.47\n",
            "The population after 127 time steps is 470.96\n",
            "The population after 128 time steps is 473.45\n",
            "The population after 129 time steps is 475.94\n",
            "The population after 130 time steps is 478.44\n",
            "The population after 131 time steps is 480.94\n",
            "The population after 132 time steps is 483.43\n",
            "The population after 133 time steps is 485.93\n",
            "The population after 134 time steps is 488.43\n",
            "The population after 135 time steps is 490.93\n",
            "The population after 136 time steps is 493.43\n",
            "The population after 137 time steps is 495.93\n",
            "The population after 138 time steps is 498.43\n",
            "The population after 139 time steps is 500.93\n",
            "The population after 140 time steps is 503.43\n",
            "The population after 141 time steps is 505.93\n",
            "The population after 142 time steps is 508.43\n",
            "The population after 143 time steps is 510.92\n",
            "The population after 144 time steps is 513.42\n",
            "The population after 145 time steps is 515.92\n",
            "The population after 146 time steps is 518.42\n",
            "The population after 147 time steps is 520.91\n",
            "The population after 148 time steps is 523.41\n",
            "The population after 149 time steps is 525.90\n",
            "The population after 150 time steps is 528.40\n",
            "The population after 151 time steps is 530.89\n",
            "The population after 152 time steps is 533.38\n",
            "The population after 153 time steps is 535.86\n",
            "The population after 154 time steps is 538.35\n",
            "The population after 155 time steps is 540.84\n",
            "The population after 156 time steps is 543.32\n",
            "The population after 157 time steps is 545.80\n",
            "The population after 158 time steps is 548.28\n",
            "The population after 159 time steps is 550.75\n",
            "The population after 160 time steps is 553.22\n",
            "The population after 161 time steps is 555.69\n",
            "The population after 162 time steps is 558.16\n",
            "The population after 163 time steps is 560.63\n",
            "The population after 164 time steps is 563.09\n",
            "The population after 165 time steps is 565.55\n",
            "The population after 166 time steps is 568.00\n",
            "The population after 167 time steps is 570.45\n",
            "The population after 168 time steps is 572.90\n",
            "The population after 169 time steps is 575.35\n",
            "The population after 170 time steps is 577.79\n",
            "The population after 171 time steps is 580.23\n",
            "The population after 172 time steps is 582.66\n",
            "The population after 173 time steps is 585.09\n",
            "The population after 174 time steps is 587.52\n",
            "The population after 175 time steps is 589.94\n",
            "The population after 176 time steps is 592.35\n",
            "The population after 177 time steps is 594.77\n",
            "The population after 178 time steps is 597.17\n",
            "The population after 179 time steps is 599.58\n",
            "The population after 180 time steps is 601.98\n",
            "The population after 181 time steps is 604.37\n",
            "The population after 182 time steps is 606.76\n",
            "The population after 183 time steps is 609.14\n",
            "The population after 184 time steps is 611.52\n",
            "The population after 185 time steps is 613.89\n",
            "The population after 186 time steps is 616.26\n",
            "The population after 187 time steps is 618.62\n",
            "The population after 188 time steps is 620.98\n",
            "The population after 189 time steps is 623.33\n",
            "The population after 190 time steps is 625.67\n",
            "The population after 191 time steps is 628.01\n",
            "The population after 192 time steps is 630.35\n",
            "The population after 193 time steps is 632.67\n",
            "The population after 194 time steps is 634.99\n",
            "The population after 195 time steps is 637.31\n",
            "The population after 196 time steps is 639.62\n",
            "The population after 197 time steps is 641.92\n",
            "The population after 198 time steps is 644.21\n",
            "The population after 199 time steps is 646.50\n",
            "The population after 200 time steps is 648.79\n",
            "The population after 201 time steps is 651.06\n",
            "The population after 202 time steps is 653.33\n",
            "The population after 203 time steps is 655.59\n",
            "The population after 204 time steps is 657.85\n",
            "The population after 205 time steps is 660.09\n",
            "The population after 206 time steps is 662.33\n",
            "The population after 207 time steps is 664.57\n",
            "The population after 208 time steps is 666.79\n",
            "The population after 209 time steps is 669.01\n",
            "The population after 210 time steps is 671.22\n",
            "The population after 211 time steps is 673.42\n",
            "The population after 212 time steps is 675.62\n",
            "The population after 213 time steps is 677.81\n",
            "The population after 214 time steps is 679.99\n",
            "The population after 215 time steps is 682.16\n",
            "The population after 216 time steps is 684.32\n",
            "The population after 217 time steps is 686.48\n",
            "The population after 218 time steps is 688.63\n",
            "The population after 219 time steps is 690.77\n",
            "The population after 220 time steps is 692.90\n",
            "The population after 221 time steps is 695.02\n",
            "The population after 222 time steps is 697.14\n",
            "The population after 223 time steps is 699.25\n",
            "The population after 224 time steps is 701.34\n",
            "The population after 225 time steps is 703.43\n",
            "The population after 226 time steps is 705.52\n",
            "The population after 227 time steps is 707.59\n",
            "The population after 228 time steps is 709.65\n",
            "The population after 229 time steps is 711.71\n",
            "The population after 230 time steps is 713.76\n",
            "The population after 231 time steps is 715.80\n",
            "The population after 232 time steps is 717.83\n",
            "The population after 233 time steps is 719.85\n",
            "The population after 234 time steps is 721.86\n",
            "The population after 235 time steps is 723.86\n",
            "The population after 236 time steps is 725.86\n",
            "The population after 237 time steps is 727.84\n",
            "The population after 238 time steps is 729.82\n",
            "The population after 239 time steps is 731.79\n",
            "The population after 240 time steps is 733.74\n",
            "The population after 241 time steps is 735.69\n",
            "The population after 242 time steps is 737.63\n",
            "The population after 243 time steps is 739.56\n",
            "The population after 244 time steps is 741.49\n",
            "The population after 245 time steps is 743.40\n",
            "The population after 246 time steps is 745.30\n",
            "The population after 247 time steps is 747.19\n",
            "The population after 248 time steps is 749.08\n",
            "The population after 249 time steps is 750.95\n",
            "The population after 250 time steps is 752.82\n",
            "The population after 251 time steps is 754.68\n",
            "The population after 252 time steps is 756.52\n",
            "The population after 253 time steps is 758.36\n",
            "The population after 254 time steps is 760.19\n",
            "The population after 255 time steps is 762.01\n",
            "The population after 256 time steps is 763.81\n",
            "The population after 257 time steps is 765.61\n",
            "The population after 258 time steps is 767.40\n",
            "The population after 259 time steps is 769.18\n",
            "The population after 260 time steps is 770.95\n",
            "The population after 261 time steps is 772.72\n",
            "The population after 262 time steps is 774.47\n",
            "The population after 263 time steps is 776.21\n",
            "The population after 264 time steps is 777.94\n",
            "The population after 265 time steps is 779.66\n",
            "The population after 266 time steps is 781.38\n",
            "The population after 267 time steps is 783.08\n",
            "The population after 268 time steps is 784.77\n",
            "The population after 269 time steps is 786.46\n",
            "The population after 270 time steps is 788.13\n",
            "The population after 271 time steps is 789.80\n",
            "The population after 272 time steps is 791.45\n",
            "The population after 273 time steps is 793.10\n",
            "The population after 274 time steps is 794.73\n",
            "The population after 275 time steps is 796.36\n",
            "The population after 276 time steps is 797.98\n",
            "The population after 277 time steps is 799.59\n",
            "The population after 278 time steps is 801.18\n",
            "The population after 279 time steps is 802.77\n",
            "The population after 280 time steps is 804.35\n",
            "The population after 281 time steps is 805.92\n",
            "The population after 282 time steps is 807.48\n",
            "The population after 283 time steps is 809.03\n",
            "The population after 284 time steps is 810.57\n",
            "The population after 285 time steps is 812.10\n",
            "The population after 286 time steps is 813.62\n",
            "The population after 287 time steps is 815.13\n",
            "The population after 288 time steps is 816.63\n",
            "The population after 289 time steps is 818.13\n",
            "The population after 290 time steps is 819.61\n",
            "The population after 291 time steps is 821.08\n",
            "The population after 292 time steps is 822.55\n",
            "The population after 293 time steps is 824.00\n",
            "The population after 294 time steps is 825.45\n",
            "The population after 295 time steps is 826.88\n",
            "The population after 296 time steps is 828.31\n",
            "The population after 297 time steps is 829.73\n",
            "The population after 298 time steps is 831.14\n",
            "The population after 299 time steps is 832.54\n",
            "The population after 300 time steps is 833.93\n",
            "The population after 301 time steps is 835.31\n",
            "The population after 302 time steps is 836.68\n",
            "The population after 303 time steps is 838.04\n",
            "The population after 304 time steps is 839.39\n",
            "The population after 305 time steps is 840.73\n",
            "The population after 306 time steps is 842.07\n",
            "The population after 307 time steps is 843.39\n",
            "The population after 308 time steps is 844.71\n",
            "The population after 309 time steps is 846.02\n",
            "The population after 310 time steps is 847.32\n",
            "The population after 311 time steps is 848.61\n",
            "The population after 312 time steps is 849.89\n",
            "The population after 313 time steps is 851.16\n",
            "The population after 314 time steps is 852.42\n",
            "The population after 315 time steps is 853.67\n",
            "The population after 316 time steps is 854.92\n",
            "The population after 317 time steps is 856.15\n",
            "The population after 318 time steps is 857.38\n",
            "The population after 319 time steps is 858.60\n",
            "The population after 320 time steps is 859.81\n",
            "The population after 321 time steps is 861.01\n",
            "The population after 322 time steps is 862.20\n",
            "The population after 323 time steps is 863.39\n",
            "The population after 324 time steps is 864.56\n",
            "The population after 325 time steps is 865.73\n",
            "The population after 326 time steps is 866.89\n",
            "The population after 327 time steps is 868.04\n",
            "The population after 328 time steps is 869.18\n",
            "The population after 329 time steps is 870.31\n",
            "The population after 330 time steps is 871.43\n",
            "The population after 331 time steps is 872.55\n",
            "The population after 332 time steps is 873.66\n",
            "The population after 333 time steps is 874.76\n",
            "The population after 334 time steps is 875.85\n",
            "The population after 335 time steps is 876.93\n",
            "The population after 336 time steps is 878.01\n",
            "The population after 337 time steps is 879.08\n",
            "The population after 338 time steps is 880.13\n",
            "The population after 339 time steps is 881.19\n",
            "The population after 340 time steps is 882.23\n",
            "The population after 341 time steps is 883.26\n",
            "The population after 342 time steps is 884.29\n",
            "The population after 343 time steps is 885.31\n",
            "The population after 344 time steps is 886.32\n",
            "The population after 345 time steps is 887.33\n",
            "The population after 346 time steps is 888.32\n",
            "The population after 347 time steps is 889.31\n",
            "The population after 348 time steps is 890.29\n",
            "The population after 349 time steps is 891.26\n",
            "The population after 350 time steps is 892.23\n",
            "The population after 351 time steps is 893.19\n",
            "The population after 352 time steps is 894.14\n",
            "The population after 353 time steps is 895.08\n",
            "The population after 354 time steps is 896.01\n",
            "The population after 355 time steps is 896.94\n",
            "The population after 356 time steps is 897.86\n",
            "The population after 357 time steps is 898.78\n",
            "The population after 358 time steps is 899.68\n",
            "The population after 359 time steps is 900.58\n",
            "The population after 360 time steps is 901.47\n",
            "The population after 361 time steps is 902.36\n",
            "The population after 362 time steps is 903.24\n",
            "The population after 363 time steps is 904.11\n",
            "The population after 364 time steps is 904.97\n",
            "The population after 365 time steps is 905.83\n",
            "The population after 366 time steps is 906.68\n",
            "The population after 367 time steps is 907.52\n",
            "The population after 368 time steps is 908.35\n",
            "The population after 369 time steps is 909.18\n",
            "The population after 370 time steps is 910.01\n",
            "The population after 371 time steps is 910.82\n",
            "The population after 372 time steps is 911.63\n",
            "The population after 373 time steps is 912.43\n",
            "The population after 374 time steps is 913.23\n",
            "The population after 375 time steps is 914.02\n",
            "The population after 376 time steps is 914.80\n",
            "The population after 377 time steps is 915.58\n",
            "The population after 378 time steps is 916.35\n",
            "The population after 379 time steps is 917.11\n",
            "The population after 380 time steps is 917.87\n",
            "The population after 381 time steps is 918.62\n",
            "The population after 382 time steps is 919.36\n",
            "The population after 383 time steps is 920.10\n",
            "The population after 384 time steps is 920.83\n",
            "The population after 385 time steps is 921.56\n",
            "The population after 386 time steps is 922.28\n",
            "The population after 387 time steps is 922.99\n",
            "The population after 388 time steps is 923.70\n",
            "The population after 389 time steps is 924.40\n",
            "The population after 390 time steps is 925.10\n",
            "The population after 391 time steps is 925.79\n",
            "The population after 392 time steps is 926.47\n",
            "The population after 393 time steps is 927.15\n",
            "The population after 394 time steps is 927.82\n",
            "The population after 395 time steps is 928.49\n",
            "The population after 396 time steps is 929.15\n",
            "The population after 397 time steps is 929.81\n",
            "The population after 398 time steps is 930.46\n",
            "The population after 399 time steps is 931.10\n",
            "The population after 400 time steps is 931.74\n",
            "The population after 401 time steps is 932.37\n",
            "The population after 402 time steps is 933.00\n",
            "The population after 403 time steps is 933.62\n",
            "The population after 404 time steps is 934.24\n",
            "The population after 405 time steps is 934.85\n",
            "The population after 406 time steps is 935.46\n",
            "The population after 407 time steps is 936.06\n",
            "The population after 408 time steps is 936.65\n",
            "The population after 409 time steps is 937.24\n",
            "The population after 410 time steps is 937.83\n",
            "The population after 411 time steps is 938.41\n",
            "The population after 412 time steps is 938.99\n",
            "The population after 413 time steps is 939.56\n",
            "The population after 414 time steps is 940.12\n",
            "The population after 415 time steps is 940.68\n",
            "The population after 416 time steps is 941.24\n",
            "The population after 417 time steps is 941.79\n",
            "The population after 418 time steps is 942.33\n",
            "The population after 419 time steps is 942.88\n",
            "The population after 420 time steps is 943.41\n",
            "The population after 421 time steps is 943.94\n",
            "The population after 422 time steps is 944.47\n",
            "The population after 423 time steps is 944.99\n",
            "The population after 424 time steps is 945.51\n",
            "The population after 425 time steps is 946.02\n",
            "The population after 426 time steps is 946.53\n",
            "The population after 427 time steps is 947.04\n",
            "The population after 428 time steps is 947.53\n",
            "The population after 429 time steps is 948.03\n",
            "The population after 430 time steps is 948.52\n",
            "The population after 431 time steps is 949.01\n",
            "The population after 432 time steps is 949.49\n",
            "The population after 433 time steps is 949.97\n",
            "The population after 434 time steps is 950.44\n",
            "The population after 435 time steps is 950.91\n",
            "The population after 436 time steps is 951.37\n",
            "The population after 437 time steps is 951.83\n",
            "The population after 438 time steps is 952.29\n",
            "The population after 439 time steps is 952.74\n",
            "The population after 440 time steps is 953.19\n",
            "The population after 441 time steps is 953.63\n",
            "The population after 442 time steps is 954.07\n",
            "The population after 443 time steps is 954.51\n",
            "The population after 444 time steps is 954.94\n",
            "The population after 445 time steps is 955.37\n",
            "The population after 446 time steps is 955.80\n",
            "The population after 447 time steps is 956.22\n",
            "The population after 448 time steps is 956.63\n",
            "The population after 449 time steps is 957.05\n",
            "The population after 450 time steps is 957.45\n",
            "The population after 451 time steps is 957.86\n",
            "The population after 452 time steps is 958.26\n",
            "The population after 453 time steps is 958.66\n",
            "The population after 454 time steps is 959.05\n",
            "The population after 455 time steps is 959.45\n",
            "The population after 456 time steps is 959.83\n",
            "The population after 457 time steps is 960.22\n",
            "The population after 458 time steps is 960.60\n",
            "The population after 459 time steps is 960.97\n",
            "The population after 460 time steps is 961.35\n",
            "The population after 461 time steps is 961.72\n",
            "The population after 462 time steps is 962.08\n",
            "The population after 463 time steps is 962.45\n",
            "The population after 464 time steps is 962.81\n",
            "The population after 465 time steps is 963.16\n",
            "The population after 466 time steps is 963.52\n",
            "The population after 467 time steps is 963.87\n",
            "The population after 468 time steps is 964.21\n",
            "The population after 469 time steps is 964.56\n",
            "The population after 470 time steps is 964.90\n",
            "The population after 471 time steps is 965.23\n",
            "The population after 472 time steps is 965.57\n",
            "The population after 473 time steps is 965.90\n",
            "The population after 474 time steps is 966.23\n",
            "The population after 475 time steps is 966.55\n",
            "The population after 476 time steps is 966.87\n",
            "The population after 477 time steps is 967.19\n",
            "The population after 478 time steps is 967.51\n",
            "The population after 479 time steps is 967.82\n",
            "The population after 480 time steps is 968.13\n",
            "The population after 481 time steps is 968.44\n",
            "The population after 482 time steps is 968.74\n",
            "The population after 483 time steps is 969.04\n",
            "The population after 484 time steps is 969.34\n",
            "The population after 485 time steps is 969.64\n",
            "The population after 486 time steps is 969.93\n",
            "The population after 487 time steps is 970.22\n",
            "The population after 488 time steps is 970.51\n",
            "The population after 489 time steps is 970.79\n",
            "The population after 490 time steps is 971.08\n",
            "The population after 491 time steps is 971.35\n",
            "The population after 492 time steps is 971.63\n",
            "The population after 493 time steps is 971.91\n",
            "The population after 494 time steps is 972.18\n",
            "The population after 495 time steps is 972.45\n",
            "The population after 496 time steps is 972.71\n",
            "The population after 497 time steps is 972.98\n",
            "The population after 498 time steps is 973.24\n",
            "The population after 499 time steps is 973.50\n",
            "The population after 500 time steps is 973.76\n",
            "The population after 501 time steps is 974.01\n",
            "The population after 502 time steps is 974.26\n",
            "The population after 503 time steps is 974.51\n",
            "The population after 504 time steps is 974.76\n",
            "The population after 505 time steps is 975.00\n",
            "The population after 506 time steps is 975.25\n",
            "The population after 507 time steps is 975.49\n",
            "The population after 508 time steps is 975.72\n",
            "The population after 509 time steps is 975.96\n",
            "The population after 510 time steps is 976.19\n",
            "The population after 511 time steps is 976.42\n",
            "The population after 512 time steps is 976.65\n",
            "The population after 513 time steps is 976.88\n",
            "The population after 514 time steps is 977.11\n",
            "The population after 515 time steps is 977.33\n",
            "The population after 516 time steps is 977.55\n",
            "The population after 517 time steps is 977.77\n",
            "The population after 518 time steps is 977.98\n",
            "The population after 519 time steps is 978.20\n",
            "The population after 520 time steps is 978.41\n",
            "The population after 521 time steps is 978.62\n",
            "The population after 522 time steps is 978.83\n",
            "The population after 523 time steps is 979.03\n",
            "The population after 524 time steps is 979.24\n",
            "The population after 525 time steps is 979.44\n",
            "The population after 526 time steps is 979.64\n",
            "The population after 527 time steps is 979.84\n",
            "The population after 528 time steps is 980.04\n",
            "The population after 529 time steps is 980.23\n",
            "The population after 530 time steps is 980.42\n",
            "The population after 531 time steps is 980.62\n",
            "The population after 532 time steps is 980.80\n",
            "The population after 533 time steps is 980.99\n",
            "The population after 534 time steps is 981.18\n",
            "The population after 535 time steps is 981.36\n",
            "The population after 536 time steps is 981.54\n",
            "The population after 537 time steps is 981.72\n",
            "The population after 538 time steps is 981.90\n",
            "The population after 539 time steps is 982.08\n",
            "The population after 540 time steps is 982.25\n",
            "The population after 541 time steps is 982.43\n",
            "The population after 542 time steps is 982.60\n",
            "The population after 543 time steps is 982.77\n",
            "The population after 544 time steps is 982.94\n",
            "The population after 545 time steps is 983.11\n",
            "The population after 546 time steps is 983.27\n",
            "The population after 547 time steps is 983.43\n",
            "The population after 548 time steps is 983.60\n",
            "The population after 549 time steps is 983.76\n",
            "The population after 550 time steps is 983.92\n",
            "The population after 551 time steps is 984.07\n",
            "The population after 552 time steps is 984.23\n",
            "The population after 553 time steps is 984.38\n",
            "The population after 554 time steps is 984.54\n",
            "The population after 555 time steps is 984.69\n",
            "The population after 556 time steps is 984.84\n",
            "The population after 557 time steps is 984.99\n",
            "The population after 558 time steps is 985.13\n",
            "The population after 559 time steps is 985.28\n",
            "The population after 560 time steps is 985.42\n",
            "The population after 561 time steps is 985.57\n",
            "The population after 562 time steps is 985.71\n",
            "The population after 563 time steps is 985.85\n",
            "The population after 564 time steps is 985.99\n",
            "The population after 565 time steps is 986.13\n",
            "The population after 566 time steps is 986.26\n",
            "The population after 567 time steps is 986.40\n",
            "The population after 568 time steps is 986.53\n",
            "The population after 569 time steps is 986.66\n",
            "The population after 570 time steps is 986.79\n",
            "The population after 571 time steps is 986.92\n",
            "The population after 572 time steps is 987.05\n",
            "The population after 573 time steps is 987.18\n",
            "The population after 574 time steps is 987.30\n",
            "The population after 575 time steps is 987.43\n",
            "The population after 576 time steps is 987.55\n",
            "The population after 577 time steps is 987.67\n",
            "The population after 578 time steps is 987.80\n",
            "The population after 579 time steps is 987.92\n",
            "The population after 580 time steps is 988.03\n",
            "The population after 581 time steps is 988.15\n",
            "The population after 582 time steps is 988.27\n",
            "The population after 583 time steps is 988.38\n",
            "The population after 584 time steps is 988.50\n",
            "The population after 585 time steps is 988.61\n",
            "The population after 586 time steps is 988.72\n",
            "The population after 587 time steps is 988.83\n",
            "The population after 588 time steps is 988.94\n",
            "The population after 589 time steps is 989.05\n",
            "The population after 590 time steps is 989.16\n",
            "The population after 591 time steps is 989.27\n",
            "The population after 592 time steps is 989.37\n",
            "The population after 593 time steps is 989.48\n",
            "The population after 594 time steps is 989.58\n",
            "The population after 595 time steps is 989.68\n",
            "The population after 596 time steps is 989.79\n",
            "The population after 597 time steps is 989.89\n",
            "The population after 598 time steps is 989.99\n",
            "The population after 599 time steps is 990.08\n",
            "Found maximum growth of 2.50 at 140!\n"
          ]
        }
      ],
      "source": [
        "epsilon = 10\n",
        "inital_population_size = 200\n",
        "carrying_capacity = 1000\n",
        "growth_rate = 0.01\n",
        "\n",
        "results = carry_out_simulation(epsilon, carrying_capacity, inital_population_size, growth_rate)\n",
        "find_highest_growth(results)\n"
      ]
    },
    {
      "cell_type": "markdown",
      "metadata": {
        "id": "FI30IJ77wV1g"
      },
      "source": [
        "# 🏁 Recap\n",
        "\n",
        "- If you have finished the tasks and have no questions, place the green card on top.\n",
        "- If you have finished the tasks but would like to discuss the solutions together again, place the yellow card on top.\n",
        "\n",
        "![](https://www.lokalinfo.ch/fileadmin/news_import/image003_03.jpg)"
      ]
    },
    {
      "cell_type": "code",
      "execution_count": null,
      "metadata": {
        "id": "ZWiN3OPzjroj"
      },
      "outputs": [],
      "source": []
    }
  ],
  "metadata": {
    "colab": {
      "collapsed_sections": [],
      "provenance": [],
      "toc_visible": true
    },
    "kernelspec": {
      "display_name": "Python 3",
      "name": "python3"
    },
    "language_info": {
      "name": "python"
    }
  },
  "nbformat": 4,
  "nbformat_minor": 0
}

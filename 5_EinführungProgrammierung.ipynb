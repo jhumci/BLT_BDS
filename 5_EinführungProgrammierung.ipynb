{
  "cells": [
    {
      "cell_type": "markdown",
      "metadata": {
        "id": "G1Ingk5cAudG"
      },
      "source": [
        "<table style=\"width: 100%\">\n",
        "    <tr style=\"background: #ffffff\">\n",
        "        <td style=\"padding-top:25px;width: 180px\"><img src=\"https://mci.edu/templates/mci/images/logo.svg\" alt=\"Logo\"></td>\n",
        "        <td style=\"width: 100%\">\n",
        "            <div style=\"text-align:right; width: 100%; text-align:right\"><font style=\"font-size:38px\"><b>Grundlagen Programmierung</b></font></div>\n",
        "            <div style=\"padding-top:0px; width: 100%; text-align:right\"><font size=\"4\"></font></div>\n",
        "        </td>\n",
        "    </tr>\n",
        "</table>\n",
        "\n",
        "---\n",
        "\n",
        "# 1.2.5 Functions\n",
        "\n",
        "In this chapter you’ll learn to write\n",
        "functions, which are named blocks of code\n",
        "that are designed to do one specific job.\n",
        "When you want to perform a particular task\n",
        "that you’ve defined in a function, you call the name\n",
        "of the function responsible for it. If you need to\n",
        "perform that task multiple times throughout your program, you don’t\n",
        "need to type all the code for the same task again and again; you just call\n",
        "the function dedicated to handling that task, and the call tells Python to\n",
        "run the code inside the function. You’ll find that using functions makes\n",
        "your programs easier to write, read, test, and fix."
      ]
    },
    {
      "cell_type": "markdown",
      "metadata": {
        "id": "3Xn_KqIrA8P4"
      },
      "source": [
        "## 1.2.5.1 Defining a Function\n",
        "\n",
        "Here’s a simple function named `greet_user()` that prints a greeting. As with with conditionals and loops everything indented is within the function."
      ]
    },
    {
      "cell_type": "code",
      "execution_count": 5,
      "metadata": {
        "colab": {
          "base_uri": "https://localhost:8080/"
        },
        "id": "LOvKgI1DAsQH",
        "outputId": "89cab111-2e23-4e93-e538-e885bc9b4963"
      },
      "outputs": [
        {
          "name": "stdout",
          "output_type": "stream",
          "text": [
            "Hello!\n"
          ]
        }
      ],
      "source": [
        "# Definition of the function\n",
        "def greet_user():\n",
        "  \"\"\"Display a simple greeting.\"\"\"\n",
        "  print(\"Hello!\")\n",
        "\n",
        "# Calling the function\n",
        "greet_user()"
      ]
    },
    {
      "cell_type": "markdown",
      "metadata": {
        "id": "gqNN14yQBGGD"
      },
      "source": [
        "This example shows the simplest structure of a function. Frist, the keyword ```def``` informs Python that you’re defining a function. This\n",
        "is the function definition, which tells Python the name of the function and, if\n",
        "applicable, what kind of information the function needs to do its job. The\n",
        "parentheses hold that information. In this case, the name of the function\n",
        "is ```greet_user()```, and it needs no information to do its job, so its parentheses are empty. (Even so, the parentheses are required.) Finally, the definition ends in a colon.\n",
        "Any indented lines that follow ```def greet_user():``` make up the body of\n",
        "the function. The text at in the second line is a comment called a docstring, which describes what the function does. Docstrings are enclosed in triple quotes, which Python looks for when it generates documentation for the functions in your programs.\n",
        "The line ```print(\"Hello!\")``` is the only line of actual code in the body\n",
        "of this function, so ```greet_user()``` has just one job: ```print(\"Hello!\")```.\n",
        "When you want to use this function, you call it. A function call tells\n",
        "Python to execute the code in the function. To call a function, you write\n",
        "the name of the function, followed by any necessary information in parentheses. Because no information is needed here, calling our\n",
        "function is as simple as entering ```greet_user()```. As expected, it prints ```Hello!```"
      ]
    },
    {
      "cell_type": "markdown",
      "metadata": {
        "id": "a-MrdvBFCxTU"
      },
      "source": [
        "#### Passing Information to a Function\n",
        "\n",
        "After some modification, the function `greet_user()` can not only tell the user \"Hello!\" but also greet them by name. For the function to do this, you enter username in the parentheses of the function’s definition at def `greet_user()`. By adding username here you allow the function to accept any value of username you specify. The function now expects you to provide a value for username each\n",
        "time you call it. When you call `greet_user()`, you can pass it a name, such as\n",
        "`'Tom'`, inside the parentheses:"
      ]
    },
    {
      "cell_type": "code",
      "execution_count": 3,
      "metadata": {
        "colab": {
          "base_uri": "https://localhost:8080/"
        },
        "id": "WNjW-dLaBCEt",
        "outputId": "3b43da34-3939-4426-c42d-7a26620e6b7f"
      },
      "outputs": [
        {
          "name": "stdout",
          "output_type": "stream",
          "text": [
            "Hello, Tom!\n"
          ]
        }
      ],
      "source": [
        "def greet_user(user_name):\n",
        "  \"\"\"Display a simple greeting.\"\"\"\n",
        "  print(\"Hello, {}!\".format(user_name))\n",
        "\n",
        "greet_user(\"Tom\")"
      ]
    },
    {
      "cell_type": "markdown",
      "metadata": {
        "id": "RZ2Ed93oDDLD"
      },
      "source": [
        "#### Arguments and Parameters\n",
        "\n",
        "In the preceding ```greet_user()``` function, we defined ```greet_user()``` to require a value for the variable `username`. Once we called the function and gave it the information (a person’s name), it printed the right greeting.\n",
        "The variable ```username``` in the definition of ```greet_user()``` is an example of a **parameter**, a piece of information the function needs to do its job. The value ```'jesse'``` in ```greet_user('jesse')``` is an example of an **argument**."
      ]
    },
    {
      "cell_type": "markdown",
      "metadata": {
        "id": "EyxlkH4hDokN"
      },
      "source": [
        "##### Positional Arguments\n",
        "\n",
        "When you call a function, Python must match each argument in the function\n",
        "call with a parameter in the function definition. The simplest way to\n",
        "do this is based on the order of the arguments provided. Values matched\n",
        "up this way are called positional arguments."
      ]
    },
    {
      "cell_type": "code",
      "execution_count": 4,
      "metadata": {
        "colab": {
          "base_uri": "https://localhost:8080/"
        },
        "id": "iVqnoN-1C549",
        "outputId": "e3823d93-1f40-4052-9b73-1d39d5ebf924"
      },
      "outputs": [
        {
          "name": "stdout",
          "output_type": "stream",
          "text": [
            "\n",
            "I have a hamster.\n",
            "My hamster's name is Harry.\n"
          ]
        }
      ],
      "source": [
        "def describe_pet(animal_type, pet_name):\n",
        "  \"\"\"Display information about a pet.\"\"\"\n",
        "  print(\"\\nI have a \" + animal_type + \".\")\n",
        "  print(\"My \" + animal_type + \"'s name is \" + pet_name.title() + \".\")\n",
        "\n",
        "describe_pet('hamster', 'harry')"
      ]
    },
    {
      "cell_type": "markdown",
      "metadata": {
        "id": "oukG24vbDvR3"
      },
      "source": [
        "✍️ **Task**\n",
        "\n",
        "Given a list of codons as dna sequence, write a function `look_for_codon` find the out the position of the first time the codon appears and print it.\n",
        "\n",
        "*Hint*: You can use a for-loop and and if-clause. You can just write the code in a cell to test it before building a function with parameters.\n",
        "\n",
        "The `dna_sequence` and the `codon_to_look_for` are the parameters of the function."
      ]
    },
    {
      "cell_type": "code",
      "execution_count": 2,
      "metadata": {
        "id": "5Xzp728huKF2"
      },
      "outputs": [],
      "source": [
        "dna_sequence = [\"GAG\",\"AUU\", \"GUU\", \"UUC\", \"CUC\", \"AUC\"] \n",
        "codon_to_look_for = \"GUU\""
      ]
    },
    {
      "cell_type": "code",
      "execution_count": null,
      "metadata": {},
      "outputs": [],
      "source": []
    },
    {
      "cell_type": "code",
      "execution_count": 3,
      "metadata": {
        "colab": {
          "base_uri": "https://localhost:8080/"
        },
        "id": "xhsS7HhiD7Zw",
        "outputId": "ce2e1419-95b5-4176-d49e-a13f04d852e6"
      },
      "outputs": [
        {
          "name": "stdout",
          "output_type": "stream",
          "text": [
            "Found codon GUU at position 4!\n"
          ]
        }
      ],
      "source": [
        "#@title ❓ Click `Show code` in the code cell to show the solution. { display-mode: \"form\" }\n",
        "def look_for_codon(dna_sequence, codon_to_look_for):\n",
        "  position = 1\n",
        "  for codon in dna_sequence:\n",
        "    position = position + 1\n",
        "    if codon == codon_to_look_for:\n",
        "      print(\"Found codon {} at position {}!\".format(codon_to_look_for, position))\n",
        "\n",
        "look_for_codon(dna_sequence, codon_to_look_for)"
      ]
    },
    {
      "cell_type": "markdown",
      "metadata": {
        "id": "yxDV3bruFZDu"
      },
      "source": [
        "#### Multiple Function Calls\n",
        "You can call a function as many times as needed, so it does the same thing with different parameters;"
      ]
    },
    {
      "cell_type": "code",
      "execution_count": null,
      "metadata": {
        "colab": {
          "base_uri": "https://localhost:8080/"
        },
        "id": "2KHq53ZzFXy2",
        "outputId": "fdb39451-233d-4972-f85b-a7dd81f3075b"
      },
      "outputs": [
        {
          "name": "stdout",
          "output_type": "stream",
          "text": [
            "Found codon GUU at position 4!\n",
            "Found codon CUC at position 6!\n"
          ]
        }
      ],
      "source": [
        "dna_sequence = [\"GAG\",\"AUU\", \"GUU\", \"UUC\", \"CUC\", \"AUC\"] \n",
        "\n",
        "look_for_codon(dna_sequence, \"GUU\")\n",
        "look_for_codon(dna_sequence, \"CUC\")\n"
      ]
    },
    {
      "cell_type": "markdown",
      "metadata": {
        "id": "kFajpd6TFjwf"
      },
      "source": [
        "#### Order Matters in Positional Arguments\n",
        "You can get unexpected results if you mix up the order of the arguments in\n",
        "a function call when using positional arguments:"
      ]
    },
    {
      "cell_type": "code",
      "execution_count": 4,
      "metadata": {
        "id": "LfZjSJTeFjL_"
      },
      "outputs": [],
      "source": [
        "look_for_codon(\"CUC\", dna_sequence)"
      ]
    },
    {
      "cell_type": "markdown",
      "metadata": {
        "id": "Ue84cXA6Fra3"
      },
      "source": [
        "#### Keyword Arguments\n",
        "A keyword argument is a name-value pair that you pass to a function. You\n",
        "directly associate the name and the value within the argument, so when you\n",
        "pass the argument to the function, there’s no confusion."
      ]
    },
    {
      "cell_type": "code",
      "execution_count": null,
      "metadata": {
        "colab": {
          "base_uri": "https://localhost:8080/"
        },
        "id": "js7wn4Y3EqZW",
        "outputId": "df58cf77-6509-411c-cc9e-4834298934f6"
      },
      "outputs": [
        {
          "name": "stdout",
          "output_type": "stream",
          "text": [
            "Found codon CUC at position 6!\n"
          ]
        }
      ],
      "source": [
        "look_for_codon(dna_sequence = [\"GAG\",\"AUU\", \"GUU\", \"UUC\", \"CUC\", \"AUC\"]  , codon_to_look_for = \"CUC\")"
      ]
    },
    {
      "cell_type": "code",
      "execution_count": null,
      "metadata": {
        "colab": {
          "base_uri": "https://localhost:8080/"
        },
        "id": "RP2BrQNoF0kY",
        "outputId": "33af0e58-7ae6-4e92-fb8c-9c67b881ebd1"
      },
      "outputs": [
        {
          "name": "stdout",
          "output_type": "stream",
          "text": [
            "Found codon CUC at position 6!\n"
          ]
        }
      ],
      "source": [
        "look_for_codon(codon_to_look_for = \"CUC\", dna_sequence = [\"GAG\",\"AUU\", \"GUU\", \"UUC\", \"CUC\", \"AUC\"] )"
      ]
    },
    {
      "cell_type": "markdown",
      "metadata": {
        "id": "obbng2ugGGvY"
      },
      "source": [
        "#### Avoiding Argument Errors\n",
        "\n",
        "When you start to use functions, don’t be surprised if you encounter errors\n",
        "about unmatched arguments. Unmatched arguments occur when you\n",
        "provide fewer or more arguments than a function needs to do its work.\n",
        "For example, here’s what happens if we try to call ```describe_lab``` with no\n",
        "arguments:"
      ]
    },
    {
      "cell_type": "code",
      "execution_count": null,
      "metadata": {
        "colab": {
          "base_uri": "https://localhost:8080/",
          "height": 166
        },
        "id": "B7c5ex2nGGib",
        "outputId": "9bb6d3be-095c-4a25-c304-934fbbba34d0"
      },
      "outputs": [
        {
          "ename": "TypeError",
          "evalue": "ignored",
          "output_type": "error",
          "traceback": [
            "\u001b[0;31m---------------------------------------------------------------------------\u001b[0m",
            "\u001b[0;31mTypeError\u001b[0m                                 Traceback (most recent call last)",
            "\u001b[0;32m<ipython-input-19-65c9a9d4113a>\u001b[0m in \u001b[0;36m<module>\u001b[0;34m()\u001b[0m\n\u001b[0;32m----> 1\u001b[0;31m \u001b[0mdescribe_lab\u001b[0m\u001b[0;34m(\u001b[0m\u001b[0;34m)\u001b[0m\u001b[0;34m\u001b[0m\u001b[0;34m\u001b[0m\u001b[0m\n\u001b[0m",
            "\u001b[0;31mTypeError\u001b[0m: describe_lab() missing 1 required positional argument: 'lab_name'"
          ]
        }
      ],
      "source": [
        "describe_lab()"
      ]
    },
    {
      "cell_type": "markdown",
      "metadata": {
        "id": "LUPprAfPRS-a"
      },
      "source": [
        "The traceback tells us the location of the problem, allowing us to\n",
        "look back and see that something went wrong in our function call. At 1\n",
        "the offending function call is written out for us to see. Next, the traceback tells us the call is missing an argument and reports the name of the missing\n",
        "argument (```lab_name```)."
      ]
    },
    {
      "cell_type": "markdown",
      "metadata": {
        "id": "R72ny9MxRt7T"
      },
      "source": [
        "#### Return Values\n",
        "A function doesn’t always have to display its output directly. Instead, it can\n",
        "process some data and then return a value or set of values. The value the\n",
        "function returns is called a return value. The ```return``` statement takes a value\n",
        "from inside a function and sends it back to the line that called the function.\n",
        "Return values allow you to move much of your program’s grunt work into\n",
        "functions, which can simplify the body of your program."
      ]
    },
    {
      "cell_type": "code",
      "execution_count": null,
      "metadata": {
        "colab": {
          "base_uri": "https://localhost:8080/"
        },
        "id": "Zp0LUN2qF3io",
        "outputId": "7b2fa6f2-c36b-4489-fe07-0c9cb5693a9b"
      },
      "outputs": [
        {
          "name": "stdout",
          "output_type": "stream",
          "text": [
            "Julian Huber\n"
          ]
        }
      ],
      "source": [
        "def get_formatted_name(first_name, last_name):\n",
        "  \"\"\"Return a full name, neatly formatted.\"\"\"\n",
        "  full_name = first_name + ' ' + last_name\n",
        "  return full_name.title()\n",
        "\n",
        "person_1 = get_formatted_name('Julian', 'Huber')\n",
        "print(person_1)"
      ]
    },
    {
      "cell_type": "markdown",
      "metadata": {
        "id": "zkPlL4phSNDj"
      },
      "source": [
        "##### Returning a Dictionary\n",
        "\n"
      ]
    },
    {
      "cell_type": "code",
      "execution_count": null,
      "metadata": {
        "colab": {
          "base_uri": "https://localhost:8080/"
        },
        "id": "7Bw-oX8VSC5k",
        "outputId": "6d5dfd5c-0a86-49c5-df36-4e2578f1c84b"
      },
      "outputs": [
        {
          "name": "stdout",
          "output_type": "stream",
          "text": [
            "{'first': 'Julian', 'last': 'Huber'}\n"
          ]
        }
      ],
      "source": [
        "def build_person(first_name, last_name):\n",
        "  \"\"\"Return a dictionary of information about a person.\"\"\"\n",
        "  person = {'first': first_name, 'last': last_name}\n",
        "  return person\n",
        "\n",
        "person_1 = build_person('Julian', 'Huber')\n",
        "print(person_1)"
      ]
    },
    {
      "cell_type": "markdown",
      "metadata": {
        "id": "_fi4V1-wSTdb"
      },
      "source": [
        "✍️ **Task**\n",
        "\n",
        "Write a function to build a dictionary for an experiment, that has arguments for:\n",
        "- Experiment Name\n",
        "- Date\n",
        "- Supervisor\n",
        "  - First Name\n",
        "  - Last Name\n",
        "\n",
        "The function should return a dictionary with all the information like in this example:\n",
        "\n",
        "`{'experiment_name': 'First Experiment', 'date': '22.3.2023', 'supervisors': {'first_name': 'Julian', 'last_name': 'Huber'}}`\n",
        "\n",
        "Put the supervisors first and last name in a nested dictionary within the dictionary."
      ]
    },
    {
      "cell_type": "code",
      "execution_count": null,
      "metadata": {},
      "outputs": [],
      "source": []
    },
    {
      "cell_type": "code",
      "execution_count": 7,
      "metadata": {
        "colab": {
          "base_uri": "https://localhost:8080/"
        },
        "id": "qwTwTG1rTYpj",
        "outputId": "6a40d919-713a-4b1c-b211-e70e5fb2f920"
      },
      "outputs": [
        {
          "name": "stdout",
          "output_type": "stream",
          "text": [
            "{'experiment_name': 'First Experiment', 'date': '22.3.2023', 'supervisors': {'first_name': 'Julian', 'last_name': 'Huber'}}\n"
          ]
        }
      ],
      "source": [
        "#@title ❓ Click `Show code` in the code cell to show the solution. { display-mode: \"form\" }\n",
        "\n",
        "def build_experiment(experiment_name ,date, first_name, last_name):\n",
        "    \"\"\"Return a dictionary of information about an experiment.\"\"\"\n",
        "    temp_dict = {\"experiment_name\" : experiment_name,\n",
        "            \"date\" : date,\n",
        "            \"supervisors\" :   { \"first_name\" : first_name,\n",
        "                                \"last_name\" : last_name}\n",
        "            }\n",
        "    return temp_dict\n",
        "\n",
        "experiment_1 = build_experiment(\"First Experiment\" ,\"22.3.2023\", \"Julian\", \"Huber\")\n",
        "print(experiment_1)"
      ]
    },
    {
      "cell_type": "markdown",
      "metadata": {
        "id": "4aDbj_SdwSHl"
      },
      "source": [
        "### 🏁 Recap\n",
        "\n",
        "- 🟥 If you have not finished the tasks, place the red card on top.\n",
        "- 🟩 If you have finished the tasks and have no questions and want to proceed, place the green card on top.\n",
        "- 🟨 If you have finished the tasks but would like to discuss the solutions together again, place the yellow card on top."
      ]
    },
    {
      "cell_type": "markdown",
      "metadata": {
        "id": "L75q_AJoUPWj"
      },
      "source": [
        "## 1.2.5.2 Using Functions to structure the Code\n",
        "\n",
        "Functions help  to structure your code to make it easier to understand and change. For instance, we can break up the function above to have one function to create the supervisor and another to build the experiment. "
      ]
    },
    {
      "cell_type": "code",
      "execution_count": 8,
      "metadata": {
        "colab": {
          "base_uri": "https://localhost:8080/"
        },
        "id": "u5e18uSOUAwU",
        "outputId": "673f8885-d876-4038-9df0-04824ff1b764"
      },
      "outputs": [
        {
          "name": "stdout",
          "output_type": "stream",
          "text": [
            "{'experiment_name': 'First Experiment', 'date': '22.3.2023', 'supervisors': {'first_name': 'Julian', 'last_name': 'Huber'}}\n"
          ]
        }
      ],
      "source": [
        "def build_supervisor(first_name, last_name):\n",
        "    \"\"\"Return a dictionary of information about a supervisor.\"\"\"\n",
        "    temp_dict = { \"first_name\" : first_name,\n",
        "             \"last_name\" : last_name}\n",
        "    return temp_dict\n",
        "\n",
        "def build_experiment(experiment_name ,date, supervisor):\n",
        "    \"\"\"Return a dictionary of information about an experiment.\"\"\"\n",
        "    temp_dict = {\"experiment_name\" : experiment_name,\n",
        "            \"date\" : date,\n",
        "            \"supervisors\" :   supervisor\n",
        "            }\n",
        "    return temp_dict\n",
        "\n",
        "# here we call the build_supervisor function\n",
        "supervisor_1 = build_supervisor(\"Julian\", \"Huber\")\n",
        "experiment_2 = build_experiment(\"First Experiment\" ,\"22.3.2023\", supervisor_1)\n",
        "print(experiment_2)"
      ]
    },
    {
      "cell_type": "markdown",
      "metadata": {
        "id": "TyiamK8lVldV"
      },
      "source": [
        "✍️ **Task**\n",
        "\n",
        "Adjust the function ```build_supervisor(first_name, last_name)``` to take an middle name and use it to create two experiments of which one of the supervisors has a middle name, the other does not.\n",
        "\n",
        "*Hint*: Start with the following code and add a if-clause to treat the different cases.\n",
        "\n",
        "```Python\n",
        "def build_supervisor(first_name, last_name, middle_name = \"\"):\n",
        "    \"\"\"Return a dictionary of information about a supervisor.\"\"\"\n",
        "```"
      ]
    },
    {
      "cell_type": "code",
      "execution_count": null,
      "metadata": {},
      "outputs": [],
      "source": []
    },
    {
      "cell_type": "code",
      "execution_count": 9,
      "metadata": {
        "colab": {
          "base_uri": "https://localhost:8080/"
        },
        "id": "so7-bs8oVUAS",
        "outputId": "56b64922-ca63-475c-e2f1-35ca03a83c98"
      },
      "outputs": [
        {
          "name": "stdout",
          "output_type": "stream",
          "text": [
            "{'experiment_name': 'First Experiment', 'date': '22.3.2023', 'supervisors': {'first_name': 'Julian', 'last_name': 'Huber'}}\n",
            "{'experiment_name': 'First Experiment', 'date': '22.3.2023', 'supervisors': {'first_name': 'Julian', 'middle_name': 'C.', 'last_name': 'Huber'}}\n"
          ]
        }
      ],
      "source": [
        "#@title ❓ Click `Show code` in the code cell to show the solution. { display-mode: \"form\" }\n",
        "\n",
        "def build_supervisor(first_name, last_name, middle_name = \"\"):\n",
        "    \"\"\"Return a dictionary of information about a supervisor.\"\"\"\n",
        "    if middle_name == \"\":\n",
        "      temp_dict = { \"first_name\" : first_name,\n",
        "             \"last_name\" : last_name}\n",
        "    else:\n",
        "      temp_dict = { \"first_name\" : first_name,\n",
        "              \"middle_name\" : middle_name,\n",
        "             \"last_name\" : last_name}      \n",
        "    return temp_dict\n",
        "\n",
        "\n",
        "supervisor_1 = build_supervisor(\"Julian\", \"Huber\")\n",
        "supervisor_2 = build_supervisor(\"Julian\", \"Huber\", middle_name = \"C.\" )\n",
        "\n",
        "experiment_3 = build_experiment(\"First Experiment\" ,\"22.3.2023\", supervisor_1)\n",
        "experiment_4 = build_experiment(\"First Experiment\" ,\"22.3.2023\", supervisor_2)\n",
        "\n",
        "print(experiment_3)\n",
        "print(experiment_4)"
      ]
    },
    {
      "cell_type": "markdown",
      "metadata": {
        "id": "pbzjFkZ2Xqhy"
      },
      "source": [
        "#### Passing Lists in a Function\n",
        "\n",
        "Be careful when passing lists to a function as they change the list itself even without a return statement:"
      ]
    },
    {
      "cell_type": "code",
      "execution_count": 3,
      "metadata": {
        "colab": {
          "base_uri": "https://localhost:8080/"
        },
        "id": "cQdlV1p-XWGq",
        "outputId": "af938233-b45d-4e16-cdaf-082daaee2169"
      },
      "outputs": [
        {
          "name": "stdout",
          "output_type": "stream",
          "text": [
            "[1, 'b', 'c']\n"
          ]
        }
      ],
      "source": [
        "# The original list\n",
        "my_list = [\"a\", \"b\", \"c\"]\n",
        "\n",
        "# Definition of the list\n",
        "def change_list(passed_list):\n",
        "  passed_list[0] = 1\n",
        "\n",
        "# Call of the function\n",
        "change_list(my_list)\n",
        "\n",
        "# The original list is now changed\n",
        "print(my_list)"
      ]
    },
    {
      "cell_type": "markdown",
      "metadata": {
        "id": "NylmT22TYcjF"
      },
      "source": [
        "You can prevent this behaviour by copying the list as You pass it to the function:"
      ]
    },
    {
      "cell_type": "code",
      "execution_count": 4,
      "metadata": {
        "colab": {
          "base_uri": "https://localhost:8080/"
        },
        "id": "XjZ4tIPBYbsM",
        "outputId": "0cb31a5e-5b3a-45da-c16a-758ba896597a"
      },
      "outputs": [
        {
          "name": "stdout",
          "output_type": "stream",
          "text": [
            "['a', 'b', 'c']\n"
          ]
        }
      ],
      "source": [
        "# The original list\n",
        "my_list = [\"a\", \"b\", \"c\"]\n",
        "\n",
        "# Definition of the list\n",
        "def change_list(passed_list):\n",
        "  passed_list[0] = 1\n",
        "\n",
        "# Call of the function\n",
        "change_list(my_list[:])\n",
        "\n",
        "# The original list is now changed\n",
        "print(my_list)"
      ]
    },
    {
      "cell_type": "markdown",
      "metadata": {
        "id": "L-PJOK2KwUNO"
      },
      "source": [
        "### 🏁 Recap\n",
        "\n",
        "- 🟥 If you have not finished the tasks, place the red card on top.\n",
        "- 🟩 If you have finished the tasks and have no questions and want to proceed, place the green card on top.\n",
        "- 🟨 If you have finished the tasks but would like to discuss the solutions together again, place the yellow card on top."
      ]
    },
    {
      "cell_type": "markdown",
      "metadata": {
        "id": "1ytTPxr1fBi6"
      },
      "source": [
        "##  1.2.5.3 🏆 **Task with Sakai-Submission**\n",
        "\n",
        "Break down Your simulation from last week into the distinctive functions, that take sensible parameters and return a fitting data structure.\n",
        "\n",
        "Use the functions You built to simulate the growth with the data from last week and new data.\n",
        "\n",
        "|  | Scenario 1 | Scenario 2 | Scenario ... |\n",
        "|:---:|:---:|:---:|:---:|\n",
        "| $\\epsilon$ | 1 | 10 | ... |\n",
        "| Initial population | 1 | 200 | ... |\n",
        "| Carrying capacity | 200 | 1000 | ... |\n",
        "| Growth rate | 0.1 | 0.01 | ... |\n",
        "\n",
        "```\n",
        "epsilon = 10\n",
        "initial_population_size = 200\n",
        "carrying_capacity = 1000\n",
        "growth_rate = 0.01\n",
        "```\n",
        "\n",
        "First, a function that describes the logistic growth and returns the current population size:\n",
        "```\n",
        "population_size = carrying_capacity / (1+((carrying_capacity - initial_population_size)/initial_population_size) * math.exp(- growth_rate*t))\n",
        "```\n",
        "\n",
        "\n",
        "\n",
        "Second, a function that runs the simulation until a given `epsilon` is reached and adds the results (in a dictionary) to a list of results:\n",
        "\n",
        "```\n",
        "# importing the math library\n",
        "import math\n",
        "\n",
        "\n",
        "\n",
        "\n",
        "t = 0\n",
        "epsilon = 1\n",
        "\n",
        "# here the user can define the input\n",
        "population_size = 1\n",
        "carrying_capacity = 200\n",
        "growth_rate = 0.1\n",
        "\n",
        "results = []\n",
        "\n",
        "print(\"Started simulation with the following parameters: \\n initial population size: {} \\n carrying capacity: {} \\n growth rate: {}\".format(initial_population_size, carrying_capacity, growth_rate))\n",
        "\n",
        "while population_size + epsilon  < carrying_capacity:\n",
        "\n",
        "  last_population_size = population_size\n",
        "\n",
        "  population_size = carrying_capacity / (1+((carrying_capacity - initial_population_size)/initial_population_size) * math.exp(- growth_rate*t))\n",
        "\n",
        "  growth = population_size - last_population_size\n",
        "\n",
        "  print(\"The population after {0} time steps is {1:.2f}\".format(t, population_size))\n",
        "\n",
        "  t = t + 1  \n",
        "\n",
        "  new_result = {\"Time step\" : t, \"Population size\" : population_size, \"Growth\" : growth}\n",
        "  results.append(new_result)\n",
        "```\n",
        "\n",
        "\n",
        "Last, a function that evaluates the results and prints a notification:\n",
        "```\n",
        "last_growth = 0\n",
        "\n",
        "for data_point in results:\n",
        "  growth = data_point[\"Growth\"] \n",
        "  is_current_growth_lower_than_before = (last_growth > growth)\n",
        "\n",
        "  if is_current_growth_lower_than_before:\n",
        "    print(\"Found maximum growth of {} at {}!\".format(last_data_point[\"Growth\"],last_data_point[\"Time step\"] ))\n",
        "    break\n",
        "  last_growth = data_point[\"Growth\"] \n",
        "  last_data_point = data_point\n",
        "```"
      ]
    },
    {
      "cell_type": "code",
      "execution_count": null,
      "metadata": {},
      "outputs": [],
      "source": []
    },
    {
      "cell_type": "code",
      "execution_count": null,
      "metadata": {},
      "outputs": [],
      "source": []
    },
    {
      "cell_type": "code",
      "execution_count": 14,
      "metadata": {
        "id": "UXrn7tc5bUO5"
      },
      "outputs": [],
      "source": []
    },
    {
      "cell_type": "code",
      "execution_count": 15,
      "metadata": {
        "id": "Tkz-mRTkiOvu"
      },
      "outputs": [],
      "source": []
    },
    {
      "cell_type": "code",
      "execution_count": 16,
      "metadata": {
        "id": "WGs_JfT2jUzE"
      },
      "outputs": [],
      "source": [
        "\n",
        "  "
      ]
    },
    {
      "cell_type": "code",
      "execution_count": 19,
      "metadata": {
        "colab": {
          "base_uri": "https://localhost:8080/"
        },
        "id": "VJNaLJ1jiZ9G",
        "outputId": "ac59ed03-dc95-4a33-b3ef-8aa2566302e7"
      },
      "outputs": [
        {
          "name": "stdout",
          "output_type": "stream",
          "text": [
            "Started simulation with the following parameters: \n",
            " initial population size: 1 \n",
            " carrying capacity: 200 \n",
            " growth rate: 0.1\n",
            "The population after 0 time steps is 100.00\n",
            "The population after 1 time steps is 125.87\n",
            "The population after 2 time steps is 148.49\n",
            "The population after 3 time steps is 166.07\n",
            "The population after 4 time steps is 178.52\n",
            "The population after 5 time steps is 186.76\n",
            "The population after 6 time steps is 191.98\n",
            "The population after 7 time steps is 195.20\n",
            "The population after 8 time steps is 197.14\n",
            "The population after 9 time steps is 198.31\n",
            "The population after 10 time steps is 199.00\n",
            "Found maximum growth of 99.00 at 1!\n"
          ]
        }
      ],
      "source": [
        "#@title ❓ Click `Show code` in the code cell to show the solution. { display-mode: \"form\" }\n",
        "\n",
        "from solutionsfop import carry_out_simulation, find_highest_growth\n",
        "\n",
        "epsilon = 1\n",
        "initial_population_size = 1\n",
        "carrying_capacity = 200\n",
        "growth_rate = 0.1\n",
        "\n",
        "results = carry_out_simulation(epsilon, carrying_capacity, initial_population_size, growth_rate)\n",
        "find_highest_growth(results)\n"
      ]
    },
    {
      "cell_type": "code",
      "execution_count": 18,
      "metadata": {
        "colab": {
          "base_uri": "https://localhost:8080/"
        },
        "id": "ln3gV3iBi3dE",
        "outputId": "ed8c6ffa-bfb9-4007-aa85-bf2993ba1dd7"
      },
      "outputs": [
        {
          "name": "stdout",
          "output_type": "stream",
          "text": [
            "Started simulation with the following parameters: \n",
            " initial population size: 200 \n",
            " carrying capacity: 1000 \n",
            " growth rate: 0.01\n",
            "The population after 0 time steps is 500.00\n",
            "The population after 1 time steps is 503.47\n",
            "The population after 2 time steps is 506.93\n",
            "The population after 3 time steps is 510.40\n",
            "The population after 4 time steps is 513.86\n",
            "The population after 5 time steps is 517.32\n",
            "The population after 6 time steps is 520.78\n",
            "The population after 7 time steps is 524.24\n",
            "The population after 8 time steps is 527.70\n",
            "The population after 9 time steps is 531.15\n",
            "The population after 10 time steps is 534.60\n",
            "The population after 11 time steps is 538.05\n",
            "The population after 12 time steps is 541.49\n",
            "The population after 13 time steps is 544.93\n",
            "The population after 14 time steps is 548.37\n",
            "The population after 15 time steps is 551.80\n",
            "The population after 16 time steps is 555.23\n",
            "The population after 17 time steps is 558.65\n",
            "The population after 18 time steps is 562.06\n",
            "The population after 19 time steps is 565.47\n",
            "The population after 20 time steps is 568.87\n",
            "The population after 21 time steps is 572.27\n",
            "The population after 22 time steps is 575.66\n",
            "The population after 23 time steps is 579.04\n",
            "The population after 24 time steps is 582.42\n",
            "The population after 25 time steps is 585.79\n",
            "The population after 26 time steps is 589.15\n",
            "The population after 27 time steps is 592.50\n",
            "The population after 28 time steps is 595.84\n",
            "The population after 29 time steps is 599.17\n",
            "The population after 30 time steps is 602.50\n",
            "The population after 31 time steps is 605.81\n",
            "The population after 32 time steps is 609.12\n",
            "The population after 33 time steps is 612.42\n",
            "The population after 34 time steps is 615.70\n",
            "The population after 35 time steps is 618.98\n",
            "The population after 36 time steps is 622.24\n",
            "The population after 37 time steps is 625.49\n",
            "The population after 38 time steps is 628.73\n",
            "The population after 39 time steps is 631.96\n",
            "The population after 40 time steps is 635.18\n",
            "The population after 41 time steps is 638.39\n",
            "The population after 42 time steps is 641.58\n",
            "The population after 43 time steps is 644.77\n",
            "The population after 44 time steps is 647.93\n",
            "The population after 45 time steps is 651.09\n",
            "The population after 46 time steps is 654.23\n",
            "The population after 47 time steps is 657.36\n",
            "The population after 48 time steps is 660.48\n",
            "The population after 49 time steps is 663.58\n",
            "The population after 50 time steps is 666.67\n",
            "The population after 51 time steps is 669.74\n",
            "The population after 52 time steps is 672.80\n",
            "The population after 53 time steps is 675.84\n",
            "The population after 54 time steps is 678.87\n",
            "The population after 55 time steps is 681.89\n",
            "The population after 56 time steps is 684.89\n",
            "The population after 57 time steps is 687.87\n",
            "The population after 58 time steps is 690.84\n",
            "The population after 59 time steps is 693.79\n",
            "The population after 60 time steps is 696.73\n",
            "The population after 61 time steps is 699.65\n",
            "The population after 62 time steps is 702.56\n",
            "The population after 63 time steps is 705.45\n",
            "The population after 64 time steps is 708.32\n",
            "The population after 65 time steps is 711.17\n",
            "The population after 66 time steps is 714.01\n",
            "The population after 67 time steps is 716.84\n",
            "The population after 68 time steps is 719.64\n",
            "The population after 69 time steps is 722.43\n",
            "The population after 70 time steps is 725.20\n",
            "The population after 71 time steps is 727.95\n",
            "The population after 72 time steps is 730.69\n",
            "The population after 73 time steps is 733.41\n",
            "The population after 74 time steps is 736.11\n",
            "The population after 75 time steps is 738.80\n",
            "The population after 76 time steps is 741.46\n",
            "The population after 77 time steps is 744.11\n",
            "The population after 78 time steps is 746.74\n",
            "The population after 79 time steps is 749.35\n",
            "The population after 80 time steps is 751.95\n",
            "The population after 81 time steps is 754.53\n",
            "The population after 82 time steps is 757.08\n",
            "The population after 83 time steps is 759.62\n",
            "The population after 84 time steps is 762.15\n",
            "The population after 85 time steps is 764.65\n",
            "The population after 86 time steps is 767.14\n",
            "The population after 87 time steps is 769.60\n",
            "The population after 88 time steps is 772.05\n",
            "The population after 89 time steps is 774.48\n",
            "The population after 90 time steps is 776.90\n",
            "The population after 91 time steps is 779.29\n",
            "The population after 92 time steps is 781.66\n",
            "The population after 93 time steps is 784.02\n",
            "The population after 94 time steps is 786.36\n",
            "The population after 95 time steps is 788.68\n",
            "The population after 96 time steps is 790.98\n",
            "The population after 97 time steps is 793.26\n",
            "The population after 98 time steps is 795.53\n",
            "The population after 99 time steps is 797.77\n",
            "The population after 100 time steps is 800.00\n",
            "The population after 101 time steps is 802.21\n",
            "The population after 102 time steps is 804.40\n",
            "The population after 103 time steps is 806.57\n",
            "The population after 104 time steps is 808.72\n",
            "The population after 105 time steps is 810.86\n",
            "The population after 106 time steps is 812.98\n",
            "The population after 107 time steps is 815.08\n",
            "The population after 108 time steps is 817.16\n",
            "The population after 109 time steps is 819.22\n",
            "The population after 110 time steps is 821.26\n",
            "The population after 111 time steps is 823.29\n",
            "The population after 112 time steps is 825.30\n",
            "The population after 113 time steps is 827.29\n",
            "The population after 114 time steps is 829.26\n",
            "The population after 115 time steps is 831.21\n",
            "The population after 116 time steps is 833.15\n",
            "The population after 117 time steps is 835.07\n",
            "The population after 118 time steps is 836.97\n",
            "The population after 119 time steps is 838.85\n",
            "The population after 120 time steps is 840.71\n",
            "The population after 121 time steps is 842.56\n",
            "The population after 122 time steps is 844.39\n",
            "The population after 123 time steps is 846.21\n",
            "The population after 124 time steps is 848.00\n",
            "The population after 125 time steps is 849.78\n",
            "The population after 126 time steps is 851.54\n",
            "The population after 127 time steps is 853.28\n",
            "The population after 128 time steps is 855.01\n",
            "The population after 129 time steps is 856.72\n",
            "The population after 130 time steps is 858.41\n",
            "The population after 131 time steps is 860.09\n",
            "The population after 132 time steps is 861.75\n",
            "The population after 133 time steps is 863.39\n",
            "The population after 134 time steps is 865.02\n",
            "The population after 135 time steps is 866.63\n",
            "The population after 136 time steps is 868.23\n",
            "The population after 137 time steps is 869.80\n",
            "The population after 138 time steps is 871.37\n",
            "The population after 139 time steps is 872.91\n",
            "The population after 140 time steps is 874.44\n",
            "The population after 141 time steps is 875.96\n",
            "The population after 142 time steps is 877.45\n",
            "The population after 143 time steps is 878.94\n",
            "The population after 144 time steps is 880.40\n",
            "The population after 145 time steps is 881.86\n",
            "The population after 146 time steps is 883.29\n",
            "The population after 147 time steps is 884.71\n",
            "The population after 148 time steps is 886.12\n",
            "The population after 149 time steps is 887.51\n",
            "The population after 150 time steps is 888.89\n",
            "The population after 151 time steps is 890.25\n",
            "The population after 152 time steps is 891.60\n",
            "The population after 153 time steps is 892.93\n",
            "The population after 154 time steps is 894.25\n",
            "The population after 155 time steps is 895.55\n",
            "The population after 156 time steps is 896.84\n",
            "The population after 157 time steps is 898.12\n",
            "The population after 158 time steps is 899.38\n",
            "The population after 159 time steps is 900.63\n",
            "The population after 160 time steps is 901.86\n",
            "The population after 161 time steps is 903.08\n",
            "The population after 162 time steps is 904.29\n",
            "The population after 163 time steps is 905.48\n",
            "The population after 164 time steps is 906.66\n",
            "The population after 165 time steps is 907.83\n",
            "The population after 166 time steps is 908.98\n",
            "The population after 167 time steps is 910.12\n",
            "The population after 168 time steps is 911.25\n",
            "The population after 169 time steps is 912.36\n",
            "The population after 170 time steps is 913.47\n",
            "The population after 171 time steps is 914.55\n",
            "The population after 172 time steps is 915.63\n",
            "The population after 173 time steps is 916.70\n",
            "The population after 174 time steps is 917.75\n",
            "The population after 175 time steps is 918.79\n",
            "The population after 176 time steps is 919.82\n",
            "The population after 177 time steps is 920.83\n",
            "The population after 178 time steps is 921.84\n",
            "The population after 179 time steps is 922.83\n",
            "The population after 180 time steps is 923.81\n",
            "The population after 181 time steps is 924.78\n",
            "The population after 182 time steps is 925.74\n",
            "The population after 183 time steps is 926.69\n",
            "The population after 184 time steps is 927.63\n",
            "The population after 185 time steps is 928.55\n",
            "The population after 186 time steps is 929.47\n",
            "The population after 187 time steps is 930.37\n",
            "The population after 188 time steps is 931.26\n",
            "The population after 189 time steps is 932.14\n",
            "The population after 190 time steps is 933.02\n",
            "The population after 191 time steps is 933.88\n",
            "The population after 192 time steps is 934.73\n",
            "The population after 193 time steps is 935.57\n",
            "The population after 194 time steps is 936.40\n",
            "The population after 195 time steps is 937.22\n",
            "The population after 196 time steps is 938.03\n",
            "The population after 197 time steps is 938.83\n",
            "The population after 198 time steps is 939.62\n",
            "The population after 199 time steps is 940.40\n",
            "The population after 200 time steps is 941.18\n",
            "The population after 201 time steps is 941.94\n",
            "The population after 202 time steps is 942.69\n",
            "The population after 203 time steps is 943.44\n",
            "The population after 204 time steps is 944.17\n",
            "The population after 205 time steps is 944.90\n",
            "The population after 206 time steps is 945.62\n",
            "The population after 207 time steps is 946.32\n",
            "The population after 208 time steps is 947.02\n",
            "The population after 209 time steps is 947.72\n",
            "The population after 210 time steps is 948.40\n",
            "The population after 211 time steps is 949.07\n",
            "The population after 212 time steps is 949.74\n",
            "The population after 213 time steps is 950.40\n",
            "The population after 214 time steps is 951.05\n",
            "The population after 215 time steps is 951.69\n",
            "The population after 216 time steps is 952.32\n",
            "The population after 217 time steps is 952.95\n",
            "The population after 218 time steps is 953.56\n",
            "The population after 219 time steps is 954.17\n",
            "The population after 220 time steps is 954.78\n",
            "The population after 221 time steps is 955.37\n",
            "The population after 222 time steps is 955.96\n",
            "The population after 223 time steps is 956.54\n",
            "The population after 224 time steps is 957.11\n",
            "The population after 225 time steps is 957.68\n",
            "The population after 226 time steps is 958.23\n",
            "The population after 227 time steps is 958.79\n",
            "The population after 228 time steps is 959.33\n",
            "The population after 229 time steps is 959.87\n",
            "The population after 230 time steps is 960.40\n",
            "The population after 231 time steps is 960.92\n",
            "The population after 232 time steps is 961.44\n",
            "The population after 233 time steps is 961.95\n",
            "The population after 234 time steps is 962.45\n",
            "The population after 235 time steps is 962.95\n",
            "The population after 236 time steps is 963.44\n",
            "The population after 237 time steps is 963.93\n",
            "The population after 238 time steps is 964.41\n",
            "The population after 239 time steps is 964.88\n",
            "The population after 240 time steps is 965.35\n",
            "The population after 241 time steps is 965.81\n",
            "The population after 242 time steps is 966.26\n",
            "The population after 243 time steps is 966.71\n",
            "The population after 244 time steps is 967.15\n",
            "The population after 245 time steps is 967.59\n",
            "The population after 246 time steps is 968.02\n",
            "The population after 247 time steps is 968.45\n",
            "The population after 248 time steps is 968.87\n",
            "The population after 249 time steps is 969.29\n",
            "The population after 250 time steps is 969.70\n",
            "The population after 251 time steps is 970.10\n",
            "The population after 252 time steps is 970.50\n",
            "The population after 253 time steps is 970.90\n",
            "The population after 254 time steps is 971.28\n",
            "The population after 255 time steps is 971.67\n",
            "The population after 256 time steps is 972.05\n",
            "The population after 257 time steps is 972.42\n",
            "The population after 258 time steps is 972.79\n",
            "The population after 259 time steps is 973.16\n",
            "The population after 260 time steps is 973.52\n",
            "The population after 261 time steps is 973.87\n",
            "The population after 262 time steps is 974.22\n",
            "The population after 263 time steps is 974.57\n",
            "The population after 264 time steps is 974.91\n",
            "The population after 265 time steps is 975.25\n",
            "The population after 266 time steps is 975.58\n",
            "The population after 267 time steps is 975.91\n",
            "The population after 268 time steps is 976.23\n",
            "The population after 269 time steps is 976.55\n",
            "The population after 270 time steps is 976.86\n",
            "The population after 271 time steps is 977.18\n",
            "The population after 272 time steps is 977.48\n",
            "The population after 273 time steps is 977.79\n",
            "The population after 274 time steps is 978.09\n",
            "The population after 275 time steps is 978.38\n",
            "The population after 276 time steps is 978.67\n",
            "The population after 277 time steps is 978.96\n",
            "The population after 278 time steps is 979.24\n",
            "The population after 279 time steps is 979.52\n",
            "The population after 280 time steps is 979.80\n",
            "The population after 281 time steps is 980.07\n",
            "The population after 282 time steps is 980.34\n",
            "The population after 283 time steps is 980.61\n",
            "The population after 284 time steps is 980.87\n",
            "The population after 285 time steps is 981.13\n",
            "The population after 286 time steps is 981.38\n",
            "The population after 287 time steps is 981.63\n",
            "The population after 288 time steps is 981.88\n",
            "The population after 289 time steps is 982.13\n",
            "The population after 290 time steps is 982.37\n",
            "The population after 291 time steps is 982.61\n",
            "The population after 292 time steps is 982.84\n",
            "The population after 293 time steps is 983.07\n",
            "The population after 294 time steps is 983.30\n",
            "The population after 295 time steps is 983.53\n",
            "The population after 296 time steps is 983.75\n",
            "The population after 297 time steps is 983.97\n",
            "The population after 298 time steps is 984.19\n",
            "The population after 299 time steps is 984.40\n",
            "The population after 300 time steps is 984.62\n",
            "The population after 301 time steps is 984.82\n",
            "The population after 302 time steps is 985.03\n",
            "The population after 303 time steps is 985.23\n",
            "The population after 304 time steps is 985.43\n",
            "The population after 305 time steps is 985.63\n",
            "The population after 306 time steps is 985.83\n",
            "The population after 307 time steps is 986.02\n",
            "The population after 308 time steps is 986.21\n",
            "The population after 309 time steps is 986.40\n",
            "The population after 310 time steps is 986.58\n",
            "The population after 311 time steps is 986.76\n",
            "The population after 312 time steps is 986.94\n",
            "The population after 313 time steps is 987.12\n",
            "The population after 314 time steps is 987.29\n",
            "The population after 315 time steps is 987.47\n",
            "The population after 316 time steps is 987.64\n",
            "The population after 317 time steps is 987.81\n",
            "The population after 318 time steps is 987.97\n",
            "The population after 319 time steps is 988.14\n",
            "The population after 320 time steps is 988.30\n",
            "The population after 321 time steps is 988.46\n",
            "The population after 322 time steps is 988.61\n",
            "The population after 323 time steps is 988.77\n",
            "The population after 324 time steps is 988.92\n",
            "The population after 325 time steps is 989.07\n",
            "The population after 326 time steps is 989.22\n",
            "The population after 327 time steps is 989.37\n",
            "The population after 328 time steps is 989.51\n",
            "The population after 329 time steps is 989.66\n",
            "The population after 330 time steps is 989.80\n",
            "The population after 331 time steps is 989.94\n",
            "The population after 332 time steps is 990.07\n",
            "Found maximum growth of 300.00 at 1!\n"
          ]
        }
      ],
      "source": [
        "#@title ❓ Click `Show code` in the code cell to show the solution. { display-mode: \"form\" }\n",
        "\n",
        "epsilon = 10\n",
        "initial_population_size = 200\n",
        "carrying_capacity = 1000\n",
        "growth_rate = 0.01\n",
        "\n",
        "results = carry_out_simulation(epsilon, carrying_capacity, initial_population_size, growth_rate)\n",
        "find_highest_growth(results)\n"
      ]
    },
    {
      "cell_type": "markdown",
      "metadata": {
        "id": "FI30IJ77wV1g"
      },
      "source": [
        "### 🏁 Recap\n",
        "\n",
        "- 🟥 If you have not finished the tasks, place the red card on top.\n",
        "- 🟩 If you have finished the tasks and have no questions and want to proceed, place the green card on top.\n",
        "- 🟨 If you have finished the tasks but would like to discuss the solutions together again, place the yellow card on top."
      ]
    },
    {
      "cell_type": "markdown",
      "metadata": {},
      "source": [
        "## Appendix"
      ]
    },
    {
      "cell_type": "markdown",
      "metadata": {
        "id": "VVQyuc2xF_-Q"
      },
      "source": [
        "#### 🤓 Default Values\n",
        "\n",
        "When writing a function, you can define a default value for each parameter.\n",
        "If an argument for a parameter is provided in the function call, Python uses\n",
        "the argument value. If not, it uses the parameter’s default value. So when\n",
        "you define a default value for a parameter, you can exclude the corresponding\n",
        "argument you’d usually write in the function call. Using default values\n",
        "can simplify your function calls and clarify the ways in which your functions\n",
        "are typically used."
      ]
    },
    {
      "cell_type": "code",
      "execution_count": null,
      "metadata": {
        "colab": {
          "base_uri": "https://localhost:8080/"
        },
        "id": "fOve03CdF6BQ",
        "outputId": "191883f2-4ff8-4a0e-d8dc-6bbcc6d0382e"
      },
      "outputs": [
        {
          "name": "stdout",
          "output_type": "stream",
          "text": [
            "The Chemistry is supervised by Alex\n",
            "The IT is supervised by Julian\n"
          ]
        }
      ],
      "source": [
        "def describe_lab(lab_name, lab_supervisor='Alex'):\n",
        "  \"\"\"Display information about a lab.\"\"\"\n",
        "  print(\"The {} is supervised by {}\".format(lab_name, lab_supervisor))\n",
        "\n",
        "describe_lab(lab_name='Chemistry')\n",
        "describe_lab(lab_name='IT', lab_supervisor = 'Julian')"
      ]
    },
    {
      "cell_type": "markdown",
      "metadata": {
        "id": "8ZTP1Rt5V1wn"
      },
      "source": [
        "#### 🤓 Making an Argument Optional\n",
        "\n",
        "Sometimes it makes sense to make an argument optional so that people\n",
        "using the function can choose to provide extra information only if they\n",
        "want to. You can use default values to make an argument optional.\n",
        "\n"
      ]
    },
    {
      "cell_type": "code",
      "execution_count": null,
      "metadata": {
        "colab": {
          "base_uri": "https://localhost:8080/"
        },
        "id": "Fa1GVJSHV9DE",
        "outputId": "60365a54-d056-4f8a-fc87-91d8c04d4e0e"
      },
      "outputs": [
        {
          "name": "stdout",
          "output_type": "stream",
          "text": [
            "The Chemistry lab is supervised by Alex\n",
            "The IT lab is supervised by Julian\n",
            "The IT lab is supervised by Julian\n"
          ]
        }
      ],
      "source": [
        "def describe_lab(lab_name, lab_supervisor = 'Alex', room_number = ''):\n",
        "  \"\"\"Display information about a lab.\"\"\"\n",
        "  print(\"The {} lab is supervised by {}\".format(lab_name, lab_supervisor))\n",
        "\n",
        "describe_lab(lab_name='Chemistry')\n",
        "describe_lab(lab_name='IT', lab_supervisor = 'Julian')\n",
        "describe_lab(lab_name='IT', lab_supervisor = 'Julian', room_number = 2)"
      ]
    },
    {
      "cell_type": "markdown",
      "metadata": {
        "id": "nxfDMJO1Y0Hk"
      },
      "source": [
        "### 🤓 Passing an Arbitrary Number of Arguments\n",
        "\n",
        "Sometimes you won’t know ahead of time how many arguments a function\n",
        "needs to accept. Fortunately, Python allows a function to collect an arbitrary\n",
        "number of arguments from the calling statement.\n"
      ]
    },
    {
      "cell_type": "code",
      "execution_count": null,
      "metadata": {
        "colab": {
          "base_uri": "https://localhost:8080/"
        },
        "id": "wliA61baYDLj",
        "outputId": "68b95389-b2bc-4107-f1d1-8ee053aadf43"
      },
      "outputs": [
        {
          "name": "stdout",
          "output_type": "stream",
          "text": [
            "('A', 'G', 'T')\n",
            "('A', 'G', 'T', 'C')\n"
          ]
        }
      ],
      "source": [
        "def make_dna_sequence(*nucleotides):\n",
        "  \"\"\"Print the list of nucleotides that have been given.\"\"\"\n",
        "  print(nucleotides)\n",
        "\n",
        "make_dna_sequence(\"A\",\"G\",\"T\")\n",
        "make_dna_sequence(\"A\",\"G\",\"T\",\"C\")"
      ]
    },
    {
      "cell_type": "markdown",
      "metadata": {
        "id": "0WrydTciZOYD"
      },
      "source": [
        "### 🤓 Mixing Positional and Arbitrary Arguments\n",
        "If you want a function to accept several different kinds of arguments, the\n",
        "parameter that accepts an arbitrary number of arguments must be placed\n",
        "last in the function definition. Python matches positional and keyword\n",
        "arguments first and then collects any remaining arguments in the final\n",
        "parameter.\n",
        "For example, if the function needs to take in the name of the organism the sequence stems from, that parameter must come before the parameter *nucleotides:"
      ]
    },
    {
      "cell_type": "code",
      "execution_count": null,
      "metadata": {
        "colab": {
          "base_uri": "https://localhost:8080/"
        },
        "id": "94hGSCqCZRPO",
        "outputId": "8c6a7f74-c5fe-4dd1-e7d1-e0851c302629"
      },
      "outputs": [
        {
          "name": "stdout",
          "output_type": "stream",
          "text": [
            "E. Coli -- ('A', 'G', 'T')\n"
          ]
        }
      ],
      "source": [
        "def make_dna_sequence(organism, *nucleotides):\n",
        "  \"\"\"Print the list of nucleotides that have been given.\"\"\"\n",
        "  print(organism + \" -- \" + str(nucleotides))\n",
        "\n",
        "make_dna_sequence(\"E. Coli\",\"A\",\"G\",\"T\")"
      ]
    },
    {
      "cell_type": "markdown",
      "metadata": {
        "id": "IkORHY-SZekL"
      },
      "source": [
        "### 🤓 Using Arbitrary Keyword Arguments\n",
        "Sometimes you’ll want to accept an arbitrary number of arguments, but you\n",
        "won’t know ahead of time what kind of information will be passed to the\n",
        "function. In this case, you can write functions that accept as many key-value\n",
        "pairs as the calling statement provides. One example involves building user\n",
        "profiles: you know you’ll get information about a user, but you’re not sure\n",
        "what kind of information you’ll receive. The function build_profile() in the following example always takes in a first and last name, but it accepts an\n",
        "arbitrary number of keyword arguments as well:"
      ]
    },
    {
      "cell_type": "code",
      "execution_count": null,
      "metadata": {
        "colab": {
          "base_uri": "https://localhost:8080/"
        },
        "id": "2-5JeJnCZXKi",
        "outputId": "5eb7447e-0db2-4502-97fd-5d5464dd8c55"
      },
      "outputs": [
        {
          "name": "stdout",
          "output_type": "stream",
          "text": [
            "{'first_name': 'albert', 'last_name': 'einstein', 'location': 'princeton', 'field': 'physics'}\n"
          ]
        }
      ],
      "source": [
        "def build_profile(first, last, **user_info):\n",
        "  \"\"\"Build a dictionary containing everything we know about a user.\"\"\"\n",
        "  profile = {}\n",
        "  profile['first_name'] = first\n",
        "  profile['last_name'] = last\n",
        "  for key, value in user_info.items():\n",
        "    profile[key] = value\n",
        "  return profile\n",
        "\n",
        "user_profile = build_profile('albert', 'einstein',\n",
        "location='princeton',\n",
        "field='physics')\n",
        "print(user_profile)"
      ]
    }
  ],
  "metadata": {
    "colab": {
      "collapsed_sections": [],
      "provenance": [],
      "toc_visible": true
    },
    "kernelspec": {
      "display_name": "Python 3.10.11 64-bit (microsoft store)",
      "language": "python",
      "name": "python3"
    },
    "language_info": {
      "codemirror_mode": {
        "name": "ipython",
        "version": 3
      },
      "file_extension": ".py",
      "mimetype": "text/x-python",
      "name": "python",
      "nbconvert_exporter": "python",
      "pygments_lexer": "ipython3",
      "version": "3.10.11"
    },
    "vscode": {
      "interpreter": {
        "hash": "62c9f9b6c66864edd5299c8c6bca8c476f7af6985c4212f8d17f753b35884d59"
      }
    }
  },
  "nbformat": 4,
  "nbformat_minor": 0
}

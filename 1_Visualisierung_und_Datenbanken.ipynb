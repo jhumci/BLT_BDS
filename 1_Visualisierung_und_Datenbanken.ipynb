{
  "cells": [
    {
      "cell_type": "markdown",
      "metadata": {
        "id": "pfUIjtgVH7mo"
      },
      "source": [
        "<table style=\"width: 100%\">\n",
        "    <tr style=\"background: #ffffff\">\n",
        "        <td style=\"padding-top:25px;width: 180px\"><img src=\"https://mci.edu/templates/mci/images/logo.svg\" alt=\"Logo\"></td>\n",
        "        <td style=\"width: 100%\">\n",
        "            <div style=\"text-align:right; width: 100%; text-align:right\"><font style=\"font-size:38px\"><b>Visualisierung und Datenbanken</b></font></div>\n",
        "            <div style=\"padding-top:0px; width: 100%; text-align:right\"><font size=\"4\"><b>WS 2022</b></font></div>\n",
        "        </td>\n",
        "    </tr>\n",
        "</table>\n",
        "\n",
        "---\n",
        "\n",
        "# 1 Working tabular data with pandas\n",
        "\n",
        "\n",
        "For many applications You will not have to write complex algorithms and manipulate arrays, but You will work with tabular data. However, today many data sets are to large, the handle them with MS Excel or similar programs. Here, the Python pandas packages comes in handy and allows You the work with tables very efficiently.\n"
      ]
    },
    {
      "cell_type": "markdown",
      "metadata": {},
      "source": [
        "# 1.1 The pandas DataFrame\n",
        "\n",
        "Pandas is an open-source library that is built on top of NumPy library. It is a Python package that offers various data structures and operations for manipulating numerical data and time series. It is mainly popular for importing and analyzing data much easier. [source](https://www.geeksforgeeks.org/pandas-tutorial/?ref=lbp)\n",
        "\n",
        "\n",
        "\n",
        "After the pandas have been installed into the system, you need to import the library. This module is generally imported as:"
      ]
    },
    {
      "cell_type": "code",
      "execution_count": 29,
      "metadata": {
        "id": "57vPq7vIH7J8"
      },
      "outputs": [],
      "source": [
        "import pandas as pd"
      ]
    },
    {
      "cell_type": "markdown",
      "metadata": {
        "id": "gUOeUoawiolB"
      },
      "source": [
        "## Data Stuctures \n",
        "\n",
        "Pandas generally provide two data structures for manipulating data, They are: \n",
        "\n",
        "- Series\n",
        "- DataFrame\n",
        "\n"
      ]
    },
    {
      "cell_type": "markdown",
      "metadata": {
        "id": "_oe3rTsDi2OY"
      },
      "source": [
        "### Series\n",
        "\n",
        "A Pandas Series is a one-dimensional labeled array capable of holding data of any type (integer, string, float, python objects, etc.). The axis labels are collectively called indexes. Pandas Series is nothing but a column in an excel sheet. Labels need not be unique but must be a hashable type. The object supports both integer and label-based indexing and provides a host of methods for performing operations involving the index."
      ]
    },
    {
      "cell_type": "code",
      "execution_count": 30,
      "metadata": {
        "colab": {
          "base_uri": "https://localhost:8080/"
        },
        "id": "jm8lEpHfi1xf",
        "outputId": "c63015c2-2246-4559-89a6-ecb50e4e8569"
      },
      "outputs": [
        {
          "name": "stdout",
          "output_type": "stream",
          "text": [
            "Series([], dtype: float64)\n",
            "0    A\n",
            "1    C\n",
            "2    G\n",
            "3    T\n",
            "4    A\n",
            "dtype: object\n"
          ]
        },
        {
          "name": "stderr",
          "output_type": "stream",
          "text": [
            "<ipython-input-30-05cf0738adb5>:6: DeprecationWarning: The default dtype for empty Series will be 'object' instead of 'float64' in a future version. Specify a dtype explicitly to silence this warning.\n",
            "  ser = pd.Series()\n"
          ]
        }
      ],
      "source": [
        "import pandas as pd\n",
        "import numpy as np\n",
        " \n",
        " \n",
        "# Creating empty series\n",
        "ser = pd.Series()\n",
        "   \n",
        "print(ser)\n",
        " \n",
        "# simple array\n",
        "data = np.array(['A', 'C', 'G', 'T', 'A'])\n",
        "\n",
        "# Creating a series from an array   \n",
        "ser = pd.Series(data)\n",
        "print(ser)"
      ]
    },
    {
      "cell_type": "markdown",
      "metadata": {
        "id": "F9hwsqIeQGCW"
      },
      "source": [
        "You see two columns of the series. Left, the index is counting up starting at 0. On the right the values are stored.\n",
        "\n",
        "While the values are not all unique:"
      ]
    },
    {
      "cell_type": "code",
      "execution_count": 31,
      "metadata": {
        "colab": {
          "base_uri": "https://localhost:8080/"
        },
        "id": "TKtQYRVtP77y",
        "outputId": "462e7649-6adf-4af4-bc0c-5237eaae6d7f"
      },
      "outputs": [
        {
          "data": {
            "text/plain": [
              "array(['A', 'C', 'G', 'T'], dtype=object)"
            ]
          },
          "execution_count": 31,
          "metadata": {},
          "output_type": "execute_result"
        }
      ],
      "source": [
        "ser.unique()"
      ]
    },
    {
      "cell_type": "markdown",
      "metadata": {
        "id": "-yRh_NoVQPP3"
      },
      "source": [
        "Each value in the index of the series is unique, as is a number in the range from 0 to 5."
      ]
    },
    {
      "cell_type": "code",
      "execution_count": 32,
      "metadata": {
        "colab": {
          "base_uri": "https://localhost:8080/"
        },
        "id": "TFqJEgwNQCU4",
        "outputId": "28ff3777-ed4c-4d6b-e6e2-e70cb1f18af5"
      },
      "outputs": [
        {
          "data": {
            "text/plain": [
              "RangeIndex(start=0, stop=5, step=1)"
            ]
          },
          "execution_count": 32,
          "metadata": {},
          "output_type": "execute_result"
        }
      ],
      "source": [
        "ser.index.unique()"
      ]
    },
    {
      "cell_type": "markdown",
      "metadata": {
        "id": "boMjFedzjCp4"
      },
      "source": [
        "### DataFrame\n",
        "Pandas DataFrame is a two-dimensional size-mutable, potentially heterogeneous tabular data structure with labeled axes (rows and columns). A Data frame is a two-dimensional data structure, i.e., data is aligned in a tabular fashion in rows and columns. Pandas DataFrame consists of three principal components, the data, rows, and columns.\n",
        "\n",
        "![](https://media.geeksforgeeks.org/wp-content/uploads/20200225170602/pandas-dataframe.png)"
      ]
    },
    {
      "cell_type": "markdown",
      "metadata": {
        "id": "VXJnOTsWkcG8"
      },
      "source": [
        "Data frames can be created from dictionaries. The keys are the variable names, while the column data is passed as list in the dictionaries' value.\n",
        "\n",
        "A dataframe is basically a collection of series (here, one for age and one for name), where a single observation shares the same index."
      ]
    },
    {
      "cell_type": "code",
      "execution_count": 33,
      "metadata": {
        "colab": {
          "base_uri": "https://localhost:8080/"
        },
        "id": "Ts5F5KVwjRfq",
        "outputId": "16b31185-22a0-4597-8260-9746340216db"
      },
      "outputs": [
        {
          "name": "stdout",
          "output_type": "stream",
          "text": [
            "    Name  Age\n",
            "0    Tom   20\n",
            "1   nick   21\n",
            "2  krish   19\n",
            "3   jack   18\n"
          ]
        }
      ],
      "source": [
        "# Python code demonstrate creating \n",
        "# DataFrame from dict ndarray / lists \n",
        "# By default addresses.\n",
        " \n",
        "import pandas as pd\n",
        " \n",
        "# initialise data of lists.\n",
        "data = {'Name':['Tom', 'nick', 'krish', 'jack'],\n",
        "        'Age':[20, 21, 19, 18]}\n",
        " \n",
        "# Create DataFrame\n",
        "df = pd.DataFrame(data)\n",
        " \n",
        "# Print the output.\n",
        "print(df)"
      ]
    },
    {
      "cell_type": "markdown",
      "metadata": {
        "id": "kgVfp8j9Lb42"
      },
      "source": [
        "A convinient way to print data frame ist the ```head()``` fuction. By default it prints the first five rows of a data frame, so You can get a first impression of the columns and what is in them. Similarly, there is the ```tail()```function."
      ]
    },
    {
      "cell_type": "code",
      "execution_count": 34,
      "metadata": {
        "colab": {
          "base_uri": "https://localhost:8080/",
          "height": 175
        },
        "id": "ewRhYBjWLfgf",
        "outputId": "eaf3d261-530b-45b2-9681-312770c133a9"
      },
      "outputs": [
        {
          "data": {
            "text/html": [
              "<div>\n",
              "<style scoped>\n",
              "    .dataframe tbody tr th:only-of-type {\n",
              "        vertical-align: middle;\n",
              "    }\n",
              "\n",
              "    .dataframe tbody tr th {\n",
              "        vertical-align: top;\n",
              "    }\n",
              "\n",
              "    .dataframe thead th {\n",
              "        text-align: right;\n",
              "    }\n",
              "</style>\n",
              "<table border=\"1\" class=\"dataframe\">\n",
              "  <thead>\n",
              "    <tr style=\"text-align: right;\">\n",
              "      <th></th>\n",
              "      <th>Name</th>\n",
              "      <th>Age</th>\n",
              "    </tr>\n",
              "  </thead>\n",
              "  <tbody>\n",
              "    <tr>\n",
              "      <th>0</th>\n",
              "      <td>Tom</td>\n",
              "      <td>20</td>\n",
              "    </tr>\n",
              "    <tr>\n",
              "      <th>1</th>\n",
              "      <td>nick</td>\n",
              "      <td>21</td>\n",
              "    </tr>\n",
              "    <tr>\n",
              "      <th>2</th>\n",
              "      <td>krish</td>\n",
              "      <td>19</td>\n",
              "    </tr>\n",
              "    <tr>\n",
              "      <th>3</th>\n",
              "      <td>jack</td>\n",
              "      <td>18</td>\n",
              "    </tr>\n",
              "  </tbody>\n",
              "</table>\n",
              "</div>"
            ],
            "text/plain": [
              "    Name  Age\n",
              "0    Tom   20\n",
              "1   nick   21\n",
              "2  krish   19\n",
              "3   jack   18"
            ]
          },
          "execution_count": 34,
          "metadata": {},
          "output_type": "execute_result"
        }
      ],
      "source": [
        "df.head()"
      ]
    },
    {
      "cell_type": "markdown",
      "metadata": {
        "id": "wCH6CekPMFpV"
      },
      "source": [
        "✍️ **Task** \n",
        "\n",
        "Try out the head and tail function with different parameters."
      ]
    },
    {
      "cell_type": "code",
      "execution_count": 35,
      "metadata": {
        "colab": {
          "base_uri": "https://localhost:8080/",
          "height": 172
        },
        "id": "71yA8BELMCCl",
        "outputId": "51bace77-456d-4692-c7c0-baafe9430eb1"
      },
      "outputs": [
        {
          "data": {
            "text/html": [
              "<div>\n",
              "<style scoped>\n",
              "    .dataframe tbody tr th:only-of-type {\n",
              "        vertical-align: middle;\n",
              "    }\n",
              "\n",
              "    .dataframe tbody tr th {\n",
              "        vertical-align: top;\n",
              "    }\n",
              "\n",
              "    .dataframe thead th {\n",
              "        text-align: right;\n",
              "    }\n",
              "</style>\n",
              "<table border=\"1\" class=\"dataframe\">\n",
              "  <thead>\n",
              "    <tr style=\"text-align: right;\">\n",
              "      <th></th>\n",
              "      <th>Name</th>\n",
              "      <th>Age</th>\n",
              "    </tr>\n",
              "  </thead>\n",
              "  <tbody>\n",
              "    <tr>\n",
              "      <th>2</th>\n",
              "      <td>krish</td>\n",
              "      <td>19</td>\n",
              "    </tr>\n",
              "    <tr>\n",
              "      <th>3</th>\n",
              "      <td>jack</td>\n",
              "      <td>18</td>\n",
              "    </tr>\n",
              "  </tbody>\n",
              "</table>\n",
              "</div>"
            ],
            "text/plain": [
              "    Name  Age\n",
              "2  krish   19\n",
              "3   jack   18"
            ]
          },
          "execution_count": 35,
          "metadata": {},
          "output_type": "execute_result"
        }
      ],
      "source": [
        "df.tail(2)"
      ]
    },
    {
      "cell_type": "markdown",
      "metadata": {
        "id": "yDieaTnikyvO"
      },
      "source": [
        "✍️ **Task**\n",
        "\n",
        "Store the example data from the following lecture results in a DataFrame.\n",
        "\n",
        "```\n",
        "data = {\"gender\": [\"Male\", \"Female\", \"Female\", \"Female\", \"Male\"],\n",
        "        \"education\" : [\"M.Sc.\", \"B.Sc.\", \"B.Sc.\", \"PhD\", \"none\"],\n",
        "        \"body_temperature_celsius\" : [37.85, 39.85, 38.85, 36.85, 37.85],\n",
        "        \"points_in_exam\" : [0, 100, 80, 80, 40]}\n",
        "```\n",
        "\n",
        "See in the example above, how You can store the data in a dictionary first and convert the dictionary to a dataframe:\n",
        "\n",
        "\n"
      ]
    },
    {
      "cell_type": "code",
      "execution_count": 36,
      "metadata": {
        "colab": {
          "base_uri": "https://localhost:8080/"
        },
        "id": "pPdXNlIhjoha",
        "outputId": "3f7d2098-8653-476a-c454-a54a99eade7a"
      },
      "outputs": [
        {
          "name": "stdout",
          "output_type": "stream",
          "text": [
            "   Gender Education  Body_temperature_celsius  points_in_exam\n",
            "0    Male     M.Sc.                     37.85               0\n",
            "1  Female     B.Sc.                     39.85             100\n",
            "2  Female     B.Sc.                     38.85              80\n",
            "3  Female       PhD                     36.85              80\n",
            "4    Male      none                     37.85              40\n"
          ]
        }
      ],
      "source": [
        "data = { \"Gender\" : [\"Male\", \"Female\", \"Female\", \"Female\", \"Male\"],\n",
        "\"Education\" : [\"M.Sc.\", \"B.Sc.\", \"B.Sc.\", \"PhD\", \"none\"],\n",
        "\"Body_temperature_celsius\" : [37.85, 39.85, 38.85, 36.85, 37.85], \n",
        "\"points_in_exam\" : [0, 100, 80, 80, 40]}\n",
        "\n",
        "# Create DataFrame\n",
        "df = pd.DataFrame(data)\n",
        " \n",
        "# Print the output.\n",
        "print(df)"
      ]
    },
    {
      "cell_type": "markdown",
      "metadata": {},
      "source": [
        "#### Storing and Loading CSV-Files\n",
        "\n",
        "You will often get tabular data as csv-files. You will also want to store Your tables, after You edited them in Python.\n",
        "\n",
        "You can use the following pandas-functions to  do this:\n",
        "\n",
        "- `<data_frame_name>.to_csv(\"<file_path_and_name.csv>\")>` stores an existing dataframe with the name `data_frame_name` in a file. You can also pass a lot of additional [parameters](https://pandas.pydata.org/docs/reference/api/pandas.DataFrame.to_csv.html), e.g, the kind of separator You want to use.  \n",
        "\n",
        "- `<data_frame_name> = pd.read_csv(\"<file_path_and_name.csv>\")` creates a new dataframe by loading a file from Your file system. I also has a lot of optional [parameters](https://pandas.pydata.org/docs/reference/api/pandas.read_csv.html), that allows You to open different types of CSV-files."
      ]
    },
    {
      "cell_type": "code",
      "execution_count": 37,
      "metadata": {},
      "outputs": [],
      "source": [
        "# Loading pandas\n",
        "import pandas as pd\n",
        "\n",
        "# Creating a dictionary with the data\n",
        "data = { \"Gender\" : [\"Male\", \"Female\", \"Female\", \"Female\", \"Male\"],\n",
        "\"Education\" : [\"M.Sc.\", \"B.Sc.\", \"B.Sc.\", \"PhD\", \"none\"],\n",
        "\"Body_temperature_celsius\" : [37.85, 39.85, 38.85, 36.85, 37.85], \n",
        "\"points_in_exam\" : [0, 100, 80, 80, 40]}\n",
        "\n",
        "# Create DataFrame from the dictionary\n",
        "df = pd.DataFrame(data)"
      ]
    },
    {
      "cell_type": "code",
      "execution_count": 38,
      "metadata": {},
      "outputs": [],
      "source": [
        "# Stores the a dataframe as a file with a \";\"\" as separator\n",
        "df.to_csv(\"data.csv\", sep =\";\")"
      ]
    },
    {
      "cell_type": "code",
      "execution_count": 39,
      "metadata": {},
      "outputs": [
        {
          "data": {
            "text/html": [
              "<div>\n",
              "<style scoped>\n",
              "    .dataframe tbody tr th:only-of-type {\n",
              "        vertical-align: middle;\n",
              "    }\n",
              "\n",
              "    .dataframe tbody tr th {\n",
              "        vertical-align: top;\n",
              "    }\n",
              "\n",
              "    .dataframe thead th {\n",
              "        text-align: right;\n",
              "    }\n",
              "</style>\n",
              "<table border=\"1\" class=\"dataframe\">\n",
              "  <thead>\n",
              "    <tr style=\"text-align: right;\">\n",
              "      <th></th>\n",
              "      <th>;Gender;Education;Body_temperature_celsius;points_in_exam</th>\n",
              "    </tr>\n",
              "  </thead>\n",
              "  <tbody>\n",
              "    <tr>\n",
              "      <th>0</th>\n",
              "      <td>0;Male;M.Sc.;37.85;0</td>\n",
              "    </tr>\n",
              "    <tr>\n",
              "      <th>1</th>\n",
              "      <td>1;Female;B.Sc.;39.85;100</td>\n",
              "    </tr>\n",
              "    <tr>\n",
              "      <th>2</th>\n",
              "      <td>2;Female;B.Sc.;38.85;80</td>\n",
              "    </tr>\n",
              "    <tr>\n",
              "      <th>3</th>\n",
              "      <td>3;Female;PhD;36.85;80</td>\n",
              "    </tr>\n",
              "    <tr>\n",
              "      <th>4</th>\n",
              "      <td>4;Male;none;37.85;40</td>\n",
              "    </tr>\n",
              "  </tbody>\n",
              "</table>\n",
              "</div>"
            ],
            "text/plain": [
              "  ;Gender;Education;Body_temperature_celsius;points_in_exam\n",
              "0                               0;Male;M.Sc.;37.85;0       \n",
              "1                           1;Female;B.Sc.;39.85;100       \n",
              "2                            2;Female;B.Sc.;38.85;80       \n",
              "3                              3;Female;PhD;36.85;80       \n",
              "4                               4;Male;none;37.85;40       "
            ]
          },
          "execution_count": 39,
          "metadata": {},
          "output_type": "execute_result"
        }
      ],
      "source": [
        "# Tries to create a Dataframe with the default separator (\",\")\n",
        "df1 = pd.read_csv(\"data.csv\")\n",
        "df1"
      ]
    },
    {
      "cell_type": "markdown",
      "metadata": {},
      "source": [
        "✍️ **Task**\n",
        "\n",
        "As You can see, the example before has a faulty result: Only one column has be created that holds all the information. The reason is, that when reading the file, Panda by default looked for a `,` to end the columns. As there was none in the CSV-File, everything was put in the first column.\n",
        "\n",
        "\n",
        "![image.png](data:image/png;base64,iVBORw0KGgoAAAANSUhEUgAAAkAAAADkCAYAAABwiJvnAAAAAXNSR0IArs4c6QAAAARnQU1BAACxjwv8YQUAAAAJcEhZcwAAEnQAABJ0Ad5mH3gAAAASdEVYdFNvZnR3YXJlAEdyZWVuc2hvdF5VCAUAADFASURBVHhe7Z3/jx1Xef/zT3x++fx2f6i0qiu5QvpYTUWsqvJKVDhRmhX9IEtUulUELhFZqTSxCMsSCFuTygSw1oGwSRs2acOtm8CmDdpPSFjA6RIwayprQzDrlrBuWViKzQUcbhvD85nnzJm5Z86cmTt3vbu+s/N6SY/2zrdznnNm7jzvfc6ZuTcJAAAAQMNAAAEAAEDjQAABAABA40AAAQAAQONAAAEAAEDjQAABAABA49gRAfQ///M/8otf/EKuXbtm11wf213eXuTy5cvyx3/8x/IP//APdk052qdXrlyhTwEAoJHsiAD6zne+Ix/96EflP/7jP+ya62O7y9uLDCuAXn75ZXnzm98sa2trdk29uHr1qqysrNilPLpN9wEAAAix7QLo9ddfN8FHBcuFCxdMEPrNb35jtv3617+WH//4x/LKK6/IT3/603R9gmZ5VOxcunQpzUyUleej5f/Xf/2XKV/r0eWEUN1qWp5fptatvvR6PbtmNFG/z507J+vr66bdvgDSLM/3vvc9I3Y025Pwy1/+Ul544QX5/d//fdO33W43bb/29/nz5025Wn4Zeoz2pZav9fjZpMQ/LU99UbR8P/Ok5agPrh+DUL/b7ba89NJLdk0fXafbdB8AANibvPrqq3LPPfcY088JVddvuwD6x3/8R/nQhz6U2t/8zd8YIfHzn/9c/vZv/zaz7amnnpJf/epXJuh97Wtfkw9/+MPpto9//OOysbFRWJ5PqPy5uTn52c9+ZuqYn5/PbPvc5z5n1j/77LPy0EMPmUCe8K//+q/ykY98xAiuUUT7S/3+3d/9XWm1Wsb+/M//XP70T/80FUBnz56VP/iDP0i3/9Zv/ZZ85jOfMcLjwQcfTNerTU5OGrHyT//0T3LgwIF0vZav9YREifbdX//1X5tyk/3/5E/+RP7t3/7NbP+Xf/mXTFmabVJBoqblfuUrXzH7KT/60Y/ktttuk9nZ2coCSEmEjiuCQusAAGDv8Zd/+Zfmfq+moiah6vpdyQBp0H3mmWfk5MmTJlOh/OAHPzAB9Ktf/arJtnzyk5+UxcVFEwA1Q7G0tGT2rZIB0uxOp9Mx5ek+uvz9739fTpw4Ycr/7ne/K3/1V3+VBmetWwP0f//3f5vPuk0zFYpmKp544gkjFjTIjyKqXH/v937P+K39oeJPP6vQUAGk/aNtVkGjbUz6RzM+emwoA6Tn6Bvf+Ibpd91fj/vYxz5mhIkKFB/tIxUyes50f83aHTlyxByjPr33ve+VD3zgA6ZcLev06dMmS6Tbjh49Kvfff3+aBfriF79o2uMq9aq4ggfxAwDQHN797nengkbFTULV9bsyB0izKxoYNTjrcEhimqHRrI0KIM3saNYnCciuyBk0BygpX8WOiwZmRY/T4zVo65wXN4Okguezn/2sMf2sWScVUsvLy3aP0UP7amJiIpO10s+6LskAaf9pWx999FFjmklTwaPDVUpoDpD217e//W05deqUyZg9+eSTwXlCKqDe+c53mn5yz1MiaPSvng899gtf+ILp0+RcKJpV+sM//EMjPlUc3Xvvvcb081ZIhI8a4gcAoBnoP80qZNTcf6Crrt8VAZQIEA2YKnJc08yEBj7NYnz+85+XmZmZzPCVMkgAJeXrfkVoRkjL1GE2Nc1cJAFbh7z0eA3Imhnxh8RGDR3C0mErzY4l6Gddl2SAHnnkEfmd3/kdue+++0wmTIenNENUJID0HHzwgx80w1ba/1rHW97ylqAAqjLhWrNnjz32mBE6/vBYMuSlglQvQhVm7pDYsCCAAABgWHY1A+RnVTToJhkEFSNquvyf//mf8olPfMIMmylVMkAqWlS8uGhmKck8JHVpHRr8dY6PDhMpup/OP1EBpn+L5r2MCpoBOnz4sPzwhz+0a8R8VsGioiQRKLpfgg4/lWWA9K8uf/nLXzbLig4ThgRQMoylfZiISCUZSlP07xtvvGE+q+DR/XVYTLNv2rfaz+9617tMGTp05k7SHoZE/Ohf9zMAAEAZOyKAVFholuW5554z/+FrNuCf//mfjYhJhrhU1GhGSEWLCh7NOCTBW5d1TlAigPzyNIhqBkeP0ayNBlQtX7NHOo9Fy0/mDT3//PNmgrW/zRVAivqhmQ+dS6NljjIXL140mZW7777bPAH27//+73LXXXelc4C0je94xzvkfe97nxErKi7e//73ZzJAOkn6t3/7t+XTn/60+awCaXx8XD71qU8ZsaiCSsVEIoBUfN56662mT1Xc6LnQDJMOk+lcLe3T22+/3fSrPm339re/PfVPh8De8573pAJI0fOo837UJ80EbYWQ4EEEAQBAFXZEAKng0aEtFRSaydGArOs0OLtPej399NNpZubrX/96OvylpoFZxVBReRqANdgmwypajgomt3w9Ro91j1fTfTTL42Yvkrk/yVygUcd9ykufxNK+0yxLMizlPoWlk5V1u5sBUmH0wAMPmGM1W6RZND0fY2Nj5hgVPtofiQDSSc5/9Ed/ZCY2a/9o3/393/995kk0FWHJJHf/KTQVTyqyEvR86byfZC7QsKjgKhI6iQjSfQAAAELsiABK0CDnigxFMwAqYNyJyAm6rw5HaXAODUGFyvMpK79sWx3RvtDsjk5KDqFCRUWkO1fIR/vC7VPdV4+pKgKTOkI+6PCj+qfmToLeDvQaKRM4uk33AQAACLGjAggAAABgFEEAAQAAQONAAAEAAEDjQAABAABA40AAAQAAQONAAAEAAEDjQAABAABA40AAAQAAQONAAAEAAEDjQAABAABA40AAAQAAQONAAI0Yr268If/7vT/CdtG6r2/v75QBAMDogwAaMRBAu28IIACA5pETQN/73vcwDMMwDMP2tOUE0G9+8xsMwzAMw7A9bQyBAQAAQONAAAEAAEDjQAABAABA40AAAQAAQONAAAEAAEDjQAABAABA40AAAQAAQONAAAEAAEDjQAABAADUmI2NDTl16pTce++9tTD1VX0ehp/85Cfy3e9+t9R+8IMf2L2rgQACAACoMSooXnzxRbly5UotTH1Vn6vy6quvSrvdrmRf+MIX7FGDQQABAADUGM2qhITGKJv6XBUVNSpuVAiV2fT0tHz0ox+1Rw0GAQQAAFBjmiKABqHiBwEEAAB7lt75OWnfPCatVls6w00l2XV6r63Iyms9u7QzIIBiEEAAADCYq+uy+kJHTvzFERm/qyObdnWIleMtaR1fsUtbYKMj7VZURsZmZGslrsrsLWPSfmpNeteiRTUP469XX/t0WQu3RpV+WTm5X8buWZSuXd4JqgigC4/eKjfddFPebp+TC9H25++LPt/3vNnX/bxTNkgAvfTSS/Lggw+azwggAADYJlZkZt8BaU/Ny/wDh6XV3mEBdHFeDt9yQpYvd6Wb2lazIpHvpZmfnixNteTo6XWnrsh2IAlz3f2yTVQWQFbshLYXCaBBx23VBgkgV/QggAAAYPuwmZPN0+0SAaRio59FcbM23XPzMnnHfrN+/x2TMn++RGGcnRkoslzWX5ixQ1xjcuDOGVm6ZDf4maRgmZvSabdk5qxdHMS1dVk63pYD+6LyVBQ+siJd2zcqcNpPLsvC1ITsj+obu7ktc6ad4X4xfflARxbuPiBjdl1OJF1dlfm/iMtrvWlCpp9dtxsiIl8Wo7oSXyamFmQ9kOHy2Q4B5BoCCAAA9jzlAigmF8QvzsvEvgmZPRsP7HTPzMh4a0LmL5rFHKaOO444omZWlgsq7C1Ny9ihY7JwMRIa13qy9lRbxvZNy9JVu4MRH2UZIN1+UCbudETG6TUJy7OeLD9wUMaPL8ei5/KqzEXiKRkuM+3e147EXdRO9eXJqB23zMqq2ZrvF9PO1ngkatZk02a4MvtEAqfT7g/f9S4tyvQtByOxFu+79si4jN3ZkTVd7K1J584xOXgyqa2YHcsAfWkqN1SWbk/W22OS9bfeNyW3evuHDAEEAAA3lK0IoJXj+cC8evKgjLkiyWHzzKxMH+/I6kZXuhurMh8F9tYd8+LkPixx9ubos+6Mma4s3OXO4RkggHqrsjA1LbNn4iGw9RemI3E2JtNnAhLIZJQiceVsUgHWunPB9Ie2+/Dja/EGxezflgXrSlAATS1lxFZmn7MzMnbbvDglytrjh2XsoXi7qe+x/tbepRVZPrdeIN76VBZAiWhJbUqet9uDAig5zhEz2eULMnd7JHoevdA/zimzzBBAAABwQxleAMUiZdpVDRHd5yarD3NdXpCjrcOBjJGKm/z61YcPOvUPygDlUXHmCxODDs1lhrKs2XZouzOTp60ASuoOCiBnWXH3iTNETj2J2e29V+bkyJs0QzYtc6eXZe2yWT2QHcsARZ9DgmfqS86xmiWy293jBhkCCAAAbijbJYA2nxlcTh8VMaF5OmEBtPLQmFP/8AKosI0qgJwhLZ8dEUB3D3gi7FpX1s4uyPyUzksal2OLg3t09wTQ8zKVyyKpxVkfBBAAANSG4QWQLg8zBLYm8+3DMnfOLiq9JZkOZoCufwisuzQjh9+3mGmPDjMFM0CvzcuEzl16zS4rzqTj7RZAvTPTZj7TsutIWl8kfM5ksz7dZ49WEpU3NAPk2E4LoNDvf7n2wQ9+EAEEAADVqCKA1p86Iq27FmSz14vfvWMmQdvJwRHds7OxkCiYBL36sDO591pXlo+PF8wBiufgjB2alqVL0c468fiZSTk4zCToy4syuW9cZs7EvvUuRqJlX8EcoEh0LN49Fvk2L6u6e+Tb6uNtmXh41YilQQLI75dBAkiurcrsoZaM378km9qPvXVZuv+wTD6ndcS+pNsiX5YeiERlhXcI7Z4Ayi+bfe3yTgkg/ZkL/VzF9LiqIIAAABpMFQEkG4ty7K3xm5eTCcDdc3Ny9JDzGPy5kjB9bVOWT9pHzVv7ZfzonKyU7L7+7LRMuI/BuxmaCkNgvQsdmbaP6I/d7D1q7nNt3Tzmnvg2MRUJNSu2Bgkgv18GCiCluyJzR8fjJ9T0sfuTy7HgUa6uScf15S8iYZYKv2J2UgBdeWUufqrLnzDtDX/ljhtgwwggRX8N3v/tL9/4NXgAAIAGUUUAjZpVFUChoa6QqUAaFgQQAABAjdmLAkgzOu7Q1iAbZugrAQEEAABQY/aiAFKqDHslRgYIAACgYexVAbTTIIAAAABqzKlTp+TFF18MCo1RNPVVfb7RIIAAAABqzMbGhhEUmlWpg6mv6vONBgEEAAAAjQMBBAAAAI0DAQQAAACNAwEEAAAAjQMBBAAAAI0DAQQAAACNAwEEAAAAjQMBBAAAAI0DAQQAAACNY9sF0Le+9S0MwzAMw7AbaoPYEQEEAAAAcKNAAAEAAEDjQAABAABA40AAAQAAQONAAAEAAEDjQAABAABA40AAAQAAQONAAAEAAEDjQAABAADASPP9739fTp06JVeuXLFrYt544w15/PHH5Ytf/KL8+te/tmurgQACAACAkUWFzec+9zn5sz/7Mzl+/Lj84he/MOtV/Dz22GNm/dzcnFkeBgTQDrFyvCXt05t2yWdFZlotmTlrFwEAAKAQFTdPPvlkKoI0E3Q94kcZeQHUfaUj0287IGORYGjtOyATUx1Zu2o37iIqaFrHV+zSYBBAAAAA24eb8XnnO9+ZiqGrV7cmCkZaAPXOnZDx1rhMv7Au3V603F2XpfvHZezOjqxfszvtEgggAACAG8uvfvUrI3ra7bbcc8898pOf/MRuGZ4RFkDrMn9HSyYeX7PLlt6STLfGMuJh/YUZad88Jq1o/YE7Z2Tpkt0QYYTIYwsyd2ecRRq7eVLmL0Rqymwbk7H7lyVeijBlH5TZ83bZEIuVVmoz0RqlJ2unp2Uiqfdt07JYWm9b5s4nNeUFUO/8vEzesd/Usf+OaVl4zW4AAACAzDCYmwFK5gQNy+gKoO6iTLYOy/xFu5zSk/Vzy7JyKRYTvaVpGTt0TBYuRsvXIlHyVFvG9k3Lks2ImczNoWj5Nd3eldXH4+3LevjZmehzJGiSbJIu3zIrq4Hskp8B6i4ei+qdkeXL8fK61nvHfCTbYsz++9oyf76b8cvU6wugSx1pR/t2bBvWF6fl4C2RX2ZfAACAZlM2B2irImh0BdBGJApakSjYsMtBNqXTbsnRZyORkdKVhbv6w08qRI48lciSiGurMntLS6aXVGzo5342afXkQTl4cjVe8PAFkFztStcddrT+LthRr1y9sibzt7Vk8jn1NSuANBN1OJPp0n3H5MQ5uwgAANBQ9Cmwz3/+8zmx484JevDBB+X1118366tScwGkQiKfJVp9+GAqVlSI+HNxlh/or+uLHhVD/vBXn5wA0mxSOgQWbTPW97e8XlcAxSKuX0bf3CEyAACApjLoPUAvv/yyXVOd0RVAhUNgIr1u10yKLhJAKw9FoqRQAPVkacpZd35WDuqw18V5OVww/KX4AmjzdFtaOgS2acepPME2rACKM0MAAACwG4yuAEomQT/pDiNFZCZBVxsCywqReCjKDIEZ4szP5N3twuEvxRdAuXIvdeSIJ4CqDYH1ZPl+bzK2sstPuQEAADSJERZAkTQ4OyPj+ybkxJl16UWCIPQYfDwJelqWdFK0TjZ+ZlIOhiZBJ9t1MrI3wdgMmXlPlvmsP3VEWnctyGavZ3xZe2RcWu05Wd2MljdXZf4ufYIrK4AqT4J+ZdY+7h8Lqt6lSOS9dVIWXd0GAAAA28ZICyCle25eJpMXIb5pXI4eX8i9CHH9WedxdH0M3nmE3GRiHurIbPI4+luPScc+Bp9yflYOuE+DhdhYlGNv1TrsROdr67I4NSH7tcyb2zL7wrwcc4bjTIao4PH7nACK6J6bk6OH4sfgTXnLqB8AAICdYuQF0PVihIg3F8dH5/OMuROcAQAAYE/TbAHU60p3Y1lmDhU//QUAAAB7j0YLoM1n2tJq7Zcjj6xmJyADAADAnmbPCyAAAAAAHwQQAAAANA4EEAAAADQOBBAAAAA0jtoKoOdeFZmYF/lf90cO3hP/1WVdXzdeffVVeeKJJ+RDH/qQ3HvvveavLuv6vcBebx8AANSPWgqgdz0tsu+EyGPfFPmh/RUM/avLul6314Wnn35aPvaxj8k3v/lN6XbjxuhfXdb1ur3O7PX2AQBAPamdAFJx83+ftAsR/++CyCMvx38TdHsdRJAG/7/7u7+zS2F0e11Fwui3T9/I3f/5koGcnZFWuyO8oxsAoP7USgDp8JZmeJRXfyzyf07Gw1+J6bKuV3S/SsNh1zZl+eRRGX9Ty/wMxf5DR3M/Q7G5PJv+TEX8cxxL6W+RrZ48aH4jzCaiHOIfcz382JpdzqLDP5oBqYLuN3i4KP5hWPedR2V+J2T3mZDJR5Zl091Hg35rXE6c89+UlP85D5dtaZ+pO/CDuJbemWnzMyOD3vRdDAIIAKCp1EoA6RwfHeZSfPHjiiBF99P9y9mUhTvHZOzOeVndiAL8tZ5snp+X9r7xKLDHAb937oSMmx813fR+kHUhDoQX5+VwKIi+Ni8TrQmZd36XzEXnwOgwUBV0P92/nKwAGuh3RPe5SRmzPzbbvdyV7mvLcuJtY7Lf/WV6K0Jah05kfkB2kADalvYldd8yK6uecItaZH5FX7cjgAAAYFhqJYB0orPO9dHhrpD4SUy36366fxkmg+D8cnzC2uOH00C38lAUZB9YjjckXF6Qo60j0rmkC3Gmxw/C609OlAZLnQiczIkZhO6n+5eTFUAD/b62KrO3jMn0kpfZMfsclNlX7LIRIRMyEbVx/OFVu1IpF0Db0j6t+8hROap+ngn5GW27K9v3vQsdmbY/njt284RMP9fPHsU/UNuR2Tv223PjCaBLnVj8Llu/r66mP2a7/45p6Tx2LHtOr0Wi8nhbDuyLRNq+A9J2M4MPH8z8vpyKzdZt85LmA41wjq69qFn6W3StBxZl5RFb1puyfgMAwPZTKwGk4kbROT++6HFNtyv6uQwNUq2ppfzPYFxek+Uza2ZYq/vsUWndMi2LJVkCE8AyYmdN5m9rydFniwWAPg01DIP3zwqggX6/MisHbQDO0pXFu1ty5CkbgI0AmpHlKGBPtMb7wmiAANqW9tmMy7KKSe88qcAcu385EiCOAOouyjEVMGdsv7+mgqafhVMB1NrXltmz65Ho0tIcAXQ1+nxoLCorER7aD2Myfn8kaqJde5urMn9nJCrT89yTpalo+z0LsqZF9dako9nExM/I97FU8Oi+Ud2O2DKC6O5Fc42Z6yfq2+kX1qWnWcilmejcTMpi8eUDAADXSaMzQCYgDvoVeDNH6Ijsb43JgTunZe70igmIGUw2whnuMv/dlwewnc4ADfTbCptQ6zP94uy39ngkRO6IgrrJcuxSBkiHv2y2Z+GyXW+yV/EP2GZ+6y0SD93LbiNtnzwTb9d9Dz/uzsmyAujSuhEv41Gb06M3IvHk1qksx4LMlBbabvy0Iqe3JNPR5wXd+VpUz75pmTl+UCafi/tk5biKrdgvI4AyAk/9GpMT5+wiAABsO7USQNs9B6iSAErQrNDpEzKpwyf7DsuxzBBFnDVJJuua4Q93Hk2AnZ4DlFLk9xYEkBEeh6J2GhFRLoC2bw6Q1h3P90knQ0frx+y8oIwAiui+0h8CM/OHIku2+/vGbTgi01ORsDswLUuuXkvEl1006LpEAOlnd0jLoMIs6ZP4mjBDjJpt02yP+m2EjmYID8v8RXNQLIAy12F53wIAwPVTKwG03U+BFQ6B5TIJWbpn8kMUvaVpkx1ZN0EwMGfFYzeeAvPJ+D3kEFganqPjxk3WZLk0SG/fU2C27vORv0b0uGJIJ7E7bTZZGR0Ciyd++30SFkDxsNfqw+PZDJDWPbQAWpET+/p9osJm7KEVM6fMZH40K7Qvas/GgrSdshFAAAC7T60EkLKd7wFKJkEveyKgPwm6YC7PNQ3+3hBFbzkKbhMy/0wSqO36Erb+npxNWZyKguqzbjCPfY2HWCr4XTQJ+qoGaX8StCOAIomw8tB41D/tSGyUB+nrfg9Qpm5tU+Tv6Y4zHOaJPlegGNalc2SQAEqGrCLxcqj/9N91D4EpOhR626RM3pGsi+cNTU8dywhvBBAAwO5TOwGkqLjRDI8Oc+lcH0X/6rKur/wSxGt27sc9HVndjMJR4DH4zWei/+IPHZOOfZxcrq7L8kMT0Tr/sXANsPFj2QdPZvIGpWjw1wyIDgMlc2b0ry7r+iJxYJ4yOzQtS6/Ffq89Ffm5b1IWbUCu4nfRY/BjdnKuISeAIoxYiIeXBgXprbbP4NVt2hzV2R9e9ATQhTmTnZrTNl/dlNUnj8r+aP9KAiiiFwmcg7fMyLJ5KtCfBL0is1Hf9AWWnQRtt+sk6IW7D/YnQStm7k/UT06myEx+jnxK5gIpCCAAgN2nlgJI0eEtneOjE511+Ev/6nKllx+6mEeZkxchjsmBt03KnP8ixDNzMpnMK9l3QA4fnRVvlxgdpmn153ZURYd/dA6MTgSu/FtZ17qy8ojzAkd9TPtCGnoNVfyu9iJETwBF9KL14xWD9Jbap/h1mwxLPPk5Jj/st/7ctExon+hj6SeXZP6e/sTnQQIoETWpiKnwGPzC1ETwMfiY+Omvg+7rA0zmyK0TAQQAcCOorQACAAAA2CoIIAAAAGgcCCAAAABoHAggAAAAaBwIIAAAAGgcIyuANjY25NSpU+apobqY+qt+AwAAwGgzsgJIxcSLL74oV65cqY2pv+o3AAAAjDYjK4A0oxISGaNu6jcAAACMNgigbTYEEAAAwOiDANpmQwABAACMPntAAD0vUzfdJDelNiXPB/fbHUMAAQAAjD71FkCvzMmtkei59dEL6boLj956Q0UQAggAAGD0qbUAev6+m+Sm+5731l+Quduzomg3DQEEAAAw+tRYAMVDX1NfCm3zzGaK4iGyW2XuFXd9tPzolN3mCCezzc0kxcJqUH0IIAAAgNGnvgIoES+JmCm0rFDKDJElwuj2ObngLMf7eoInJ4jChgACAAAYffa+APqSZndc4eIIoozgic0dVjNiKfC5zBBAAAAAo099BVDFITAjXJIMjzFfAGVFVEboOFkfFUaD6lJDAAEAAIw+NRZARZOgvfXXkQHqD4PpMYOHv9QQQAAAAKNPrQVQImAyT3wZweNmdbKZouAcoEzGJyuI4v2jfTJZpGJDAAEAAIw+9RZAxmKBkzzFFXwHUCJ0jDniyKy/VabusyInstzj8yGRVWIIIAAAgNFnDwig6zArgMonUqvAqjDZ2hoCCAAAYPRBAA0SNzqkVnH4Sw0BBAAAMPoggEoEkJkQPUT2Rw0BBAAAMPo0WwDtgCGAAAAARp+RFUCnTp2SF198MSgyRtXUX/UbAAAARpuRFUAbGxtGTGhGpS6m/qrfAAAAMNqMrAACAAAA2CkQQAAAANA4EEAAAADQOBBAAAAA0DgQQAAAANA4EEAAAADQOBBAAAAA0DhGVgB95jOfwTAMwzAMG9peeuklqyaKGVkBpM5fvnwZwzAMwzBsaBvEyAogAAAAgJ0CAQQAAACNAwEEAAAAjQMBBAAAAI0DAQQAAACNAwEEAAAAjQMBBAAAAI1jZAVQp9PBMAzDMAzbFvMZaQEEAAAAzabb7V63IYAAAACgVoQEzbCGAAIAAIBaERI0wxoCCAAAAGpFSNAMawggAAAAqBUhQTOsIYCug5XjLWmf3rRLo8CKzLTa0tmwizeSszPSarVk5qxdrgmbp9vSOr5il2BPYq9NY1s513W7tkfQX713tloz0R0LYGuEBM2wtncFkHuT2+qNbgC7I4A2pdN22qHW7kRrQ+yeABooFHb1pqvtzvbRVs/Ltgog7YPCc1U34uuwboK2jC2f66YIoB28fhFAcL2EBM2wticFkLmx7cKXazcFULWb1wgJoF3Fa/dGR9pbPP8IoCIQQI1jT12/sNcICRrXnnjiieB61+otgIL/2cTZgNIbtQmQ/WxBf189dkY6RkCFMwnxfy59y2wvLDc+buasm6nwA7TdlrshDwo8bplqfSHgC7S8YPOyS87NLhaR/W3pcV4bc9szZQbEmHe879/MaWd77uZry86t1z7wBFBmn+J2Kn5bk3Ng1gfKyfZhCP+cZMuNye6T6d+ozo65zqI2nbX9Yf1Qn9qnV0r6uKBcRb8vkQ/uNZy99vvr3esz1z/GKl5ntj0rThnZ/ivxdxAl15K/LfT9Me0KCCC3f7L9W35tl/ZDRHG5MXE/h8stu3dky3W3DfY3/H3zrwVrbl/Ze29ilc+be14y362IzLUfW/F9L0/2OvWvX6f91oekbP/67rdF+6EfD/rnwL93w40gJGgSU/GTWGh7YntPAJmLO7lAnS9y5svtXsDust0/2TdTVrRVv5jOTUCX/S9LuFx7rLecvWnYunM3ZC9459ritl+X+190v47ssi03EADy+G2zN43SY7O+GEx/uuuy/sd9lGyP/cveAK3P/o3TltPvI7eO+Bi/HxLfTTuc8rLt8trgXQ8DKfwPWn3yfbTL9uas/sb9EdXn1JvcrDM379TfknIV//tS6F9cbvb6jPsxez5iSq8zpz395aQPB/hbhi035E983tzz5C/HZPvOouUW9Ekf77qwDOyHAeXG5zZcrrveLddsc9pgysjVU+xv6fet8vW7BUJl23Oatqfk+syh+7rn0lvu90vxdRzjXiv6Ofanf27CfQm7T0jQqLniZ5AIqrcACpG5wVrcL5J+1os6Y8kF7V/c7nL+ws/c4ErL9fYdipIvrNsuQ9ZHv87McqifXHLtybY9GDwyBG4UWqZ3jOtTqb+leHWZtiXLuq3oesj3rd8uXU58cD9XInd+LMmN3jPjh3Ne0vY763L9rtuSOsrKVYr8McR9kTk2c66Kr8PS8+b4nmOQvyWUXn+5a1fNuxYjwmXo9RLev0/g2o4ov36rlBvGL7f/PdJz4pUX7O+t+BtRcr3ovtqvmf2HIVS273vZteOR+JMxr/xCn3PXS9JX/X7rXyvhvoTdJyRoQuInsdD+e08AhS5Q98uW3jxC+Me6y/lyMzeM0nK9fYfiRgggLcetM9/20gBkyB8T6iPXp1J/S/HrcvtMt3ntTPst37dBgWGODwSbQeTOj0XLDK1XnPOStt9ZF/QvKausXKXInwhTrrMtf36Lr8PS8+b4nmOQvyWUXn+B6yxEaRm2vRoQ820OXNsR1a7fsnLD5MpJ2xe4JoP9vUV/S66XBNOHKhoq9HeGUNm+72XXjof6Pqg/Tfui/sr6qn3jHuv2Vf9z/1oJ9yXsPiFBM6zVWwCZL0j+JqMXeubL5X7Z7DHhL4t/cbvL8Y0rqSv54qd1l5Yb++T7mcXeGHM3nHh9sFxTZ9Y/9z9M0w/Jl137INNX2fZkyJSbtNXtl4iBN8fAjcIr11/2+yjUZ6ZNg27wgX4paneoj/ybue4zczza5q0fiPEjdANXf8v6Pj4mbb+zzg/a2T4qKVcpOWeZfrDlhPohVHbmWP86K+wDZYC/ZWTOsYfZVvxdTPD7MoTuk/fPu94spf3gESzXHuP7ne337P0ge97yyzHF/ro++Mvl585B9yu9FwQIXYt+fVXrj4jvUcX79s91tv/iOvp9E5eTLPf7rX98uC9h9wkJmmGt5hmg+AYauqmbG4FuS8y9KdgbTWrp8f7F7S2bL0u/vNxNrLDc2J/cDc8j9tn/csVf2KJy4y9svH7mrO5b4G90jE5Ezfpg+8/Zx/U3XX+8ky3XkPWrX65XpjHnWK+P3Ju930ehPkvamw0Sfp2+r972TIBwtmn71b/M9gjrsx+YqpDtR6dc99wYszdv56aftt9Z557vXJlKUbmKtsM5xxkyx0X9dzrQD/4+Va4zx/cgZf4OwruWMteKt81td64P1ZK2lhyXv87UKvZDabmW5Hiv3zPXUGTZ74R3fxjC3yrft/D1O+j7VoLfD2qJz/61Muja8Sjqp/h8++X2t2fb6N7rtJ3xZ1OGaX9/HdxYQoJmWKu5AIq//P6Xtq6YL1noxgh9zA10iCC5HdyIOgvo34hh7xELC19oh4QJQNMJCZphrb4CKPlPYk8Eg+Q/qtEIsqNJ8p/ubv/3NVoiGwG0N4mzFOHrDAEEkCckaIa1mmeAAHaONDUeEBx+ut21nQxWTRFAN6p/R5E6CaCdOm9cD+ATEjTDGgIIAAAAakUiYr761a8ObQggAAAAqCUIIAAAAGgcCKDdxn2Ek4moAAAAN4SGC6DsuyiqvqMlftrCedrKipph3vGyvRNR43b0J/LZp52qPg7vvntEbTceo3eFoJrTF8nTLFmr+uRW9pyGzpNrw5yzzCRKxCsAQK1psACKRUI/AGrgrBZkNUDrW32TY1f0cxQcb6gAaqsP/ZeBqX/V3qxavd07xwAfhniZmYoU9zxoP6fCUAXQFsWdf77q9FQNAADkaa4A8oOhzQ5kg5rNJnhCJQ6y0TazPv7rBl4/gxEKlIUCyMvG5ESV9TOzXo+J2rJyesaIiE39ezZeNzBEm/oGCCAvczKM0Av66zNA4AwjNuK+T8qKz19at3/OQwT99QWavS62KKYAAODG01gB5AoQ89kICF+U2EDnCZVE7GjmZyUKmPpZywgHaS0jH9zDAsjfN3BsKEBbAbQZ/Z05vSIdkwkK1xsiFg0qbgL7m/quI0MUFBQx2o9xveHthgHiKIitM+d3ut5aSMAU9W/ig/kclasCc1i/AABgZGi8ADJB2BVCOVGSJ832JMIj+pgRQH6gDQiIYF2548LH5nD8SH2LQnNVAZSS1O8IAy2vavZl66ivxSJpmPpjMWfbHRIzKXaeVIXznQogU54rhBBAAAB1pbECKAmObnCtFmw1cIYFTXysH8x1eQgBVCUg+wSP24IAMmTnRu2OAHL7z8EVHJXw53UV9LOlbFuW+JxmMkbqWyiDBAAAtaC5AsgXJsnQRkao2CxBJtANEEBeOSbIVhVA5tiijIXF7pMRCxUFUOzLgPJtsE/3qSBCSssN+ZvDq9MQ933hccYvf3v+GBVwYZETqjOiwN+sEBzgGwAAjDwNFkARNthpIC0aajIBNLOtWAAlgTY+xtrxTmb/RCxkzA3QNrCnlssyxIE7l40ICqCsn0Gh4tfnb4/wfS7anhMThoC/EZk+CvX9IOEVFECKrS8xv5+cbcP4G7XSiJ7kWMQPAEC9abYAqoAJ7rlgeCOpW/YBfwEAYPRAABWSZBK2Mo9mh0gyGMEhnREEfwEAYERJRMz12J7OAAEAAMDeIyRohjUEEAAAANSKkKAZ1hBAAAAAUCtCgmZYQwABAABArQgJmmENAbRLuI+Ohx/hBgAAgCqEBM2wVmMB1H+3y3CPPWffCWNs1x6Vj+vePgHkvTcnsqH6wnu3zm48QZV9h5DfF9n2bFdb8u9vCry7qJDy6yz73qhs/2XqHanXMQAA1JuQoLn99tsLLbR/TQVQHChnzm7lvS/bLUKGYScEkBPMzcshKz76P8y+O4WKllQY+OdymL7SfnDbosd6L7Dckrgrv878clUMpftk2nY9PgAAgE9I0KhVFT9qNc4AKeHAFGOzCbmgMyiw2uOspWWrYIgCWsf8xx8FV/OL4tn/7MuzG0px3ZljA9mCOJvgZy4CAihwbBCTMSkXQNn2DCeWwv5myYoCX8TE28Pn1ifu17Qsr22DxYc9vrDvQteZ1/dmOSnDP8+2/CH7EAAAwoQETWJVxI9aYwVQP7C7++g2N6g5y/anN7SuWBhEwawsixIUI3HdvgDyA30o8JsgHhRAblvKBYdPKnACgd9sqyqmAoT9VVyf3b7z+6bo/BVT1J7Yl6TOUJn2mihsb7w9c07cc28+R201oljXqe9J2+N2zJx11wEAwPUQEjSuDRI/antYABURFiEGK3IywdIEr2RbHPA00Jo63SAYkQu0mQCvhOq2wTdzXGSVAr8XVJNAPGSQTf1O69ylYO1noTL9PyOdyK9q59b2ofU/FahmyScWJFu5ZoICyG1Dej3Y/jOCKOlHBBAAwHYREjTDGgLIRQNYURYgDW5xgM0JIPPZCXDutpRQ3bpuq4HRD6olbRuIW9ZuBevytms/V2pLrq/L+yE9f5WJy8seo30UCS33eknn/cT758Wdfz0AAMBWCAmaYW0PCyAbhHKCpiw4xkEtWJ4TwIICyMtmhLMQ4brNvoXDLxZTvn+sJ1SMP76gCATqEN6xxqfSLNSAcoP+enh95mKyUgXnLndMrt2xb8G6g31k21vgS1Kvf12k14Ehu4/x3+m/wf0JAABVCQmaYa2mAigJhFkLCotcsAuLkBQTIN1ybVA06+PPaeBz1vk+tU93oiAc3pZY34f89px/iV+ZIGpFSGr5wJ7u44mJ/HBduJ/6231xMEAAVfG3zKegWEh88n2JsIIrMVesZNsa6qP+Ptl+H+68hQRSehziBwBg2wgJmmGt5hmgckxQKwrQtaMkqzGS1MzfkmwUAACMFiFBM6ztUQGUZBr2RkBLshN+hmFUqZe/SRYnnBkCAIDRIyRohrU9nQECAACAvUdI0AxrCCAAAACoFRcuXLhuQwABAABArVABc/HixesyBBAAAADUCgRQjXAfia7Pk1wAAACjR7MFUOZ9PcM8wRN4t8uuPSof1719Ash7r05kQz155b07ZzfeVZN5N05k2b7w2zPEU3wlbcm+B0htiOtlQB/xrh8AgN2nwQJIhUQ/iA33vp/tFiHDsBMCyAnmmRczDmCYfXcKFRfOeVMx4faNntdqgk77wW1L4PrYkjgZrlz1vy6vKgAAqDMMgSUEg7nNJuQC3yARks1CpAFN64iCdcf8xx8FQfNDl9FnL4Cn2YDI8nUU1505NiDm4iyGI3YMAQFUVQhWePFftj3DiaWwv1l8AREfk9QTn4dqYjHu17Qsr21+PXns8bm+KyvX63vrb3UhDgAAWwUBZAkHOBuQcuttUEsDu7uPbnODmrNsRFYsiGJhEAXCsixKUIzEdftBXf13Mwf+shKLA19Q2DamVi44fFKBEwjaZtt1BPOwv4rrc6Dv0iGn4dqiFLUn9iWpM7Kia6KgvcFy3XNvPkf+GlFccD0AAMC2gQBSKmQysoRFiMGKnEywjMzs6wQ8DYhGoLhBMCIXaHN+heq2wTdzXGS5IB3Cy0IkgXhI4ZD6ndbplbtThDI1ybIVQlvJAMWCxe/7hFiA+QIzTEm5ybl32+BdDwAAsDNcjwB6+9vfbv7WWwANLX6UAQKoKOvhBLegADKffTHi+1YkgLYqNnyhUtK2gbhl7ZIAyrQ977sRRFWEYK6vy/shPX+DKC03FlKZrJBej0XXDwAAbBtbFUAqfvQt0Pq5tgIoky0IEgerfEAqC44l2QEnGAYFkCfGwlmIcN1m30GBM5gR8YSK8ccXLoFAHcI71vhUKj4GlBv01yPTZ3HfuH2f98GeU79fc+2OfQvWHewjW9eQ5eoxfX/z/gMAwM6wFQHkih+1mgogG3w984NPHNT8YFcmgCJM0HPLtUHRrI8/p4HPWdcPzrG1T3ciH8PbEuv7kN+e8y/xKyMI/H7IB/Z0H0+o5Ifrwv3U3+6Jg4JyU6r4mzt20PbEJ9+XCCu4EnOvhWxbQ33U3yfX7yXl+n2E+AEA2B2GFUC++FGrbQaoCiaoFQXo2hGLg0LhNnLUzN9MNgoAAEaZYQSQL372xhygQpJMwt4IaEl2oi4Zhnr5m2RxwpkhAAAYPaoKoJD4qf0cIAAAAGgmVQRQmfhRQwABAABArRgkgAaJHzUEEAAAANSKYSdBh6x2AgjDMAzDMGw7zGdkBRAAAADAToEAAgAAgMaBAAIAAIDGgQACAACAxoEAAgAAgMaBAAIAAIDGgQACAACAxoEAAgAAgMYxWIuI/H/iYYVDaUX33gAAAABJRU5ErkJggg==)\n",
        "\n",
        "\n"
      ]
    },
    {
      "cell_type": "markdown",
      "metadata": {},
      "source": [
        "To fix this, You could replace all `,` by `;` in the CSV-file. The more convenient way, however, is the call the `pd.read_csv()` function with optional [parameters](https://pandas.pydata.org/docs/reference/api/pandas.read_csv.html).\n",
        "Select an optional parameters, to load the data correctly. \n",
        "\n",
        "- *Hint:*\n",
        "\n",
        "Look either at the link on how to change the default seperator or look in the code above how we created the CSV in the first place. The notation for the parameter in `.read_csv()` and `.to_csv()` are identical.\n",
        "\n",
        "```\n",
        "df2 = pd.read_csv(\"data.csv\", <optional_paramters>)\n",
        "df2\n",
        "```"
      ]
    },
    {
      "cell_type": "code",
      "execution_count": 40,
      "metadata": {},
      "outputs": [
        {
          "data": {
            "text/html": [
              "<div>\n",
              "<style scoped>\n",
              "    .dataframe tbody tr th:only-of-type {\n",
              "        vertical-align: middle;\n",
              "    }\n",
              "\n",
              "    .dataframe tbody tr th {\n",
              "        vertical-align: top;\n",
              "    }\n",
              "\n",
              "    .dataframe thead th {\n",
              "        text-align: right;\n",
              "    }\n",
              "</style>\n",
              "<table border=\"1\" class=\"dataframe\">\n",
              "  <thead>\n",
              "    <tr style=\"text-align: right;\">\n",
              "      <th></th>\n",
              "      <th>Unnamed: 0</th>\n",
              "      <th>Gender</th>\n",
              "      <th>Education</th>\n",
              "      <th>Body_temperature_celsius</th>\n",
              "      <th>points_in_exam</th>\n",
              "    </tr>\n",
              "  </thead>\n",
              "  <tbody>\n",
              "    <tr>\n",
              "      <th>0</th>\n",
              "      <td>0</td>\n",
              "      <td>Male</td>\n",
              "      <td>M.Sc.</td>\n",
              "      <td>37.85</td>\n",
              "      <td>0</td>\n",
              "    </tr>\n",
              "    <tr>\n",
              "      <th>1</th>\n",
              "      <td>1</td>\n",
              "      <td>Female</td>\n",
              "      <td>B.Sc.</td>\n",
              "      <td>39.85</td>\n",
              "      <td>100</td>\n",
              "    </tr>\n",
              "    <tr>\n",
              "      <th>2</th>\n",
              "      <td>2</td>\n",
              "      <td>Female</td>\n",
              "      <td>B.Sc.</td>\n",
              "      <td>38.85</td>\n",
              "      <td>80</td>\n",
              "    </tr>\n",
              "    <tr>\n",
              "      <th>3</th>\n",
              "      <td>3</td>\n",
              "      <td>Female</td>\n",
              "      <td>PhD</td>\n",
              "      <td>36.85</td>\n",
              "      <td>80</td>\n",
              "    </tr>\n",
              "    <tr>\n",
              "      <th>4</th>\n",
              "      <td>4</td>\n",
              "      <td>Male</td>\n",
              "      <td>none</td>\n",
              "      <td>37.85</td>\n",
              "      <td>40</td>\n",
              "    </tr>\n",
              "  </tbody>\n",
              "</table>\n",
              "</div>"
            ],
            "text/plain": [
              "   Unnamed: 0  Gender Education  Body_temperature_celsius  points_in_exam\n",
              "0           0    Male     M.Sc.                     37.85               0\n",
              "1           1  Female     B.Sc.                     39.85             100\n",
              "2           2  Female     B.Sc.                     38.85              80\n",
              "3           3  Female       PhD                     36.85              80\n",
              "4           4    Male      none                     37.85              40"
            ]
          },
          "execution_count": 40,
          "metadata": {},
          "output_type": "execute_result"
        }
      ],
      "source": [
        "df1 = pd.read_csv(\"data.csv\", sep =\";\")\n",
        "df1"
      ]
    },
    {
      "cell_type": "markdown",
      "metadata": {
        "id": "SVOjtRf-q9EG"
      },
      "source": [
        "# 1.2 Advanced pandas\n",
        "\n",
        "In the following, we use pandas to perform simple data analysis task, as we would do with MS Excel.\n",
        "\n",
        "\n",
        "✍️ **Task**\n",
        "\n",
        "Test the following functions on the DataFrame:\n",
        "  - ```mode()```\n",
        "  - ```median()```\n",
        "  - ```mean()```\n",
        "  - ```describe()```"
      ]
    },
    {
      "cell_type": "code",
      "execution_count": 41,
      "metadata": {
        "colab": {
          "base_uri": "https://localhost:8080/"
        },
        "id": "bH0-qv_4sNOV",
        "outputId": "bc4421ab-265d-4063-f3e1-592d461bbba9"
      },
      "outputs": [
        {
          "name": "stdout",
          "output_type": "stream",
          "text": [
            "   Gender Education  Body_temperature_celsius  points_in_exam\n",
            "0    Male     M.Sc.                     37.85               0\n",
            "1  Female     B.Sc.                     39.85             100\n",
            "2  Female     B.Sc.                     38.85              80\n",
            "3  Female       PhD                     36.85              80\n",
            "4    Male      none                     37.85              40\n"
          ]
        }
      ],
      "source": [
        "import pandas as pd\n",
        "data = { \"Gender\" : [\"Male\", \"Female\", \"Female\", \"Female\", \"Male\"],\n",
        "\"Education\" : [\"M.Sc.\", \"B.Sc.\", \"B.Sc.\", \"PhD\", \"none\"],\n",
        "\"Body_temperature_celsius\" : [37.85, 39.85, 38.85, 36.85, 37.85], \n",
        "\"points_in_exam\" : [0, 100, 80, 80, 40]}\n",
        "\n",
        "# Create DataFrame\n",
        "df = pd.DataFrame(data)\n",
        " \n",
        "# Print the output.\n",
        "print(df)"
      ]
    },
    {
      "cell_type": "code",
      "execution_count": 42,
      "metadata": {
        "colab": {
          "base_uri": "https://localhost:8080/",
          "height": 81
        },
        "id": "Dl7LLggrlK26",
        "outputId": "2edadc8c-eeeb-4398-988f-92a6534bcd7b"
      },
      "outputs": [
        {
          "data": {
            "text/html": [
              "<div>\n",
              "<style scoped>\n",
              "    .dataframe tbody tr th:only-of-type {\n",
              "        vertical-align: middle;\n",
              "    }\n",
              "\n",
              "    .dataframe tbody tr th {\n",
              "        vertical-align: top;\n",
              "    }\n",
              "\n",
              "    .dataframe thead th {\n",
              "        text-align: right;\n",
              "    }\n",
              "</style>\n",
              "<table border=\"1\" class=\"dataframe\">\n",
              "  <thead>\n",
              "    <tr style=\"text-align: right;\">\n",
              "      <th></th>\n",
              "      <th>Gender</th>\n",
              "      <th>Education</th>\n",
              "      <th>Body_temperature_celsius</th>\n",
              "      <th>points_in_exam</th>\n",
              "    </tr>\n",
              "  </thead>\n",
              "  <tbody>\n",
              "    <tr>\n",
              "      <th>0</th>\n",
              "      <td>Female</td>\n",
              "      <td>B.Sc.</td>\n",
              "      <td>37.85</td>\n",
              "      <td>80</td>\n",
              "    </tr>\n",
              "  </tbody>\n",
              "</table>\n",
              "</div>"
            ],
            "text/plain": [
              "   Gender Education  Body_temperature_celsius  points_in_exam\n",
              "0  Female     B.Sc.                     37.85              80"
            ]
          },
          "execution_count": 42,
          "metadata": {},
          "output_type": "execute_result"
        }
      ],
      "source": [
        "df.mode()"
      ]
    },
    {
      "cell_type": "code",
      "execution_count": 43,
      "metadata": {
        "colab": {
          "base_uri": "https://localhost:8080/"
        },
        "id": "IsB6XsOylL2e",
        "outputId": "b4fbd2e0-65eb-4e7d-9d46-0cc6b4aa7f88"
      },
      "outputs": [
        {
          "data": {
            "text/plain": [
              "Body_temperature_celsius    37.85\n",
              "points_in_exam              80.00\n",
              "dtype: float64"
            ]
          },
          "execution_count": 43,
          "metadata": {},
          "output_type": "execute_result"
        }
      ],
      "source": [
        "df.median()"
      ]
    },
    {
      "cell_type": "code",
      "execution_count": 44,
      "metadata": {
        "colab": {
          "base_uri": "https://localhost:8080/"
        },
        "id": "XvDPk_-BlYj_",
        "outputId": "97ada16a-f3e9-41c9-e4ec-9fdc94d58063"
      },
      "outputs": [
        {
          "data": {
            "text/plain": [
              "Body_temperature_celsius    38.25\n",
              "points_in_exam              60.00\n",
              "dtype: float64"
            ]
          },
          "execution_count": 44,
          "metadata": {},
          "output_type": "execute_result"
        }
      ],
      "source": [
        "df.mean()"
      ]
    },
    {
      "cell_type": "code",
      "execution_count": 45,
      "metadata": {
        "colab": {
          "base_uri": "https://localhost:8080/",
          "height": 300
        },
        "id": "Q8UFEz8VlZxP",
        "outputId": "0cadbbe5-4cec-4fd1-f0b0-50a19c08fb5e"
      },
      "outputs": [
        {
          "data": {
            "text/html": [
              "<div>\n",
              "<style scoped>\n",
              "    .dataframe tbody tr th:only-of-type {\n",
              "        vertical-align: middle;\n",
              "    }\n",
              "\n",
              "    .dataframe tbody tr th {\n",
              "        vertical-align: top;\n",
              "    }\n",
              "\n",
              "    .dataframe thead th {\n",
              "        text-align: right;\n",
              "    }\n",
              "</style>\n",
              "<table border=\"1\" class=\"dataframe\">\n",
              "  <thead>\n",
              "    <tr style=\"text-align: right;\">\n",
              "      <th></th>\n",
              "      <th>Body_temperature_celsius</th>\n",
              "      <th>points_in_exam</th>\n",
              "    </tr>\n",
              "  </thead>\n",
              "  <tbody>\n",
              "    <tr>\n",
              "      <th>count</th>\n",
              "      <td>5.000000</td>\n",
              "      <td>5.0</td>\n",
              "    </tr>\n",
              "    <tr>\n",
              "      <th>mean</th>\n",
              "      <td>38.250000</td>\n",
              "      <td>60.0</td>\n",
              "    </tr>\n",
              "    <tr>\n",
              "      <th>std</th>\n",
              "      <td>1.140175</td>\n",
              "      <td>40.0</td>\n",
              "    </tr>\n",
              "    <tr>\n",
              "      <th>min</th>\n",
              "      <td>36.850000</td>\n",
              "      <td>0.0</td>\n",
              "    </tr>\n",
              "    <tr>\n",
              "      <th>25%</th>\n",
              "      <td>37.850000</td>\n",
              "      <td>40.0</td>\n",
              "    </tr>\n",
              "    <tr>\n",
              "      <th>50%</th>\n",
              "      <td>37.850000</td>\n",
              "      <td>80.0</td>\n",
              "    </tr>\n",
              "    <tr>\n",
              "      <th>75%</th>\n",
              "      <td>38.850000</td>\n",
              "      <td>80.0</td>\n",
              "    </tr>\n",
              "    <tr>\n",
              "      <th>max</th>\n",
              "      <td>39.850000</td>\n",
              "      <td>100.0</td>\n",
              "    </tr>\n",
              "  </tbody>\n",
              "</table>\n",
              "</div>"
            ],
            "text/plain": [
              "       Body_temperature_celsius  points_in_exam\n",
              "count                  5.000000             5.0\n",
              "mean                  38.250000            60.0\n",
              "std                    1.140175            40.0\n",
              "min                   36.850000             0.0\n",
              "25%                   37.850000            40.0\n",
              "50%                   37.850000            80.0\n",
              "75%                   38.850000            80.0\n",
              "max                   39.850000           100.0"
            ]
          },
          "execution_count": 45,
          "metadata": {},
          "output_type": "execute_result"
        }
      ],
      "source": [
        "df.describe()"
      ]
    },
    {
      "cell_type": "markdown",
      "metadata": {
        "id": "L02F8HNrs117"
      },
      "source": [
        "Note, that those functions also work for individual columns:"
      ]
    },
    {
      "cell_type": "code",
      "execution_count": 46,
      "metadata": {
        "colab": {
          "base_uri": "https://localhost:8080/"
        },
        "id": "GK5Jx4rdsytO",
        "outputId": "1680206c-1af8-458a-f499-d321a1856e9e"
      },
      "outputs": [
        {
          "data": {
            "text/plain": [
              "60.0"
            ]
          },
          "execution_count": 46,
          "metadata": {},
          "output_type": "execute_result"
        }
      ],
      "source": [
        "df[\"points_in_exam\"].mean()"
      ]
    },
    {
      "cell_type": "markdown",
      "metadata": {
        "id": "6QH8v2z-seNb"
      },
      "source": [
        "## Indexing and Selecting Data\n",
        "\n",
        "Indexing in pandas means simply selecting particular rows and columns of data from a DataFrame. Indexing could mean selecting all the rows and some of the columns, some of the rows and all of the columns, or some of each of the rows and columns. \n",
        "\n",
        "Indexing a Dataframe using indexing operator ```[]```\n"
      ]
    },
    {
      "cell_type": "markdown",
      "metadata": {
        "id": "A38BKarCsnl4"
      },
      "source": [
        "### Selecting a single columns\n",
        "\n"
      ]
    },
    {
      "cell_type": "code",
      "execution_count": 47,
      "metadata": {
        "colab": {
          "base_uri": "https://localhost:8080/"
        },
        "id": "RP9Vk1gpsqIN",
        "outputId": "a4f6d8c2-695e-4266-911e-eb7cd41dc8bb"
      },
      "outputs": [
        {
          "name": "stdout",
          "output_type": "stream",
          "text": [
            "0      Male\n",
            "1    Female\n",
            "2    Female\n",
            "3    Female\n",
            "4      Male\n",
            "Name: Gender, dtype: object\n"
          ]
        }
      ],
      "source": [
        "# retrieving columns by indexing operator\n",
        "first = df[\"Gender\"]\n",
        " \n",
        "print(first)"
      ]
    },
    {
      "cell_type": "markdown",
      "metadata": {
        "id": "kwOvgdH6tjMB"
      },
      "source": [
        "### Index\n",
        "\n",
        "The index is a special column like a key in a dictionary. Like a key, an index must be unique so that is can be used to identify a certain row.\n",
        "\n",
        "If You do not define an index for a dataframe, pandas automatically creates an numerical index as the first column:"
      ]
    },
    {
      "cell_type": "code",
      "execution_count": 48,
      "metadata": {
        "colab": {
          "base_uri": "https://localhost:8080/"
        },
        "id": "d2is5psEtiij",
        "outputId": "f62e098c-0840-4aa6-caec-db205b8453a2"
      },
      "outputs": [
        {
          "name": "stdout",
          "output_type": "stream",
          "text": [
            "  Name  Gender Education  Body_temperature_celsius  points_in_exam\n",
            "0    A    Male     M.Sc.                     37.85               0\n",
            "1    B  Female     B.Sc.                     39.85             100\n",
            "2    C  Female     B.Sc.                     38.85              80\n",
            "3    D  Female       PhD                     36.85              80\n",
            "4    E    Male      none                     37.85              40\n",
            "RangeIndex(start=0, stop=5, step=1)\n"
          ]
        }
      ],
      "source": [
        "data = { \"Name\" : [\"A\",\"B\",\"C\",\"D\",\"E\"], \n",
        "\"Gender\" : [\"Male\", \"Female\", \"Female\", \"Female\", \"Male\"],\n",
        "\"Education\" : [\"M.Sc.\", \"B.Sc.\", \"B.Sc.\", \"PhD\", \"none\"],\n",
        "\"Body_temperature_celsius\" : [37.85, 39.85, 38.85, 36.85, 37.85], \n",
        "\"points_in_exam\" : [0, 100, 80, 80, 40]}\n",
        "\n",
        "# Create DataFrame\n",
        "df = pd.DataFrame(data)\n",
        " \n",
        "# Print the output.\n",
        "print(df)\n",
        "print(df.index)"
      ]
    },
    {
      "cell_type": "markdown",
      "metadata": {
        "id": "yzuJeMvSu8Bf"
      },
      "source": [
        "Alternatively, You can decide for any coloumn to become the index:"
      ]
    },
    {
      "cell_type": "code",
      "execution_count": 49,
      "metadata": {
        "colab": {
          "base_uri": "https://localhost:8080/"
        },
        "id": "J0gKEiPkuDor",
        "outputId": "2ea649fa-266f-4c9d-c4b8-79d6edbf6e87"
      },
      "outputs": [
        {
          "name": "stdout",
          "output_type": "stream",
          "text": [
            "      Gender Education  Body_temperature_celsius  points_in_exam  points_bonus\n",
            "Name                                                                          \n",
            "A       Male     M.Sc.                     37.85               0             5\n",
            "B     Female     B.Sc.                     39.85             100            10\n",
            "C     Female     B.Sc.                     38.85              80             0\n",
            "D     Female       PhD                     36.85              80             5\n",
            "E       Male      none                     37.85              40             5\n"
          ]
        }
      ],
      "source": [
        "data = { \"Name\" : [\"A\",\"B\",\"C\",\"D\",\"E\"], \n",
        "\"Gender\" : [\"Male\", \"Female\", \"Female\", \"Female\", \"Male\"],\n",
        "\"Education\" : [\"M.Sc.\", \"B.Sc.\", \"B.Sc.\", \"PhD\", \"none\"],\n",
        "\"Body_temperature_celsius\" : [37.85, 39.85, 38.85, 36.85, 37.85], \n",
        "\"points_in_exam\" : [0, 100, 80, 80, 40],\n",
        "\"points_bonus\" : [5, 10, 0, 5, 5]}\n",
        "\n",
        "\n",
        "# Create DataFrame\n",
        "df = pd.DataFrame(data)\n",
        "df = df.set_index('Name')\n",
        "\n",
        "# Print the output.\n",
        "print(df)"
      ]
    },
    {
      "cell_type": "markdown",
      "metadata": {
        "id": "SfFFTAoxs26h"
      },
      "source": [
        "### Selecting a single row\n",
        "\n",
        "The ```.loc[ ]``` function selects data by the label of the rows and columns. The df.loc indexer selects data in a different way than just the indexing operator. It can select subsets of rows or columns. It can also simultaneously select subsets of rows and columns.\n"
      ]
    },
    {
      "cell_type": "code",
      "execution_count": 50,
      "metadata": {
        "colab": {
          "base_uri": "https://localhost:8080/"
        },
        "id": "Zd8D8PdTtPYS",
        "outputId": "29c6c5ec-2470-42e3-b70f-c61ce63211f1"
      },
      "outputs": [
        {
          "name": "stdout",
          "output_type": "stream",
          "text": [
            "Gender                       Male\n",
            "Education                   M.Sc.\n",
            "Body_temperature_celsius    37.85\n",
            "points_in_exam                  0\n",
            "points_bonus                    5\n",
            "Name: A, dtype: object\n"
          ]
        }
      ],
      "source": [
        "# retrieving columns by indexing operator\n",
        "first = df.loc[\"A\"]\n",
        " \n",
        "print(first)"
      ]
    },
    {
      "cell_type": "code",
      "execution_count": 51,
      "metadata": {
        "colab": {
          "base_uri": "https://localhost:8080/"
        },
        "id": "R3tF93MlvYyl",
        "outputId": "dce35e7b-5128-4be0-8050-4ef0d0263533"
      },
      "outputs": [
        {
          "name": "stdout",
          "output_type": "stream",
          "text": [
            "Male\n"
          ]
        }
      ],
      "source": [
        "# retrieving columns by indexing operator\n",
        "first = df.loc[\"A\"][\"Gender\"]\n",
        " \n",
        "print(first)"
      ]
    },
    {
      "cell_type": "markdown",
      "metadata": {
        "id": "Pco9IMjbveuz"
      },
      "source": [
        "✍️ **Task**\n",
        "\n",
        "Select the body temperature of the person named \"C\""
      ]
    },
    {
      "cell_type": "code",
      "execution_count": 52,
      "metadata": {
        "colab": {
          "base_uri": "https://localhost:8080/"
        },
        "id": "CR9E563Tvo27",
        "outputId": "7370fb14-21a1-41cf-cf25-584151578020"
      },
      "outputs": [
        {
          "data": {
            "text/plain": [
              "38.85"
            ]
          },
          "execution_count": 52,
          "metadata": {},
          "output_type": "execute_result"
        }
      ],
      "source": [
        "temp = df.loc[\"C\"][\"Body_temperature_celsius\"]\n",
        "temp"
      ]
    },
    {
      "cell_type": "markdown",
      "metadata": {
        "id": "3-jTH9Z_wCzc"
      },
      "source": [
        "Even after changing the index, You can still use the numerical position of the rows and columns to access tha data using the ```iloc[]``` function."
      ]
    },
    {
      "cell_type": "code",
      "execution_count": 53,
      "metadata": {
        "colab": {
          "base_uri": "https://localhost:8080/"
        },
        "id": "D-kgzkaSv5ON",
        "outputId": "95d43c3d-7967-4837-c8b1-4919ade5fbae"
      },
      "outputs": [
        {
          "data": {
            "text/plain": [
              "38.85"
            ]
          },
          "execution_count": 53,
          "metadata": {},
          "output_type": "execute_result"
        }
      ],
      "source": [
        "temp = df.iloc[2][2]\n",
        "temp"
      ]
    },
    {
      "cell_type": "markdown",
      "metadata": {
        "id": "L-J2QcDFwZFQ"
      },
      "source": [
        "### Iteration\n",
        "\n",
        "You might want to iterate through the rows of the data frames  as You did with lists and dictionaries. You can do this by using the ```iterrows()``` function"
      ]
    },
    {
      "cell_type": "code",
      "execution_count": 54,
      "metadata": {
        "colab": {
          "base_uri": "https://localhost:8080/"
        },
        "id": "3zO9X8yOwbid",
        "outputId": "6cc28d51-19e4-4a99-ba95-75de8929d2f7"
      },
      "outputs": [
        {
          "name": "stdout",
          "output_type": "stream",
          "text": [
            "The index is A. \n",
            "The full observation is \n",
            "Gender                       Male\n",
            "Education                   M.Sc.\n",
            "Body_temperature_celsius    37.85\n",
            "points_in_exam                  0\n",
            "points_bonus                    5\n",
            "Name: A, dtype: object\n",
            "The body temperature is 37.85\n",
            "\n",
            "\n",
            "The index is B. \n",
            "The full observation is \n",
            "Gender                      Female\n",
            "Education                    B.Sc.\n",
            "Body_temperature_celsius     39.85\n",
            "points_in_exam                 100\n",
            "points_bonus                    10\n",
            "Name: B, dtype: object\n",
            "The body temperature is 39.85\n",
            "\n",
            "\n",
            "The index is C. \n",
            "The full observation is \n",
            "Gender                      Female\n",
            "Education                    B.Sc.\n",
            "Body_temperature_celsius     38.85\n",
            "points_in_exam                  80\n",
            "points_bonus                     0\n",
            "Name: C, dtype: object\n",
            "The body temperature is 38.85\n",
            "\n",
            "\n",
            "The index is D. \n",
            "The full observation is \n",
            "Gender                      Female\n",
            "Education                      PhD\n",
            "Body_temperature_celsius     36.85\n",
            "points_in_exam                  80\n",
            "points_bonus                     5\n",
            "Name: D, dtype: object\n",
            "The body temperature is 36.85\n",
            "\n",
            "\n",
            "The index is E. \n",
            "The full observation is \n",
            "Gender                       Male\n",
            "Education                    none\n",
            "Body_temperature_celsius    37.85\n",
            "points_in_exam                 40\n",
            "points_bonus                    5\n",
            "Name: E, dtype: object\n",
            "The body temperature is 37.85\n",
            "\n",
            "\n"
          ]
        }
      ],
      "source": [
        "for index, observation in df.iterrows():\n",
        "    print(\"The index is {}. \".format(index))\n",
        "    print(\"The full observation is \\n{}\".format(observation))\n",
        "    print(\"The body temperature is {}\".format(observation[\"Body_temperature_celsius\"]))\n",
        "    print(\"\\n\")"
      ]
    },
    {
      "cell_type": "code",
      "execution_count": 67,
      "metadata": {},
      "outputs": [
        {
          "data": {
            "text/html": [
              "<div>\n",
              "<style scoped>\n",
              "    .dataframe tbody tr th:only-of-type {\n",
              "        vertical-align: middle;\n",
              "    }\n",
              "\n",
              "    .dataframe tbody tr th {\n",
              "        vertical-align: top;\n",
              "    }\n",
              "\n",
              "    .dataframe thead th {\n",
              "        text-align: right;\n",
              "    }\n",
              "</style>\n",
              "<table border=\"1\" class=\"dataframe\">\n",
              "  <thead>\n",
              "    <tr style=\"text-align: right;\">\n",
              "      <th></th>\n",
              "      <th>Gender</th>\n",
              "      <th>Education</th>\n",
              "      <th>Body_temperature_celsius</th>\n",
              "      <th>points_in_exam</th>\n",
              "      <th>points_bonus</th>\n",
              "    </tr>\n",
              "    <tr>\n",
              "      <th>Name</th>\n",
              "      <th></th>\n",
              "      <th></th>\n",
              "      <th></th>\n",
              "      <th></th>\n",
              "      <th></th>\n",
              "    </tr>\n",
              "  </thead>\n",
              "  <tbody>\n",
              "    <tr>\n",
              "      <th>A</th>\n",
              "      <td>Male</td>\n",
              "      <td>M.Sc.</td>\n",
              "      <td>37.85</td>\n",
              "      <td>0</td>\n",
              "      <td>5</td>\n",
              "    </tr>\n",
              "    <tr>\n",
              "      <th>B</th>\n",
              "      <td>Female</td>\n",
              "      <td>B.Sc.</td>\n",
              "      <td>39.85</td>\n",
              "      <td>100</td>\n",
              "      <td>10</td>\n",
              "    </tr>\n",
              "    <tr>\n",
              "      <th>C</th>\n",
              "      <td>Female</td>\n",
              "      <td>B.Sc.</td>\n",
              "      <td>38.85</td>\n",
              "      <td>80</td>\n",
              "      <td>0</td>\n",
              "    </tr>\n",
              "    <tr>\n",
              "      <th>D</th>\n",
              "      <td>Female</td>\n",
              "      <td>PhD</td>\n",
              "      <td>36.85</td>\n",
              "      <td>80</td>\n",
              "      <td>5</td>\n",
              "    </tr>\n",
              "    <tr>\n",
              "      <th>E</th>\n",
              "      <td>Male</td>\n",
              "      <td>none</td>\n",
              "      <td>37.85</td>\n",
              "      <td>40</td>\n",
              "      <td>5</td>\n",
              "    </tr>\n",
              "  </tbody>\n",
              "</table>\n",
              "</div>"
            ],
            "text/plain": [
              "      Gender Education  Body_temperature_celsius  points_in_exam  points_bonus\n",
              "Name                                                                          \n",
              "A       Male     M.Sc.                     37.85               0             5\n",
              "B     Female     B.Sc.                     39.85             100            10\n",
              "C     Female     B.Sc.                     38.85              80             0\n",
              "D     Female       PhD                     36.85              80             5\n",
              "E       Male      none                     37.85              40             5"
            ]
          },
          "execution_count": 67,
          "metadata": {},
          "output_type": "execute_result"
        }
      ],
      "source": [
        "df"
      ]
    },
    {
      "cell_type": "markdown",
      "metadata": {
        "id": "YWzJtRSYxJpF"
      },
      "source": [
        "✍️ **Task**\n",
        "\n",
        "Write a for loop, that prints \"E is a Male and his/her body temperature is 37.85. This is X degree higher than the average body temperature.\"\n",
        "\n",
        "🤓 Bonus:\n",
        "- make male and female lower case\n",
        "- use the right pronoun \n",
        "- use lower/higher\n",
        "- only use 2 decimals "
      ]
    },
    {
      "cell_type": "code",
      "execution_count": 70,
      "metadata": {
        "colab": {
          "base_uri": "https://localhost:8080/"
        },
        "id": "Cgw0njFIxiFl",
        "outputId": "d49be221-aa95-4748-fb8c-c79a8bca306e"
      },
      "outputs": [
        {
          "name": "stdout",
          "output_type": "stream",
          "text": [
            "A is a Male and his body temperature is -0.40 degree lower than the average body temperature.\n",
            "\n",
            "\n",
            "B is a Female and his body temperature is 1.60 degree higher than the average body temperature.\n",
            "\n",
            "\n",
            "C is a Female and his body temperature is 0.60 degree higher than the average body temperature.\n",
            "\n",
            "\n",
            "D is a Female and his body temperature is -1.40 degree lower than the average body temperature.\n",
            "\n",
            "\n",
            "E is a Male and his body temperature is -0.40 degree lower than the average body temperature.\n",
            "\n",
            "\n"
          ]
        }
      ],
      "source": [
        "mean_temp = df[\"Body_temperature_celsius\"].mean()\n",
        "\n",
        "for index, observation in df.iterrows():\n",
        "\n",
        "    name = index\n",
        "    gender = observation[\"Gender\"]\n",
        "    temp = observation[\"Body_temperature_celsius\"]\n",
        "\n",
        "    if temp >mean_temp:\n",
        "        higher_lower = \"higher\"\n",
        "    else:\n",
        "         higher_lower = \"lower\"       \n",
        "\n",
        "    print(\"{0} is a {1} and his body temperature is {2:.2f} degree {3} than the average body temperature.\".format(name, gender, temp-mean_temp, higher_lower))\n",
        "    print(\"\\n\")"
      ]
    },
    {
      "cell_type": "markdown",
      "metadata": {
        "id": "gPGGUS1Uzhit"
      },
      "source": [
        "### Filtering and Where Clause\n",
        "\n",
        "If You want to remove rows from a data frame based on a filter, You can use the ```where()``` function. \n"
      ]
    },
    {
      "cell_type": "code",
      "execution_count": 56,
      "metadata": {
        "colab": {
          "base_uri": "https://localhost:8080/",
          "height": 238
        },
        "id": "CDVfxVfIzsYR",
        "outputId": "2bcd0d08-5123-4773-cb6c-9eadda5ddc0e"
      },
      "outputs": [
        {
          "data": {
            "text/html": [
              "<div>\n",
              "<style scoped>\n",
              "    .dataframe tbody tr th:only-of-type {\n",
              "        vertical-align: middle;\n",
              "    }\n",
              "\n",
              "    .dataframe tbody tr th {\n",
              "        vertical-align: top;\n",
              "    }\n",
              "\n",
              "    .dataframe thead th {\n",
              "        text-align: right;\n",
              "    }\n",
              "</style>\n",
              "<table border=\"1\" class=\"dataframe\">\n",
              "  <thead>\n",
              "    <tr style=\"text-align: right;\">\n",
              "      <th></th>\n",
              "      <th>Gender</th>\n",
              "      <th>Education</th>\n",
              "      <th>Body_temperature_celsius</th>\n",
              "      <th>points_in_exam</th>\n",
              "      <th>points_bonus</th>\n",
              "    </tr>\n",
              "    <tr>\n",
              "      <th>Name</th>\n",
              "      <th></th>\n",
              "      <th></th>\n",
              "      <th></th>\n",
              "      <th></th>\n",
              "      <th></th>\n",
              "    </tr>\n",
              "  </thead>\n",
              "  <tbody>\n",
              "    <tr>\n",
              "      <th>A</th>\n",
              "      <td>Male</td>\n",
              "      <td>M.Sc.</td>\n",
              "      <td>37.85</td>\n",
              "      <td>0</td>\n",
              "      <td>5</td>\n",
              "    </tr>\n",
              "    <tr>\n",
              "      <th>B</th>\n",
              "      <td>Female</td>\n",
              "      <td>B.Sc.</td>\n",
              "      <td>39.85</td>\n",
              "      <td>100</td>\n",
              "      <td>10</td>\n",
              "    </tr>\n",
              "    <tr>\n",
              "      <th>C</th>\n",
              "      <td>Female</td>\n",
              "      <td>B.Sc.</td>\n",
              "      <td>38.85</td>\n",
              "      <td>80</td>\n",
              "      <td>0</td>\n",
              "    </tr>\n",
              "    <tr>\n",
              "      <th>D</th>\n",
              "      <td>Female</td>\n",
              "      <td>PhD</td>\n",
              "      <td>36.85</td>\n",
              "      <td>80</td>\n",
              "      <td>5</td>\n",
              "    </tr>\n",
              "    <tr>\n",
              "      <th>E</th>\n",
              "      <td>Male</td>\n",
              "      <td>none</td>\n",
              "      <td>37.85</td>\n",
              "      <td>40</td>\n",
              "      <td>5</td>\n",
              "    </tr>\n",
              "  </tbody>\n",
              "</table>\n",
              "</div>"
            ],
            "text/plain": [
              "      Gender Education  Body_temperature_celsius  points_in_exam  points_bonus\n",
              "Name                                                                          \n",
              "A       Male     M.Sc.                     37.85               0             5\n",
              "B     Female     B.Sc.                     39.85             100            10\n",
              "C     Female     B.Sc.                     38.85              80             0\n",
              "D     Female       PhD                     36.85              80             5\n",
              "E       Male      none                     37.85              40             5"
            ]
          },
          "execution_count": 56,
          "metadata": {},
          "output_type": "execute_result"
        }
      ],
      "source": [
        "df"
      ]
    },
    {
      "cell_type": "markdown",
      "metadata": {
        "id": "gXwPdQjc0evo"
      },
      "source": [
        "Filters are comparisons between columns or values and colums, that return a series of Boolean values:"
      ]
    },
    {
      "cell_type": "code",
      "execution_count": 57,
      "metadata": {
        "colab": {
          "base_uri": "https://localhost:8080/"
        },
        "id": "fCpYuCmU0Vax",
        "outputId": "66ec0df1-69b9-4ce3-f229-1bd31b3af31a"
      },
      "outputs": [
        {
          "data": {
            "text/plain": [
              "Name\n",
              "A    False\n",
              "B     True\n",
              "C     True\n",
              "D     True\n",
              "E    False\n",
              "Name: Gender, dtype: bool"
            ]
          },
          "execution_count": 57,
          "metadata": {},
          "output_type": "execute_result"
        }
      ],
      "source": [
        "df[\"Gender\"]==\"Female\""
      ]
    },
    {
      "cell_type": "markdown",
      "metadata": {
        "id": "XmKnoZuG0rAt"
      },
      "source": [
        "You can use such filters in a where clause to remove rows in a data frame replacing them by ```NaN```"
      ]
    },
    {
      "cell_type": "code",
      "execution_count": null,
      "metadata": {
        "colab": {
          "base_uri": "https://localhost:8080/",
          "height": 238
        },
        "id": "jeFbz4KTzky9",
        "outputId": "456eb15b-175a-44f0-c071-62aa1622575a"
      },
      "outputs": [
        {
          "data": {
            "text/html": [
              "\n",
              "  <div id=\"df-8e2059f7-1228-4d3a-928b-fea0cc4eda74\">\n",
              "    <div class=\"colab-df-container\">\n",
              "      <div>\n",
              "<style scoped>\n",
              "    .dataframe tbody tr th:only-of-type {\n",
              "        vertical-align: middle;\n",
              "    }\n",
              "\n",
              "    .dataframe tbody tr th {\n",
              "        vertical-align: top;\n",
              "    }\n",
              "\n",
              "    .dataframe thead th {\n",
              "        text-align: right;\n",
              "    }\n",
              "</style>\n",
              "<table border=\"1\" class=\"dataframe\">\n",
              "  <thead>\n",
              "    <tr style=\"text-align: right;\">\n",
              "      <th></th>\n",
              "      <th>Gender</th>\n",
              "      <th>Education</th>\n",
              "      <th>Body_temperature_celsius</th>\n",
              "      <th>points_in_exam</th>\n",
              "      <th>points_bonus</th>\n",
              "    </tr>\n",
              "    <tr>\n",
              "      <th>Name</th>\n",
              "      <th></th>\n",
              "      <th></th>\n",
              "      <th></th>\n",
              "      <th></th>\n",
              "      <th></th>\n",
              "    </tr>\n",
              "  </thead>\n",
              "  <tbody>\n",
              "    <tr>\n",
              "      <th>A</th>\n",
              "      <td>NaN</td>\n",
              "      <td>NaN</td>\n",
              "      <td>NaN</td>\n",
              "      <td>NaN</td>\n",
              "      <td>NaN</td>\n",
              "    </tr>\n",
              "    <tr>\n",
              "      <th>B</th>\n",
              "      <td>Female</td>\n",
              "      <td>B.Sc.</td>\n",
              "      <td>39.85</td>\n",
              "      <td>100.0</td>\n",
              "      <td>10.0</td>\n",
              "    </tr>\n",
              "    <tr>\n",
              "      <th>C</th>\n",
              "      <td>Female</td>\n",
              "      <td>B.Sc.</td>\n",
              "      <td>38.85</td>\n",
              "      <td>80.0</td>\n",
              "      <td>0.0</td>\n",
              "    </tr>\n",
              "    <tr>\n",
              "      <th>D</th>\n",
              "      <td>Female</td>\n",
              "      <td>PhD</td>\n",
              "      <td>36.85</td>\n",
              "      <td>80.0</td>\n",
              "      <td>5.0</td>\n",
              "    </tr>\n",
              "    <tr>\n",
              "      <th>E</th>\n",
              "      <td>NaN</td>\n",
              "      <td>NaN</td>\n",
              "      <td>NaN</td>\n",
              "      <td>NaN</td>\n",
              "      <td>NaN</td>\n",
              "    </tr>\n",
              "  </tbody>\n",
              "</table>\n",
              "</div>\n",
              "      <button class=\"colab-df-convert\" onclick=\"convertToInteractive('df-8e2059f7-1228-4d3a-928b-fea0cc4eda74')\"\n",
              "              title=\"Convert this dataframe to an interactive table.\"\n",
              "              style=\"display:none;\">\n",
              "        \n",
              "  <svg xmlns=\"http://www.w3.org/2000/svg\" height=\"24px\"viewBox=\"0 0 24 24\"\n",
              "       width=\"24px\">\n",
              "    <path d=\"M0 0h24v24H0V0z\" fill=\"none\"/>\n",
              "    <path d=\"M18.56 5.44l.94 2.06.94-2.06 2.06-.94-2.06-.94-.94-2.06-.94 2.06-2.06.94zm-11 1L8.5 8.5l.94-2.06 2.06-.94-2.06-.94L8.5 2.5l-.94 2.06-2.06.94zm10 10l.94 2.06.94-2.06 2.06-.94-2.06-.94-.94-2.06-.94 2.06-2.06.94z\"/><path d=\"M17.41 7.96l-1.37-1.37c-.4-.4-.92-.59-1.43-.59-.52 0-1.04.2-1.43.59L10.3 9.45l-7.72 7.72c-.78.78-.78 2.05 0 2.83L4 21.41c.39.39.9.59 1.41.59.51 0 1.02-.2 1.41-.59l7.78-7.78 2.81-2.81c.8-.78.8-2.07 0-2.86zM5.41 20L4 18.59l7.72-7.72 1.47 1.35L5.41 20z\"/>\n",
              "  </svg>\n",
              "      </button>\n",
              "      \n",
              "  <style>\n",
              "    .colab-df-container {\n",
              "      display:flex;\n",
              "      flex-wrap:wrap;\n",
              "      gap: 12px;\n",
              "    }\n",
              "\n",
              "    .colab-df-convert {\n",
              "      background-color: #E8F0FE;\n",
              "      border: none;\n",
              "      border-radius: 50%;\n",
              "      cursor: pointer;\n",
              "      display: none;\n",
              "      fill: #1967D2;\n",
              "      height: 32px;\n",
              "      padding: 0 0 0 0;\n",
              "      width: 32px;\n",
              "    }\n",
              "\n",
              "    .colab-df-convert:hover {\n",
              "      background-color: #E2EBFA;\n",
              "      box-shadow: 0px 1px 2px rgba(60, 64, 67, 0.3), 0px 1px 3px 1px rgba(60, 64, 67, 0.15);\n",
              "      fill: #174EA6;\n",
              "    }\n",
              "\n",
              "    [theme=dark] .colab-df-convert {\n",
              "      background-color: #3B4455;\n",
              "      fill: #D2E3FC;\n",
              "    }\n",
              "\n",
              "    [theme=dark] .colab-df-convert:hover {\n",
              "      background-color: #434B5C;\n",
              "      box-shadow: 0px 1px 3px 1px rgba(0, 0, 0, 0.15);\n",
              "      filter: drop-shadow(0px 1px 2px rgba(0, 0, 0, 0.3));\n",
              "      fill: #FFFFFF;\n",
              "    }\n",
              "  </style>\n",
              "\n",
              "      <script>\n",
              "        const buttonEl =\n",
              "          document.querySelector('#df-8e2059f7-1228-4d3a-928b-fea0cc4eda74 button.colab-df-convert');\n",
              "        buttonEl.style.display =\n",
              "          google.colab.kernel.accessAllowed ? 'block' : 'none';\n",
              "\n",
              "        async function convertToInteractive(key) {\n",
              "          const element = document.querySelector('#df-8e2059f7-1228-4d3a-928b-fea0cc4eda74');\n",
              "          const dataTable =\n",
              "            await google.colab.kernel.invokeFunction('convertToInteractive',\n",
              "                                                     [key], {});\n",
              "          if (!dataTable) return;\n",
              "\n",
              "          const docLinkHtml = 'Like what you see? Visit the ' +\n",
              "            '<a target=\"_blank\" href=https://colab.research.google.com/notebooks/data_table.ipynb>data table notebook</a>'\n",
              "            + ' to learn more about interactive tables.';\n",
              "          element.innerHTML = '';\n",
              "          dataTable['output_type'] = 'display_data';\n",
              "          await google.colab.output.renderOutput(dataTable, element);\n",
              "          const docLink = document.createElement('div');\n",
              "          docLink.innerHTML = docLinkHtml;\n",
              "          element.appendChild(docLink);\n",
              "        }\n",
              "      </script>\n",
              "    </div>\n",
              "  </div>\n",
              "  "
            ],
            "text/plain": [
              "      Gender Education  Body_temperature_celsius  points_in_exam  points_bonus\n",
              "Name                                                                          \n",
              "A        NaN       NaN                       NaN             NaN           NaN\n",
              "B     Female     B.Sc.                     39.85           100.0          10.0\n",
              "C     Female     B.Sc.                     38.85            80.0           0.0\n",
              "D     Female       PhD                     36.85            80.0           5.0\n",
              "E        NaN       NaN                       NaN             NaN           NaN"
            ]
          },
          "execution_count": 158,
          "metadata": {},
          "output_type": "execute_result"
        }
      ],
      "source": [
        "  \n",
        "# making boolean series for a team name\n",
        "filter1 = df[\"Gender\"]==\"Female\"\n",
        "  \n",
        "# making boolean series for age\n",
        "filter2 = df[\"points_in_exam\"]>60\n",
        "  \n",
        "# filtering data on basis of both filters\n",
        "filtered_df = df.where(filter1 & filter2)\n",
        "  \n",
        "# display\n",
        "filtered_df"
      ]
    },
    {
      "cell_type": "code",
      "execution_count": null,
      "metadata": {
        "colab": {
          "base_uri": "https://localhost:8080/",
          "height": 175
        },
        "id": "W5soW0I5z_al",
        "outputId": "a7544255-16e4-489b-8c58-298943455a1d"
      },
      "outputs": [
        {
          "data": {
            "text/html": [
              "\n",
              "  <div id=\"df-21e0476f-ba64-4a97-ba5e-5e745c78ebe6\">\n",
              "    <div class=\"colab-df-container\">\n",
              "      <div>\n",
              "<style scoped>\n",
              "    .dataframe tbody tr th:only-of-type {\n",
              "        vertical-align: middle;\n",
              "    }\n",
              "\n",
              "    .dataframe tbody tr th {\n",
              "        vertical-align: top;\n",
              "    }\n",
              "\n",
              "    .dataframe thead th {\n",
              "        text-align: right;\n",
              "    }\n",
              "</style>\n",
              "<table border=\"1\" class=\"dataframe\">\n",
              "  <thead>\n",
              "    <tr style=\"text-align: right;\">\n",
              "      <th></th>\n",
              "      <th>Gender</th>\n",
              "      <th>Education</th>\n",
              "      <th>Body_temperature_celsius</th>\n",
              "      <th>points_in_exam</th>\n",
              "      <th>points_bonus</th>\n",
              "    </tr>\n",
              "    <tr>\n",
              "      <th>Name</th>\n",
              "      <th></th>\n",
              "      <th></th>\n",
              "      <th></th>\n",
              "      <th></th>\n",
              "      <th></th>\n",
              "    </tr>\n",
              "  </thead>\n",
              "  <tbody>\n",
              "    <tr>\n",
              "      <th>B</th>\n",
              "      <td>Female</td>\n",
              "      <td>B.Sc.</td>\n",
              "      <td>39.85</td>\n",
              "      <td>100.0</td>\n",
              "      <td>10.0</td>\n",
              "    </tr>\n",
              "    <tr>\n",
              "      <th>C</th>\n",
              "      <td>Female</td>\n",
              "      <td>B.Sc.</td>\n",
              "      <td>38.85</td>\n",
              "      <td>80.0</td>\n",
              "      <td>0.0</td>\n",
              "    </tr>\n",
              "    <tr>\n",
              "      <th>D</th>\n",
              "      <td>Female</td>\n",
              "      <td>PhD</td>\n",
              "      <td>36.85</td>\n",
              "      <td>80.0</td>\n",
              "      <td>5.0</td>\n",
              "    </tr>\n",
              "  </tbody>\n",
              "</table>\n",
              "</div>\n",
              "      <button class=\"colab-df-convert\" onclick=\"convertToInteractive('df-21e0476f-ba64-4a97-ba5e-5e745c78ebe6')\"\n",
              "              title=\"Convert this dataframe to an interactive table.\"\n",
              "              style=\"display:none;\">\n",
              "        \n",
              "  <svg xmlns=\"http://www.w3.org/2000/svg\" height=\"24px\"viewBox=\"0 0 24 24\"\n",
              "       width=\"24px\">\n",
              "    <path d=\"M0 0h24v24H0V0z\" fill=\"none\"/>\n",
              "    <path d=\"M18.56 5.44l.94 2.06.94-2.06 2.06-.94-2.06-.94-.94-2.06-.94 2.06-2.06.94zm-11 1L8.5 8.5l.94-2.06 2.06-.94-2.06-.94L8.5 2.5l-.94 2.06-2.06.94zm10 10l.94 2.06.94-2.06 2.06-.94-2.06-.94-.94-2.06-.94 2.06-2.06.94z\"/><path d=\"M17.41 7.96l-1.37-1.37c-.4-.4-.92-.59-1.43-.59-.52 0-1.04.2-1.43.59L10.3 9.45l-7.72 7.72c-.78.78-.78 2.05 0 2.83L4 21.41c.39.39.9.59 1.41.59.51 0 1.02-.2 1.41-.59l7.78-7.78 2.81-2.81c.8-.78.8-2.07 0-2.86zM5.41 20L4 18.59l7.72-7.72 1.47 1.35L5.41 20z\"/>\n",
              "  </svg>\n",
              "      </button>\n",
              "      \n",
              "  <style>\n",
              "    .colab-df-container {\n",
              "      display:flex;\n",
              "      flex-wrap:wrap;\n",
              "      gap: 12px;\n",
              "    }\n",
              "\n",
              "    .colab-df-convert {\n",
              "      background-color: #E8F0FE;\n",
              "      border: none;\n",
              "      border-radius: 50%;\n",
              "      cursor: pointer;\n",
              "      display: none;\n",
              "      fill: #1967D2;\n",
              "      height: 32px;\n",
              "      padding: 0 0 0 0;\n",
              "      width: 32px;\n",
              "    }\n",
              "\n",
              "    .colab-df-convert:hover {\n",
              "      background-color: #E2EBFA;\n",
              "      box-shadow: 0px 1px 2px rgba(60, 64, 67, 0.3), 0px 1px 3px 1px rgba(60, 64, 67, 0.15);\n",
              "      fill: #174EA6;\n",
              "    }\n",
              "\n",
              "    [theme=dark] .colab-df-convert {\n",
              "      background-color: #3B4455;\n",
              "      fill: #D2E3FC;\n",
              "    }\n",
              "\n",
              "    [theme=dark] .colab-df-convert:hover {\n",
              "      background-color: #434B5C;\n",
              "      box-shadow: 0px 1px 3px 1px rgba(0, 0, 0, 0.15);\n",
              "      filter: drop-shadow(0px 1px 2px rgba(0, 0, 0, 0.3));\n",
              "      fill: #FFFFFF;\n",
              "    }\n",
              "  </style>\n",
              "\n",
              "      <script>\n",
              "        const buttonEl =\n",
              "          document.querySelector('#df-21e0476f-ba64-4a97-ba5e-5e745c78ebe6 button.colab-df-convert');\n",
              "        buttonEl.style.display =\n",
              "          google.colab.kernel.accessAllowed ? 'block' : 'none';\n",
              "\n",
              "        async function convertToInteractive(key) {\n",
              "          const element = document.querySelector('#df-21e0476f-ba64-4a97-ba5e-5e745c78ebe6');\n",
              "          const dataTable =\n",
              "            await google.colab.kernel.invokeFunction('convertToInteractive',\n",
              "                                                     [key], {});\n",
              "          if (!dataTable) return;\n",
              "\n",
              "          const docLinkHtml = 'Like what you see? Visit the ' +\n",
              "            '<a target=\"_blank\" href=https://colab.research.google.com/notebooks/data_table.ipynb>data table notebook</a>'\n",
              "            + ' to learn more about interactive tables.';\n",
              "          element.innerHTML = '';\n",
              "          dataTable['output_type'] = 'display_data';\n",
              "          await google.colab.output.renderOutput(dataTable, element);\n",
              "          const docLink = document.createElement('div');\n",
              "          docLink.innerHTML = docLinkHtml;\n",
              "          element.appendChild(docLink);\n",
              "        }\n",
              "      </script>\n",
              "    </div>\n",
              "  </div>\n",
              "  "
            ],
            "text/plain": [
              "      Gender Education  Body_temperature_celsius  points_in_exam  points_bonus\n",
              "Name                                                                          \n",
              "B     Female     B.Sc.                     39.85           100.0          10.0\n",
              "C     Female     B.Sc.                     38.85            80.0           0.0\n",
              "D     Female       PhD                     36.85            80.0           5.0"
            ]
          },
          "execution_count": 164,
          "metadata": {},
          "output_type": "execute_result"
        }
      ],
      "source": [
        "filtered_df.dropna()"
      ]
    },
    {
      "cell_type": "markdown",
      "metadata": {
        "id": "1c-rzoiU1e8O"
      },
      "source": [
        "You might come across a shorter notation with the same effect. Here the series reternd by the filter is used for indexing the data frame:"
      ]
    },
    {
      "cell_type": "code",
      "execution_count": null,
      "metadata": {
        "colab": {
          "base_uri": "https://localhost:8080/",
          "height": 175
        },
        "id": "9AWdVG8d05FC",
        "outputId": "25f3c1fc-4258-453f-eb0d-aa73aa88ce47"
      },
      "outputs": [
        {
          "data": {
            "text/html": [
              "\n",
              "  <div id=\"df-2226036e-ef9b-49c8-bf6b-754bddb5f946\">\n",
              "    <div class=\"colab-df-container\">\n",
              "      <div>\n",
              "<style scoped>\n",
              "    .dataframe tbody tr th:only-of-type {\n",
              "        vertical-align: middle;\n",
              "    }\n",
              "\n",
              "    .dataframe tbody tr th {\n",
              "        vertical-align: top;\n",
              "    }\n",
              "\n",
              "    .dataframe thead th {\n",
              "        text-align: right;\n",
              "    }\n",
              "</style>\n",
              "<table border=\"1\" class=\"dataframe\">\n",
              "  <thead>\n",
              "    <tr style=\"text-align: right;\">\n",
              "      <th></th>\n",
              "      <th>Gender</th>\n",
              "      <th>Education</th>\n",
              "      <th>Body_temperature_celsius</th>\n",
              "      <th>points_in_exam</th>\n",
              "      <th>points_bonus</th>\n",
              "    </tr>\n",
              "    <tr>\n",
              "      <th>Name</th>\n",
              "      <th></th>\n",
              "      <th></th>\n",
              "      <th></th>\n",
              "      <th></th>\n",
              "      <th></th>\n",
              "    </tr>\n",
              "  </thead>\n",
              "  <tbody>\n",
              "    <tr>\n",
              "      <th>B</th>\n",
              "      <td>Female</td>\n",
              "      <td>B.Sc.</td>\n",
              "      <td>39.85</td>\n",
              "      <td>100</td>\n",
              "      <td>10</td>\n",
              "    </tr>\n",
              "    <tr>\n",
              "      <th>C</th>\n",
              "      <td>Female</td>\n",
              "      <td>B.Sc.</td>\n",
              "      <td>38.85</td>\n",
              "      <td>80</td>\n",
              "      <td>0</td>\n",
              "    </tr>\n",
              "    <tr>\n",
              "      <th>D</th>\n",
              "      <td>Female</td>\n",
              "      <td>PhD</td>\n",
              "      <td>36.85</td>\n",
              "      <td>80</td>\n",
              "      <td>5</td>\n",
              "    </tr>\n",
              "  </tbody>\n",
              "</table>\n",
              "</div>\n",
              "      <button class=\"colab-df-convert\" onclick=\"convertToInteractive('df-2226036e-ef9b-49c8-bf6b-754bddb5f946')\"\n",
              "              title=\"Convert this dataframe to an interactive table.\"\n",
              "              style=\"display:none;\">\n",
              "        \n",
              "  <svg xmlns=\"http://www.w3.org/2000/svg\" height=\"24px\"viewBox=\"0 0 24 24\"\n",
              "       width=\"24px\">\n",
              "    <path d=\"M0 0h24v24H0V0z\" fill=\"none\"/>\n",
              "    <path d=\"M18.56 5.44l.94 2.06.94-2.06 2.06-.94-2.06-.94-.94-2.06-.94 2.06-2.06.94zm-11 1L8.5 8.5l.94-2.06 2.06-.94-2.06-.94L8.5 2.5l-.94 2.06-2.06.94zm10 10l.94 2.06.94-2.06 2.06-.94-2.06-.94-.94-2.06-.94 2.06-2.06.94z\"/><path d=\"M17.41 7.96l-1.37-1.37c-.4-.4-.92-.59-1.43-.59-.52 0-1.04.2-1.43.59L10.3 9.45l-7.72 7.72c-.78.78-.78 2.05 0 2.83L4 21.41c.39.39.9.59 1.41.59.51 0 1.02-.2 1.41-.59l7.78-7.78 2.81-2.81c.8-.78.8-2.07 0-2.86zM5.41 20L4 18.59l7.72-7.72 1.47 1.35L5.41 20z\"/>\n",
              "  </svg>\n",
              "      </button>\n",
              "      \n",
              "  <style>\n",
              "    .colab-df-container {\n",
              "      display:flex;\n",
              "      flex-wrap:wrap;\n",
              "      gap: 12px;\n",
              "    }\n",
              "\n",
              "    .colab-df-convert {\n",
              "      background-color: #E8F0FE;\n",
              "      border: none;\n",
              "      border-radius: 50%;\n",
              "      cursor: pointer;\n",
              "      display: none;\n",
              "      fill: #1967D2;\n",
              "      height: 32px;\n",
              "      padding: 0 0 0 0;\n",
              "      width: 32px;\n",
              "    }\n",
              "\n",
              "    .colab-df-convert:hover {\n",
              "      background-color: #E2EBFA;\n",
              "      box-shadow: 0px 1px 2px rgba(60, 64, 67, 0.3), 0px 1px 3px 1px rgba(60, 64, 67, 0.15);\n",
              "      fill: #174EA6;\n",
              "    }\n",
              "\n",
              "    [theme=dark] .colab-df-convert {\n",
              "      background-color: #3B4455;\n",
              "      fill: #D2E3FC;\n",
              "    }\n",
              "\n",
              "    [theme=dark] .colab-df-convert:hover {\n",
              "      background-color: #434B5C;\n",
              "      box-shadow: 0px 1px 3px 1px rgba(0, 0, 0, 0.15);\n",
              "      filter: drop-shadow(0px 1px 2px rgba(0, 0, 0, 0.3));\n",
              "      fill: #FFFFFF;\n",
              "    }\n",
              "  </style>\n",
              "\n",
              "      <script>\n",
              "        const buttonEl =\n",
              "          document.querySelector('#df-2226036e-ef9b-49c8-bf6b-754bddb5f946 button.colab-df-convert');\n",
              "        buttonEl.style.display =\n",
              "          google.colab.kernel.accessAllowed ? 'block' : 'none';\n",
              "\n",
              "        async function convertToInteractive(key) {\n",
              "          const element = document.querySelector('#df-2226036e-ef9b-49c8-bf6b-754bddb5f946');\n",
              "          const dataTable =\n",
              "            await google.colab.kernel.invokeFunction('convertToInteractive',\n",
              "                                                     [key], {});\n",
              "          if (!dataTable) return;\n",
              "\n",
              "          const docLinkHtml = 'Like what you see? Visit the ' +\n",
              "            '<a target=\"_blank\" href=https://colab.research.google.com/notebooks/data_table.ipynb>data table notebook</a>'\n",
              "            + ' to learn more about interactive tables.';\n",
              "          element.innerHTML = '';\n",
              "          dataTable['output_type'] = 'display_data';\n",
              "          await google.colab.output.renderOutput(dataTable, element);\n",
              "          const docLink = document.createElement('div');\n",
              "          docLink.innerHTML = docLinkHtml;\n",
              "          element.appendChild(docLink);\n",
              "        }\n",
              "      </script>\n",
              "    </div>\n",
              "  </div>\n",
              "  "
            ],
            "text/plain": [
              "      Gender Education  Body_temperature_celsius  points_in_exam  points_bonus\n",
              "Name                                                                          \n",
              "B     Female     B.Sc.                     39.85             100            10\n",
              "C     Female     B.Sc.                     38.85              80             0\n",
              "D     Female       PhD                     36.85              80             5"
            ]
          },
          "execution_count": 165,
          "metadata": {},
          "output_type": "execute_result"
        }
      ],
      "source": [
        "df[df[\"Gender\"]==\"Female\"]\n"
      ]
    },
    {
      "cell_type": "markdown",
      "metadata": {
        "id": "fB_Glcb6zNoY"
      },
      "source": [
        "## Group By\n",
        "\n",
        "Groupby is a pretty simple concept. We can create a grouping of categories and apply a function to the categories. It’s a simple concept but it’s an extremely valuable technique that’s widely used in data science and when working with data bases.\n",
        "\n",
        "- Splitting : It is a process in which we split data into group by applying some conditions on datasets.\n",
        "- Applying : It is a process in which we apply a function to each group independently"
      ]
    },
    {
      "cell_type": "code",
      "execution_count": null,
      "metadata": {
        "colab": {
          "base_uri": "https://localhost:8080/"
        },
        "id": "JeD0QcjazL7p",
        "outputId": "df223400-c8f3-4fac-9429-6de22c054faa"
      },
      "outputs": [
        {
          "name": "stdout",
          "output_type": "stream",
          "text": [
            "{'Female': ['B', 'C', 'D'], 'Male': ['A', 'E']}\n"
          ]
        }
      ],
      "source": [
        "# Splitting the data\n",
        "df.groupby('Gender')\n",
        "print(df.groupby('Gender').groups)"
      ]
    },
    {
      "cell_type": "code",
      "execution_count": null,
      "metadata": {
        "colab": {
          "base_uri": "https://localhost:8080/",
          "height": 143
        },
        "id": "iXpvoCIxNT5L",
        "outputId": "4ff7909e-a5fc-4874-cbf5-243f5b7c25db"
      },
      "outputs": [
        {
          "data": {
            "text/html": [
              "\n",
              "  <div id=\"df-a64c18e6-b297-4b27-90d9-af36cc0b9f78\">\n",
              "    <div class=\"colab-df-container\">\n",
              "      <div>\n",
              "<style scoped>\n",
              "    .dataframe tbody tr th:only-of-type {\n",
              "        vertical-align: middle;\n",
              "    }\n",
              "\n",
              "    .dataframe tbody tr th {\n",
              "        vertical-align: top;\n",
              "    }\n",
              "\n",
              "    .dataframe thead th {\n",
              "        text-align: right;\n",
              "    }\n",
              "</style>\n",
              "<table border=\"1\" class=\"dataframe\">\n",
              "  <thead>\n",
              "    <tr style=\"text-align: right;\">\n",
              "      <th></th>\n",
              "      <th>Body_temperature_celsius</th>\n",
              "      <th>points_in_exam</th>\n",
              "    </tr>\n",
              "    <tr>\n",
              "      <th>Gender</th>\n",
              "      <th></th>\n",
              "      <th></th>\n",
              "    </tr>\n",
              "  </thead>\n",
              "  <tbody>\n",
              "    <tr>\n",
              "      <th>Female</th>\n",
              "      <td>38.516667</td>\n",
              "      <td>86.666667</td>\n",
              "    </tr>\n",
              "    <tr>\n",
              "      <th>Male</th>\n",
              "      <td>37.850000</td>\n",
              "      <td>20.000000</td>\n",
              "    </tr>\n",
              "  </tbody>\n",
              "</table>\n",
              "</div>\n",
              "      <button class=\"colab-df-convert\" onclick=\"convertToInteractive('df-a64c18e6-b297-4b27-90d9-af36cc0b9f78')\"\n",
              "              title=\"Convert this dataframe to an interactive table.\"\n",
              "              style=\"display:none;\">\n",
              "        \n",
              "  <svg xmlns=\"http://www.w3.org/2000/svg\" height=\"24px\"viewBox=\"0 0 24 24\"\n",
              "       width=\"24px\">\n",
              "    <path d=\"M0 0h24v24H0V0z\" fill=\"none\"/>\n",
              "    <path d=\"M18.56 5.44l.94 2.06.94-2.06 2.06-.94-2.06-.94-.94-2.06-.94 2.06-2.06.94zm-11 1L8.5 8.5l.94-2.06 2.06-.94-2.06-.94L8.5 2.5l-.94 2.06-2.06.94zm10 10l.94 2.06.94-2.06 2.06-.94-2.06-.94-.94-2.06-.94 2.06-2.06.94z\"/><path d=\"M17.41 7.96l-1.37-1.37c-.4-.4-.92-.59-1.43-.59-.52 0-1.04.2-1.43.59L10.3 9.45l-7.72 7.72c-.78.78-.78 2.05 0 2.83L4 21.41c.39.39.9.59 1.41.59.51 0 1.02-.2 1.41-.59l7.78-7.78 2.81-2.81c.8-.78.8-2.07 0-2.86zM5.41 20L4 18.59l7.72-7.72 1.47 1.35L5.41 20z\"/>\n",
              "  </svg>\n",
              "      </button>\n",
              "      \n",
              "  <style>\n",
              "    .colab-df-container {\n",
              "      display:flex;\n",
              "      flex-wrap:wrap;\n",
              "      gap: 12px;\n",
              "    }\n",
              "\n",
              "    .colab-df-convert {\n",
              "      background-color: #E8F0FE;\n",
              "      border: none;\n",
              "      border-radius: 50%;\n",
              "      cursor: pointer;\n",
              "      display: none;\n",
              "      fill: #1967D2;\n",
              "      height: 32px;\n",
              "      padding: 0 0 0 0;\n",
              "      width: 32px;\n",
              "    }\n",
              "\n",
              "    .colab-df-convert:hover {\n",
              "      background-color: #E2EBFA;\n",
              "      box-shadow: 0px 1px 2px rgba(60, 64, 67, 0.3), 0px 1px 3px 1px rgba(60, 64, 67, 0.15);\n",
              "      fill: #174EA6;\n",
              "    }\n",
              "\n",
              "    [theme=dark] .colab-df-convert {\n",
              "      background-color: #3B4455;\n",
              "      fill: #D2E3FC;\n",
              "    }\n",
              "\n",
              "    [theme=dark] .colab-df-convert:hover {\n",
              "      background-color: #434B5C;\n",
              "      box-shadow: 0px 1px 3px 1px rgba(0, 0, 0, 0.15);\n",
              "      filter: drop-shadow(0px 1px 2px rgba(0, 0, 0, 0.3));\n",
              "      fill: #FFFFFF;\n",
              "    }\n",
              "  </style>\n",
              "\n",
              "      <script>\n",
              "        const buttonEl =\n",
              "          document.querySelector('#df-a64c18e6-b297-4b27-90d9-af36cc0b9f78 button.colab-df-convert');\n",
              "        buttonEl.style.display =\n",
              "          google.colab.kernel.accessAllowed ? 'block' : 'none';\n",
              "\n",
              "        async function convertToInteractive(key) {\n",
              "          const element = document.querySelector('#df-a64c18e6-b297-4b27-90d9-af36cc0b9f78');\n",
              "          const dataTable =\n",
              "            await google.colab.kernel.invokeFunction('convertToInteractive',\n",
              "                                                     [key], {});\n",
              "          if (!dataTable) return;\n",
              "\n",
              "          const docLinkHtml = 'Like what you see? Visit the ' +\n",
              "            '<a target=\"_blank\" href=https://colab.research.google.com/notebooks/data_table.ipynb>data table notebook</a>'\n",
              "            + ' to learn more about interactive tables.';\n",
              "          element.innerHTML = '';\n",
              "          dataTable['output_type'] = 'display_data';\n",
              "          await google.colab.output.renderOutput(dataTable, element);\n",
              "          const docLink = document.createElement('div');\n",
              "          docLink.innerHTML = docLinkHtml;\n",
              "          element.appendChild(docLink);\n",
              "        }\n",
              "      </script>\n",
              "    </div>\n",
              "  </div>\n",
              "  "
            ],
            "text/plain": [
              "        Body_temperature_celsius  points_in_exam\n",
              "Gender                                          \n",
              "Female                 38.516667       86.666667\n",
              "Male                   37.850000       20.000000"
            ]
          },
          "execution_count": 11,
          "metadata": {},
          "output_type": "execute_result"
        }
      ],
      "source": [
        "# Splitting and applying a fuction\n",
        "df.groupby('Gender').mean()"
      ]
    },
    {
      "cell_type": "markdown",
      "metadata": {
        "id": "2mbUeT6oN3H4"
      },
      "source": [
        "✍️ **Task**\n",
        "\n",
        "Split the data by the highest education and return the minimum points in the exam in each group. Try to return a series with only the eduction and the points  "
      ]
    },
    {
      "cell_type": "code",
      "execution_count": 79,
      "metadata": {},
      "outputs": [
        {
          "data": {
            "text/html": [
              "<div>\n",
              "<style scoped>\n",
              "    .dataframe tbody tr th:only-of-type {\n",
              "        vertical-align: middle;\n",
              "    }\n",
              "\n",
              "    .dataframe tbody tr th {\n",
              "        vertical-align: top;\n",
              "    }\n",
              "\n",
              "    .dataframe thead th {\n",
              "        text-align: right;\n",
              "    }\n",
              "</style>\n",
              "<table border=\"1\" class=\"dataframe\">\n",
              "  <thead>\n",
              "    <tr style=\"text-align: right;\">\n",
              "      <th></th>\n",
              "      <th>Gender</th>\n",
              "      <th>Body_temperature_celsius</th>\n",
              "      <th>points_in_exam</th>\n",
              "      <th>points_bonus</th>\n",
              "    </tr>\n",
              "    <tr>\n",
              "      <th>Education</th>\n",
              "      <th></th>\n",
              "      <th></th>\n",
              "      <th></th>\n",
              "      <th></th>\n",
              "    </tr>\n",
              "  </thead>\n",
              "  <tbody>\n",
              "    <tr>\n",
              "      <th>B.Sc.</th>\n",
              "      <td>Female</td>\n",
              "      <td>38.85</td>\n",
              "      <td>80</td>\n",
              "      <td>0</td>\n",
              "    </tr>\n",
              "    <tr>\n",
              "      <th>M.Sc.</th>\n",
              "      <td>Male</td>\n",
              "      <td>37.85</td>\n",
              "      <td>0</td>\n",
              "      <td>5</td>\n",
              "    </tr>\n",
              "    <tr>\n",
              "      <th>PhD</th>\n",
              "      <td>Female</td>\n",
              "      <td>36.85</td>\n",
              "      <td>80</td>\n",
              "      <td>5</td>\n",
              "    </tr>\n",
              "    <tr>\n",
              "      <th>none</th>\n",
              "      <td>Male</td>\n",
              "      <td>37.85</td>\n",
              "      <td>40</td>\n",
              "      <td>5</td>\n",
              "    </tr>\n",
              "  </tbody>\n",
              "</table>\n",
              "</div>"
            ],
            "text/plain": [
              "           Gender  Body_temperature_celsius  points_in_exam  points_bonus\n",
              "Education                                                                \n",
              "B.Sc.      Female                     38.85              80             0\n",
              "M.Sc.        Male                     37.85               0             5\n",
              "PhD        Female                     36.85              80             5\n",
              "none         Male                     37.85              40             5"
            ]
          },
          "execution_count": 79,
          "metadata": {},
          "output_type": "execute_result"
        }
      ],
      "source": [
        "df.groupby('Education').min()"
      ]
    },
    {
      "cell_type": "code",
      "execution_count": 78,
      "metadata": {
        "colab": {
          "base_uri": "https://localhost:8080/"
        },
        "id": "8J1hcfHMOG6I",
        "outputId": "8b577a8b-3e0c-4e7b-fa65-77a20508097d"
      },
      "outputs": [
        {
          "data": {
            "text/plain": [
              "Education\n",
              "B.Sc.    80\n",
              "M.Sc.     0\n",
              "PhD      80\n",
              "none     40\n",
              "Name: points_in_exam, dtype: int64"
            ]
          },
          "execution_count": 78,
          "metadata": {},
          "output_type": "execute_result"
        }
      ],
      "source": [
        "df.groupby('Education').min()['points_in_exam']"
      ]
    },
    {
      "cell_type": "markdown",
      "metadata": {
        "id": "YvUpHYshsKUl"
      },
      "source": [
        "# 🏁 Recap\n",
        "\n",
        "- If you have finished the tasks and have no questions, place the green card on top.\n",
        "- If you have finished the tasks but would like to discuss the solutions together again, place the yellow card on top.\n",
        "\n",
        "![](https://www.lokalinfo.ch/fileadmin/news_import/image003_03.jpg)"
      ]
    },
    {
      "cell_type": "markdown",
      "metadata": {
        "id": "eGccDXdGXyj8"
      },
      "source": [
        "## Operations on Columns\n",
        "\n",
        "Pandas allows operations on the colums. For instance, you can use a constant value You apply to all columns.\n"
      ]
    },
    {
      "cell_type": "code",
      "execution_count": null,
      "metadata": {
        "colab": {
          "base_uri": "https://localhost:8080/"
        },
        "id": "eEURZQS1X40h",
        "outputId": "b94615f3-c6c0-45a6-8059-87bb2889acf0"
      },
      "outputs": [
        {
          "data": {
            "text/plain": [
              "Name\n",
              "A     0.0\n",
              "B    10.0\n",
              "C     8.0\n",
              "D     8.0\n",
              "E     4.0\n",
              "Name: points_in_exam, dtype: float64"
            ]
          },
          "execution_count": 55,
          "metadata": {},
          "output_type": "execute_result"
        }
      ],
      "source": [
        "# Changing Colums\n",
        "df['points_in_exam']/10"
      ]
    },
    {
      "cell_type": "markdown",
      "metadata": {
        "id": "NeDUy42BaNxl"
      },
      "source": [
        "or operate on colums of the same row:"
      ]
    },
    {
      "cell_type": "code",
      "execution_count": null,
      "metadata": {
        "colab": {
          "base_uri": "https://localhost:8080/"
        },
        "id": "b6sVdjbaZ75l",
        "outputId": "ff611949-ad0c-4340-fa02-51768a97eaa0"
      },
      "outputs": [
        {
          "data": {
            "text/plain": [
              "Name\n",
              "A      5\n",
              "B    110\n",
              "C     80\n",
              "D     80\n",
              "E     45\n",
              "dtype: int64"
            ]
          },
          "execution_count": 57,
          "metadata": {},
          "output_type": "execute_result"
        }
      ],
      "source": [
        "# Creating new colums\n",
        "df['points_in_exam'] + df['points_bonus']"
      ]
    },
    {
      "cell_type": "markdown",
      "metadata": {
        "id": "72fm4unRaXQW"
      },
      "source": [
        "## Creating new Columns\n",
        "\n",
        "You can create new colums an fill them all with the same value or calculations based on other columns:"
      ]
    },
    {
      "cell_type": "code",
      "execution_count": null,
      "metadata": {
        "colab": {
          "base_uri": "https://localhost:8080/",
          "height": 238
        },
        "id": "Ofc2J1AlZs92",
        "outputId": "cb338b8d-c185-4a93-9241-c080b9ff6e8d"
      },
      "outputs": [
        {
          "data": {
            "text/html": [
              "\n",
              "  <div id=\"df-0bfec77e-eecd-425d-bc84-868263774001\">\n",
              "    <div class=\"colab-df-container\">\n",
              "      <div>\n",
              "<style scoped>\n",
              "    .dataframe tbody tr th:only-of-type {\n",
              "        vertical-align: middle;\n",
              "    }\n",
              "\n",
              "    .dataframe tbody tr th {\n",
              "        vertical-align: top;\n",
              "    }\n",
              "\n",
              "    .dataframe thead th {\n",
              "        text-align: right;\n",
              "    }\n",
              "</style>\n",
              "<table border=\"1\" class=\"dataframe\">\n",
              "  <thead>\n",
              "    <tr style=\"text-align: right;\">\n",
              "      <th></th>\n",
              "      <th>Gender</th>\n",
              "      <th>Education</th>\n",
              "      <th>Body_temperature_celsius</th>\n",
              "      <th>points_in_exam</th>\n",
              "      <th>points_bonus</th>\n",
              "      <th>frist_try</th>\n",
              "    </tr>\n",
              "    <tr>\n",
              "      <th>Name</th>\n",
              "      <th></th>\n",
              "      <th></th>\n",
              "      <th></th>\n",
              "      <th></th>\n",
              "      <th></th>\n",
              "      <th></th>\n",
              "    </tr>\n",
              "  </thead>\n",
              "  <tbody>\n",
              "    <tr>\n",
              "      <th>A</th>\n",
              "      <td>Male</td>\n",
              "      <td>M.Sc.</td>\n",
              "      <td>37.85</td>\n",
              "      <td>0</td>\n",
              "      <td>5</td>\n",
              "      <td>True</td>\n",
              "    </tr>\n",
              "    <tr>\n",
              "      <th>B</th>\n",
              "      <td>Female</td>\n",
              "      <td>B.Sc.</td>\n",
              "      <td>39.85</td>\n",
              "      <td>100</td>\n",
              "      <td>10</td>\n",
              "      <td>True</td>\n",
              "    </tr>\n",
              "    <tr>\n",
              "      <th>C</th>\n",
              "      <td>Female</td>\n",
              "      <td>B.Sc.</td>\n",
              "      <td>38.85</td>\n",
              "      <td>80</td>\n",
              "      <td>0</td>\n",
              "      <td>True</td>\n",
              "    </tr>\n",
              "    <tr>\n",
              "      <th>D</th>\n",
              "      <td>Female</td>\n",
              "      <td>PhD</td>\n",
              "      <td>36.85</td>\n",
              "      <td>80</td>\n",
              "      <td>0</td>\n",
              "      <td>True</td>\n",
              "    </tr>\n",
              "    <tr>\n",
              "      <th>E</th>\n",
              "      <td>Male</td>\n",
              "      <td>none</td>\n",
              "      <td>37.85</td>\n",
              "      <td>40</td>\n",
              "      <td>5</td>\n",
              "      <td>True</td>\n",
              "    </tr>\n",
              "  </tbody>\n",
              "</table>\n",
              "</div>\n",
              "      <button class=\"colab-df-convert\" onclick=\"convertToInteractive('df-0bfec77e-eecd-425d-bc84-868263774001')\"\n",
              "              title=\"Convert this dataframe to an interactive table.\"\n",
              "              style=\"display:none;\">\n",
              "        \n",
              "  <svg xmlns=\"http://www.w3.org/2000/svg\" height=\"24px\"viewBox=\"0 0 24 24\"\n",
              "       width=\"24px\">\n",
              "    <path d=\"M0 0h24v24H0V0z\" fill=\"none\"/>\n",
              "    <path d=\"M18.56 5.44l.94 2.06.94-2.06 2.06-.94-2.06-.94-.94-2.06-.94 2.06-2.06.94zm-11 1L8.5 8.5l.94-2.06 2.06-.94-2.06-.94L8.5 2.5l-.94 2.06-2.06.94zm10 10l.94 2.06.94-2.06 2.06-.94-2.06-.94-.94-2.06-.94 2.06-2.06.94z\"/><path d=\"M17.41 7.96l-1.37-1.37c-.4-.4-.92-.59-1.43-.59-.52 0-1.04.2-1.43.59L10.3 9.45l-7.72 7.72c-.78.78-.78 2.05 0 2.83L4 21.41c.39.39.9.59 1.41.59.51 0 1.02-.2 1.41-.59l7.78-7.78 2.81-2.81c.8-.78.8-2.07 0-2.86zM5.41 20L4 18.59l7.72-7.72 1.47 1.35L5.41 20z\"/>\n",
              "  </svg>\n",
              "      </button>\n",
              "      \n",
              "  <style>\n",
              "    .colab-df-container {\n",
              "      display:flex;\n",
              "      flex-wrap:wrap;\n",
              "      gap: 12px;\n",
              "    }\n",
              "\n",
              "    .colab-df-convert {\n",
              "      background-color: #E8F0FE;\n",
              "      border: none;\n",
              "      border-radius: 50%;\n",
              "      cursor: pointer;\n",
              "      display: none;\n",
              "      fill: #1967D2;\n",
              "      height: 32px;\n",
              "      padding: 0 0 0 0;\n",
              "      width: 32px;\n",
              "    }\n",
              "\n",
              "    .colab-df-convert:hover {\n",
              "      background-color: #E2EBFA;\n",
              "      box-shadow: 0px 1px 2px rgba(60, 64, 67, 0.3), 0px 1px 3px 1px rgba(60, 64, 67, 0.15);\n",
              "      fill: #174EA6;\n",
              "    }\n",
              "\n",
              "    [theme=dark] .colab-df-convert {\n",
              "      background-color: #3B4455;\n",
              "      fill: #D2E3FC;\n",
              "    }\n",
              "\n",
              "    [theme=dark] .colab-df-convert:hover {\n",
              "      background-color: #434B5C;\n",
              "      box-shadow: 0px 1px 3px 1px rgba(0, 0, 0, 0.15);\n",
              "      filter: drop-shadow(0px 1px 2px rgba(0, 0, 0, 0.3));\n",
              "      fill: #FFFFFF;\n",
              "    }\n",
              "  </style>\n",
              "\n",
              "      <script>\n",
              "        const buttonEl =\n",
              "          document.querySelector('#df-0bfec77e-eecd-425d-bc84-868263774001 button.colab-df-convert');\n",
              "        buttonEl.style.display =\n",
              "          google.colab.kernel.accessAllowed ? 'block' : 'none';\n",
              "\n",
              "        async function convertToInteractive(key) {\n",
              "          const element = document.querySelector('#df-0bfec77e-eecd-425d-bc84-868263774001');\n",
              "          const dataTable =\n",
              "            await google.colab.kernel.invokeFunction('convertToInteractive',\n",
              "                                                     [key], {});\n",
              "          if (!dataTable) return;\n",
              "\n",
              "          const docLinkHtml = 'Like what you see? Visit the ' +\n",
              "            '<a target=\"_blank\" href=https://colab.research.google.com/notebooks/data_table.ipynb>data table notebook</a>'\n",
              "            + ' to learn more about interactive tables.';\n",
              "          element.innerHTML = '';\n",
              "          dataTable['output_type'] = 'display_data';\n",
              "          await google.colab.output.renderOutput(dataTable, element);\n",
              "          const docLink = document.createElement('div');\n",
              "          docLink.innerHTML = docLinkHtml;\n",
              "          element.appendChild(docLink);\n",
              "        }\n",
              "      </script>\n",
              "    </div>\n",
              "  </div>\n",
              "  "
            ],
            "text/plain": [
              "      Gender Education  Body_temperature_celsius  points_in_exam  \\\n",
              "Name                                                               \n",
              "A       Male     M.Sc.                     37.85               0   \n",
              "B     Female     B.Sc.                     39.85             100   \n",
              "C     Female     B.Sc.                     38.85              80   \n",
              "D     Female       PhD                     36.85              80   \n",
              "E       Male      none                     37.85              40   \n",
              "\n",
              "      points_bonus  frist_try  \n",
              "Name                           \n",
              "A                5       True  \n",
              "B               10       True  \n",
              "C                0       True  \n",
              "D                0       True  \n",
              "E                5       True  "
            ]
          },
          "execution_count": 59,
          "metadata": {},
          "output_type": "execute_result"
        }
      ],
      "source": [
        "df['frist_try'] = True\n",
        "df"
      ]
    },
    {
      "cell_type": "code",
      "execution_count": null,
      "metadata": {
        "colab": {
          "base_uri": "https://localhost:8080/",
          "height": 238
        },
        "id": "VXNVvaudawEt",
        "outputId": "d7592e8e-bb34-41c0-a948-2dde26e660e8"
      },
      "outputs": [
        {
          "data": {
            "text/html": [
              "\n",
              "  <div id=\"df-035a93ee-e119-4813-86ca-de0d7877262f\">\n",
              "    <div class=\"colab-df-container\">\n",
              "      <div>\n",
              "<style scoped>\n",
              "    .dataframe tbody tr th:only-of-type {\n",
              "        vertical-align: middle;\n",
              "    }\n",
              "\n",
              "    .dataframe tbody tr th {\n",
              "        vertical-align: top;\n",
              "    }\n",
              "\n",
              "    .dataframe thead th {\n",
              "        text-align: right;\n",
              "    }\n",
              "</style>\n",
              "<table border=\"1\" class=\"dataframe\">\n",
              "  <thead>\n",
              "    <tr style=\"text-align: right;\">\n",
              "      <th></th>\n",
              "      <th>Gender</th>\n",
              "      <th>Education</th>\n",
              "      <th>Body_temperature_celsius</th>\n",
              "      <th>points_in_exam</th>\n",
              "      <th>points_bonus</th>\n",
              "      <th>grade</th>\n",
              "      <th>points_total</th>\n",
              "    </tr>\n",
              "    <tr>\n",
              "      <th>Name</th>\n",
              "      <th></th>\n",
              "      <th></th>\n",
              "      <th></th>\n",
              "      <th></th>\n",
              "      <th></th>\n",
              "      <th></th>\n",
              "      <th></th>\n",
              "    </tr>\n",
              "  </thead>\n",
              "  <tbody>\n",
              "    <tr>\n",
              "      <th>A</th>\n",
              "      <td>Male</td>\n",
              "      <td>M.Sc.</td>\n",
              "      <td>37.85</td>\n",
              "      <td>0</td>\n",
              "      <td>5</td>\n",
              "      <td>F</td>\n",
              "      <td>5</td>\n",
              "    </tr>\n",
              "    <tr>\n",
              "      <th>B</th>\n",
              "      <td>Female</td>\n",
              "      <td>B.Sc.</td>\n",
              "      <td>39.85</td>\n",
              "      <td>100</td>\n",
              "      <td>10</td>\n",
              "      <td>F</td>\n",
              "      <td>110</td>\n",
              "    </tr>\n",
              "    <tr>\n",
              "      <th>C</th>\n",
              "      <td>Female</td>\n",
              "      <td>B.Sc.</td>\n",
              "      <td>38.85</td>\n",
              "      <td>80</td>\n",
              "      <td>0</td>\n",
              "      <td>F</td>\n",
              "      <td>80</td>\n",
              "    </tr>\n",
              "    <tr>\n",
              "      <th>D</th>\n",
              "      <td>Female</td>\n",
              "      <td>PhD</td>\n",
              "      <td>36.85</td>\n",
              "      <td>80</td>\n",
              "      <td>5</td>\n",
              "      <td>F</td>\n",
              "      <td>85</td>\n",
              "    </tr>\n",
              "    <tr>\n",
              "      <th>E</th>\n",
              "      <td>Male</td>\n",
              "      <td>none</td>\n",
              "      <td>37.85</td>\n",
              "      <td>40</td>\n",
              "      <td>5</td>\n",
              "      <td>F</td>\n",
              "      <td>45</td>\n",
              "    </tr>\n",
              "  </tbody>\n",
              "</table>\n",
              "</div>\n",
              "      <button class=\"colab-df-convert\" onclick=\"convertToInteractive('df-035a93ee-e119-4813-86ca-de0d7877262f')\"\n",
              "              title=\"Convert this dataframe to an interactive table.\"\n",
              "              style=\"display:none;\">\n",
              "        \n",
              "  <svg xmlns=\"http://www.w3.org/2000/svg\" height=\"24px\"viewBox=\"0 0 24 24\"\n",
              "       width=\"24px\">\n",
              "    <path d=\"M0 0h24v24H0V0z\" fill=\"none\"/>\n",
              "    <path d=\"M18.56 5.44l.94 2.06.94-2.06 2.06-.94-2.06-.94-.94-2.06-.94 2.06-2.06.94zm-11 1L8.5 8.5l.94-2.06 2.06-.94-2.06-.94L8.5 2.5l-.94 2.06-2.06.94zm10 10l.94 2.06.94-2.06 2.06-.94-2.06-.94-.94-2.06-.94 2.06-2.06.94z\"/><path d=\"M17.41 7.96l-1.37-1.37c-.4-.4-.92-.59-1.43-.59-.52 0-1.04.2-1.43.59L10.3 9.45l-7.72 7.72c-.78.78-.78 2.05 0 2.83L4 21.41c.39.39.9.59 1.41.59.51 0 1.02-.2 1.41-.59l7.78-7.78 2.81-2.81c.8-.78.8-2.07 0-2.86zM5.41 20L4 18.59l7.72-7.72 1.47 1.35L5.41 20z\"/>\n",
              "  </svg>\n",
              "      </button>\n",
              "      \n",
              "  <style>\n",
              "    .colab-df-container {\n",
              "      display:flex;\n",
              "      flex-wrap:wrap;\n",
              "      gap: 12px;\n",
              "    }\n",
              "\n",
              "    .colab-df-convert {\n",
              "      background-color: #E8F0FE;\n",
              "      border: none;\n",
              "      border-radius: 50%;\n",
              "      cursor: pointer;\n",
              "      display: none;\n",
              "      fill: #1967D2;\n",
              "      height: 32px;\n",
              "      padding: 0 0 0 0;\n",
              "      width: 32px;\n",
              "    }\n",
              "\n",
              "    .colab-df-convert:hover {\n",
              "      background-color: #E2EBFA;\n",
              "      box-shadow: 0px 1px 2px rgba(60, 64, 67, 0.3), 0px 1px 3px 1px rgba(60, 64, 67, 0.15);\n",
              "      fill: #174EA6;\n",
              "    }\n",
              "\n",
              "    [theme=dark] .colab-df-convert {\n",
              "      background-color: #3B4455;\n",
              "      fill: #D2E3FC;\n",
              "    }\n",
              "\n",
              "    [theme=dark] .colab-df-convert:hover {\n",
              "      background-color: #434B5C;\n",
              "      box-shadow: 0px 1px 3px 1px rgba(0, 0, 0, 0.15);\n",
              "      filter: drop-shadow(0px 1px 2px rgba(0, 0, 0, 0.3));\n",
              "      fill: #FFFFFF;\n",
              "    }\n",
              "  </style>\n",
              "\n",
              "      <script>\n",
              "        const buttonEl =\n",
              "          document.querySelector('#df-035a93ee-e119-4813-86ca-de0d7877262f button.colab-df-convert');\n",
              "        buttonEl.style.display =\n",
              "          google.colab.kernel.accessAllowed ? 'block' : 'none';\n",
              "\n",
              "        async function convertToInteractive(key) {\n",
              "          const element = document.querySelector('#df-035a93ee-e119-4813-86ca-de0d7877262f');\n",
              "          const dataTable =\n",
              "            await google.colab.kernel.invokeFunction('convertToInteractive',\n",
              "                                                     [key], {});\n",
              "          if (!dataTable) return;\n",
              "\n",
              "          const docLinkHtml = 'Like what you see? Visit the ' +\n",
              "            '<a target=\"_blank\" href=https://colab.research.google.com/notebooks/data_table.ipynb>data table notebook</a>'\n",
              "            + ' to learn more about interactive tables.';\n",
              "          element.innerHTML = '';\n",
              "          dataTable['output_type'] = 'display_data';\n",
              "          await google.colab.output.renderOutput(dataTable, element);\n",
              "          const docLink = document.createElement('div');\n",
              "          docLink.innerHTML = docLinkHtml;\n",
              "          element.appendChild(docLink);\n",
              "        }\n",
              "      </script>\n",
              "    </div>\n",
              "  </div>\n",
              "  "
            ],
            "text/plain": [
              "      Gender Education  Body_temperature_celsius  points_in_exam  \\\n",
              "Name                                                               \n",
              "A       Male     M.Sc.                     37.85               0   \n",
              "B     Female     B.Sc.                     39.85             100   \n",
              "C     Female     B.Sc.                     38.85              80   \n",
              "D     Female       PhD                     36.85              80   \n",
              "E       Male      none                     37.85              40   \n",
              "\n",
              "      points_bonus grade  points_total  \n",
              "Name                                    \n",
              "A                5     F             5  \n",
              "B               10     F           110  \n",
              "C                0     F            80  \n",
              "D                5     F            85  \n",
              "E                5     F            45  "
            ]
          },
          "execution_count": 80,
          "metadata": {},
          "output_type": "execute_result"
        }
      ],
      "source": [
        "df['points_total'] = df['points_in_exam'] + df['points_bonus']\n",
        "df"
      ]
    },
    {
      "cell_type": "markdown",
      "metadata": {
        "id": "F278El5tX_9k"
      },
      "source": [
        "✍️ **Task**\n",
        "\n",
        "Create a now colum \"grade\" the holds the grade based on the exam points.\n",
        "\n",
        "- A: 90 - 100\n",
        "- B: 80 - 90\n",
        "- C: 70 - 80\n",
        "- D: 60 - 70\n",
        "- F: < 60\n",
        "\n",
        "*Hint*:\n",
        "- use the ```at()``` with a loop through the rows:\n",
        "`df.at[index, 'grade'] = grade`"
      ]
    },
    {
      "cell_type": "code",
      "execution_count": null,
      "metadata": {
        "colab": {
          "base_uri": "https://localhost:8080/",
          "height": 654
        },
        "id": "W8-JdA1qX_r8",
        "outputId": "6d61edc1-3751-4fe3-a436-4a55417cd248"
      },
      "outputs": [
        {
          "name": "stdout",
          "output_type": "stream",
          "text": [
            "Gender                      Female\n",
            "Education                    B.Sc.\n",
            "Body_temperature_celsius     39.85\n",
            "points_in_exam                 100\n",
            "points_bonus                    10\n",
            "grade                             \n",
            "points_total                   110\n",
            "Name: B, dtype: object\n",
            "Gender                      Female\n",
            "Education                    B.Sc.\n",
            "Body_temperature_celsius     38.85\n",
            "points_in_exam                  80\n",
            "points_bonus                     0\n",
            "grade                             \n",
            "points_total                    80\n",
            "Name: C, dtype: object\n",
            "Gender                      Female\n",
            "Education                      PhD\n",
            "Body_temperature_celsius     36.85\n",
            "points_in_exam                  80\n",
            "points_bonus                     5\n",
            "grade                             \n",
            "points_total                    85\n",
            "Name: D, dtype: object\n"
          ]
        },
        {
          "data": {
            "text/html": [
              "\n",
              "  <div id=\"df-877b5733-a379-40fc-b2ab-b6139b864945\">\n",
              "    <div class=\"colab-df-container\">\n",
              "      <div>\n",
              "<style scoped>\n",
              "    .dataframe tbody tr th:only-of-type {\n",
              "        vertical-align: middle;\n",
              "    }\n",
              "\n",
              "    .dataframe tbody tr th {\n",
              "        vertical-align: top;\n",
              "    }\n",
              "\n",
              "    .dataframe thead th {\n",
              "        text-align: right;\n",
              "    }\n",
              "</style>\n",
              "<table border=\"1\" class=\"dataframe\">\n",
              "  <thead>\n",
              "    <tr style=\"text-align: right;\">\n",
              "      <th></th>\n",
              "      <th>Gender</th>\n",
              "      <th>Education</th>\n",
              "      <th>Body_temperature_celsius</th>\n",
              "      <th>points_in_exam</th>\n",
              "      <th>points_bonus</th>\n",
              "      <th>grade</th>\n",
              "      <th>points_total</th>\n",
              "    </tr>\n",
              "    <tr>\n",
              "      <th>Name</th>\n",
              "      <th></th>\n",
              "      <th></th>\n",
              "      <th></th>\n",
              "      <th></th>\n",
              "      <th></th>\n",
              "      <th></th>\n",
              "      <th></th>\n",
              "    </tr>\n",
              "  </thead>\n",
              "  <tbody>\n",
              "    <tr>\n",
              "      <th>A</th>\n",
              "      <td>Male</td>\n",
              "      <td>M.Sc.</td>\n",
              "      <td>37.85</td>\n",
              "      <td>0</td>\n",
              "      <td>5</td>\n",
              "      <td>F</td>\n",
              "      <td>5</td>\n",
              "    </tr>\n",
              "    <tr>\n",
              "      <th>B</th>\n",
              "      <td>Female</td>\n",
              "      <td>B.Sc.</td>\n",
              "      <td>39.85</td>\n",
              "      <td>100</td>\n",
              "      <td>10</td>\n",
              "      <td>A</td>\n",
              "      <td>110</td>\n",
              "    </tr>\n",
              "    <tr>\n",
              "      <th>C</th>\n",
              "      <td>Female</td>\n",
              "      <td>B.Sc.</td>\n",
              "      <td>38.85</td>\n",
              "      <td>80</td>\n",
              "      <td>0</td>\n",
              "      <td>B</td>\n",
              "      <td>80</td>\n",
              "    </tr>\n",
              "    <tr>\n",
              "      <th>D</th>\n",
              "      <td>Female</td>\n",
              "      <td>PhD</td>\n",
              "      <td>36.85</td>\n",
              "      <td>80</td>\n",
              "      <td>5</td>\n",
              "      <td>B</td>\n",
              "      <td>85</td>\n",
              "    </tr>\n",
              "    <tr>\n",
              "      <th>E</th>\n",
              "      <td>Male</td>\n",
              "      <td>none</td>\n",
              "      <td>37.85</td>\n",
              "      <td>40</td>\n",
              "      <td>5</td>\n",
              "      <td>F</td>\n",
              "      <td>45</td>\n",
              "    </tr>\n",
              "  </tbody>\n",
              "</table>\n",
              "</div>\n",
              "      <button class=\"colab-df-convert\" onclick=\"convertToInteractive('df-877b5733-a379-40fc-b2ab-b6139b864945')\"\n",
              "              title=\"Convert this dataframe to an interactive table.\"\n",
              "              style=\"display:none;\">\n",
              "        \n",
              "  <svg xmlns=\"http://www.w3.org/2000/svg\" height=\"24px\"viewBox=\"0 0 24 24\"\n",
              "       width=\"24px\">\n",
              "    <path d=\"M0 0h24v24H0V0z\" fill=\"none\"/>\n",
              "    <path d=\"M18.56 5.44l.94 2.06.94-2.06 2.06-.94-2.06-.94-.94-2.06-.94 2.06-2.06.94zm-11 1L8.5 8.5l.94-2.06 2.06-.94-2.06-.94L8.5 2.5l-.94 2.06-2.06.94zm10 10l.94 2.06.94-2.06 2.06-.94-2.06-.94-.94-2.06-.94 2.06-2.06.94z\"/><path d=\"M17.41 7.96l-1.37-1.37c-.4-.4-.92-.59-1.43-.59-.52 0-1.04.2-1.43.59L10.3 9.45l-7.72 7.72c-.78.78-.78 2.05 0 2.83L4 21.41c.39.39.9.59 1.41.59.51 0 1.02-.2 1.41-.59l7.78-7.78 2.81-2.81c.8-.78.8-2.07 0-2.86zM5.41 20L4 18.59l7.72-7.72 1.47 1.35L5.41 20z\"/>\n",
              "  </svg>\n",
              "      </button>\n",
              "      \n",
              "  <style>\n",
              "    .colab-df-container {\n",
              "      display:flex;\n",
              "      flex-wrap:wrap;\n",
              "      gap: 12px;\n",
              "    }\n",
              "\n",
              "    .colab-df-convert {\n",
              "      background-color: #E8F0FE;\n",
              "      border: none;\n",
              "      border-radius: 50%;\n",
              "      cursor: pointer;\n",
              "      display: none;\n",
              "      fill: #1967D2;\n",
              "      height: 32px;\n",
              "      padding: 0 0 0 0;\n",
              "      width: 32px;\n",
              "    }\n",
              "\n",
              "    .colab-df-convert:hover {\n",
              "      background-color: #E2EBFA;\n",
              "      box-shadow: 0px 1px 2px rgba(60, 64, 67, 0.3), 0px 1px 3px 1px rgba(60, 64, 67, 0.15);\n",
              "      fill: #174EA6;\n",
              "    }\n",
              "\n",
              "    [theme=dark] .colab-df-convert {\n",
              "      background-color: #3B4455;\n",
              "      fill: #D2E3FC;\n",
              "    }\n",
              "\n",
              "    [theme=dark] .colab-df-convert:hover {\n",
              "      background-color: #434B5C;\n",
              "      box-shadow: 0px 1px 3px 1px rgba(0, 0, 0, 0.15);\n",
              "      filter: drop-shadow(0px 1px 2px rgba(0, 0, 0, 0.3));\n",
              "      fill: #FFFFFF;\n",
              "    }\n",
              "  </style>\n",
              "\n",
              "      <script>\n",
              "        const buttonEl =\n",
              "          document.querySelector('#df-877b5733-a379-40fc-b2ab-b6139b864945 button.colab-df-convert');\n",
              "        buttonEl.style.display =\n",
              "          google.colab.kernel.accessAllowed ? 'block' : 'none';\n",
              "\n",
              "        async function convertToInteractive(key) {\n",
              "          const element = document.querySelector('#df-877b5733-a379-40fc-b2ab-b6139b864945');\n",
              "          const dataTable =\n",
              "            await google.colab.kernel.invokeFunction('convertToInteractive',\n",
              "                                                     [key], {});\n",
              "          if (!dataTable) return;\n",
              "\n",
              "          const docLinkHtml = 'Like what you see? Visit the ' +\n",
              "            '<a target=\"_blank\" href=https://colab.research.google.com/notebooks/data_table.ipynb>data table notebook</a>'\n",
              "            + ' to learn more about interactive tables.';\n",
              "          element.innerHTML = '';\n",
              "          dataTable['output_type'] = 'display_data';\n",
              "          await google.colab.output.renderOutput(dataTable, element);\n",
              "          const docLink = document.createElement('div');\n",
              "          docLink.innerHTML = docLinkHtml;\n",
              "          element.appendChild(docLink);\n",
              "        }\n",
              "      </script>\n",
              "    </div>\n",
              "  </div>\n",
              "  "
            ],
            "text/plain": [
              "      Gender Education  Body_temperature_celsius  points_in_exam  \\\n",
              "Name                                                               \n",
              "A       Male     M.Sc.                     37.85               0   \n",
              "B     Female     B.Sc.                     39.85             100   \n",
              "C     Female     B.Sc.                     38.85              80   \n",
              "D     Female       PhD                     36.85              80   \n",
              "E       Male      none                     37.85              40   \n",
              "\n",
              "      points_bonus grade  points_total  \n",
              "Name                                    \n",
              "A                5     F             5  \n",
              "B               10     A           110  \n",
              "C                0     B            80  \n",
              "D                5     B            85  \n",
              "E                5     F            45  "
            ]
          },
          "execution_count": 89,
          "metadata": {},
          "output_type": "execute_result"
        }
      ],
      "source": [
        "# Solution with loop\n",
        "\n",
        "df[\"grade\"] = \"\"\n",
        "\n",
        "for index, observation in df.iterrows():\n",
        "  if observation[\"points_total\"] < 60:\n",
        "    grade = \"F\"\n",
        "  if observation[\"points_total\"] >= 60:\n",
        "    grade = \"D\"\n",
        "  if observation[\"points_total\"] >= 70:\n",
        "    grade = \"C\"\n",
        "  if observation[\"points_total\"] >= 80:\n",
        "    grade = \"B\"\n",
        "    print(observation)\n",
        "  if observation[\"points_total\"] >= 90:\n",
        "    grade = \"A\"   \n",
        "  \n",
        "  df.at[index, 'grade'] = grade\n",
        "\n",
        "\n",
        "df"
      ]
    },
    {
      "cell_type": "markdown",
      "metadata": {
        "id": "_2P4lBCvoBiU"
      },
      "source": [
        "## Reading CSV-Data\n",
        "\n",
        "Instead of entering data by hand, You will often use data from other sources [e.g., https://www.kaggle.com/code/brsdincer/genomes-and-genetics-disorder-eda-process-i/data)\n",
        "\n",
        "You can download the ```train.csv``` file from [sakai](https://sakai.mci4me.at/portal/site/Course-ID-SLVA-38933/tool/548dda2a-89ac-4a58-964b-b7378a3ef6b4?panel=Main) and upload it to the google colab by clicking on the folder symbol to the left. Next, click on the arrow up symbol to upload the file.\n",
        "\n",
        "After the upload You can use the ```.read_csv()``` function to create a cata frame from the CSV-File.\n",
        "\n",
        "![image.png](data:image/png;base64,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)\n",
        "\n"
      ]
    },
    {
      "cell_type": "code",
      "execution_count": 14,
      "metadata": {
        "colab": {
          "base_uri": "https://localhost:8080/",
          "height": 557
        },
        "id": "r_O44-G-oBRz",
        "outputId": "a0974bc3-10d5-441d-e570-2b8748f5bb9c"
      },
      "outputs": [
        {
          "data": {
            "text/html": [
              "\n",
              "  <div id=\"df-89ebeaf6-f91f-479c-98cd-1848318ef77b\">\n",
              "    <div class=\"colab-df-container\">\n",
              "      <div>\n",
              "<style scoped>\n",
              "    .dataframe tbody tr th:only-of-type {\n",
              "        vertical-align: middle;\n",
              "    }\n",
              "\n",
              "    .dataframe tbody tr th {\n",
              "        vertical-align: top;\n",
              "    }\n",
              "\n",
              "    .dataframe thead th {\n",
              "        text-align: right;\n",
              "    }\n",
              "</style>\n",
              "<table border=\"1\" class=\"dataframe\">\n",
              "  <thead>\n",
              "    <tr style=\"text-align: right;\">\n",
              "      <th></th>\n",
              "      <th>Patient Id</th>\n",
              "      <th>Patient Age</th>\n",
              "      <th>Genes in mother's side</th>\n",
              "      <th>Inherited from father</th>\n",
              "      <th>Maternal gene</th>\n",
              "      <th>Paternal gene</th>\n",
              "      <th>Blood cell count (mcL)</th>\n",
              "      <th>Patient First Name</th>\n",
              "      <th>Family Name</th>\n",
              "      <th>Father's name</th>\n",
              "      <th>...</th>\n",
              "      <th>Birth defects</th>\n",
              "      <th>White Blood cell count (thousand per microliter)</th>\n",
              "      <th>Blood test result</th>\n",
              "      <th>Symptom 1</th>\n",
              "      <th>Symptom 2</th>\n",
              "      <th>Symptom 3</th>\n",
              "      <th>Symptom 4</th>\n",
              "      <th>Symptom 5</th>\n",
              "      <th>Genetic Disorder</th>\n",
              "      <th>Disorder Subclass</th>\n",
              "    </tr>\n",
              "  </thead>\n",
              "  <tbody>\n",
              "    <tr>\n",
              "      <th>0</th>\n",
              "      <td>PID0x6418</td>\n",
              "      <td>2.0</td>\n",
              "      <td>Yes</td>\n",
              "      <td>No</td>\n",
              "      <td>Yes</td>\n",
              "      <td>No</td>\n",
              "      <td>4.760603</td>\n",
              "      <td>Richard</td>\n",
              "      <td>NaN</td>\n",
              "      <td>Larre</td>\n",
              "      <td>...</td>\n",
              "      <td>NaN</td>\n",
              "      <td>9.857562</td>\n",
              "      <td>NaN</td>\n",
              "      <td>1.0</td>\n",
              "      <td>1.0</td>\n",
              "      <td>1.0</td>\n",
              "      <td>1.0</td>\n",
              "      <td>1.0</td>\n",
              "      <td>Mitochondrial genetic inheritance disorders</td>\n",
              "      <td>Leber's hereditary optic neuropathy</td>\n",
              "    </tr>\n",
              "    <tr>\n",
              "      <th>1</th>\n",
              "      <td>PID0x25d5</td>\n",
              "      <td>4.0</td>\n",
              "      <td>Yes</td>\n",
              "      <td>Yes</td>\n",
              "      <td>No</td>\n",
              "      <td>No</td>\n",
              "      <td>4.910669</td>\n",
              "      <td>Mike</td>\n",
              "      <td>NaN</td>\n",
              "      <td>Brycen</td>\n",
              "      <td>...</td>\n",
              "      <td>Multiple</td>\n",
              "      <td>5.522560</td>\n",
              "      <td>normal</td>\n",
              "      <td>1.0</td>\n",
              "      <td>NaN</td>\n",
              "      <td>1.0</td>\n",
              "      <td>1.0</td>\n",
              "      <td>0.0</td>\n",
              "      <td>NaN</td>\n",
              "      <td>Cystic fibrosis</td>\n",
              "    </tr>\n",
              "    <tr>\n",
              "      <th>2</th>\n",
              "      <td>PID0x4a82</td>\n",
              "      <td>6.0</td>\n",
              "      <td>Yes</td>\n",
              "      <td>No</td>\n",
              "      <td>No</td>\n",
              "      <td>No</td>\n",
              "      <td>4.893297</td>\n",
              "      <td>Kimberly</td>\n",
              "      <td>NaN</td>\n",
              "      <td>Nashon</td>\n",
              "      <td>...</td>\n",
              "      <td>Singular</td>\n",
              "      <td>NaN</td>\n",
              "      <td>normal</td>\n",
              "      <td>0.0</td>\n",
              "      <td>1.0</td>\n",
              "      <td>1.0</td>\n",
              "      <td>1.0</td>\n",
              "      <td>1.0</td>\n",
              "      <td>Multifactorial genetic inheritance disorders</td>\n",
              "      <td>Diabetes</td>\n",
              "    </tr>\n",
              "    <tr>\n",
              "      <th>3</th>\n",
              "      <td>PID0x4ac8</td>\n",
              "      <td>12.0</td>\n",
              "      <td>Yes</td>\n",
              "      <td>No</td>\n",
              "      <td>Yes</td>\n",
              "      <td>No</td>\n",
              "      <td>4.705280</td>\n",
              "      <td>Jeffery</td>\n",
              "      <td>Hoelscher</td>\n",
              "      <td>Aayaan</td>\n",
              "      <td>...</td>\n",
              "      <td>Singular</td>\n",
              "      <td>7.919321</td>\n",
              "      <td>inconclusive</td>\n",
              "      <td>0.0</td>\n",
              "      <td>0.0</td>\n",
              "      <td>1.0</td>\n",
              "      <td>0.0</td>\n",
              "      <td>0.0</td>\n",
              "      <td>Mitochondrial genetic inheritance disorders</td>\n",
              "      <td>Leigh syndrome</td>\n",
              "    </tr>\n",
              "    <tr>\n",
              "      <th>4</th>\n",
              "      <td>PID0x1bf7</td>\n",
              "      <td>11.0</td>\n",
              "      <td>Yes</td>\n",
              "      <td>No</td>\n",
              "      <td>NaN</td>\n",
              "      <td>Yes</td>\n",
              "      <td>4.720703</td>\n",
              "      <td>Johanna</td>\n",
              "      <td>Stutzman</td>\n",
              "      <td>Suave</td>\n",
              "      <td>...</td>\n",
              "      <td>Multiple</td>\n",
              "      <td>4.098210</td>\n",
              "      <td>NaN</td>\n",
              "      <td>0.0</td>\n",
              "      <td>0.0</td>\n",
              "      <td>0.0</td>\n",
              "      <td>0.0</td>\n",
              "      <td>NaN</td>\n",
              "      <td>Multifactorial genetic inheritance disorders</td>\n",
              "      <td>Cancer</td>\n",
              "    </tr>\n",
              "  </tbody>\n",
              "</table>\n",
              "<p>5 rows × 45 columns</p>\n",
              "</div>\n",
              "      <button class=\"colab-df-convert\" onclick=\"convertToInteractive('df-89ebeaf6-f91f-479c-98cd-1848318ef77b')\"\n",
              "              title=\"Convert this dataframe to an interactive table.\"\n",
              "              style=\"display:none;\">\n",
              "        \n",
              "  <svg xmlns=\"http://www.w3.org/2000/svg\" height=\"24px\"viewBox=\"0 0 24 24\"\n",
              "       width=\"24px\">\n",
              "    <path d=\"M0 0h24v24H0V0z\" fill=\"none\"/>\n",
              "    <path d=\"M18.56 5.44l.94 2.06.94-2.06 2.06-.94-2.06-.94-.94-2.06-.94 2.06-2.06.94zm-11 1L8.5 8.5l.94-2.06 2.06-.94-2.06-.94L8.5 2.5l-.94 2.06-2.06.94zm10 10l.94 2.06.94-2.06 2.06-.94-2.06-.94-.94-2.06-.94 2.06-2.06.94z\"/><path d=\"M17.41 7.96l-1.37-1.37c-.4-.4-.92-.59-1.43-.59-.52 0-1.04.2-1.43.59L10.3 9.45l-7.72 7.72c-.78.78-.78 2.05 0 2.83L4 21.41c.39.39.9.59 1.41.59.51 0 1.02-.2 1.41-.59l7.78-7.78 2.81-2.81c.8-.78.8-2.07 0-2.86zM5.41 20L4 18.59l7.72-7.72 1.47 1.35L5.41 20z\"/>\n",
              "  </svg>\n",
              "      </button>\n",
              "      \n",
              "  <style>\n",
              "    .colab-df-container {\n",
              "      display:flex;\n",
              "      flex-wrap:wrap;\n",
              "      gap: 12px;\n",
              "    }\n",
              "\n",
              "    .colab-df-convert {\n",
              "      background-color: #E8F0FE;\n",
              "      border: none;\n",
              "      border-radius: 50%;\n",
              "      cursor: pointer;\n",
              "      display: none;\n",
              "      fill: #1967D2;\n",
              "      height: 32px;\n",
              "      padding: 0 0 0 0;\n",
              "      width: 32px;\n",
              "    }\n",
              "\n",
              "    .colab-df-convert:hover {\n",
              "      background-color: #E2EBFA;\n",
              "      box-shadow: 0px 1px 2px rgba(60, 64, 67, 0.3), 0px 1px 3px 1px rgba(60, 64, 67, 0.15);\n",
              "      fill: #174EA6;\n",
              "    }\n",
              "\n",
              "    [theme=dark] .colab-df-convert {\n",
              "      background-color: #3B4455;\n",
              "      fill: #D2E3FC;\n",
              "    }\n",
              "\n",
              "    [theme=dark] .colab-df-convert:hover {\n",
              "      background-color: #434B5C;\n",
              "      box-shadow: 0px 1px 3px 1px rgba(0, 0, 0, 0.15);\n",
              "      filter: drop-shadow(0px 1px 2px rgba(0, 0, 0, 0.3));\n",
              "      fill: #FFFFFF;\n",
              "    }\n",
              "  </style>\n",
              "\n",
              "      <script>\n",
              "        const buttonEl =\n",
              "          document.querySelector('#df-89ebeaf6-f91f-479c-98cd-1848318ef77b button.colab-df-convert');\n",
              "        buttonEl.style.display =\n",
              "          google.colab.kernel.accessAllowed ? 'block' : 'none';\n",
              "\n",
              "        async function convertToInteractive(key) {\n",
              "          const element = document.querySelector('#df-89ebeaf6-f91f-479c-98cd-1848318ef77b');\n",
              "          const dataTable =\n",
              "            await google.colab.kernel.invokeFunction('convertToInteractive',\n",
              "                                                     [key], {});\n",
              "          if (!dataTable) return;\n",
              "\n",
              "          const docLinkHtml = 'Like what you see? Visit the ' +\n",
              "            '<a target=\"_blank\" href=https://colab.research.google.com/notebooks/data_table.ipynb>data table notebook</a>'\n",
              "            + ' to learn more about interactive tables.';\n",
              "          element.innerHTML = '';\n",
              "          dataTable['output_type'] = 'display_data';\n",
              "          await google.colab.output.renderOutput(dataTable, element);\n",
              "          const docLink = document.createElement('div');\n",
              "          docLink.innerHTML = docLinkHtml;\n",
              "          element.appendChild(docLink);\n",
              "        }\n",
              "      </script>\n",
              "    </div>\n",
              "  </div>\n",
              "  "
            ],
            "text/plain": [
              "  Patient Id  Patient Age Genes in mother's side Inherited from father  \\\n",
              "0  PID0x6418          2.0                    Yes                    No   \n",
              "1  PID0x25d5          4.0                    Yes                   Yes   \n",
              "2  PID0x4a82          6.0                    Yes                    No   \n",
              "3  PID0x4ac8         12.0                    Yes                    No   \n",
              "4  PID0x1bf7         11.0                    Yes                    No   \n",
              "\n",
              "  Maternal gene Paternal gene  Blood cell count (mcL) Patient First Name  \\\n",
              "0           Yes            No                4.760603            Richard   \n",
              "1            No            No                4.910669               Mike   \n",
              "2            No            No                4.893297           Kimberly   \n",
              "3           Yes            No                4.705280            Jeffery   \n",
              "4           NaN           Yes                4.720703            Johanna   \n",
              "\n",
              "  Family Name Father's name  ...  Birth defects  \\\n",
              "0         NaN         Larre  ...            NaN   \n",
              "1         NaN        Brycen  ...       Multiple   \n",
              "2         NaN        Nashon  ...       Singular   \n",
              "3   Hoelscher        Aayaan  ...       Singular   \n",
              "4    Stutzman         Suave  ...       Multiple   \n",
              "\n",
              "   White Blood cell count (thousand per microliter) Blood test result  \\\n",
              "0                                          9.857562               NaN   \n",
              "1                                          5.522560            normal   \n",
              "2                                               NaN            normal   \n",
              "3                                          7.919321      inconclusive   \n",
              "4                                          4.098210               NaN   \n",
              "\n",
              "  Symptom 1 Symptom 2 Symptom 3 Symptom 4  Symptom 5  \\\n",
              "0       1.0       1.0       1.0       1.0        1.0   \n",
              "1       1.0       NaN       1.0       1.0        0.0   \n",
              "2       0.0       1.0       1.0       1.0        1.0   \n",
              "3       0.0       0.0       1.0       0.0        0.0   \n",
              "4       0.0       0.0       0.0       0.0        NaN   \n",
              "\n",
              "                               Genetic Disorder  \\\n",
              "0   Mitochondrial genetic inheritance disorders   \n",
              "1                                           NaN   \n",
              "2  Multifactorial genetic inheritance disorders   \n",
              "3   Mitochondrial genetic inheritance disorders   \n",
              "4  Multifactorial genetic inheritance disorders   \n",
              "\n",
              "                     Disorder Subclass  \n",
              "0  Leber's hereditary optic neuropathy  \n",
              "1                      Cystic fibrosis  \n",
              "2                             Diabetes  \n",
              "3                       Leigh syndrome  \n",
              "4                               Cancer  \n",
              "\n",
              "[5 rows x 45 columns]"
            ]
          },
          "execution_count": 14,
          "metadata": {},
          "output_type": "execute_result"
        }
      ],
      "source": [
        "disease_data = pd.read_csv(\"train.csv\",delimiter=\",\")\n",
        "\n",
        "disease_data.head()"
      ]
    },
    {
      "cell_type": "markdown",
      "metadata": {
        "id": "jUnI4bABp-pb"
      },
      "source": [
        "The next command shows all the columns in the data set. Visit the [source](https://www.kaggle.com/code/brsdincer/genomes-and-genetics-disorder-eda-process-i/notebook) of the data set and understand where the data comes from an what it means."
      ]
    },
    {
      "cell_type": "code",
      "execution_count": 15,
      "metadata": {
        "colab": {
          "base_uri": "https://localhost:8080/"
        },
        "id": "AMMWlgVHphuD",
        "outputId": "6dcd3382-be44-4256-d5a6-c0119c2a4f97"
      },
      "outputs": [
        {
          "data": {
            "text/plain": [
              "Index(['Patient Id', 'Patient Age', 'Genes in mother's side',\n",
              "       'Inherited from father', 'Maternal gene', 'Paternal gene',\n",
              "       'Blood cell count (mcL)', 'Patient First Name', 'Family Name',\n",
              "       'Father's name', 'Mother's age', 'Father's age', 'Institute Name',\n",
              "       'Location of Institute', 'Status', 'Respiratory Rate (breaths/min)',\n",
              "       'Heart Rate (rates/min', 'Test 1', 'Test 2', 'Test 3', 'Test 4',\n",
              "       'Test 5', 'Parental consent', 'Follow-up', 'Gender', 'Birth asphyxia',\n",
              "       'Autopsy shows birth defect (if applicable)', 'Place of birth',\n",
              "       'Folic acid details (peri-conceptional)',\n",
              "       'H/O serious maternal illness', 'H/O radiation exposure (x-ray)',\n",
              "       'H/O substance abuse', 'Assisted conception IVF/ART',\n",
              "       'History of anomalies in previous pregnancies',\n",
              "       'No. of previous abortion', 'Birth defects',\n",
              "       'White Blood cell count (thousand per microliter)', 'Blood test result',\n",
              "       'Symptom 1', 'Symptom 2', 'Symptom 3', 'Symptom 4', 'Symptom 5',\n",
              "       'Genetic Disorder', 'Disorder Subclass'],\n",
              "      dtype='object')"
            ]
          },
          "execution_count": 15,
          "metadata": {},
          "output_type": "execute_result"
        }
      ],
      "source": [
        "disease_data.columns"
      ]
    },
    {
      "cell_type": "markdown",
      "metadata": {},
      "source": [
        "We can also see that this dataframe has 18,232 rows (observations) and 45 columns (variables):"
      ]
    },
    {
      "cell_type": "code",
      "execution_count": null,
      "metadata": {},
      "outputs": [],
      "source": [
        "disease_data.shape"
      ]
    },
    {
      "cell_type": "markdown",
      "metadata": {
        "id": "CKxUkINGQrOX"
      },
      "source": [
        "## Simple Analysis\n",
        "\n",
        "You now have a lagre body of data. Answering questions on this data might be tedious even for simple questions (e.g, what is the lowest blood cell count to be found in the data.)\n",
        "\n",
        "Pandas provides different functions and notations to analyse data.\n",
        "\n",
        "For instance You can find the  the lowest blood cell count to be found in the data by entering just one line:"
      ]
    },
    {
      "cell_type": "code",
      "execution_count": 16,
      "metadata": {
        "colab": {
          "base_uri": "https://localhost:8080/"
        },
        "id": "CpqarDwnQw8d",
        "outputId": "1ce3ef61-b9db-4511-ead8-42eafaca7dda"
      },
      "outputs": [
        {
          "data": {
            "text/plain": [
              "4.146229815060083"
            ]
          },
          "execution_count": 16,
          "metadata": {},
          "output_type": "execute_result"
        }
      ],
      "source": [
        "disease_data[\"Blood cell count (mcL)\"].min()\n",
        "\n"
      ]
    },
    {
      "cell_type": "markdown",
      "metadata": {
        "id": "tGamjgiTSELp"
      },
      "source": [
        "Now, You found the minimal blood cell count. However, You might also want to know who is the patient with eht lowest blood cell count. You can do this using ```idxmin()```"
      ]
    },
    {
      "cell_type": "code",
      "execution_count": 17,
      "metadata": {
        "colab": {
          "base_uri": "https://localhost:8080/"
        },
        "id": "zBqn-9ZLRpLR",
        "outputId": "c9f51611-6d7c-4a2a-e13b-73f5d9f0e1b4"
      },
      "outputs": [
        {
          "data": {
            "text/plain": [
              "5105"
            ]
          },
          "execution_count": 17,
          "metadata": {},
          "output_type": "execute_result"
        }
      ],
      "source": [
        "disease_data[\"Blood cell count (mcL)\"].idxmin()"
      ]
    },
    {
      "cell_type": "markdown",
      "metadata": {
        "id": "vafMRoRXsTH-"
      },
      "source": [
        "# 🏁 Recap\n",
        "\n",
        "- If you have finished the tasks and have no questions, place the green card on top.\n",
        "- If you have finished the tasks but would like to discuss the solutions together again, place the yellow card on top.\n",
        "\n",
        "![](https://www.lokalinfo.ch/fileadmin/news_import/image003_03.jpg)"
      ]
    },
    {
      "cell_type": "markdown",
      "metadata": {
        "id": "5Dx4GvAiqjlL"
      },
      "source": [
        "# 1.3 🏆 **Case Study**\n",
        "\n",
        "Try to answer the following questions about the data. You google if You do not know the right functions yet.\n",
        "\n",
        "- See if You find and example for the four different types of variables (one type is not in the data):\n",
        "  - Nominal\n",
        "  - Ordinal\n",
        "  - Interval\n",
        "  - Ratio\n",
        "- What unique \"Genetic Disorders\" are in the data base?\n",
        "- What is the average age of fathers at birth?\n",
        "- How large is the share of patients show \"Symptom 1\"?\n",
        "- How old is the patient that has the highest Blood cell count?\n",
        "- Create a new dataframe the is anonymised and does not hold the patients names. Make sure the new data frame is a copy and not a reference to the old list.\n",
        "- 🤓 In the new data frame, drop all rows with incomplete data (containing NaN values)\n",
        "- 🤓 How did the size of the data frame frame (number of rows and columns) change?\n",
        "- 🤓 Save the new data frame as a csv-file (```cleaned_data.csv```) an store it on Your PC.\n"
      ]
    },
    {
      "cell_type": "code",
      "execution_count": 80,
      "metadata": {},
      "outputs": [
        {
          "data": {
            "text/html": [
              "<div>\n",
              "<style scoped>\n",
              "    .dataframe tbody tr th:only-of-type {\n",
              "        vertical-align: middle;\n",
              "    }\n",
              "\n",
              "    .dataframe tbody tr th {\n",
              "        vertical-align: top;\n",
              "    }\n",
              "\n",
              "    .dataframe thead th {\n",
              "        text-align: right;\n",
              "    }\n",
              "</style>\n",
              "<table border=\"1\" class=\"dataframe\">\n",
              "  <thead>\n",
              "    <tr style=\"text-align: right;\">\n",
              "      <th></th>\n",
              "      <th>Patient Id</th>\n",
              "      <th>Patient Age</th>\n",
              "      <th>Genes in mother's side</th>\n",
              "      <th>Inherited from father</th>\n",
              "      <th>Maternal gene</th>\n",
              "      <th>Paternal gene</th>\n",
              "      <th>Blood cell count (mcL)</th>\n",
              "      <th>Patient First Name</th>\n",
              "      <th>Family Name</th>\n",
              "      <th>Father's name</th>\n",
              "      <th>...</th>\n",
              "      <th>Birth defects</th>\n",
              "      <th>White Blood cell count (thousand per microliter)</th>\n",
              "      <th>Blood test result</th>\n",
              "      <th>Symptom 1</th>\n",
              "      <th>Symptom 2</th>\n",
              "      <th>Symptom 3</th>\n",
              "      <th>Symptom 4</th>\n",
              "      <th>Symptom 5</th>\n",
              "      <th>Genetic Disorder</th>\n",
              "      <th>Disorder Subclass</th>\n",
              "    </tr>\n",
              "  </thead>\n",
              "  <tbody>\n",
              "    <tr>\n",
              "      <th>0</th>\n",
              "      <td>PID0x6418</td>\n",
              "      <td>2.0</td>\n",
              "      <td>Yes</td>\n",
              "      <td>No</td>\n",
              "      <td>Yes</td>\n",
              "      <td>No</td>\n",
              "      <td>4.760603</td>\n",
              "      <td>Richard</td>\n",
              "      <td>NaN</td>\n",
              "      <td>Larre</td>\n",
              "      <td>...</td>\n",
              "      <td>NaN</td>\n",
              "      <td>9.857562</td>\n",
              "      <td>NaN</td>\n",
              "      <td>1.0</td>\n",
              "      <td>1.0</td>\n",
              "      <td>1.0</td>\n",
              "      <td>1.0</td>\n",
              "      <td>1.0</td>\n",
              "      <td>Mitochondrial genetic inheritance disorders</td>\n",
              "      <td>Leber's hereditary optic neuropathy</td>\n",
              "    </tr>\n",
              "    <tr>\n",
              "      <th>1</th>\n",
              "      <td>PID0x25d5</td>\n",
              "      <td>4.0</td>\n",
              "      <td>Yes</td>\n",
              "      <td>Yes</td>\n",
              "      <td>No</td>\n",
              "      <td>No</td>\n",
              "      <td>4.910669</td>\n",
              "      <td>Mike</td>\n",
              "      <td>NaN</td>\n",
              "      <td>Brycen</td>\n",
              "      <td>...</td>\n",
              "      <td>Multiple</td>\n",
              "      <td>5.522560</td>\n",
              "      <td>normal</td>\n",
              "      <td>1.0</td>\n",
              "      <td>NaN</td>\n",
              "      <td>1.0</td>\n",
              "      <td>1.0</td>\n",
              "      <td>0.0</td>\n",
              "      <td>NaN</td>\n",
              "      <td>Cystic fibrosis</td>\n",
              "    </tr>\n",
              "    <tr>\n",
              "      <th>2</th>\n",
              "      <td>PID0x4a82</td>\n",
              "      <td>6.0</td>\n",
              "      <td>Yes</td>\n",
              "      <td>No</td>\n",
              "      <td>No</td>\n",
              "      <td>No</td>\n",
              "      <td>4.893297</td>\n",
              "      <td>Kimberly</td>\n",
              "      <td>NaN</td>\n",
              "      <td>Nashon</td>\n",
              "      <td>...</td>\n",
              "      <td>Singular</td>\n",
              "      <td>NaN</td>\n",
              "      <td>normal</td>\n",
              "      <td>0.0</td>\n",
              "      <td>1.0</td>\n",
              "      <td>1.0</td>\n",
              "      <td>1.0</td>\n",
              "      <td>1.0</td>\n",
              "      <td>Multifactorial genetic inheritance disorders</td>\n",
              "      <td>Diabetes</td>\n",
              "    </tr>\n",
              "    <tr>\n",
              "      <th>3</th>\n",
              "      <td>PID0x4ac8</td>\n",
              "      <td>12.0</td>\n",
              "      <td>Yes</td>\n",
              "      <td>No</td>\n",
              "      <td>Yes</td>\n",
              "      <td>No</td>\n",
              "      <td>4.705280</td>\n",
              "      <td>Jeffery</td>\n",
              "      <td>Hoelscher</td>\n",
              "      <td>Aayaan</td>\n",
              "      <td>...</td>\n",
              "      <td>Singular</td>\n",
              "      <td>7.919321</td>\n",
              "      <td>inconclusive</td>\n",
              "      <td>0.0</td>\n",
              "      <td>0.0</td>\n",
              "      <td>1.0</td>\n",
              "      <td>0.0</td>\n",
              "      <td>0.0</td>\n",
              "      <td>Mitochondrial genetic inheritance disorders</td>\n",
              "      <td>Leigh syndrome</td>\n",
              "    </tr>\n",
              "    <tr>\n",
              "      <th>4</th>\n",
              "      <td>PID0x1bf7</td>\n",
              "      <td>11.0</td>\n",
              "      <td>Yes</td>\n",
              "      <td>No</td>\n",
              "      <td>NaN</td>\n",
              "      <td>Yes</td>\n",
              "      <td>4.720703</td>\n",
              "      <td>Johanna</td>\n",
              "      <td>Stutzman</td>\n",
              "      <td>Suave</td>\n",
              "      <td>...</td>\n",
              "      <td>Multiple</td>\n",
              "      <td>4.098210</td>\n",
              "      <td>NaN</td>\n",
              "      <td>0.0</td>\n",
              "      <td>0.0</td>\n",
              "      <td>0.0</td>\n",
              "      <td>0.0</td>\n",
              "      <td>NaN</td>\n",
              "      <td>Multifactorial genetic inheritance disorders</td>\n",
              "      <td>Cancer</td>\n",
              "    </tr>\n",
              "    <tr>\n",
              "      <th>...</th>\n",
              "      <td>...</td>\n",
              "      <td>...</td>\n",
              "      <td>...</td>\n",
              "      <td>...</td>\n",
              "      <td>...</td>\n",
              "      <td>...</td>\n",
              "      <td>...</td>\n",
              "      <td>...</td>\n",
              "      <td>...</td>\n",
              "      <td>...</td>\n",
              "      <td>...</td>\n",
              "      <td>...</td>\n",
              "      <td>...</td>\n",
              "      <td>...</td>\n",
              "      <td>...</td>\n",
              "      <td>...</td>\n",
              "      <td>...</td>\n",
              "      <td>...</td>\n",
              "      <td>...</td>\n",
              "      <td>...</td>\n",
              "      <td>...</td>\n",
              "    </tr>\n",
              "    <tr>\n",
              "      <th>22078</th>\n",
              "      <td>PID0x5598</td>\n",
              "      <td>4.0</td>\n",
              "      <td>Yes</td>\n",
              "      <td>Yes</td>\n",
              "      <td>Yes</td>\n",
              "      <td>No</td>\n",
              "      <td>5.258298</td>\n",
              "      <td>Lynn</td>\n",
              "      <td>NaN</td>\n",
              "      <td>Alhassane</td>\n",
              "      <td>...</td>\n",
              "      <td>Multiple</td>\n",
              "      <td>6.584811</td>\n",
              "      <td>inconclusive</td>\n",
              "      <td>0.0</td>\n",
              "      <td>0.0</td>\n",
              "      <td>1.0</td>\n",
              "      <td>0.0</td>\n",
              "      <td>0.0</td>\n",
              "      <td>Mitochondrial genetic inheritance disorders</td>\n",
              "      <td>Leigh syndrome</td>\n",
              "    </tr>\n",
              "    <tr>\n",
              "      <th>22079</th>\n",
              "      <td>PID0x19cb</td>\n",
              "      <td>8.0</td>\n",
              "      <td>No</td>\n",
              "      <td>Yes</td>\n",
              "      <td>No</td>\n",
              "      <td>Yes</td>\n",
              "      <td>4.974220</td>\n",
              "      <td>Matthew</td>\n",
              "      <td>Farley</td>\n",
              "      <td>Dartanion</td>\n",
              "      <td>...</td>\n",
              "      <td>Multiple</td>\n",
              "      <td>7.041556</td>\n",
              "      <td>inconclusive</td>\n",
              "      <td>1.0</td>\n",
              "      <td>1.0</td>\n",
              "      <td>1.0</td>\n",
              "      <td>1.0</td>\n",
              "      <td>0.0</td>\n",
              "      <td>Multifactorial genetic inheritance disorders</td>\n",
              "      <td>Diabetes</td>\n",
              "    </tr>\n",
              "    <tr>\n",
              "      <th>22080</th>\n",
              "      <td>PID0x3c4f</td>\n",
              "      <td>8.0</td>\n",
              "      <td>Yes</td>\n",
              "      <td>No</td>\n",
              "      <td>Yes</td>\n",
              "      <td>No</td>\n",
              "      <td>5.186470</td>\n",
              "      <td>John</td>\n",
              "      <td>NaN</td>\n",
              "      <td>Cavani</td>\n",
              "      <td>...</td>\n",
              "      <td>Singular</td>\n",
              "      <td>7.715464</td>\n",
              "      <td>normal</td>\n",
              "      <td>0.0</td>\n",
              "      <td>0.0</td>\n",
              "      <td>0.0</td>\n",
              "      <td>1.0</td>\n",
              "      <td>NaN</td>\n",
              "      <td>Mitochondrial genetic inheritance disorders</td>\n",
              "      <td>Mitochondrial myopathy</td>\n",
              "    </tr>\n",
              "    <tr>\n",
              "      <th>22081</th>\n",
              "      <td>PID0x13a</td>\n",
              "      <td>7.0</td>\n",
              "      <td>Yes</td>\n",
              "      <td>No</td>\n",
              "      <td>Yes</td>\n",
              "      <td>Yes</td>\n",
              "      <td>4.858543</td>\n",
              "      <td>Sharon</td>\n",
              "      <td>NaN</td>\n",
              "      <td>Bomer</td>\n",
              "      <td>...</td>\n",
              "      <td>Multiple</td>\n",
              "      <td>8.437670</td>\n",
              "      <td>abnormal</td>\n",
              "      <td>1.0</td>\n",
              "      <td>1.0</td>\n",
              "      <td>1.0</td>\n",
              "      <td>0.0</td>\n",
              "      <td>0.0</td>\n",
              "      <td>NaN</td>\n",
              "      <td>Leigh syndrome</td>\n",
              "    </tr>\n",
              "    <tr>\n",
              "      <th>22082</th>\n",
              "      <td>PID0x9332</td>\n",
              "      <td>11.0</td>\n",
              "      <td>Yes</td>\n",
              "      <td>No</td>\n",
              "      <td>No</td>\n",
              "      <td>No</td>\n",
              "      <td>4.738067</td>\n",
              "      <td>Andrew</td>\n",
              "      <td>Mose</td>\n",
              "      <td>Eban</td>\n",
              "      <td>...</td>\n",
              "      <td>Singular</td>\n",
              "      <td>11.188371</td>\n",
              "      <td>normal</td>\n",
              "      <td>1.0</td>\n",
              "      <td>0.0</td>\n",
              "      <td>1.0</td>\n",
              "      <td>1.0</td>\n",
              "      <td>1.0</td>\n",
              "      <td>Multifactorial genetic inheritance disorders</td>\n",
              "      <td>Diabetes</td>\n",
              "    </tr>\n",
              "  </tbody>\n",
              "</table>\n",
              "<p>22083 rows × 45 columns</p>\n",
              "</div>"
            ],
            "text/plain": [
              "      Patient Id  Patient Age Genes in mother's side Inherited from father  \\\n",
              "0      PID0x6418          2.0                    Yes                    No   \n",
              "1      PID0x25d5          4.0                    Yes                   Yes   \n",
              "2      PID0x4a82          6.0                    Yes                    No   \n",
              "3      PID0x4ac8         12.0                    Yes                    No   \n",
              "4      PID0x1bf7         11.0                    Yes                    No   \n",
              "...          ...          ...                    ...                   ...   \n",
              "22078  PID0x5598          4.0                    Yes                   Yes   \n",
              "22079  PID0x19cb          8.0                     No                   Yes   \n",
              "22080  PID0x3c4f          8.0                    Yes                    No   \n",
              "22081   PID0x13a          7.0                    Yes                    No   \n",
              "22082  PID0x9332         11.0                    Yes                    No   \n",
              "\n",
              "      Maternal gene Paternal gene  Blood cell count (mcL) Patient First Name  \\\n",
              "0               Yes            No                4.760603            Richard   \n",
              "1                No            No                4.910669               Mike   \n",
              "2                No            No                4.893297           Kimberly   \n",
              "3               Yes            No                4.705280            Jeffery   \n",
              "4               NaN           Yes                4.720703            Johanna   \n",
              "...             ...           ...                     ...                ...   \n",
              "22078           Yes            No                5.258298               Lynn   \n",
              "22079            No           Yes                4.974220            Matthew   \n",
              "22080           Yes            No                5.186470               John   \n",
              "22081           Yes           Yes                4.858543             Sharon   \n",
              "22082            No            No                4.738067             Andrew   \n",
              "\n",
              "      Family Name Father's name  ...  Birth defects  \\\n",
              "0             NaN         Larre  ...            NaN   \n",
              "1             NaN        Brycen  ...       Multiple   \n",
              "2             NaN        Nashon  ...       Singular   \n",
              "3       Hoelscher        Aayaan  ...       Singular   \n",
              "4        Stutzman         Suave  ...       Multiple   \n",
              "...           ...           ...  ...            ...   \n",
              "22078         NaN     Alhassane  ...       Multiple   \n",
              "22079      Farley     Dartanion  ...       Multiple   \n",
              "22080         NaN        Cavani  ...       Singular   \n",
              "22081         NaN         Bomer  ...       Multiple   \n",
              "22082        Mose          Eban  ...       Singular   \n",
              "\n",
              "       White Blood cell count (thousand per microliter) Blood test result  \\\n",
              "0                                              9.857562               NaN   \n",
              "1                                              5.522560            normal   \n",
              "2                                                   NaN            normal   \n",
              "3                                              7.919321      inconclusive   \n",
              "4                                              4.098210               NaN   \n",
              "...                                                 ...               ...   \n",
              "22078                                          6.584811      inconclusive   \n",
              "22079                                          7.041556      inconclusive   \n",
              "22080                                          7.715464            normal   \n",
              "22081                                          8.437670          abnormal   \n",
              "22082                                         11.188371            normal   \n",
              "\n",
              "      Symptom 1 Symptom 2 Symptom 3 Symptom 4  Symptom 5  \\\n",
              "0           1.0       1.0       1.0       1.0        1.0   \n",
              "1           1.0       NaN       1.0       1.0        0.0   \n",
              "2           0.0       1.0       1.0       1.0        1.0   \n",
              "3           0.0       0.0       1.0       0.0        0.0   \n",
              "4           0.0       0.0       0.0       0.0        NaN   \n",
              "...         ...       ...       ...       ...        ...   \n",
              "22078       0.0       0.0       1.0       0.0        0.0   \n",
              "22079       1.0       1.0       1.0       1.0        0.0   \n",
              "22080       0.0       0.0       0.0       1.0        NaN   \n",
              "22081       1.0       1.0       1.0       0.0        0.0   \n",
              "22082       1.0       0.0       1.0       1.0        1.0   \n",
              "\n",
              "                                   Genetic Disorder  \\\n",
              "0       Mitochondrial genetic inheritance disorders   \n",
              "1                                               NaN   \n",
              "2      Multifactorial genetic inheritance disorders   \n",
              "3       Mitochondrial genetic inheritance disorders   \n",
              "4      Multifactorial genetic inheritance disorders   \n",
              "...                                             ...   \n",
              "22078   Mitochondrial genetic inheritance disorders   \n",
              "22079  Multifactorial genetic inheritance disorders   \n",
              "22080   Mitochondrial genetic inheritance disorders   \n",
              "22081                                           NaN   \n",
              "22082  Multifactorial genetic inheritance disorders   \n",
              "\n",
              "                         Disorder Subclass  \n",
              "0      Leber's hereditary optic neuropathy  \n",
              "1                          Cystic fibrosis  \n",
              "2                                 Diabetes  \n",
              "3                           Leigh syndrome  \n",
              "4                                   Cancer  \n",
              "...                                    ...  \n",
              "22078                       Leigh syndrome  \n",
              "22079                             Diabetes  \n",
              "22080               Mitochondrial myopathy  \n",
              "22081                       Leigh syndrome  \n",
              "22082                             Diabetes  \n",
              "\n",
              "[22083 rows x 45 columns]"
            ]
          },
          "execution_count": 80,
          "metadata": {},
          "output_type": "execute_result"
        }
      ],
      "source": [
        "import pandas as pd\n",
        "\n",
        "disease_data = pd.read_csv(\"data/genetic_disorders/train.csv\")\n",
        "\n",
        "disease_data"
      ]
    },
    {
      "cell_type": "code",
      "execution_count": 81,
      "metadata": {
        "colab": {
          "base_uri": "https://localhost:8080/"
        },
        "id": "ONcQq7vZe28a",
        "outputId": "57115e16-04f2-49f9-d846-622c5654e031"
      },
      "outputs": [
        {
          "name": "stdout",
          "output_type": "stream",
          "text": [
            "[nan 'Hoelscher' 'Stutzman' ... 'Acuff' 'Farley' 'Mose']\n",
            "[nan 'normal' 'inconclusive' 'slightly abnormal' 'abnormal']\n",
            "[4.76060309 4.91066906 4.89329743 ... 5.1864702  4.85854267 4.73806671]\n"
          ]
        }
      ],
      "source": [
        "# Nominal\n",
        "print(disease_data[\"Family Name\"].unique())\n",
        "\n",
        "# Ordinal\n",
        "print(disease_data[\"Blood test result\"].unique())\n",
        "# Interval\n",
        "\n",
        "# Ratio\n",
        "print(disease_data[\"Blood cell count (mcL)\"].unique())"
      ]
    },
    {
      "cell_type": "code",
      "execution_count": 82,
      "metadata": {
        "colab": {
          "base_uri": "https://localhost:8080/"
        },
        "id": "C5teSEHMp-WF",
        "outputId": "0901fece-fd74-45fb-ff4a-2f028a4d1098"
      },
      "outputs": [
        {
          "data": {
            "text/plain": [
              "array(['Mitochondrial genetic inheritance disorders', nan,\n",
              "       'Multifactorial genetic inheritance disorders',\n",
              "       'Single-gene inheritance diseases'], dtype=object)"
            ]
          },
          "execution_count": 82,
          "metadata": {},
          "output_type": "execute_result"
        }
      ],
      "source": [
        "# What unique \"Genetic Disorders\" are in the data base?\n",
        "disease_data[\"Genetic Disorder\"].unique()"
      ]
    },
    {
      "cell_type": "code",
      "execution_count": 19,
      "metadata": {
        "colab": {
          "base_uri": "https://localhost:8080/"
        },
        "id": "UoSzo2DyrMWl",
        "outputId": "e69acafe-3ffc-415b-e7c5-65db9e1e8d89"
      },
      "outputs": [
        {
          "data": {
            "text/plain": [
              "41.9728520842393"
            ]
          },
          "execution_count": 19,
          "metadata": {},
          "output_type": "execute_result"
        }
      ],
      "source": [
        "# What is the average age of fathers at birth?\n",
        "disease_data[\"Father's age\"].mean()"
      ]
    },
    {
      "cell_type": "code",
      "execution_count": 63,
      "metadata": {},
      "outputs": [
        {
          "data": {
            "text/plain": [
              "0.5346646741837613"
            ]
          },
          "execution_count": 63,
          "metadata": {},
          "output_type": "execute_result"
        }
      ],
      "source": [
        "# How large is the share of patients show \"Symptom 1\"?\n",
        "disease_data[\"Symptom 1\"].sum() / disease_data[\"Symptom 1\"].size"
      ]
    },
    {
      "cell_type": "code",
      "execution_count": 83,
      "metadata": {},
      "outputs": [
        {
          "data": {
            "text/plain": [
              "array([ 1.,  0., nan])"
            ]
          },
          "execution_count": 83,
          "metadata": {},
          "output_type": "execute_result"
        }
      ],
      "source": [
        "disease_data[\"Symptom 1\"].unique()"
      ]
    },
    {
      "cell_type": "code",
      "execution_count": 64,
      "metadata": {
        "colab": {
          "base_uri": "https://localhost:8080/"
        },
        "id": "hsnkBc6VreZu",
        "outputId": "704f8ab0-d92d-4040-8acc-9504cd27e231"
      },
      "outputs": [
        {
          "data": {
            "text/plain": [
              "0.9024136213376805"
            ]
          },
          "execution_count": 64,
          "metadata": {},
          "output_type": "execute_result"
        }
      ],
      "source": [
        "# How large is the share of patients show \"Symptom 1\"?\n",
        "# https://pandas.pydata.org/docs/reference/api/pandas.DataFrame.count.html\n",
        "# Does count non-NaN values -this is not the solution!\n",
        "disease_data[\"Symptom 1\"].count() / disease_data[\"Symptom 1\"].size"
      ]
    },
    {
      "cell_type": "code",
      "execution_count": null,
      "metadata": {},
      "outputs": [],
      "source": []
    },
    {
      "cell_type": "code",
      "execution_count": 22,
      "metadata": {
        "colab": {
          "base_uri": "https://localhost:8080/"
        },
        "id": "WKKZCuV0Tdoj",
        "outputId": "2759de4d-4bde-49e7-8fe2-dc4eb8168243"
      },
      "outputs": [
        {
          "data": {
            "text/plain": [
              "9.0"
            ]
          },
          "execution_count": 22,
          "metadata": {},
          "output_type": "execute_result"
        }
      ],
      "source": [
        "# How old is the patient that has the highest Blood cell count?\n",
        "idx = disease_data[\"Blood cell count (mcL)\"].idxmax()\n",
        "disease_data.iloc[idx][\"Patient Age\"]"
      ]
    },
    {
      "cell_type": "code",
      "execution_count": 23,
      "metadata": {
        "colab": {
          "base_uri": "https://localhost:8080/",
          "height": 1000
        },
        "id": "1sQUAxiLTdlr",
        "outputId": "0bb31bf6-2743-4d08-a367-398ec9dd9dfb"
      },
      "outputs": [
        {
          "data": {
            "text/html": [
              "<div>\n",
              "<style scoped>\n",
              "    .dataframe tbody tr th:only-of-type {\n",
              "        vertical-align: middle;\n",
              "    }\n",
              "\n",
              "    .dataframe tbody tr th {\n",
              "        vertical-align: top;\n",
              "    }\n",
              "\n",
              "    .dataframe thead th {\n",
              "        text-align: right;\n",
              "    }\n",
              "</style>\n",
              "<table border=\"1\" class=\"dataframe\">\n",
              "  <thead>\n",
              "    <tr style=\"text-align: right;\">\n",
              "      <th></th>\n",
              "      <th>Patient Id</th>\n",
              "      <th>Patient Age</th>\n",
              "      <th>Genes in mother's side</th>\n",
              "      <th>Inherited from father</th>\n",
              "      <th>Maternal gene</th>\n",
              "      <th>Paternal gene</th>\n",
              "      <th>Blood cell count (mcL)</th>\n",
              "      <th>Mother's age</th>\n",
              "      <th>Father's age</th>\n",
              "      <th>Institute Name</th>\n",
              "      <th>...</th>\n",
              "      <th>Birth defects</th>\n",
              "      <th>White Blood cell count (thousand per microliter)</th>\n",
              "      <th>Blood test result</th>\n",
              "      <th>Symptom 1</th>\n",
              "      <th>Symptom 2</th>\n",
              "      <th>Symptom 3</th>\n",
              "      <th>Symptom 4</th>\n",
              "      <th>Symptom 5</th>\n",
              "      <th>Genetic Disorder</th>\n",
              "      <th>Disorder Subclass</th>\n",
              "    </tr>\n",
              "  </thead>\n",
              "  <tbody>\n",
              "    <tr>\n",
              "      <th>0</th>\n",
              "      <td>PID0x6418</td>\n",
              "      <td>2.0</td>\n",
              "      <td>Yes</td>\n",
              "      <td>No</td>\n",
              "      <td>Yes</td>\n",
              "      <td>No</td>\n",
              "      <td>4.760603</td>\n",
              "      <td>NaN</td>\n",
              "      <td>NaN</td>\n",
              "      <td>Boston Specialty &amp; Rehabilitation Hospital</td>\n",
              "      <td>...</td>\n",
              "      <td>NaN</td>\n",
              "      <td>9.857562</td>\n",
              "      <td>NaN</td>\n",
              "      <td>1.0</td>\n",
              "      <td>1.0</td>\n",
              "      <td>1.0</td>\n",
              "      <td>1.0</td>\n",
              "      <td>1.0</td>\n",
              "      <td>Mitochondrial genetic inheritance disorders</td>\n",
              "      <td>Leber's hereditary optic neuropathy</td>\n",
              "    </tr>\n",
              "    <tr>\n",
              "      <th>1</th>\n",
              "      <td>PID0x25d5</td>\n",
              "      <td>4.0</td>\n",
              "      <td>Yes</td>\n",
              "      <td>Yes</td>\n",
              "      <td>No</td>\n",
              "      <td>No</td>\n",
              "      <td>4.910669</td>\n",
              "      <td>NaN</td>\n",
              "      <td>23.0</td>\n",
              "      <td>St. Margaret's Hospital For Women</td>\n",
              "      <td>...</td>\n",
              "      <td>Multiple</td>\n",
              "      <td>5.522560</td>\n",
              "      <td>normal</td>\n",
              "      <td>1.0</td>\n",
              "      <td>NaN</td>\n",
              "      <td>1.0</td>\n",
              "      <td>1.0</td>\n",
              "      <td>0.0</td>\n",
              "      <td>NaN</td>\n",
              "      <td>Cystic fibrosis</td>\n",
              "    </tr>\n",
              "    <tr>\n",
              "      <th>2</th>\n",
              "      <td>PID0x4a82</td>\n",
              "      <td>6.0</td>\n",
              "      <td>Yes</td>\n",
              "      <td>No</td>\n",
              "      <td>No</td>\n",
              "      <td>No</td>\n",
              "      <td>4.893297</td>\n",
              "      <td>41.0</td>\n",
              "      <td>22.0</td>\n",
              "      <td>NaN</td>\n",
              "      <td>...</td>\n",
              "      <td>Singular</td>\n",
              "      <td>NaN</td>\n",
              "      <td>normal</td>\n",
              "      <td>0.0</td>\n",
              "      <td>1.0</td>\n",
              "      <td>1.0</td>\n",
              "      <td>1.0</td>\n",
              "      <td>1.0</td>\n",
              "      <td>Multifactorial genetic inheritance disorders</td>\n",
              "      <td>Diabetes</td>\n",
              "    </tr>\n",
              "    <tr>\n",
              "      <th>3</th>\n",
              "      <td>PID0x4ac8</td>\n",
              "      <td>12.0</td>\n",
              "      <td>Yes</td>\n",
              "      <td>No</td>\n",
              "      <td>Yes</td>\n",
              "      <td>No</td>\n",
              "      <td>4.705280</td>\n",
              "      <td>21.0</td>\n",
              "      <td>NaN</td>\n",
              "      <td>NaN</td>\n",
              "      <td>...</td>\n",
              "      <td>Singular</td>\n",
              "      <td>7.919321</td>\n",
              "      <td>inconclusive</td>\n",
              "      <td>0.0</td>\n",
              "      <td>0.0</td>\n",
              "      <td>1.0</td>\n",
              "      <td>0.0</td>\n",
              "      <td>0.0</td>\n",
              "      <td>Mitochondrial genetic inheritance disorders</td>\n",
              "      <td>Leigh syndrome</td>\n",
              "    </tr>\n",
              "    <tr>\n",
              "      <th>4</th>\n",
              "      <td>PID0x1bf7</td>\n",
              "      <td>11.0</td>\n",
              "      <td>Yes</td>\n",
              "      <td>No</td>\n",
              "      <td>NaN</td>\n",
              "      <td>Yes</td>\n",
              "      <td>4.720703</td>\n",
              "      <td>32.0</td>\n",
              "      <td>NaN</td>\n",
              "      <td>Carney Hospital</td>\n",
              "      <td>...</td>\n",
              "      <td>Multiple</td>\n",
              "      <td>4.098210</td>\n",
              "      <td>NaN</td>\n",
              "      <td>0.0</td>\n",
              "      <td>0.0</td>\n",
              "      <td>0.0</td>\n",
              "      <td>0.0</td>\n",
              "      <td>NaN</td>\n",
              "      <td>Multifactorial genetic inheritance disorders</td>\n",
              "      <td>Cancer</td>\n",
              "    </tr>\n",
              "    <tr>\n",
              "      <th>...</th>\n",
              "      <td>...</td>\n",
              "      <td>...</td>\n",
              "      <td>...</td>\n",
              "      <td>...</td>\n",
              "      <td>...</td>\n",
              "      <td>...</td>\n",
              "      <td>...</td>\n",
              "      <td>...</td>\n",
              "      <td>...</td>\n",
              "      <td>...</td>\n",
              "      <td>...</td>\n",
              "      <td>...</td>\n",
              "      <td>...</td>\n",
              "      <td>...</td>\n",
              "      <td>...</td>\n",
              "      <td>...</td>\n",
              "      <td>...</td>\n",
              "      <td>...</td>\n",
              "      <td>...</td>\n",
              "      <td>...</td>\n",
              "      <td>...</td>\n",
              "    </tr>\n",
              "    <tr>\n",
              "      <th>22078</th>\n",
              "      <td>PID0x5598</td>\n",
              "      <td>4.0</td>\n",
              "      <td>Yes</td>\n",
              "      <td>Yes</td>\n",
              "      <td>Yes</td>\n",
              "      <td>No</td>\n",
              "      <td>5.258298</td>\n",
              "      <td>35.0</td>\n",
              "      <td>64.0</td>\n",
              "      <td>Franciscan Children's  Hospital</td>\n",
              "      <td>...</td>\n",
              "      <td>Multiple</td>\n",
              "      <td>6.584811</td>\n",
              "      <td>inconclusive</td>\n",
              "      <td>0.0</td>\n",
              "      <td>0.0</td>\n",
              "      <td>1.0</td>\n",
              "      <td>0.0</td>\n",
              "      <td>0.0</td>\n",
              "      <td>Mitochondrial genetic inheritance disorders</td>\n",
              "      <td>Leigh syndrome</td>\n",
              "    </tr>\n",
              "    <tr>\n",
              "      <th>22079</th>\n",
              "      <td>PID0x19cb</td>\n",
              "      <td>8.0</td>\n",
              "      <td>No</td>\n",
              "      <td>Yes</td>\n",
              "      <td>No</td>\n",
              "      <td>Yes</td>\n",
              "      <td>4.974220</td>\n",
              "      <td>NaN</td>\n",
              "      <td>56.0</td>\n",
              "      <td>Faulkner Hospital</td>\n",
              "      <td>...</td>\n",
              "      <td>Multiple</td>\n",
              "      <td>7.041556</td>\n",
              "      <td>inconclusive</td>\n",
              "      <td>1.0</td>\n",
              "      <td>1.0</td>\n",
              "      <td>1.0</td>\n",
              "      <td>1.0</td>\n",
              "      <td>0.0</td>\n",
              "      <td>Multifactorial genetic inheritance disorders</td>\n",
              "      <td>Diabetes</td>\n",
              "    </tr>\n",
              "    <tr>\n",
              "      <th>22080</th>\n",
              "      <td>PID0x3c4f</td>\n",
              "      <td>8.0</td>\n",
              "      <td>Yes</td>\n",
              "      <td>No</td>\n",
              "      <td>Yes</td>\n",
              "      <td>No</td>\n",
              "      <td>5.186470</td>\n",
              "      <td>35.0</td>\n",
              "      <td>51.0</td>\n",
              "      <td>Not applicable</td>\n",
              "      <td>...</td>\n",
              "      <td>Singular</td>\n",
              "      <td>7.715464</td>\n",
              "      <td>normal</td>\n",
              "      <td>0.0</td>\n",
              "      <td>0.0</td>\n",
              "      <td>0.0</td>\n",
              "      <td>1.0</td>\n",
              "      <td>NaN</td>\n",
              "      <td>Mitochondrial genetic inheritance disorders</td>\n",
              "      <td>Mitochondrial myopathy</td>\n",
              "    </tr>\n",
              "    <tr>\n",
              "      <th>22081</th>\n",
              "      <td>PID0x13a</td>\n",
              "      <td>7.0</td>\n",
              "      <td>Yes</td>\n",
              "      <td>No</td>\n",
              "      <td>Yes</td>\n",
              "      <td>Yes</td>\n",
              "      <td>4.858543</td>\n",
              "      <td>19.0</td>\n",
              "      <td>NaN</td>\n",
              "      <td>Not applicable</td>\n",
              "      <td>...</td>\n",
              "      <td>Multiple</td>\n",
              "      <td>8.437670</td>\n",
              "      <td>abnormal</td>\n",
              "      <td>1.0</td>\n",
              "      <td>1.0</td>\n",
              "      <td>1.0</td>\n",
              "      <td>0.0</td>\n",
              "      <td>0.0</td>\n",
              "      <td>NaN</td>\n",
              "      <td>Leigh syndrome</td>\n",
              "    </tr>\n",
              "    <tr>\n",
              "      <th>22082</th>\n",
              "      <td>PID0x9332</td>\n",
              "      <td>11.0</td>\n",
              "      <td>Yes</td>\n",
              "      <td>No</td>\n",
              "      <td>No</td>\n",
              "      <td>No</td>\n",
              "      <td>4.738067</td>\n",
              "      <td>32.0</td>\n",
              "      <td>62.0</td>\n",
              "      <td>Hebrew Rehabilitation Center</td>\n",
              "      <td>...</td>\n",
              "      <td>Singular</td>\n",
              "      <td>11.188371</td>\n",
              "      <td>normal</td>\n",
              "      <td>1.0</td>\n",
              "      <td>0.0</td>\n",
              "      <td>1.0</td>\n",
              "      <td>1.0</td>\n",
              "      <td>1.0</td>\n",
              "      <td>Multifactorial genetic inheritance disorders</td>\n",
              "      <td>Diabetes</td>\n",
              "    </tr>\n",
              "  </tbody>\n",
              "</table>\n",
              "<p>22083 rows × 42 columns</p>\n",
              "</div>"
            ],
            "text/plain": [
              "      Patient Id  Patient Age Genes in mother's side Inherited from father  \\\n",
              "0      PID0x6418          2.0                    Yes                    No   \n",
              "1      PID0x25d5          4.0                    Yes                   Yes   \n",
              "2      PID0x4a82          6.0                    Yes                    No   \n",
              "3      PID0x4ac8         12.0                    Yes                    No   \n",
              "4      PID0x1bf7         11.0                    Yes                    No   \n",
              "...          ...          ...                    ...                   ...   \n",
              "22078  PID0x5598          4.0                    Yes                   Yes   \n",
              "22079  PID0x19cb          8.0                     No                   Yes   \n",
              "22080  PID0x3c4f          8.0                    Yes                    No   \n",
              "22081   PID0x13a          7.0                    Yes                    No   \n",
              "22082  PID0x9332         11.0                    Yes                    No   \n",
              "\n",
              "      Maternal gene Paternal gene  Blood cell count (mcL)  Mother's age  \\\n",
              "0               Yes            No                4.760603           NaN   \n",
              "1                No            No                4.910669           NaN   \n",
              "2                No            No                4.893297          41.0   \n",
              "3               Yes            No                4.705280          21.0   \n",
              "4               NaN           Yes                4.720703          32.0   \n",
              "...             ...           ...                     ...           ...   \n",
              "22078           Yes            No                5.258298          35.0   \n",
              "22079            No           Yes                4.974220           NaN   \n",
              "22080           Yes            No                5.186470          35.0   \n",
              "22081           Yes           Yes                4.858543          19.0   \n",
              "22082            No            No                4.738067          32.0   \n",
              "\n",
              "       Father's age                              Institute Name  ...  \\\n",
              "0               NaN  Boston Specialty & Rehabilitation Hospital  ...   \n",
              "1              23.0           St. Margaret's Hospital For Women  ...   \n",
              "2              22.0                                         NaN  ...   \n",
              "3               NaN                                         NaN  ...   \n",
              "4               NaN                             Carney Hospital  ...   \n",
              "...             ...                                         ...  ...   \n",
              "22078          64.0             Franciscan Children's  Hospital  ...   \n",
              "22079          56.0                           Faulkner Hospital  ...   \n",
              "22080          51.0                              Not applicable  ...   \n",
              "22081           NaN                              Not applicable  ...   \n",
              "22082          62.0                Hebrew Rehabilitation Center  ...   \n",
              "\n",
              "      Birth defects White Blood cell count (thousand per microliter)  \\\n",
              "0               NaN                                         9.857562   \n",
              "1          Multiple                                         5.522560   \n",
              "2          Singular                                              NaN   \n",
              "3          Singular                                         7.919321   \n",
              "4          Multiple                                         4.098210   \n",
              "...             ...                                              ...   \n",
              "22078      Multiple                                         6.584811   \n",
              "22079      Multiple                                         7.041556   \n",
              "22080      Singular                                         7.715464   \n",
              "22081      Multiple                                         8.437670   \n",
              "22082      Singular                                        11.188371   \n",
              "\n",
              "      Blood test result Symptom 1  Symptom 2  Symptom 3  Symptom 4  Symptom 5  \\\n",
              "0                   NaN       1.0        1.0        1.0        1.0        1.0   \n",
              "1                normal       1.0        NaN        1.0        1.0        0.0   \n",
              "2                normal       0.0        1.0        1.0        1.0        1.0   \n",
              "3          inconclusive       0.0        0.0        1.0        0.0        0.0   \n",
              "4                   NaN       0.0        0.0        0.0        0.0        NaN   \n",
              "...                 ...       ...        ...        ...        ...        ...   \n",
              "22078      inconclusive       0.0        0.0        1.0        0.0        0.0   \n",
              "22079      inconclusive       1.0        1.0        1.0        1.0        0.0   \n",
              "22080            normal       0.0        0.0        0.0        1.0        NaN   \n",
              "22081          abnormal       1.0        1.0        1.0        0.0        0.0   \n",
              "22082            normal       1.0        0.0        1.0        1.0        1.0   \n",
              "\n",
              "                                   Genetic Disorder  \\\n",
              "0       Mitochondrial genetic inheritance disorders   \n",
              "1                                               NaN   \n",
              "2      Multifactorial genetic inheritance disorders   \n",
              "3       Mitochondrial genetic inheritance disorders   \n",
              "4      Multifactorial genetic inheritance disorders   \n",
              "...                                             ...   \n",
              "22078   Mitochondrial genetic inheritance disorders   \n",
              "22079  Multifactorial genetic inheritance disorders   \n",
              "22080   Mitochondrial genetic inheritance disorders   \n",
              "22081                                           NaN   \n",
              "22082  Multifactorial genetic inheritance disorders   \n",
              "\n",
              "                         Disorder Subclass  \n",
              "0      Leber's hereditary optic neuropathy  \n",
              "1                          Cystic fibrosis  \n",
              "2                                 Diabetes  \n",
              "3                           Leigh syndrome  \n",
              "4                                   Cancer  \n",
              "...                                    ...  \n",
              "22078                       Leigh syndrome  \n",
              "22079                             Diabetes  \n",
              "22080               Mitochondrial myopathy  \n",
              "22081                       Leigh syndrome  \n",
              "22082                             Diabetes  \n",
              "\n",
              "[22083 rows x 42 columns]"
            ]
          },
          "execution_count": 23,
          "metadata": {},
          "output_type": "execute_result"
        }
      ],
      "source": [
        "# Create a new dataframe the is anonymised and does not hold the patients names. Make sure the new data frame is a copy and not a reference to the old list.\n",
        "disease_data_anonymised = disease_data.copy()\n",
        "disease_data_anonymised = disease_data_anonymised.drop([\"Patient First Name\"],axis = 1)\n",
        "disease_data_anonymised = disease_data_anonymised.drop([\"Family Name\"],axis = 1)\n",
        "disease_data_anonymised = disease_data_anonymised.drop([\"Father's name\"],axis = 1)\n",
        "disease_data_anonymised"
      ]
    },
    {
      "cell_type": "code",
      "execution_count": 24,
      "metadata": {
        "colab": {
          "base_uri": "https://localhost:8080/"
        },
        "id": "-U6y_vzkTdii",
        "outputId": "9adcb50e-a3f0-4408-c9fc-0fb9ea44d6f9"
      },
      "outputs": [
        {
          "name": "stdout",
          "output_type": "stream",
          "text": [
            "(22083, 45)\n",
            "(6735, 42)\n"
          ]
        }
      ],
      "source": [
        "# How did the size of the data frame frame (number of rows and columns) change?\n",
        "disease_data_anonymised = disease_data_anonymised.dropna()\n",
        "\n",
        "print(disease_data.shape)\n",
        "print(disease_data_anonymised.shape)"
      ]
    },
    {
      "cell_type": "code",
      "execution_count": 25,
      "metadata": {
        "id": "3mw66ZLhTdcz"
      },
      "outputs": [],
      "source": [
        "# Save the new data frame as a csv-file (cleaned_data.csv) an store it on Your PC.\n",
        "disease_data_anonymised.to_csv(\"cleaned_data.csv\")"
      ]
    },
    {
      "cell_type": "markdown",
      "metadata": {
        "id": "SLiGmK46k_7M"
      },
      "source": [
        "🏆 **Task**\n",
        "\n",
        "Use the original data to evaluate whether maternal illness, radiation exposure (x-ray), or substance abuse have any effects might have any effects on the probability of of heaving a specific disease (Leber's hereditary optic neuropathy\", 'Cystic fibrosis', 'Diabetes', 'Leigh syndrome', 'Cancer', 'Tay-Sachs', 'Hemochromatosis', 'Mitochondrial myopathy'm \"Alzheimer's\").\n",
        "\n",
        "\n",
        "1. Frist, we have to create baseline. Calculate what the the share of maternal illness, radiation exposure (x-ray), or substance abuse is in the data in general.\n",
        "  *Hint*: Only count the \"Yes\" values\n",
        "2. Discuss whether what You calculate is a useful baseline? What data would You like to have instead. \n",
        "3. Do the distinctive illnesses have the same frequency or are there any hints of a relationship between cause and illness?"
      ]
    },
    {
      "cell_type": "code",
      "execution_count": 26,
      "metadata": {
        "colab": {
          "base_uri": "https://localhost:8080/"
        },
        "id": "l04g3rGLi2Ts",
        "outputId": "134e9f7d-4ac7-4554-dca1-496970a1ef1d"
      },
      "outputs": [
        {
          "data": {
            "text/plain": [
              "array([\"Leber's hereditary optic neuropathy\", 'Cystic fibrosis',\n",
              "       'Diabetes', 'Leigh syndrome', 'Cancer', 'Tay-Sachs',\n",
              "       'Hemochromatosis', 'Mitochondrial myopathy', nan, \"Alzheimer's\"],\n",
              "      dtype=object)"
            ]
          },
          "execution_count": 26,
          "metadata": {},
          "output_type": "execute_result"
        }
      ],
      "source": [
        "# Unique diseases\n",
        "disease_data[\"Disorder Subclass\"].unique()"
      ]
    },
    {
      "cell_type": "code",
      "execution_count": 27,
      "metadata": {
        "colab": {
          "base_uri": "https://localhost:8080/",
          "height": 459
        },
        "id": "IVjlYF3Bi2j8",
        "outputId": "0b91e25f-d71c-457d-f9cc-de8a123300b7"
      },
      "outputs": [
        {
          "data": {
            "text/html": [
              "<div>\n",
              "<style scoped>\n",
              "    .dataframe tbody tr th:only-of-type {\n",
              "        vertical-align: middle;\n",
              "    }\n",
              "\n",
              "    .dataframe tbody tr th {\n",
              "        vertical-align: top;\n",
              "    }\n",
              "\n",
              "    .dataframe thead th {\n",
              "        text-align: right;\n",
              "    }\n",
              "</style>\n",
              "<table border=\"1\" class=\"dataframe\">\n",
              "  <thead>\n",
              "    <tr style=\"text-align: right;\">\n",
              "      <th></th>\n",
              "      <th>Patient Age</th>\n",
              "      <th>Blood cell count (mcL)</th>\n",
              "      <th>Mother's age</th>\n",
              "      <th>Father's age</th>\n",
              "      <th>Test 1</th>\n",
              "      <th>Test 2</th>\n",
              "      <th>Test 3</th>\n",
              "      <th>Test 4</th>\n",
              "      <th>Test 5</th>\n",
              "      <th>No. of previous abortion</th>\n",
              "      <th>White Blood cell count (thousand per microliter)</th>\n",
              "      <th>Symptom 1</th>\n",
              "      <th>Symptom 2</th>\n",
              "      <th>Symptom 3</th>\n",
              "      <th>Symptom 4</th>\n",
              "      <th>Symptom 5</th>\n",
              "    </tr>\n",
              "    <tr>\n",
              "      <th>Disorder Subclass</th>\n",
              "      <th></th>\n",
              "      <th></th>\n",
              "      <th></th>\n",
              "      <th></th>\n",
              "      <th></th>\n",
              "      <th></th>\n",
              "      <th></th>\n",
              "      <th></th>\n",
              "      <th></th>\n",
              "      <th></th>\n",
              "      <th></th>\n",
              "      <th></th>\n",
              "      <th></th>\n",
              "      <th></th>\n",
              "      <th></th>\n",
              "      <th></th>\n",
              "    </tr>\n",
              "  </thead>\n",
              "  <tbody>\n",
              "    <tr>\n",
              "      <th>Alzheimer's</th>\n",
              "      <td>6.554054</td>\n",
              "      <td>4.899783</td>\n",
              "      <td>35.293578</td>\n",
              "      <td>43.572727</td>\n",
              "      <td>0.0</td>\n",
              "      <td>0.0</td>\n",
              "      <td>0.0</td>\n",
              "      <td>1.0</td>\n",
              "      <td>0.0</td>\n",
              "      <td>2.134752</td>\n",
              "      <td>7.476564</td>\n",
              "      <td>0.874126</td>\n",
              "      <td>0.927536</td>\n",
              "      <td>0.965278</td>\n",
              "      <td>0.992754</td>\n",
              "      <td>0.978723</td>\n",
              "    </tr>\n",
              "    <tr>\n",
              "      <th>Cancer</th>\n",
              "      <td>7.413043</td>\n",
              "      <td>4.863199</td>\n",
              "      <td>34.552632</td>\n",
              "      <td>40.971429</td>\n",
              "      <td>0.0</td>\n",
              "      <td>0.0</td>\n",
              "      <td>0.0</td>\n",
              "      <td>1.0</td>\n",
              "      <td>0.0</td>\n",
              "      <td>2.091954</td>\n",
              "      <td>7.711312</td>\n",
              "      <td>0.204301</td>\n",
              "      <td>0.091954</td>\n",
              "      <td>0.097561</td>\n",
              "      <td>0.022989</td>\n",
              "      <td>0.011494</td>\n",
              "    </tr>\n",
              "    <tr>\n",
              "      <th>Cystic fibrosis</th>\n",
              "      <td>6.950728</td>\n",
              "      <td>4.900813</td>\n",
              "      <td>34.661983</td>\n",
              "      <td>42.045259</td>\n",
              "      <td>0.0</td>\n",
              "      <td>0.0</td>\n",
              "      <td>0.0</td>\n",
              "      <td>1.0</td>\n",
              "      <td>0.0</td>\n",
              "      <td>2.012420</td>\n",
              "      <td>7.518545</td>\n",
              "      <td>0.712874</td>\n",
              "      <td>0.701726</td>\n",
              "      <td>0.722258</td>\n",
              "      <td>0.718310</td>\n",
              "      <td>0.718031</td>\n",
              "    </tr>\n",
              "    <tr>\n",
              "      <th>Diabetes</th>\n",
              "      <td>6.871749</td>\n",
              "      <td>4.894888</td>\n",
              "      <td>34.684094</td>\n",
              "      <td>42.342878</td>\n",
              "      <td>0.0</td>\n",
              "      <td>0.0</td>\n",
              "      <td>0.0</td>\n",
              "      <td>1.0</td>\n",
              "      <td>0.0</td>\n",
              "      <td>2.012041</td>\n",
              "      <td>7.472702</td>\n",
              "      <td>0.772894</td>\n",
              "      <td>0.773665</td>\n",
              "      <td>0.818945</td>\n",
              "      <td>0.797110</td>\n",
              "      <td>0.840171</td>\n",
              "    </tr>\n",
              "    <tr>\n",
              "      <th>Hemochromatosis</th>\n",
              "      <td>6.875394</td>\n",
              "      <td>4.892834</td>\n",
              "      <td>34.495486</td>\n",
              "      <td>42.081951</td>\n",
              "      <td>0.0</td>\n",
              "      <td>0.0</td>\n",
              "      <td>0.0</td>\n",
              "      <td>1.0</td>\n",
              "      <td>0.0</td>\n",
              "      <td>1.966611</td>\n",
              "      <td>7.471526</td>\n",
              "      <td>0.392456</td>\n",
              "      <td>0.299754</td>\n",
              "      <td>0.240228</td>\n",
              "      <td>0.165590</td>\n",
              "      <td>0.111848</td>\n",
              "    </tr>\n",
              "    <tr>\n",
              "      <th>Leber's hereditary optic neuropathy</th>\n",
              "      <td>6.784539</td>\n",
              "      <td>4.899169</td>\n",
              "      <td>34.978814</td>\n",
              "      <td>42.159184</td>\n",
              "      <td>0.0</td>\n",
              "      <td>0.0</td>\n",
              "      <td>0.0</td>\n",
              "      <td>1.0</td>\n",
              "      <td>0.0</td>\n",
              "      <td>1.971039</td>\n",
              "      <td>7.502759</td>\n",
              "      <td>0.857633</td>\n",
              "      <td>0.861017</td>\n",
              "      <td>0.876033</td>\n",
              "      <td>0.918782</td>\n",
              "      <td>0.940068</td>\n",
              "    </tr>\n",
              "    <tr>\n",
              "      <th>Leigh syndrome</th>\n",
              "      <td>6.936245</td>\n",
              "      <td>4.903683</td>\n",
              "      <td>34.453418</td>\n",
              "      <td>41.689446</td>\n",
              "      <td>0.0</td>\n",
              "      <td>0.0</td>\n",
              "      <td>0.0</td>\n",
              "      <td>1.0</td>\n",
              "      <td>0.0</td>\n",
              "      <td>2.011293</td>\n",
              "      <td>7.441855</td>\n",
              "      <td>0.586081</td>\n",
              "      <td>0.556128</td>\n",
              "      <td>0.541525</td>\n",
              "      <td>0.489936</td>\n",
              "      <td>0.452632</td>\n",
              "    </tr>\n",
              "    <tr>\n",
              "      <th>Mitochondrial myopathy</th>\n",
              "      <td>6.952438</td>\n",
              "      <td>4.895322</td>\n",
              "      <td>34.474026</td>\n",
              "      <td>41.887603</td>\n",
              "      <td>0.0</td>\n",
              "      <td>0.0</td>\n",
              "      <td>0.0</td>\n",
              "      <td>1.0</td>\n",
              "      <td>0.0</td>\n",
              "      <td>2.021951</td>\n",
              "      <td>7.494685</td>\n",
              "      <td>0.539490</td>\n",
              "      <td>0.472833</td>\n",
              "      <td>0.424394</td>\n",
              "      <td>0.393789</td>\n",
              "      <td>0.321241</td>\n",
              "    </tr>\n",
              "    <tr>\n",
              "      <th>Tay-Sachs</th>\n",
              "      <td>7.095345</td>\n",
              "      <td>4.900130</td>\n",
              "      <td>34.469840</td>\n",
              "      <td>42.070376</td>\n",
              "      <td>0.0</td>\n",
              "      <td>0.0</td>\n",
              "      <td>0.0</td>\n",
              "      <td>1.0</td>\n",
              "      <td>0.0</td>\n",
              "      <td>1.954758</td>\n",
              "      <td>7.490167</td>\n",
              "      <td>0.467156</td>\n",
              "      <td>0.377682</td>\n",
              "      <td>0.354465</td>\n",
              "      <td>0.274922</td>\n",
              "      <td>0.196387</td>\n",
              "    </tr>\n",
              "  </tbody>\n",
              "</table>\n",
              "</div>"
            ],
            "text/plain": [
              "                                     Patient Age  Blood cell count (mcL)  \\\n",
              "Disorder Subclass                                                          \n",
              "Alzheimer's                             6.554054                4.899783   \n",
              "Cancer                                  7.413043                4.863199   \n",
              "Cystic fibrosis                         6.950728                4.900813   \n",
              "Diabetes                                6.871749                4.894888   \n",
              "Hemochromatosis                         6.875394                4.892834   \n",
              "Leber's hereditary optic neuropathy     6.784539                4.899169   \n",
              "Leigh syndrome                          6.936245                4.903683   \n",
              "Mitochondrial myopathy                  6.952438                4.895322   \n",
              "Tay-Sachs                               7.095345                4.900130   \n",
              "\n",
              "                                     Mother's age  Father's age  Test 1  \\\n",
              "Disorder Subclass                                                         \n",
              "Alzheimer's                             35.293578     43.572727     0.0   \n",
              "Cancer                                  34.552632     40.971429     0.0   \n",
              "Cystic fibrosis                         34.661983     42.045259     0.0   \n",
              "Diabetes                                34.684094     42.342878     0.0   \n",
              "Hemochromatosis                         34.495486     42.081951     0.0   \n",
              "Leber's hereditary optic neuropathy     34.978814     42.159184     0.0   \n",
              "Leigh syndrome                          34.453418     41.689446     0.0   \n",
              "Mitochondrial myopathy                  34.474026     41.887603     0.0   \n",
              "Tay-Sachs                               34.469840     42.070376     0.0   \n",
              "\n",
              "                                     Test 2  Test 3  Test 4  Test 5  \\\n",
              "Disorder Subclass                                                     \n",
              "Alzheimer's                             0.0     0.0     1.0     0.0   \n",
              "Cancer                                  0.0     0.0     1.0     0.0   \n",
              "Cystic fibrosis                         0.0     0.0     1.0     0.0   \n",
              "Diabetes                                0.0     0.0     1.0     0.0   \n",
              "Hemochromatosis                         0.0     0.0     1.0     0.0   \n",
              "Leber's hereditary optic neuropathy     0.0     0.0     1.0     0.0   \n",
              "Leigh syndrome                          0.0     0.0     1.0     0.0   \n",
              "Mitochondrial myopathy                  0.0     0.0     1.0     0.0   \n",
              "Tay-Sachs                               0.0     0.0     1.0     0.0   \n",
              "\n",
              "                                     No. of previous abortion  \\\n",
              "Disorder Subclass                                               \n",
              "Alzheimer's                                          2.134752   \n",
              "Cancer                                               2.091954   \n",
              "Cystic fibrosis                                      2.012420   \n",
              "Diabetes                                             2.012041   \n",
              "Hemochromatosis                                      1.966611   \n",
              "Leber's hereditary optic neuropathy                  1.971039   \n",
              "Leigh syndrome                                       2.011293   \n",
              "Mitochondrial myopathy                               2.021951   \n",
              "Tay-Sachs                                            1.954758   \n",
              "\n",
              "                                     White Blood cell count (thousand per microliter)  \\\n",
              "Disorder Subclass                                                                       \n",
              "Alzheimer's                                                                  7.476564   \n",
              "Cancer                                                                       7.711312   \n",
              "Cystic fibrosis                                                              7.518545   \n",
              "Diabetes                                                                     7.472702   \n",
              "Hemochromatosis                                                              7.471526   \n",
              "Leber's hereditary optic neuropathy                                          7.502759   \n",
              "Leigh syndrome                                                               7.441855   \n",
              "Mitochondrial myopathy                                                       7.494685   \n",
              "Tay-Sachs                                                                    7.490167   \n",
              "\n",
              "                                     Symptom 1  Symptom 2  Symptom 3  \\\n",
              "Disorder Subclass                                                      \n",
              "Alzheimer's                           0.874126   0.927536   0.965278   \n",
              "Cancer                                0.204301   0.091954   0.097561   \n",
              "Cystic fibrosis                       0.712874   0.701726   0.722258   \n",
              "Diabetes                              0.772894   0.773665   0.818945   \n",
              "Hemochromatosis                       0.392456   0.299754   0.240228   \n",
              "Leber's hereditary optic neuropathy   0.857633   0.861017   0.876033   \n",
              "Leigh syndrome                        0.586081   0.556128   0.541525   \n",
              "Mitochondrial myopathy                0.539490   0.472833   0.424394   \n",
              "Tay-Sachs                             0.467156   0.377682   0.354465   \n",
              "\n",
              "                                     Symptom 4  Symptom 5  \n",
              "Disorder Subclass                                          \n",
              "Alzheimer's                           0.992754   0.978723  \n",
              "Cancer                                0.022989   0.011494  \n",
              "Cystic fibrosis                       0.718310   0.718031  \n",
              "Diabetes                              0.797110   0.840171  \n",
              "Hemochromatosis                       0.165590   0.111848  \n",
              "Leber's hereditary optic neuropathy   0.918782   0.940068  \n",
              "Leigh syndrome                        0.489936   0.452632  \n",
              "Mitochondrial myopathy                0.393789   0.321241  \n",
              "Tay-Sachs                             0.274922   0.196387  "
            ]
          },
          "execution_count": 27,
          "metadata": {},
          "output_type": "execute_result"
        }
      ],
      "source": [
        "# Overview \n",
        "disease_data.groupby('Disorder Subclass').mean()"
      ]
    },
    {
      "cell_type": "code",
      "execution_count": 28,
      "metadata": {},
      "outputs": [
        {
          "name": "stdout",
          "output_type": "stream",
          "text": [
            "H/O serious maternal illness has a base line of 0.45\n",
            "H/O radiation exposure (x-ray) has a base line of 0.23\n",
            "H/O substance abuse has a base line of 0.23\n"
          ]
        }
      ],
      "source": [
        "# We analyze each individual column of a potential influence\n",
        "for column_name in ['H/O serious maternal illness', 'H/O radiation exposure (x-ray)', 'H/O substance abuse']:\n",
        "\n",
        "  # Baseline\n",
        "  total = disease_data.shape[0]\n",
        "  \n",
        "  # Subgroup with disease\n",
        "  subgroup = disease_data[disease_data[column_name]==\"Yes\"].shape[0]\n",
        "\n",
        "  print(\"{0} has a base line of {1:.2f}\".format(column_name, subgroup / total))"
      ]
    },
    {
      "cell_type": "code",
      "execution_count": 19,
      "metadata": {
        "colab": {
          "base_uri": "https://localhost:8080/"
        },
        "id": "EtivtT7ljibd",
        "outputId": "249f35b4-6858-4e05-b006-b30b1d8c3bbf"
      },
      "outputs": [
        {
          "name": "stdout",
          "output_type": "stream",
          "text": [
            "H/O serious maternal illness has a base line of 0.45\n",
            "--- For Leber's hereditary optic neuropathy it is 0.45\n",
            "--- For Cystic fibrosis it is 0.45\n",
            "--- For Diabetes it is 0.45\n",
            "--- For Leigh syndrome it is 0.45\n",
            "--- For Cancer it is 0.44\n",
            "--- For Tay-Sachs it is 0.46\n",
            "--- For Hemochromatosis it is 0.44\n",
            "--- For Mitochondrial myopathy it is 0.45\n",
            "--- For Alzheimer's it is 0.43\n",
            " \n",
            "\n",
            "H/O radiation exposure (x-ray) has a base line of 0.23\n",
            "--- For Leber's hereditary optic neuropathy it is 0.22\n",
            "--- For Cystic fibrosis it is 0.22\n",
            "--- For Diabetes it is 0.23\n",
            "--- For Leigh syndrome it is 0.22\n",
            "--- For Cancer it is 0.27\n",
            "--- For Tay-Sachs it is 0.22\n",
            "--- For Hemochromatosis it is 0.26\n",
            "--- For Mitochondrial myopathy it is 0.23\n",
            "--- For Alzheimer's it is 0.24\n",
            " \n",
            "\n",
            "H/O substance abuse has a base line of 0.23\n",
            "--- For Leber's hereditary optic neuropathy it is 0.23\n",
            "--- For Cystic fibrosis it is 0.24\n",
            "--- For Diabetes it is 0.22\n",
            "--- For Leigh syndrome it is 0.22\n",
            "--- For Cancer it is 0.33\n",
            "--- For Tay-Sachs it is 0.23\n",
            "--- For Hemochromatosis it is 0.22\n",
            "--- For Mitochondrial myopathy it is 0.23\n",
            "--- For Alzheimer's it is 0.22\n",
            " \n",
            "\n"
          ]
        },
        {
          "name": "stderr",
          "output_type": "stream",
          "text": [
            "<ipython-input-19-6e6c6fc29b29>:16: UserWarning: Boolean Series key will be reindexed to match DataFrame index.\n",
            "  subgroup = subgroup_data[disease_data[column_name]==\"Yes\"].shape[0]\n"
          ]
        }
      ],
      "source": [
        "# We analyze each individual column of a potential influence\n",
        "for column_name in ['H/O serious maternal illness', 'H/O radiation exposure (x-ray)', 'H/O substance abuse']:\n",
        "\n",
        "  # Baseline\n",
        "  total = disease_data.shape[0]\n",
        "  \n",
        "  # Subgroup with disease\n",
        "  subgroup = disease_data[disease_data[column_name]==\"Yes\"].shape[0]\n",
        "\n",
        "  print(\"{0} has a base line of {1:.2f}\".format(column_name, subgroup / total))\n",
        "\n",
        "  for disease in disease_data[\"Disorder Subclass\"].unique():\n",
        "    subgroup_data = disease_data[disease_data[\"Disorder Subclass\"]==disease]\n",
        "\n",
        "    total = subgroup_data.shape[0]\n",
        "    subgroup = subgroup_data[disease_data[column_name]==\"Yes\"].shape[0]\n",
        "\n",
        "    if total !=0:\n",
        "      print(\"--- For {0} it is {1:.2f}\".format(disease, subgroup / total))\n",
        "\n",
        "  print(\" \\n\")\n"
      ]
    },
    {
      "cell_type": "code",
      "execution_count": 28,
      "metadata": {},
      "outputs": [
        {
          "name": "stdout",
          "output_type": "stream",
          "text": [
            "H/O serious maternal illness has a base line of 0.45\n",
            "--- For Leber's hereditary optic neuropathy it is 0.45\n",
            "--- For Cystic fibrosis it is 0.45\n",
            "--- For Diabetes it is 0.45\n",
            "--- For Leigh syndrome it is 0.45\n",
            "--- For Cancer it is 0.44\n",
            "--- For Tay-Sachs it is 0.46\n",
            "--- For Hemochromatosis it is 0.44\n",
            "--- For Mitochondrial myopathy it is 0.45\n",
            "--- For Alzheimer's it is 0.43\n",
            " \n",
            "\n",
            "H/O radiation exposure (x-ray) has a base line of 0.23\n",
            "--- For Leber's hereditary optic neuropathy it is 0.22\n",
            "--- For Cystic fibrosis it is 0.22\n",
            "--- For Diabetes it is 0.23\n",
            "--- For Leigh syndrome it is 0.22\n",
            "--- For Cancer it is 0.27\n",
            "--- For Tay-Sachs it is 0.22\n",
            "--- For Hemochromatosis it is 0.26\n",
            "--- For Mitochondrial myopathy it is 0.23\n",
            "--- For Alzheimer's it is 0.24\n",
            " \n",
            "\n",
            "H/O substance abuse has a base line of 0.23\n",
            "--- For Leber's hereditary optic neuropathy it is 0.23\n",
            "--- For Cystic fibrosis it is 0.24\n",
            "--- For Diabetes it is 0.22\n",
            "--- For Leigh syndrome it is 0.22\n",
            "--- For Cancer it is 0.33\n",
            "--- For Tay-Sachs it is 0.23\n",
            "--- For Hemochromatosis it is 0.22\n",
            "--- For Mitochondrial myopathy it is 0.23\n",
            "--- For Alzheimer's it is 0.22\n",
            " \n",
            "\n"
          ]
        },
        {
          "name": "stderr",
          "output_type": "stream",
          "text": [
            "<ipython-input-28-bc8c5c0f5ae4>:20: UserWarning: Boolean Series key will be reindexed to match DataFrame index.\n",
            "  subgroup = subgroup_data[disease_data[column_name]==\"Yes\"].shape[0]\n"
          ]
        }
      ],
      "source": [
        "factor = []\n",
        "illness = []\n",
        "frequency = []\n",
        "\n",
        "# We analyze each individual column of a potential influence\n",
        "for column_name in ['H/O serious maternal illness', 'H/O radiation exposure (x-ray)', 'H/O substance abuse']:\n",
        "\n",
        "  # Baseline\n",
        "  total = disease_data.shape[0]\n",
        "  \n",
        "  # Subgroup with disease\n",
        "  subgroup = disease_data[disease_data[column_name]==\"Yes\"].shape[0]\n",
        "\n",
        "  print(\"{0} has a base line of {1:.2f}\".format(column_name, subgroup / total))\n",
        "\n",
        "  for disease in disease_data[\"Disorder Subclass\"].unique():\n",
        "    subgroup_data = disease_data[disease_data[\"Disorder Subclass\"]==disease]\n",
        "\n",
        "    total = subgroup_data.shape[0]\n",
        "    subgroup = subgroup_data[disease_data[column_name]==\"Yes\"].shape[0]\n",
        "\n",
        "    if total !=0:\n",
        "      print(\"--- For {0} it is {1:.2f}\".format(disease, subgroup / total))\n",
        "      factor.append(column_name)\n",
        "      illness.append(disease)\n",
        "      frequency.append(subgroup / total)\n",
        "\n",
        "  print(\" \\n\")\n"
      ]
    },
    {
      "cell_type": "code",
      "execution_count": 29,
      "metadata": {},
      "outputs": [
        {
          "data": {
            "text/html": [
              "<div>\n",
              "<style scoped>\n",
              "    .dataframe tbody tr th:only-of-type {\n",
              "        vertical-align: middle;\n",
              "    }\n",
              "\n",
              "    .dataframe tbody tr th {\n",
              "        vertical-align: top;\n",
              "    }\n",
              "\n",
              "    .dataframe thead th {\n",
              "        text-align: right;\n",
              "    }\n",
              "</style>\n",
              "<table border=\"1\" class=\"dataframe\">\n",
              "  <thead>\n",
              "    <tr style=\"text-align: right;\">\n",
              "      <th></th>\n",
              "      <th>Factor</th>\n",
              "      <th>Disease</th>\n",
              "      <th>Frequency</th>\n",
              "    </tr>\n",
              "  </thead>\n",
              "  <tbody>\n",
              "    <tr>\n",
              "      <th>0</th>\n",
              "      <td>H/O serious maternal illness</td>\n",
              "      <td>Leber's hereditary optic neuropathy</td>\n",
              "      <td>0.449074</td>\n",
              "    </tr>\n",
              "    <tr>\n",
              "      <th>1</th>\n",
              "      <td>H/O serious maternal illness</td>\n",
              "      <td>Cystic fibrosis</td>\n",
              "      <td>0.454466</td>\n",
              "    </tr>\n",
              "    <tr>\n",
              "      <th>2</th>\n",
              "      <td>H/O serious maternal illness</td>\n",
              "      <td>Diabetes</td>\n",
              "      <td>0.452394</td>\n",
              "    </tr>\n",
              "    <tr>\n",
              "      <th>3</th>\n",
              "      <td>H/O serious maternal illness</td>\n",
              "      <td>Leigh syndrome</td>\n",
              "      <td>0.454651</td>\n",
              "    </tr>\n",
              "    <tr>\n",
              "      <th>4</th>\n",
              "      <td>H/O serious maternal illness</td>\n",
              "      <td>Cancer</td>\n",
              "      <td>0.443299</td>\n",
              "    </tr>\n",
              "    <tr>\n",
              "      <th>5</th>\n",
              "      <td>H/O serious maternal illness</td>\n",
              "      <td>Tay-Sachs</td>\n",
              "      <td>0.455348</td>\n",
              "    </tr>\n",
              "    <tr>\n",
              "      <th>6</th>\n",
              "      <td>H/O serious maternal illness</td>\n",
              "      <td>Hemochromatosis</td>\n",
              "      <td>0.436900</td>\n",
              "    </tr>\n",
              "    <tr>\n",
              "      <th>7</th>\n",
              "      <td>H/O serious maternal illness</td>\n",
              "      <td>Mitochondrial myopathy</td>\n",
              "      <td>0.448808</td>\n",
              "    </tr>\n",
              "    <tr>\n",
              "      <th>8</th>\n",
              "      <td>H/O serious maternal illness</td>\n",
              "      <td>Alzheimer's</td>\n",
              "      <td>0.427632</td>\n",
              "    </tr>\n",
              "    <tr>\n",
              "      <th>9</th>\n",
              "      <td>H/O radiation exposure (x-ray)</td>\n",
              "      <td>Leber's hereditary optic neuropathy</td>\n",
              "      <td>0.222222</td>\n",
              "    </tr>\n",
              "    <tr>\n",
              "      <th>10</th>\n",
              "      <td>H/O radiation exposure (x-ray)</td>\n",
              "      <td>Cystic fibrosis</td>\n",
              "      <td>0.216647</td>\n",
              "    </tr>\n",
              "    <tr>\n",
              "      <th>11</th>\n",
              "      <td>H/O radiation exposure (x-ray)</td>\n",
              "      <td>Diabetes</td>\n",
              "      <td>0.228949</td>\n",
              "    </tr>\n",
              "    <tr>\n",
              "      <th>12</th>\n",
              "      <td>H/O radiation exposure (x-ray)</td>\n",
              "      <td>Leigh syndrome</td>\n",
              "      <td>0.222481</td>\n",
              "    </tr>\n",
              "    <tr>\n",
              "      <th>13</th>\n",
              "      <td>H/O radiation exposure (x-ray)</td>\n",
              "      <td>Cancer</td>\n",
              "      <td>0.268041</td>\n",
              "    </tr>\n",
              "    <tr>\n",
              "      <th>14</th>\n",
              "      <td>H/O radiation exposure (x-ray)</td>\n",
              "      <td>Tay-Sachs</td>\n",
              "      <td>0.224144</td>\n",
              "    </tr>\n",
              "    <tr>\n",
              "      <th>15</th>\n",
              "      <td>H/O radiation exposure (x-ray)</td>\n",
              "      <td>Hemochromatosis</td>\n",
              "      <td>0.255351</td>\n",
              "    </tr>\n",
              "    <tr>\n",
              "      <th>16</th>\n",
              "      <td>H/O radiation exposure (x-ray)</td>\n",
              "      <td>Mitochondrial myopathy</td>\n",
              "      <td>0.231101</td>\n",
              "    </tr>\n",
              "    <tr>\n",
              "      <th>17</th>\n",
              "      <td>H/O radiation exposure (x-ray)</td>\n",
              "      <td>Alzheimer's</td>\n",
              "      <td>0.236842</td>\n",
              "    </tr>\n",
              "    <tr>\n",
              "      <th>18</th>\n",
              "      <td>H/O substance abuse</td>\n",
              "      <td>Leber's hereditary optic neuropathy</td>\n",
              "      <td>0.228395</td>\n",
              "    </tr>\n",
              "    <tr>\n",
              "      <th>19</th>\n",
              "      <td>H/O substance abuse</td>\n",
              "      <td>Cystic fibrosis</td>\n",
              "      <td>0.236369</td>\n",
              "    </tr>\n",
              "    <tr>\n",
              "      <th>20</th>\n",
              "      <td>H/O substance abuse</td>\n",
              "      <td>Diabetes</td>\n",
              "      <td>0.222345</td>\n",
              "    </tr>\n",
              "    <tr>\n",
              "      <th>21</th>\n",
              "      <td>H/O substance abuse</td>\n",
              "      <td>Leigh syndrome</td>\n",
              "      <td>0.224031</td>\n",
              "    </tr>\n",
              "    <tr>\n",
              "      <th>22</th>\n",
              "      <td>H/O substance abuse</td>\n",
              "      <td>Cancer</td>\n",
              "      <td>0.329897</td>\n",
              "    </tr>\n",
              "    <tr>\n",
              "      <th>23</th>\n",
              "      <td>H/O substance abuse</td>\n",
              "      <td>Tay-Sachs</td>\n",
              "      <td>0.226968</td>\n",
              "    </tr>\n",
              "    <tr>\n",
              "      <th>24</th>\n",
              "      <td>H/O substance abuse</td>\n",
              "      <td>Hemochromatosis</td>\n",
              "      <td>0.215498</td>\n",
              "    </tr>\n",
              "    <tr>\n",
              "      <th>25</th>\n",
              "      <td>H/O substance abuse</td>\n",
              "      <td>Mitochondrial myopathy</td>\n",
              "      <td>0.227015</td>\n",
              "    </tr>\n",
              "    <tr>\n",
              "      <th>26</th>\n",
              "      <td>H/O substance abuse</td>\n",
              "      <td>Alzheimer's</td>\n",
              "      <td>0.217105</td>\n",
              "    </tr>\n",
              "  </tbody>\n",
              "</table>\n",
              "</div>"
            ],
            "text/plain": [
              "                            Factor                              Disease  \\\n",
              "0     H/O serious maternal illness  Leber's hereditary optic neuropathy   \n",
              "1     H/O serious maternal illness                      Cystic fibrosis   \n",
              "2     H/O serious maternal illness                             Diabetes   \n",
              "3     H/O serious maternal illness                       Leigh syndrome   \n",
              "4     H/O serious maternal illness                               Cancer   \n",
              "5     H/O serious maternal illness                            Tay-Sachs   \n",
              "6     H/O serious maternal illness                      Hemochromatosis   \n",
              "7     H/O serious maternal illness               Mitochondrial myopathy   \n",
              "8     H/O serious maternal illness                          Alzheimer's   \n",
              "9   H/O radiation exposure (x-ray)  Leber's hereditary optic neuropathy   \n",
              "10  H/O radiation exposure (x-ray)                      Cystic fibrosis   \n",
              "11  H/O radiation exposure (x-ray)                             Diabetes   \n",
              "12  H/O radiation exposure (x-ray)                       Leigh syndrome   \n",
              "13  H/O radiation exposure (x-ray)                               Cancer   \n",
              "14  H/O radiation exposure (x-ray)                            Tay-Sachs   \n",
              "15  H/O radiation exposure (x-ray)                      Hemochromatosis   \n",
              "16  H/O radiation exposure (x-ray)               Mitochondrial myopathy   \n",
              "17  H/O radiation exposure (x-ray)                          Alzheimer's   \n",
              "18             H/O substance abuse  Leber's hereditary optic neuropathy   \n",
              "19             H/O substance abuse                      Cystic fibrosis   \n",
              "20             H/O substance abuse                             Diabetes   \n",
              "21             H/O substance abuse                       Leigh syndrome   \n",
              "22             H/O substance abuse                               Cancer   \n",
              "23             H/O substance abuse                            Tay-Sachs   \n",
              "24             H/O substance abuse                      Hemochromatosis   \n",
              "25             H/O substance abuse               Mitochondrial myopathy   \n",
              "26             H/O substance abuse                          Alzheimer's   \n",
              "\n",
              "    Frequency  \n",
              "0    0.449074  \n",
              "1    0.454466  \n",
              "2    0.452394  \n",
              "3    0.454651  \n",
              "4    0.443299  \n",
              "5    0.455348  \n",
              "6    0.436900  \n",
              "7    0.448808  \n",
              "8    0.427632  \n",
              "9    0.222222  \n",
              "10   0.216647  \n",
              "11   0.228949  \n",
              "12   0.222481  \n",
              "13   0.268041  \n",
              "14   0.224144  \n",
              "15   0.255351  \n",
              "16   0.231101  \n",
              "17   0.236842  \n",
              "18   0.228395  \n",
              "19   0.236369  \n",
              "20   0.222345  \n",
              "21   0.224031  \n",
              "22   0.329897  \n",
              "23   0.226968  \n",
              "24   0.215498  \n",
              "25   0.227015  \n",
              "26   0.217105  "
            ]
          },
          "execution_count": 29,
          "metadata": {},
          "output_type": "execute_result"
        }
      ],
      "source": [
        "# This is advanced stuff\n",
        "df = pd.DataFrame(list(zip(factor, illness, frequency)),\n",
        "               columns =['Factor', 'Disease', 'Frequency'])\n",
        "df"
      ]
    },
    {
      "cell_type": "code",
      "execution_count": 36,
      "metadata": {},
      "outputs": [
        {
          "data": {
            "text/plain": [
              "<AxesSubplot:xlabel='Frequency', ylabel='Disease'>"
            ]
          },
          "execution_count": 36,
          "metadata": {},
          "output_type": "execute_result"
        },
        {
          "data": {
            "image/png": "[encoded data removed]",
            "text/plain": [
              "<Figure size 432x288 with 1 Axes>"
            ]
          },
          "metadata": {
            "needs_background": "light"
          },
          "output_type": "display_data"
        }
      ],
      "source": [
        "# We will work on plotting in the next lecture\n",
        "# # !pip install seaborn\n",
        "import seaborn as sns\n",
        "\n",
        "df_plot = df[df[\"Factor\"]==\"H/O substance abuse\"]\n",
        "sns.barplot(data=df_plot, x=\"Frequency\", y=\"Disease\", orient='h')"
      ]
    },
    {
      "cell_type": "code",
      "execution_count": 37,
      "metadata": {},
      "outputs": [
        {
          "data": {
            "text/plain": [
              "<AxesSubplot:xlabel='Frequency', ylabel='Disease'>"
            ]
          },
          "execution_count": 37,
          "metadata": {},
          "output_type": "execute_result"
        },
        {
          "data": {
            "image/png": "[encoded data removed]",
            "text/plain": [
              "<Figure size 432x288 with 1 Axes>"
            ]
          },
          "metadata": {
            "needs_background": "light"
          },
          "output_type": "display_data"
        }
      ],
      "source": [
        "df_plot = df[df[\"Factor\"]==\"H/O radiation exposure (x-ray)\"]\n",
        "sns.barplot(data=df_plot, x=\"Frequency\", y=\"Disease\", orient='h')"
      ]
    },
    {
      "cell_type": "code",
      "execution_count": 38,
      "metadata": {},
      "outputs": [
        {
          "data": {
            "text/plain": [
              "<AxesSubplot:xlabel='Frequency', ylabel='Disease'>"
            ]
          },
          "execution_count": 38,
          "metadata": {},
          "output_type": "execute_result"
        },
        {
          "data": {
            "image/png": "[encoded data removed]",
            "text/plain": [
              "<Figure size 432x288 with 1 Axes>"
            ]
          },
          "metadata": {
            "needs_background": "light"
          },
          "output_type": "display_data"
        }
      ],
      "source": [
        "df_plot = df[df[\"Factor\"]==\"H/O serious maternal illness\"]\n",
        "sns.barplot(data=df_plot, x=\"Frequency\", y=\"Disease\", orient='h')"
      ]
    },
    {
      "cell_type": "code",
      "execution_count": 29,
      "metadata": {
        "id": "IpGAbz2iwZux"
      },
      "outputs": [],
      "source": [
        "# It is not a good baseline, as the sample suffers an selection bias, i.e., it only holds data of sick patients and not the general population"
      ]
    },
    {
      "cell_type": "markdown",
      "metadata": {
        "id": "0vxG1eKLtCWm"
      },
      "source": [
        "# 🏁 Recap\n",
        "\n",
        "- If you have finished the tasks and have no questions, place the green card on top.\n",
        "- If you have finished the tasks but would like to discuss the solutions together again, place the yellow card on top.\n",
        "\n",
        "![](https://www.lokalinfo.ch/fileadmin/news_import/image003_03.jpg)"
      ]
    }
  ],
  "metadata": {
    "colab": {
      "collapsed_sections": [],
      "provenance": []
    },
    "kernelspec": {
      "display_name": "Python 3.8.8 ('base')",
      "language": "python",
      "name": "python3"
    },
    "language_info": {
      "codemirror_mode": {
        "name": "ipython",
        "version": 3
      },
      "file_extension": ".py",
      "mimetype": "text/x-python",
      "name": "python",
      "nbconvert_exporter": "python",
      "pygments_lexer": "ipython3",
      "version": "3.8.8"
    },
    "vscode": {
      "interpreter": {
        "hash": "91b5df634ae01e052c095f84ce6ac57f1bf815a7c386b368c11e7051e1049005"
      }
    }
  },
  "nbformat": 4,
  "nbformat_minor": 0
}

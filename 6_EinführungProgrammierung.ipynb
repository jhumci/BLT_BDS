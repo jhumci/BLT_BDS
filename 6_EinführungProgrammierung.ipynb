{
  "cells": [
    {
      "cell_type": "markdown",
      "metadata": {
        "id": "COc7_d87blhi"
      },
      "source": [
        "<table style=\"width: 100%\">\n",
        "    <tr style=\"background: #ffffff\">\n",
        "        <td style=\"padding-top:25px;width: 180px\"><img src=\"https://mci.edu/templates/mci/images/logo.svg\" alt=\"Logo\"></td>\n",
        "        <td style=\"width: 100%\">\n",
        "            <div style=\"text-align:right; width: 100%; text-align:right\"><font style=\"font-size:38px\"><b>Grundlagen Programmierung</b></font></div>\n",
        "            <div style=\"padding-top:0px; width: 100%; text-align:right\"><font size=\"4\"></font></div>\n",
        "        </td>\n",
        "    </tr>\n",
        "</table>\n",
        "\n",
        "---\n",
        "\n",
        "# 1.2.6 Algorithms for Bio Informatics\n",
        "\n",
        "As You are now familiar with the basic concepts of programming, we can apply them the to field of bio informatics. One of the primary fields of bio informatics is sequence analysis. According to Wikipedia, \"[...] sequence analysis is the process of subjecting a DNA, RNA or peptide sequence to any of a wide range of analytical methods to understand its features, function, structure, or evolution.\"\n",
        "\n",
        "Sequencing is all about determining the nucleic acid sequence. It helps to find out the order of the four bases: adenine (A), guanine (G), cytosine (C) and thymine (T), in a strand of DNA.\n",
        "\n",
        "Sequencing is done with the help of sequence machines. Once sequenced, the data is then available for further processing. A textual example of a DNA sequence looks like below. We could represent this a list of single letter strings or string of many letters:\n",
        "\n",
        "```\n",
        "CGTAACAAGGTTTCCGTAGGTGAACCTGCGGAAGGATCATTGATGAGACCGTGGAATAAACGATCGAGTG\n",
        "AATCCGGAGGACCGGTGTACTCAGCTCACCGGGGGCATTGCTCCCGTGGTGACCCTGATTTGTTGTTGGG\n",
        "CCGCCTCGGGAGCGTCCATGGCGGGTTTGAACCTCTAGCCCGGCGCAGTTTGGGCGCCAAGCCATATGAA\n",
        "AGCATCACCGGCGAATGGCATTGTCTTCCCCAAAACCCGGAGCGGCGGCGTGCTGTCGCGTGCCCAATGA\n",
        "```\n",
        "\n",
        "Examples are:\n",
        "- DNA sequencing for determining the order of nucleotide in a DNA.\n",
        "- RNA sequencing to find the quantity of RNA in a biological sample.\n",
        "- Protein sequencing to determine the amino acid sequence of all or part of a protein or peptide.\n"
      ]
    },
    {
      "cell_type": "markdown",
      "metadata": {
        "id": "1HL66deAvttb"
      },
      "source": [
        "## 1.2.6.1 Simple Algorithms for Bio Informatics"
      ]
    },
    {
      "cell_type": "markdown",
      "metadata": {
        "id": "1rQTLT33c3yo"
      },
      "source": [
        "### Counting bases\n",
        "\n",
        "We can store a DNA-sequence of arbitrary length in a string\n",
        "```\n",
        "sequence = \"ATCGATCGATCGAAAATCAATCGTCGG\"\n",
        "```\n",
        "\n",
        "First, we want to count frequency the occurrences of each base in the sequence. We could use this as a kind of fingerprint for a given gene.\n",
        "\n",
        "Note that we can loop through a string like we did with lists:\n",
        "\n",
        "```\n",
        "for base in sequence:\n",
        "  <...>\n",
        "```\n",
        "\n",
        "✍️  **Task**\n",
        "\n",
        "Write a function that takes the name of the base and a DNA-sequence as an argument and returns the frequency of the base. Apply the function for the four sequences in a loop and store the results in the same dictionary like this:\n",
        "\n",
        "`{'A': 9, 'C': 6, 'G': 6, 'T': 6}`"
      ]
    },
    {
      "cell_type": "code",
      "execution_count": 43,
      "metadata": {
        "id": "WzU7aerxzPQt"
      },
      "outputs": [],
      "source": [
        "sequence = \"ATCGATCGATCGAAAATCAATCGTCGG\"\n",
        "nucleotide = \"A\""
      ]
    },
    {
      "cell_type": "code",
      "execution_count": null,
      "metadata": {},
      "outputs": [],
      "source": []
    },
    {
      "cell_type": "code",
      "execution_count": 44,
      "metadata": {
        "colab": {
          "base_uri": "https://localhost:8080/"
        },
        "id": "oh_mc-bIbkwd",
        "outputId": "6048cf0c-d1a9-47e3-d345-ef42ff620519"
      },
      "outputs": [
        {
          "name": "stdout",
          "output_type": "stream",
          "text": [
            "9\n"
          ]
        }
      ],
      "source": [
        "#@title ❓ Click `Show code` in the code cell to show the solution. { display-mode: \"form\" }\n",
        "\n",
        "def count_nucleotide(sequence, nucleotide):\n",
        "  \"\"\"Returns the counts of nucleotide\"\"\" \n",
        "  \n",
        "  # we set a counter to count how often we finde the nucleotide in the sequence\n",
        "  counter = 0\n",
        "\n",
        "  # We go through all letters (base) in the string (sequence)\n",
        "  for base in sequence:\n",
        "\n",
        "    # Any time the current base is identical to the nucleotide, we are looking for \n",
        "    if base == nucleotide:\n",
        "        # we increase the counter\n",
        "        counter = counter + 1\n",
        "\n",
        "  # After finishing the loop through all letters, we return the counter value\n",
        "  return counter\n",
        "\n",
        "print(count_nucleotide(sequence,\"A\"))"
      ]
    },
    {
      "cell_type": "code",
      "execution_count": 45,
      "metadata": {
        "colab": {
          "base_uri": "https://localhost:8080/"
        },
        "id": "7xDS8IeQd0Gj",
        "outputId": "b20a6319-2f9a-461a-dd14-6f40e3ad32e9"
      },
      "outputs": [
        {
          "name": "stdout",
          "output_type": "stream",
          "text": [
            "{'A': 9, 'C': 6, 'G': 6, 'T': 6}\n"
          ]
        }
      ],
      "source": [
        "#@title ❓ Click `Show code` in the code cell to show the solution. { display-mode: \"form\" }\n",
        "# we define an empty dictionary for the results\n",
        "counter_dictionary = {}\n",
        "\n",
        "# we loop through a list of all nucleotides, we want to count\n",
        "for nucleotide in [\"A\",\"C\",\"G\",\"T\"]:\n",
        "\n",
        "  # for each nucleotide, we call the function and store the number we found. The sequence stays the same, but the nucleotide stays the same\n",
        "  number_we_found= count_nucleotide(sequence, nucleotide)\n",
        "\n",
        "  # Instead of just printing, we can also store the results in a dictionary\n",
        "  counter_dictionary[nucleotide]  = number_we_found\n",
        "print(counter_dictionary)"
      ]
    },
    {
      "cell_type": "markdown",
      "metadata": {
        "id": "PlHjSVEJegOu"
      },
      "source": [
        "### Creating the reverse complement\n",
        "\n",
        "Normally, DNA occurs as a double strand where each A is paired with a T and vice versa, and each C is paired with a G and vice versa. The reverse complement of a DNA sequence is formed by reversing the letters, interchanging A and T and interchanging C and G. Thus the reverse complement of ACCTGAG is CTCAGGT.\n",
        "\n",
        "![](https://encrypted-tbn0.gstatic.com/images?q=tbn:ANd9GcRM5Apvx1wJtjq8OuyVysc8fr3HKSyRKUxEpRpyH1WGvHoR10fo4TWlnQmrpFL6AMlsA9Y&usqp=CAU)\n",
        "\n",
        "✍️ **Task**\n",
        "\n",
        "Write two functions: one that returns the complement of a DNA-Sequence and a second one to reverse a string.\n",
        "\n",
        "*Hint*: You can start with an empty list for the complement and append the respective complementary letter for each position in the original sequence.\n",
        " You can use `<string>[::-1]` to read a string or list backwards."
      ]
    },
    {
      "cell_type": "code",
      "execution_count": null,
      "metadata": {},
      "outputs": [],
      "source": []
    },
    {
      "cell_type": "code",
      "execution_count": 46,
      "metadata": {
        "id": "4lNB1F2aeZok"
      },
      "outputs": [],
      "source": [
        "#@title ❓ Click `Show code` in the code cell to show the solution. { display-mode: \"form\" }\n",
        "\n",
        "# Complement\n",
        "\n",
        "def complement_dna(sequence):\n",
        "  \"\"\"Returns a string with the reverse complement of a DNA-Sequence\"\"\" \n",
        "\n",
        "  # we create a new list to store the complement\n",
        "  complement = []\n",
        "\n",
        "  # we loop through each letter in the string to find the translation\n",
        "  for base in sequence:\n",
        "    # for each letter, if we find it, we add the complementary letter to the list of the complement\n",
        "    if base == \"A\":\n",
        "      complement.append(\"T\")\n",
        "    elif base == \"T\":\n",
        "      complement.append(\"A\")\n",
        "    elif base == \"C\":\n",
        "      complement.append(\"G\")\n",
        "    else:\n",
        "      complement.append(\"C\")\n",
        "  \n",
        "  # after going through the whole string, we can return the list \n",
        "  # return complement\n",
        "  # if we wann to return a string instead of a list of strings, we can use the join function.\n",
        "  return \"\".join(complement)"
      ]
    },
    {
      "cell_type": "code",
      "execution_count": 47,
      "metadata": {
        "colab": {
          "base_uri": "https://localhost:8080/"
        },
        "id": "UapxKAhbfxqG",
        "outputId": "3e272bd5-c6c8-48be-a381-c611f8b80fa0"
      },
      "outputs": [
        {
          "name": "stdout",
          "output_type": "stream",
          "text": [
            "ATCGATCGATCGAAAATCAATCGTCGG\n",
            "TAGCTAGCTAGCTTTTAGTTAGCAGCC\n"
          ]
        }
      ],
      "source": [
        "#@title ❓ Click `Show code` in the code cell to show the solution. { display-mode: \"form\" }\n",
        "sequence = \"ATCGATCGATCGAAAATCAATCGTCGG\"\n",
        "print(sequence)\n",
        "print(complement_dna(sequence))\n",
        "complement_sequence = complement_dna(sequence)"
      ]
    },
    {
      "cell_type": "code",
      "execution_count": 48,
      "metadata": {},
      "outputs": [
        {
          "name": "stdout",
          "output_type": "stream",
          "text": [
            "CCGACGATTGATTTTCGATCGATCGAT\n"
          ]
        }
      ],
      "source": [
        "#@title ❓ Click `Show code` in the code cell to show the solution. { display-mode: \"form\" }\n",
        "# We can reverse strings as we reverse lists\n",
        "reverse_complement_sequence = complement_sequence[::-1]\n",
        "print(reverse_complement_sequence)"
      ]
    },
    {
      "cell_type": "markdown",
      "metadata": {
        "id": "qbDGHi3Kf_4W"
      },
      "source": [
        "### Sequence Matching\n",
        "\n",
        "An important task in sequence analysis is finding a pattern (i.e., a short) sequence in a longer strand of DNA or RNA. This pattern could indicate a start or stopp codon or an specific amino acid. \n",
        "\n",
        "🏆 **Task**\n",
        "\n",
        "Write a function, that finds the occurrences of a short sequence in a longer sequence and returns a list of positions, where it has been found.\n",
        "\n",
        "```\n",
        "long_sequence = \"TAGCTAGCTAGCTTTTAGTTAGCAGCC\"\n",
        "short_sequence = \"TAG\"\n",
        "```"
      ]
    },
    {
      "cell_type": "code",
      "execution_count": null,
      "metadata": {},
      "outputs": [],
      "source": []
    },
    {
      "cell_type": "code",
      "execution_count": 49,
      "metadata": {
        "id": "oookhy8yfysl"
      },
      "outputs": [],
      "source": [
        "#@title ❓ Click `Show code` in the code cell to show the solution. { display-mode: \"form\" }\n",
        "\n",
        "# Find a sequence in a sequence and print it\n",
        "\n",
        "def find_sequence(long_sequence,short_sequence):\n",
        "\n",
        "  # create an empty list to store the results\n",
        "  matches = []\n",
        "\n",
        "  # go through the list\n",
        "  # however, we cannot user for letter in long_sequence, as we do not want to address each letter individually\n",
        "  # instead, we use an index position i\n",
        "  # the index does not run until the end of the long sequence, but must start before\n",
        "  for i in range(0, len(long_sequence)-len(short_sequence)+1):\n",
        "\n",
        "    # we add a variable to note, when we find the short sequence\n",
        "    found = False\n",
        "\n",
        "    #print(long_sequence[i:(i+len(short_sequence))])\n",
        "    \n",
        "    # we compare the short sequence with the the letters of the long sequence, that follow the current index\n",
        "    if long_sequence[i:(i+len(short_sequence))] == short_sequence:\n",
        "      #print(long_sequence[i:(i+len(short_sequence))])\n",
        "\n",
        "      # if, we find it, we store the index position, where the match starts\n",
        "      found = i\n",
        "      # and add it to the list with our results\n",
        "      matches.append(found)\n",
        "      #print(\"Found at position {}!\".format(i))\n",
        "  return matches"
      ]
    },
    {
      "cell_type": "code",
      "execution_count": 50,
      "metadata": {
        "colab": {
          "base_uri": "https://localhost:8080/"
        },
        "id": "hL66tDFPgFp4",
        "outputId": "cbc564f3-ff73-4bbe-8338-3fba93f22aa6"
      },
      "outputs": [
        {
          "name": "stdout",
          "output_type": "stream",
          "text": [
            "[3, 7, 11, 18, 22]\n"
          ]
        }
      ],
      "source": [
        "#@title ❓ Click `Show code` in the code cell to show the solution. { display-mode: \"form\" }\n",
        "\n",
        "long_sequence = \"CTTTAGCTAGCTAGCTTTTAGTTAGCAGCC\"\n",
        "short_sequence = \"TAG\"\n",
        "result  = find_sequence(long_sequence,short_sequence)\n",
        "print(result)"
      ]
    },
    {
      "cell_type": "markdown",
      "metadata": {},
      "source": [
        "### Biopython\n",
        "\n",
        "One of the nice things about Python is that there are plenty of libraries, where others already did write common functions for us. One example is [biopython](https://biopython.org/wiki/Seq) for working with sequencing data.\n",
        "\n"
      ]
    },
    {
      "cell_type": "code",
      "execution_count": 51,
      "metadata": {},
      "outputs": [
        {
          "name": "stdout",
          "output_type": "stream",
          "text": [
            "Requirement already satisfied: biopython in c:\\users\\jlhuber\\anaconda3\\lib\\site-packages (1.81)\n",
            "Requirement already satisfied: numpy in c:\\users\\jlhuber\\anaconda3\\lib\\site-packages (from biopython) (1.22.4)\n"
          ]
        },
        {
          "data": {
            "text/plain": [
              "Seq('ATCGATCGATCGAAAATCAATCGTCGG')"
            ]
          },
          "execution_count": 51,
          "metadata": {},
          "output_type": "execute_result"
        }
      ],
      "source": [
        "# Installing the library\n",
        "!pip install biopython\n",
        "\n",
        "# Loading the datatype for sequences\n",
        "from Bio.Seq import Seq\n",
        "\n",
        "# Defining a new sequence based on a string\n",
        "my_seq = Seq(\"ATCGATCGATCGAAAATCAATCGTCGG\")\n",
        "my_seq"
      ]
    },
    {
      "cell_type": "markdown",
      "metadata": {},
      "source": [
        "Now, the library offers many function and You can even check the [original code](https://github.com/biopython/biopython/blob/master/Bio/Seq.py) the creators wrote. A large part of practical programming will be finding the right libraries and understanding how to apply them. For instance, there is a `reverse_complement()` function in biopython."
      ]
    },
    {
      "cell_type": "code",
      "execution_count": 52,
      "metadata": {},
      "outputs": [
        {
          "data": {
            "text/plain": [
              "Seq('CCGACGATTGATTTTCGATCGATCGAT')"
            ]
          },
          "execution_count": 52,
          "metadata": {},
          "output_type": "execute_result"
        }
      ],
      "source": [
        "my_seq.reverse_complement()"
      ]
    },
    {
      "cell_type": "markdown",
      "metadata": {
        "id": "fUU-thW5wbp_"
      },
      "source": [
        "### 🏁 Recap\n",
        "\n",
        "- If you have finished the tasks and have no questions, place the green card on top.\n",
        "- If you have finished the tasks but would like to discuss the solutions together again, place the yellow card on top.\n",
        "\n",
        "![](https://www.lokalinfo.ch/fileadmin/news_import/image003_03.jpg)"
      ]
    },
    {
      "cell_type": "markdown",
      "metadata": {
        "id": "cj7g9TzDi39M"
      },
      "source": [
        "### Finding the right Starting Positions\n",
        "\n",
        "\n",
        "Consider that the occurrence of a sequence of three nucleotides does not always translate in the same result but depends on it's position in the DNA-Sequence (reading frame). For instance, the following sequences are only shifted by one position, but translate to very different amino acids.\n",
        "\n",
        "\n",
        "- ```\"TTGCAA\"```\n",
        "- ```\"TGCAAT\"```\n",
        "\n",
        "\n",
        "✍️ **Task**\n",
        "\n",
        "Take a look in the [Standard DNA codon table](https://en.wikipedia.org/wiki/DNA_and_RNA_codon_tables)\n",
        "and see what the following sequences translate to:\n",
        "- ```\"TTGCAA\"```\n",
        "- ```\"TGCAAT\"```"
      ]
    },
    {
      "cell_type": "markdown",
      "metadata": {},
      "source": [
        "✍️ **Task**\n",
        "\n",
        "Use the RNA-codon table in the following cell to write a function that translates a RNA-Sequence into an amino acid sequence in form of a string. Store the results into a list, that has a new entry after any stop codon. The ```codon_table``` and the RNA-Sequence should be passed to the function as an argument."
      ]
    },
    {
      "cell_type": "code",
      "execution_count": 53,
      "metadata": {
        "id": "CJNWVp9WniDr"
      },
      "outputs": [],
      "source": [
        "sequence = \"GAAGGGCGGCGAUGAUGUGAAGAUUAACAACAAUAA\"\n",
        "\n",
        "codon_table = {\n",
        "\"UUU\" : \"F\",\n",
        "\"CUU\" : \"L\",\n",
        "\"AUU\" : \"I\",\n",
        "\"GUU\" : \"V\",\n",
        "\"UUC\" : \"F\",\n",
        "\"CUC\" : \"L\",\n",
        "\"AUC\" : \"I\",\n",
        "\"GUC\" : \"V\",\n",
        "\"UUA\" : \"L\",\n",
        "\"CUA\" : \"L\",\n",
        "\"AUA\" : \"I\",     \n",
        "\"GUA\" : \"V\",\n",
        "\"UUG\" : \"L\",\n",
        "\"CUG\" : \"L\",\n",
        "\"AUG\" : \"M\",\n",
        "\"GUG\" : \"V\",\n",
        "\"UCU\" : \"S\",\n",
        "\"CCU\" : \"P\",\n",
        "\"ACU\" : \"T\",\n",
        "\"GCU\" : \"A\",\n",
        "\"UCC\" : \"S\",\n",
        "\"CCC\" : \"P\",\n",
        "\"ACC\" : \"T\",\n",
        "\"GCC\" : \"A\",\n",
        "\"UCA\" : \"S\",\n",
        "\"CCA\" : \"P\",\n",
        "\"ACA\" : \"T\",\n",
        "\"GCA\" : \"A\",\n",
        "\"UCG\" : \"S\",\n",
        "\"CCG\" : \"P\",\n",
        "\"ACG\" : \"T\",\n",
        "\"GCG\" : \"A\",\n",
        "\"UAU\" : \"Y\",\n",
        "\"CAU\" : \"H\",\n",
        "\"AAU\" : \"N\",\n",
        "\"GAU\" : \"D\",\n",
        "\"UAC\" : \"Y\",\n",
        "\"CAC\" : \"H\",\n",
        "\"AAC\" : \"N\",\n",
        "\"GAC\" : \"D\",\n",
        "\"UAA\" : \"Stop\",\n",
        "\"CAA\" : \"Q\",\n",
        "\"AAA\" : \"K\",\n",
        "\"GAA\" : \"E\",\n",
        "\"UAG\" : \"Stop\",\n",
        "\"CAG\" : \"Q\",\n",
        "\"AAG\" : \"K\",\n",
        "\"GAG\" : \"E\",\n",
        "\"UGU\" : \"C\",\n",
        "\"CGU\" : \"R\",\n",
        "\"AGU\" : \"S\",\n",
        "\"GGU\" : \"G\",\n",
        "\"UGC\" : \"C\",\n",
        "\"CGC\" : \"R\",\n",
        "\"AGC\" : \"S\",\n",
        "\"GGC\" : \"G\",\n",
        "\"UGA\" : \"Stop\",\n",
        "\"CGA\" : \"R\",\n",
        "\"AGA\" : \"R\",\n",
        "\"GGA\" : \"G\",\n",
        "\"UGG\" : \"W\",\n",
        "\"CGG\" : \"R\",\n",
        "\"AGG\" : \"R\",\n",
        "\"GGG\" : \"G\"\n",
        "}"
      ]
    },
    {
      "cell_type": "code",
      "execution_count": null,
      "metadata": {},
      "outputs": [],
      "source": []
    },
    {
      "cell_type": "code",
      "execution_count": 54,
      "metadata": {
        "colab": {
          "base_uri": "https://localhost:8080/"
        },
        "id": "eNgRzvDhoTV7",
        "outputId": "9a011557-26d9-46ae-d3fc-c8131d19d369"
      },
      "outputs": [
        {
          "name": "stdout",
          "output_type": "stream",
          "text": [
            "['EGRR', 'CED']\n"
          ]
        }
      ],
      "source": [
        "#@title ❓ Click `Show code` in the code cell to show the solution. { display-mode: \"form\" }\n",
        "\n",
        "sequence = \"GAAGGGCGGCGAUGAUGUGAAGAUUAACAACAAUAA\"\n",
        "\n",
        "def translate_sequence(sequence, codon_table):\n",
        "  \"\"\" Return a list of amino acids, Stop Codons create a new entry in the List\"\"\"\n",
        "  \n",
        "  # A list to store the results\n",
        "  amino_acid_list = []\n",
        "\n",
        "  # A string to store the amino acid sequence before putting it in the list\n",
        "  amino_acid_sequence = \"\"\n",
        "\n",
        "  # go through the sequence in steps of 3: 0, 3, 6, ... \n",
        "  for starting_position in range(0, len(sequence)-3,3):\n",
        "    \n",
        "    # The three letters from the starting point are codon\n",
        "    codon_to_translate = sequence[starting_position:starting_position+3]\n",
        "\n",
        "    #print(codon_to_translate)\n",
        "\n",
        "    # To translate, we we can look up the key in the codon table dictionary\n",
        "    translation = codon_table[codon_to_translate]\n",
        "\n",
        "    # if we find a stop  codon\n",
        "    if translation == \"Stop\":\n",
        "      # we add the string, we build so far as a new entry in the list\n",
        "      amino_acid_list.append(amino_acid_sequence)\n",
        "      #print(\"Stop found\")\n",
        "      \n",
        "      # we reset the string to the next amino acid\n",
        "      amino_acid_sequence = \"\"\n",
        "\n",
        "    # in all other cases (no stop codon)\n",
        "    else:\n",
        "      # we just add the translation to the string\n",
        "      amino_acid_sequence = amino_acid_sequence + translation\n",
        "      #print(amino_acid_sequence)\n",
        "\n",
        "  # finally, we return the list\n",
        "  return amino_acid_list\n",
        "\n",
        "# calling the function\n",
        "amino_acid_list = translate_sequence(sequence, codon_table)\n",
        "\n",
        "print(amino_acid_list)"
      ]
    },
    {
      "cell_type": "markdown",
      "metadata": {},
      "source": [
        "🤓 **Bonus-Task**\n",
        "\n",
        "Check how You can use biopython to to the same thing"
      ]
    },
    {
      "cell_type": "code",
      "execution_count": null,
      "metadata": {},
      "outputs": [],
      "source": []
    },
    {
      "cell_type": "code",
      "execution_count": 55,
      "metadata": {},
      "outputs": [
        {
          "data": {
            "text/plain": [
              "Seq('EGRR*CED*QQ*')"
            ]
          },
          "execution_count": 55,
          "metadata": {},
          "output_type": "execute_result"
        }
      ],
      "source": [
        "#@title ❓ Click `Show code` in the code cell to show the solution. { display-mode: \"form\" }\n",
        "my_rna = Seq(\"GAAGGGCGGCGAUGAUGUGAAGAUUAACAACAAUAA\")\n",
        "my_aa = my_rna.translate()\n",
        "my_aa"
      ]
    },
    {
      "cell_type": "markdown",
      "metadata": {
        "id": "VX2BwfqTsZDG"
      },
      "source": [
        "🤓 **Bonus-Task**\n",
        "\n",
        "Find a way to deal with sequences that do not end with a stop codon, so that the possile translations for the remainer of the sequence are stored in a separate variable."
      ]
    },
    {
      "cell_type": "code",
      "execution_count": null,
      "metadata": {},
      "outputs": [],
      "source": []
    },
    {
      "cell_type": "markdown",
      "metadata": {
        "id": "hyFHZelrweEW"
      },
      "source": [
        "### 🏁 Recap\n",
        "\n",
        "- If you have finished the tasks and have no questions, place the green card on top.\n",
        "- If you have finished the tasks but would like to discuss the solutions together again, place the yellow card on top.\n",
        "\n",
        "![](https://www.lokalinfo.ch/fileadmin/news_import/image003_03.jpg)"
      ]
    },
    {
      "cell_type": "markdown",
      "metadata": {
        "id": "ipMdtgv7w-g6"
      },
      "source": [
        "## 1.2.6.2 Finding Similarity\n",
        "\n",
        "An important task in sequence analysis is finding similarity. The following picture shows regions in mouse and human genome that are similar in the same color. \n",
        "\n",
        "![](https://www.researchgate.net/publication/336984156/figure/fig1/AS:820768720031744@1572697920588/Preserved-segments-between-mouse-and-human-genomes-showing-long-stretches-of-conserved_W640.jpg)\n",
        "\n",
        "\n",
        "When comparing sequences we cannot assume, that there are always exact matches between the sequences, even if they come from the same region from the same organism.\n",
        "\n",
        "First, mutations happen in the organism and while sequences are multiplied in the vectors, so that single nucleotides are lost or replaced.\n",
        "Second, errors can happen during the process of reading the sequences and translating them into computer code.\n",
        "\n",
        "The following sequences are similar but not identical. \n",
        "\n",
        "\n",
        "- ```sequence_1 = \"GAAGGGCGGCGAUGAUGUGAAGAUUAACAACAAUAA\"```\n",
        "- ```sequence_2 = \"GAAGGGCGGCGAUCAUGAGAAGAUUAACATCAAUAA\"```\n",
        "\n"
      ]
    },
    {
      "cell_type": "markdown",
      "metadata": {},
      "source": [
        "Hence, we cannot make a direct comparison of the string to get meaningful information:"
      ]
    },
    {
      "cell_type": "code",
      "execution_count": 56,
      "metadata": {
        "colab": {
          "base_uri": "https://localhost:8080/"
        },
        "id": "ZePVtkQnzZkw",
        "outputId": "06419098-6a44-4f8d-f6b1-a3803d68f6d2"
      },
      "outputs": [
        {
          "data": {
            "text/plain": [
              "False"
            ]
          },
          "execution_count": 56,
          "metadata": {},
          "output_type": "execute_result"
        }
      ],
      "source": [
        "sequence_1 = \"GAAGGGCGGCGAUGAUGUGAAGAUUAACAACAAUAA\"\n",
        "sequence_2 = \"GAAGGGCGGCGAUCAUGAGAAGAUUAACATCAAUAA\"\n",
        "\n",
        "sequence_1 == sequence_2"
      ]
    },
    {
      "cell_type": "markdown",
      "metadata": {
        "id": "_vU18mHkzWtA"
      },
      "source": [
        "### Global Sequence Alignment\n",
        "\n",
        "Therefore, looking for exact matches is not fruitful in most cases. Instead, we can compare the similarity between two sequences. One way of doing this, is to calculate the number of exact matches of nucleotides on the same positions.\n",
        "(This is basically the inverse of the hamming distance.)\n",
        "\n",
        "✍️ **Task**\n",
        "\n",
        "Write a function to compare two sequences of equal length and returns the percentage of matching nucleotides. For instance here\n",
        "\n",
        "```\n",
        "sequence_1 = \"GAAGGGCGGCGAUGAUGUGAAGAUUAACAACAAUAA\"\n",
        "sequence_2 = \"GAAGGGCGGCGAUCAUGAGAAGAUUAACATCAAUAA\"\n",
        "```\n",
        "\n",
        "We would expect that the score is 0.92, as 92% of the bases are identical."
      ]
    },
    {
      "cell_type": "code",
      "execution_count": null,
      "metadata": {},
      "outputs": [],
      "source": []
    },
    {
      "cell_type": "code",
      "execution_count": 57,
      "metadata": {
        "colab": {
          "base_uri": "https://localhost:8080/"
        },
        "id": "1TF5HGkFywHx",
        "outputId": "76327a7f-2192-48d2-9b5b-94da0dcbc240"
      },
      "outputs": [],
      "source": [
        "#@title ❓ Click `Show code` in the code cell to show the solution. { display-mode: \"form\" }\n",
        "\n",
        "def compare_sequences(short_sequence1,short_sequence2):\n",
        "  \"\"\"Returns the percentage of matching nucleotides \"\"\"\n",
        "  # set a counter for the matches\n",
        "  matches = 0\n",
        "  \n",
        "  # go through the sequences using an index\n",
        "  for i in range(0,len(short_sequence1)):\n",
        "\n",
        "    # if they are the same at an index position\n",
        "    if short_sequence1[i] == short_sequence2[i]:\n",
        "\n",
        "      #count the match\n",
        "      matches = matches + 1\n",
        "      \n",
        "  # as we want to find the relative number of matches, we normalize them using the sequence length\n",
        "  return matches/len(short_sequence1)\n"
      ]
    },
    {
      "cell_type": "code",
      "execution_count": 58,
      "metadata": {},
      "outputs": [
        {
          "data": {
            "text/plain": [
              "0.9166666666666666"
            ]
          },
          "execution_count": 58,
          "metadata": {},
          "output_type": "execute_result"
        }
      ],
      "source": [
        "sequence_1 = \"GAAGGGCGGCGAUGAUGUGAAGAUUAACAACAAUAA\"\n",
        "sequence_2 = \"GAAGGGCGGCGAUCAUGAGAAGAUUAACATCAAUAA\"\n",
        "\n",
        "compare_sequences(sequence_1, sequence_2)"
      ]
    },
    {
      "cell_type": "markdown",
      "metadata": {
        "id": "5zpWIEUd1NzT"
      },
      "source": [
        "While this approach works well, if the sequences have equal length and no shifts, insertions or missing nucleotides, it fails in all other cases:\n",
        "\n",
        "The following example has two almost identical DNA-samples. However, in the second sequence a single nucleotide is missing. This results in a very low similarity score:"
      ]
    },
    {
      "cell_type": "code",
      "execution_count": 59,
      "metadata": {
        "colab": {
          "base_uri": "https://localhost:8080/"
        },
        "id": "gwC8omASsYaH",
        "outputId": "4d4696e6-4649-4010-84b4-930fc37ae507"
      },
      "outputs": [
        {
          "data": {
            "text/plain": [
              "0.3611111111111111"
            ]
          },
          "execution_count": 59,
          "metadata": {},
          "output_type": "execute_result"
        }
      ],
      "source": [
        "sequence_1 = \"GAAGGCGGCGAUGAUGUGAAGAUUAACAACAAUAAA\"\n",
        "sequence_2 = \"GAAGGGCGGCGAUCAUGAGAAGAUUAACATCAAUAA\"\n",
        "\n",
        "compare_sequences(sequence_1, sequence_2)"
      ]
    },
    {
      "cell_type": "markdown",
      "metadata": {
        "id": "7hMeBvfz2tL6"
      },
      "source": [
        "### Local Sequence Alignment\n",
        "\n",
        "Modern bio informatics has developed multiple approaches to improve pattern matching (e.g. [BALST](https://www.ebi.ac.uk/Tools/sss/#:~:text=Sequence%20Similarity%20Searching%20is%20a,information%20to%20the%20query%20sequence.), [FASTA](https://www.cs.tau.ac.il/~rshamir/algmb/98/scribe/html/lec03/node2.html)).\n",
        "\n",
        "A simple approach so solve this problem is to break down the second sequence into smaller segments of length $k$ (called [k-mers](https://en.wikipedia.org/wiki/K-mer)).\n",
        "\n",
        "\n",
        "- ```sequence_1 = \"GAAGGGCGGCGAUGAUGUGAAGAUUAACAACAAUAA\"```\n",
        "- ```sequence_2 = \"GAAGGGCGGCGAUCAUGAGAAGAUUAACATCAAUAA\"```\n",
        "\n",
        "For instance, we can now loop through the second sequence and see if we find the shorter search sequences derived from `sequence_2` in `sequence_1`:\n",
        "\n",
        "- with $k=6$\n",
        "- ```search_sequence_1 = \"GAAGGG\"```\n",
        "- ```search_sequence_2 = \"AAGGGC\"```\n",
        "- etc.\n",
        "\n",
        "Now, we can compare whether the search sequences fit at any place of the first sequence.\n",
        "\n"
      ]
    },
    {
      "cell_type": "markdown",
      "metadata": {
        "id": "Xho2hVb10l2C"
      },
      "source": [
        "#### 🏁 Recap\n",
        "\n",
        "- If you have finished the tasks and have no questions, place the green card on top.\n",
        "- If you have finished the tasks but would like to discuss the solutions together again, place the yellow card on top.\n",
        "\n",
        "![](https://www.lokalinfo.ch/fileadmin/news_import/image003_03.jpg)"
      ]
    },
    {
      "cell_type": "markdown",
      "metadata": {
        "id": "CxAV3HT60luV"
      },
      "source": [
        "#### ✍️ **Task**\n",
        "\n",
        "We want to compare two sequences of length $36$ using a search sequences of length $6$. We want to compare the first sequence and any possible search sequence at any possible position. \n",
        "- How many comparisons do we make?\n",
        "- How many of them to we expect to fit if we compare to identical sequences?\n",
        "\n",
        "You can either think it through or solve it by implementing the code.\n"
      ]
    },
    {
      "cell_type": "code",
      "execution_count": 60,
      "metadata": {
        "id": "aYrQBoXV4g3a"
      },
      "outputs": [],
      "source": [
        "# Example with short sequences\n",
        "# sequence_1 = \"ABCDE\" with len(sequence_1) = 5\n",
        "# sequence_2 = \"QWERT\" with len(sequence_1) = 5\n",
        "\n",
        "# k_mer = \"ABC\" with len(k_mer) = 3 taken from sequence_1\n",
        "# With each k-mer, we can make 3 comparisons\n",
        "## ABC**\n",
        "## *BCD*\n",
        "## **CDE\n",
        "## We can make len(sequence_1) - len(k_mer) + 1 comparisons per k-mer we take from the second sequence\n",
        "\n",
        "# We can generate 3 k-mers from the second sequence\n",
        "## This is also len(sequence_2) - len(k_mer) + 1 \n",
        "\n",
        "# In total we make (len(sequence_1) - len(k_mer) + 1 )*(len(sequence_2) - len(k_mer) + 1 ) comparisons\n",
        "## (36-6+1)**2 = 961\n",
        "\n",
        "## If we had two identical sequences of length n, we you expect at least n-k-1 matches\n"
      ]
    },
    {
      "cell_type": "markdown",
      "metadata": {},
      "source": [
        "✍️ **Task**\n",
        "\n",
        "Try out the following function comparing identical and different sequences:"
      ]
    },
    {
      "cell_type": "code",
      "execution_count": 61,
      "metadata": {
        "colab": {
          "base_uri": "https://localhost:8080/"
        },
        "id": "lFfEVLh58Wo0",
        "outputId": "e4b27137-428a-46a7-92e5-6ae69530faee"
      },
      "outputs": [],
      "source": [
        "# Define the length of the k-mers\n",
        "k = 6\n",
        "\n",
        "def full_comparison(sequence_1, sequence_2, k):\n",
        "  \"\"\"Returns the percentage of subsequences with length k, that are found in sequence_1\"\"\"\n",
        "  comparison_counter = 0\n",
        "  matches_counter = 0\n",
        "  #k_mer_counter = 0\n",
        "\n",
        "  # Create the k-mers from sequence 1\n",
        "  for index in range(0,len(sequence_1) - k+1):\n",
        "    search_sequence = sequence_1[index:index+k]\n",
        "    print(\"Looking for k-mer: {} \".format(search_sequence))\n",
        "    #print(str(index) + \" - \" + str(index+n))\n",
        "    #k_mer_counter = k_mer_counter + 1\n",
        "    #print(k_mer_counter)\n",
        "\n",
        "    # Compare them to the other sequence\n",
        "    for index in range(0,len(sequence_2) - k + 1):\n",
        "        comparison_counter = comparison_counter + 1\n",
        "        #print(\"Comparing {} - {}\".format(search_sequence,sequence_1[index:index+k]))\n",
        "        if search_sequence == sequence_2[index:index+k]:\n",
        "          matches_counter = matches_counter + 1\n",
        "          print(\"Match counter: {}\".format(matches_counter))\n",
        "  print(\"Made {} comparisons.\".format(comparison_counter))\n",
        "  print(\"Found {} good matches.\".format(matches_counter))\n",
        "\n",
        "  # Normalize the matches based on the length of the sequence\n",
        "  # This would return 1, if we have a perfect match\n",
        "  return matches_counter/(len(sequence_1)-k+1)\n",
        "\n"
      ]
    },
    {
      "cell_type": "code",
      "execution_count": 62,
      "metadata": {},
      "outputs": [
        {
          "name": "stdout",
          "output_type": "stream",
          "text": [
            "Sequence length is 36.\n",
            "Looking for k-mer: GAAGGC \n",
            "Match counter: 1\n",
            "Looking for k-mer: AAGGCG \n",
            "Match counter: 2\n",
            "Looking for k-mer: AGGCGG \n",
            "Match counter: 3\n",
            "Looking for k-mer: GGCGGC \n",
            "Match counter: 4\n",
            "Looking for k-mer: GCGGCG \n",
            "Match counter: 5\n",
            "Looking for k-mer: CGGCGA \n",
            "Match counter: 6\n",
            "Looking for k-mer: GGCGAU \n",
            "Match counter: 7\n",
            "Looking for k-mer: GCGAUG \n",
            "Match counter: 8\n",
            "Looking for k-mer: CGAUGA \n",
            "Match counter: 9\n",
            "Looking for k-mer: GAUGAU \n",
            "Match counter: 10\n",
            "Looking for k-mer: AUGAUG \n",
            "Match counter: 11\n",
            "Looking for k-mer: UGAUGU \n",
            "Match counter: 12\n",
            "Looking for k-mer: GAUGUG \n",
            "Match counter: 13\n",
            "Looking for k-mer: AUGUGA \n",
            "Match counter: 14\n",
            "Looking for k-mer: UGUGAA \n",
            "Match counter: 15\n",
            "Looking for k-mer: GUGAAG \n",
            "Match counter: 16\n",
            "Looking for k-mer: UGAAGA \n",
            "Match counter: 17\n",
            "Looking for k-mer: GAAGAU \n",
            "Match counter: 18\n",
            "Looking for k-mer: AAGAUU \n",
            "Match counter: 19\n",
            "Looking for k-mer: AGAUUA \n",
            "Match counter: 20\n",
            "Looking for k-mer: GAUUAA \n",
            "Match counter: 21\n",
            "Looking for k-mer: AUUAAC \n",
            "Match counter: 22\n",
            "Looking for k-mer: UUAACA \n",
            "Match counter: 23\n",
            "Looking for k-mer: UAACAA \n",
            "Match counter: 24\n",
            "Looking for k-mer: AACAAC \n",
            "Match counter: 25\n",
            "Looking for k-mer: ACAACA \n",
            "Match counter: 26\n",
            "Looking for k-mer: CAACAA \n",
            "Match counter: 27\n",
            "Looking for k-mer: AACAAU \n",
            "Match counter: 28\n",
            "Looking for k-mer: ACAAUA \n",
            "Match counter: 29\n",
            "Looking for k-mer: CAAUAA \n",
            "Match counter: 30\n",
            "Looking for k-mer: AAUAAU \n",
            "Match counter: 31\n",
            "Made 961 comparisons.\n",
            "Found 31 good matches.\n"
          ]
        },
        {
          "data": {
            "text/plain": [
              "1.0"
            ]
          },
          "execution_count": 62,
          "metadata": {},
          "output_type": "execute_result"
        }
      ],
      "source": [
        "# Two identical sequences to compare\n",
        "sequence_1 = \"GAAGGCGGCGAUGAUGUGAAGAUUAACAACAAUAAU\"\n",
        "sequence_2 = \"GAAGGCGGCGAUGAUGUGAAGAUUAACAACAAUAAU\"\n",
        "\n",
        "# Print sequence length\n",
        "print(\"Sequence length is {}.\".format(len(sequence_1)))\n",
        "\n",
        "full_comparison(sequence_1, sequence_2, k)"
      ]
    },
    {
      "cell_type": "markdown",
      "metadata": {
        "id": "KsQzWSSag2VL"
      },
      "source": [
        "Now, we have a much more robust similarity score. However, this in computationally much more expensive, as we now make almost 1.000 comparisons.\n"
      ]
    },
    {
      "cell_type": "code",
      "execution_count": 63,
      "metadata": {},
      "outputs": [
        {
          "name": "stdout",
          "output_type": "stream",
          "text": [
            "Sequence length is 36.\n",
            "Looking for k-mer: GAAGCC \n",
            "Looking for k-mer: AAGCCG \n",
            "Looking for k-mer: AGCCGG \n",
            "Looking for k-mer: GCCGGC \n",
            "Looking for k-mer: CCGGCG \n",
            "Looking for k-mer: CGGCGA \n",
            "Match counter: 1\n",
            "Looking for k-mer: GGCGAU \n",
            "Match counter: 2\n",
            "Looking for k-mer: GCGAUU \n",
            "Looking for k-mer: CGAUUU \n",
            "Looking for k-mer: GAUUUG \n",
            "Looking for k-mer: AUUUGA \n",
            "Looking for k-mer: UUUGAA \n",
            "Looking for k-mer: UUGAAG \n",
            "Looking for k-mer: UGAAGA \n",
            "Match counter: 3\n",
            "Looking for k-mer: GAAGAU \n",
            "Match counter: 4\n",
            "Looking for k-mer: AAGAUU \n",
            "Match counter: 5\n",
            "Looking for k-mer: AGAUUA \n",
            "Match counter: 6\n",
            "Looking for k-mer: GAUUAA \n",
            "Match counter: 7\n",
            "Looking for k-mer: AUUAAC \n",
            "Match counter: 8\n",
            "Looking for k-mer: UUAACA \n",
            "Match counter: 9\n",
            "Looking for k-mer: UAACAA \n",
            "Match counter: 10\n",
            "Looking for k-mer: AACAAC \n",
            "Match counter: 11\n",
            "Looking for k-mer: ACAACC \n",
            "Looking for k-mer: CAACCA \n",
            "Looking for k-mer: AACCAG \n",
            "Looking for k-mer: ACCAGA \n",
            "Looking for k-mer: CCAGAA \n",
            "Looking for k-mer: CAGAAU \n",
            "Looking for k-mer: AGAAUA \n",
            "Looking for k-mer: GAAUAA \n",
            "Looking for k-mer: AAUAAU \n",
            "Match counter: 12\n",
            "Made 961 comparisons.\n",
            "Found 12 good matches.\n"
          ]
        },
        {
          "data": {
            "text/plain": [
              "0.3870967741935484"
            ]
          },
          "execution_count": 63,
          "metadata": {},
          "output_type": "execute_result"
        }
      ],
      "source": [
        "# Two different sequences to compare\n",
        "sequence_1 = \"GAAGCCGGCGAUUUGAAGAUUAACAACCAGAAUAAU\"\n",
        "sequence_2 = \"GAAGGCGGCGAUGAUGUGAAGAUUAACAACAAUAAU\"\n",
        "\n",
        "# Print sequence length\n",
        "print(\"Sequence length is {}.\".format(len(sequence_1)))\n",
        "\n",
        "full_comparison(sequence_1, sequence_2, k)"
      ]
    },
    {
      "cell_type": "markdown",
      "metadata": {
        "id": "B864oyJxwuK_"
      },
      "source": [
        "#### 🏁 Recap\n",
        "\n",
        "- If you have finished the tasks and have no questions, place the green card on top.\n",
        "- If you have finished the tasks but would like to discuss the solutions together again, place the yellow card on top.\n",
        "\n",
        "![](https://www.lokalinfo.ch/fileadmin/news_import/image003_03.jpg)"
      ]
    },
    {
      "cell_type": "markdown",
      "metadata": {
        "id": "M_nD7ekhir5T"
      },
      "source": [
        "🏆  **Task**\n",
        "\n",
        "However, we still look for perfect matches (i.e., the k-mers must exactly fit the other sequence). We can make the algorithm even more robust, if we introduce a some leniency and do not only count perfect matches.\n",
        "\n",
        "Integrate the function ```compare_sequences``` (from the beginning of the notebook) into the function ```full_comparison``` to account for high similarities resulting in a number between 0 and 1 that indicates how many of the letters match. Implement a ```threshold``` value that determine what similarity a match has to achieve to be counted. (We implemented the function above, so You just have to integrate them in the right way!)\n",
        "\n",
        "Test the behaviour of the function:\n",
        "- With ```threshold == 1``` the function should return the same results as before\n",
        "- Lower the threshold in steps of 0.1. What problems do arrive?\n",
        "\n",
        "*Hint*:\n",
        "\n",
        "* For instance if we have the following k-mers to compare:\n",
        "  * `k_mer_1 = GAAG`\n",
        "  * `k_mer_2 = GAAG`\n",
        "  * They are identical, so we can calculate their similarity by:\n",
        "  `number_of_identical_letters/len(k_mer_1) = 1` \n",
        "  * `k_mer_1 = GAAA`\n",
        "  * `k_mer_2 = GAAG`\n",
        "  * They are identical, so we can calculate their similarity by:\n",
        "  `3/4 = 0.75` \n",
        "  * with a threshold of `0.7` we would still count this as a match\n",
        "  \n",
        "* Look at the code for the comparison from the last task. You only have to change on line (the `if` condition). Currently, the `matches_counter` is only increased for perfect matches. Here we must integrate the function `compare_sequences()`."
      ]
    },
    {
      "cell_type": "code",
      "execution_count": 64,
      "metadata": {
        "colab": {
          "base_uri": "https://localhost:8080/"
        },
        "id": "bDI-PWqY2_tk",
        "outputId": "61abb5f9-bae6-4663-bffa-b0d9dd4dd5be"
      },
      "outputs": [
        {
          "name": "stdout",
          "output_type": "stream",
          "text": [
            "Sequence length is 36.\n"
          ]
        }
      ],
      "source": [
        "sequence_1 = \"GAAGGCGGCGAUGAUGUGAAGAUUAACAACAAUAAU\"\n",
        "sequence_2 = \"GAAGGCGGCGAUGAUGUGAAGAUUAACAACAAUAAU\"\n",
        "\n",
        "\n",
        "print(\"Sequence length is {}.\".format(len(sequence_1)))\n",
        "\n",
        "\n",
        "n = 6\n",
        "threshold = 1.0"
      ]
    },
    {
      "cell_type": "code",
      "execution_count": 65,
      "metadata": {},
      "outputs": [
        {
          "ename": "SyntaxError",
          "evalue": "unexpected EOF while parsing (<ipython-input-65-e074b45aaf95>, line 3)",
          "output_type": "error",
          "traceback": [
            "\u001b[1;36m  File \u001b[1;32m\"<ipython-input-65-e074b45aaf95>\"\u001b[1;36m, line \u001b[1;32m3\u001b[0m\n\u001b[1;33m    \u001b[0m\n\u001b[1;37m    ^\u001b[0m\n\u001b[1;31mSyntaxError\u001b[0m\u001b[1;31m:\u001b[0m unexpected EOF while parsing\n"
          ]
        }
      ],
      "source": [
        "# Add Your solution here\n",
        "def full_comparison(sequence_1, sequence_2, n, threshold):\n",
        "\n"
      ]
    },
    {
      "cell_type": "code",
      "execution_count": 68,
      "metadata": {
        "colab": {
          "base_uri": "https://localhost:8080/"
        },
        "id": "WPYhLPu8hTYa",
        "outputId": "b442e8d2-dc5d-4849-fc42-d210007eaaab"
      },
      "outputs": [],
      "source": [
        "#@title ❓ Click `Show code` in the code cell to show the solution. { display-mode: \"form\" }\n",
        "\n",
        "def full_comparison(sequence_1, sequence_2, n, threshold):\n",
        "  \"\"\"Returns the percentage of subsequences with length n, that are found in sequence_1\"\"\"\n",
        "  comparison_counter = 0\n",
        "  matches_counter = 0\n",
        "\n",
        "  # Create the k-mers from sequence 1\n",
        "  for index in range(0,len(sequence_1) - n + 1):\n",
        "    search_sequence = sequence_1[index:index+n]\n",
        "    \n",
        "    # Create them to the other sequence\n",
        "    for index in range(0,len(sequence_2) - n + 1):\n",
        "        comparison_counter = comparison_counter + 1\n",
        "\n",
        "        # Make a comparison between the m-mers\n",
        "        similarity_value = compare_sequences(search_sequence,sequence_2[index:index+n])\n",
        "        \n",
        "        # Only count the match, if the similarity is higher than the threshold\n",
        "        if similarity_value >= threshold:\n",
        "          matches_counter = matches_counter + 1\n",
        "          #print(\"Match counter: {}\".format(matches_counter))\n",
        "\n",
        "  print(\"Made {} comparisons.\".format(comparison_counter))\n",
        "  print(\"Found {} good matches.\".format(matches_counter))\n",
        "\n",
        "  return matches_counter/(len(sequence_1)-n+1)\n"
      ]
    },
    {
      "cell_type": "code",
      "execution_count": 69,
      "metadata": {},
      "outputs": [
        {
          "name": "stdout",
          "output_type": "stream",
          "text": [
            "Sequence length is 36.\n",
            "Made 961 comparisons.\n",
            "Found 31 good matches.\n"
          ]
        },
        {
          "data": {
            "text/plain": [
              "1.0"
            ]
          },
          "execution_count": 69,
          "metadata": {},
          "output_type": "execute_result"
        }
      ],
      "source": [
        "sequence_1 = \"GAAGGCGGCGAUGAUGUGAAGAUUAACAACAAUAAU\"\n",
        "sequence_2 = \"GAAGGCGGCGAUGAUGUGAAGAUUAACAACAAUAAU\"\n",
        "\n",
        "print(\"Sequence length is {}.\".format(len(sequence_1)))\n",
        "\n",
        "n = 6\n",
        "threshold = 1.0\n",
        "\n",
        "full_comparison(sequence_1, sequence_2, n, threshold)"
      ]
    },
    {
      "cell_type": "markdown",
      "metadata": {
        "id": "jsWB6N9MwwO4"
      },
      "source": [
        "### 🏁 Recap\n",
        "\n",
        "- If you have finished the tasks and have no questions, place the green card on top.\n",
        "- If you have finished the tasks but would like to discuss the solutions together again, place the yellow card on top.\n",
        "\n",
        "![](https://www.lokalinfo.ch/fileadmin/news_import/image003_03.jpg)"
      ]
    },
    {
      "cell_type": "markdown",
      "metadata": {
        "id": "VY00FCiB4mMF"
      },
      "source": [
        "## 🏆 1.2.6.3 **Task with Sakai-Submission**\n",
        "\n",
        "Apply Your new code to the following DNA samples that encode the *pB1 Protein* of different influenza viruses. Write a for loop to calculate the distances between all of the samples.\n",
        "Later we want to find out, which of the three samples is different than the other two as it is an influenza viruses infects another species than the other two.\n",
        "\n",
        "The data stems from the \n",
        "[US National Center for Biotechnology Information](https://www.ncbi.nlm.nih.gov/genomes/FLU/Database/nph-select.cgi#mainform)\n",
        "\n"
      ]
    },
    {
      "cell_type": "code",
      "execution_count": 74,
      "metadata": {
        "id": "0sDLU0bE-yZn"
      },
      "outputs": [],
      "source": [
        "m25925 = {\"Sample Name\" : \"M25925\", \"Sequence\" : \"AGCAAAAGCAGGCAAACCATTTGAATGGATGTCAATCCGACTTTACTTTTCTTGAAAGTTCCAGCGCAAAATGCCATAAGCACCACATTCCCATATACTGGAGATCCTCCATACAGCCATGGAACGGGAACAGGATACACCATGGACACAGTCAACAGAACACATCAATATTCAGAAAAGGGGAAATGGACAACAAACACAGAAACTGGAGCACCCCAACTTAACCCAATTGATGGACCATTACCTGAGGATAATGAGCCAAGTGGATATGCACAAACAGACTGTGTCCTGGAAGCAATGGCTTTCCTTGAAGAGTCCCACCCAGGAATCTTTGAAAACTCGTGTCTTGAAACGATGGAAGTTGTTCAACAAACAAGAGTGGACAAGCTGACCCAAGGTCGCCAGACCTATGATTGGACATTAAACAGGAATCAGCCGGCTGCAACTGCATTAGCTAATACTATAGAGGTCTTCAGATCGAACGGTTTAACGGCTAATGAATCAGGAAGGCTAATAGATTTCCTCAAGGATGTGATGGAATCAATGGATAAAGAGGAAATGGAAATAACAACGCACTTTCAAAGAAAAAGAAGGGTAAGGGACAACATGACCAAGAAAATGGTCACACAAAGAACAATAGGAAAGAAGAAACAGAGACTAAACAAGAGAAGCTATCTAATAAGAGCATTGACACTGAACACAATGACAAAAGACGCTGAAAGAGGCAAATTAAAGAGAAGAGCAATTGCAACACCTGGGATGCAAATCAGAGGATTTGTGTATTTTGTTGAAACATTAGCGAGGAGCATCTGTGAGAAGCTTGAACAATCTGGACTTCCAGTTGGAGGCAATGAAAAGAAGGCTAAACTGGCAAATGTTGTGAGAAAAATGATGACTAATTCACAAGACACAGAGCTCTCTTTCACAATCACTGGAGACAACACCAAATGGAATGAAAATCAGAACCCTAGGATGTTCCTGGCAATGATAACATACATAACAAGAAATCAACCTGAATGGTTTAGGAATGTCTTGAGTATTGCACCTATAATGTTCTCGAATAAAATGGCAAGGCTAGGAAAAGGATACATGTTCGAAAGTAAGAGCATGAAGCTTCGAACACAGATACCAGCAGAAATGTTAGCAAATATTGACCTGAAATATTTCAATGAGTCAACAAGAAAGAAAATAGAGAAGATAAGGCCTCTTCTAATAGATGGTACAGCTTCATTGAGTCCTGGAATGATGATGGGCATGTTCAACATGCTAAGTACAGTTTTAGGAGTCTCAATCCTAAATCTAGGACAAAAGAGGTACACCAAAACAACATACTGGTGGGACGGACTCCAATCCTCTGATGACTTTGCTCTCATAGTGAATGCACCGAATCATGAGGGAATACAAGCAGGAGTAGATAGATTCTATAGGACCTGCAAGCTAGTCGGAATCAATATGAGCAAAAAGAAGTCCTACATAAACAGGACAGGAACATTTGAATTCACAAGCTTTTTCTATCGCTATGGATTTGTAGCCAATTTTAGCATGGAGCTGCCCAGCTTTGGAGTGTCTGGGATTAATGAATCGGCTGACATGAGCATTGGAGTAACAGTGATAAAGAACAACATGATAAACAATGACCTTGGACCAGCAACGGCTCAAATGGCTCTTCAGCTGTTCATCAAGGATTACAGATACACGTATCGGTGTCACAGAGGGGACACACAAATTCAGACGAGGAGGTCATTCGAACTGAAAAAGTTGTGGGAACAAACCCGCTCAAAGGCAGGACTGCTGGTTTCAGATGGAGGACCAAACTTATACAATATCCGTAATCTCCACATCCCGGAAGTCTGCCTGAAATGGGAGCTAATGGACGAAGACTATCAGGGAAGGCTTTGTAACCCCCTGAACCCATTTGTCAGCCATAAGGAGATAGAGTCTGTAAACAATGCTGTGGTGATGCCAGCTCATGGCCCAGCCAAGAACATGGAATATGATGCTGTTGCTACTACACACTCCTGGATCCCTAAGAGGAACCGCTCCATCCTCAACACAAGCCAAAGGGGAATCCTTGAGGACGAACAGATGTATCAAAAGTGCTGCAATCTATTTGAGAAATTCTTCCCTAGCAGTTCATACAGGAGACCGGTTGGGATTTCCAGCATGGTGGAGGCCATGGTGTCTAGGGCCCGAATTGATGCACGAATTGACTTCGAGTCTGGACGGATTAAGAAGGAGGAGTTTGCTGAGATCATGAAGATCTGTTCCACCATTGAAGAGCTCAGACGGCAGAAATAGTGAATTTAGCTTGTCCTTCATGAAAAAATGCCTTGTTTCTACT\" }\n",
        "\n",
        "m25926 = {\"Sample Name\" : \"M25926\", \"Sequence\" :  \"AGCAAAAGCAGGCAAACCATTTGAATGGATGTCAATCCGACCTTACTTTTCTTGAAAGTTCCAGCACAAAATGCCATAAGCACCACATTCCCGTACACTGGAGATCCTCCATACAGCCATGGGACGGGGACAGGATACACCATGGACACAGTCAACAGAACACATCAATATTCAGAAAAGGGGAAATGGACCACAAACACAGAAACTGGAGCGCCCCAACTTAACCCAATTGATGGACCATTACCTGAGGATAATGAACCAAGTGGATATGCACAAACAGACTGCGTCCTGGAAGCAATGGCTTTCCTTGAAGAATCCCACCCAGGAATCTTTGAAAACTCGTGTCTTGAAACGATGGAAGTTGTTCAACAAACAAGAGTGGACAAGCTGACCCAAGGTCGCCAGACCTATGATTGGACATTAAACAGGAATCAGCCAGCTGCAACTGCATTAGCCAATACTATAGAGGTCTTCAGATCGAACGGTTTAACAGCTAATGAATCGGGAAGGCTAATCGATTTCCTCAAGGATGTGATGGAATCAATGGATAAAGAGGAAATGGAAATAACAACGCACTTCCAAAGAAAAAGAAGGGTGAGAGACAACATGACCAAGAAAATGGTCACACAAAGAACAATAGGAAAGAAGAAGCAGAGATTAAACAAGAGAAGCTATCTAATAAGAGCATTGACATTAAACACAATGACAAAAGATGCTGAAAGAGGCAAATTAAAGAGAAGAGCAATTGCAACACCCGGGATGCAAATCAGAGGATTTGTGTATTTTGTTGAAACACTAGCAAGGAGCATTTGTGAGAAGCTCGAGCAATCTGGACTTCCAGTTGGAGGCAATGAAAAGAAGGCTAAACTGGCAAATGTCGTGAGAAAGATGATGACTAATTCACAAGACACAGAGCTCTCTTTCACAATCACTGGAGACAACACCAAATGGAATGAAAATCAAAACCCTCGAATGTTCCTGGCAATGATAACATACATAACAAGAAATCAACCTGAATGGTTTAGAAATGTTTTGAGCATTGCACCTATAATGTTCTCGAATAAAATGGCAAGACTAGGAAAAGGATACATGTTCGAAAGCAAGAGCATGAAGCTTCGAACACAGATACCAGCAGAAATGCTAGCAGATATTGATCTGAAATATTTCAATGAATCAACAAGAAAGAAAATCGAGAAGATAAGACCTCTTCTAATAGATGGTACAGCCTCATTGAGTCCTGGAATGATGATGGGCATGTTCAATATGCTAAGTACGGTCTTAGGAGTCTCAATCCTAAATCTAGGACAAAAGAGATACACCAAAACAACATATTGGTGGGACGGACTCCAATCCTCTGATGACTTTGCTCTCATAGTGAATGCACCGAATCATGAGGGAATACAAGCAGGGGTAGATAGATTCTATAGAACCTGCAAGCTAGTCGGAATCAATATGAGCAAAAAGAAGTCCTACATAAACAGAACAGGAACATTTGAATTCACAAGCTTTTTCTATCGCTATGGATTTGTAGCCAATTTTAGCATGGAGCTGCCCAGCTTTGGAGTGTCTGGGATTAATGAATCGGCTGACATGAGCATTGGAGTAACAGTGATAAAGAACAACATGATAAATAATGACCTTGGGCCAGCAACAGCTCAAATGGCTCTTCAGCTATTCATCAAAGATTACAGATATACGTATCGATGCCACAGAGGGGACACACAAATTCAGACAAGGAGGTCATTCGAGCTAAAGAAGTTGTGGGAACAAACCCGCTCAAAGGCAGGACTGCTGGTTTCAGATGGAGGACCAAATTTATACAATATCCGGAATCTCCACATCCCGGAAGTCTGCTTGAAATGGGAGCTAATGGACGAAGACTATCAGGGGAGGCTTTGTAATCCCCTGAATCCATTTGTCAGCCATAAGGAAATAGAGTCTGTAAACAATGCTGTGGTAATGCCAGCTCATGGCCCAGCCAAGAGCATGGAATATGATGCTGTTGCTACTACACACTCCTGGATCCCTAAGAGGAACCGCTCCATTCTCAACACAAGCCAAAGGGGAATCCTTGAAGATGAACAGATGTATCAAAAGTGTTGCAATCTATTCGAGAAATTCTTCCCTAGCAGTTCATACAGGAGACCGGTTGGGATTTCCAGCATGGTGGAGGCCATGGTGTCTAGGGCCCGAATTGATGCGCGGATTGACTTCGAATCTGGACGGATTAAGAAAGAGGAGTTCGCTGAGATCATGAAGATCTGTTCCACCATTGAAGAGCTCAGACGGCAGAAATAGTGAATTTAGCTTGTCCTTCATGAAAAAATGCCTTGTTTCTACT\"}\n",
        "\n",
        "mT058709 = {\"Sample Name\" : \"MT058709\", \"Sequence\" :  \"CAAACCATTTGAATGGATGTCAATCCGACTCTACTTTTCCTAAAAATTCCAGCACAAAATGCCATAAGCACCACATTCCCTTATACTGGAGATCCTCCATACAGCCATGGAACAGGAACAGGATACACCATGGACACAGTAAACAGAACACACCAATACTCAGAAAAGGGGAAGTGGACAACAAACACAGAGACTGGTGCACCCCAGCTCAACCCGATTGACGGACCACTACCTGAAGATAATGAACCAAGTGGGTATGCACAAACAGACTGTGTTCTAGAGGCTATGGCTTTCCTTGAAGAATCCCATCCAGGAATATTTGAAAATTCATGCCTTGAAACAATGGAAGTTGTTCAACAAACAAGGGTAGATAAACTGACTCAAGGTCGCCAGACTTATGATTGGACATTAAACAGAAATCAACCGGCAGCAACTGCATTGGCCAACACCATAGAAGTTTTCAGATCGAATGACCTAACAGCTAACGAGTCAGGAAGGCTAATAGATTTCTTAAAGGATGTGATGGAATCAATGAACAAAGAGGAAATAGAGATAACAACCCACTTTCAAAGAAAAAGGAGAGTAAGAGACAACATGACCAAGAAGATGATCACGCAAAGAACAATAGGGAAGAAAAAACAGAGACTGAATAAGAGAGGCTATCTAATAAGAGCACTGACATTAAATACGATGACCAAAGATGCAGAGAGAGGCAAGTTAAAAAGAAGGGCTATCGCAACACCTGGGATGCAGATTAGAGGTTTCGTATACTTTGTTGAAACTTTAGCTAGGAGCATTTGCGAAAAGCTTGAACAGTCTGGGCTCCCAGTAGGGGGCAATGAAAAGAAGGCCAAATTGGCAAATGTTGTGAGAAAGATGATGACTAATTCACAAGATACAGAGATTTCTTTCACAATCACTGGGGACAACACTAAATGGAATGAGAATCAAAATCCTCGAATGTTCCTGGCGATGATTACATATATCACCAGAAATCAACCCGAGTGGTTTAGAAACATCCTGAGCATGGCACCCATAATGTTCTCAAATAAAATGGCAAGACTAGGGAAAGGGTACATGTTCGAGAGTAAAAGAATGAAGATTCGAACACAAATACCAGCAGAAATGCTAGCAAGCATTGATCTAAAGTATTTCAATGAATCAACAAGGAAGAAAATTGAGAAGATAAGGCCTCTTTTAATGGATGGCACAGCATCACTGAGTCCTGGGATGATGATGGGCATGTTCAACATGCTAAGTACTGTCTTGGGAGTCTCGATACTGAATCTTGGACAAAAGAAATACACCAAGACAACATACTGGTGGGATGGGCTTCAATCATCCGACGATTTTGCTCTCATAGTGAATGCACCAAACCATGAAGGAATACAAGCAGGAGTGGACAGATTCTACAGGACCTGCAAATTAGTGGGAATCAACATGAGCAAAAAGAAGTCCTATATAAATAAGACAGGGACATTTGAATTCACAAGCTTTTTTTATCGCTATGGATTTGTGGCTAATTTTAGCATGGAGCTACCCAGCTTTGGAGTGTCTGGAGTAAATGAATCAGCTGACATGAGTATTGGAGTAACAGTGATAAAGAACAACATGATAAACAATGACCTTGGACCTGCAACGGCTCAGATGGCTCTTCAATTGTTCATCAAAGACTACAGATACACATATAGATGTCATAGGGGAGACACACAAATTCAGACGAGAAGATCATTTGAGTTGAAGAAGCTATGGGATCAAACCCAATCAAAGGTAGGGCTATTAGTATCAGATGGAGGACCAAACTTATACAACATACGGAATCTTCACATTCCTGAAGTCTGCTTAAAATGGGAGCTAATGGATGATGATTATCGGGGAAGACTTTGTAATCCCCTGAATCCCTTTGTGAGTCATAAGGAGATTGATTCTGTAAACAATGCTGTGGTAATGCCAGCCCATGGCCCAGCCAAAAGCATGGAATATGATGCCGTCGCTACTACACATTCCTGGATTCCCAAGAGGAATCGTTCTATTCTCAACACAAGCCAAAGGGGAATTCTTGAGGATGAACAGATGTACCAGAAGTGTTGCAATTTATTCGAGAAATTTTTCCCTAGCAGTTCATATAGGAGGCCGGTTGGAATTTCTAGCATGGTGGAGGCCATGGTGTCTAGGGCCCGGATTGATGCCAGAGTCGACTTTGAGTCTGGACGGATTAAGAAAGAAGAGTTCTCTGAGATCATGAAGATCTGTTCCACCATTGAAGAACTCAGACGGCAAAAATAATGAATTTAACTTGTCCTTCATGAAAAAATG\"}"
      ]
    },
    {
      "cell_type": "markdown",
      "metadata": {},
      "source": [
        "Use the following parameters from this example with two sequences:"
      ]
    },
    {
      "cell_type": "code",
      "execution_count": 79,
      "metadata": {
        "colab": {
          "base_uri": "https://localhost:8080/"
        },
        "id": "8NmwMTMFz56A",
        "outputId": "b8582390-126e-42d3-819c-a74e0f374fcf"
      },
      "outputs": [
        {
          "name": "stdout",
          "output_type": "stream",
          "text": [
            "Made 5333634 comparisons.\n",
            "Found 1244 good matches.\n"
          ]
        },
        {
          "data": {
            "text/plain": [
              "0.5357450473729544"
            ]
          },
          "execution_count": 79,
          "metadata": {},
          "output_type": "execute_result"
        }
      ],
      "source": [
        "n = 20\n",
        "threshold = 0.9\n",
        "\n",
        "full_comparison(m25925[\"Sequence\"], mT058709[\"Sequence\"], n, threshold)"
      ]
    },
    {
      "cell_type": "markdown",
      "metadata": {
        "id": "D0CjPDN6M0Fy"
      },
      "source": [
        "As we now have a good function, to compare two sequences, we have to apply it to make all necessary comparisons. Make all possible comparisons and copy the output in Sakai.\n",
        "\n",
        "Using two for loops, we create a lot of necessary comparisons. First, we compare identical sequences. Second, we make the same comparisons twice.\n",
        "\n",
        "We could improve on the for-loop. However, as this problem in common, there are already efficient solutions implemented, that we can use.\n",
        "\n",
        "Such solutions are often provided in modules or packages in the standard library. Many packages are already part of Python an can be integrated using the ```import``` command.\n",
        "\n",
        "Here we import a function called combinations from the [itertools package](https://docs.python.org/3/library/itertools.html). \n"
      ]
    },
    {
      "cell_type": "code",
      "execution_count": 83,
      "metadata": {
        "colab": {
          "base_uri": "https://localhost:8080/",
          "height": 823
        },
        "id": "FVxi57aXPX9G",
        "outputId": "ef5108ba-c2d5-486c-812d-16ce63b72f2f"
      },
      "outputs": [
        {
          "name": "stdout",
          "output_type": "stream",
          "text": [
            "Match for M25925 and M25925 in percent: 0\n",
            "Match for M25925 and M25926 in percent: 0\n",
            "Match for M25925 and MT058709 in percent: 0\n",
            "Match for M25926 and M25925 in percent: 0\n",
            "Match for M25926 and M25926 in percent: 0\n",
            "Match for M25926 and MT058709 in percent: 0\n",
            "Match for MT058709 and M25925 in percent: 0\n",
            "Match for MT058709 and M25926 in percent: 0\n",
            "Match for MT058709 and MT058709 in percent: 0\n"
          ]
        }
      ],
      "source": [
        "# Example with for loops\n",
        "nucleotide_sequences = [m25925,m25926,mT058709]\n",
        "\n",
        "for first_nucleotide_sequence in nucleotide_sequences:\n",
        "  for second_nucleotide_sequence in nucleotide_sequences:\n",
        "    print(\"Match for {} and {} in percent: {}\".format(first_nucleotide_sequence[\"Sample Name\"], second_nucleotide_sequence[\"Sample Name\"], 0))"
      ]
    },
    {
      "cell_type": "code",
      "execution_count": null,
      "metadata": {
        "colab": {
          "base_uri": "https://localhost:8080/"
        },
        "id": "V4iTjyVZQyyx",
        "outputId": "475ba458-aca2-4e97-e3c1-f834886c3254"
      },
      "outputs": [
        {
          "name": "stdout",
          "output_type": "stream",
          "text": [
            "(10, 5)\n",
            "(10, 'Hi')\n",
            "(5, 'Hi')\n"
          ]
        }
      ],
      "source": [
        "from itertools import combinations\n",
        "A = [10, 5, 'Hi']\n",
        "temp = combinations(A, 2)\n",
        "for i in list(temp):\n",
        "\tprint (i)"
      ]
    },
    {
      "cell_type": "code",
      "execution_count": null,
      "metadata": {
        "colab": {
          "base_uri": "https://localhost:8080/"
        },
        "id": "YnQ_nwxFT0Pm",
        "outputId": "51bfbe12-707d-4688-87d4-7fa13404ec11"
      },
      "outputs": [],
      "source": []
    },
    {
      "cell_type": "code",
      "execution_count": 92,
      "metadata": {},
      "outputs": [
        {
          "name": "stdout",
          "output_type": "stream",
          "text": [
            "Made 5391684 comparisons.\n",
            "Found 2252 good matches.\n",
            "Match for M25925 and M25926 in percent: 0.9698535745047373\n",
            "Made 5333634 comparisons.\n",
            "Found 1244 good matches.\n",
            "Match for M25925 and MT058709 in percent: 0.5357450473729544\n",
            "Made 5333634 comparisons.\n",
            "Found 1221 good matches.\n",
            "Match for M25926 and MT058709 in percent: 0.5258397932816538\n"
          ]
        }
      ],
      "source": [
        "#@title ❓ Click `Show code` in the code cell to show the solution. { display-mode: \"form\" }\n",
        "\n",
        "from solutionsfop import solution_1_2_6_3\n",
        "\n",
        "solution_1_2_6_3(nukleotid_sequences, 20, 0.9)\n"
      ]
    },
    {
      "cell_type": "markdown",
      "metadata": {
        "id": "_a_VvohSwy7m"
      },
      "source": [
        "### 🏁 Recap\n",
        "\n",
        "- If you have finished the tasks and have no questions, place the green card on top.\n",
        "- If you have finished the tasks but would like to discuss the solutions together again, place the yellow card on top.\n",
        "\n",
        "![](https://www.lokalinfo.ch/fileadmin/news_import/image003_03.jpg)"
      ]
    },
    {
      "cell_type": "markdown",
      "metadata": {
        "id": "4vDnFer3z3d5"
      },
      "source": [
        "We see that M25925 and M25926 are much closer to another as they are to MT058709. We can confirm this, as we look to the raw sequences. However, now the also have a data based score to prove out intuition. \n",
        "\n",
        "In fact, the first two sample come from an avian flue, while the third befalls humans. \n",
        "\n",
        "## Summary\n",
        "\n",
        "Congratulations, You implement Your first algorithms in bio informatics! You know have the basic programming tools to implement Your own algorithms, for instance to do sequence analysis. In the next lecture, You will learn how to ensure that Your code is working properly and apply what You've learned to a new challenge."
      ]
    },
    {
      "cell_type": "markdown",
      "metadata": {},
      "source": []
    }
  ],
  "metadata": {
    "colab": {
      "collapsed_sections": [],
      "provenance": [],
      "toc_visible": true
    },
    "kernelspec": {
      "display_name": "Python 3.8.8 ('base')",
      "language": "python",
      "name": "python3"
    },
    "language_info": {
      "codemirror_mode": {
        "name": "ipython",
        "version": 3
      },
      "file_extension": ".py",
      "mimetype": "text/x-python",
      "name": "python",
      "nbconvert_exporter": "python",
      "pygments_lexer": "ipython3",
      "version": "3.8.8"
    },
    "vscode": {
      "interpreter": {
        "hash": "91b5df634ae01e052c095f84ce6ac57f1bf815a7c386b368c11e7051e1049005"
      }
    }
  },
  "nbformat": 4,
  "nbformat_minor": 0
}

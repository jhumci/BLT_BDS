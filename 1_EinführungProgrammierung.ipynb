{
  "cells": [
    {
      "cell_type": "markdown",
      "metadata": {
        "id": "K59Z_OxWq0XS"
      },
      "source": [
        "<table style=\"width: 100%\">\n",
        "    <tr style=\"background: #ffffff\">\n",
        "        <td style=\"padding-top:25px;width: 180px\"><img src=\"https://mci.edu/templates/mci/images/logo.svg\" alt=\"Logo\"></td>\n",
        "        <td style=\"width: 100%\">\n",
        "            <div style=\"text-align:right; width: 100%; text-align:right\"><font style=\"font-size:38px\"><b>Grundlagen Programmierung</b></font></div>\n",
        "            <div style=\"padding-top:0px; width: 100%; text-align:right\"><font size=\"4\"></font></div>\n",
        "        </td>\n",
        "    </tr>\n",
        "</table>\n",
        "\n",
        "---\n",
        "\n",
        "# 1.2.1 Variables and Data Types\n",
        "\n",
        "\n",
        "Computers are more complex calculators. Programming languages are used to provide the computer with inputs and arithmetic operations so that the desired outputs are produced. \n",
        "\n",
        "Many programmes offer an easy-to-understand user interface that can be operated using buttons and a mouse. Nevertheless, it is worthwhile to learn the basics of programming languages. These usually offer a high degree of flexibility and thus the possibility to solve special or innovative challenges. \n",
        "\n",
        "Python is easy to learn and yet very powerful. Almost all the principles learned with Python can be transferred to other programming languages (e.g. Java, JavaScript, Matlab).\n",
        "\n",
        "## Sources\n",
        "\n",
        "These notebooks are based on [Eric Matthes - Python Crash Course: A Hands-On, Project-Based Introduction to Programming](https://ehmatthes.github.io/pcc/)"
      ]
    },
    {
      "cell_type": "markdown",
      "metadata": {
        "id": "Vu95J7lWsSBS"
      },
      "source": [
        "---\n",
        "\n",
        "## 1.2.1.1 Python with google Colab\n",
        "\n",
        "Python code can then be compiled and executed on all devices on which Python is installed. A particularly convenient way to run Python code are so-called Jupyter notebooks, like this one. Here, the code is divided into two types of cells. \n",
        "\n",
        "### Text cells \n",
        "are used to comment the code. These can be formatted attractively using a markup language called [Markdown](https://www.markdownguide.org/getting-started/). \n",
        "\n",
        "✍️ **Double click** this cell to see the original text of the markup language. With the key combination `Shift` + `Enter` you can display again in display mode.\n",
        "\n",
        "### Code cells\n",
        "\n",
        "Contain the Python code. The code inside a cell can be executed with the key combination ``Shift`` + ``Enter``, among others. The result of the last line is then output.\n",
        "\n"
      ]
    },
    {
      "cell_type": "code",
      "execution_count": 1,
      "metadata": {
        "colab": {
          "base_uri": "https://localhost:8080/"
        },
        "id": "Tyn5U-upNSRk",
        "outputId": "c057432a-caa7-4b0f-ed1f-37074ab1db7b"
      },
      "outputs": [
        {
          "name": "stdout",
          "output_type": "stream",
          "text": [
            "Hello, World!\n"
          ]
        }
      ],
      "source": [
        "print(\"Hello, World!\")"
      ]
    },
    {
      "cell_type": "markdown",
      "metadata": {
        "id": "eaaWAU-dvJm1"
      },
      "source": [
        "### 🏁 Recap\n",
        "\n",
        "- If you have finished the tasks and have no questions, place the green card on top.\n",
        "- If you have finished the tasks but would like to discuss the solutions together again, place the yellow card on top.\n",
        "\n",
        "![](https://www.lokalinfo.ch/fileadmin/news_import/image003_03.jpg)"
      ]
    },
    {
      "cell_type": "markdown",
      "metadata": {
        "id": "t3FAWUCHAHMo"
      },
      "source": [
        "## 1.2.1.2 Basic elements of Python code"
      ]
    },
    {
      "cell_type": "markdown",
      "metadata": {
        "id": "26O5LY00NOA7"
      },
      "source": [
        "✍️ **Task**\n",
        "\n",
        "Test this cell by executing the following code cell. In addition, insert another cell to also output the result of the first line."
      ]
    },
    {
      "cell_type": "code",
      "execution_count": 1,
      "metadata": {
        "colab": {
          "base_uri": "https://localhost:8080/"
        },
        "id": "GlHGELpqq1dI",
        "outputId": "3f0c82b8-db78-4bb1-f1dd-a044c47f46f3"
      },
      "outputs": [
        {
          "data": {
            "text/plain": [
              "3"
            ]
          },
          "execution_count": 1,
          "metadata": {},
          "output_type": "execute_result"
        }
      ],
      "source": [
        "# Execute this cell <- This line is a comment and therefore ignored by Python\n",
        "4+4\n",
        "1+2"
      ]
    },
    {
      "cell_type": "code",
      "execution_count": 3,
      "metadata": {},
      "outputs": [
        {
          "data": {
            "text/plain": [
              "8"
            ]
          },
          "execution_count": 3,
          "metadata": {},
          "output_type": "execute_result"
        }
      ],
      "source": [
        "4+4"
      ]
    },
    {
      "cell_type": "markdown",
      "metadata": {},
      "source": [
        "✍️ **Task**: Also, insert two more cells, and type `4+4` in one, `1+2` in the next, to output both results. You insert cells by moving the mouse between two existing cells and selecting the cell type via `Code` or `Markdown`."
      ]
    },
    {
      "cell_type": "markdown",
      "metadata": {
        "id": "MDNp4xIRuhyy"
      },
      "source": [
        "---\n",
        "\n",
        "### Commands\n",
        "\n",
        "Programming languages know certain code words (commands) that ask the computer to perform certain actions. \n",
        "For example, the ``print()`` command forces the output of a result.\n",
        "\n"
      ]
    },
    {
      "cell_type": "code",
      "execution_count": null,
      "metadata": {
        "colab": {
          "base_uri": "https://localhost:8080/"
        },
        "id": "shOFm-c3rGEp",
        "outputId": "739c7e50-37b7-436e-874c-95e50ece7c6f"
      },
      "outputs": [
        {
          "name": "stdout",
          "output_type": "stream",
          "text": [
            "1\n",
            "2\n"
          ]
        }
      ],
      "source": [
        "print(1)\n",
        "print(2)"
      ]
    },
    {
      "cell_type": "markdown",
      "metadata": {
        "id": "CgQueQm8mxMu"
      },
      "source": [
        "✍️ **Task**: Use the `print()` function to output the results of both additions (`4+4`) and (`1+2`) in one cell each by typing the two additions between the parentheses of the respective `print()` functions.\n",
        "\n",
        "\n",
        "```\n",
        "4+4\n",
        "1+2\n",
        "```\n"
      ]
    },
    {
      "cell_type": "code",
      "execution_count": null,
      "metadata": {},
      "outputs": [],
      "source": [
        "# Enter solution here!"
      ]
    },
    {
      "cell_type": "markdown",
      "metadata": {},
      "source": [
        "### Sample solutions\n",
        "\n",
        "Most of the tasks in these notebooks have sample solutions. When they open the notebook in Google Colab, they are hidden at first."
      ]
    },
    {
      "cell_type": "code",
      "execution_count": 1,
      "metadata": {
        "id": "Mfthe_o0rIoJ"
      },
      "outputs": [
        {
          "name": "stdout",
          "output_type": "stream",
          "text": [
            "8\n",
            "3\n"
          ]
        }
      ],
      "source": [
        "#@title ❓ Click `Show code` in the code cell to show the solution. { display-mode: \"form\" }\n",
        "print(4+4)\n",
        "print(1+2)"
      ]
    },
    {
      "cell_type": "markdown",
      "metadata": {
        "id": "_Po3n75qTkRJ"
      },
      "source": [
        "---\n",
        "\n",
        "### Variables\n",
        "\n",
        "While most calculators store just the last result (```ANS```), computers can store lots of information in different variables. In the following example we add a variable named ```message```. Every variable holds a value, which is the information associated with that variable. In this case the value is the text `“Hello, Python World!”`\n",
        "\n",
        "\n"
      ]
    },
    {
      "cell_type": "code",
      "execution_count": null,
      "metadata": {
        "id": "puWVtuVITj0a"
      },
      "outputs": [],
      "source": [
        "message = \"Hello, Python World!\"\n",
        "print(message)"
      ]
    },
    {
      "cell_type": "markdown",
      "metadata": {
        "id": "cuSN5IqSUnu5"
      },
      "source": [
        "You can change the value of a variable in your program at any time,\n",
        "and Python will always keep track of its current value. In the following line the value of the variable is changed, so that the command ```print(message)``` gives different results."
      ]
    },
    {
      "cell_type": "code",
      "execution_count": 3,
      "metadata": {
        "colab": {
          "base_uri": "https://localhost:8080/"
        },
        "id": "wvAaUbWkUpx3",
        "outputId": "d3d79f67-a3f7-4a8e-fa53-fdedded7124f"
      },
      "outputs": [
        {
          "name": "stdout",
          "output_type": "stream",
          "text": [
            "Hello Python world!\n",
            "Hello Python Crash Course world!\n"
          ]
        }
      ],
      "source": [
        "message = \"Hello Python world!\"\n",
        "print(message)\n",
        "\n",
        "message = \"Hello Python Crash Course world!\"\n",
        "print(message)\n",
        "\n",
        "message_2 = \"Hello, Programmer!\""
      ]
    },
    {
      "cell_type": "markdown",
      "metadata": {
        "id": "ayKJTTilVHCH"
      },
      "source": [
        "Within a notebook, the variables are stored in the background and can be overwritten the cell executed last.\n",
        "\n",
        "Therefore, it is good practice to execute all cells from top to the bottom of the notebook in the right order so that nothing unexpected is stored in the variable.\n",
        "\n",
        "✍️ **Task**: \n",
        "In the next cell, print the the value of ```message``` so see what is stored in the variable.  "
      ]
    },
    {
      "cell_type": "code",
      "execution_count": null,
      "metadata": {},
      "outputs": [],
      "source": []
    },
    {
      "cell_type": "code",
      "execution_count": 2,
      "metadata": {
        "id": "PnUtBwToUqpq"
      },
      "outputs": [
        {
          "ename": "NameError",
          "evalue": "name 'message' is not defined",
          "output_type": "error",
          "traceback": [
            "\u001b[1;31m---------------------------------------------------------------------------\u001b[0m",
            "\u001b[1;31mNameError\u001b[0m                                 Traceback (most recent call last)",
            "\u001b[1;32m<ipython-input-2-3337afa79dc7>\u001b[0m in \u001b[0;36m<module>\u001b[1;34m\u001b[0m\n\u001b[0;32m      1\u001b[0m \u001b[1;31m#@title ❓ Click `Show code` in the code cell to show the solution. { display-mode: \"form\" }\u001b[0m\u001b[1;33m\u001b[0m\u001b[1;33m\u001b[0m\u001b[1;33m\u001b[0m\u001b[0m\n\u001b[0;32m      2\u001b[0m \u001b[1;33m\u001b[0m\u001b[0m\n\u001b[1;32m----> 3\u001b[1;33m \u001b[0mprint\u001b[0m\u001b[1;33m(\u001b[0m\u001b[0mmessage\u001b[0m\u001b[1;33m)\u001b[0m\u001b[1;33m\u001b[0m\u001b[1;33m\u001b[0m\u001b[0m\n\u001b[0m",
            "\u001b[1;31mNameError\u001b[0m: name 'message' is not defined"
          ]
        }
      ],
      "source": [
        "#@title ❓ Click `Show code` in the code cell to show the solution. { display-mode: \"form\" }\n",
        "\n",
        "print(message)"
      ]
    },
    {
      "cell_type": "markdown",
      "metadata": {},
      "source": [
        "The states stored in the variables will be lost with the restart the Jupyter Notebook.\n",
        "\n",
        "✍️ **Task**: Run the cell down here to display the message. At the top of the menu bar, select `Runtime` \\ `Restart Runtime` and run the cell again. As a result, an error message should appear because the variable is no longer defined after restarting the runtime."
      ]
    },
    {
      "cell_type": "code",
      "execution_count": 4,
      "metadata": {},
      "outputs": [
        {
          "name": "stdout",
          "output_type": "stream",
          "text": [
            "Hello Python Crash Course world!\n"
          ]
        }
      ],
      "source": [
        "print(message)"
      ]
    },
    {
      "cell_type": "markdown",
      "metadata": {
        "id": "5zz5UikMV84b"
      },
      "source": [
        "#### Variable Explorer\n",
        "\n",
        "Another why to check the status of the variables is to use a *variable explorer*. Navigate to the left and of the window and click ${\\{x\\}}$ to see a table with all the variables.\n",
        "\n",
        "You see that we only have one variable ```message``` that has a *type* string, which means it is a sequence of characters. "
      ]
    },
    {
      "cell_type": "markdown",
      "metadata": {
        "id": "WRrQ8B_4Wuqm"
      },
      "source": [
        "#### Naming and Using Variables\n",
        "\n",
        "When you’re using variables in Python, you need to adhere to a few rules\n",
        "and guidelines. Breaking some of these rules will cause errors; other guidelines just help you write code that’s easier to read and understand. Be sure\n",
        "to keep the following variable rules in mind:\n",
        "\n",
        "- Variable names can contain only letters, numbers, and underscores.\n",
        "They can start with a letter or an underscore, but not with a number.\n",
        "For instance, you can call a variable ```message_1``` but not ```1_message```.\n",
        "- Spaces are not allowed in variable names, but underscores can be used\n",
        "to separate words in variable names. For example, ```greeting_message works```, but ```greeting message``` will cause errors.\n",
        "- Avoid using Python keywords and function names as variable names;\n",
        "that is, do not use words that Python has reserved for a particular programmatic purpose, such as the word ```print```. (See Python Keywords\n",
        "and Built-in Functions on page 489 of the book.)\n",
        "- Variable names should be short but descriptive. For example, ```name``` is better than ```n```, ```student_name``` is better than ```s_n```, and ```name_length``` is better than ```length_of_persons_name```.\n",
        "- Be careful when using the lowercase letter ```l``` and the uppercase letter ```O``` because they could be confused with the numbers ```1``` and ```0```."
      ]
    },
    {
      "cell_type": "markdown",
      "metadata": {
        "id": "oJt8b875XgQU"
      },
      "source": [
        "#### Avoiding Name Errors When Using Variables\n",
        "\n",
        "Every programmer makes mistakes, and most make mistakes every day.\n",
        "Although good programmers might create errors, they also know how to\n",
        "respond to those errors efficiently. Let’s look at an error you’re likely to make early on and learn how to fix it.\n",
        "\n",
        "We’ll write some code that generates an error on purpose. Enter the\n",
        "following code, including the misspelled word mesage shown in bold:"
      ]
    },
    {
      "cell_type": "code",
      "execution_count": null,
      "metadata": {
        "colab": {
          "base_uri": "https://localhost:8080/",
          "height": 182
        },
        "id": "ubYv40gsXnw0",
        "outputId": "8e13200f-51bb-4f91-aec9-bec0ba3126c5"
      },
      "outputs": [
        {
          "ename": "NameError",
          "evalue": "ignored",
          "output_type": "error",
          "traceback": [
            "\u001b[0;31m---------------------------------------------------------------------------\u001b[0m",
            "\u001b[0;31mNameError\u001b[0m                                 Traceback (most recent call last)",
            "\u001b[0;32m<ipython-input-6-c8f2adeaed02>\u001b[0m in \u001b[0;36m<module>\u001b[0;34m()\u001b[0m\n\u001b[1;32m      1\u001b[0m \u001b[0mmessage\u001b[0m \u001b[0;34m=\u001b[0m \u001b[0;34m\"Hello Python Crash Course reader!\"\u001b[0m\u001b[0;34m\u001b[0m\u001b[0;34m\u001b[0m\u001b[0m\n\u001b[0;32m----> 2\u001b[0;31m \u001b[0mprint\u001b[0m\u001b[0;34m(\u001b[0m\u001b[0mmesage\u001b[0m\u001b[0;34m)\u001b[0m\u001b[0;34m\u001b[0m\u001b[0;34m\u001b[0m\u001b[0m\n\u001b[0m",
            "\u001b[0;31mNameError\u001b[0m: name 'mesage' is not defined"
          ]
        }
      ],
      "source": [
        "message = \"Hello Python Crash Course reader!\"\n",
        "print(mesage)"
      ]
    },
    {
      "cell_type": "markdown",
      "metadata": {
        "id": "gwjiaynGXq3O"
      },
      "source": [
        "When an error occurs in your program, the Python interpreter does its\n",
        "best to help you figure out where the problem is. The interpreter provides a traceback when a program cannot run successfully. A traceback is a record of where the interpreter ran into trouble when trying to execute your code.\n",
        "Here’s an example of the traceback that Python provides after you’ve accidentally misspelled a variable’s name:\n",
        "\n",
        "```NameError: name 'mesage' is not defined```\n",
        "\n",
        "The output at of the error message reports that an error occurs in *line 2*. The interpreter shows this line to help us spot the error quickly and tells us what kind of error it found (*NameError*). In this case it found a name error and reports that the variable being printed, message, has not been defined. Python can’t identify the variable name provided. A name error usually means we either forgot to set a variable’s value before using it, or we made a spelling mistake when entering the variable’s name.\n",
        "\n",
        "✍️ **Task**: Use a search engine to search for `NameError: name 'mesage' is not defined` and look at the first hits. Would what is discussed here help you?\n",
        "\n",
        "✍️ **Task**: In the next cell, fix the name error to print the result."
      ]
    },
    {
      "cell_type": "code",
      "execution_count": 7,
      "metadata": {
        "id": "i6YKS-N_XoMW"
      },
      "outputs": [
        {
          "name": "stdout",
          "output_type": "stream",
          "text": [
            "Hello Python Crash Course reader!\n"
          ]
        }
      ],
      "source": [
        "message = \"Hello Python Crash Course reader!\"\n",
        "print(message)"
      ]
    },
    {
      "cell_type": "markdown",
      "metadata": {
        "id": "8tuP5Gh0uTQ_"
      },
      "source": [
        "### 🏁 Recap\n",
        "\n",
        "- If you have finished the tasks and have no questions, place the green card on top.\n",
        "- If you have finished the tasks but would like to discuss the solutions together again, place the yellow card on top.\n",
        "\n",
        "![](https://www.lokalinfo.ch/fileadmin/news_import/image003_03.jpg)"
      ]
    },
    {
      "cell_type": "markdown",
      "metadata": {
        "id": "1Rd0i1-uY-Mm"
      },
      "source": [
        "---\n",
        "\n",
        "## 1.2.1.3 Data Types\n",
        "\n",
        "So far, we only stored characters (e.g.m ```\"Hello World\"```) in a varible. Besides, variables can hold all kind of information like numbers, bits and others.\n",
        "\n",
        "- Primitive data types are a set of basic data types from which all other data types are constructed.\n",
        "- Containers are composed from primitive data to hold more complex information.\n",
        "\n",
        "![](https://i.imgur.com/6cg2E9Q.png)\n"
      ]
    },
    {
      "cell_type": "markdown",
      "metadata": {
        "id": "eF5VnKbGadh_"
      },
      "source": [
        "### Strings\n",
        "\n",
        "A string is simply a series of characters. Anything inside quotes is considered a string in Python, and you can use single or double quotes around your strings like this:\n"
      ]
    },
    {
      "cell_type": "markdown",
      "metadata": {
        "id": "y37wLUdYkAO3"
      },
      "source": [
        "Besides the variable explorer, we can use the ```type()``` method to check the type of a variable"
      ]
    },
    {
      "cell_type": "code",
      "execution_count": null,
      "metadata": {
        "colab": {
          "base_uri": "https://localhost:8080/"
        },
        "id": "2Uv8XkBsj6Fh",
        "outputId": "f2ba216c-d74f-4935-b855-2cafcdc6569f"
      },
      "outputs": [
        {
          "data": {
            "text/plain": [
              "str"
            ]
          },
          "execution_count": 29,
          "metadata": {},
          "output_type": "execute_result"
        }
      ],
      "source": [
        "a_string = 'This is also a string.'\n",
        "type(a_string)"
      ]
    },
    {
      "cell_type": "code",
      "execution_count": null,
      "metadata": {
        "colab": {
          "base_uri": "https://localhost:8080/",
          "height": 36
        },
        "id": "ku6rc8rKacvm",
        "outputId": "7d637fed-d8da-4404-dbe8-3020a295d94b"
      },
      "outputs": [
        {
          "data": {
            "application/vnd.google.colaboratory.intrinsic+json": {
              "type": "string"
            },
            "text/plain": [
              "'This is also a string.'"
            ]
          },
          "execution_count": 7,
          "metadata": {},
          "output_type": "execute_result"
        }
      ],
      "source": [
        "\"This is a string.\"\n",
        "'This is also a string.'"
      ]
    },
    {
      "cell_type": "markdown",
      "metadata": {
        "id": "04W-UHHVan11"
      },
      "source": [
        "This flexibility allows you to use quotes and apostrophes within your strings:"
      ]
    },
    {
      "cell_type": "code",
      "execution_count": null,
      "metadata": {
        "colab": {
          "base_uri": "https://localhost:8080/",
          "height": 36
        },
        "id": "d2sNqUlNanON",
        "outputId": "e616e652-3be6-42c6-b1ea-98315a09c29d"
      },
      "outputs": [
        {
          "data": {
            "application/vnd.google.colaboratory.intrinsic+json": {
              "type": "string"
            },
            "text/plain": [
              "\"One of Python's strengths is its diverse and supportive community.\""
            ]
          },
          "execution_count": 8,
          "metadata": {},
          "output_type": "execute_result"
        }
      ],
      "source": [
        "'I told my friend, \"Python is my favorite language!\"'\n",
        "\"The language 'Python' is named after Monty Python, not the snake.\"\n",
        "\"One of Python's strengths is its diverse and supportive community.\""
      ]
    },
    {
      "cell_type": "markdown",
      "metadata": {
        "id": "Y2GLNm-Wa1qe"
      },
      "source": [
        "#### Changing Case in a String with Methods\n",
        "\n",
        "One of the simplest tasks you can do with strings is change the case of the words in a string. Look at the following code, and try to determine what’s happening:\n",
        "\n",
        "Who was [Ada Lovelace](https://de.wikipedia.org/wiki/Ada_Lovelace)? "
      ]
    },
    {
      "cell_type": "code",
      "execution_count": null,
      "metadata": {
        "colab": {
          "base_uri": "https://localhost:8080/"
        },
        "id": "ngBXBz1MZFQd",
        "outputId": "09c6f7db-1dc4-4142-9386-e42309b7cd6f"
      },
      "outputs": [
        {
          "name": "stdout",
          "output_type": "stream",
          "text": [
            "Ada Lovelace\n"
          ]
        }
      ],
      "source": [
        "name = \"ada lovelace\"\n",
        "print(name.title())"
      ]
    },
    {
      "cell_type": "markdown",
      "metadata": {
        "id": "C3xpdAsqbAIe"
      },
      "source": [
        "In this example, the lowercase string ```\"ada lovelace\"``` is stored in the variable name. The method ```title()``` appears after the variable in the ```print()``` statement.\n",
        "A method is an action that Python can perform on a piece of data. The\n",
        "dot (.) after name in ```name.title()``` tells Python to make the ```title()``` method act on the variable name. Every method is followed by a set of parentheses, because methods often need additional information to do their work.\n",
        "That information is provided inside the parentheses. The ```title()``` function doesn’t need any additional information, so its parentheses are empty.\n",
        "```title()``` displays each word in titlecase, where each word begins with a capital letter. This is useful because you’ll often want to think of a name as a piece of information."
      ]
    },
    {
      "cell_type": "markdown",
      "metadata": {
        "id": "OXKpbsIUbc9u"
      },
      "source": [
        "✍️ **Task:**\n",
        "\n",
        "Deoxyribonucleic acid (DNA) is the molecule that carries most of the genetic information of an organism. Nucleotides (conventionally represented by the letters A, C, G or T) are the basic units of DNA molecules. Therefore, DNA-Sequences can be easily stored in a string. \n",
        "\n",
        "```\"GCAAACAAACAACAAACAACAAACAACAAACAACAAACAACAAACAACAAACAAT\"```\n",
        "\n",
        "Not all the information in an DNA-sequence has the same importance. Some parts of the sequence are repetitive or contain only sparse information. \n",
        "\n",
        "A common way of indicating such segments is masking. With hard masking, the sequences are overwritten with another letter (N for nucleotides or X for proteins). With soft masking the unimportant parts are written in lower case (a, c,g, t instead of A, C, G or T) [see](https://drive5.com/usearch/manual/masking.html#:~:text=Soft%20masking%20indicates%20masked%20regions,nucleotides%20or%20X%20for%20proteins.&text=In%20USEARCH%2C%20masking%20is%20used,excluding%20seeds%20or%20word%20matches.).\n",
        "\n",
        "Store the sequence above in a variable called ```dns_sequence_original``` and store a soft masked version in the variable ```dns_sequence_soft_masked```. Test the following methods to reach Your goal.\n",
        "\n",
        "- `capitalize()`\n",
        "- `istitle()`\n",
        "- `isupper()`\n",
        "- `split()`\n",
        "- `upper()`\n",
        "- `lower()`"
      ]
    },
    {
      "cell_type": "code",
      "execution_count": 5,
      "metadata": {},
      "outputs": [],
      "source": [
        "dns_sequence_original = \"GCAAACAAACAACAAACAACAAACAACAAACAACAAACAACAAACAACAAACAAT\""
      ]
    },
    {
      "cell_type": "code",
      "execution_count": 6,
      "metadata": {
        "id": "L9-0EBKyZBWl"
      },
      "outputs": [
        {
          "data": {
            "text/plain": [
              "'gcaaacaaacaacaaacaacaaacaacaaacaacaaacaacaaacaacaaacaat'"
            ]
          },
          "execution_count": 6,
          "metadata": {},
          "output_type": "execute_result"
        }
      ],
      "source": [
        "#@title ❓ Click `Show code` in the code cell to show the solution. { display-mode: \"form\" }\n",
        "\n",
        "dns_sequence_soft_masked = dns_sequence_original.lower()\n",
        "dns_sequence_soft_masked"
      ]
    },
    {
      "cell_type": "markdown",
      "metadata": {
        "id": "WkriUwP7hWxO"
      },
      "source": [
        "#### Combining or Concatenating Strings\n",
        "\n",
        "It’s often useful to combine strings. For example, you might want to store a first name and a last name in separate variables, and then combine them when you want to display someone’s full name.\n",
        "\n",
        "Python uses the plus symbol (```+```) to combine strings. In this example, we use ```+``` to create a full name by combining a ```first_name```, a space, and a ```last_name```, giving this result:\n"
      ]
    },
    {
      "cell_type": "code",
      "execution_count": null,
      "metadata": {
        "colab": {
          "base_uri": "https://localhost:8080/"
        },
        "id": "jHQG6buZe8C3",
        "outputId": "156c15b5-f257-4349-8f3c-a8ff4d8335b5"
      },
      "outputs": [
        {
          "name": "stdout",
          "output_type": "stream",
          "text": [
            "ada lovelace\n"
          ]
        }
      ],
      "source": [
        "first_name = \"ada\"\n",
        "last_name = \"lovelace\"\n",
        "full_name = first_name + \" \" + last_name\n",
        "print(full_name)"
      ]
    },
    {
      "cell_type": "markdown",
      "metadata": {
        "id": "7S5WriXQhweQ"
      },
      "source": [
        "Here, the full name is used at u in a sentence that greets the user, and\n",
        "the ```title()``` method is used to format the name appropriately. This code returns a simple but nicely formatted greeting:"
      ]
    },
    {
      "cell_type": "code",
      "execution_count": null,
      "metadata": {
        "colab": {
          "base_uri": "https://localhost:8080/"
        },
        "id": "tfe0rRExhVhk",
        "outputId": "896038cb-0f33-4f33-caae-fbbd70ea1f98"
      },
      "outputs": [
        {
          "name": "stdout",
          "output_type": "stream",
          "text": [
            "Hello, Ada Lovelace!\n"
          ]
        }
      ],
      "source": [
        "print(\"Hello, \" + full_name.title() + \"!\")"
      ]
    },
    {
      "cell_type": "markdown",
      "metadata": {
        "id": "vlb_8YFIiMnB"
      },
      "source": [
        "Another way to build strings from variables is the ```format()``` method. Within the sting a ```{}``` works as a placeholder for what is defined in the ```format()``` method."
      ]
    },
    {
      "cell_type": "code",
      "execution_count": null,
      "metadata": {
        "colab": {
          "base_uri": "https://localhost:8080/"
        },
        "id": "k7Uf77OFhuNm",
        "outputId": "03494735-b4d0-49d6-8694-54fc308cd20a"
      },
      "outputs": [
        {
          "name": "stdout",
          "output_type": "stream",
          "text": [
            "Hello, Ada Lovelace!\n"
          ]
        }
      ],
      "source": [
        "subject_name = \"Ada Lovelace\"\n",
        "\n",
        "print(\"Hello, {}!\".format(subject_name))"
      ]
    },
    {
      "cell_type": "markdown",
      "metadata": {
        "id": "s_3TkjQSiyd_"
      },
      "source": [
        "🏆 **Task**\n",
        "\n",
        "- Personal Message: Store a person’s first and last name in two variables, and print a message to that person. Your message should be simple, such as, `“Hello Eric Matthes, would you like to learn some Python today?”`\n",
        "- Name Cases: Store the person’s full name in a variable and then print that person’s name in and title case.\n",
        "\n"
      ]
    },
    {
      "cell_type": "code",
      "execution_count": null,
      "metadata": {},
      "outputs": [],
      "source": []
    },
    {
      "cell_type": "code",
      "execution_count": 7,
      "metadata": {
        "id": "M_UY3JSMnkfI"
      },
      "outputs": [
        {
          "name": "stdout",
          "output_type": "stream",
          "text": [
            "Hello, Julian Huber!\n"
          ]
        }
      ],
      "source": [
        "#@title ❓ Click `Show code` in the code cell to show the solution. { display-mode: \"form\" }\n",
        "\n",
        "first_name = \"julian\"\n",
        "last_name = \"huber\"\n",
        "subject_name = \"{} {}\".format(first_name, last_name).title()\n",
        "\n",
        "print(\"Hello, {}!\".format(subject_name))"
      ]
    },
    {
      "cell_type": "markdown",
      "metadata": {
        "id": "BL6plehJOGaa"
      },
      "source": [
        "🤓 **Bonus-Task**\n",
        "\n",
        "-  Famous Quote: Find a quote from a famous person you admire. Print the\n",
        "quote and the name of its author. Your output should look something like the following, including the quotation marks: `Albert Einstein once said, \"A person who never made a mistake never tried anything new.\"`\n",
        "\n",
        "- Putting Quote in to a string might require some [googling](https://www.google.com/search?q=quotation+marks+in+string+python&biw=1920&bih=1061&sxsrf=ALiCzsb0ZHwi8RazKZO4nt8zwDmR2-lDPw%3A1663582243384&ei=I0AoY5yOF4fbkwWIr6LADQ&oq=quotation+marks+in+string&gs_lcp=Cgdnd3Mtd2l6EAMYADIFCAAQgAQyBQgAEIAEMgUIABCABDIFCAAQgAQyBQgAEIAEMgYIABAeEBYyBggAEB4QFjIGCAAQHhAWMgYIABAeEBYyBggAEB4QFjoECAAQRzoECCMQJzoKCC4QxwEQ0QMQJzoKCC4QxwEQ0QMQQzoLCC4QgAQQxwEQ0QM6BQguEIAEOgUIABCRAjoICC4QgAQQ1AI6DgguEIAEEMcBEK8BENQCOgUIABDLAToHCCMQ6gIQJzoHCAAQChCRAjoFCC4QkQJKBAhBGABKBAhGGABQpChY_Wdg7XBoB3ADeACAAYwBiAHbGJIBBTIxLjExmAEAoAEBsAEKyAEIwAEB&sclient=gws-wiz)\n"
      ]
    },
    {
      "cell_type": "code",
      "execution_count": null,
      "metadata": {},
      "outputs": [],
      "source": []
    },
    {
      "cell_type": "code",
      "execution_count": 9,
      "metadata": {},
      "outputs": [
        {
          "name": "stdout",
          "output_type": "stream",
          "text": [
            "Richard Feynman once said: \"There is plenty of space at the bottom.\"\n"
          ]
        }
      ],
      "source": [
        "#@title ❓ Click `Show code` in the code cell to show the solution. { display-mode: \"form\" }\n",
        "\n",
        "subject_name = \"Richard Feynman\"\n",
        "quote = \"There is plenty of space at the bottom.\"\n",
        "print('{} once said: \"{}\"'.format(subject_name.title(), quote))"
      ]
    },
    {
      "cell_type": "markdown",
      "metadata": {
        "id": "nz7xUALpi_B7"
      },
      "source": [
        "### Numbers\n",
        "\n",
        "Numbers are used quite often in programming to keep score in games, represent data in visualizations, store information in web applications, and so on. Python treats numbers in several different ways, depending on how they are being used. Let’s first look at how Python manages integers, because\n",
        "they are the simplest to work with."
      ]
    },
    {
      "cell_type": "markdown",
      "metadata": {
        "id": "mICEq3b2jGcU"
      },
      "source": [
        "#### Integers\n",
        "\n",
        "Any number without decimal places is automatically interpreted by Python as an integer. Integers have a theoretically unlimited value range in Python, in practice this is limited by the available working memory.\n",
        "\n",
        "In Python, all arithmetic and comparison operations can be used for integers.\n",
        "\n",
        "You can add (+), subtract (-), multiply (*), and divide (/) integers in Python."
      ]
    },
    {
      "cell_type": "code",
      "execution_count": 10,
      "metadata": {
        "colab": {
          "base_uri": "https://localhost:8080/"
        },
        "id": "UGfbuzNwiHFo",
        "outputId": "57866caf-fd06-4f81-97dd-db02c0d0626f"
      },
      "outputs": [
        {
          "data": {
            "text/plain": [
              "5"
            ]
          },
          "execution_count": 10,
          "metadata": {},
          "output_type": "execute_result"
        }
      ],
      "source": [
        "2 + 3"
      ]
    },
    {
      "cell_type": "code",
      "execution_count": 11,
      "metadata": {
        "colab": {
          "base_uri": "https://localhost:8080/"
        },
        "id": "4WF2dlrQjKfd",
        "outputId": "82499bfb-5f82-4a12-d976-94490f7de5de"
      },
      "outputs": [
        {
          "data": {
            "text/plain": [
              "1"
            ]
          },
          "execution_count": 11,
          "metadata": {},
          "output_type": "execute_result"
        }
      ],
      "source": [
        "3 - 2"
      ]
    },
    {
      "cell_type": "code",
      "execution_count": 12,
      "metadata": {
        "colab": {
          "base_uri": "https://localhost:8080/"
        },
        "id": "1lz7kH-bjLn8",
        "outputId": "b443b340-82b2-4e73-da18-ec92375130a5"
      },
      "outputs": [
        {
          "data": {
            "text/plain": [
              "6"
            ]
          },
          "execution_count": 12,
          "metadata": {},
          "output_type": "execute_result"
        }
      ],
      "source": [
        "2 * 3"
      ]
    },
    {
      "cell_type": "code",
      "execution_count": 13,
      "metadata": {
        "colab": {
          "base_uri": "https://localhost:8080/"
        },
        "id": "EKbF-ChajN0p",
        "outputId": "0b6ffe81-460d-4a77-8579-7d5d0f212e0e"
      },
      "outputs": [
        {
          "data": {
            "text/plain": [
              "1.5"
            ]
          },
          "execution_count": 13,
          "metadata": {},
          "output_type": "execute_result"
        }
      ],
      "source": [
        "3 / 2"
      ]
    },
    {
      "cell_type": "markdown",
      "metadata": {
        "id": "6vI7KZqLjUOG"
      },
      "source": [
        "Python uses two multiplication symbols to represent exponents:"
      ]
    },
    {
      "cell_type": "code",
      "execution_count": 14,
      "metadata": {
        "colab": {
          "base_uri": "https://localhost:8080/"
        },
        "id": "ZKXahTicjOLM",
        "outputId": "a0207288-afdf-4024-ecea-e4cd9087c634"
      },
      "outputs": [
        {
          "data": {
            "text/plain": [
              "27"
            ]
          },
          "execution_count": 14,
          "metadata": {},
          "output_type": "execute_result"
        }
      ],
      "source": [
        "3 ** 3"
      ]
    },
    {
      "cell_type": "markdown",
      "metadata": {
        "id": "oEXQcJgxjZGN"
      },
      "source": [
        "Python supports the order of operations too, so you can use multiple\n",
        "operations in one expression. You can also use parentheses to modify the\n",
        "order of operations so Python can evaluate your expression in the order\n",
        "you specify. For example:"
      ]
    },
    {
      "cell_type": "code",
      "execution_count": 15,
      "metadata": {
        "colab": {
          "base_uri": "https://localhost:8080/"
        },
        "id": "uNIsEFc9jYOm",
        "outputId": "417d67ca-5d29-4d06-fb8f-1e2dfd92fcb3"
      },
      "outputs": [
        {
          "data": {
            "text/plain": [
              "14"
            ]
          },
          "execution_count": 15,
          "metadata": {},
          "output_type": "execute_result"
        }
      ],
      "source": [
        "2 + 3*4"
      ]
    },
    {
      "cell_type": "code",
      "execution_count": 16,
      "metadata": {
        "colab": {
          "base_uri": "https://localhost:8080/"
        },
        "id": "GDlDc8r8jV0c",
        "outputId": "8f27dcc1-9bdd-4029-a6c1-1e650965b41c"
      },
      "outputs": [
        {
          "data": {
            "text/plain": [
              "20"
            ]
          },
          "execution_count": 16,
          "metadata": {},
          "output_type": "execute_result"
        }
      ],
      "source": [
        "(2 + 3) * 4"
      ]
    },
    {
      "cell_type": "markdown",
      "metadata": {
        "id": "cvjec0RQkW9N"
      },
      "source": [
        "#### Floats\n",
        "\n",
        "Any number with decimal places is automatically interpreted by Python as a floating-point number. Python uses 64-bit numbers in IEEE 754 format for floating-point numbers, i.e. the value range of floating-point numbers goes from $\\approx 2.23\\cdot 10^{-308}$ to $\\approx 1.78\\cdot 10^{308}$.\n",
        " \n",
        "In Python, all arithmetic and comparison operations can be used for floating point numbers.\n",
        "\n",
        "*Caution*: Computers store the numbers in a limited amount of storage space. Therefore, they are not 100% precise. Small numerical errors could add a in complex calculations.\n",
        "\n"
      ]
    },
    {
      "cell_type": "code",
      "execution_count": null,
      "metadata": {
        "colab": {
          "base_uri": "https://localhost:8080/"
        },
        "id": "3aRqOks4jbot",
        "outputId": "a95befaa-44d6-410f-e681-2a4230b8f0a6"
      },
      "outputs": [
        {
          "name": "stdout",
          "output_type": "stream",
          "text": [
            "34.3 + 56.4 = 90.69999999999999\n"
          ]
        },
        {
          "data": {
            "text/plain": [
              "float"
            ]
          },
          "execution_count": 30,
          "metadata": {},
          "output_type": "execute_result"
        }
      ],
      "source": [
        "# Eine Addition mit Gleitkommazahlen\n",
        "# 34.3 + 56.4 ergibt normalerweise 90.7\n",
        "# Aufgrund von Darstellungsfehlern bei Gleitkommazahlen ist das Ergebnis hier aber 90.69999999999999\n",
        "b = 34.3 + 56.4\n",
        "print(\"34.3 + 56.4 =\", b)\n",
        "type(b)"
      ]
    },
    {
      "cell_type": "markdown",
      "metadata": {
        "id": "4m0Jxu99lODb"
      },
      "source": [
        "### Avoiding Type Errors with the str() Function\n",
        "\n",
        "Often, you’ll want to use a variable’s value within a message. For example, say you want to wish someone a happy birthday. You might write code like this:\n"
      ]
    },
    {
      "cell_type": "code",
      "execution_count": null,
      "metadata": {
        "colab": {
          "base_uri": "https://localhost:8080/",
          "height": 200
        },
        "id": "dcmSgQnGkkw8",
        "outputId": "c930dd82-7d91-431b-ca7a-7e4bb7933e3a"
      },
      "outputs": [
        {
          "ename": "TypeError",
          "evalue": "ignored",
          "output_type": "error",
          "traceback": [
            "\u001b[0;31m---------------------------------------------------------------------------\u001b[0m",
            "\u001b[0;31mTypeError\u001b[0m                                 Traceback (most recent call last)",
            "\u001b[0;32m<ipython-input-32-80a141e301d6>\u001b[0m in \u001b[0;36m<module>\u001b[0;34m()\u001b[0m\n\u001b[1;32m      1\u001b[0m \u001b[0mage\u001b[0m \u001b[0;34m=\u001b[0m \u001b[0;36m23\u001b[0m\u001b[0;34m\u001b[0m\u001b[0;34m\u001b[0m\u001b[0m\n\u001b[0;32m----> 2\u001b[0;31m \u001b[0mmessage\u001b[0m \u001b[0;34m=\u001b[0m \u001b[0;34m\"Happy \"\u001b[0m \u001b[0;34m+\u001b[0m \u001b[0mage\u001b[0m \u001b[0;34m+\u001b[0m \u001b[0;34m\"rd Birthday!\"\u001b[0m\u001b[0;34m\u001b[0m\u001b[0;34m\u001b[0m\u001b[0m\n\u001b[0m\u001b[1;32m      3\u001b[0m \u001b[0mprint\u001b[0m\u001b[0;34m(\u001b[0m\u001b[0mmessage\u001b[0m\u001b[0;34m)\u001b[0m\u001b[0;34m\u001b[0m\u001b[0;34m\u001b[0m\u001b[0m\n",
            "\u001b[0;31mTypeError\u001b[0m: can only concatenate str (not \"int\") to str"
          ]
        }
      ],
      "source": [
        "age = 23\n",
        "message = \"Happy \" + age + \"rd Birthday!\"\n",
        "print(message)"
      ]
    },
    {
      "cell_type": "markdown",
      "metadata": {
        "id": "ia6Uo09qlXrb"
      },
      "source": [
        "You might expect this code to print the simple birthday greeting, Happy\n",
        "23rd birthday! But if you run this code, you’ll see that it generates an error. \n",
        "\n",
        "This is a type error. It means Python can’t recognize the kind of information you’re using. In this example Python sees at u that you’re using a variable that has an integer value (`int`), but it’s not sure how to interpret that value. Python knows that the variable could represent either the numerical value 23 or the characters 2 and 3. When you use integers within strings like this, you need to specify explicitly that you want Python to use the integer as a string of characters. You can do this by wrapping the variable in the `str()` function, which tells Python to represent non-string values as strings:\n"
      ]
    },
    {
      "cell_type": "code",
      "execution_count": null,
      "metadata": {
        "colab": {
          "base_uri": "https://localhost:8080/"
        },
        "id": "eG37CFL1lUGc",
        "outputId": "80a26b3c-e985-412f-c271-c50a6cd348d0"
      },
      "outputs": [
        {
          "name": "stdout",
          "output_type": "stream",
          "text": [
            "Happy 23rd Birthday!\n"
          ]
        }
      ],
      "source": [
        "age = 23\n",
        "message = \"Happy \" + str(age) + \"rd Birthday!\"\n",
        "print(message)"
      ]
    },
    {
      "cell_type": "markdown",
      "metadata": {
        "id": "QiEXKjAGl5TK"
      },
      "source": [
        "Changing the type of a variable (here, integer to string) is called casting. We've seen this before, when we worked with numbers. In the following example the integers 3 and 2 were implicitly cast to floating point numbers, to calculate the result, which is a floating point numbers.\n"
      ]
    },
    {
      "cell_type": "code",
      "execution_count": 1,
      "metadata": {
        "colab": {
          "base_uri": "https://localhost:8080/"
        },
        "id": "BP7q2_GQlWpb",
        "outputId": "09ffa349-0b37-4dec-8bab-b3f21d45d5de"
      },
      "outputs": [
        {
          "data": {
            "text/plain": [
              "1.5"
            ]
          },
          "execution_count": 1,
          "metadata": {},
          "output_type": "execute_result"
        }
      ],
      "source": [
        "3 / 2"
      ]
    },
    {
      "cell_type": "markdown",
      "metadata": {
        "id": "Rn2ilmUfmpvr"
      },
      "source": [
        "#### Explicit castings with numbers\n",
        "\n",
        "With the function `int()` any value can be explicitly cast into an integer, if at all possible. The value to be cast is passed as the input parameter.\n",
        "\n",
        "With the function `float()` any value can be explicitly cast into a floating point number, if at all possible. The value to be cast is passed as the input parameter.\n",
        "\n",
        "With the function `complex()` any value can be explicitly cast into a complex number, if at all possible. The value to be cast is passed as the input parameter.\n",
        "\n",
        "✍️ **Task**: check wether You can cast the following variables to int, float, or sting."
      ]
    },
    {
      "cell_type": "code",
      "execution_count": 4,
      "metadata": {},
      "outputs": [],
      "source": [
        "number = \"12\""
      ]
    },
    {
      "cell_type": "code",
      "execution_count": 5,
      "metadata": {
        "id": "7ElNXM1wmpHT"
      },
      "outputs": [
        {
          "name": "stdout",
          "output_type": "stream",
          "text": [
            "12\n",
            "12.0\n",
            "(12+0j)\n"
          ]
        }
      ],
      "source": [
        "#@title ❓ Click `Show code` in the code cell to show the solution. { display-mode: \"form\" }\n",
        "\n",
        "\n",
        "print(int(number))\n",
        "print(float(number))\n",
        "print(complex(number))"
      ]
    },
    {
      "cell_type": "code",
      "execution_count": 6,
      "metadata": {},
      "outputs": [],
      "source": [
        "number = \"1,2\""
      ]
    },
    {
      "cell_type": "code",
      "execution_count": 9,
      "metadata": {
        "id": "lSkK3ElUmVlb"
      },
      "outputs": [],
      "source": [
        "#@title ❓ Click `Show code` in the code cell to show the solution. { display-mode: \"form\" }\n",
        "\n",
        "#print(int(number))\n",
        "#print(float(number))\n",
        "#print(complex(number))"
      ]
    },
    {
      "cell_type": "code",
      "execution_count": 10,
      "metadata": {},
      "outputs": [],
      "source": [
        "number = \"1.2\""
      ]
    },
    {
      "cell_type": "code",
      "execution_count": 12,
      "metadata": {
        "id": "fxq2Nxo8m4k5"
      },
      "outputs": [],
      "source": [
        "#@title ❓ Click `Show code` in the code cell to show the solution. { display-mode: \"form\" }\n",
        "\n",
        "#print(int(number))\n",
        "#print(float(number))\n",
        "#print(complex(number))"
      ]
    },
    {
      "cell_type": "code",
      "execution_count": 13,
      "metadata": {},
      "outputs": [],
      "source": [
        "number = 12"
      ]
    },
    {
      "cell_type": "code",
      "execution_count": 14,
      "metadata": {
        "id": "dqRbgohdm6SB"
      },
      "outputs": [
        {
          "name": "stdout",
          "output_type": "stream",
          "text": [
            "12\n",
            "12.0\n",
            "(12+0j)\n"
          ]
        }
      ],
      "source": [
        "\n",
        "#@title ❓ Click `Show code` in the code cell to show the solution. { display-mode: \"form\" }\n",
        "\n",
        "print(int(number))\n",
        "print(float(number))\n",
        "print(complex(number))"
      ]
    },
    {
      "cell_type": "code",
      "execution_count": null,
      "metadata": {},
      "outputs": [],
      "source": [
        "number = 1,2"
      ]
    },
    {
      "cell_type": "code",
      "execution_count": 15,
      "metadata": {
        "id": "lYxECHB6m8Ri"
      },
      "outputs": [
        {
          "name": "stdout",
          "output_type": "stream",
          "text": [
            "12\n",
            "12.0\n",
            "(12+0j)\n"
          ]
        }
      ],
      "source": [
        "#@title ❓ Click `Show code` in the code cell to show the solution. { display-mode: \"form\" }\n",
        "\n",
        "print(int(number))\n",
        "print(float(number))\n",
        "print(complex(number))"
      ]
    },
    {
      "cell_type": "code",
      "execution_count": 16,
      "metadata": {},
      "outputs": [],
      "source": [
        "number = 1.2"
      ]
    },
    {
      "cell_type": "code",
      "execution_count": 17,
      "metadata": {
        "id": "gpHqlKlEm-oj"
      },
      "outputs": [
        {
          "name": "stdout",
          "output_type": "stream",
          "text": [
            "1\n",
            "1.2\n",
            "(1.2+0j)\n"
          ]
        }
      ],
      "source": [
        "#@title ❓ Click `Show code` in the code cell to show the solution. { display-mode: \"form\" }\n",
        "\n",
        "print(int(number))\n",
        "print(float(number))\n",
        "print(complex(number))\n"
      ]
    },
    {
      "cell_type": "markdown",
      "metadata": {
        "id": "mGSL5vlXurpw"
      },
      "source": [
        "### 🏁 Recap\n",
        "\n",
        "- If you have finished the tasks and have no questions, place the green card on top.\n",
        "- If you have finished the tasks but would like to discuss the solutions together again, place the yellow card on top.\n",
        "\n",
        "![](https://www.lokalinfo.ch/fileadmin/news_import/image003_03.jpg)"
      ]
    },
    {
      "cell_type": "markdown",
      "metadata": {
        "id": "HmIocmB6nvFl"
      },
      "source": [
        "## 1.2.1.4 Calculating with Python\n",
        "\n",
        "Using programming languages for calculations makes it much easier to to reuse and share information. Also it makes it easier to spot errors and typos. \n",
        "\n",
        "Programming language have different applications. While some languages as Matlab are specifically designed for scientific computing, Python is designed to be a multi-purpose language for different application, such as web development, scientific computing, data science, etc.\n",
        "\n",
        "\n",
        "Not every conceivable function is part of the basic programming language. Additional features can be loaded via different packages. A package for mathematical calculations in Python is ```math```. A package is loaded with the ```import``` command and the package name:"
      ]
    },
    {
      "cell_type": "code",
      "execution_count": 19,
      "metadata": {
        "id": "uFUPKGCym_yM"
      },
      "outputs": [],
      "source": [
        "# There will the no explicit feedback, that the import worked\n",
        "import math"
      ]
    },
    {
      "cell_type": "markdown",
      "metadata": {
        "id": "TyKWyfXXplgJ"
      },
      "source": [
        "The package now provides values and methods that can be used, with the packages name.\n",
        "\n",
        "For instance, the package math, provides the number $\\pi$ as a floating point number:"
      ]
    },
    {
      "cell_type": "code",
      "execution_count": 20,
      "metadata": {
        "colab": {
          "base_uri": "https://localhost:8080/"
        },
        "id": "-XtAK-BuoLS7",
        "outputId": "8b6cfee8-1e6d-4682-f250-a800f82d3957"
      },
      "outputs": [
        {
          "data": {
            "text/plain": [
              "3.141592653589793"
            ]
          },
          "execution_count": 20,
          "metadata": {},
          "output_type": "execute_result"
        }
      ],
      "source": [
        "math.pi"
      ]
    },
    {
      "cell_type": "markdown",
      "metadata": {
        "id": "YbRY6-CRrybx"
      },
      "source": [
        "All variables and methods of the library can be found in the [Documentation](https://docs.python.org/3/library/math.html#). For instance, the math library allows to calculate the sinus function."
      ]
    },
    {
      "cell_type": "code",
      "execution_count": 21,
      "metadata": {
        "colab": {
          "base_uri": "https://localhost:8080/"
        },
        "id": "9-0iKXk0pOrZ",
        "outputId": "1d5b8070-ae0b-4b95-c00f-3c464c2ac181"
      },
      "outputs": [
        {
          "name": "stdout",
          "output_type": "stream",
          "text": [
            "0.49999999999999994\n",
            "1.0\n"
          ]
        }
      ],
      "source": [
        "# Return the sine value of 30 degrees\n",
        "print(math.sin(math.radians(30)))\n",
        "\n",
        "# Return the sine value of 90 degrees\n",
        "print(math.sin(math.radians(90)))"
      ]
    },
    {
      "cell_type": "markdown",
      "metadata": {
        "id": "MulJzwkOsQnl"
      },
      "source": [
        "## 🏆 1.2.1.5 **Task with Sakai-Submission**\n",
        "\n",
        "Many processes in biology and technology follow an [logistic growth](\n",
        "https://en.wikipedia.org/wiki/Logistic_function) given by the following function:\n",
        "\n",
        "${\\displaystyle P(t)={\\frac {KP_{0}e^{rt}}{K+P_{0}\\left(e^{rt}-1\\right)}}={\\frac {K}{1+\\left({\\frac {K-P_{0}}{P_{0}}}\\right)e^{-rt}}},}$\n",
        "\n",
        "where \n",
        "\n",
        "- $P$ is the population size\n",
        "- $t$ is the number of time steps\n",
        "- $P_o$ is the initial population size at  $t=0$\n",
        "- $r$ is the growth rate\n",
        "- $K$ is the carrying capacity\n",
        "\n",
        "\n",
        "![](https://upload.wikimedia.org/wikipedia/commons/8/84/Courbe_logistique%2C_Verhulst%2C_1845.png)\n",
        "\n",
        "This means the growth starts relatively fast and later slows down to approach a maximum. \n",
        "\n",
        "The task is to define a reusable cell that lets the user define \n",
        "\n",
        "- all variables\n",
        "- uses the variables to calculate the population size at time $t$\n",
        "- print the results as:\n",
        "\n",
        "> \"Started simulation with the following parameters:\n",
        "    - initial population size: 100\n",
        "    - carrying capacity: 200\n",
        "    - growth rate: 0.1\n",
        "  The population after x time steps is y\"\n",
        "\n",
        "Hints:\n",
        "- You must define all variables before You can use them in the equation- You can use the following values:\n",
        "  ```\n",
        "  initial_population_size = 100\n",
        "  carrying_capacity = 200\n",
        "  growth_rate = 0.1\n",
        "  t_in_h = 10\n",
        "  ```\n",
        "  - Check der math libraries' documentary to find the method to calculate $e^x$\n",
        "  - Find out how to integrate line breaks into a string to make the output better structured\n",
        "  - Find out how to use the ```format()``` method to integrate multiple variables into a string\n",
        "  - use comments ```#``` to separate and explain the different parts of Your code\n",
        "  - Bonus: Find a way to print only the first two decimal points of the population."
      ]
    },
    {
      "cell_type": "markdown",
      "metadata": {},
      "source": [
        "🏆 **Paste Your Code in the Sakai-Submission**"
      ]
    },
    {
      "cell_type": "code",
      "execution_count": null,
      "metadata": {},
      "outputs": [],
      "source": []
    },
    {
      "cell_type": "code",
      "execution_count": 30,
      "metadata": {
        "colab": {
          "base_uri": "https://localhost:8080/"
        },
        "id": "37sUYdk6sk8f",
        "outputId": "fe43efd5-597e-4f2e-c531-b810f467e34b"
      },
      "outputs": [
        {
          "name": "stdout",
          "output_type": "stream",
          "text": [
            "Started simulation with the following parameters: \n",
            " initial population size: 100 \n",
            " carrying capacity: 200 \n",
            " growth rate: 0.1  \n",
            " The population after 10 time steps is 146.21171572600096\n"
          ]
        }
      ],
      "source": [
        "#@title ❓ Click `Show code` in the code cell to show the solution. { display-mode: \"form\" }\n",
        "\n",
        "from solutionsfop import solution_1_2_1_5\n",
        "\n",
        "solution_1_2_1_5()\n"
      ]
    },
    {
      "cell_type": "markdown",
      "metadata": {
        "id": "lfCv7asI0dYe"
      },
      "source": [
        "## Summary\n",
        "\n",
        "In this chapter you learned to work with variables. You learned to use\n",
        "descriptive variable names and how to resolve name errors and syntax\n",
        "errors when they arise. You learned what strings are and how to\n",
        "display strings using lowercase, uppercase, and title-case.\n",
        "\n",
        "You started working with integers and floats, and you read about some unexpected behavior to watch out for when working with numerical data. You also learned to write explanatory comments to make your code easier for you and others to read."
      ]
    },
    {
      "cell_type": "code",
      "execution_count": null,
      "metadata": {
        "id": "kJ0vjh7DGM3_"
      },
      "outputs": [],
      "source": []
    }
  ],
  "metadata": {
    "colab": {
      "collapsed_sections": [],
      "provenance": [],
      "toc_visible": true
    },
    "kernelspec": {
      "display_name": "Python 3.8.8 ('base')",
      "language": "python",
      "name": "python3"
    },
    "language_info": {
      "codemirror_mode": {
        "name": "ipython",
        "version": 3
      },
      "file_extension": ".py",
      "mimetype": "text/x-python",
      "name": "python",
      "nbconvert_exporter": "python",
      "pygments_lexer": "ipython3",
      "version": "3.8.8"
    },
    "vscode": {
      "interpreter": {
        "hash": "91b5df634ae01e052c095f84ce6ac57f1bf815a7c386b368c11e7051e1049005"
      }
    }
  },
  "nbformat": 4,
  "nbformat_minor": 0
}

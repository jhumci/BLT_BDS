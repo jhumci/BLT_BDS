{
  "nbformat": 4,
  "nbformat_minor": 0,
  "metadata": {
    "colab": {
      "provenance": [],
      "collapsed_sections": [],
      "toc_visible": true
    },
    "kernelspec": {
      "name": "python3",
      "display_name": "Python 3"
    },
    "language_info": {
      "name": "python"
    }
  },
  "cells": [
    {
      "cell_type": "markdown",
      "source": [
        "<table style=\"width: 100%\">\n",
        "    <tr style=\"background: #ffffff\">\n",
        "        <td style=\"padding-top:25px;width: 180px\"><img src=\"https://mci.edu/templates/mci/images/logo.svg\" alt=\"Logo\"></td>\n",
        "        <td style=\"width: 100%\">\n",
        "            <div style=\"text-align:right; width: 100%; text-align:right\"><font style=\"font-size:38px\"><b>Visualisierung und Datenbanken</b></font></div>\n",
        "            <div style=\"padding-top:0px; width: 100%; text-align:right\"><font size=\"4\"><b>WS 2022</b></font></div>\n",
        "        </td>\n",
        "    </tr>\n",
        "</table>\n",
        "\n",
        "---\n",
        "\n",
        "# 5 Sequence Data in Biopython\n",
        "\n",
        "\"[Biopython](https://biopython.org/) is a set of freely available tools for biological computation written in Python by an international team of developers.\"\n",
        "Biopython provides many usefull tool, when working with sequence data. It offers an special data type for annotated sequences that makes it more convenient, than working with simple strings.\n"
      ],
      "metadata": {
        "id": "eIylOKbnTyky"
      }
    },
    {
      "cell_type": "code",
      "source": [
        "# Installing Biopython\n",
        "!pip install biopython"
      ],
      "metadata": {
        "colab": {
          "base_uri": "https://localhost:8080/"
        },
        "id": "7DTdzkfoC8ta",
        "outputId": "3eaccf75-ed57-48fe-8338-21990af08aea"
      },
      "execution_count": null,
      "outputs": [
        {
          "output_type": "stream",
          "name": "stdout",
          "text": [
            "Looking in indexes: https://pypi.org/simple, https://us-python.pkg.dev/colab-wheels/public/simple/\n",
            "Collecting biopython\n",
            "  Downloading biopython-1.79-cp37-cp37m-manylinux_2_5_x86_64.manylinux1_x86_64.whl (2.3 MB)\n",
            "\u001b[2K     \u001b[90m━━━━━━━━━━━━━━━━━━━━━━━━━━━━━━━━━━━━━━━━\u001b[0m \u001b[32m2.3/2.3 MB\u001b[0m \u001b[31m13.7 MB/s\u001b[0m eta \u001b[36m0:00:00\u001b[0m\n",
            "\u001b[?25hRequirement already satisfied: numpy in /usr/local/lib/python3.7/dist-packages (from biopython) (1.21.6)\n",
            "Installing collected packages: biopython\n",
            "Successfully installed biopython-1.79\n",
            "\u001b[33mWARNING: Running pip as the 'root' user can result in broken permissions and conflicting behaviour with the system package manager. It is recommended to use a virtual environment instead: https://pip.pypa.io/warnings/venv\u001b[0m\u001b[33m\n",
            "\u001b[0m"
          ]
        }
      ]
    },
    {
      "cell_type": "markdown",
      "source": [
        "✍️ **Task**\n",
        "\n",
        "Download the FASTAQ-file `1_control_trnL_2019_minq7.fastq` from Sakai and upload it to Google Colab. If You open the file in a Text-Editor You see that it contains serveral annotated sequences (e.g., short reads from a sequencing machine). \n",
        "\n",
        "```\n",
        "@83b951be-cf09-402a-8b19-48105583c067 runid=34c547ba84ed3971a437c6252da360118a5fabd7 sampleid=1 read=68633 ch=80 start_time=2019-10-18T05:04:31Z\n",
        "GATGCTTTGCGTGATTCCAGATGGGTGTTTATGGACCATATGCGCCTACCGTGACAAGAAAGTTGTCGGTGTCTTTGTGTTTCTGTTGGTGCTGATATTGCCGAAAATCGGTAGACGCTACGGACTAAATCCGCTTCTTCCTGAAATGCGGGTTTGATCCCTCTCACAGATAGAGCGACAGGCAAGTCGCAGACTGCGACAGCTTTCTGTC\n",
        "+\n",
        "(#*%$%&'%$&$%#-(&*$&#&&)(51-.,&%$'\"#$&'%$%31336-798:5-(((/60.5;A1(<4:?9::6;>/==CD@E@;=>028.*,24765:69:61%*((8,4966;;863(*%(##%*,38::.$$%(,.25+-%*-02;6;C>;.(*$%'%(/$)-3-.91..)+488*$,-.$&%$-&&$&%$$$$'(.%&%%+1%')%&\n",
        "@d7d01aba-44d6-456a-a393-8d39c0cc0d58 runid=34c547ba84ed3971a437c6252da360118a5fabd7 sampleid=1 read=81731 ch=20 start_time=2019-10-18T05:03:05Z\n",
        "CGGTGGCCATACCGTTCATTTCTAGATGGTGTTTGCTGATGGATTACATCATCTGCAATGATAAAGAAGTTGTCGGTGTCTTTTGTGACTTGCCTGTCGCTCTATCTTCCGGGGATAGAGGGACTTGAACCACATTTCAGGGAAGGCGGATTTTTAAGTCGTAGCGTCTACCGATTTCGGCAATATCAGCACCAACAGAAACGCAAAGACACCGACAACTAAT\n",
        "+\n",
        "<...>\n",
        "```\n"
      ],
      "metadata": {
        "id": "yWV1fzS3GWgd"
      }
    },
    {
      "cell_type": "markdown",
      "source": [
        "## Reading FASTAQ-Files\n",
        "\n",
        "Biopython provides a parser to read and interpret FASTA and FASTAQ files. We only have to pass `SeqIO.parse()` the file path and the file format."
      ],
      "metadata": {
        "id": "Ty3ygg_UUN9h"
      }
    },
    {
      "cell_type": "code",
      "execution_count": null,
      "metadata": {
        "id": "dvQ7uUjfB5wk"
      },
      "outputs": [],
      "source": [
        "from Bio import SeqIO\n",
        "\n",
        "# Parsing the file\n",
        "fastaq_records = SeqIO.parse(\"1_control_trnL_2019_minq7.fastq\", \"fastq\")"
      ]
    },
    {
      "cell_type": "markdown",
      "source": [
        "### Records\n",
        "\n",
        "Each four lines in the FASTAQ file resemble a sequence (read), meta data or annotations (after the @ in the first line) and the PHRED-Score (quality data) in the fourth line.\n",
        "\n",
        "First, we look only at the first record.\n"
      ],
      "metadata": {
        "id": "bsdpAFqEXVKY"
      }
    },
    {
      "cell_type": "code",
      "source": [
        "# This ensures, that we parse only the first record. \n",
        "first_record = next(fastaq_records)"
      ],
      "metadata": {
        "id": "zh0HK2gtIxDI"
      },
      "execution_count": null,
      "outputs": []
    },
    {
      "cell_type": "markdown",
      "source": [
        "We see, that Biopython stores the information in a special data type called SeqRecord:"
      ],
      "metadata": {
        "id": "67a2XRGvYE0I"
      }
    },
    {
      "cell_type": "code",
      "source": [
        "print(type(first_record))"
      ],
      "metadata": {
        "colab": {
          "base_uri": "https://localhost:8080/"
        },
        "id": "Hm69JKrOVwj3",
        "outputId": "f8f05ff7-60cc-4783-b2b5-dc34e35b4c7e"
      },
      "execution_count": null,
      "outputs": [
        {
          "output_type": "stream",
          "name": "stdout",
          "text": [
            "<class 'Bio.SeqRecord.SeqRecord'>\n"
          ]
        }
      ]
    },
    {
      "cell_type": "markdown",
      "source": [
        "We can print the [SeqRecord](https://biopython.org/wiki/SeqRecord) to geht a first impression:\n",
        "\n",
        "We see that the first word in the first column in used as an ID or name. The full first line is also stored as a description. [Features](https://biopython.org/docs/1.76/api/Bio.SeqFeature.html) would be further descriptors, we could add to the data (e.g., the organism)."
      ],
      "metadata": {
        "id": "BaBMH4B9YM7A"
      }
    },
    {
      "cell_type": "code",
      "source": [
        "print(first_record)"
      ],
      "metadata": {
        "colab": {
          "base_uri": "https://localhost:8080/"
        },
        "id": "9K4tWkl6GgXP",
        "outputId": "4713b3e2-6ce3-418a-98b2-aa7483270f28"
      },
      "execution_count": null,
      "outputs": [
        {
          "output_type": "stream",
          "name": "stdout",
          "text": [
            "ID: 83b951be-cf09-402a-8b19-48105583c067\n",
            "Name: 83b951be-cf09-402a-8b19-48105583c067\n",
            "Description: 83b951be-cf09-402a-8b19-48105583c067 runid=34c547ba84ed3971a437c6252da360118a5fabd7 sampleid=1 read=68633 ch=80 start_time=2019-10-18T05:04:31Z\n",
            "Number of features: 0\n",
            "Per letter annotation for: phred_quality\n",
            "Seq('GATGCTTTGCGTGATTCCAGATGGGTGTTTATGGACCATATGCGCCTACCGTGA...GTC')\n"
          ]
        }
      ]
    },
    {
      "cell_type": "markdown",
      "source": [
        "##### Sequence\n",
        "\n",
        "Most relevant is the sequence itself, which we can access via `.seq` and behaves like a String."
      ],
      "metadata": {
        "id": "-cNeyLAjZOQ7"
      }
    },
    {
      "cell_type": "code",
      "source": [
        "print(first_record.seq)"
      ],
      "metadata": {
        "colab": {
          "base_uri": "https://localhost:8080/"
        },
        "id": "ZSn2jZ-7GbxG",
        "outputId": "d2c4ee4a-81b3-4a1a-9ea1-b20d7d776c99"
      },
      "execution_count": null,
      "outputs": [
        {
          "output_type": "stream",
          "name": "stdout",
          "text": [
            "GATGCTTTGCGTGATTCCAGATGGGTGTTTATGGACCATATGCGCCTACCGTGACAAGAAAGTTGTCGGTGTCTTTGTGTTTCTGTTGGTGCTGATATTGCCGAAAATCGGTAGACGCTACGGACTAAATCCGCTTCTTCCTGAAATGCGGGTTTGATCCCTCTCACAGATAGAGCGACAGGCAAGTCGCAGACTGCGACAGCTTTCTGTC\n"
          ]
        }
      ]
    },
    {
      "cell_type": "code",
      "source": [
        "print(len(first_record))"
      ],
      "metadata": {
        "colab": {
          "base_uri": "https://localhost:8080/"
        },
        "id": "8jYqkzxnKPwq",
        "outputId": "a70769c2-e1af-4681-d181-33784c062721"
      },
      "execution_count": null,
      "outputs": [
        {
          "output_type": "stream",
          "name": "stdout",
          "text": [
            "211\n"
          ]
        }
      ]
    },
    {
      "cell_type": "code",
      "source": [
        "print(first_record.seq[0:10].lower())"
      ],
      "metadata": {
        "colab": {
          "base_uri": "https://localhost:8080/"
        },
        "id": "-GdA6tp2Zbli",
        "outputId": "fa3670be-f655-4915-a52d-ba9db35c64c4"
      },
      "execution_count": null,
      "outputs": [
        {
          "output_type": "stream",
          "name": "stdout",
          "text": [
            "cggtggccat\n"
          ]
        }
      ]
    },
    {
      "cell_type": "code",
      "source": [
        "print(first_record.id)"
      ],
      "metadata": {
        "colab": {
          "base_uri": "https://localhost:8080/"
        },
        "id": "YHMNiYqvHDmF",
        "outputId": "9a23d6c0-5363-484c-8119-f8a902f792ef"
      },
      "execution_count": null,
      "outputs": [
        {
          "output_type": "stream",
          "name": "stdout",
          "text": [
            "83b951be-cf09-402a-8b19-48105583c067\n"
          ]
        }
      ]
    },
    {
      "cell_type": "markdown",
      "source": [
        "##### Phred Score\n",
        "\n",
        "We can also get the Phred Score. The letters are automatically translated into numerical score values:\n",
        "\n",
        "![](http://www.drive5.com/usearch/manual/qscores.gif)\n",
        "\n",
        "✍️ **Task**\n",
        "\n",
        "Use the table to check, whether the translation is correct."
      ],
      "metadata": {
        "id": "5biVxjQNZ0rU"
      }
    },
    {
      "cell_type": "code",
      "source": [
        "print(first_record.letter_annotations[\"phred_quality\"])"
      ],
      "metadata": {
        "colab": {
          "base_uri": "https://localhost:8080/"
        },
        "id": "4j6wjSjhGnZN",
        "outputId": "75d7dfac-52ba-4627-d96f-efed497b21eb"
      },
      "execution_count": null,
      "outputs": [
        {
          "output_type": "stream",
          "name": "stdout",
          "text": [
            "[7, 2, 9, 4, 3, 4, 5, 6, 4, 3, 5, 3, 4, 2, 12, 7, 5, 9, 3, 5, 2, 5, 5, 8, 7, 20, 16, 12, 13, 11, 5, 4, 3, 6, 1, 2, 3, 5, 6, 4, 3, 4, 18, 16, 18, 18, 21, 12, 22, 24, 23, 25, 20, 12, 7, 7, 7, 14, 21, 15, 13, 20, 26, 32, 16, 7, 27, 19, 25, 30, 24, 25, 25, 21, 26, 29, 14, 28, 28, 34, 35, 31, 36, 31, 26, 28, 29, 15, 17, 23, 13, 9, 11, 17, 19, 22, 21, 20, 25, 21, 24, 25, 21, 16, 4, 9, 7, 7, 23, 11, 19, 24, 21, 21, 26, 26, 23, 21, 18, 7, 9, 4, 7, 2, 2, 4, 9, 11, 18, 23, 25, 25, 13, 3, 3, 4, 7, 11, 13, 17, 20, 10, 12, 4, 9, 12, 15, 17, 26, 21, 26, 34, 29, 26, 13, 7, 9, 3, 4, 6, 4, 7, 14, 3, 8, 12, 18, 12, 13, 24, 16, 13, 13, 8, 10, 19, 23, 23, 9, 3, 11, 12, 13, 3, 5, 4, 3, 12, 5, 5, 3, 5, 4, 3, 3, 3, 3, 6, 7, 13, 4, 5, 4, 4, 10, 16, 4, 6, 8, 4, 5]\n"
          ]
        }
      ]
    },
    {
      "cell_type": "markdown",
      "source": [
        "## Quality Control of Sequencing Data\n",
        "\n",
        "Before even starting to assemble or even analze sequence data, it is importent to check the quality of the reads.\n",
        "\n",
        "In the lecture, we discussed two plots that help to evaluate the quality of the sequencing process. "
      ],
      "metadata": {
        "id": "LXLpQFxeKV5L"
      }
    },
    {
      "cell_type": "markdown",
      "source": [
        "### Distribution of Sequence Length\n",
        "\n",
        "To ensure a good assembly, the reads obtained from sequencing should all have similar length (normally distributed) and should not be to short.\n",
        "\n",
        "✍️ **Task**\n",
        "\n",
        "Create a histogram or box plot to evaluate the distribution of the sequence length in the sample. Given the length of the reads, what generation of sequencing technology was used to generate the reads?\n",
        "\n"
      ],
      "metadata": {
        "id": "4Tjys-SGJs-A"
      }
    },
    {
      "cell_type": "code",
      "source": [
        "# Reading the data\n",
        "fastaq_records = SeqIO.parse(\"1_control_trnL_2019_minq7.fastq\", \"fastq\")\n",
        "lengths = []\n",
        "\n",
        "# Storing all the length values in a list\n",
        "for record in fastaq_records:\n",
        "  lengths.append(len(record.seq))\n",
        "\n",
        "print(lengths[0:5])\n"
      ],
      "metadata": {
        "colab": {
          "base_uri": "https://localhost:8080/"
        },
        "id": "0Sl0OCIfJ69t",
        "outputId": "3b98de8b-6d49-4e99-b8b0-1404964e27fc"
      },
      "execution_count": null,
      "outputs": [
        {
          "output_type": "stream",
          "name": "stdout",
          "text": [
            "[211, 223, 226, 211, 230]\n"
          ]
        }
      ]
    },
    {
      "cell_type": "code",
      "source": [
        "# Plotting a historgram\n"
      ],
      "metadata": {
        "colab": {
          "base_uri": "https://localhost:8080/",
          "height": 283
        },
        "id": "INk6xYmjKicA",
        "outputId": "e089f165-8eb3-4e6d-fdad-afbdc592ebae"
      },
      "execution_count": null,
      "outputs": [
        {
          "output_type": "execute_result",
          "data": {
            "text/plain": [
              "<matplotlib.axes._subplots.AxesSubplot at 0x7f9a65e9f8d0>"
            ]
          },
          "metadata": {},
          "execution_count": 145
        },
        {
          "output_type": "display_data",
          "data": {
            "text/plain": [
              "<Figure size 432x288 with 1 Axes>"
            ],
            "image/png": "[encoded data removed]"
          },
          "metadata": {
            "needs_background": "light"
          }
        }
      ]
    },
    {
      "cell_type": "markdown",
      "source": [
        "### Quality Plot based on PHRED-Score\n",
        "\n",
        "The following code creates a box plot of the PHRED-Scores over the position of the base in the reads. \n",
        "\n",
        "✍️ **Task**\n",
        "\n",
        "Given this plot. How du You jugdge the overall quality of the reads? Is this a typical plot for MiSeq?"
      ],
      "metadata": {
        "id": "w-n64HPNJpNY"
      }
    },
    {
      "cell_type": "code",
      "source": [
        "# Code taken from\n",
        "# https://dmnfarrell.github.io/python/fastq-quality-python\n",
        "\n",
        "import os\n",
        "import math\n",
        "import pylab as plt\n",
        "import numpy as np\n",
        "import pandas as pd\n",
        "import matplotlib.patches as patches\n",
        "\n",
        "def plot_fastq_qualities(fataq_records, ax=None, limit=10000):\n",
        "\n",
        "    res=[]\n",
        "    c=0\n",
        "    for record in fataq_records:\n",
        "        score=record.letter_annotations[\"phred_quality\"]\n",
        "        res.append(score)\n",
        "        c+=1\n",
        "        if c>limit:\n",
        "            break\n",
        "    df = pd.DataFrame(res)\n",
        "    l = len(df.T)+1\n",
        "\n",
        "    if ax==None:\n",
        "        f,ax=plt.subplots(figsize=(24,5))\n",
        "    rect = patches.Rectangle((0,0),l,20,linewidth=0,facecolor='r',alpha=.4)\n",
        "    ax.add_patch(rect)\n",
        "    rect = patches.Rectangle((0,20),l,8,linewidth=0,facecolor='yellow',alpha=.4)\n",
        "    ax.add_patch(rect)\n",
        "    rect = patches.Rectangle((0,28),l,12,linewidth=0,facecolor='g',alpha=.4)\n",
        "    ax.add_patch(rect)\n",
        "    df.mean().plot(ax=ax,c='black')\n",
        "    boxprops = dict(linestyle='-', linewidth=1, color='black')\n",
        "    df.plot(kind='box', ax=ax, grid=False, showfliers=False,\n",
        "            color=dict(boxes='black',whiskers='black')  )\n",
        "    ax.set_xticks(np.arange(0, l, 5))\n",
        "    ax.set_xticklabels(np.arange(0, l, 5))\n",
        "    ax.set_xlabel('position(bp)')\n",
        "    ax.set_xlim((0,l))\n",
        "    ax.set_ylim((0,40))\n",
        "    ax.set_title('per base sequence quality')    \n",
        "    return"
      ],
      "metadata": {
        "id": "APDn4uq8Chpr"
      },
      "execution_count": null,
      "outputs": []
    },
    {
      "cell_type": "code",
      "source": [
        "fastaq_records = SeqIO.parse(\"1_control_trnL_2019_minq7.fastq\", \"fastq\")\n",
        "plot_fastq_qualities(fastaq_records, limit=5) "
      ],
      "metadata": {
        "colab": {
          "base_uri": "https://localhost:8080/",
          "height": 407
        },
        "id": "7zSDTEyNH_CR",
        "outputId": "4214f4af-2449-4519-97b4-bf9070797beb"
      },
      "execution_count": null,
      "outputs": [
        {
          "output_type": "stream",
          "name": "stderr",
          "text": [
            "/usr/local/lib/python3.7/dist-packages/matplotlib/cbook/__init__.py:1376: VisibleDeprecationWarning: Creating an ndarray from ragged nested sequences (which is a list-or-tuple of lists-or-tuples-or ndarrays with different lengths or shapes) is deprecated. If you meant to do this, you must specify 'dtype=object' when creating the ndarray.\n",
            "  X = np.atleast_1d(X.T if isinstance(X, np.ndarray) else np.asarray(X))\n"
          ]
        },
        {
          "output_type": "display_data",
          "data": {
            "text/plain": [
              "<Figure size 1728x360 with 1 Axes>"
            ],
            "image/png": "[encoded data removed]"
          },
          "metadata": {
            "needs_background": "light"
          }
        }
      ]
    },
    {
      "cell_type": "markdown",
      "source": [
        "# 🏁 Recap\n",
        "\n",
        "- If you have finished the tasks and have no questions, place the green card on top.\n",
        "- If you have finished the tasks but would like to discuss the solutions together again, place the yellow card on top.\n",
        "\n",
        "![](https://www.lokalinfo.ch/fileadmin/news_import/image003_03.jpg)"
      ],
      "metadata": {
        "id": "F5UeHG2VlAuJ"
      }
    },
    {
      "cell_type": "markdown",
      "source": [
        "## Storing FASTAQ-Files in Dictionaries\n",
        "\n",
        "So far, we just parsed the FASTQ-file any time we want to use the data. Instead, we can also store the data in a Python dictionary so that we do not have to read the file any time we want to use the data:"
      ],
      "metadata": {
        "id": "T_eBv78xUe54"
      }
    },
    {
      "cell_type": "code",
      "source": [
        "fq_dict = SeqIO.index(\"1_control_trnL_2019_minq7.fastq\", \"fastq\")\n",
        "len(fq_dict)"
      ],
      "metadata": {
        "colab": {
          "base_uri": "https://localhost:8080/"
        },
        "id": "NSX-J9rLIElA",
        "outputId": "6d58fbaa-aa1e-405c-ec8a-90e044da462e"
      },
      "execution_count": null,
      "outputs": [
        {
          "output_type": "execute_result",
          "data": {
            "text/plain": [
              "4567"
            ]
          },
          "metadata": {},
          "execution_count": 162
        }
      ]
    },
    {
      "cell_type": "markdown",
      "source": [
        "The IDs of the records become the keys in the dictionaries."
      ],
      "metadata": {
        "id": "8pOvviIqiOz0"
      }
    },
    {
      "cell_type": "code",
      "source": [
        "list(fq_dict.keys())[0:5]"
      ],
      "metadata": {
        "colab": {
          "base_uri": "https://localhost:8080/"
        },
        "id": "R5XGJ0TkMtRB",
        "outputId": "ac59cc4e-0741-47b8-bce1-00232587c0c8"
      },
      "execution_count": null,
      "outputs": [
        {
          "output_type": "execute_result",
          "data": {
            "text/plain": [
              "['83b951be-cf09-402a-8b19-48105583c067',\n",
              " 'd7d01aba-44d6-456a-a393-8d39c0cc0d58',\n",
              " '1f1dd03c-c914-4efc-87c1-593a78e874bd',\n",
              " '6b479cc9-2a29-47dd-a50e-02fc02b504f0',\n",
              " '684cbdee-2e80-4722-8d22-bafa61989a55']"
            ]
          },
          "metadata": {},
          "execution_count": 187
        }
      ]
    },
    {
      "cell_type": "markdown",
      "source": [
        "We can now access the records using the keys:"
      ],
      "metadata": {
        "id": "yRQAwar1irPs"
      }
    },
    {
      "cell_type": "code",
      "source": [
        "type(fq_dict[\"3fb24bee-35c8-4318-b994-80c1b652e7f3\"])"
      ],
      "metadata": {
        "colab": {
          "base_uri": "https://localhost:8080/"
        },
        "id": "sYCjhIEFif6s",
        "outputId": "982caef6-05ef-4459-aee7-6748b3c7bbf6"
      },
      "execution_count": null,
      "outputs": [
        {
          "output_type": "execute_result",
          "data": {
            "text/plain": [
              "Bio.SeqRecord.SeqRecord"
            ]
          },
          "metadata": {},
          "execution_count": 168
        }
      ]
    },
    {
      "cell_type": "markdown",
      "source": [
        "## Sequence Data\n",
        "\n",
        "Individual sequences work like Strings, but also have some further capabilities:"
      ],
      "metadata": {
        "id": "dWkrGzGri477"
      }
    },
    {
      "cell_type": "code",
      "source": [
        "a_sequence = fq_dict[\"3fb24bee-35c8-4318-b994-80c1b652e7f3\"].seq"
      ],
      "metadata": {
        "id": "UP9IP546Mzxy"
      },
      "execution_count": null,
      "outputs": []
    },
    {
      "cell_type": "code",
      "source": [
        "type(a_sequence)"
      ],
      "metadata": {
        "colab": {
          "base_uri": "https://localhost:8080/"
        },
        "id": "0rMOrBzENBgA",
        "outputId": "d74d629a-fc61-4500-e0e9-b402496ec01c"
      },
      "execution_count": null,
      "outputs": [
        {
          "output_type": "execute_result",
          "data": {
            "text/plain": [
              "Bio.Seq.Seq"
            ]
          },
          "metadata": {},
          "execution_count": 165
        }
      ]
    },
    {
      "cell_type": "code",
      "source": [
        "a_sequence"
      ],
      "metadata": {
        "colab": {
          "base_uri": "https://localhost:8080/"
        },
        "id": "sNW34R1ujUMM",
        "outputId": "fa8d027e-a11b-41c9-cb44-b4692ae6cdbe"
      },
      "execution_count": null,
      "outputs": [
        {
          "output_type": "execute_result",
          "data": {
            "text/plain": [
              "Seq('GGTAATAGCCCTTCGTTCAGTTTTTCAGAGGTGGGTGTTTATGATCTGTCGCTA...ATC')"
            ]
          },
          "metadata": {},
          "execution_count": 170
        }
      ]
    },
    {
      "cell_type": "markdown",
      "source": [
        "You can create the complementing sequence:"
      ],
      "metadata": {
        "id": "zoL12XgzjPv7"
      }
    },
    {
      "cell_type": "code",
      "source": [
        "a_sequence.complement()"
      ],
      "metadata": {
        "colab": {
          "base_uri": "https://localhost:8080/"
        },
        "id": "uqDv_7XBNTMx",
        "outputId": "81b3a53c-7d6d-4699-bde7-165c37e417fc"
      },
      "execution_count": null,
      "outputs": [
        {
          "output_type": "execute_result",
          "data": {
            "text/plain": [
              "Seq('CCATTATCGGGAAGCAAGTCAAAAAGTCTCCACCCACAAATACTAGACAGCGAT...TAG')"
            ]
          },
          "metadata": {},
          "execution_count": 108
        }
      ]
    },
    {
      "cell_type": "markdown",
      "source": [
        "And the reverse complement:"
      ],
      "metadata": {
        "id": "_rEdl0XfjX4D"
      }
    },
    {
      "cell_type": "code",
      "source": [
        "a_sequence.reverse_complement()"
      ],
      "metadata": {
        "colab": {
          "base_uri": "https://localhost:8080/"
        },
        "id": "5BeaiZ8HNZgh",
        "outputId": "a4321613-056a-43b3-9226-ceeee4d6a8dd"
      },
      "execution_count": null,
      "outputs": [
        {
          "output_type": "execute_result",
          "data": {
            "text/plain": [
              "Seq('GATATGTTGTCGGTGTCTTTGTGACTCTGCCTGTCGCTCTATCTTCAGACAGAG...ACC')"
            ]
          },
          "metadata": {},
          "execution_count": 109
        }
      ]
    },
    {
      "cell_type": "markdown",
      "source": [
        "#### Transcription\n",
        "\n",
        "You can also got the full way from the coding DNA-Stand to the messenger RNA.\n",
        "\n",
        "![](https://cdn.kastatic.org/ka-perseus-images/20ce29384b2e7ff0cdea72acaa5b1dbd7287ab00.png)"
      ],
      "metadata": {
        "id": "Scdn7Mz8NtsL"
      }
    },
    {
      "cell_type": "code",
      "source": [
        "coding_dna = a_sequence\n",
        "template_dna = coding_dna.reverse_complement()\n",
        "messenger_rna = coding_dna.transcribe()\n",
        "messenger_rna"
      ],
      "metadata": {
        "colab": {
          "base_uri": "https://localhost:8080/"
        },
        "id": "IWNXN3BVNcph",
        "outputId": "9aed7610-92f5-49c0-ebd5-fc603b379d8e"
      },
      "execution_count": null,
      "outputs": [
        {
          "output_type": "execute_result",
          "data": {
            "text/plain": [
              "Seq('GGUAAUAGCCCUUCGUUCAGUUUUUCAGAGGUGGGUGUUUAUGAUCUGUCGCUA...AUC')"
            ]
          },
          "metadata": {},
          "execution_count": 111
        }
      ]
    },
    {
      "cell_type": "markdown",
      "source": [
        "#### Translation\n",
        "\n",
        "And translate the messenger RNA to a protein.\n",
        "\n",
        "✍️ **Task**\n",
        "\n",
        "How do You interpret the following warning message?"
      ],
      "metadata": {
        "id": "8yYQLj9xNz0Z"
      }
    },
    {
      "cell_type": "code",
      "source": [
        "messenger_rna.translate()"
      ],
      "metadata": {
        "colab": {
          "base_uri": "https://localhost:8080/"
        },
        "id": "-FpY2uF7NxJw",
        "outputId": "fc01dd38-d881-4fd9-b2f6-02c2ae4d17ad"
      },
      "execution_count": null,
      "outputs": [
        {
          "output_type": "stream",
          "name": "stderr",
          "text": [
            "/usr/local/lib/python3.7/dist-packages/Bio/Seq.py:2983: BiopythonWarning: Partial codon, len(sequence) not a multiple of three. Explicitly trim the sequence or add trailing N before translation. This may become an error in future.\n",
            "  BiopythonWarning,\n"
          ]
        },
        {
          "output_type": "execute_result",
          "data": {
            "text/plain": [
              "Seq('GNSPSFSFSEVGVYDLSLP*QKVVRCLCVSVVADIAEIGKTLRT*NPPS*MRVQ...TTY')"
            ]
          },
          "metadata": {},
          "execution_count": 171
        }
      ]
    },
    {
      "cell_type": "code",
      "source": [
        "# direct translation form the coding DNA\n",
        "coding_dna.translate()"
      ],
      "metadata": {
        "colab": {
          "base_uri": "https://localhost:8080/"
        },
        "id": "20wFU8B8NnMB",
        "outputId": "d0b3a61d-f91b-402f-9b2d-3aea0235fb8b"
      },
      "execution_count": null,
      "outputs": [
        {
          "output_type": "execute_result",
          "data": {
            "text/plain": [
              "Seq('GNSPSFSFSEVGVYDLSLP*QKVVRCLCVSVVADIAEIGKTLRT*NPPS*MRVQ...TTY')"
            ]
          },
          "metadata": {},
          "execution_count": 172
        }
      ]
    },
    {
      "cell_type": "markdown",
      "source": [
        "# 🏁 Recap\n",
        "\n",
        "- If you have finished the tasks and have no questions, place the green card on top.\n",
        "- If you have finished the tasks but would like to discuss the solutions together again, place the yellow card on top.\n",
        "\n",
        "![](https://www.lokalinfo.ch/fileadmin/news_import/image003_03.jpg)"
      ],
      "metadata": {
        "id": "QQ1XAyxslCeZ"
      }
    },
    {
      "cell_type": "markdown",
      "source": [
        "## Alignments\n",
        "\n",
        "Biopython also provides some simple alignment algorithms You can use for lists of Sequence Records:"
      ],
      "metadata": {
        "id": "aTichCJlOjch"
      }
    },
    {
      "cell_type": "markdown",
      "source": [
        "### Pairwise Alignment\n",
        "\n",
        "The ```PairwiseAligner``` takes two sequences and results in a list of possible alignments:\n"
      ],
      "metadata": {
        "id": "pq2d8P63Pktu"
      }
    },
    {
      "cell_type": "code",
      "source": [
        "from Bio import Align\n",
        "aligner = Align.PairwiseAligner()\n",
        "seq1 = \"GAACT\"\n",
        "seq2 = \"GAT\"\n",
        "alignments = aligner.align(seq1, seq2)\n"
      ],
      "metadata": {
        "id": "ShUjMmgfPoh_"
      },
      "execution_count": null,
      "outputs": []
    },
    {
      "cell_type": "code",
      "source": [
        "print(alignments[0])\n",
        "print(alignments[0].score)"
      ],
      "metadata": {
        "colab": {
          "base_uri": "https://localhost:8080/"
        },
        "id": "DJOmwpV3PqR_",
        "outputId": "b1dece23-b75f-41a5-b082-b3576570ba4a"
      },
      "execution_count": null,
      "outputs": [
        {
          "output_type": "stream",
          "name": "stdout",
          "text": [
            "GAACT\n",
            "||--|\n",
            "GA--T\n",
            "\n",
            "3.0\n"
          ]
        }
      ]
    },
    {
      "cell_type": "code",
      "source": [
        "print(alignments[1])\n",
        "print(alignments[1].score)"
      ],
      "metadata": {
        "colab": {
          "base_uri": "https://localhost:8080/"
        },
        "id": "XuxZDBQ0PvQx",
        "outputId": "5a0fef7b-6f9c-4285-a175-a402db180709"
      },
      "execution_count": null,
      "outputs": [
        {
          "output_type": "stream",
          "name": "stdout",
          "text": [
            "GAACT\n",
            "|-|-|\n",
            "G-A-T\n",
            "\n",
            "3.0\n"
          ]
        }
      ]
    },
    {
      "cell_type": "markdown",
      "source": [
        "# 🏁 Recap\n",
        "\n",
        "- If you have finished the tasks and have no questions, place the green card on top.\n",
        "- If you have finished the tasks but would like to discuss the solutions together again, place the yellow card on top.\n",
        "\n",
        "![](https://www.lokalinfo.ch/fileadmin/news_import/image003_03.jpg)"
      ],
      "metadata": {
        "id": "rpufgk50qNt9"
      }
    },
    {
      "cell_type": "markdown",
      "source": [
        "### Multiple Aligments\n",
        "\n",
        "[Multiple Aligments](https://biopython-cn.readthedocs.io/zh_CN/latest/en/chr06.html) are computantionally very expensive and the algorithms are often implemented in more efficent programming languages than Python.\n",
        "\n",
        "\n",
        "\n"
      ],
      "metadata": {
        "id": "nx49Lm2-Pfcn"
      }
    },
    {
      "cell_type": "markdown",
      "source": [
        "You can store and manipulate results of multiple aligments. This only works for multiple sequences of the same length. You can fill-up unknown bases with `_`: "
      ],
      "metadata": {
        "id": "axeKtAjetwoI"
      }
    },
    {
      "cell_type": "code",
      "source": [
        "from Bio.Seq import Seq\n",
        "from Bio.SeqRecord import SeqRecord\n",
        "from Bio.Align import MultipleSeqAlignment\n",
        "align1 = MultipleSeqAlignment(\n",
        "     [\n",
        "         SeqRecord(Seq(\"ACTGCTAGCTAG\"), id=\"Alpha\"),\n",
        "         SeqRecord(Seq(\"ACT-CTAGCTAG\"), id=\"Beta\"),\n",
        "         SeqRecord(Seq(\"ACTGCTAGDTAG\"), id=\"Gamma\"),\n",
        "         SeqRecord(Seq(\"___GTCAGC-AG\"), id=\"Delta\")\n",
        "     ]\n",
        " )\n",
        "align2 = MultipleSeqAlignment(\n",
        "     [\n",
        "\n",
        "         SeqRecord(Seq(\"GACAGCTAG\"), id=\"Epsilon\"),\n",
        "         SeqRecord(Seq(\"GTCAGCTAG\"), id=\"Zeta\")\n",
        "     ]\n",
        " )\n",
        "align3 = MultipleSeqAlignment(\n",
        "     [\n",
        "         SeqRecord(Seq(\"ACTAGTACAGCTG\"), id=\"Eta\"),\n",
        "         SeqRecord(Seq(\"ACTAGTACAGCT-\"), id=\"Theta\"),\n",
        "         SeqRecord(Seq(\"-CTACTACAGGTG\"), id=\"Iota\"),\n",
        "     ]\n",
        " )\n",
        "my_alignments = [align1, align2, align3]"
      ],
      "metadata": {
        "id": "Kst1VmZeOij_"
      },
      "execution_count": null,
      "outputs": []
    },
    {
      "cell_type": "code",
      "source": [
        "print(align1)"
      ],
      "metadata": {
        "colab": {
          "base_uri": "https://localhost:8080/"
        },
        "id": "GvqY5hqeOtKA",
        "outputId": "5ff43f6e-46ab-4962-91ff-41910be3236e"
      },
      "execution_count": null,
      "outputs": [
        {
          "output_type": "stream",
          "name": "stdout",
          "text": [
            "Alignment with 4 rows and 12 columns\n",
            "ACTGCTAGCTAG Alpha\n",
            "ACT-CTAGCTAG Beta\n",
            "ACTGCTAGDTAG Gamma\n",
            "___GTCAGC-AG Delta\n"
          ]
        }
      ]
    },
    {
      "cell_type": "markdown",
      "source": [
        "The PHYLIP file format is a typical format to store results of a multiple sequence alignment. The format was originally defined and used in Joe Felsenstein’s PHYLIP package, and has since been supported by several other bioinformatics tools\n",
        "\n",
        "The header consists of a single line describing the dimensions of the alignment. It must be the first line in the file. The header consists of optional spaces, followed by two positive integers (n and m) separated by one or more spaces. The first integer (n) specifies the number of sequences (i.e., the number of rows) in the alignment. The second integer (m) specifies the length of the sequences (i.e., the number of columns) in the alignment\n",
        "[1](http://scikit-bio.org/docs/0.2.2/generated/skbio.io.phylip.html)"
      ],
      "metadata": {
        "id": "uTJ-KEmbqbtG"
      }
    },
    {
      "cell_type": "code",
      "source": [
        "# Writing a phylip file\n",
        "from Bio import AlignIO\n",
        "AlignIO.write(my_alignments, \"my_example.phy\", \"phylip\")"
      ],
      "metadata": {
        "colab": {
          "base_uri": "https://localhost:8080/"
        },
        "id": "JF1m-GyqOuMB",
        "outputId": "3e7b606c-060d-4279-d258-677a0d0792fa"
      },
      "execution_count": null,
      "outputs": [
        {
          "output_type": "execute_result",
          "data": {
            "text/plain": [
              "3"
            ]
          },
          "metadata": {},
          "execution_count": 185
        }
      ]
    },
    {
      "cell_type": "markdown",
      "source": [
        "```\n",
        " 3 12\n",
        "Alpha      ACTGCTAGCT AG\n",
        "Beta       ACT-CTAGCT AG\n",
        "Gamma      ACTGCTAGDT AG\n",
        " 3 9\n",
        "Delta      GTCAGC-AG\n",
        "Epsilon    GACAGCTAG\n",
        "Zeta       GTCAGCTAG\n",
        " 3 13\n",
        "Eta        ACTAGTACAG CTG\n",
        "Theta      ACTAGTACAG CT-\n",
        "Iota       -CTACTACAG GTG\n",
        "```\n",
        "\n"
      ],
      "metadata": {
        "id": "wIxUg1cERy4S"
      }
    },
    {
      "cell_type": "markdown",
      "source": [
        "🏆 **Task**\n",
        "\n",
        "The following DNA samples encode the *pB1 Protein* of different influenza viruses. We want to find out, which of the three samples is different from the other two as it is an influenza viruses infects another species than the other two.\n",
        "\n",
        "The data stems from the \n",
        "[US National Center for Biotechnology Information](https://www.ncbi.nlm.nih.gov/genomes/FLU/Database/nph-select.cgi#mainform)\n",
        "\n",
        "Use a Multiple Sequence Alignment from the [EBI Webtool](https://www.ebi.ac.uk/Tools/services/web_clustalo/toolform.ebi) two answer the question.\n",
        "\n",
        "*Hint*: You can use Clustal Omega. Look into the Guide tree in the results to find the answer.\n",
        "\n",
        "\n",
        "```\n",
        "> M25925 \n",
        "AGCAAAAGCAGGCAAACCATTTGAATGGATGTCAATCCGACTTTACTTTTCTTGAAAGTTCCAGCGCAAAATGCCATAAGCACCACATTCCCATATACTGGAGATCCTCCATACAGCCATGGAACGGGAACAGGATACACCATGGACACAGTCAACAGAACACATCAATATTCAGAAAAGGGGAAATGGACAACAAACACAGAAACTGGAGCACCCCAACTTAACCCAATTGATGGACCATTACCTGAGGATAATGAGCCAAGTGGATATGCACAAACAGACTGTGTCCTGGAAGCAATGGCTTTCCTTGAAGAGTCCCACCCAGGAATCTTTGAAAACTCGTGTCTTGAAACGATGGAAGTTGTTCAACAAACAAGAGTGGACAAGCTGACCCAAGGTCGCCAGACCTATGATTGGACATTAAACAGGAATCAGCCGGCTGCAACTGCATTAGCTAATACTATAGAGGTCTTCAGATCGAACGGTTTAACGGCTAATGAATCAGGAAGGCTAATAGATTTCCTCAAGGATGTGATGGAATCAATGGATAAAGAGGAAATGGAAATAACAACGCACTTTCAAAGAAAAAGAAGGGTAAGGGACAACATGACCAAGAAAATGGTCACACAAAGAACAATAGGAAAGAAGAAACAGAGACTAAACAAGAGAAGCTATCTAATAAGAGCATTGACACTGAACACAATGACAAAAGACGCTGAAAGAGGCAAATTAAAGAGAAGAGCAATTGCAACACCTGGGATGCAAATCAGAGGATTTGTGTATTTTGTTGAAACATTAGCGAGGAGCATCTGTGAGAAGCTTGAACAATCTGGACTTCCAGTTGGAGGCAATGAAAAGAAGGCTAAACTGGCAAATGTTGTGAGAAAAATGATGACTAATTCACAAGACACAGAGCTCTCTTTCACAATCACTGGAGACAACACCAAATGGAATGAAAATCAGAACCCTAGGATGTTCCTGGCAATGATAACATACATAACAAGAAATCAACCTGAATGGTTTAGGAATGTCTTGAGTATTGCACCTATAATGTTCTCGAATAAAATGGCAAGGCTAGGAAAAGGATACATGTTCGAAAGTAAGAGCATGAAGCTTCGAACACAGATACCAGCAGAAATGTTAGCAAATATTGACCTGAAATATTTCAATGAGTCAACAAGAAAGAAAATAGAGAAGATAAGGCCTCTTCTAATAGATGGTACAGCTTCATTGAGTCCTGGAATGATGATGGGCATGTTCAACATGCTAAGTACAGTTTTAGGAGTCTCAATCCTAAATCTAGGACAAAAGAGGTACACCAAAACAACATACTGGTGGGACGGACTCCAATCCTCTGATGACTTTGCTCTCATAGTGAATGCACCGAATCATGAGGGAATACAAGCAGGAGTAGATAGATTCTATAGGACCTGCAAGCTAGTCGGAATCAATATGAGCAAAAAGAAGTCCTACATAAACAGGACAGGAACATTTGAATTCACAAGCTTTTTCTATCGCTATGGATTTGTAGCCAATTTTAGCATGGAGCTGCCCAGCTTTGGAGTGTCTGGGATTAATGAATCGGCTGACATGAGCATTGGAGTAACAGTGATAAAGAACAACATGATAAACAATGACCTTGGACCAGCAACGGCTCAAATGGCTCTTCAGCTGTTCATCAAGGATTACAGATACACGTATCGGTGTCACAGAGGGGACACACAAATTCAGACGAGGAGGTCATTCGAACTGAAAAAGTTGTGGGAACAAACCCGCTCAAAGGCAGGACTGCTGGTTTCAGATGGAGGACCAAACTTATACAATATCCGTAATCTCCACATCCCGGAAGTCTGCCTGAAATGGGAGCTAATGGACGAAGACTATCAGGGAAGGCTTTGTAACCCCCTGAACCCATTTGTCAGCCATAAGGAGATAGAGTCTGTAAACAATGCTGTGGTGATGCCAGCTCATGGCCCAGCCAAGAACATGGAATATGATGCTGTTGCTACTACACACTCCTGGATCCCTAAGAGGAACCGCTCCATCCTCAACACAAGCCAAAGGGGAATCCTTGAGGACGAACAGATGTATCAAAAGTGCTGCAATCTATTTGAGAAATTCTTCCCTAGCAGTTCATACAGGAGACCGGTTGGGATTTCCAGCATGGTGGAGGCCATGGTGTCTAGGGCCCGAATTGATGCACGAATTGACTTCGAGTCTGGACGGATTAAGAAGGAGGAGTTTGCTGAGATCATGAAGATCTGTTCCACCATTGAAGAGCTCAGACGGCAGAAATAGTGAATTTAGCTTGTCCTTCATGAAAAAATGCCTTGTTTCTACT\n",
        "> M25926\n",
        "AGCAAAAGCAGGCAAACCATTTGAATGGATGTCAATCCGACCTTACTTTTCTTGAAAGTTCCAGCACAAAATGCCATAAGCACCACATTCCCGTACACTGGAGATCCTCCATACAGCCATGGGACGGGGACAGGATACACCATGGACACAGTCAACAGAACACATCAATATTCAGAAAAGGGGAAATGGACCACAAACACAGAAACTGGAGCGCCCCAACTTAACCCAATTGATGGACCATTACCTGAGGATAATGAACCAAGTGGATATGCACAAACAGACTGCGTCCTGGAAGCAATGGCTTTCCTTGAAGAATCCCACCCAGGAATCTTTGAAAACTCGTGTCTTGAAACGATGGAAGTTGTTCAACAAACAAGAGTGGACAAGCTGACCCAAGGTCGCCAGACCTATGATTGGACATTAAACAGGAATCAGCCAGCTGCAACTGCATTAGCCAATACTATAGAGGTCTTCAGATCGAACGGTTTAACAGCTAATGAATCGGGAAGGCTAATCGATTTCCTCAAGGATGTGATGGAATCAATGGATAAAGAGGAAATGGAAATAACAACGCACTTCCAAAGAAAAAGAAGGGTGAGAGACAACATGACCAAGAAAATGGTCACACAAAGAACAATAGGAAAGAAGAAGCAGAGATTAAACAAGAGAAGCTATCTAATAAGAGCATTGACATTAAACACAATGACAAAAGATGCTGAAAGAGGCAAATTAAAGAGAAGAGCAATTGCAACACCCGGGATGCAAATCAGAGGATTTGTGTATTTTGTTGAAACACTAGCAAGGAGCATTTGTGAGAAGCTCGAGCAATCTGGACTTCCAGTTGGAGGCAATGAAAAGAAGGCTAAACTGGCAAATGTCGTGAGAAAGATGATGACTAATTCACAAGACACAGAGCTCTCTTTCACAATCACTGGAGACAACACCAAATGGAATGAAAATCAAAACCCTCGAATGTTCCTGGCAATGATAACATACATAACAAGAAATCAACCTGAATGGTTTAGAAATGTTTTGAGCATTGCACCTATAATGTTCTCGAATAAAATGGCAAGACTAGGAAAAGGATACATGTTCGAAAGCAAGAGCATGAAGCTTCGAACACAGATACCAGCAGAAATGCTAGCAGATATTGATCTGAAATATTTCAATGAATCAACAAGAAAGAAAATCGAGAAGATAAGACCTCTTCTAATAGATGGTACAGCCTCATTGAGTCCTGGAATGATGATGGGCATGTTCAATATGCTAAGTACGGTCTTAGGAGTCTCAATCCTAAATCTAGGACAAAAGAGATACACCAAAACAACATATTGGTGGGACGGACTCCAATCCTCTGATGACTTTGCTCTCATAGTGAATGCACCGAATCATGAGGGAATACAAGCAGGGGTAGATAGATTCTATAGAACCTGCAAGCTAGTCGGAATCAATATGAGCAAAAAGAAGTCCTACATAAACAGAACAGGAACATTTGAATTCACAAGCTTTTTCTATCGCTATGGATTTGTAGCCAATTTTAGCATGGAGCTGCCCAGCTTTGGAGTGTCTGGGATTAATGAATCGGCTGACATGAGCATTGGAGTAACAGTGATAAAGAACAACATGATAAATAATGACCTTGGGCCAGCAACAGCTCAAATGGCTCTTCAGCTATTCATCAAAGATTACAGATATACGTATCGATGCCACAGAGGGGACACACAAATTCAGACAAGGAGGTCATTCGAGCTAAAGAAGTTGTGGGAACAAACCCGCTCAAAGGCAGGACTGCTGGTTTCAGATGGAGGACCAAATTTATACAATATCCGGAATCTCCACATCCCGGAAGTCTGCTTGAAATGGGAGCTAATGGACGAAGACTATCAGGGGAGGCTTTGTAATCCCCTGAATCCATTTGTCAGCCATAAGGAAATAGAGTCTGTAAACAATGCTGTGGTAATGCCAGCTCATGGCCCAGCCAAGAGCATGGAATATGATGCTGTTGCTACTACACACTCCTGGATCCCTAAGAGGAACCGCTCCATTCTCAACACAAGCCAAAGGGGAATCCTTGAAGATGAACAGATGTATCAAAAGTGTTGCAATCTATTCGAGAAATTCTTCCCTAGCAGTTCATACAGGAGACCGGTTGGGATTTCCAGCATGGTGGAGGCCATGGTGTCTAGGGCCCGAATTGATGCGCGGATTGACTTCGAATCTGGACGGATTAAGAAAGAGGAGTTCGCTGAGATCATGAAGATCTGTTCCACCATTGAAGAGCTCAGACGGCAGAAATAGTGAATTTAGCTTGTCCTTCATGAAAAAATGCCTTGTTTCTACT\n",
        "> MT058709\n",
        "CAAACCATTTGAATGGATGTCAATCCGACTCTACTTTTCCTAAAAATTCCAGCACAAAATGCCATAAGCACCACATTCCCTTATACTGGAGATCCTCCATACAGCCATGGAACAGGAACAGGATACACCATGGACACAGTAAACAGAACACACCAATACTCAGAAAAGGGGAAGTGGACAACAAACACAGAGACTGGTGCACCCCAGCTCAACCCGATTGACGGACCACTACCTGAAGATAATGAACCAAGTGGGTATGCACAAACAGACTGTGTTCTAGAGGCTATGGCTTTCCTTGAAGAATCCCATCCAGGAATATTTGAAAATTCATGCCTTGAAACAATGGAAGTTGTTCAACAAACAAGGGTAGATAAACTGACTCAAGGTCGCCAGACTTATGATTGGACATTAAACAGAAATCAACCGGCAGCAACTGCATTGGCCAACACCATAGAAGTTTTCAGATCGAATGACCTAACAGCTAACGAGTCAGGAAGGCTAATAGATTTCTTAAAGGATGTGATGGAATCAATGAACAAAGAGGAAATAGAGATAACAACCCACTTTCAAAGAAAAAGGAGAGTAAGAGACAACATGACCAAGAAGATGATCACGCAAAGAACAATAGGGAAGAAAAAACAGAGACTGAATAAGAGAGGCTATCTAATAAGAGCACTGACATTAAATACGATGACCAAAGATGCAGAGAGAGGCAAGTTAAAAAGAAGGGCTATCGCAACACCTGGGATGCAGATTAGAGGTTTCGTATACTTTGTTGAAACTTTAGCTAGGAGCATTTGCGAAAAGCTTGAACAGTCTGGGCTCCCAGTAGGGGGCAATGAAAAGAAGGCCAAATTGGCAAATGTTGTGAGAAAGATGATGACTAATTCACAAGATACAGAGATTTCTTTCACAATCACTGGGGACAACACTAAATGGAATGAGAATCAAAATCCTCGAATGTTCCTGGCGATGATTACATATATCACCAGAAATCAACCCGAGTGGTTTAGAAACATCCTGAGCATGGCACCCATAATGTTCTCAAATAAAATGGCAAGACTAGGGAAAGGGTACATGTTCGAGAGTAAAAGAATGAAGATTCGAACACAAATACCAGCAGAAATGCTAGCAAGCATTGATCTAAAGTATTTCAATGAATCAACAAGGAAGAAAATTGAGAAGATAAGGCCTCTTTTAATGGATGGCACAGCATCACTGAGTCCTGGGATGATGATGGGCATGTTCAACATGCTAAGTACTGTCTTGGGAGTCTCGATACTGAATCTTGGACAAAAGAAATACACCAAGACAACATACTGGTGGGATGGGCTTCAATCATCCGACGATTTTGCTCTCATAGTGAATGCACCAAACCATGAAGGAATACAAGCAGGAGTGGACAGATTCTACAGGACCTGCAAATTAGTGGGAATCAACATGAGCAAAAAGAAGTCCTATATAAATAAGACAGGGACATTTGAATTCACAAGCTTTTTTTATCGCTATGGATTTGTGGCTAATTTTAGCATGGAGCTACCCAGCTTTGGAGTGTCTGGAGTAAATGAATCAGCTGACATGAGTATTGGAGTAACAGTGATAAAGAACAACATGATAAACAATGACCTTGGACCTGCAACGGCTCAGATGGCTCTTCAATTGTTCATCAAAGACTACAGATACACATATAGATGTCATAGGGGAGACACACAAATTCAGACGAGAAGATCATTTGAGTTGAAGAAGCTATGGGATCAAACCCAATCAAAGGTAGGGCTATTAGTATCAGATGGAGGACCAAACTTATACAACATACGGAATCTTCACATTCCTGAAGTCTGCTTAAAATGGGAGCTAATGGATGATGATTATCGGGGAAGACTTTGTAATCCCCTGAATCCCTTTGTGAGTCATAAGGAGATTGATTCTGTAAACAATGCTGTGGTAATGCCAGCCCATGGCCCAGCCAAAAGCATGGAATATGATGCCGTCGCTACTACACATTCCTGGATTCCCAAGAGGAATCGTTCTATTCTCAACACAAGCCAAAGGGGAATTCTTGAGGATGAACAGATGTACCAGAAGTGTTGCAATTTATTCGAGAAATTTTTCCCTAGCAGTTCATATAGGAGGCCGGTTGGAATTTCTAGCATGGTGGAGGCCATGGTGTCTAGGGCCCGGATTGATGCCAGAGTCGACTTTGAGTCTGGACGGATTAAGAAAGAAGAGTTCTCTGAGATCATGAAGATCTGTTCCACCATTGAAGAACTCAGACGGCAAAAATAATGAATTTAACTTGTCCTTCATGAAAAAATG\n",
        "```"
      ],
      "metadata": {
        "id": "tt9BebIPTFlw"
      }
    },
    {
      "cell_type": "code",
      "source": [],
      "metadata": {
        "id": "3dz-O8__iCmE"
      },
      "execution_count": null,
      "outputs": []
    }
  ]
}
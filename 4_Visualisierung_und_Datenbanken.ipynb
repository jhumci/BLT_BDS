{
  "cells": [
    {
      "cell_type": "markdown",
      "metadata": {
        "id": "eIxn9SV3McB7"
      },
      "source": [
        "<table style=\"width: 100%\">\n",
        "    <tr style=\"background: #ffffff\">\n",
        "        <td style=\"padding-top:25px;width: 180px\"><img src=\"https://mci.edu/templates/mci/images/logo.svg\" alt=\"Logo\"></td>\n",
        "        <td style=\"width: 100%\">\n",
        "            <div style=\"text-align:right; width: 100%; text-align:right\"><font style=\"font-size:38px\"><b>Visualisierung und Datenbanken</b></font></div>\n",
        "            <div style=\"padding-top:0px; width: 100%; text-align:right\"><font size=\"4\"><b>WS 2022</b></font></div>\n",
        "        </td>\n",
        "    </tr>\n",
        "</table>\n",
        "\n",
        "---\n",
        "\n",
        "# 4 Statistical Plots in Python\n",
        "\n",
        "Numerical statistics and plot can help to understand unkown data sets. This notebook shows, how You can use Python make a quick analysis of a data set.\n"
      ]
    },
    {
      "cell_type": "markdown",
      "metadata": {
        "id": "DEB3am53pZxB"
      },
      "source": [
        "## Descriptive Statistics in Python\n",
        "\n",
        "First, we generate some key numbers, that describe each variable in the data set."
      ]
    },
    {
      "cell_type": "code",
      "execution_count": 1,
      "metadata": {
        "colab": {
          "base_uri": "https://localhost:8080/",
          "height": 424
        },
        "id": "wTolgNZnouZT",
        "outputId": "685301b9-b9ec-4b4e-d3bd-9b1f0da17cb7"
      },
      "outputs": [
        {
          "data": {
            "text/html": [
              "<div>\n",
              "<style scoped>\n",
              "    .dataframe tbody tr th:only-of-type {\n",
              "        vertical-align: middle;\n",
              "    }\n",
              "\n",
              "    .dataframe tbody tr th {\n",
              "        vertical-align: top;\n",
              "    }\n",
              "\n",
              "    .dataframe thead th {\n",
              "        text-align: right;\n",
              "    }\n",
              "</style>\n",
              "<table border=\"1\" class=\"dataframe\">\n",
              "  <thead>\n",
              "    <tr style=\"text-align: right;\">\n",
              "      <th></th>\n",
              "      <th>species</th>\n",
              "      <th>island</th>\n",
              "      <th>bill_length_mm</th>\n",
              "      <th>bill_depth_mm</th>\n",
              "      <th>flipper_length_mm</th>\n",
              "      <th>body_mass_g</th>\n",
              "      <th>sex</th>\n",
              "    </tr>\n",
              "  </thead>\n",
              "  <tbody>\n",
              "    <tr>\n",
              "      <th>0</th>\n",
              "      <td>Adelie</td>\n",
              "      <td>Torgersen</td>\n",
              "      <td>39.1</td>\n",
              "      <td>18.7</td>\n",
              "      <td>181.0</td>\n",
              "      <td>3750.0</td>\n",
              "      <td>Male</td>\n",
              "    </tr>\n",
              "    <tr>\n",
              "      <th>1</th>\n",
              "      <td>Adelie</td>\n",
              "      <td>Torgersen</td>\n",
              "      <td>39.5</td>\n",
              "      <td>17.4</td>\n",
              "      <td>186.0</td>\n",
              "      <td>3800.0</td>\n",
              "      <td>Female</td>\n",
              "    </tr>\n",
              "    <tr>\n",
              "      <th>2</th>\n",
              "      <td>Adelie</td>\n",
              "      <td>Torgersen</td>\n",
              "      <td>40.3</td>\n",
              "      <td>18.0</td>\n",
              "      <td>195.0</td>\n",
              "      <td>3250.0</td>\n",
              "      <td>Female</td>\n",
              "    </tr>\n",
              "    <tr>\n",
              "      <th>3</th>\n",
              "      <td>Adelie</td>\n",
              "      <td>Torgersen</td>\n",
              "      <td>NaN</td>\n",
              "      <td>NaN</td>\n",
              "      <td>NaN</td>\n",
              "      <td>NaN</td>\n",
              "      <td>NaN</td>\n",
              "    </tr>\n",
              "    <tr>\n",
              "      <th>4</th>\n",
              "      <td>Adelie</td>\n",
              "      <td>Torgersen</td>\n",
              "      <td>36.7</td>\n",
              "      <td>19.3</td>\n",
              "      <td>193.0</td>\n",
              "      <td>3450.0</td>\n",
              "      <td>Female</td>\n",
              "    </tr>\n",
              "    <tr>\n",
              "      <th>...</th>\n",
              "      <td>...</td>\n",
              "      <td>...</td>\n",
              "      <td>...</td>\n",
              "      <td>...</td>\n",
              "      <td>...</td>\n",
              "      <td>...</td>\n",
              "      <td>...</td>\n",
              "    </tr>\n",
              "    <tr>\n",
              "      <th>339</th>\n",
              "      <td>Gentoo</td>\n",
              "      <td>Biscoe</td>\n",
              "      <td>NaN</td>\n",
              "      <td>NaN</td>\n",
              "      <td>NaN</td>\n",
              "      <td>NaN</td>\n",
              "      <td>NaN</td>\n",
              "    </tr>\n",
              "    <tr>\n",
              "      <th>340</th>\n",
              "      <td>Gentoo</td>\n",
              "      <td>Biscoe</td>\n",
              "      <td>46.8</td>\n",
              "      <td>14.3</td>\n",
              "      <td>215.0</td>\n",
              "      <td>4850.0</td>\n",
              "      <td>Female</td>\n",
              "    </tr>\n",
              "    <tr>\n",
              "      <th>341</th>\n",
              "      <td>Gentoo</td>\n",
              "      <td>Biscoe</td>\n",
              "      <td>50.4</td>\n",
              "      <td>15.7</td>\n",
              "      <td>222.0</td>\n",
              "      <td>5750.0</td>\n",
              "      <td>Male</td>\n",
              "    </tr>\n",
              "    <tr>\n",
              "      <th>342</th>\n",
              "      <td>Gentoo</td>\n",
              "      <td>Biscoe</td>\n",
              "      <td>45.2</td>\n",
              "      <td>14.8</td>\n",
              "      <td>212.0</td>\n",
              "      <td>5200.0</td>\n",
              "      <td>Female</td>\n",
              "    </tr>\n",
              "    <tr>\n",
              "      <th>343</th>\n",
              "      <td>Gentoo</td>\n",
              "      <td>Biscoe</td>\n",
              "      <td>49.9</td>\n",
              "      <td>16.1</td>\n",
              "      <td>213.0</td>\n",
              "      <td>5400.0</td>\n",
              "      <td>Male</td>\n",
              "    </tr>\n",
              "  </tbody>\n",
              "</table>\n",
              "<p>344 rows × 7 columns</p>\n",
              "</div>"
            ],
            "text/plain": [
              "    species     island  bill_length_mm  bill_depth_mm  flipper_length_mm  \\\n",
              "0    Adelie  Torgersen            39.1           18.7              181.0   \n",
              "1    Adelie  Torgersen            39.5           17.4              186.0   \n",
              "2    Adelie  Torgersen            40.3           18.0              195.0   \n",
              "3    Adelie  Torgersen             NaN            NaN                NaN   \n",
              "4    Adelie  Torgersen            36.7           19.3              193.0   \n",
              "..      ...        ...             ...            ...                ...   \n",
              "339  Gentoo     Biscoe             NaN            NaN                NaN   \n",
              "340  Gentoo     Biscoe            46.8           14.3              215.0   \n",
              "341  Gentoo     Biscoe            50.4           15.7              222.0   \n",
              "342  Gentoo     Biscoe            45.2           14.8              212.0   \n",
              "343  Gentoo     Biscoe            49.9           16.1              213.0   \n",
              "\n",
              "     body_mass_g     sex  \n",
              "0         3750.0    Male  \n",
              "1         3800.0  Female  \n",
              "2         3250.0  Female  \n",
              "3            NaN     NaN  \n",
              "4         3450.0  Female  \n",
              "..           ...     ...  \n",
              "339          NaN     NaN  \n",
              "340       4850.0  Female  \n",
              "341       5750.0    Male  \n",
              "342       5200.0  Female  \n",
              "343       5400.0    Male  \n",
              "\n",
              "[344 rows x 7 columns]"
            ]
          },
          "execution_count": 1,
          "metadata": {},
          "output_type": "execute_result"
        }
      ],
      "source": [
        "import seaborn as sns\n",
        "penguins = sns.load_dataset(\"penguins\")\n",
        "penguins"
      ]
    },
    {
      "cell_type": "markdown",
      "metadata": {
        "id": "gOtM5TqMqOfG"
      },
      "source": [
        "### Calculating Statistics\n",
        "\n",
        "The `describe()` function automatically generates key charcteristics for each variable in the data frame:"
      ]
    },
    {
      "cell_type": "code",
      "execution_count": 2,
      "metadata": {
        "colab": {
          "base_uri": "https://localhost:8080/",
          "height": 300
        },
        "id": "eQuTTUKsqF8K",
        "outputId": "76ba3d5a-61b2-49a7-ded1-c9f7f266c9ee"
      },
      "outputs": [
        {
          "data": {
            "text/html": [
              "<div>\n",
              "<style scoped>\n",
              "    .dataframe tbody tr th:only-of-type {\n",
              "        vertical-align: middle;\n",
              "    }\n",
              "\n",
              "    .dataframe tbody tr th {\n",
              "        vertical-align: top;\n",
              "    }\n",
              "\n",
              "    .dataframe thead th {\n",
              "        text-align: right;\n",
              "    }\n",
              "</style>\n",
              "<table border=\"1\" class=\"dataframe\">\n",
              "  <thead>\n",
              "    <tr style=\"text-align: right;\">\n",
              "      <th></th>\n",
              "      <th>bill_length_mm</th>\n",
              "      <th>bill_depth_mm</th>\n",
              "      <th>flipper_length_mm</th>\n",
              "      <th>body_mass_g</th>\n",
              "    </tr>\n",
              "  </thead>\n",
              "  <tbody>\n",
              "    <tr>\n",
              "      <th>count</th>\n",
              "      <td>342.000000</td>\n",
              "      <td>342.000000</td>\n",
              "      <td>342.000000</td>\n",
              "      <td>342.000000</td>\n",
              "    </tr>\n",
              "    <tr>\n",
              "      <th>mean</th>\n",
              "      <td>43.921930</td>\n",
              "      <td>17.151170</td>\n",
              "      <td>200.915205</td>\n",
              "      <td>4201.754386</td>\n",
              "    </tr>\n",
              "    <tr>\n",
              "      <th>std</th>\n",
              "      <td>5.459584</td>\n",
              "      <td>1.974793</td>\n",
              "      <td>14.061714</td>\n",
              "      <td>801.954536</td>\n",
              "    </tr>\n",
              "    <tr>\n",
              "      <th>min</th>\n",
              "      <td>32.100000</td>\n",
              "      <td>13.100000</td>\n",
              "      <td>172.000000</td>\n",
              "      <td>2700.000000</td>\n",
              "    </tr>\n",
              "    <tr>\n",
              "      <th>25%</th>\n",
              "      <td>39.225000</td>\n",
              "      <td>15.600000</td>\n",
              "      <td>190.000000</td>\n",
              "      <td>3550.000000</td>\n",
              "    </tr>\n",
              "    <tr>\n",
              "      <th>50%</th>\n",
              "      <td>44.450000</td>\n",
              "      <td>17.300000</td>\n",
              "      <td>197.000000</td>\n",
              "      <td>4050.000000</td>\n",
              "    </tr>\n",
              "    <tr>\n",
              "      <th>75%</th>\n",
              "      <td>48.500000</td>\n",
              "      <td>18.700000</td>\n",
              "      <td>213.000000</td>\n",
              "      <td>4750.000000</td>\n",
              "    </tr>\n",
              "    <tr>\n",
              "      <th>max</th>\n",
              "      <td>59.600000</td>\n",
              "      <td>21.500000</td>\n",
              "      <td>231.000000</td>\n",
              "      <td>6300.000000</td>\n",
              "    </tr>\n",
              "  </tbody>\n",
              "</table>\n",
              "</div>"
            ],
            "text/plain": [
              "       bill_length_mm  bill_depth_mm  flipper_length_mm  body_mass_g\n",
              "count      342.000000     342.000000         342.000000   342.000000\n",
              "mean        43.921930      17.151170         200.915205  4201.754386\n",
              "std          5.459584       1.974793          14.061714   801.954536\n",
              "min         32.100000      13.100000         172.000000  2700.000000\n",
              "25%         39.225000      15.600000         190.000000  3550.000000\n",
              "50%         44.450000      17.300000         197.000000  4050.000000\n",
              "75%         48.500000      18.700000         213.000000  4750.000000\n",
              "max         59.600000      21.500000         231.000000  6300.000000"
            ]
          },
          "execution_count": 2,
          "metadata": {},
          "output_type": "execute_result"
        }
      ],
      "source": [
        "penguins.describe()"
      ]
    },
    {
      "cell_type": "markdown",
      "metadata": {
        "id": "Jq-OaPl6tUMG"
      },
      "source": [
        "Note, that we can also apply functions to calculate single statistics based on single columns:"
      ]
    },
    {
      "cell_type": "code",
      "execution_count": 3,
      "metadata": {
        "colab": {
          "base_uri": "https://localhost:8080/"
        },
        "id": "W8Dtr-sNouS7",
        "outputId": "61e073ed-53a8-4e70-ef8e-aefbc218e652"
      },
      "outputs": [
        {
          "data": {
            "text/plain": [
              "43.9219298245614"
            ]
          },
          "execution_count": 3,
          "metadata": {},
          "output_type": "execute_result"
        }
      ],
      "source": [
        "penguins[\"bill_length_mm\"].mean()"
      ]
    },
    {
      "cell_type": "code",
      "execution_count": 4,
      "metadata": {
        "colab": {
          "base_uri": "https://localhost:8080/"
        },
        "id": "kgzIVQU4o6iz",
        "outputId": "e6e6d38b-6639-4f94-f747-4aa43ec5460f"
      },
      "outputs": [
        {
          "data": {
            "text/plain": [
              "197.73179160021266"
            ]
          },
          "execution_count": 4,
          "metadata": {},
          "output_type": "execute_result"
        }
      ],
      "source": [
        "penguins[\"flipper_length_mm\"].var()"
      ]
    },
    {
      "cell_type": "markdown",
      "metadata": {
        "id": "aSgOJb68pgny"
      },
      "source": [
        "### Histogram\n",
        "\n",
        "To improve our understanding of the distribution of one variables of the data, we can plot a histogram.\n",
        "\n",
        "If, we just want to take a quick look at the data of the column `flipper_length_mm`, we can use the pandas function `hist()`"
      ]
    },
    {
      "cell_type": "code",
      "execution_count": 5,
      "metadata": {
        "colab": {
          "base_uri": "https://localhost:8080/",
          "height": 282
        },
        "id": "9XN3Z4u9o8e1",
        "outputId": "6af4f98a-813c-4c0b-943f-6de4a0e7f6cc"
      },
      "outputs": [
        {
          "data": {
            "text/plain": [
              "<AxesSubplot:>"
            ]
          },
          "execution_count": 5,
          "metadata": {},
          "output_type": "execute_result"
        },
        {
          "data": {
            "image/png": "[encoded data removed]",
            "text/plain": [
              "<Figure size 432x288 with 1 Axes>"
            ]
          },
          "metadata": {
            "needs_background": "light"
          },
          "output_type": "display_data"
        }
      ],
      "source": [
        "penguins[\"flipper_length_mm\"].hist()"
      ]
    },
    {
      "cell_type": "markdown",
      "metadata": {
        "id": "zddkDZxypiY6"
      },
      "source": [
        "For nicer plots, seaborn, provides a ```histplot()``` that just works like any other seaborn plot. The crucial parameter of a histogram is the number of bins (`bins`)."
      ]
    },
    {
      "cell_type": "code",
      "execution_count": 6,
      "metadata": {
        "colab": {
          "base_uri": "https://localhost:8080/",
          "height": 297
        },
        "id": "ZatN0pD0o-zq",
        "outputId": "aa583398-d9eb-4f77-bf29-f98eb6f9c29e"
      },
      "outputs": [
        {
          "data": {
            "text/plain": [
              "<AxesSubplot:xlabel='flipper_length_mm', ylabel='Count'>"
            ]
          },
          "execution_count": 6,
          "metadata": {},
          "output_type": "execute_result"
        },
        {
          "data": {
            "image/png": "[encoded data removed]",
            "text/plain": [
              "<Figure size 432x288 with 1 Axes>"
            ]
          },
          "metadata": {
            "needs_background": "light"
          },
          "output_type": "display_data"
        }
      ],
      "source": [
        "sns.histplot(data=penguins,  x=\"flipper_length_mm\", bins=30)"
      ]
    },
    {
      "cell_type": "markdown",
      "metadata": {
        "id": "-8Z26XWap1vD"
      },
      "source": [
        "As with other seaborn plots, we can group the data using the `hue` parameter: "
      ]
    },
    {
      "cell_type": "code",
      "execution_count": 7,
      "metadata": {
        "colab": {
          "base_uri": "https://localhost:8080/",
          "height": 297
        },
        "id": "12LaWaU0m54x",
        "outputId": "8ecf6e3b-d2ed-4504-a6bc-7f8ee87f5cc8"
      },
      "outputs": [
        {
          "data": {
            "text/plain": [
              "<AxesSubplot:xlabel='flipper_length_mm', ylabel='Count'>"
            ]
          },
          "execution_count": 7,
          "metadata": {},
          "output_type": "execute_result"
        },
        {
          "data": {
            "image/png": "[encoded data removed]",
            "text/plain": [
              "<Figure size 432x288 with 1 Axes>"
            ]
          },
          "metadata": {
            "needs_background": "light"
          },
          "output_type": "display_data"
        }
      ],
      "source": [
        "sns.histplot(data=penguins,  x=\"flipper_length_mm\", bins=30, hue = \"sex\")"
      ]
    },
    {
      "cell_type": "code",
      "execution_count": 8,
      "metadata": {
        "colab": {
          "base_uri": "https://localhost:8080/",
          "height": 298
        },
        "id": "mQhnGflYp1ZL",
        "outputId": "6ace3347-c800-435b-a9b2-5f123e249e36"
      },
      "outputs": [
        {
          "data": {
            "text/plain": [
              "<AxesSubplot:xlabel='flipper_length_mm', ylabel='Count'>"
            ]
          },
          "execution_count": 8,
          "metadata": {},
          "output_type": "execute_result"
        },
        {
          "data": {
            "image/png": "[encoded data removed]",
            "text/plain": [
              "<Figure size 432x288 with 1 Axes>"
            ]
          },
          "metadata": {
            "needs_background": "light"
          },
          "output_type": "display_data"
        }
      ],
      "source": [
        "sns.histplot(data=penguins,  x=\"flipper_length_mm\", bins=30, hue = \"species\")"
      ]
    },
    {
      "cell_type": "markdown",
      "metadata": {
        "id": "uNu07hBmrNLm"
      },
      "source": [
        "#### ✍️ Task\n",
        "\n",
        "Looking at the grouped histogram above. Which of the species do You suspect having the largest variance in `bill length`? Calculate the variance to check Your intuition.\n",
        "\n",
        "*Hint*\n",
        "- You can either `groupby()` the DataFrame by the species and calculate the variance\n",
        "- Or filter the data frame for species before calculating the variance"
      ]
    },
    {
      "cell_type": "code",
      "execution_count": null,
      "metadata": {},
      "outputs": [],
      "source": []
    },
    {
      "cell_type": "code",
      "execution_count": 10,
      "metadata": {
        "colab": {
          "base_uri": "https://localhost:8080/",
          "height": 175
        },
        "id": "LkH6ahP3rlnN",
        "outputId": "197c8bf6-0ca6-48cf-c713-41adb8bc290a"
      },
      "outputs": [
        {
          "data": {
            "text/html": [
              "<div>\n",
              "<style scoped>\n",
              "    .dataframe tbody tr th:only-of-type {\n",
              "        vertical-align: middle;\n",
              "    }\n",
              "\n",
              "    .dataframe tbody tr th {\n",
              "        vertical-align: top;\n",
              "    }\n",
              "\n",
              "    .dataframe thead th {\n",
              "        text-align: right;\n",
              "    }\n",
              "</style>\n",
              "<table border=\"1\" class=\"dataframe\">\n",
              "  <thead>\n",
              "    <tr style=\"text-align: right;\">\n",
              "      <th></th>\n",
              "      <th>bill_length_mm</th>\n",
              "      <th>bill_depth_mm</th>\n",
              "      <th>flipper_length_mm</th>\n",
              "      <th>body_mass_g</th>\n",
              "    </tr>\n",
              "    <tr>\n",
              "      <th>species</th>\n",
              "      <th></th>\n",
              "      <th></th>\n",
              "      <th></th>\n",
              "      <th></th>\n",
              "    </tr>\n",
              "  </thead>\n",
              "  <tbody>\n",
              "    <tr>\n",
              "      <th>Adelie</th>\n",
              "      <td>7.093725</td>\n",
              "      <td>1.480237</td>\n",
              "      <td>42.764503</td>\n",
              "      <td>210282.891832</td>\n",
              "    </tr>\n",
              "    <tr>\n",
              "      <th>Chinstrap</th>\n",
              "      <td>11.150630</td>\n",
              "      <td>1.289122</td>\n",
              "      <td>50.863916</td>\n",
              "      <td>147713.454785</td>\n",
              "    </tr>\n",
              "    <tr>\n",
              "      <th>Gentoo</th>\n",
              "      <td>9.497845</td>\n",
              "      <td>0.962792</td>\n",
              "      <td>42.054911</td>\n",
              "      <td>254133.180061</td>\n",
              "    </tr>\n",
              "  </tbody>\n",
              "</table>\n",
              "</div>"
            ],
            "text/plain": [
              "           bill_length_mm  bill_depth_mm  flipper_length_mm    body_mass_g\n",
              "species                                                                   \n",
              "Adelie           7.093725       1.480237          42.764503  210282.891832\n",
              "Chinstrap       11.150630       1.289122          50.863916  147713.454785\n",
              "Gentoo           9.497845       0.962792          42.054911  254133.180061"
            ]
          },
          "execution_count": 10,
          "metadata": {},
          "output_type": "execute_result"
        }
      ],
      "source": [
        "#@title ❓ Click `Show code` in the code cell to show the solution. { display-mode: \"form\" }\n",
        "penguins.groupby(\"species\").var()"
      ]
    },
    {
      "cell_type": "markdown",
      "metadata": {
        "id": "_b1_UAnfqS8q"
      },
      "source": [
        "### Box Plots for Group Differences\n",
        "\n",
        "Box plots are even more valuable, if we want to see how a variable differs for different groups within the data.\n",
        "\n",
        "We can call the `boxplot()` function and select the variables to show (must be numeric) and the variable to group by (should be nominal or ordinal).\n",
        "\n"
      ]
    },
    {
      "cell_type": "code",
      "execution_count": 11,
      "metadata": {
        "colab": {
          "base_uri": "https://localhost:8080/",
          "height": 297
        },
        "id": "1Lwy6BShqSo7",
        "outputId": "3381b760-e43b-4fb5-9b48-33a7eb3dfe54"
      },
      "outputs": [
        {
          "data": {
            "text/plain": [
              "<matplotlib.axes._subplots.AxesSubplot at 0x7f3a1b968580>"
            ]
          },
          "execution_count": 11,
          "metadata": {},
          "output_type": "execute_result"
        },
        {
          "data": {
            "image/png": "[encoded data removed]",
            "text/plain": [
              "<Figure size 432x288 with 1 Axes>"
            ]
          },
          "metadata": {
            "needs_background": "light"
          },
          "output_type": "display_data"
        }
      ],
      "source": [
        "sns.boxplot(data=penguins, x=\"flipper_length_mm\", y=\"species\")"
      ]
    },
    {
      "cell_type": "markdown",
      "metadata": {
        "id": "hN80ceJht-lN"
      },
      "source": [
        "The box plots show hat the inter quartile range is pretty small for all species.\n",
        "There a some outlier that are Adelie penguine.\n",
        "\n",
        "While there seems to be no siginifcant difference between the flipper length between Adellie and Chinstrap, the flipper length of Gentoo penguine seems to be significantly longer."
      ]
    },
    {
      "cell_type": "markdown",
      "metadata": {
        "id": "mGYaU0tovKge"
      },
      "source": [
        "The violin plot is a more modern version of the box plot. It also contains the median (white dot) and the interquartile range (black box), but also plot the distribution of the variable (smoothened  version of the histogram)."
      ]
    },
    {
      "cell_type": "markdown",
      "metadata": {},
      "source": [
        "#### ✍️ Task\n",
        "\n",
        "Make a violin plot for the bill length of the penguins grouped by species. Which species has two distinct peaks in the distribution of bill length? What could cause this?"
      ]
    },
    {
      "cell_type": "code",
      "execution_count": null,
      "metadata": {},
      "outputs": [],
      "source": []
    },
    {
      "cell_type": "code",
      "execution_count": null,
      "metadata": {
        "colab": {
          "base_uri": "https://localhost:8080/",
          "height": 297
        },
        "id": "cOwYuG-kt97u",
        "outputId": "909d409f-952c-4cce-c758-4f7ce67ed8fb"
      },
      "outputs": [
        {
          "data": {
            "text/plain": [
              "<matplotlib.axes._subplots.AxesSubplot at 0x7f6d61e66b10>"
            ]
          },
          "execution_count": 16,
          "metadata": {},
          "output_type": "execute_result"
        },
        {
          "data": {
            "image/png": "[encoded data removed]",
            "text/plain": [
              "<Figure size 432x288 with 1 Axes>"
            ]
          },
          "metadata": {
            "needs_background": "light"
          },
          "output_type": "display_data"
        }
      ],
      "source": [
        "#@title ❓ Click `Show code` in the code cell to show the solution. { display-mode: \"form\" }\n",
        "sns.violinplot(data=penguins, x=\"bill_length_mm\", y=\"species\")"
      ]
    },
    {
      "cell_type": "code",
      "execution_count": null,
      "metadata": {
        "colab": {
          "base_uri": "https://localhost:8080/",
          "height": 297
        },
        "id": "niG0ALeyv2i-",
        "outputId": "302d5dac-c95e-4e65-8e5f-a8b6cbbb98f6"
      },
      "outputs": [
        {
          "data": {
            "text/plain": [
              "<matplotlib.axes._subplots.AxesSubplot at 0x7f6d61df43d0>"
            ]
          },
          "execution_count": 17,
          "metadata": {},
          "output_type": "execute_result"
        },
        {
          "data": {
            "image/png": "[encoded data removed]",
            "text/plain": [
              "<Figure size 432x288 with 1 Axes>"
            ]
          },
          "metadata": {
            "needs_background": "light"
          },
          "output_type": "display_data"
        }
      ],
      "source": [
        "# The hue parameter adds a categorical variable in the plot\n",
        "# Chinstrap penguins have more pronounced sexual dimorphism\n",
        "sns.violinplot(data=penguins, x=\"bill_length_mm\", y=\"species\", hue=\"sex\")"
      ]
    },
    {
      "cell_type": "markdown",
      "metadata": {
        "id": "vfS2E6JMqmdB"
      },
      "source": [
        "### 🤓 Empirical Cumulative Density Functions\n",
        "\n",
        "Finally, the [Empirical Cumulative Density Functions](https://seaborn.pydata.org/generated/seaborn.ecdfplot.html) sorts the data in ascending order and puts the porportion on the y-axis. In this way You can directly read the quantile-values from the graph."
      ]
    },
    {
      "cell_type": "code",
      "execution_count": null,
      "metadata": {
        "colab": {
          "base_uri": "https://localhost:8080/",
          "height": 301
        },
        "id": "MSTuI7b6v911",
        "outputId": "95e71dba-343b-463d-8f4e-dda7cceb93b1"
      },
      "outputs": [
        {
          "data": {
            "text/plain": [
              "<matplotlib.axes._subplots.AxesSubplot at 0x7f6d60b68c50>"
            ]
          },
          "execution_count": 28,
          "metadata": {},
          "output_type": "execute_result"
        },
        {
          "data": {
            "image/png": "[encoded data removed]",
            "text/plain": [
              "<Figure size 432x288 with 1 Axes>"
            ]
          },
          "metadata": {
            "needs_background": "light"
          },
          "output_type": "display_data"
        }
      ],
      "source": [
        "sns.ecdfplot(data=penguins, x = \"bill_length_mm\", hue=\"sex\")"
      ]
    },
    {
      "cell_type": "markdown",
      "metadata": {},
      "source": [
        "#### ✍️ Task\n",
        "\n",
        "How would You interpret the ECDF plot for the bill length of the penguins?"
      ]
    },
    {
      "cell_type": "code",
      "execution_count": 5,
      "metadata": {},
      "outputs": [],
      "source": [
        "#@title ❓ Click `Show code` in the code cell to show the solution. { display-mode: \"form\" }\n",
        "\n",
        "# e.g. 80% of males have a bill length of 50mm or less"
      ]
    },
    {
      "cell_type": "markdown",
      "metadata": {
        "id": "H1JZhEu-q0nF"
      },
      "source": [
        "## 🏆 Challenge: Penguins 2\n",
        "\n",
        "- use the statistical plots to answer the following questions:\n",
        "- Do you find a difference in the species regarding `bill_length_mm` or `bill_depth_mm`?\n",
        "- Are there any outliers in the observations of `bill_length_mm`,\t`bill_depth_mm`,\t`flipper_length_mm`,\t`body_mass_g` in each species? \n",
        "- 🤓 Remove all outliers from the data based on the individual species (drop observations with values outside $1.5 \\cdot IQR$ from the median)\n"
      ]
    },
    {
      "cell_type": "code",
      "execution_count": 9,
      "metadata": {
        "colab": {
          "base_uri": "https://localhost:8080/",
          "height": 423
        },
        "id": "aY2aCxfaq46v",
        "outputId": "4a604252-642d-4314-c5ba-160b492c822b"
      },
      "outputs": [
        {
          "data": {
            "text/html": [
              "<div>\n",
              "<style scoped>\n",
              "    .dataframe tbody tr th:only-of-type {\n",
              "        vertical-align: middle;\n",
              "    }\n",
              "\n",
              "    .dataframe tbody tr th {\n",
              "        vertical-align: top;\n",
              "    }\n",
              "\n",
              "    .dataframe thead th {\n",
              "        text-align: right;\n",
              "    }\n",
              "</style>\n",
              "<table border=\"1\" class=\"dataframe\">\n",
              "  <thead>\n",
              "    <tr style=\"text-align: right;\">\n",
              "      <th></th>\n",
              "      <th>species</th>\n",
              "      <th>island</th>\n",
              "      <th>bill_length_mm</th>\n",
              "      <th>bill_depth_mm</th>\n",
              "      <th>flipper_length_mm</th>\n",
              "      <th>body_mass_g</th>\n",
              "      <th>sex</th>\n",
              "    </tr>\n",
              "  </thead>\n",
              "  <tbody>\n",
              "    <tr>\n",
              "      <th>0</th>\n",
              "      <td>Adelie</td>\n",
              "      <td>Torgersen</td>\n",
              "      <td>39.1</td>\n",
              "      <td>18.7</td>\n",
              "      <td>181.0</td>\n",
              "      <td>3750.0</td>\n",
              "      <td>Male</td>\n",
              "    </tr>\n",
              "    <tr>\n",
              "      <th>1</th>\n",
              "      <td>Adelie</td>\n",
              "      <td>Torgersen</td>\n",
              "      <td>39.5</td>\n",
              "      <td>17.4</td>\n",
              "      <td>186.0</td>\n",
              "      <td>3800.0</td>\n",
              "      <td>Female</td>\n",
              "    </tr>\n",
              "    <tr>\n",
              "      <th>2</th>\n",
              "      <td>Adelie</td>\n",
              "      <td>Torgersen</td>\n",
              "      <td>40.3</td>\n",
              "      <td>18.0</td>\n",
              "      <td>195.0</td>\n",
              "      <td>3250.0</td>\n",
              "      <td>Female</td>\n",
              "    </tr>\n",
              "    <tr>\n",
              "      <th>3</th>\n",
              "      <td>Adelie</td>\n",
              "      <td>Torgersen</td>\n",
              "      <td>NaN</td>\n",
              "      <td>NaN</td>\n",
              "      <td>NaN</td>\n",
              "      <td>NaN</td>\n",
              "      <td>NaN</td>\n",
              "    </tr>\n",
              "    <tr>\n",
              "      <th>4</th>\n",
              "      <td>Adelie</td>\n",
              "      <td>Torgersen</td>\n",
              "      <td>36.7</td>\n",
              "      <td>19.3</td>\n",
              "      <td>193.0</td>\n",
              "      <td>3450.0</td>\n",
              "      <td>Female</td>\n",
              "    </tr>\n",
              "    <tr>\n",
              "      <th>...</th>\n",
              "      <td>...</td>\n",
              "      <td>...</td>\n",
              "      <td>...</td>\n",
              "      <td>...</td>\n",
              "      <td>...</td>\n",
              "      <td>...</td>\n",
              "      <td>...</td>\n",
              "    </tr>\n",
              "    <tr>\n",
              "      <th>339</th>\n",
              "      <td>Gentoo</td>\n",
              "      <td>Biscoe</td>\n",
              "      <td>NaN</td>\n",
              "      <td>NaN</td>\n",
              "      <td>NaN</td>\n",
              "      <td>NaN</td>\n",
              "      <td>NaN</td>\n",
              "    </tr>\n",
              "    <tr>\n",
              "      <th>340</th>\n",
              "      <td>Gentoo</td>\n",
              "      <td>Biscoe</td>\n",
              "      <td>46.8</td>\n",
              "      <td>14.3</td>\n",
              "      <td>215.0</td>\n",
              "      <td>4850.0</td>\n",
              "      <td>Female</td>\n",
              "    </tr>\n",
              "    <tr>\n",
              "      <th>341</th>\n",
              "      <td>Gentoo</td>\n",
              "      <td>Biscoe</td>\n",
              "      <td>50.4</td>\n",
              "      <td>15.7</td>\n",
              "      <td>222.0</td>\n",
              "      <td>5750.0</td>\n",
              "      <td>Male</td>\n",
              "    </tr>\n",
              "    <tr>\n",
              "      <th>342</th>\n",
              "      <td>Gentoo</td>\n",
              "      <td>Biscoe</td>\n",
              "      <td>45.2</td>\n",
              "      <td>14.8</td>\n",
              "      <td>212.0</td>\n",
              "      <td>5200.0</td>\n",
              "      <td>Female</td>\n",
              "    </tr>\n",
              "    <tr>\n",
              "      <th>343</th>\n",
              "      <td>Gentoo</td>\n",
              "      <td>Biscoe</td>\n",
              "      <td>49.9</td>\n",
              "      <td>16.1</td>\n",
              "      <td>213.0</td>\n",
              "      <td>5400.0</td>\n",
              "      <td>Male</td>\n",
              "    </tr>\n",
              "  </tbody>\n",
              "</table>\n",
              "<p>344 rows × 7 columns</p>\n",
              "</div>"
            ],
            "text/plain": [
              "    species     island  bill_length_mm  bill_depth_mm  flipper_length_mm  \\\n",
              "0    Adelie  Torgersen            39.1           18.7              181.0   \n",
              "1    Adelie  Torgersen            39.5           17.4              186.0   \n",
              "2    Adelie  Torgersen            40.3           18.0              195.0   \n",
              "3    Adelie  Torgersen             NaN            NaN                NaN   \n",
              "4    Adelie  Torgersen            36.7           19.3              193.0   \n",
              "..      ...        ...             ...            ...                ...   \n",
              "339  Gentoo     Biscoe             NaN            NaN                NaN   \n",
              "340  Gentoo     Biscoe            46.8           14.3              215.0   \n",
              "341  Gentoo     Biscoe            50.4           15.7              222.0   \n",
              "342  Gentoo     Biscoe            45.2           14.8              212.0   \n",
              "343  Gentoo     Biscoe            49.9           16.1              213.0   \n",
              "\n",
              "     body_mass_g     sex  \n",
              "0         3750.0    Male  \n",
              "1         3800.0  Female  \n",
              "2         3250.0  Female  \n",
              "3            NaN     NaN  \n",
              "4         3450.0  Female  \n",
              "..           ...     ...  \n",
              "339          NaN     NaN  \n",
              "340       4850.0  Female  \n",
              "341       5750.0    Male  \n",
              "342       5200.0  Female  \n",
              "343       5400.0    Male  \n",
              "\n",
              "[344 rows x 7 columns]"
            ]
          },
          "execution_count": 9,
          "metadata": {},
          "output_type": "execute_result"
        }
      ],
      "source": [
        "import matplotlib\n",
        "import matplotlib.pyplot as plt\n",
        "import seaborn as sns\n",
        "\n",
        "penguins = sns.load_dataset(\"penguins\")\n",
        "penguins"
      ]
    },
    {
      "cell_type": "markdown",
      "metadata": {
        "id": "-gGVquSYLe37"
      },
      "source": [
        "### Difference in the species regarding `bill_length_mm` or `bill_depth_mm`\n",
        "\n",
        "  - Do you find a indication for a significant difference in the species regarding `bill_length_mm` or `bill_depth_mm`?\n",
        "\n",
        "*Hint*:\n",
        "- create two box or violin plots\n",
        "-  🤓 If you want to get the numbers, You can use the `.agg(f)` [function](https://pandas.pydata.org/docs/reference/api/pandas.DataFrame.agg.html)"
      ]
    },
    {
      "cell_type": "code",
      "execution_count": null,
      "metadata": {},
      "outputs": [],
      "source": []
    },
    {
      "cell_type": "code",
      "execution_count": 6,
      "metadata": {
        "id": "ovgdE3t6zAni"
      },
      "outputs": [
        {
          "data": {
            "text/plain": [
              "<Axes: xlabel='bill_length_mm', ylabel='species'>"
            ]
          },
          "execution_count": 6,
          "metadata": {},
          "output_type": "execute_result"
        },
        {
          "data": {
            "image/png": "[encoded data removed]",
            "text/plain": [
              "<Figure size 432x288 with 1 Axes>"
            ]
          },
          "metadata": {
            "needs_background": "light"
          },
          "output_type": "display_data"
        }
      ],
      "source": [
        "#@title ❓ Click `Show code` in the code cell to show the solution. { display-mode: \"form\" }\n",
        "sns.boxplot(data=penguins, x=\"bill_length_mm\", y = \"species\")"
      ]
    },
    {
      "cell_type": "code",
      "execution_count": 20,
      "metadata": {
        "colab": {
          "base_uri": "https://localhost:8080/",
          "height": 206
        },
        "id": "e8uO7WLS2xm4",
        "outputId": "1ed12876-46ac-4188-dac5-262b121ce447"
      },
      "outputs": [
        {
          "data": {
            "text/html": [
              "<div>\n",
              "<style scoped>\n",
              "    .dataframe tbody tr th:only-of-type {\n",
              "        vertical-align: middle;\n",
              "    }\n",
              "\n",
              "    .dataframe tbody tr th {\n",
              "        vertical-align: top;\n",
              "    }\n",
              "\n",
              "    .dataframe thead tr th {\n",
              "        text-align: left;\n",
              "    }\n",
              "\n",
              "    .dataframe thead tr:last-of-type th {\n",
              "        text-align: right;\n",
              "    }\n",
              "</style>\n",
              "<table border=\"1\" class=\"dataframe\">\n",
              "  <thead>\n",
              "    <tr>\n",
              "      <th></th>\n",
              "      <th colspan=\"3\" halign=\"left\">bill_length_mm</th>\n",
              "    </tr>\n",
              "    <tr>\n",
              "      <th></th>\n",
              "      <th>count</th>\n",
              "      <th>median</th>\n",
              "      <th>std</th>\n",
              "    </tr>\n",
              "    <tr>\n",
              "      <th>species</th>\n",
              "      <th></th>\n",
              "      <th></th>\n",
              "      <th></th>\n",
              "    </tr>\n",
              "  </thead>\n",
              "  <tbody>\n",
              "    <tr>\n",
              "      <th>Adelie</th>\n",
              "      <td>151</td>\n",
              "      <td>38.80</td>\n",
              "      <td>2.663405</td>\n",
              "    </tr>\n",
              "    <tr>\n",
              "      <th>Chinstrap</th>\n",
              "      <td>68</td>\n",
              "      <td>49.55</td>\n",
              "      <td>3.339256</td>\n",
              "    </tr>\n",
              "    <tr>\n",
              "      <th>Gentoo</th>\n",
              "      <td>123</td>\n",
              "      <td>47.30</td>\n",
              "      <td>3.081857</td>\n",
              "    </tr>\n",
              "  </tbody>\n",
              "</table>\n",
              "</div>"
            ],
            "text/plain": [
              "          bill_length_mm                 \n",
              "                   count median       std\n",
              "species                                  \n",
              "Adelie               151  38.80  2.663405\n",
              "Chinstrap             68  49.55  3.339256\n",
              "Gentoo               123  47.30  3.081857"
            ]
          },
          "execution_count": 20,
          "metadata": {},
          "output_type": "execute_result"
        }
      ],
      "source": [
        "#@title ❓ Click `Show code` in the code cell to show the solution. { display-mode: \"form\" }\n",
        "f = {'bill_length_mm': ['count','median', 'std']}\n",
        "df1 = penguins.groupby('species').agg(f)\n",
        "df1"
      ]
    },
    {
      "cell_type": "markdown",
      "metadata": {
        "id": "pqupR0OvLWwC"
      },
      "source": [
        "### Find Outliers\n",
        "\n",
        "- Are there any outliers in the observations of `bill_length_mm`,\t`bill_depth_mm`,\t`flipper_length_mm`,\t`body_mass_g` in each species? \n",
        "\n",
        "*Hint*: \n",
        "- If You use a for loop over the relevant columns remember to plot a new figure in each passing of the loop using `plt.figure()` after the `fig = sns...` line"
      ]
    },
    {
      "cell_type": "code",
      "execution_count": null,
      "metadata": {},
      "outputs": [],
      "source": []
    },
    {
      "cell_type": "code",
      "execution_count": 13,
      "metadata": {
        "colab": {
          "base_uri": "https://localhost:8080/",
          "height": 1000
        },
        "id": "9x7qfw88rNfU",
        "outputId": "b30314e4-03cc-4c58-b28f-0f8a1468c680"
      },
      "outputs": [
        {
          "data": {
            "image/png": "[encoded data removed]",
            "text/plain": [
              "<Figure size 432x288 with 1 Axes>"
            ]
          },
          "metadata": {
            "needs_background": "light"
          },
          "output_type": "display_data"
        },
        {
          "data": {
            "image/png": "[encoded data removed]",
            "text/plain": [
              "<Figure size 432x288 with 1 Axes>"
            ]
          },
          "metadata": {
            "needs_background": "light"
          },
          "output_type": "display_data"
        },
        {
          "data": {
            "image/png": "[encoded data removed]",
            "text/plain": [
              "<Figure size 432x288 with 1 Axes>"
            ]
          },
          "metadata": {
            "needs_background": "light"
          },
          "output_type": "display_data"
        },
        {
          "data": {
            "image/png": "[encoded data removed]",
            "text/plain": [
              "<Figure size 432x288 with 1 Axes>"
            ]
          },
          "metadata": {
            "needs_background": "light"
          },
          "output_type": "display_data"
        },
        {
          "data": {
            "text/plain": [
              "<Figure size 432x288 with 0 Axes>"
            ]
          },
          "metadata": {},
          "output_type": "display_data"
        }
      ],
      "source": [
        "#@title ❓ Click `Show code` in the code cell to show the solution. { display-mode: \"form\" }\n",
        "\n",
        "import matplotlib\n",
        "import matplotlib.pyplot as plt\n",
        "\n",
        "for column in ['bill_length_mm', 'bill_depth_mm', 'flipper_length_mm', 'body_mass_g']:\n",
        "  fig=sns.boxplot(data = penguins, x = column, y = \"species\")\n",
        "  plt.figure()"
      ]
    },
    {
      "cell_type": "markdown",
      "metadata": {
        "id": "LFbftp3zo4qF"
      },
      "source": [
        "Given the following Boxplot for the body weight of Gentoo penguins. Is the empirical distribution of the body weight symmetrical or skewed to the [left](https://www.itl.nist.gov/div898/handbook/eda/section3/histogr7.htm) or [right](https://www.itl.nist.gov/div898/handbook/eda/section3/histogr6.htm)?\n",
        "\n",
        "Validate Your answer by drawing a histogram.\n",
        "\n",
        "*Hint:* You will have to filter the data frame for Gentoo penguins first. "
      ]
    },
    {
      "cell_type": "code",
      "execution_count": 15,
      "metadata": {
        "colab": {
          "base_uri": "https://localhost:8080/",
          "height": 297
        },
        "id": "tk6FWC5_ootH",
        "outputId": "1cc3d3d1-d228-447b-cec7-69a3b76e96ee"
      },
      "outputs": [
        {
          "data": {
            "text/plain": [
              "<Axes: xlabel='body_mass_g', ylabel='species'>"
            ]
          },
          "execution_count": 15,
          "metadata": {},
          "output_type": "execute_result"
        },
        {
          "data": {
            "image/png": "[encoded data removed]",
            "text/plain": [
              "<Figure size 432x288 with 1 Axes>"
            ]
          },
          "metadata": {
            "needs_background": "light"
          },
          "output_type": "display_data"
        }
      ],
      "source": [
        "df_only_gentoo = penguins[penguins[\"species\"]==\"Gentoo\"].copy()\n",
        "sns.boxplot(data=df_only_gentoo, x=\"body_mass_g\", y=\"species\")"
      ]
    },
    {
      "cell_type": "code",
      "execution_count": null,
      "metadata": {},
      "outputs": [],
      "source": []
    },
    {
      "cell_type": "code",
      "execution_count": 16,
      "metadata": {
        "id": "gjeziBL2ppAO"
      },
      "outputs": [
        {
          "data": {
            "text/plain": [
              "<Axes: xlabel='body_mass_g', ylabel='Count'>"
            ]
          },
          "execution_count": 16,
          "metadata": {},
          "output_type": "execute_result"
        },
        {
          "data": {
            "image/png": "[encoded data removed]",
            "text/plain": [
              "<Figure size 432x288 with 1 Axes>"
            ]
          },
          "metadata": {
            "needs_background": "light"
          },
          "output_type": "display_data"
        }
      ],
      "source": [
        "\n",
        "#@title ❓ Click `Show code` in the code cell to show the solution. { display-mode: \"form\" }\n",
        "sns.histplot(data=df_only_gentoo, x = \"body_mass_g\")\n",
        "# The distribution is quite similar to a normal distribution / symmetric distribution"
      ]
    },
    {
      "cell_type": "markdown",
      "metadata": {
        "id": "8Qv87XzdMWk-"
      },
      "source": [
        "### 🤓 Remove all outliers from data\n",
        "\n",
        "*Hint*:\n",
        "- This task is more challenging\n",
        "- You have to calcualte the cuttoffs for each species and each variable separately\n",
        "- The cutoff (1.5* IQR) is based on the Quantiles\n",
        "- If You have the cutoffs, You can use them to create a new column that stores the information whether an observation is an outlier"
      ]
    },
    {
      "cell_type": "code",
      "execution_count": null,
      "metadata": {},
      "outputs": [],
      "source": []
    },
    {
      "cell_type": "code",
      "execution_count": 17,
      "metadata": {
        "colab": {
          "base_uri": "https://localhost:8080/"
        },
        "id": "nTOGK9MfrjiF",
        "outputId": "80c5d42f-d91b-4b21-d13b-415168c353c3"
      },
      "outputs": [
        {
          "data": {
            "text/html": [
              "<div>\n",
              "<style scoped>\n",
              "    .dataframe tbody tr th:only-of-type {\n",
              "        vertical-align: middle;\n",
              "    }\n",
              "\n",
              "    .dataframe tbody tr th {\n",
              "        vertical-align: top;\n",
              "    }\n",
              "\n",
              "    .dataframe thead tr th {\n",
              "        text-align: left;\n",
              "    }\n",
              "\n",
              "    .dataframe thead tr:last-of-type th {\n",
              "        text-align: right;\n",
              "    }\n",
              "</style>\n",
              "<table border=\"1\" class=\"dataframe\">\n",
              "  <thead>\n",
              "    <tr>\n",
              "      <th></th>\n",
              "      <th colspan=\"5\" halign=\"left\">bill_length_mm</th>\n",
              "    </tr>\n",
              "    <tr>\n",
              "      <th></th>\n",
              "      <th>count</th>\n",
              "      <th>median</th>\n",
              "      <th>std</th>\n",
              "      <th>q_25</th>\n",
              "      <th>q_75</th>\n",
              "    </tr>\n",
              "    <tr>\n",
              "      <th>species</th>\n",
              "      <th></th>\n",
              "      <th></th>\n",
              "      <th></th>\n",
              "      <th></th>\n",
              "      <th></th>\n",
              "    </tr>\n",
              "  </thead>\n",
              "  <tbody>\n",
              "    <tr>\n",
              "      <th>Adelie</th>\n",
              "      <td>151</td>\n",
              "      <td>38.80</td>\n",
              "      <td>2.663405</td>\n",
              "      <td>36.75</td>\n",
              "      <td>40.750</td>\n",
              "    </tr>\n",
              "    <tr>\n",
              "      <th>Chinstrap</th>\n",
              "      <td>68</td>\n",
              "      <td>49.55</td>\n",
              "      <td>3.339256</td>\n",
              "      <td>46.35</td>\n",
              "      <td>51.075</td>\n",
              "    </tr>\n",
              "    <tr>\n",
              "      <th>Gentoo</th>\n",
              "      <td>123</td>\n",
              "      <td>47.30</td>\n",
              "      <td>3.081857</td>\n",
              "      <td>45.30</td>\n",
              "      <td>49.550</td>\n",
              "    </tr>\n",
              "  </tbody>\n",
              "</table>\n",
              "</div>"
            ],
            "text/plain": [
              "          bill_length_mm                                \n",
              "                   count median       std   q_25    q_75\n",
              "species                                                 \n",
              "Adelie               151  38.80  2.663405  36.75  40.750\n",
              "Chinstrap             68  49.55  3.339256  46.35  51.075\n",
              "Gentoo               123  47.30  3.081857  45.30  49.550"
            ]
          },
          "execution_count": 17,
          "metadata": {},
          "output_type": "execute_result"
        }
      ],
      "source": [
        "#@title ❓ Click `Show code` in the code cell to show the solution. { display-mode: \"form\" }\n",
        "def q_25(x):\n",
        "    return x.quantile(0.25)\n",
        "\n",
        "def q_75(x):\n",
        "    return x.quantile(0.75)\n",
        "\n",
        "f = {'bill_length_mm': ['count','median', 'std', q_25, q_75]}\n",
        "df1 = penguins.groupby('species').agg(f)\n",
        "df1"
      ]
    },
    {
      "cell_type": "code",
      "execution_count": 18,
      "metadata": {
        "colab": {
          "base_uri": "https://localhost:8080/"
        },
        "id": "5ERYk29pXhlu",
        "outputId": "fe4a86a8-771b-480c-824b-6f7ae2d492a6"
      },
      "outputs": [
        {
          "name": "stdout",
          "output_type": "stream",
          "text": [
            "Adelie\n",
            "bill_length_mm\n",
            "4.0\n",
            "bill_depth_mm\n",
            "1.5\n",
            "flipper_length_mm\n",
            "9.0\n",
            "body_mass_g\n",
            "650.0\n",
            "Chinstrap\n",
            "bill_length_mm\n",
            "4.725000000000001\n",
            "bill_depth_mm\n",
            "1.8999999999999986\n",
            "flipper_length_mm\n",
            "10.0\n",
            "body_mass_g\n",
            "462.5\n",
            "Gentoo\n",
            "bill_length_mm\n",
            "4.25\n",
            "bill_depth_mm\n",
            "1.5\n",
            "flipper_length_mm\n",
            "9.0\n",
            "body_mass_g\n",
            "800.0\n"
          ]
        }
      ],
      "source": [
        "#@title ❓ Click `Show code` in the code cell to show the solution. { display-mode: \"form\" }\n",
        "cutoffs = {}\n",
        "\n",
        "for species in penguins[\"species\"].unique():\n",
        "  print(species)\n",
        "\n",
        "  penguin_species = penguins[penguins[\"species\"]==species].copy()\n",
        "  \n",
        "  cutoffs[species] = {}\n",
        "\n",
        "  for variable in [\"bill_length_mm\", \"bill_depth_mm\", \"flipper_length_mm\", \"body_mass_g\"]:\n",
        "    print(variable)\n",
        "    iqr = penguin_species[variable].quantile(0.75) - penguin_species[variable].quantile(0.25) \n",
        "    print(iqr)\n",
        "\n",
        "    \n",
        "    low = penguin_species[variable].quantile(0.50) - 1.5 * iqr\n",
        "    high = penguin_species[variable].quantile(0.50) + 1.5 * iqr\n",
        "\n",
        "    cutoffs[species][variable] = {\"high\" : high,\n",
        "               \"low\" : low}\n",
        "\n",
        "\n",
        "    #cutoffs[variable]= species_data\n",
        "\n",
        "    #relevant_penguins = penguins[penguins[\"species\"]==species][variable]\n",
        "    #print(relevant_penguins>high)\n",
        "    #print(relevant_penguins<low)\n",
        "    #relevant_penguins"
      ]
    },
    {
      "cell_type": "code",
      "execution_count": 19,
      "metadata": {
        "colab": {
          "base_uri": "https://localhost:8080/",
          "height": 423
        },
        "id": "IwYUkAT2713M",
        "outputId": "0f23ee61-6713-4934-92d1-3149a33eea91"
      },
      "outputs": [
        {
          "data": {
            "text/plain": [
              "{'Adelie': {'bill_length_mm': {'high': 44.8, 'low': 32.8},\n",
              "  'bill_depth_mm': {'high': 20.65, 'low': 16.15},\n",
              "  'flipper_length_mm': {'high': 203.5, 'low': 176.5},\n",
              "  'body_mass_g': {'high': 4675.0, 'low': 2725.0}},\n",
              " 'Chinstrap': {'bill_length_mm': {'high': 56.6375, 'low': 42.46249999999999},\n",
              "  'bill_depth_mm': {'high': 21.299999999999997, 'low': 15.600000000000001},\n",
              "  'flipper_length_mm': {'high': 211.0, 'low': 181.0},\n",
              "  'body_mass_g': {'high': 4393.75, 'low': 3006.25}},\n",
              " 'Gentoo': {'bill_length_mm': {'high': 53.675, 'low': 40.925},\n",
              "  'bill_depth_mm': {'high': 17.25, 'low': 12.75},\n",
              "  'flipper_length_mm': {'high': 229.5, 'low': 202.5},\n",
              "  'body_mass_g': {'high': 6200.0, 'low': 3800.0}}}"
            ]
          },
          "execution_count": 19,
          "metadata": {},
          "output_type": "execute_result"
        }
      ],
      "source": [
        "#@title ❓ Click `Show code` in the code cell to show the solution. { display-mode: \"form\" }\n",
        "cutoffs\n"
      ]
    },
    {
      "cell_type": "code",
      "execution_count": 37,
      "metadata": {},
      "outputs": [
        {
          "data": {
            "text/html": [
              "<div>\n",
              "<style scoped>\n",
              "    .dataframe tbody tr th:only-of-type {\n",
              "        vertical-align: middle;\n",
              "    }\n",
              "\n",
              "    .dataframe tbody tr th {\n",
              "        vertical-align: top;\n",
              "    }\n",
              "\n",
              "    .dataframe thead th {\n",
              "        text-align: right;\n",
              "    }\n",
              "</style>\n",
              "<table border=\"1\" class=\"dataframe\">\n",
              "  <thead>\n",
              "    <tr style=\"text-align: right;\">\n",
              "      <th></th>\n",
              "      <th>species</th>\n",
              "      <th>island</th>\n",
              "      <th>bill_length_mm</th>\n",
              "      <th>bill_depth_mm</th>\n",
              "      <th>flipper_length_mm</th>\n",
              "      <th>body_mass_g</th>\n",
              "      <th>sex</th>\n",
              "      <th>outlier</th>\n",
              "    </tr>\n",
              "  </thead>\n",
              "  <tbody>\n",
              "    <tr>\n",
              "      <th>0</th>\n",
              "      <td>Adelie</td>\n",
              "      <td>Torgersen</td>\n",
              "      <td>39.1</td>\n",
              "      <td>18.7</td>\n",
              "      <td>181.0</td>\n",
              "      <td>3750.0</td>\n",
              "      <td>Male</td>\n",
              "      <td>False</td>\n",
              "    </tr>\n",
              "    <tr>\n",
              "      <th>1</th>\n",
              "      <td>Adelie</td>\n",
              "      <td>Torgersen</td>\n",
              "      <td>39.5</td>\n",
              "      <td>17.4</td>\n",
              "      <td>186.0</td>\n",
              "      <td>3800.0</td>\n",
              "      <td>Female</td>\n",
              "      <td>False</td>\n",
              "    </tr>\n",
              "    <tr>\n",
              "      <th>2</th>\n",
              "      <td>Adelie</td>\n",
              "      <td>Torgersen</td>\n",
              "      <td>40.3</td>\n",
              "      <td>18.0</td>\n",
              "      <td>195.0</td>\n",
              "      <td>3250.0</td>\n",
              "      <td>Female</td>\n",
              "      <td>False</td>\n",
              "    </tr>\n",
              "    <tr>\n",
              "      <th>3</th>\n",
              "      <td>Adelie</td>\n",
              "      <td>Torgersen</td>\n",
              "      <td>NaN</td>\n",
              "      <td>NaN</td>\n",
              "      <td>NaN</td>\n",
              "      <td>NaN</td>\n",
              "      <td>NaN</td>\n",
              "      <td>False</td>\n",
              "    </tr>\n",
              "    <tr>\n",
              "      <th>4</th>\n",
              "      <td>Adelie</td>\n",
              "      <td>Torgersen</td>\n",
              "      <td>36.7</td>\n",
              "      <td>19.3</td>\n",
              "      <td>193.0</td>\n",
              "      <td>3450.0</td>\n",
              "      <td>Female</td>\n",
              "      <td>False</td>\n",
              "    </tr>\n",
              "    <tr>\n",
              "      <th>...</th>\n",
              "      <td>...</td>\n",
              "      <td>...</td>\n",
              "      <td>...</td>\n",
              "      <td>...</td>\n",
              "      <td>...</td>\n",
              "      <td>...</td>\n",
              "      <td>...</td>\n",
              "      <td>...</td>\n",
              "    </tr>\n",
              "    <tr>\n",
              "      <th>339</th>\n",
              "      <td>Gentoo</td>\n",
              "      <td>Biscoe</td>\n",
              "      <td>NaN</td>\n",
              "      <td>NaN</td>\n",
              "      <td>NaN</td>\n",
              "      <td>NaN</td>\n",
              "      <td>NaN</td>\n",
              "      <td>False</td>\n",
              "    </tr>\n",
              "    <tr>\n",
              "      <th>340</th>\n",
              "      <td>Gentoo</td>\n",
              "      <td>Biscoe</td>\n",
              "      <td>46.8</td>\n",
              "      <td>14.3</td>\n",
              "      <td>215.0</td>\n",
              "      <td>4850.0</td>\n",
              "      <td>Female</td>\n",
              "      <td>False</td>\n",
              "    </tr>\n",
              "    <tr>\n",
              "      <th>341</th>\n",
              "      <td>Gentoo</td>\n",
              "      <td>Biscoe</td>\n",
              "      <td>50.4</td>\n",
              "      <td>15.7</td>\n",
              "      <td>222.0</td>\n",
              "      <td>5750.0</td>\n",
              "      <td>Male</td>\n",
              "      <td>False</td>\n",
              "    </tr>\n",
              "    <tr>\n",
              "      <th>342</th>\n",
              "      <td>Gentoo</td>\n",
              "      <td>Biscoe</td>\n",
              "      <td>45.2</td>\n",
              "      <td>14.8</td>\n",
              "      <td>212.0</td>\n",
              "      <td>5200.0</td>\n",
              "      <td>Female</td>\n",
              "      <td>False</td>\n",
              "    </tr>\n",
              "    <tr>\n",
              "      <th>343</th>\n",
              "      <td>Gentoo</td>\n",
              "      <td>Biscoe</td>\n",
              "      <td>49.9</td>\n",
              "      <td>16.1</td>\n",
              "      <td>213.0</td>\n",
              "      <td>5400.0</td>\n",
              "      <td>Male</td>\n",
              "      <td>False</td>\n",
              "    </tr>\n",
              "  </tbody>\n",
              "</table>\n",
              "<p>295 rows × 8 columns</p>\n",
              "</div>"
            ],
            "text/plain": [
              "    species     island  bill_length_mm  bill_depth_mm  flipper_length_mm  \\\n",
              "0    Adelie  Torgersen            39.1           18.7              181.0   \n",
              "1    Adelie  Torgersen            39.5           17.4              186.0   \n",
              "2    Adelie  Torgersen            40.3           18.0              195.0   \n",
              "3    Adelie  Torgersen             NaN            NaN                NaN   \n",
              "4    Adelie  Torgersen            36.7           19.3              193.0   \n",
              "..      ...        ...             ...            ...                ...   \n",
              "339  Gentoo     Biscoe             NaN            NaN                NaN   \n",
              "340  Gentoo     Biscoe            46.8           14.3              215.0   \n",
              "341  Gentoo     Biscoe            50.4           15.7              222.0   \n",
              "342  Gentoo     Biscoe            45.2           14.8              212.0   \n",
              "343  Gentoo     Biscoe            49.9           16.1              213.0   \n",
              "\n",
              "     body_mass_g     sex  outlier  \n",
              "0         3750.0    Male    False  \n",
              "1         3800.0  Female    False  \n",
              "2         3250.0  Female    False  \n",
              "3            NaN     NaN    False  \n",
              "4         3450.0  Female    False  \n",
              "..           ...     ...      ...  \n",
              "339          NaN     NaN    False  \n",
              "340       4850.0  Female    False  \n",
              "341       5750.0    Male    False  \n",
              "342       5200.0  Female    False  \n",
              "343       5400.0    Male    False  \n",
              "\n",
              "[295 rows x 8 columns]"
            ]
          },
          "execution_count": 37,
          "metadata": {},
          "output_type": "execute_result"
        }
      ],
      "source": [
        "clean_data = penguins.copy()\n",
        "clean_data[\"outlier\"] = False\n",
        "for species in penguins[\"species\"].unique():\n",
        "\n",
        "  df_in = clean_data[:]\n",
        "\n",
        "  for variable in [\"bill_length_mm\", \"bill_depth_mm\", \"flipper_length_mm\", \"body_mass_g\"]:\n",
        "\n",
        "\n",
        "    filter_is_species = df_in[\"species\"]==species\n",
        "    filter_to_high = df_in[variable] > cutoffs[species][variable][\"high\"]\n",
        "    filter_to_low = df_in[variable] < cutoffs[species][variable][\"low\"]\n",
        "    filter_common = ((filter_to_low | filter_to_high) & filter_is_species)\n",
        "    clean_data[\"outlier\"] = filter_common | clean_data[\"outlier\"]\n",
        "\n",
        "clean_data[clean_data[\"outlier\"]==False]\n"
      ]
    },
    {
      "cell_type": "markdown",
      "metadata": {
        "id": "yBIn4X2hd9Wf"
      },
      "source": [
        "# 🏁 Recap\n",
        "\n",
        "- If you have finished the tasks and have no questions, place the green card on top.\n",
        "- If you have finished the tasks but would like to discuss the solutions together again, place the yellow card on top.\n",
        "\n",
        "![](https://www.lokalinfo.ch/fileadmin/news_import/image003_03.jpg)"
      ]
    },
    {
      "cell_type": "markdown",
      "metadata": {
        "id": "My7BzSIvoda8"
      },
      "source": [
        "# 🤓 Optional Tasks"
      ]
    },
    {
      "cell_type": "markdown",
      "metadata": {
        "id": "GLQ6WqBV_sqz"
      },
      "source": [
        "## Creating Random Numbers\n",
        "\n",
        "\n",
        "Numpy allows You to create random number from different distributions. \n",
        "\n",
        "For instance, you can draw from countinous random uniform distribution between $0$ and $1$ using the ```random``` function.\n",
        "\n",
        "As You see, in the following, each call will generate a new random number:"
      ]
    },
    {
      "cell_type": "code",
      "execution_count": 21,
      "metadata": {
        "colab": {
          "base_uri": "https://localhost:8080/"
        },
        "id": "soGNDWpnQov0",
        "outputId": "ff5f3c0a-c582-4274-e0fc-95cdd8ae249d"
      },
      "outputs": [
        {
          "data": {
            "text/plain": [
              "0.37808822200492553"
            ]
          },
          "execution_count": 21,
          "metadata": {},
          "output_type": "execute_result"
        }
      ],
      "source": [
        "import numpy as np\n",
        "\n",
        "np.random.random()"
      ]
    },
    {
      "cell_type": "code",
      "execution_count": 22,
      "metadata": {
        "colab": {
          "base_uri": "https://localhost:8080/"
        },
        "id": "qbHdB042UziB",
        "outputId": "3cc684b9-5f73-4cc3-d1f3-06bd87e0fa55"
      },
      "outputs": [
        {
          "data": {
            "text/plain": [
              "0.7873783378361482"
            ]
          },
          "execution_count": 22,
          "metadata": {},
          "output_type": "execute_result"
        }
      ],
      "source": [
        "np.random.random()"
      ]
    },
    {
      "cell_type": "markdown",
      "metadata": {
        "id": "PILt4UpTVelZ"
      },
      "source": [
        "### Setting a Seed\n",
        "\n",
        "Random numbers generated by a computer are not really random. However, they behave as if they are.\n",
        "\n",
        "In some cases, You want randomness, but also repoduce the results. For instance, when You want to change some problem in Your code and rerun the script.\n",
        "\n",
        "Setting an RadomState with an arbitrary number let's the process on generating random numbers start from the same state, resulting in the same results anytime You run the code:"
      ]
    },
    {
      "cell_type": "code",
      "execution_count": 23,
      "metadata": {
        "colab": {
          "base_uri": "https://localhost:8080/"
        },
        "id": "rEj7e8PrUzfo",
        "outputId": "2a720763-dbc4-4bfd-ee0a-1cca260e928e"
      },
      "outputs": [
        {
          "data": {
            "text/plain": [
              "0.6059782788074047"
            ]
          },
          "execution_count": 23,
          "metadata": {},
          "output_type": "execute_result"
        }
      ],
      "source": [
        "rng = np.random.RandomState(2021)\n",
        "\n",
        "rng.random()"
      ]
    },
    {
      "cell_type": "code",
      "execution_count": 24,
      "metadata": {
        "colab": {
          "base_uri": "https://localhost:8080/"
        },
        "id": "SzIdRRQtUzdc",
        "outputId": "8e57c0b3-c019-4a72-b6ab-ad090f6bdfcf"
      },
      "outputs": [
        {
          "data": {
            "text/plain": [
              "0.6059782788074047"
            ]
          },
          "execution_count": 24,
          "metadata": {},
          "output_type": "execute_result"
        }
      ],
      "source": [
        "rng = np.random.RandomState(2021)\n",
        "\n",
        "rng.random()"
      ]
    },
    {
      "cell_type": "markdown",
      "metadata": {
        "id": "-FceXqlYWiPr"
      },
      "source": [
        "### Creating Multiple Random Numbers\n",
        " \n",
        "As numpy is based on arrays, most random number generators let define You an array size to create multiple random numbers. Let's assume we draw a random sample from uniform data:"
      ]
    },
    {
      "cell_type": "code",
      "execution_count": 25,
      "metadata": {
        "colab": {
          "base_uri": "https://localhost:8080/"
        },
        "id": "ZwGSWQi5Wh_Q",
        "outputId": "be9b2ca9-2d1c-43ad-f289-6ac3bb0d3eb2"
      },
      "outputs": [
        {
          "data": {
            "text/plain": [
              "array([0.60597828, 0.73336936, 0.13894716, 0.31267308, 0.99724328])"
            ]
          },
          "execution_count": 25,
          "metadata": {},
          "output_type": "execute_result"
        }
      ],
      "source": [
        "rng = np.random.RandomState(2021)\n",
        "uniform_data = rng.random(size = 5)\n",
        "uniform_data"
      ]
    },
    {
      "cell_type": "markdown",
      "metadata": {
        "id": "M2og013nGTjf"
      },
      "source": [
        "### Calculation Mean and Variance of a Sample\n",
        "\n",
        "We can get the mean and the unbiased variance of the sample:\n",
        "- mean and \n",
        "  $$\\bar{x} = \\frac{1}{n}\\sum^n_{i=1}{x_i}$$\n",
        "- the unbiased variance of the sample:    \n",
        "  $$s^{2} = \\frac{\\displaystyle\\sum_{i=1}^N (x_i-\\bar x)^2}{n - 1}$$"
      ]
    },
    {
      "cell_type": "code",
      "execution_count": 26,
      "metadata": {
        "colab": {
          "base_uri": "https://localhost:8080/"
        },
        "id": "wzNWbjbyGRma",
        "outputId": "8992e7ba-7377-440e-ab57-20a3ce60e016"
      },
      "outputs": [
        {
          "data": {
            "text/plain": [
              "0.5576422323848614"
            ]
          },
          "execution_count": 26,
          "metadata": {},
          "output_type": "execute_result"
        }
      ],
      "source": [
        "# The mean\n",
        "uniform_data.mean() "
      ]
    },
    {
      "cell_type": "code",
      "execution_count": 27,
      "metadata": {
        "colab": {
          "base_uri": "https://localhost:8080/"
        },
        "id": "upLJkZRnGb0-",
        "outputId": "5540b993-45f0-4b07-ebe8-391a60794106"
      },
      "outputs": [
        {
          "data": {
            "text/plain": [
              "0.11544523238409939"
            ]
          },
          "execution_count": 27,
          "metadata": {},
          "output_type": "execute_result"
        }
      ],
      "source": [
        "# The unbiased variance (with ddof = 1 - degrees of freedom)\n",
        "uniform_data.var(ddof=1) "
      ]
    },
    {
      "cell_type": "code",
      "execution_count": null,
      "metadata": {
        "id": "rg3kLVa2Gr1o"
      },
      "outputs": [],
      "source": []
    },
    {
      "cell_type": "markdown",
      "metadata": {
        "id": "V1n9Vv3lXERB"
      },
      "source": [
        "🤓 **Task** - This is optional, You find the solution below!\n",
        "\n",
        "Write two functions, that calculate the \n",
        "- mean: `calc_mean()`\n",
        "  $$\\bar{x} = \\frac{1}{n}\\sum^n_{i=1}{x_i}$$\n",
        "- unbiased variance of the sample `calc_var()`    \n",
        "  $$s^{2} = \\frac{\\displaystyle\\sum_{i=1}^N (x_i-\\bar x)^2}{n - 1}$$\n",
        "\n",
        "\n",
        "Test if the numpy function ```var()``` and ```var(ddof=0)``` return the same results."
      ]
    },
    {
      "cell_type": "code",
      "execution_count": 36,
      "metadata": {
        "colab": {
          "base_uri": "https://localhost:8080/"
        },
        "id": "D63aMht4Uza5",
        "outputId": "3a17d6e3-8247-4180-a3f5-6c4ab00fed55"
      },
      "outputs": [
        {
          "name": "stdout",
          "output_type": "stream",
          "text": [
            "0.5576422323848614\n",
            "0.5576422323848614\n"
          ]
        }
      ],
      "source": [
        "def calc_mean(array):\n",
        "  \"\"\"Function das calculates the mean of an array\"\"\"\n",
        "  sum = 0\n",
        "  for x in array:\n",
        "    sum = sum + x\n",
        "  return sum/len(array)\n",
        "\n",
        "print(calc_mean(uniform_data))\n",
        "print(uniform_data.mean())"
      ]
    },
    {
      "cell_type": "code",
      "execution_count": 37,
      "metadata": {
        "colab": {
          "base_uri": "https://localhost:8080/"
        },
        "id": "f5yZKEc5UzYx",
        "outputId": "cd6a3161-d2aa-4490-8126-43f1a1fd1b33"
      },
      "outputs": [
        {
          "name": "stdout",
          "output_type": "stream",
          "text": [
            "0.11544523238409939\n",
            "0.09235618590727951\n"
          ]
        }
      ],
      "source": [
        "def calc_var(array):\n",
        "  \"\"\"Function that calculates the unbiased variance of an array\"\"\"\n",
        "  sum = 0\n",
        "  mean = calc_mean(array)\n",
        "  for x in array:\n",
        "\n",
        "    sum = sum + (x-mean)**2\n",
        "  return sum/(len(array)-1)\n",
        "\n",
        "print(calc_var(uniform_data))\n",
        "print(uniform_data.var())"
      ]
    },
    {
      "cell_type": "markdown",
      "metadata": {
        "id": "ibPJK9ONYxGq"
      },
      "source": [
        "We see that the ```var()``` function does not calculate the unbiased variance of the sample, but results in a smaller number, most likely calculating the variance of the population:   \n",
        "\n",
        "$$\\sigma^{2} = \\frac{\\displaystyle\\sum_{i=1}^N (x_i-\\mu)^2}{N}$$\n",
        "\n",
        "Is this a problem we have to care about in practice?\n",
        "\n",
        "🤓 **Task** - This is optional, You find the solution below!\n",
        "\n",
        "The true variance of a uniform distribution is \n",
        "$$V(X)={\\frac {1}{12}}(b-a)^{2}$$\n",
        "\n",
        "Create a DataFrame with three columns: `'Sample Size'`,`'Variance'`,`'Calculation Method'`\n",
        "\n",
        "Draw samples with 1 up to 100 numbers and put the resulting variances in the DataFrame. \n",
        "\n",
        "For each sample size store: The true variance ($1/12$), the unbiased sample variance and the variance based on the formula for the whole population. \n",
        "\n",
        "Create a line plot so show, how the variance develops with sample size."
      ]
    },
    {
      "cell_type": "code",
      "execution_count": null,
      "metadata": {},
      "outputs": [],
      "source": []
    },
    {
      "cell_type": "code",
      "execution_count": 38,
      "metadata": {
        "colab": {
          "base_uri": "https://localhost:8080/"
        },
        "id": "uXxC3OhKHg38",
        "outputId": "bf120c61-55f2-4443-b92c-4c804a6affce"
      },
      "outputs": [
        {
          "name": "stdout",
          "output_type": "stream",
          "text": [
            "0.5576422323848614\n",
            "0.5576422323848614\n"
          ]
        }
      ],
      "source": [
        "def calc_mean(array):\n",
        "  sum = 0\n",
        "  for x in array:\n",
        "    sum = sum + x\n",
        "  return sum/len(array)\n",
        "\n",
        "print(calc_mean(uniform_data))\n",
        "print(uniform_data.mean())"
      ]
    },
    {
      "cell_type": "code",
      "execution_count": 39,
      "metadata": {
        "colab": {
          "base_uri": "https://localhost:8080/"
        },
        "id": "pcVyQ6nLHgxQ",
        "outputId": "b758dc87-ea3b-4331-fe21-6a63a7c84a1d"
      },
      "outputs": [
        {
          "name": "stdout",
          "output_type": "stream",
          "text": [
            "0.11544523238409939\n",
            "0.09235618590727951\n"
          ]
        }
      ],
      "source": [
        "def calc_var(array):\n",
        "  sum = 0\n",
        "  mean = calc_mean(array)\n",
        "  for x in array:\n",
        "\n",
        "    sum = sum + (x-mean)**2\n",
        "  return sum/(len(array)-1)\n",
        "\n",
        "print(calc_var(uniform_data))\n",
        "print(uniform_data.var())"
      ]
    },
    {
      "cell_type": "code",
      "execution_count": 42,
      "metadata": {},
      "outputs": [
        {
          "name": "stderr",
          "output_type": "stream",
          "text": [
            "C:\\Users\\JLHUBER\\AppData\\Local\\Temp\\ipykernel_12112\\2159051891.py:7: RuntimeWarning: invalid value encountered in double_scalars\n",
            "  return sum/(len(array)-1)\n"
          ]
        }
      ],
      "source": [
        "import pandas as pd\n",
        "\n",
        "\n",
        "real_var = 1/12\n",
        "\n",
        "sample_sizes = []\n",
        "variances = []\n",
        "calculation_methods = []\n",
        "\n",
        "for sample_size in range(1,100):\n",
        "    sample = rng.random(size = sample_size)\n",
        "\n",
        "    # Add real variance\n",
        "    sample_sizes.append(sample_size)\n",
        "    variances.append(real_var)\n",
        "    calculation_methods.append('True Variance')\n",
        "\n",
        "    # Add real variance\n",
        "    sample_sizes.append(sample_size)\n",
        "    variances.append(calc_var(sample))\n",
        "    calculation_methods.append('Unbiased variance of the sample')\n",
        "\n",
        "    # Add real variance\n",
        "    sample_sizes.append(sample_size)\n",
        "    variances.append(sample.var())\n",
        "    calculation_methods.append('Variance of the population')\n",
        "\n",
        "results_df = pd.DataFrame({'Sample Size': sample_sizes, \n",
        "             'Variance': variances,\n",
        "             'Calculation Method' : calculation_methods\n",
        "             })"
      ]
    },
    {
      "cell_type": "markdown",
      "metadata": {
        "id": "ILdL7k7-HmR4"
      },
      "source": [
        "In the resulting Dataframe, we see the result of the experiment, that allows us to find out, how different the unbiased and the biased variance are for different sample sizes.\n",
        "\n",
        "Hence, we have the following variables:\n",
        "- Sample size: How many random numbers we have in the sample\n",
        "- The calculation method for the variance\n",
        "- the resulting variance value\n",
        "\n",
        "Note, that the True Variance is allways the same, as all the samples are drawn from the same uniform distribution!"
      ]
    },
    {
      "cell_type": "code",
      "execution_count": 43,
      "metadata": {
        "colab": {
          "base_uri": "https://localhost:8080/",
          "height": 424
        },
        "id": "8Bbqa7UNUzTK",
        "outputId": "ea2bbba7-f8dc-4500-ec74-6e74f62d344c"
      },
      "outputs": [
        {
          "data": {
            "text/html": [
              "<div>\n",
              "<style scoped>\n",
              "    .dataframe tbody tr th:only-of-type {\n",
              "        vertical-align: middle;\n",
              "    }\n",
              "\n",
              "    .dataframe tbody tr th {\n",
              "        vertical-align: top;\n",
              "    }\n",
              "\n",
              "    .dataframe thead th {\n",
              "        text-align: right;\n",
              "    }\n",
              "</style>\n",
              "<table border=\"1\" class=\"dataframe\">\n",
              "  <thead>\n",
              "    <tr style=\"text-align: right;\">\n",
              "      <th></th>\n",
              "      <th>Sample Size</th>\n",
              "      <th>Variance</th>\n",
              "      <th>Calculation Method</th>\n",
              "    </tr>\n",
              "  </thead>\n",
              "  <tbody>\n",
              "    <tr>\n",
              "      <th>0</th>\n",
              "      <td>1</td>\n",
              "      <td>0.083333</td>\n",
              "      <td>True Variance</td>\n",
              "    </tr>\n",
              "    <tr>\n",
              "      <th>1</th>\n",
              "      <td>1</td>\n",
              "      <td>NaN</td>\n",
              "      <td>Unbiased variance of the sample</td>\n",
              "    </tr>\n",
              "    <tr>\n",
              "      <th>2</th>\n",
              "      <td>1</td>\n",
              "      <td>0.000000</td>\n",
              "      <td>Variance of the population</td>\n",
              "    </tr>\n",
              "    <tr>\n",
              "      <th>3</th>\n",
              "      <td>2</td>\n",
              "      <td>0.083333</td>\n",
              "      <td>True Variance</td>\n",
              "    </tr>\n",
              "    <tr>\n",
              "      <th>4</th>\n",
              "      <td>2</td>\n",
              "      <td>0.236270</td>\n",
              "      <td>Unbiased variance of the sample</td>\n",
              "    </tr>\n",
              "    <tr>\n",
              "      <th>...</th>\n",
              "      <td>...</td>\n",
              "      <td>...</td>\n",
              "      <td>...</td>\n",
              "    </tr>\n",
              "    <tr>\n",
              "      <th>292</th>\n",
              "      <td>98</td>\n",
              "      <td>0.095121</td>\n",
              "      <td>Unbiased variance of the sample</td>\n",
              "    </tr>\n",
              "    <tr>\n",
              "      <th>293</th>\n",
              "      <td>98</td>\n",
              "      <td>0.094150</td>\n",
              "      <td>Variance of the population</td>\n",
              "    </tr>\n",
              "    <tr>\n",
              "      <th>294</th>\n",
              "      <td>99</td>\n",
              "      <td>0.083333</td>\n",
              "      <td>True Variance</td>\n",
              "    </tr>\n",
              "    <tr>\n",
              "      <th>295</th>\n",
              "      <td>99</td>\n",
              "      <td>0.071135</td>\n",
              "      <td>Unbiased variance of the sample</td>\n",
              "    </tr>\n",
              "    <tr>\n",
              "      <th>296</th>\n",
              "      <td>99</td>\n",
              "      <td>0.070416</td>\n",
              "      <td>Variance of the population</td>\n",
              "    </tr>\n",
              "  </tbody>\n",
              "</table>\n",
              "<p>297 rows × 3 columns</p>\n",
              "</div>"
            ],
            "text/plain": [
              "     Sample Size  Variance               Calculation Method\n",
              "0              1  0.083333                    True Variance\n",
              "1              1       NaN  Unbiased variance of the sample\n",
              "2              1  0.000000       Variance of the population\n",
              "3              2  0.083333                    True Variance\n",
              "4              2  0.236270  Unbiased variance of the sample\n",
              "..           ...       ...                              ...\n",
              "292           98  0.095121  Unbiased variance of the sample\n",
              "293           98  0.094150       Variance of the population\n",
              "294           99  0.083333                    True Variance\n",
              "295           99  0.071135  Unbiased variance of the sample\n",
              "296           99  0.070416       Variance of the population\n",
              "\n",
              "[297 rows x 3 columns]"
            ]
          },
          "execution_count": 43,
          "metadata": {},
          "output_type": "execute_result"
        }
      ],
      "source": [
        "results_df"
      ]
    },
    {
      "cell_type": "markdown",
      "metadata": {
        "id": "ib-23QZRItMS"
      },
      "source": [
        "## Task \n",
        "\n",
        "Make a line plot of the variance, to see how it reacts to the sample size.\n",
        "\n",
        "*Hints*\n",
        "- use `sns.lineplot(data=<>, y=<>, x=<>, hue = \"Calculation Method\")` "
      ]
    },
    {
      "cell_type": "code",
      "execution_count": 44,
      "metadata": {},
      "outputs": [
        {
          "data": {
            "text/plain": [
              "<Axes: xlabel='Sample Size', ylabel='Variance'>"
            ]
          },
          "execution_count": 44,
          "metadata": {},
          "output_type": "execute_result"
        },
        {
          "data": {
            "image/png": "[encoded data removed]",
            "text/plain": [
              "<Figure size 432x288 with 1 Axes>"
            ]
          },
          "metadata": {
            "needs_background": "light"
          },
          "output_type": "display_data"
        }
      ],
      "source": [
        "import seaborn as sns\n",
        "\n",
        "sns.lineplot(data=results_df, x=\"Sample Size\", y=\"Variance\", hue=\"Calculation Method\")\n",
        "\n"
      ]
    },
    {
      "cell_type": "markdown",
      "metadata": {
        "id": "G8CgUNNKQoX8"
      },
      "source": [
        "We observe, that the $(n-1)$ in the denominator of the unbiased variance of the sample does not make a big difference, once we reach 10 samples.\n",
        "We see, that a sample size of 30 is large enough to provide reasonable estimates for the true variance."
      ]
    },
    {
      "cell_type": "markdown",
      "metadata": {
        "id": "7IL8wiIdWIPx"
      },
      "source": [
        "# 🏁 Recap\n",
        "\n",
        "- If you have finished the tasks and have no questions, place the green card on top.\n",
        "- If you have finished the tasks but would like to discuss the solutions together again, place the yellow card on top.\n",
        "\n",
        "![](https://www.lokalinfo.ch/fileadmin/news_import/image003_03.jpg)"
      ]
    },
    {
      "cell_type": "markdown",
      "metadata": {
        "id": "1lCf7JWN_5kL"
      },
      "source": [
        "## Plotting Random Numbers"
      ]
    },
    {
      "cell_type": "markdown",
      "metadata": {
        "id": "7BVJl_twhp-9"
      },
      "source": [
        "### Histogram\n",
        "\n",
        "To improve our understanding of the data, we can plot a histogram.\n",
        "\n",
        "Seaborn, provides a ```histplot()``` that just works like any other plot. The crucial parameter of a histogram is the number of bins."
      ]
    },
    {
      "cell_type": "code",
      "execution_count": 53,
      "metadata": {
        "colab": {
          "base_uri": "https://localhost:8080/",
          "height": 296
        },
        "id": "6Es8e-VOhps0",
        "outputId": "cdcdaa86-35e3-460f-a96e-cf2c3ee2e609"
      },
      "outputs": [
        {
          "data": {
            "text/plain": [
              "<AxesSubplot:xlabel='Variance', ylabel='Count'>"
            ]
          },
          "execution_count": 53,
          "metadata": {},
          "output_type": "execute_result"
        },
        {
          "data": {
            "image/png": "[encoded data removed]",
            "text/plain": [
              "<Figure size 432x288 with 1 Axes>"
            ]
          },
          "metadata": {
            "needs_background": "light"
          },
          "output_type": "display_data"
        }
      ],
      "source": [
        "import seaborn as sns\n",
        "sns.histplot(data=results_df, x=\"Variance\", hue = \"Calculation Method\")"
      ]
    },
    {
      "cell_type": "code",
      "execution_count": 45,
      "metadata": {
        "colab": {
          "base_uri": "https://localhost:8080/",
          "height": 296
        },
        "id": "1Bn5l7JugzDL",
        "outputId": "24348d29-3202-4359-b5e8-7bd71332c8bd"
      },
      "outputs": [
        {
          "data": {
            "text/plain": [
              "<Axes: xlabel='Variance', ylabel='Count'>"
            ]
          },
          "execution_count": 45,
          "metadata": {},
          "output_type": "execute_result"
        },
        {
          "data": {
            "image/png": "[encoded data removed]",
            "text/plain": [
              "<Figure size 432x288 with 1 Axes>"
            ]
          },
          "metadata": {
            "needs_background": "light"
          },
          "output_type": "display_data"
        }
      ],
      "source": [
        "# We remove the True variance, where all the observations are the same (1/12)\n",
        "results_df_plot = results_df[results_df[\"Calculation Method\"]!=\"True Variance\"]\n",
        "\n",
        "sns.histplot(data=results_df_plot, x=\"Variance\", hue = \"Calculation Method\")"
      ]
    },
    {
      "cell_type": "markdown",
      "metadata": {
        "id": "_oQU-y25oUbW"
      },
      "source": [
        "Filtering out the true variance of ($1/12 = 0.8333$), we can that that variance formula for the population variance has the tenency to underestimate the true variance, which You can also see in the plot above.\n",
        "\n",
        "✍️ **Task**\n",
        "\n",
        "Play around with the parameters like bin size, You find in the [documentation](\n",
        "https://seaborn.pydata.org/generated/seaborn.histplot.html)"
      ]
    },
    {
      "cell_type": "code",
      "execution_count": null,
      "metadata": {},
      "outputs": [],
      "source": []
    },
    {
      "cell_type": "code",
      "execution_count": 46,
      "metadata": {
        "colab": {
          "base_uri": "https://localhost:8080/",
          "height": 297
        },
        "id": "XM5t8zFPhBqq",
        "outputId": "0de3b565-659a-4bf3-a0ed-3237b5da6485"
      },
      "outputs": [
        {
          "data": {
            "text/plain": [
              "<Axes: xlabel='Variance', ylabel='Count'>"
            ]
          },
          "execution_count": 46,
          "metadata": {},
          "output_type": "execute_result"
        },
        {
          "data": {
            "image/png": "[encoded data removed]",
            "text/plain": [
              "<Figure size 432x288 with 1 Axes>"
            ]
          },
          "metadata": {
            "needs_background": "light"
          },
          "output_type": "display_data"
        }
      ],
      "source": [
        "sns.histplot(data=results_df_plot, x=\"Variance\", hue = \"Calculation Method\", bins=10)"
      ]
    },
    {
      "cell_type": "markdown",
      "metadata": {
        "id": "DrZNvMHRpCS0"
      },
      "source": [
        "### Box Plots\n",
        "\n",
        "The box plots show some outliers and that the inter-quartile range is pretty small. Even when there is no real differences between the boxes (both estimators are good), here the tendency for under-estimation of the second formula (Orange) is even more obvious."
      ]
    },
    {
      "cell_type": "code",
      "execution_count": 47,
      "metadata": {
        "colab": {
          "base_uri": "https://localhost:8080/",
          "height": 296
        },
        "id": "iSIbLNFIhBn9",
        "outputId": "bd6b6da1-7155-4e3c-da39-6e2d71adfa76"
      },
      "outputs": [
        {
          "data": {
            "text/plain": [
              "<Axes: xlabel='Calculation Method', ylabel='Variance'>"
            ]
          },
          "execution_count": 47,
          "metadata": {},
          "output_type": "execute_result"
        },
        {
          "data": {
            "image/png": "[encoded data removed]",
            "text/plain": [
              "<Figure size 432x288 with 1 Axes>"
            ]
          },
          "metadata": {
            "needs_background": "light"
          },
          "output_type": "display_data"
        }
      ],
      "source": [
        "sns.boxplot(data=results_df_plot, x=\"Calculation Method\", y=\"Variance\")"
      ]
    },
    {
      "cell_type": "markdown",
      "metadata": {
        "id": "yMTIBdYjpve3"
      },
      "source": [
        "### 🤓 Empirical Cumulative Density Functions\n",
        "\n",
        "Finally, the [Empirical Cumulative Density Functions](https://seaborn.pydata.org/generated/seaborn.ecdfplot.html) sorts the data in ascending order and puts the proportion on the y-axis. In this way You can directly read the quantile-values from the graph."
      ]
    },
    {
      "cell_type": "code",
      "execution_count": 48,
      "metadata": {
        "colab": {
          "base_uri": "https://localhost:8080/",
          "height": 300
        },
        "id": "iUTaAySHhBhM",
        "outputId": "fbf8afe4-763a-4d62-be24-bdd9ee686b80"
      },
      "outputs": [
        {
          "data": {
            "text/plain": [
              "<Axes: xlabel='Variance', ylabel='Proportion'>"
            ]
          },
          "execution_count": 48,
          "metadata": {},
          "output_type": "execute_result"
        },
        {
          "data": {
            "image/png": "[encoded data removed]",
            "text/plain": [
              "<Figure size 432x288 with 1 Axes>"
            ]
          },
          "metadata": {
            "needs_background": "light"
          },
          "output_type": "display_data"
        }
      ],
      "source": [
        "sns.ecdfplot(data=results_df_plot, hue=\"Calculation Method\", x=\"Variance\")"
      ]
    },
    {
      "cell_type": "markdown",
      "metadata": {
        "id": "dPw2HNhGs3L3"
      },
      "source": [
        "If you want to get the quantiles directly, you can use the pandas quantile function. Here, we get the $50\\%$ quantile (median):"
      ]
    },
    {
      "cell_type": "code",
      "execution_count": 50,
      "metadata": {
        "colab": {
          "base_uri": "https://localhost:8080/"
        },
        "id": "84VEo0ktsp44",
        "outputId": "0f01b71f-b904-4d3a-a524-38337a547b72"
      },
      "outputs": [
        {
          "data": {
            "text/plain": [
              "0.08082295139770995"
            ]
          },
          "execution_count": 50,
          "metadata": {},
          "output_type": "execute_result"
        }
      ],
      "source": [
        "results_df_plot[\"Variance\"].quantile(q=0.5)"
      ]
    },
    {
      "cell_type": "markdown",
      "metadata": {
        "id": "hCFU59FwKbwi"
      },
      "source": [
        "Finally, we can apply some advanced Python functions, to get the results in one table:"
      ]
    },
    {
      "cell_type": "code",
      "execution_count": 51,
      "metadata": {
        "colab": {
          "base_uri": "https://localhost:8080/",
          "height": 206
        },
        "id": "vZ1pGl9e2PiW",
        "outputId": "60220390-bdbe-4d5b-a68d-68c72b518483"
      },
      "outputs": [
        {
          "data": {
            "text/html": [
              "<div>\n",
              "<style scoped>\n",
              "    .dataframe tbody tr th:only-of-type {\n",
              "        vertical-align: middle;\n",
              "    }\n",
              "\n",
              "    .dataframe tbody tr th {\n",
              "        vertical-align: top;\n",
              "    }\n",
              "\n",
              "    .dataframe thead tr th {\n",
              "        text-align: left;\n",
              "    }\n",
              "\n",
              "    .dataframe thead tr:last-of-type th {\n",
              "        text-align: right;\n",
              "    }\n",
              "</style>\n",
              "<table border=\"1\" class=\"dataframe\">\n",
              "  <thead>\n",
              "    <tr>\n",
              "      <th></th>\n",
              "      <th colspan=\"5\" halign=\"left\">Variance</th>\n",
              "    </tr>\n",
              "    <tr>\n",
              "      <th></th>\n",
              "      <th>mean</th>\n",
              "      <th>median</th>\n",
              "      <th>std</th>\n",
              "      <th>q_25</th>\n",
              "      <th>q_75</th>\n",
              "    </tr>\n",
              "    <tr>\n",
              "      <th>Calculation Method</th>\n",
              "      <th></th>\n",
              "      <th></th>\n",
              "      <th></th>\n",
              "      <th></th>\n",
              "      <th></th>\n",
              "    </tr>\n",
              "  </thead>\n",
              "  <tbody>\n",
              "    <tr>\n",
              "      <th>True Variance</th>\n",
              "      <td>0.083333</td>\n",
              "      <td>0.083333</td>\n",
              "      <td>0.000000</td>\n",
              "      <td>0.083333</td>\n",
              "      <td>0.083333</td>\n",
              "    </tr>\n",
              "    <tr>\n",
              "      <th>Unbiased variance of the sample</th>\n",
              "      <td>0.084546</td>\n",
              "      <td>0.081567</td>\n",
              "      <td>0.024182</td>\n",
              "      <td>0.075418</td>\n",
              "      <td>0.091075</td>\n",
              "    </tr>\n",
              "    <tr>\n",
              "      <th>Variance of the population</th>\n",
              "      <td>0.079166</td>\n",
              "      <td>0.079444</td>\n",
              "      <td>0.017062</td>\n",
              "      <td>0.071353</td>\n",
              "      <td>0.088976</td>\n",
              "    </tr>\n",
              "  </tbody>\n",
              "</table>\n",
              "</div>"
            ],
            "text/plain": [
              "                                 Variance                                \\\n",
              "                                     mean    median       std      q_25   \n",
              "Calculation Method                                                        \n",
              "True Variance                    0.083333  0.083333  0.000000  0.083333   \n",
              "Unbiased variance of the sample  0.084546  0.081567  0.024182  0.075418   \n",
              "Variance of the population       0.079166  0.079444  0.017062  0.071353   \n",
              "\n",
              "                                           \n",
              "                                     q_75  \n",
              "Calculation Method                         \n",
              "True Variance                    0.083333  \n",
              "Unbiased variance of the sample  0.091075  \n",
              "Variance of the population       0.088976  "
            ]
          },
          "execution_count": 51,
          "metadata": {},
          "output_type": "execute_result"
        }
      ],
      "source": [
        "# Defines a function, that takes a series x and returns the 25% quantile\n",
        "def q_25(x):\n",
        "    return x.quantile(0.25)\n",
        "\n",
        "# Defines a function, that takes a series x and returns the 25% quantile\n",
        "def q_75(x):\n",
        "    return x.quantile(0.75)\n",
        "\n",
        "# A dicitionary that describes what function we want to use on the data\n",
        "f = {'Variance': ['mean', 'median', 'std', q_25, q_75]}\n",
        "\n",
        "# A group by, where we use agg, to apply all function defined in f on the column variance\n",
        "df1 = results_df.groupby('Calculation Method').agg(f)\n",
        "df1"
      ]
    },
    {
      "cell_type": "markdown",
      "metadata": {
        "id": "moAHG9k0Wb90"
      },
      "source": [
        "# 🏁 Recap\n",
        "\n",
        "- If you have finished the tasks and have no questions, place the green card on top.\n",
        "- If you have finished the tasks but would like to discuss the solutions together again, place the yellow card on top.\n",
        "\n",
        "![](https://www.lokalinfo.ch/fileadmin/news_import/image003_03.jpg)"
      ]
    },
    {
      "cell_type": "code",
      "execution_count": null,
      "metadata": {},
      "outputs": [],
      "source": [
        "## Fitting a Distribution\n",
        "\n"
      ]
    },
    {
      "cell_type": "code",
      "execution_count": 52,
      "metadata": {},
      "outputs": [
        {
          "name": "stderr",
          "output_type": "stream",
          "text": [
            "\n",
            "[notice] A new release of pip is available: 23.1.2 -> 23.3.1\n",
            "[notice] To update, run: C:\\Users\\JLHUBER\\AppData\\Local\\Microsoft\\WindowsApps\\PythonSoftwareFoundation.Python.3.10_qbz5n2kfra8p0\\python.exe -m pip install --upgrade pip\n"
          ]
        },
        {
          "name": "stdout",
          "output_type": "stream",
          "text": [
            "Requirement already satisfied: fitter in c:\\users\\jlhuber\\appdata\\local\\packages\\pythonsoftwarefoundation.python.3.10_qbz5n2kfra8p0\\localcache\\local-packages\\python310\\site-packages (1.6.0)\n",
            "Requirement already satisfied: click<9.0.0,>=8.1.6 in c:\\users\\jlhuber\\appdata\\local\\packages\\pythonsoftwarefoundation.python.3.10_qbz5n2kfra8p0\\localcache\\local-packages\\python310\\site-packages (from fitter) (8.1.6)\n",
            "Requirement already satisfied: joblib<2.0.0,>=1.3.1 in c:\\users\\jlhuber\\appdata\\local\\packages\\pythonsoftwarefoundation.python.3.10_qbz5n2kfra8p0\\localcache\\local-packages\\python310\\site-packages (from fitter) (1.3.1)\n",
            "Requirement already satisfied: matplotlib>=3.7.2 in c:\\users\\jlhuber\\appdata\\local\\packages\\pythonsoftwarefoundation.python.3.10_qbz5n2kfra8p0\\localcache\\local-packages\\python310\\site-packages (from fitter) (3.7.2)\n",
            "Requirement already satisfied: numpy>=1.20 in c:\\users\\jlhuber\\appdata\\local\\packages\\pythonsoftwarefoundation.python.3.10_qbz5n2kfra8p0\\localcache\\local-packages\\python310\\site-packages (from fitter) (1.23.5)\n",
            "Requirement already satisfied: pandas<3.0.0,>=2.0.3 in c:\\users\\jlhuber\\appdata\\local\\packages\\pythonsoftwarefoundation.python.3.10_qbz5n2kfra8p0\\localcache\\local-packages\\python310\\site-packages (from fitter) (2.0.3)\n",
            "Requirement already satisfied: scipy>=0.18 in c:\\users\\jlhuber\\appdata\\local\\packages\\pythonsoftwarefoundation.python.3.10_qbz5n2kfra8p0\\localcache\\local-packages\\python310\\site-packages (from fitter) (1.11.1)\n",
            "Requirement already satisfied: tqdm<5.0.0,>=4.65.1 in c:\\users\\jlhuber\\appdata\\local\\packages\\pythonsoftwarefoundation.python.3.10_qbz5n2kfra8p0\\localcache\\local-packages\\python310\\site-packages (from fitter) (4.66.0)\n",
            "Requirement already satisfied: colorama in c:\\users\\jlhuber\\appdata\\local\\packages\\pythonsoftwarefoundation.python.3.10_qbz5n2kfra8p0\\localcache\\local-packages\\python310\\site-packages (from click<9.0.0,>=8.1.6->fitter) (0.4.4)\n",
            "Requirement already satisfied: contourpy>=1.0.1 in c:\\users\\jlhuber\\appdata\\local\\packages\\pythonsoftwarefoundation.python.3.10_qbz5n2kfra8p0\\localcache\\local-packages\\python310\\site-packages (from matplotlib>=3.7.2->fitter) (1.1.0)\n",
            "Requirement already satisfied: cycler>=0.10 in c:\\users\\jlhuber\\appdata\\local\\packages\\pythonsoftwarefoundation.python.3.10_qbz5n2kfra8p0\\localcache\\local-packages\\python310\\site-packages (from matplotlib>=3.7.2->fitter) (0.11.0)\n",
            "Requirement already satisfied: fonttools>=4.22.0 in c:\\users\\jlhuber\\appdata\\local\\packages\\pythonsoftwarefoundation.python.3.10_qbz5n2kfra8p0\\localcache\\local-packages\\python310\\site-packages (from matplotlib>=3.7.2->fitter) (4.29.1)\n",
            "Requirement already satisfied: kiwisolver>=1.0.1 in c:\\users\\jlhuber\\appdata\\local\\packages\\pythonsoftwarefoundation.python.3.10_qbz5n2kfra8p0\\localcache\\local-packages\\python310\\site-packages (from matplotlib>=3.7.2->fitter) (1.3.2)\n",
            "Requirement already satisfied: packaging>=20.0 in c:\\users\\jlhuber\\appdata\\local\\packages\\pythonsoftwarefoundation.python.3.10_qbz5n2kfra8p0\\localcache\\local-packages\\python310\\site-packages (from matplotlib>=3.7.2->fitter) (21.3)\n",
            "Requirement already satisfied: pillow>=6.2.0 in c:\\users\\jlhuber\\appdata\\local\\packages\\pythonsoftwarefoundation.python.3.10_qbz5n2kfra8p0\\localcache\\local-packages\\python310\\site-packages (from matplotlib>=3.7.2->fitter) (10.0.0)\n",
            "Requirement already satisfied: pyparsing<3.1,>=2.3.1 in c:\\users\\jlhuber\\appdata\\local\\packages\\pythonsoftwarefoundation.python.3.10_qbz5n2kfra8p0\\localcache\\local-packages\\python310\\site-packages (from matplotlib>=3.7.2->fitter) (3.0.7)\n",
            "Requirement already satisfied: python-dateutil>=2.7 in c:\\users\\jlhuber\\appdata\\local\\packages\\pythonsoftwarefoundation.python.3.10_qbz5n2kfra8p0\\localcache\\local-packages\\python310\\site-packages (from matplotlib>=3.7.2->fitter) (2.8.2)\n",
            "Requirement already satisfied: pytz>=2020.1 in c:\\users\\jlhuber\\appdata\\local\\packages\\pythonsoftwarefoundation.python.3.10_qbz5n2kfra8p0\\localcache\\local-packages\\python310\\site-packages (from pandas<3.0.0,>=2.0.3->fitter) (2021.3)\n",
            "Requirement already satisfied: tzdata>=2022.1 in c:\\users\\jlhuber\\appdata\\local\\packages\\pythonsoftwarefoundation.python.3.10_qbz5n2kfra8p0\\localcache\\local-packages\\python310\\site-packages (from pandas<3.0.0,>=2.0.3->fitter) (2023.3)\n",
            "Requirement already satisfied: six>=1.5 in c:\\users\\jlhuber\\appdata\\local\\packages\\pythonsoftwarefoundation.python.3.10_qbz5n2kfra8p0\\localcache\\local-packages\\python310\\site-packages (from python-dateutil>=2.7->matplotlib>=3.7.2->fitter) (1.16.0)\n"
          ]
        }
      ],
      "source": [
        "!pip install fitter\n",
        "\n",
        "import numpy as np\n",
        "import pandas as pd\n",
        "import seaborn as sns\n",
        "from fitter import Fitter, get_common_distributions, get_distributions"
      ]
    },
    {
      "cell_type": "code",
      "execution_count": 53,
      "metadata": {},
      "outputs": [
        {
          "data": {
            "text/html": [
              "<div>\n",
              "<style scoped>\n",
              "    .dataframe tbody tr th:only-of-type {\n",
              "        vertical-align: middle;\n",
              "    }\n",
              "\n",
              "    .dataframe tbody tr th {\n",
              "        vertical-align: top;\n",
              "    }\n",
              "\n",
              "    .dataframe thead th {\n",
              "        text-align: right;\n",
              "    }\n",
              "</style>\n",
              "<table border=\"1\" class=\"dataframe\">\n",
              "  <thead>\n",
              "    <tr style=\"text-align: right;\">\n",
              "      <th></th>\n",
              "      <th>species</th>\n",
              "      <th>island</th>\n",
              "      <th>bill_length_mm</th>\n",
              "      <th>bill_depth_mm</th>\n",
              "      <th>flipper_length_mm</th>\n",
              "      <th>body_mass_g</th>\n",
              "      <th>sex</th>\n",
              "    </tr>\n",
              "  </thead>\n",
              "  <tbody>\n",
              "    <tr>\n",
              "      <th>220</th>\n",
              "      <td>Gentoo</td>\n",
              "      <td>Biscoe</td>\n",
              "      <td>46.1</td>\n",
              "      <td>13.2</td>\n",
              "      <td>211.0</td>\n",
              "      <td>4500.0</td>\n",
              "      <td>Female</td>\n",
              "    </tr>\n",
              "    <tr>\n",
              "      <th>221</th>\n",
              "      <td>Gentoo</td>\n",
              "      <td>Biscoe</td>\n",
              "      <td>50.0</td>\n",
              "      <td>16.3</td>\n",
              "      <td>230.0</td>\n",
              "      <td>5700.0</td>\n",
              "      <td>Male</td>\n",
              "    </tr>\n",
              "    <tr>\n",
              "      <th>222</th>\n",
              "      <td>Gentoo</td>\n",
              "      <td>Biscoe</td>\n",
              "      <td>48.7</td>\n",
              "      <td>14.1</td>\n",
              "      <td>210.0</td>\n",
              "      <td>4450.0</td>\n",
              "      <td>Female</td>\n",
              "    </tr>\n",
              "    <tr>\n",
              "      <th>223</th>\n",
              "      <td>Gentoo</td>\n",
              "      <td>Biscoe</td>\n",
              "      <td>50.0</td>\n",
              "      <td>15.2</td>\n",
              "      <td>218.0</td>\n",
              "      <td>5700.0</td>\n",
              "      <td>Male</td>\n",
              "    </tr>\n",
              "    <tr>\n",
              "      <th>224</th>\n",
              "      <td>Gentoo</td>\n",
              "      <td>Biscoe</td>\n",
              "      <td>47.6</td>\n",
              "      <td>14.5</td>\n",
              "      <td>215.0</td>\n",
              "      <td>5400.0</td>\n",
              "      <td>Male</td>\n",
              "    </tr>\n",
              "    <tr>\n",
              "      <th>...</th>\n",
              "      <td>...</td>\n",
              "      <td>...</td>\n",
              "      <td>...</td>\n",
              "      <td>...</td>\n",
              "      <td>...</td>\n",
              "      <td>...</td>\n",
              "      <td>...</td>\n",
              "    </tr>\n",
              "    <tr>\n",
              "      <th>339</th>\n",
              "      <td>Gentoo</td>\n",
              "      <td>Biscoe</td>\n",
              "      <td>NaN</td>\n",
              "      <td>NaN</td>\n",
              "      <td>NaN</td>\n",
              "      <td>NaN</td>\n",
              "      <td>NaN</td>\n",
              "    </tr>\n",
              "    <tr>\n",
              "      <th>340</th>\n",
              "      <td>Gentoo</td>\n",
              "      <td>Biscoe</td>\n",
              "      <td>46.8</td>\n",
              "      <td>14.3</td>\n",
              "      <td>215.0</td>\n",
              "      <td>4850.0</td>\n",
              "      <td>Female</td>\n",
              "    </tr>\n",
              "    <tr>\n",
              "      <th>341</th>\n",
              "      <td>Gentoo</td>\n",
              "      <td>Biscoe</td>\n",
              "      <td>50.4</td>\n",
              "      <td>15.7</td>\n",
              "      <td>222.0</td>\n",
              "      <td>5750.0</td>\n",
              "      <td>Male</td>\n",
              "    </tr>\n",
              "    <tr>\n",
              "      <th>342</th>\n",
              "      <td>Gentoo</td>\n",
              "      <td>Biscoe</td>\n",
              "      <td>45.2</td>\n",
              "      <td>14.8</td>\n",
              "      <td>212.0</td>\n",
              "      <td>5200.0</td>\n",
              "      <td>Female</td>\n",
              "    </tr>\n",
              "    <tr>\n",
              "      <th>343</th>\n",
              "      <td>Gentoo</td>\n",
              "      <td>Biscoe</td>\n",
              "      <td>49.9</td>\n",
              "      <td>16.1</td>\n",
              "      <td>213.0</td>\n",
              "      <td>5400.0</td>\n",
              "      <td>Male</td>\n",
              "    </tr>\n",
              "  </tbody>\n",
              "</table>\n",
              "<p>124 rows × 7 columns</p>\n",
              "</div>"
            ],
            "text/plain": [
              "    species  island  bill_length_mm  bill_depth_mm  flipper_length_mm  \\\n",
              "220  Gentoo  Biscoe            46.1           13.2              211.0   \n",
              "221  Gentoo  Biscoe            50.0           16.3              230.0   \n",
              "222  Gentoo  Biscoe            48.7           14.1              210.0   \n",
              "223  Gentoo  Biscoe            50.0           15.2              218.0   \n",
              "224  Gentoo  Biscoe            47.6           14.5              215.0   \n",
              "..      ...     ...             ...            ...                ...   \n",
              "339  Gentoo  Biscoe             NaN            NaN                NaN   \n",
              "340  Gentoo  Biscoe            46.8           14.3              215.0   \n",
              "341  Gentoo  Biscoe            50.4           15.7              222.0   \n",
              "342  Gentoo  Biscoe            45.2           14.8              212.0   \n",
              "343  Gentoo  Biscoe            49.9           16.1              213.0   \n",
              "\n",
              "     body_mass_g     sex  \n",
              "220       4500.0  Female  \n",
              "221       5700.0    Male  \n",
              "222       4450.0  Female  \n",
              "223       5700.0    Male  \n",
              "224       5400.0    Male  \n",
              "..           ...     ...  \n",
              "339          NaN     NaN  \n",
              "340       4850.0  Female  \n",
              "341       5750.0    Male  \n",
              "342       5200.0  Female  \n",
              "343       5400.0    Male  \n",
              "\n",
              "[124 rows x 7 columns]"
            ]
          },
          "execution_count": 53,
          "metadata": {},
          "output_type": "execute_result"
        }
      ],
      "source": [
        "dataset = sns.load_dataset(\"penguins\")\n",
        "dataset = dataset[dataset[\"species\"]==\"Gentoo\"]\n",
        "dataset"
      ]
    },
    {
      "cell_type": "code",
      "execution_count": 54,
      "metadata": {},
      "outputs": [
        {
          "name": "stderr",
          "output_type": "stream",
          "text": [
            "C:\\Users\\JLHUBER\\AppData\\Local\\Packages\\PythonSoftwareFoundation.Python.3.10_qbz5n2kfra8p0\\LocalCache\\local-packages\\Python310\\site-packages\\seaborn\\axisgrid.py:118: UserWarning: The figure layout has changed to tight\n",
            "  self._figure.tight_layout(*args, **kwargs)\n"
          ]
        },
        {
          "data": {
            "text/plain": [
              "<seaborn.axisgrid.FacetGrid at 0x1f617f3b790>"
            ]
          },
          "execution_count": 54,
          "metadata": {},
          "output_type": "execute_result"
        },
        {
          "data": {
            "image/png": "[encoded data removed]",
            "text/plain": [
              "<Figure size 540x360 with 1 Axes>"
            ]
          },
          "metadata": {},
          "output_type": "display_data"
        }
      ],
      "source": [
        "sns.set_style('white')\n",
        "sns.set_context(\"paper\", font_scale = 2)\n",
        "sns.displot(data=dataset, x=\"body_mass_g\", kind=\"hist\", bins = 100, aspect = 1.5)"
      ]
    },
    {
      "cell_type": "code",
      "execution_count": 62,
      "metadata": {},
      "outputs": [
        {
          "data": {
            "text/plain": [
              "220    4500.0\n",
              "221    5700.0\n",
              "222    4450.0\n",
              "223    5700.0\n",
              "224    5400.0\n",
              "        ...  \n",
              "338    4925.0\n",
              "340    4850.0\n",
              "341    5750.0\n",
              "342    5200.0\n",
              "343    5400.0\n",
              "Name: body_mass_g, Length: 123, dtype: float64"
            ]
          },
          "execution_count": 62,
          "metadata": {},
          "output_type": "execute_result"
        }
      ],
      "source": [
        "body_mass = dataset[\"body_mass_g\"]\n",
        "body_mass.dropna(inplace=True)\n",
        "body_mass"
      ]
    },
    {
      "cell_type": "code",
      "execution_count": 63,
      "metadata": {},
      "outputs": [
        {
          "data": {
            "text/html": [
              "<div>\n",
              "<style scoped>\n",
              "    .dataframe tbody tr th:only-of-type {\n",
              "        vertical-align: middle;\n",
              "    }\n",
              "\n",
              "    .dataframe tbody tr th {\n",
              "        vertical-align: top;\n",
              "    }\n",
              "\n",
              "    .dataframe thead th {\n",
              "        text-align: right;\n",
              "    }\n",
              "</style>\n",
              "<table border=\"1\" class=\"dataframe\">\n",
              "  <thead>\n",
              "    <tr style=\"text-align: right;\">\n",
              "      <th></th>\n",
              "      <th>sumsquare_error</th>\n",
              "      <th>aic</th>\n",
              "      <th>bic</th>\n",
              "      <th>kl_div</th>\n",
              "      <th>ks_statistic</th>\n",
              "      <th>ks_pvalue</th>\n",
              "    </tr>\n",
              "  </thead>\n",
              "  <tbody>\n",
              "    <tr>\n",
              "      <th>beta</th>\n",
              "      <td>0.000028</td>\n",
              "      <td>1607.355081</td>\n",
              "      <td>1618.603818</td>\n",
              "      <td>inf</td>\n",
              "      <td>0.051908</td>\n",
              "      <td>0.877430</td>\n",
              "    </tr>\n",
              "    <tr>\n",
              "      <th>lognorm</th>\n",
              "      <td>0.000028</td>\n",
              "      <td>1616.530621</td>\n",
              "      <td>1624.967174</td>\n",
              "      <td>inf</td>\n",
              "      <td>0.070830</td>\n",
              "      <td>0.544041</td>\n",
              "    </tr>\n",
              "    <tr>\n",
              "      <th>gamma</th>\n",
              "      <td>0.000028</td>\n",
              "      <td>1616.573751</td>\n",
              "      <td>1625.010304</td>\n",
              "      <td>inf</td>\n",
              "      <td>0.070340</td>\n",
              "      <td>0.552926</td>\n",
              "    </tr>\n",
              "    <tr>\n",
              "      <th>norm</th>\n",
              "      <td>0.000028</td>\n",
              "      <td>1615.040156</td>\n",
              "      <td>1620.664525</td>\n",
              "      <td>inf</td>\n",
              "      <td>0.069093</td>\n",
              "      <td>0.575724</td>\n",
              "    </tr>\n",
              "    <tr>\n",
              "      <th>uniform</th>\n",
              "      <td>0.000033</td>\n",
              "      <td>1556.434121</td>\n",
              "      <td>1562.058490</td>\n",
              "      <td>inf</td>\n",
              "      <td>0.157758</td>\n",
              "      <td>0.003856</td>\n",
              "    </tr>\n",
              "  </tbody>\n",
              "</table>\n",
              "</div>"
            ],
            "text/plain": [
              "         sumsquare_error          aic          bic  kl_div  ks_statistic  \\\n",
              "beta            0.000028  1607.355081  1618.603818     inf      0.051908   \n",
              "lognorm         0.000028  1616.530621  1624.967174     inf      0.070830   \n",
              "gamma           0.000028  1616.573751  1625.010304     inf      0.070340   \n",
              "norm            0.000028  1615.040156  1620.664525     inf      0.069093   \n",
              "uniform         0.000033  1556.434121  1562.058490     inf      0.157758   \n",
              "\n",
              "         ks_pvalue  \n",
              "beta      0.877430  \n",
              "lognorm   0.544041  \n",
              "gamma     0.552926  \n",
              "norm      0.575724  \n",
              "uniform   0.003856  "
            ]
          },
          "execution_count": 63,
          "metadata": {},
          "output_type": "execute_result"
        },
        {
          "data": {
            "image/png": "[encoded data removed]",
            "text/plain": [
              "<Figure size 432x288 with 1 Axes>"
            ]
          },
          "metadata": {},
          "output_type": "display_data"
        }
      ],
      "source": [
        "f = Fitter(body_mass, distributions=['norm', 'expon', 'gamma', 'lognorm', 'beta', 'uniform'])\n",
        "f.fit()\n",
        "f.summary()"
      ]
    },
    {
      "cell_type": "code",
      "execution_count": 64,
      "metadata": {},
      "outputs": [
        {
          "data": {
            "text/html": [
              "<div>\n",
              "<style scoped>\n",
              "    .dataframe tbody tr th:only-of-type {\n",
              "        vertical-align: middle;\n",
              "    }\n",
              "\n",
              "    .dataframe tbody tr th {\n",
              "        vertical-align: top;\n",
              "    }\n",
              "\n",
              "    .dataframe thead th {\n",
              "        text-align: right;\n",
              "    }\n",
              "</style>\n",
              "<table border=\"1\" class=\"dataframe\">\n",
              "  <thead>\n",
              "    <tr style=\"text-align: right;\">\n",
              "      <th></th>\n",
              "      <th>sumsquare_error</th>\n",
              "      <th>aic</th>\n",
              "      <th>bic</th>\n",
              "      <th>kl_div</th>\n",
              "      <th>ks_statistic</th>\n",
              "      <th>ks_pvalue</th>\n",
              "    </tr>\n",
              "  </thead>\n",
              "  <tbody>\n",
              "    <tr>\n",
              "      <th>norm</th>\n",
              "      <td>0.000028</td>\n",
              "      <td>1615.040156</td>\n",
              "      <td>1620.664525</td>\n",
              "      <td>inf</td>\n",
              "      <td>0.069093</td>\n",
              "      <td>0.575724</td>\n",
              "    </tr>\n",
              "  </tbody>\n",
              "</table>\n",
              "</div>"
            ],
            "text/plain": [
              "      sumsquare_error          aic          bic  kl_div  ks_statistic  \\\n",
              "norm         0.000028  1615.040156  1620.664525     inf      0.069093   \n",
              "\n",
              "      ks_pvalue  \n",
              "norm   0.575724  "
            ]
          },
          "execution_count": 64,
          "metadata": {},
          "output_type": "execute_result"
        },
        {
          "data": {
            "image/png": "[encoded data removed]",
            "text/plain": [
              "<Figure size 432x288 with 1 Axes>"
            ]
          },
          "metadata": {},
          "output_type": "display_data"
        }
      ],
      "source": [
        "f = Fitter(body_mass,\n",
        "           distributions=[\"norm\"])\n",
        "f.fit()\n",
        "f.summary()"
      ]
    },
    {
      "cell_type": "code",
      "execution_count": null,
      "metadata": {},
      "outputs": [],
      "source": []
    }
  ],
  "metadata": {
    "colab": {
      "provenance": [],
      "toc_visible": true
    },
    "kernelspec": {
      "display_name": "Python 3.10.11 64-bit (microsoft store)",
      "language": "python",
      "name": "python3"
    },
    "language_info": {
      "codemirror_mode": {
        "name": "ipython",
        "version": 3
      },
      "file_extension": ".py",
      "mimetype": "text/x-python",
      "name": "python",
      "nbconvert_exporter": "python",
      "pygments_lexer": "ipython3",
      "version": "3.10.11"
    },
    "vscode": {
      "interpreter": {
        "hash": "62c9f9b6c66864edd5299c8c6bca8c476f7af6985c4212f8d17f753b35884d59"
      }
    }
  },
  "nbformat": 4,
  "nbformat_minor": 0
}

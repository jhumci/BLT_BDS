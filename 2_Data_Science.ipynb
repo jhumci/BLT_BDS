{
  "cells": [
    {
      "cell_type": "markdown",
      "metadata": {},
      "source": [
        "<table style=\"width: 100%\">\n",
        "    <tr style=\"background: #ffffff\">\n",
        "        <td style=\"padding-top:25px;width: 180px\"><img src=\"https://mci.edu/templates/mci/images/logo.svg\" alt=\"Logo\"></td>\n",
        "        <td style=\"width: 100%\">\n",
        "            <div style=\"text-align:right; width: 100%; text-align:right\"><font style=\"font-size:38px\"><b>Data Science</b></font></div>\n",
        "            <div style=\"padding-top:0px; width: 100%; text-align:right\"><font size=\"4\"><b>Bio Data-Science</b></font></div>\n",
        "        </td>\n",
        "    </tr>\n",
        "</table>\n",
        "\n",
        "---\n",
        "\n",
        "# 2 Statistical Learning"
      ]
    },
    {
      "cell_type": "markdown",
      "metadata": {
        "id": "RvEvX-87Q3UV"
      },
      "source": [
        "## 2.1 Storing $Y$ and $X$ in a DataFrame\n",
        "\n",
        "In data science, we use different tools (plots, statistical analysis, models, etc.) to generate knowledge from data. \n",
        "For instance, we can analyze how femur length is related to the hight of the person.\n",
        "\n",
        "In this case, hight is $Y$ (the output variable) and femur length is $X$ (the only predictor, we have).\n",
        "\n",
        "Creating a scatter plot is a simple tool to understand the data. The following code creates synthetic data and a scatter plot.\n",
        "\n",
        "From the plot, we can reason:\n",
        "- Interpret:\n",
        "  - People with longer femurs are higher\n",
        "  - There seems to be a linear relationship between $Y$ and $X$\n",
        "  - We cannot see, whether $Y$ and $X$ are proportional (meet at the origin).  \n",
        "-  Predict:\n",
        "  - If we would like to predict the height of a person with a femur length of 41 cm, we could also do this by looking in the plot.\n",
        "\n",
        "**Task**\n",
        "\n",
        "✍️ What body hight would You predict for a femur length of 41cm?\n",
        "\n",
        "Looking at the plot, our brain creates a model $f$ of the data. However, this model is hard to describe and share with others, as if does not have any structure or mathematical parameters.\n",
        "Also, out brain is very good in creating linear models in two dimensions. Imaging, having additional predictors ($X_j$, e.g., country of origin, weight, gender, age, ...). This would, be much harder to analyze in a plot. Data science provides us with the tools, to get insights from more complex data.\n",
        "\n"
      ]
    },
    {
      "cell_type": "markdown",
      "metadata": {
        "id": "ZtBd11hAbh4y"
      },
      "source": [
        "🤓 This example works with simulated data. You can also use the data we collected [here](https://docs.google.com/spreadsheets/d/1NxCE0eVnNgMUUlpoq_5ZP8kTufB2s2njrbm3ti-SqGo/edit?usp=sharing). See [here](https://towardsdatascience.com/read-data-from-google-sheets-into-pandas-without-the-google-sheets-api-5c468536550#:~:text=All%20you%20need%20to%20do,a%20url%20pandas%20can%20read.&text=You%20can%20find%20the%20sheet,name%20you%20gave%20your%20sheet.) on how to do this."
      ]
    },
    {
      "cell_type": "code",
      "execution_count": 3,
      "metadata": {
        "colab": {
          "base_uri": "https://localhost:8080/",
          "height": 279
        },
        "id": "9RzzA7aI9byq",
        "outputId": "462f90e6-0a02-4f33-db82-5ece9a6831bc"
      },
      "outputs": [
        {
          "data": {
            "image/png": "[encoded data removed]",
            "text/plain": [
              "<Figure size 432x288 with 1 Axes>"
            ]
          },
          "metadata": {
            "needs_background": "light"
          },
          "output_type": "display_data"
        }
      ],
      "source": [
        "# imports\n",
        "import numpy as np\n",
        "import matplotlib.pyplot as plt\n",
        "\n",
        "number_of_observations = 30\n",
        "\n",
        "# generate random data-set\n",
        "np.random.seed(0)\n",
        "femur_length_in_cm = 38 + np.random.rand(number_of_observations,1) * 10\n",
        "height_in_cm = 91.272 + 1.8172 * femur_length_in_cm + np.random.rand(number_of_observations, 1) * 10\n",
        "## See https://actascientific.com/ASMI/pdf/ASMI-02-0399.pdf\n",
        "\n",
        "\n",
        "# plot\n",
        "plt.scatter(femur_length_in_cm,height_in_cm,s=10)\n",
        "plt.xlabel('Femur length in cm')\n",
        "plt.ylabel('Height in cm')\n",
        "plt.show()"
      ]
    },
    {
      "cell_type": "markdown",
      "metadata": {
        "id": "VdfsLPImXnZ_"
      },
      "source": [
        "Next, we put the data in a DataFrame:"
      ]
    },
    {
      "cell_type": "code",
      "execution_count": 4,
      "metadata": {
        "colab": {
          "base_uri": "https://localhost:8080/",
          "height": 990
        },
        "id": "Cb9xuY_2e39B",
        "outputId": "f61665e6-977a-4964-cb31-e39b81b0eab0"
      },
      "outputs": [
        {
          "data": {
            "text/html": [
              "<div>\n",
              "<style scoped>\n",
              "    .dataframe tbody tr th:only-of-type {\n",
              "        vertical-align: middle;\n",
              "    }\n",
              "\n",
              "    .dataframe tbody tr th {\n",
              "        vertical-align: top;\n",
              "    }\n",
              "\n",
              "    .dataframe thead th {\n",
              "        text-align: right;\n",
              "    }\n",
              "</style>\n",
              "<table border=\"1\" class=\"dataframe\">\n",
              "  <thead>\n",
              "    <tr style=\"text-align: right;\">\n",
              "      <th></th>\n",
              "      <th>femur_length_in_cm</th>\n",
              "      <th>height_in_cm</th>\n",
              "    </tr>\n",
              "  </thead>\n",
              "  <tbody>\n",
              "    <tr>\n",
              "      <th>0</th>\n",
              "      <td>43.488135</td>\n",
              "      <td>172.944195</td>\n",
              "    </tr>\n",
              "    <tr>\n",
              "      <th>1</th>\n",
              "      <td>45.151894</td>\n",
              "      <td>181.064358</td>\n",
              "    </tr>\n",
              "    <tr>\n",
              "      <th>2</th>\n",
              "      <td>44.027634</td>\n",
              "      <td>175.840519</td>\n",
              "    </tr>\n",
              "    <tr>\n",
              "      <th>3</th>\n",
              "      <td>43.448832</td>\n",
              "      <td>175.911557</td>\n",
              "    </tr>\n",
              "    <tr>\n",
              "      <th>4</th>\n",
              "      <td>42.236548</td>\n",
              "      <td>168.212153</td>\n",
              "    </tr>\n",
              "    <tr>\n",
              "      <th>5</th>\n",
              "      <td>44.458941</td>\n",
              "      <td>178.239143</td>\n",
              "    </tr>\n",
              "    <tr>\n",
              "      <th>6</th>\n",
              "      <td>42.375872</td>\n",
              "      <td>174.398392</td>\n",
              "    </tr>\n",
              "    <tr>\n",
              "      <th>7</th>\n",
              "      <td>46.917730</td>\n",
              "      <td>182.700239</td>\n",
              "    </tr>\n",
              "    <tr>\n",
              "      <th>8</th>\n",
              "      <td>47.636628</td>\n",
              "      <td>187.274760</td>\n",
              "    </tr>\n",
              "    <tr>\n",
              "      <th>9</th>\n",
              "      <td>41.834415</td>\n",
              "      <td>174.111702</td>\n",
              "    </tr>\n",
              "    <tr>\n",
              "      <th>10</th>\n",
              "      <td>45.917250</td>\n",
              "      <td>178.307906</td>\n",
              "    </tr>\n",
              "    <tr>\n",
              "      <th>11</th>\n",
              "      <td>43.288949</td>\n",
              "      <td>174.306998</td>\n",
              "    </tr>\n",
              "    <tr>\n",
              "      <th>12</th>\n",
              "      <td>43.680446</td>\n",
              "      <td>177.624418</td>\n",
              "    </tr>\n",
              "    <tr>\n",
              "      <th>13</th>\n",
              "      <td>47.255966</td>\n",
              "      <td>177.747797</td>\n",
              "    </tr>\n",
              "    <tr>\n",
              "      <th>14</th>\n",
              "      <td>38.710361</td>\n",
              "      <td>168.284134</td>\n",
              "    </tr>\n",
              "    <tr>\n",
              "      <th>15</th>\n",
              "      <td>38.871293</td>\n",
              "      <td>168.615292</td>\n",
              "    </tr>\n",
              "    <tr>\n",
              "      <th>16</th>\n",
              "      <td>38.202184</td>\n",
              "      <td>162.796834</td>\n",
              "    </tr>\n",
              "    <tr>\n",
              "      <th>17</th>\n",
              "      <td>46.326198</td>\n",
              "      <td>176.745231</td>\n",
              "    </tr>\n",
              "    <tr>\n",
              "      <th>18</th>\n",
              "      <td>45.781568</td>\n",
              "      <td>177.620548</td>\n",
              "    </tr>\n",
              "    <tr>\n",
              "      <th>19</th>\n",
              "      <td>46.700121</td>\n",
              "      <td>179.772568</td>\n",
              "    </tr>\n",
              "    <tr>\n",
              "      <th>20</th>\n",
              "      <td>47.786183</td>\n",
              "      <td>183.811020</td>\n",
              "    </tr>\n",
              "    <tr>\n",
              "      <th>21</th>\n",
              "      <td>45.991586</td>\n",
              "      <td>179.233925</td>\n",
              "    </tr>\n",
              "    <tr>\n",
              "      <th>22</th>\n",
              "      <td>42.614794</td>\n",
              "      <td>178.595341</td>\n",
              "    </tr>\n",
              "    <tr>\n",
              "      <th>23</th>\n",
              "      <td>45.805292</td>\n",
              "      <td>175.529824</td>\n",
              "    </tr>\n",
              "    <tr>\n",
              "      <th>24</th>\n",
              "      <td>39.182744</td>\n",
              "      <td>164.563650</td>\n",
              "    </tr>\n",
              "    <tr>\n",
              "      <th>25</th>\n",
              "      <td>44.399210</td>\n",
              "      <td>173.567340</td>\n",
              "    </tr>\n",
              "    <tr>\n",
              "      <th>26</th>\n",
              "      <td>39.433533</td>\n",
              "      <td>169.461699</td>\n",
              "    </tr>\n",
              "    <tr>\n",
              "      <th>27</th>\n",
              "      <td>47.446689</td>\n",
              "      <td>180.025040</td>\n",
              "    </tr>\n",
              "    <tr>\n",
              "      <th>28</th>\n",
              "      <td>43.218483</td>\n",
              "      <td>174.471735</td>\n",
              "    </tr>\n",
              "    <tr>\n",
              "      <th>29</th>\n",
              "      <td>42.146619</td>\n",
              "      <td>170.305093</td>\n",
              "    </tr>\n",
              "  </tbody>\n",
              "</table>\n",
              "</div>"
            ],
            "text/plain": [
              "    femur_length_in_cm  height_in_cm\n",
              "0            43.488135    172.944195\n",
              "1            45.151894    181.064358\n",
              "2            44.027634    175.840519\n",
              "3            43.448832    175.911557\n",
              "4            42.236548    168.212153\n",
              "5            44.458941    178.239143\n",
              "6            42.375872    174.398392\n",
              "7            46.917730    182.700239\n",
              "8            47.636628    187.274760\n",
              "9            41.834415    174.111702\n",
              "10           45.917250    178.307906\n",
              "11           43.288949    174.306998\n",
              "12           43.680446    177.624418\n",
              "13           47.255966    177.747797\n",
              "14           38.710361    168.284134\n",
              "15           38.871293    168.615292\n",
              "16           38.202184    162.796834\n",
              "17           46.326198    176.745231\n",
              "18           45.781568    177.620548\n",
              "19           46.700121    179.772568\n",
              "20           47.786183    183.811020\n",
              "21           45.991586    179.233925\n",
              "22           42.614794    178.595341\n",
              "23           45.805292    175.529824\n",
              "24           39.182744    164.563650\n",
              "25           44.399210    173.567340\n",
              "26           39.433533    169.461699\n",
              "27           47.446689    180.025040\n",
              "28           43.218483    174.471735\n",
              "29           42.146619    170.305093"
            ]
          },
          "execution_count": 4,
          "metadata": {},
          "output_type": "execute_result"
        }
      ],
      "source": [
        "# Data Preparation\n",
        "femur_length_in_cm = femur_length_in_cm.tolist()\n",
        "height_in_cm = height_in_cm.tolist()\n",
        "\n",
        "femur_length_in_cm\n",
        "\n",
        "pos = 0\n",
        "for i in femur_length_in_cm:\n",
        "  femur_length_in_cm[pos] = i[0]\n",
        "  pos = pos + 1 \n",
        "\n",
        "pos = 0\n",
        "for i in height_in_cm:\n",
        "  height_in_cm[pos] = i[0]\n",
        "  pos = pos + 1 \n",
        "\n",
        "import pandas as pd\n",
        "\n",
        "data = pd.DataFrame({'femur_length_in_cm': femur_length_in_cm,'height_in_cm': height_in_cm})\n",
        "#data[\"femur_length_in_cm\"] = data[\"femur_length_in_cm\"][0][0]\n",
        "#data[\"height_in_cm\"] = data[\"height_in_cm\"][0]\n",
        "\n",
        "data"
      ]
    },
    {
      "cell_type": "markdown",
      "metadata": {},
      "source": [
        "✍️ **Task**\n",
        "\n",
        "- What is the predicted variable ($Y$) and what is the predictor ($X$) in the DateFrame above?\n",
        "- Given the data and the scatter plot, should we use a linear model or a non-linear model to predict $Y$ from $X$?\n",
        "- Given we choose a linear model, what is the intercept and the slope of the model?\n",
        "- Can you write down the linear model?"
      ]
    },
    {
      "cell_type": "code",
      "execution_count": 5,
      "metadata": {},
      "outputs": [],
      "source": [
        "#@title ❓ Click `Show code` in the code cell to show the solution. { display-mode: \"form\" }\n",
        "\n",
        "# Y: height_in_cm, X: femur_length_in_cm (and intercept)\n",
        "# The scatter plot shows a linear relationship between the two variables\n",
        "# Intercept is ~90 cm, the slope is ~1.8 cm/cm\n",
        "# f(x) = y = 90 + 1.8 * x = height_in_cm (femu_length_in_cm) = 90 + 1.8 * femur_length_in_cm"
      ]
    },
    {
      "cell_type": "markdown",
      "metadata": {},
      "source": [
        "## 2.2 Creating a Training and Test set\n",
        "\n",
        "We learned, that it is useful to split the data we have into two different sets. The training set is used to train and learn our models. On the test set, we can evaluate, how the trained model performs on unseen data. \n",
        "\n",
        "When splitting the data, we should have no systematic bias (e.g., by putting only the smallest people in the test set). \n",
        "\n",
        "✍️ **Task**\n",
        "\n",
        "Create a new column named \"Set\" in the Dataframe ```data```, that marks whether the observation belongs to the training or test set (i.e., fill the column with ```\"Training\"``` or ```\"Test\"```). Assign 25% of the data to the test set."
      ]
    },
    {
      "cell_type": "code",
      "execution_count": null,
      "metadata": {},
      "outputs": [],
      "source": []
    },
    {
      "cell_type": "code",
      "execution_count": 6,
      "metadata": {},
      "outputs": [
        {
          "data": {
            "text/html": [
              "<div>\n",
              "<style scoped>\n",
              "    .dataframe tbody tr th:only-of-type {\n",
              "        vertical-align: middle;\n",
              "    }\n",
              "\n",
              "    .dataframe tbody tr th {\n",
              "        vertical-align: top;\n",
              "    }\n",
              "\n",
              "    .dataframe thead th {\n",
              "        text-align: right;\n",
              "    }\n",
              "</style>\n",
              "<table border=\"1\" class=\"dataframe\">\n",
              "  <thead>\n",
              "    <tr style=\"text-align: right;\">\n",
              "      <th></th>\n",
              "      <th>femur_length_in_cm</th>\n",
              "      <th>height_in_cm</th>\n",
              "      <th>Set</th>\n",
              "    </tr>\n",
              "  </thead>\n",
              "  <tbody>\n",
              "    <tr>\n",
              "      <th>0</th>\n",
              "      <td>43.488135</td>\n",
              "      <td>172.944195</td>\n",
              "      <td>Test</td>\n",
              "    </tr>\n",
              "    <tr>\n",
              "      <th>1</th>\n",
              "      <td>45.151894</td>\n",
              "      <td>181.064358</td>\n",
              "      <td>Test</td>\n",
              "    </tr>\n",
              "    <tr>\n",
              "      <th>2</th>\n",
              "      <td>44.027634</td>\n",
              "      <td>175.840519</td>\n",
              "      <td>Test</td>\n",
              "    </tr>\n",
              "    <tr>\n",
              "      <th>3</th>\n",
              "      <td>43.448832</td>\n",
              "      <td>175.911557</td>\n",
              "      <td>Test</td>\n",
              "    </tr>\n",
              "    <tr>\n",
              "      <th>4</th>\n",
              "      <td>42.236548</td>\n",
              "      <td>168.212153</td>\n",
              "      <td>Test</td>\n",
              "    </tr>\n",
              "    <tr>\n",
              "      <th>5</th>\n",
              "      <td>44.458941</td>\n",
              "      <td>178.239143</td>\n",
              "      <td>Test</td>\n",
              "    </tr>\n",
              "    <tr>\n",
              "      <th>6</th>\n",
              "      <td>42.375872</td>\n",
              "      <td>174.398392</td>\n",
              "      <td>Test</td>\n",
              "    </tr>\n",
              "    <tr>\n",
              "      <th>7</th>\n",
              "      <td>46.917730</td>\n",
              "      <td>182.700239</td>\n",
              "      <td>Test</td>\n",
              "    </tr>\n",
              "    <tr>\n",
              "      <th>8</th>\n",
              "      <td>47.636628</td>\n",
              "      <td>187.274760</td>\n",
              "      <td>Training</td>\n",
              "    </tr>\n",
              "    <tr>\n",
              "      <th>9</th>\n",
              "      <td>41.834415</td>\n",
              "      <td>174.111702</td>\n",
              "      <td>Training</td>\n",
              "    </tr>\n",
              "    <tr>\n",
              "      <th>10</th>\n",
              "      <td>45.917250</td>\n",
              "      <td>178.307906</td>\n",
              "      <td>Training</td>\n",
              "    </tr>\n",
              "    <tr>\n",
              "      <th>11</th>\n",
              "      <td>43.288949</td>\n",
              "      <td>174.306998</td>\n",
              "      <td>Training</td>\n",
              "    </tr>\n",
              "    <tr>\n",
              "      <th>12</th>\n",
              "      <td>43.680446</td>\n",
              "      <td>177.624418</td>\n",
              "      <td>Training</td>\n",
              "    </tr>\n",
              "    <tr>\n",
              "      <th>13</th>\n",
              "      <td>47.255966</td>\n",
              "      <td>177.747797</td>\n",
              "      <td>Training</td>\n",
              "    </tr>\n",
              "    <tr>\n",
              "      <th>14</th>\n",
              "      <td>38.710361</td>\n",
              "      <td>168.284134</td>\n",
              "      <td>Training</td>\n",
              "    </tr>\n",
              "    <tr>\n",
              "      <th>15</th>\n",
              "      <td>38.871293</td>\n",
              "      <td>168.615292</td>\n",
              "      <td>Training</td>\n",
              "    </tr>\n",
              "    <tr>\n",
              "      <th>16</th>\n",
              "      <td>38.202184</td>\n",
              "      <td>162.796834</td>\n",
              "      <td>Training</td>\n",
              "    </tr>\n",
              "    <tr>\n",
              "      <th>17</th>\n",
              "      <td>46.326198</td>\n",
              "      <td>176.745231</td>\n",
              "      <td>Training</td>\n",
              "    </tr>\n",
              "    <tr>\n",
              "      <th>18</th>\n",
              "      <td>45.781568</td>\n",
              "      <td>177.620548</td>\n",
              "      <td>Training</td>\n",
              "    </tr>\n",
              "    <tr>\n",
              "      <th>19</th>\n",
              "      <td>46.700121</td>\n",
              "      <td>179.772568</td>\n",
              "      <td>Training</td>\n",
              "    </tr>\n",
              "    <tr>\n",
              "      <th>20</th>\n",
              "      <td>47.786183</td>\n",
              "      <td>183.811020</td>\n",
              "      <td>Training</td>\n",
              "    </tr>\n",
              "    <tr>\n",
              "      <th>21</th>\n",
              "      <td>45.991586</td>\n",
              "      <td>179.233925</td>\n",
              "      <td>Training</td>\n",
              "    </tr>\n",
              "    <tr>\n",
              "      <th>22</th>\n",
              "      <td>42.614794</td>\n",
              "      <td>178.595341</td>\n",
              "      <td>Training</td>\n",
              "    </tr>\n",
              "    <tr>\n",
              "      <th>23</th>\n",
              "      <td>45.805292</td>\n",
              "      <td>175.529824</td>\n",
              "      <td>Training</td>\n",
              "    </tr>\n",
              "    <tr>\n",
              "      <th>24</th>\n",
              "      <td>39.182744</td>\n",
              "      <td>164.563650</td>\n",
              "      <td>Training</td>\n",
              "    </tr>\n",
              "    <tr>\n",
              "      <th>25</th>\n",
              "      <td>44.399210</td>\n",
              "      <td>173.567340</td>\n",
              "      <td>Training</td>\n",
              "    </tr>\n",
              "    <tr>\n",
              "      <th>26</th>\n",
              "      <td>39.433533</td>\n",
              "      <td>169.461699</td>\n",
              "      <td>Training</td>\n",
              "    </tr>\n",
              "    <tr>\n",
              "      <th>27</th>\n",
              "      <td>47.446689</td>\n",
              "      <td>180.025040</td>\n",
              "      <td>Training</td>\n",
              "    </tr>\n",
              "    <tr>\n",
              "      <th>28</th>\n",
              "      <td>43.218483</td>\n",
              "      <td>174.471735</td>\n",
              "      <td>Training</td>\n",
              "    </tr>\n",
              "    <tr>\n",
              "      <th>29</th>\n",
              "      <td>42.146619</td>\n",
              "      <td>170.305093</td>\n",
              "      <td>Training</td>\n",
              "    </tr>\n",
              "  </tbody>\n",
              "</table>\n",
              "</div>"
            ],
            "text/plain": [
              "    femur_length_in_cm  height_in_cm       Set\n",
              "0            43.488135    172.944195      Test\n",
              "1            45.151894    181.064358      Test\n",
              "2            44.027634    175.840519      Test\n",
              "3            43.448832    175.911557      Test\n",
              "4            42.236548    168.212153      Test\n",
              "5            44.458941    178.239143      Test\n",
              "6            42.375872    174.398392      Test\n",
              "7            46.917730    182.700239      Test\n",
              "8            47.636628    187.274760  Training\n",
              "9            41.834415    174.111702  Training\n",
              "10           45.917250    178.307906  Training\n",
              "11           43.288949    174.306998  Training\n",
              "12           43.680446    177.624418  Training\n",
              "13           47.255966    177.747797  Training\n",
              "14           38.710361    168.284134  Training\n",
              "15           38.871293    168.615292  Training\n",
              "16           38.202184    162.796834  Training\n",
              "17           46.326198    176.745231  Training\n",
              "18           45.781568    177.620548  Training\n",
              "19           46.700121    179.772568  Training\n",
              "20           47.786183    183.811020  Training\n",
              "21           45.991586    179.233925  Training\n",
              "22           42.614794    178.595341  Training\n",
              "23           45.805292    175.529824  Training\n",
              "24           39.182744    164.563650  Training\n",
              "25           44.399210    173.567340  Training\n",
              "26           39.433533    169.461699  Training\n",
              "27           47.446689    180.025040  Training\n",
              "28           43.218483    174.471735  Training\n",
              "29           42.146619    170.305093  Training"
            ]
          },
          "execution_count": 6,
          "metadata": {},
          "output_type": "execute_result"
        }
      ],
      "source": [
        "#@title ❓ Click `Show code` in the code cell to show the solution. { display-mode: \"form\" }\n",
        "import numpy as np\n",
        "\n",
        "data[\"Set\"] = \"Training\"\n",
        "data\n",
        "\n",
        "test_counter = data.shape[0] * 0.25\n",
        "\n",
        "data.loc[0:test_counter,\"Set\"] = \"Test\"\n",
        "data"
      ]
    },
    {
      "cell_type": "markdown",
      "metadata": {},
      "source": [
        "Create a new scatter plot that also marks the set the observations belong to (```hue = \"Set\"```)."
      ]
    },
    {
      "cell_type": "code",
      "execution_count": null,
      "metadata": {},
      "outputs": [],
      "source": []
    },
    {
      "cell_type": "code",
      "execution_count": 7,
      "metadata": {},
      "outputs": [
        {
          "data": {
            "text/plain": [
              "Text(0, 0.5, 'Height in cm')"
            ]
          },
          "execution_count": 7,
          "metadata": {},
          "output_type": "execute_result"
        },
        {
          "data": {
            "image/png": "[encoded data removed]",
            "text/plain": [
              "<Figure size 432x288 with 1 Axes>"
            ]
          },
          "metadata": {
            "needs_background": "light"
          },
          "output_type": "display_data"
        }
      ],
      "source": [
        "# Plot that shows what observation belongs to training and test set\n",
        "import seaborn as sns\n",
        "\n",
        "fig1 = sns.scatterplot(data=data, x=\"femur_length_in_cm\", y=\"height_in_cm\", hue=\"Set\")\n",
        "fig1.set_xlabel(\"Femur length in cm\")\n",
        "fig1.set_ylabel(\"Height in cm\")"
      ]
    },
    {
      "cell_type": "markdown",
      "metadata": {
        "id": "8nm3faKdcQSs"
      },
      "source": [
        "# 🏁 Recap\n",
        "\n",
        "- If you have finished the tasks and have no questions, place the green card on top.\n",
        "- If you have finished the tasks but would like to discuss the solutions together again, place the yellow card on top.\n",
        "\n",
        "![](https://www.lokalinfo.ch/fileadmin/news_import/image003_03.jpg)"
      ]
    },
    {
      "cell_type": "markdown",
      "metadata": {
        "id": "YJtkvpcdcRtk"
      },
      "source": [
        "## 2.3 Training Models on a Test Set\n",
        "\n",
        "Next, we train a simpel parametric model. This means, we decide for a structure of the model and then find the best parameters to fit the model to the training set.\n",
        "\n",
        "First, we deicide for a simple linear regression model (more in the next session). Basically, we put a line through the data. The line has two parameters \n",
        "- intercept on the $y$ axis also called  $\\beta_0$\n",
        "- slope: how much does $y$ change, if $X$ changes. The slope of the first predictor ($X_1$) is noted with $\\beta_1$\n",
        "\n",
        "✍️ **Task**\n",
        "\n",
        "What are the units of measurements of $\\beta_0$ and $\\beta_1$?\n"
      ]
    },
    {
      "cell_type": "code",
      "execution_count": 8,
      "metadata": {
        "colab": {
          "base_uri": "https://localhost:8080/"
        },
        "id": "5J6EDxBucRVT",
        "outputId": "817377cf-8bbe-478d-aee9-539b23478745"
      },
      "outputs": [
        {
          "data": {
            "text/html": [
              "<style>#sk-container-id-1 {color: black;}#sk-container-id-1 pre{padding: 0;}#sk-container-id-1 div.sk-toggleable {background-color: white;}#sk-container-id-1 label.sk-toggleable__label {cursor: pointer;display: block;width: 100%;margin-bottom: 0;padding: 0.3em;box-sizing: border-box;text-align: center;}#sk-container-id-1 label.sk-toggleable__label-arrow:before {content: \"▸\";float: left;margin-right: 0.25em;color: #696969;}#sk-container-id-1 label.sk-toggleable__label-arrow:hover:before {color: black;}#sk-container-id-1 div.sk-estimator:hover label.sk-toggleable__label-arrow:before {color: black;}#sk-container-id-1 div.sk-toggleable__content {max-height: 0;max-width: 0;overflow: hidden;text-align: left;background-color: #f0f8ff;}#sk-container-id-1 div.sk-toggleable__content pre {margin: 0.2em;color: black;border-radius: 0.25em;background-color: #f0f8ff;}#sk-container-id-1 input.sk-toggleable__control:checked~div.sk-toggleable__content {max-height: 200px;max-width: 100%;overflow: auto;}#sk-container-id-1 input.sk-toggleable__control:checked~label.sk-toggleable__label-arrow:before {content: \"▾\";}#sk-container-id-1 div.sk-estimator input.sk-toggleable__control:checked~label.sk-toggleable__label {background-color: #d4ebff;}#sk-container-id-1 div.sk-label input.sk-toggleable__control:checked~label.sk-toggleable__label {background-color: #d4ebff;}#sk-container-id-1 input.sk-hidden--visually {border: 0;clip: rect(1px 1px 1px 1px);clip: rect(1px, 1px, 1px, 1px);height: 1px;margin: -1px;overflow: hidden;padding: 0;position: absolute;width: 1px;}#sk-container-id-1 div.sk-estimator {font-family: monospace;background-color: #f0f8ff;border: 1px dotted black;border-radius: 0.25em;box-sizing: border-box;margin-bottom: 0.5em;}#sk-container-id-1 div.sk-estimator:hover {background-color: #d4ebff;}#sk-container-id-1 div.sk-parallel-item::after {content: \"\";width: 100%;border-bottom: 1px solid gray;flex-grow: 1;}#sk-container-id-1 div.sk-label:hover label.sk-toggleable__label {background-color: #d4ebff;}#sk-container-id-1 div.sk-serial::before {content: \"\";position: absolute;border-left: 1px solid gray;box-sizing: border-box;top: 0;bottom: 0;left: 50%;z-index: 0;}#sk-container-id-1 div.sk-serial {display: flex;flex-direction: column;align-items: center;background-color: white;padding-right: 0.2em;padding-left: 0.2em;position: relative;}#sk-container-id-1 div.sk-item {position: relative;z-index: 1;}#sk-container-id-1 div.sk-parallel {display: flex;align-items: stretch;justify-content: center;background-color: white;position: relative;}#sk-container-id-1 div.sk-item::before, #sk-container-id-1 div.sk-parallel-item::before {content: \"\";position: absolute;border-left: 1px solid gray;box-sizing: border-box;top: 0;bottom: 0;left: 50%;z-index: -1;}#sk-container-id-1 div.sk-parallel-item {display: flex;flex-direction: column;z-index: 1;position: relative;background-color: white;}#sk-container-id-1 div.sk-parallel-item:first-child::after {align-self: flex-end;width: 50%;}#sk-container-id-1 div.sk-parallel-item:last-child::after {align-self: flex-start;width: 50%;}#sk-container-id-1 div.sk-parallel-item:only-child::after {width: 0;}#sk-container-id-1 div.sk-dashed-wrapped {border: 1px dashed gray;margin: 0 0.4em 0.5em 0.4em;box-sizing: border-box;padding-bottom: 0.4em;background-color: white;}#sk-container-id-1 div.sk-label label {font-family: monospace;font-weight: bold;display: inline-block;line-height: 1.2em;}#sk-container-id-1 div.sk-label-container {text-align: center;}#sk-container-id-1 div.sk-container {/* jupyter's `normalize.less` sets `[hidden] { display: none; }` but bootstrap.min.css set `[hidden] { display: none !important; }` so we also need the `!important` here to be able to override the default hidden behavior on the sphinx rendered scikit-learn.org. See: https://github.com/scikit-learn/scikit-learn/issues/21755 */display: inline-block !important;position: relative;}#sk-container-id-1 div.sk-text-repr-fallback {display: none;}</style><div id=\"sk-container-id-1\" class=\"sk-top-container\"><div class=\"sk-text-repr-fallback\"><pre>LinearRegression()</pre><b>In a Jupyter environment, please rerun this cell to show the HTML representation or trust the notebook. <br />On GitHub, the HTML representation is unable to render, please try loading this page with nbviewer.org.</b></div><div class=\"sk-container\" hidden><div class=\"sk-item\"><div class=\"sk-estimator sk-toggleable\"><input class=\"sk-toggleable__control sk-hidden--visually\" id=\"sk-estimator-id-1\" type=\"checkbox\" checked><label for=\"sk-estimator-id-1\" class=\"sk-toggleable__label sk-toggleable__label-arrow\">LinearRegression</label><div class=\"sk-toggleable__content\"><pre>LinearRegression()</pre></div></div></div></div></div>"
            ],
            "text/plain": [
              "LinearRegression()"
            ]
          },
          "execution_count": 8,
          "metadata": {},
          "output_type": "execute_result"
        }
      ],
      "source": [
        "# Importing scikit-learn package\n",
        "from sklearn.linear_model import LinearRegression\n",
        "\n",
        "# Selecting only the training data\n",
        "training_data = data[data[\"Set\"]==\"Training\"]\n",
        "test_data = data[data[\"Set\"]==\"Test\"]\n",
        "\n",
        "\n",
        "# Defining the predicted variable y and predictor X\n",
        "X = training_data[[\"femur_length_in_cm\"]]\n",
        "y = training_data[[\"height_in_cm\"]]\n",
        "\n",
        "# Define, that we want to take a linear regression as a model f\n",
        "f = LinearRegression()\n",
        "\n",
        "# Fitting Simple Linear Regression to the test set\n",
        "f.fit(X, y)\n"
      ]
    },
    {
      "cell_type": "code",
      "execution_count": 9,
      "metadata": {
        "id": "fRaaRCL96pSc"
      },
      "outputs": [],
      "source": [
        "#@title ❓ Click `Show code` in the code cell to show the solution. { display-mode: \"form\" }\n",
        "\n",
        "# \\beta_0: cm\n",
        "# \\beta_q: 1"
      ]
    },
    {
      "cell_type": "markdown",
      "metadata": {
        "id": "0EYNz58ocm5G"
      },
      "source": [
        "### Interpreting the Parameters\n",
        "\n",
        "As we choose a parametric model, we can check for the parameters of the fitted model $\\hat{f}$. \n",
        "\n",
        "When, we simulated the data, we used the following formula:\n",
        "\n",
        "```Python\n",
        "height_in_cm = 91.272 + 1.8172 * femur_length_in_cm + np.random.rand(number_of_observations, 1) * 10\n",
        "``` \n",
        "\n",
        "This means, we generated a line with intercept of $91.282$ and slope of $1.8187$ and added some random noise to it.\n",
        "\n",
        "The model, we created with the training data, has similar parameters, but does not estimate them perfectly:"
      ]
    },
    {
      "cell_type": "code",
      "execution_count": 10,
      "metadata": {
        "colab": {
          "base_uri": "https://localhost:8080/"
        },
        "id": "6D9C79Accmf8",
        "outputId": "0f2195b1-cea1-42d6-95e0-cfcd1a2f64b1"
      },
      "outputs": [
        {
          "name": "stdout",
          "output_type": "stream",
          "text": [
            "intercept (beta_0): [102.71150765]\n",
            "slope (beta_1): [[1.65565285]]\n"
          ]
        }
      ],
      "source": [
        "# The following section will get results by interpreting the created instance: \n",
        "\n",
        "# Print the Intercept:\n",
        "print('intercept (beta_0):', f.intercept_)\n",
        "\n",
        "# Print the Slope:\n",
        "print('slope (beta_1):', f.coef_) \n"
      ]
    },
    {
      "cell_type": "markdown",
      "metadata": {
        "id": "x-D8QIMze0TX"
      },
      "source": [
        "To visualize the model, we can create a list of all possible femur lengths and use the model to make a prediction of the body height for each of them:\n",
        "\n"
      ]
    },
    {
      "cell_type": "code",
      "execution_count": 12,
      "metadata": {
        "colab": {
          "base_uri": "https://localhost:8080/"
        },
        "id": "HvJUflk5fHNU",
        "outputId": "0c8c56ea-591c-421f-9287-8b0d32373701"
      },
      "outputs": [
        {
          "data": {
            "text/plain": [
              "array([[38.        ],\n",
              "       [38.11111111],\n",
              "       [38.22222222],\n",
              "       [38.33333333],\n",
              "       [38.44444444],\n",
              "       [38.55555556],\n",
              "       [38.66666667],\n",
              "       [38.77777778],\n",
              "       [38.88888889],\n",
              "       [39.        ],\n",
              "       [39.11111111],\n",
              "       [39.22222222],\n",
              "       [39.33333333],\n",
              "       [39.44444444],\n",
              "       [39.55555556],\n",
              "       [39.66666667],\n",
              "       [39.77777778],\n",
              "       [39.88888889],\n",
              "       [40.        ],\n",
              "       [40.11111111],\n",
              "       [40.22222222],\n",
              "       [40.33333333],\n",
              "       [40.44444444],\n",
              "       [40.55555556],\n",
              "       [40.66666667],\n",
              "       [40.77777778],\n",
              "       [40.88888889],\n",
              "       [41.        ],\n",
              "       [41.11111111],\n",
              "       [41.22222222],\n",
              "       [41.33333333],\n",
              "       [41.44444444],\n",
              "       [41.55555556],\n",
              "       [41.66666667],\n",
              "       [41.77777778],\n",
              "       [41.88888889],\n",
              "       [42.        ],\n",
              "       [42.11111111],\n",
              "       [42.22222222],\n",
              "       [42.33333333],\n",
              "       [42.44444444],\n",
              "       [42.55555556],\n",
              "       [42.66666667],\n",
              "       [42.77777778],\n",
              "       [42.88888889],\n",
              "       [43.        ],\n",
              "       [43.11111111],\n",
              "       [43.22222222],\n",
              "       [43.33333333],\n",
              "       [43.44444444],\n",
              "       [43.55555556],\n",
              "       [43.66666667],\n",
              "       [43.77777778],\n",
              "       [43.88888889],\n",
              "       [44.        ],\n",
              "       [44.11111111],\n",
              "       [44.22222222],\n",
              "       [44.33333333],\n",
              "       [44.44444444],\n",
              "       [44.55555556],\n",
              "       [44.66666667],\n",
              "       [44.77777778],\n",
              "       [44.88888889],\n",
              "       [45.        ],\n",
              "       [45.11111111],\n",
              "       [45.22222222],\n",
              "       [45.33333333],\n",
              "       [45.44444444],\n",
              "       [45.55555556],\n",
              "       [45.66666667],\n",
              "       [45.77777778],\n",
              "       [45.88888889],\n",
              "       [46.        ],\n",
              "       [46.11111111],\n",
              "       [46.22222222],\n",
              "       [46.33333333],\n",
              "       [46.44444444],\n",
              "       [46.55555556],\n",
              "       [46.66666667],\n",
              "       [46.77777778],\n",
              "       [46.88888889],\n",
              "       [47.        ],\n",
              "       [47.11111111],\n",
              "       [47.22222222],\n",
              "       [47.33333333],\n",
              "       [47.44444444],\n",
              "       [47.55555556],\n",
              "       [47.66666667],\n",
              "       [47.77777778],\n",
              "       [47.88888889],\n",
              "       [48.        ],\n",
              "       [48.11111111],\n",
              "       [48.22222222],\n",
              "       [48.33333333],\n",
              "       [48.44444444],\n",
              "       [48.55555556],\n",
              "       [48.66666667],\n",
              "       [48.77777778],\n",
              "       [48.88888889],\n",
              "       [49.        ]])"
            ]
          },
          "execution_count": 12,
          "metadata": {},
          "output_type": "execute_result"
        }
      ],
      "source": [
        "# As our plot goes from 38-49 cm, we also want to make predictions for these relevant x-values\n",
        "# relevant_x_values = np.asarray([*range(38, 49, 1)]).reshape(-1, 1)\n",
        "relevant_x_values = np.linspace(38, 49, num=100).reshape(-1, 1)\n",
        "relevant_x_values\n"
      ]
    },
    {
      "cell_type": "markdown",
      "metadata": {
        "id": "NtHuvKyRh533"
      },
      "source": [
        "We can now put this new data for $X$ into the models ```predict()``` function, to make predictions for $y$\n",
        "\n",
        "$\\vec{y} = \\hat{f}(X) = 102.71 \\text{ cm} + 1.66 \\frac{\\text{ cm}}{\\text{ cm}} \\times X $"
      ]
    },
    {
      "cell_type": "code",
      "execution_count": 13,
      "metadata": {
        "colab": {
          "base_uri": "https://localhost:8080/"
        },
        "id": "zDJA_OBXh6MQ",
        "outputId": "ff16c3ec-7e96-4adc-d70a-3e0e6c628637"
      },
      "outputs": [
        {
          "name": "stderr",
          "output_type": "stream",
          "text": [
            "C:\\Users\\JLHUBER\\AppData\\Local\\Packages\\PythonSoftwareFoundation.Python.3.10_qbz5n2kfra8p0\\LocalCache\\local-packages\\Python310\\site-packages\\sklearn\\base.py:464: UserWarning: X does not have valid feature names, but LinearRegression was fitted with feature names\n",
            "  warnings.warn(\n"
          ]
        },
        {
          "data": {
            "text/plain": [
              "array([[165.62631588],\n",
              "       [165.81027731],\n",
              "       [165.99423874],\n",
              "       [166.17820017],\n",
              "       [166.3621616 ],\n",
              "       [166.54612302],\n",
              "       [166.73008445],\n",
              "       [166.91404588],\n",
              "       [167.09800731],\n",
              "       [167.28196873],\n",
              "       [167.46593016],\n",
              "       [167.64989159],\n",
              "       [167.83385302],\n",
              "       [168.01781444],\n",
              "       [168.20177587],\n",
              "       [168.3857373 ],\n",
              "       [168.56969873],\n",
              "       [168.75366015],\n",
              "       [168.93762158],\n",
              "       [169.12158301],\n",
              "       [169.30554444],\n",
              "       [169.48950586],\n",
              "       [169.67346729],\n",
              "       [169.85742872],\n",
              "       [170.04139015],\n",
              "       [170.22535157],\n",
              "       [170.409313  ],\n",
              "       [170.59327443],\n",
              "       [170.77723586],\n",
              "       [170.96119728],\n",
              "       [171.14515871],\n",
              "       [171.32912014],\n",
              "       [171.51308157],\n",
              "       [171.697043  ],\n",
              "       [171.88100442],\n",
              "       [172.06496585],\n",
              "       [172.24892728],\n",
              "       [172.43288871],\n",
              "       [172.61685013],\n",
              "       [172.80081156],\n",
              "       [172.98477299],\n",
              "       [173.16873442],\n",
              "       [173.35269584],\n",
              "       [173.53665727],\n",
              "       [173.7206187 ],\n",
              "       [173.90458013],\n",
              "       [174.08854155],\n",
              "       [174.27250298],\n",
              "       [174.45646441],\n",
              "       [174.64042584],\n",
              "       [174.82438726],\n",
              "       [175.00834869],\n",
              "       [175.19231012],\n",
              "       [175.37627155],\n",
              "       [175.56023297],\n",
              "       [175.7441944 ],\n",
              "       [175.92815583],\n",
              "       [176.11211726],\n",
              "       [176.29607869],\n",
              "       [176.48004011],\n",
              "       [176.66400154],\n",
              "       [176.84796297],\n",
              "       [177.0319244 ],\n",
              "       [177.21588582],\n",
              "       [177.39984725],\n",
              "       [177.58380868],\n",
              "       [177.76777011],\n",
              "       [177.95173153],\n",
              "       [178.13569296],\n",
              "       [178.31965439],\n",
              "       [178.50361582],\n",
              "       [178.68757724],\n",
              "       [178.87153867],\n",
              "       [179.0555001 ],\n",
              "       [179.23946153],\n",
              "       [179.42342295],\n",
              "       [179.60738438],\n",
              "       [179.79134581],\n",
              "       [179.97530724],\n",
              "       [180.15926866],\n",
              "       [180.34323009],\n",
              "       [180.52719152],\n",
              "       [180.71115295],\n",
              "       [180.89511438],\n",
              "       [181.0790758 ],\n",
              "       [181.26303723],\n",
              "       [181.44699866],\n",
              "       [181.63096009],\n",
              "       [181.81492151],\n",
              "       [181.99888294],\n",
              "       [182.18284437],\n",
              "       [182.3668058 ],\n",
              "       [182.55076722],\n",
              "       [182.73472865],\n",
              "       [182.91869008],\n",
              "       [183.10265151],\n",
              "       [183.28661293],\n",
              "       [183.47057436],\n",
              "       [183.65453579],\n",
              "       [183.83849722]])"
            ]
          },
          "execution_count": 13,
          "metadata": {},
          "output_type": "execute_result"
        }
      ],
      "source": [
        "# Predicting the set results\n",
        "y_pred = f.predict(relevant_x_values)\n",
        "y_pred"
      ]
    },
    {
      "cell_type": "markdown",
      "metadata": {
        "id": "LLrC0omBiZl9"
      },
      "source": [
        "Visualizing the model $f$ as a blue line and the training observations as red dots, we see that the regression line is a good fit to the data:"
      ]
    },
    {
      "cell_type": "code",
      "execution_count": 14,
      "metadata": {
        "colab": {
          "base_uri": "https://localhost:8080/",
          "height": 280
        },
        "id": "GRqyqAyBpCO8",
        "outputId": "dc56c5ab-9db1-4729-93e3-41f01fb38f3a"
      },
      "outputs": [
        {
          "data": {
            "image/png": "[encoded data removed]",
            "text/plain": [
              "<Figure size 432x288 with 1 Axes>"
            ]
          },
          "metadata": {
            "needs_background": "light"
          },
          "output_type": "display_data"
        }
      ],
      "source": [
        "# Visualizing the set results\n",
        "plt.scatter(X, y, color = 'red')\n",
        "plt.plot(relevant_x_values, y_pred, color = 'blue')\n",
        "plt.xlabel('femur_length_in_cm ')\n",
        "plt.ylabel('height_in_cm')\n",
        "plt.show()"
      ]
    },
    {
      "cell_type": "markdown",
      "metadata": {
        "id": "fu7Am3MGcVR8"
      },
      "source": [
        "## 2.4 Preventing Non-Parametric Models from Over-Fitting\n",
        "\n",
        "In contrast, we can also train a more flexible model, to fit the data even better. Non-Parametric models are more flexible, but are harder to interpret, as they have no clear mathematical form (e.g., a regression line with parameters intercept and slope).\n",
        "\n",
        "For instance, we can use a decision tree as a model. A decision tree is a simple, non-parametric model, that can be used for regression tasks.\n",
        "\n",
        "To apply a decision tree to the data, we only have to change the model (```DecisionTreeRegressor()```) from thee `sklearn` package."
      ]
    },
    {
      "cell_type": "code",
      "execution_count": 15,
      "metadata": {
        "colab": {
          "base_uri": "https://localhost:8080/",
          "height": 317
        },
        "id": "B7040BOagkfH",
        "outputId": "24f552b1-8eba-49e4-847b-c1ff764e8b94"
      },
      "outputs": [
        {
          "name": "stderr",
          "output_type": "stream",
          "text": [
            "C:\\Users\\JLHUBER\\AppData\\Local\\Packages\\PythonSoftwareFoundation.Python.3.10_qbz5n2kfra8p0\\LocalCache\\local-packages\\Python310\\site-packages\\sklearn\\base.py:464: UserWarning: X does not have valid feature names, but DecisionTreeRegressor was fitted with feature names\n",
            "  warnings.warn(\n"
          ]
        },
        {
          "data": {
            "image/png": "[encoded data removed]",
            "text/plain": [
              "<Figure size 432x288 with 1 Axes>"
            ]
          },
          "metadata": {
            "needs_background": "light"
          },
          "output_type": "display_data"
        }
      ],
      "source": [
        "from sklearn import tree\n",
        "\n",
        "\n",
        "tree_model = tree.DecisionTreeRegressor()\n",
        "tree_model = tree_model.fit(X,y)\n",
        "\n",
        "y_pred = tree_model.predict(relevant_x_values)\n",
        "\n",
        "plt.scatter(X, y, color = 'red')\n",
        "plt.plot(relevant_x_values, y_pred, color = 'green')\n",
        "plt.xlabel('femur_length_in_cm ')\n",
        "plt.ylabel('height_in_cm')\n",
        "plt.show()\n"
      ]
    },
    {
      "cell_type": "markdown",
      "metadata": {
        "id": "VW7g05W4lTGi"
      },
      "source": [
        "We see, that the decision tree model (green) takes an effort, to fit the data. However, it is hard to say, whether the model over.fits the data or the relation between femur length and height really follows this complex line."
      ]
    },
    {
      "cell_type": "markdown",
      "metadata": {
        "id": "LH4zkMRocoTm"
      },
      "source": [
        "# 🏁 Recap\n",
        "\n",
        "- If you have finished the tasks and have no questions, place the green card on top.\n",
        "- If you have finished the tasks but would like to discuss the solutions together again, place the yellow card on top.\n",
        "\n",
        "![](https://www.lokalinfo.ch/fileadmin/news_import/image003_03.jpg)"
      ]
    },
    {
      "cell_type": "markdown",
      "metadata": {
        "id": "AeQri_hmcZCl"
      },
      "source": [
        "## 2.5 Calculate the Mean Squared Error\n",
        "\n",
        "To see, which model is better on unseen data and whether the decision tree really over-fits the data, we can evaluate the models' performance based on an numeric accuracy measure like the MSE: \n",
        "\n",
        "$$\\text{MSE} = \\frac{1}{n}  \\sum_{i=1}^n(y_i-\\hat{f}(x_i))^2$$\n",
        "\n",
        "The next two cells store the predictions of the two models in the original data frame creating the new columns (```Prediction_Linear``` and ```Prediction_Tree```)\n",
        "\n",
        "🏆  **Task**\n",
        "\n",
        "Calculate the $MSE$ in the test set and the training set for both models."
      ]
    },
    {
      "cell_type": "code",
      "execution_count": 22,
      "metadata": {
        "colab": {
          "base_uri": "https://localhost:8080/",
          "height": 206
        },
        "id": "CM2t-wAx-pPr",
        "outputId": "3a4450eb-1809-4089-c2ec-31a3ff6ee027"
      },
      "outputs": [
        {
          "data": {
            "text/html": [
              "<div>\n",
              "<style scoped>\n",
              "    .dataframe tbody tr th:only-of-type {\n",
              "        vertical-align: middle;\n",
              "    }\n",
              "\n",
              "    .dataframe tbody tr th {\n",
              "        vertical-align: top;\n",
              "    }\n",
              "\n",
              "    .dataframe thead th {\n",
              "        text-align: right;\n",
              "    }\n",
              "</style>\n",
              "<table border=\"1\" class=\"dataframe\">\n",
              "  <thead>\n",
              "    <tr style=\"text-align: right;\">\n",
              "      <th></th>\n",
              "      <th>femur_length_in_cm</th>\n",
              "      <th>height_in_cm</th>\n",
              "      <th>Set</th>\n",
              "    </tr>\n",
              "  </thead>\n",
              "  <tbody>\n",
              "    <tr>\n",
              "      <th>0</th>\n",
              "      <td>43.488135</td>\n",
              "      <td>172.944195</td>\n",
              "      <td>Test</td>\n",
              "    </tr>\n",
              "    <tr>\n",
              "      <th>1</th>\n",
              "      <td>45.151894</td>\n",
              "      <td>181.064358</td>\n",
              "      <td>Test</td>\n",
              "    </tr>\n",
              "    <tr>\n",
              "      <th>2</th>\n",
              "      <td>44.027634</td>\n",
              "      <td>175.840519</td>\n",
              "      <td>Test</td>\n",
              "    </tr>\n",
              "    <tr>\n",
              "      <th>3</th>\n",
              "      <td>43.448832</td>\n",
              "      <td>175.911557</td>\n",
              "      <td>Test</td>\n",
              "    </tr>\n",
              "    <tr>\n",
              "      <th>4</th>\n",
              "      <td>42.236548</td>\n",
              "      <td>168.212153</td>\n",
              "      <td>Test</td>\n",
              "    </tr>\n",
              "  </tbody>\n",
              "</table>\n",
              "</div>"
            ],
            "text/plain": [
              "   femur_length_in_cm  height_in_cm   Set\n",
              "0           43.488135    172.944195  Test\n",
              "1           45.151894    181.064358  Test\n",
              "2           44.027634    175.840519  Test\n",
              "3           43.448832    175.911557  Test\n",
              "4           42.236548    168.212153  Test"
            ]
          },
          "execution_count": 22,
          "metadata": {},
          "output_type": "execute_result"
        }
      ],
      "source": [
        "data.head()"
      ]
    },
    {
      "cell_type": "code",
      "execution_count": 16,
      "metadata": {
        "colab": {
          "base_uri": "https://localhost:8080/",
          "height": 1000
        },
        "id": "KqflQAEOlx0f",
        "outputId": "24a8a0a8-7d52-4482-8343-91646644ca62"
      },
      "outputs": [
        {
          "name": "stderr",
          "output_type": "stream",
          "text": [
            "C:\\Users\\JLHUBER\\AppData\\Local\\Packages\\PythonSoftwareFoundation.Python.3.10_qbz5n2kfra8p0\\LocalCache\\local-packages\\Python310\\site-packages\\sklearn\\base.py:464: UserWarning: X does not have valid feature names, but LinearRegression was fitted with feature names\n",
            "  warnings.warn(\n",
            "C:\\Users\\JLHUBER\\AppData\\Local\\Packages\\PythonSoftwareFoundation.Python.3.10_qbz5n2kfra8p0\\LocalCache\\local-packages\\Python310\\site-packages\\sklearn\\base.py:464: UserWarning: X does not have valid feature names, but DecisionTreeRegressor was fitted with feature names\n",
            "  warnings.warn(\n"
          ]
        },
        {
          "data": {
            "text/html": [
              "<div>\n",
              "<style scoped>\n",
              "    .dataframe tbody tr th:only-of-type {\n",
              "        vertical-align: middle;\n",
              "    }\n",
              "\n",
              "    .dataframe tbody tr th {\n",
              "        vertical-align: top;\n",
              "    }\n",
              "\n",
              "    .dataframe thead th {\n",
              "        text-align: right;\n",
              "    }\n",
              "</style>\n",
              "<table border=\"1\" class=\"dataframe\">\n",
              "  <thead>\n",
              "    <tr style=\"text-align: right;\">\n",
              "      <th></th>\n",
              "      <th>femur_length_in_cm</th>\n",
              "      <th>height_in_cm</th>\n",
              "      <th>Set</th>\n",
              "      <th>Prediction_Linear</th>\n",
              "      <th>Prediction_Tree</th>\n",
              "    </tr>\n",
              "  </thead>\n",
              "  <tbody>\n",
              "    <tr>\n",
              "      <th>0</th>\n",
              "      <td>43.488135</td>\n",
              "      <td>172.944195</td>\n",
              "      <td>Test</td>\n",
              "      <td>174.712762</td>\n",
              "      <td>177.624418</td>\n",
              "    </tr>\n",
              "    <tr>\n",
              "      <th>1</th>\n",
              "      <td>45.151894</td>\n",
              "      <td>181.064358</td>\n",
              "      <td>Test</td>\n",
              "      <td>177.467369</td>\n",
              "      <td>177.620548</td>\n",
              "    </tr>\n",
              "    <tr>\n",
              "      <th>2</th>\n",
              "      <td>44.027634</td>\n",
              "      <td>175.840519</td>\n",
              "      <td>Test</td>\n",
              "      <td>175.605985</td>\n",
              "      <td>177.624418</td>\n",
              "    </tr>\n",
              "    <tr>\n",
              "      <th>3</th>\n",
              "      <td>43.448832</td>\n",
              "      <td>175.911557</td>\n",
              "      <td>Test</td>\n",
              "      <td>174.647690</td>\n",
              "      <td>174.306998</td>\n",
              "    </tr>\n",
              "    <tr>\n",
              "      <th>4</th>\n",
              "      <td>42.236548</td>\n",
              "      <td>168.212153</td>\n",
              "      <td>Test</td>\n",
              "      <td>172.640569</td>\n",
              "      <td>170.305093</td>\n",
              "    </tr>\n",
              "    <tr>\n",
              "      <th>5</th>\n",
              "      <td>44.458941</td>\n",
              "      <td>178.239143</td>\n",
              "      <td>Test</td>\n",
              "      <td>176.320080</td>\n",
              "      <td>173.567340</td>\n",
              "    </tr>\n",
              "    <tr>\n",
              "      <th>6</th>\n",
              "      <td>42.375872</td>\n",
              "      <td>174.398392</td>\n",
              "      <td>Test</td>\n",
              "      <td>172.871241</td>\n",
              "      <td>170.305093</td>\n",
              "    </tr>\n",
              "    <tr>\n",
              "      <th>7</th>\n",
              "      <td>46.917730</td>\n",
              "      <td>182.700239</td>\n",
              "      <td>Test</td>\n",
              "      <td>180.390981</td>\n",
              "      <td>179.772568</td>\n",
              "    </tr>\n",
              "    <tr>\n",
              "      <th>8</th>\n",
              "      <td>47.636628</td>\n",
              "      <td>187.274760</td>\n",
              "      <td>Training</td>\n",
              "      <td>181.581226</td>\n",
              "      <td>187.274760</td>\n",
              "    </tr>\n",
              "    <tr>\n",
              "      <th>9</th>\n",
              "      <td>41.834415</td>\n",
              "      <td>174.111702</td>\n",
              "      <td>Training</td>\n",
              "      <td>171.974776</td>\n",
              "      <td>174.111702</td>\n",
              "    </tr>\n",
              "    <tr>\n",
              "      <th>10</th>\n",
              "      <td>45.917250</td>\n",
              "      <td>178.307906</td>\n",
              "      <td>Training</td>\n",
              "      <td>178.734534</td>\n",
              "      <td>178.307906</td>\n",
              "    </tr>\n",
              "    <tr>\n",
              "      <th>11</th>\n",
              "      <td>43.288949</td>\n",
              "      <td>174.306998</td>\n",
              "      <td>Training</td>\n",
              "      <td>174.382980</td>\n",
              "      <td>174.306998</td>\n",
              "    </tr>\n",
              "    <tr>\n",
              "      <th>12</th>\n",
              "      <td>43.680446</td>\n",
              "      <td>177.624418</td>\n",
              "      <td>Training</td>\n",
              "      <td>175.031162</td>\n",
              "      <td>177.624418</td>\n",
              "    </tr>\n",
              "    <tr>\n",
              "      <th>13</th>\n",
              "      <td>47.255966</td>\n",
              "      <td>177.747797</td>\n",
              "      <td>Training</td>\n",
              "      <td>180.950983</td>\n",
              "      <td>177.747797</td>\n",
              "    </tr>\n",
              "    <tr>\n",
              "      <th>14</th>\n",
              "      <td>38.710361</td>\n",
              "      <td>168.284134</td>\n",
              "      <td>Training</td>\n",
              "      <td>166.802426</td>\n",
              "      <td>168.284134</td>\n",
              "    </tr>\n",
              "    <tr>\n",
              "      <th>15</th>\n",
              "      <td>38.871293</td>\n",
              "      <td>168.615292</td>\n",
              "      <td>Training</td>\n",
              "      <td>167.068875</td>\n",
              "      <td>168.615292</td>\n",
              "    </tr>\n",
              "    <tr>\n",
              "      <th>16</th>\n",
              "      <td>38.202184</td>\n",
              "      <td>162.796834</td>\n",
              "      <td>Training</td>\n",
              "      <td>165.961062</td>\n",
              "      <td>162.796834</td>\n",
              "    </tr>\n",
              "    <tr>\n",
              "      <th>17</th>\n",
              "      <td>46.326198</td>\n",
              "      <td>176.745231</td>\n",
              "      <td>Training</td>\n",
              "      <td>179.411610</td>\n",
              "      <td>176.745231</td>\n",
              "    </tr>\n",
              "    <tr>\n",
              "      <th>18</th>\n",
              "      <td>45.781568</td>\n",
              "      <td>177.620548</td>\n",
              "      <td>Training</td>\n",
              "      <td>178.509890</td>\n",
              "      <td>177.620548</td>\n",
              "    </tr>\n",
              "    <tr>\n",
              "      <th>19</th>\n",
              "      <td>46.700121</td>\n",
              "      <td>179.772568</td>\n",
              "      <td>Training</td>\n",
              "      <td>180.030697</td>\n",
              "      <td>179.772568</td>\n",
              "    </tr>\n",
              "    <tr>\n",
              "      <th>20</th>\n",
              "      <td>47.786183</td>\n",
              "      <td>183.811020</td>\n",
              "      <td>Training</td>\n",
              "      <td>181.828838</td>\n",
              "      <td>183.811020</td>\n",
              "    </tr>\n",
              "    <tr>\n",
              "      <th>21</th>\n",
              "      <td>45.991586</td>\n",
              "      <td>179.233925</td>\n",
              "      <td>Training</td>\n",
              "      <td>178.857607</td>\n",
              "      <td>179.233925</td>\n",
              "    </tr>\n",
              "    <tr>\n",
              "      <th>22</th>\n",
              "      <td>42.614794</td>\n",
              "      <td>178.595341</td>\n",
              "      <td>Training</td>\n",
              "      <td>173.266812</td>\n",
              "      <td>178.595341</td>\n",
              "    </tr>\n",
              "    <tr>\n",
              "      <th>23</th>\n",
              "      <td>45.805292</td>\n",
              "      <td>175.529824</td>\n",
              "      <td>Training</td>\n",
              "      <td>178.549169</td>\n",
              "      <td>175.529824</td>\n",
              "    </tr>\n",
              "    <tr>\n",
              "      <th>24</th>\n",
              "      <td>39.182744</td>\n",
              "      <td>164.563650</td>\n",
              "      <td>Training</td>\n",
              "      <td>167.584530</td>\n",
              "      <td>164.563650</td>\n",
              "    </tr>\n",
              "    <tr>\n",
              "      <th>25</th>\n",
              "      <td>44.399210</td>\n",
              "      <td>173.567340</td>\n",
              "      <td>Training</td>\n",
              "      <td>176.221187</td>\n",
              "      <td>173.567340</td>\n",
              "    </tr>\n",
              "    <tr>\n",
              "      <th>26</th>\n",
              "      <td>39.433533</td>\n",
              "      <td>169.461699</td>\n",
              "      <td>Training</td>\n",
              "      <td>167.999749</td>\n",
              "      <td>169.461699</td>\n",
              "    </tr>\n",
              "    <tr>\n",
              "      <th>27</th>\n",
              "      <td>47.446689</td>\n",
              "      <td>180.025040</td>\n",
              "      <td>Training</td>\n",
              "      <td>181.266754</td>\n",
              "      <td>180.025040</td>\n",
              "    </tr>\n",
              "    <tr>\n",
              "      <th>28</th>\n",
              "      <td>43.218483</td>\n",
              "      <td>174.471735</td>\n",
              "      <td>Training</td>\n",
              "      <td>174.266312</td>\n",
              "      <td>174.471735</td>\n",
              "    </tr>\n",
              "    <tr>\n",
              "      <th>29</th>\n",
              "      <td>42.146619</td>\n",
              "      <td>170.305093</td>\n",
              "      <td>Training</td>\n",
              "      <td>172.491678</td>\n",
              "      <td>170.305093</td>\n",
              "    </tr>\n",
              "  </tbody>\n",
              "</table>\n",
              "</div>"
            ],
            "text/plain": [
              "    femur_length_in_cm  height_in_cm       Set  Prediction_Linear  \\\n",
              "0            43.488135    172.944195      Test         174.712762   \n",
              "1            45.151894    181.064358      Test         177.467369   \n",
              "2            44.027634    175.840519      Test         175.605985   \n",
              "3            43.448832    175.911557      Test         174.647690   \n",
              "4            42.236548    168.212153      Test         172.640569   \n",
              "5            44.458941    178.239143      Test         176.320080   \n",
              "6            42.375872    174.398392      Test         172.871241   \n",
              "7            46.917730    182.700239      Test         180.390981   \n",
              "8            47.636628    187.274760  Training         181.581226   \n",
              "9            41.834415    174.111702  Training         171.974776   \n",
              "10           45.917250    178.307906  Training         178.734534   \n",
              "11           43.288949    174.306998  Training         174.382980   \n",
              "12           43.680446    177.624418  Training         175.031162   \n",
              "13           47.255966    177.747797  Training         180.950983   \n",
              "14           38.710361    168.284134  Training         166.802426   \n",
              "15           38.871293    168.615292  Training         167.068875   \n",
              "16           38.202184    162.796834  Training         165.961062   \n",
              "17           46.326198    176.745231  Training         179.411610   \n",
              "18           45.781568    177.620548  Training         178.509890   \n",
              "19           46.700121    179.772568  Training         180.030697   \n",
              "20           47.786183    183.811020  Training         181.828838   \n",
              "21           45.991586    179.233925  Training         178.857607   \n",
              "22           42.614794    178.595341  Training         173.266812   \n",
              "23           45.805292    175.529824  Training         178.549169   \n",
              "24           39.182744    164.563650  Training         167.584530   \n",
              "25           44.399210    173.567340  Training         176.221187   \n",
              "26           39.433533    169.461699  Training         167.999749   \n",
              "27           47.446689    180.025040  Training         181.266754   \n",
              "28           43.218483    174.471735  Training         174.266312   \n",
              "29           42.146619    170.305093  Training         172.491678   \n",
              "\n",
              "    Prediction_Tree  \n",
              "0        177.624418  \n",
              "1        177.620548  \n",
              "2        177.624418  \n",
              "3        174.306998  \n",
              "4        170.305093  \n",
              "5        173.567340  \n",
              "6        170.305093  \n",
              "7        179.772568  \n",
              "8        187.274760  \n",
              "9        174.111702  \n",
              "10       178.307906  \n",
              "11       174.306998  \n",
              "12       177.624418  \n",
              "13       177.747797  \n",
              "14       168.284134  \n",
              "15       168.615292  \n",
              "16       162.796834  \n",
              "17       176.745231  \n",
              "18       177.620548  \n",
              "19       179.772568  \n",
              "20       183.811020  \n",
              "21       179.233925  \n",
              "22       178.595341  \n",
              "23       175.529824  \n",
              "24       164.563650  \n",
              "25       173.567340  \n",
              "26       169.461699  \n",
              "27       180.025040  \n",
              "28       174.471735  \n",
              "29       170.305093  "
            ]
          },
          "execution_count": 16,
          "metadata": {},
          "output_type": "execute_result"
        }
      ],
      "source": [
        "# We start by adding a new column to the data frame, which has all the predictions of both models\n",
        "data[\"Prediction_Linear\"] = f.predict(data[\"femur_length_in_cm\"].to_numpy().reshape(-1, 1))\n",
        "data[\"Prediction_Tree\"] = tree_model.predict(data[\"femur_length_in_cm\"].to_numpy().reshape(-1, 1))\n",
        "data"
      ]
    },
    {
      "cell_type": "markdown",
      "metadata": {},
      "source": [
        "*Hint*:\n",
        "\n",
        "You can start by adding new columns to calculate the Squared Error for both models. Hereafter,you can use a group-by and mean operation."
      ]
    },
    {
      "cell_type": "code",
      "execution_count": null,
      "metadata": {},
      "outputs": [],
      "source": []
    },
    {
      "cell_type": "code",
      "execution_count": 25,
      "metadata": {
        "colab": {
          "base_uri": "https://localhost:8080/",
          "height": 143
        },
        "id": "tBR5mepRoASd",
        "outputId": "6440f779-01ab-489f-eebb-a1e3801d8a27"
      },
      "outputs": [
        {
          "data": {
            "text/html": [
              "<div>\n",
              "<style scoped>\n",
              "    .dataframe tbody tr th:only-of-type {\n",
              "        vertical-align: middle;\n",
              "    }\n",
              "\n",
              "    .dataframe tbody tr th {\n",
              "        vertical-align: top;\n",
              "    }\n",
              "\n",
              "    .dataframe thead th {\n",
              "        text-align: right;\n",
              "    }\n",
              "</style>\n",
              "<table border=\"1\" class=\"dataframe\">\n",
              "  <thead>\n",
              "    <tr style=\"text-align: right;\">\n",
              "      <th></th>\n",
              "      <th>femur_length_in_cm</th>\n",
              "      <th>height_in_cm</th>\n",
              "      <th>Set</th>\n",
              "      <th>Prediction_Linear</th>\n",
              "      <th>Prediction_Tree</th>\n",
              "      <th>SquaredError_Tree</th>\n",
              "      <th>SquaredError_Linear</th>\n",
              "    </tr>\n",
              "  </thead>\n",
              "  <tbody>\n",
              "    <tr>\n",
              "      <th>0</th>\n",
              "      <td>43.488135</td>\n",
              "      <td>172.944195</td>\n",
              "      <td>Test</td>\n",
              "      <td>174.712762</td>\n",
              "      <td>177.624418</td>\n",
              "      <td>21.904484</td>\n",
              "      <td>3.127830</td>\n",
              "    </tr>\n",
              "    <tr>\n",
              "      <th>1</th>\n",
              "      <td>45.151894</td>\n",
              "      <td>181.064358</td>\n",
              "      <td>Test</td>\n",
              "      <td>177.467369</td>\n",
              "      <td>177.620548</td>\n",
              "      <td>11.859828</td>\n",
              "      <td>12.938330</td>\n",
              "    </tr>\n",
              "    <tr>\n",
              "      <th>2</th>\n",
              "      <td>44.027634</td>\n",
              "      <td>175.840519</td>\n",
              "      <td>Test</td>\n",
              "      <td>175.605985</td>\n",
              "      <td>177.624418</td>\n",
              "      <td>3.182293</td>\n",
              "      <td>0.055006</td>\n",
              "    </tr>\n",
              "    <tr>\n",
              "      <th>3</th>\n",
              "      <td>43.448832</td>\n",
              "      <td>175.911557</td>\n",
              "      <td>Test</td>\n",
              "      <td>174.647690</td>\n",
              "      <td>174.306998</td>\n",
              "      <td>2.574609</td>\n",
              "      <td>1.597359</td>\n",
              "    </tr>\n",
              "    <tr>\n",
              "      <th>4</th>\n",
              "      <td>42.236548</td>\n",
              "      <td>168.212153</td>\n",
              "      <td>Test</td>\n",
              "      <td>172.640569</td>\n",
              "      <td>170.305093</td>\n",
              "      <td>4.380396</td>\n",
              "      <td>19.610865</td>\n",
              "    </tr>\n",
              "  </tbody>\n",
              "</table>\n",
              "</div>"
            ],
            "text/plain": [
              "   femur_length_in_cm  height_in_cm   Set  Prediction_Linear  Prediction_Tree  \\\n",
              "0           43.488135    172.944195  Test         174.712762       177.624418   \n",
              "1           45.151894    181.064358  Test         177.467369       177.620548   \n",
              "2           44.027634    175.840519  Test         175.605985       177.624418   \n",
              "3           43.448832    175.911557  Test         174.647690       174.306998   \n",
              "4           42.236548    168.212153  Test         172.640569       170.305093   \n",
              "\n",
              "   SquaredError_Tree  SquaredError_Linear  \n",
              "0          21.904484             3.127830  \n",
              "1          11.859828            12.938330  \n",
              "2           3.182293             0.055006  \n",
              "3           2.574609             1.597359  \n",
              "4           4.380396            19.610865  "
            ]
          },
          "execution_count": 25,
          "metadata": {},
          "output_type": "execute_result"
        }
      ],
      "source": [
        "#@title ❓ Click `Show code` in the code cell to show the solution. { display-mode: \"form\" }\n",
        "data[\"SquaredError_Tree\"] = (data[\"height_in_cm\"]-data[\"Prediction_Tree\"])**2\n",
        "data[\"SquaredError_Linear\"] = (data[\"height_in_cm\"]-data[\"Prediction_Linear\"])**2\n",
        "data.head()"
      ]
    },
    {
      "cell_type": "code",
      "execution_count": 26,
      "metadata": {},
      "outputs": [
        {
          "data": {
            "text/html": [
              "<div>\n",
              "<style scoped>\n",
              "    .dataframe tbody tr th:only-of-type {\n",
              "        vertical-align: middle;\n",
              "    }\n",
              "\n",
              "    .dataframe tbody tr th {\n",
              "        vertical-align: top;\n",
              "    }\n",
              "\n",
              "    .dataframe thead th {\n",
              "        text-align: right;\n",
              "    }\n",
              "</style>\n",
              "<table border=\"1\" class=\"dataframe\">\n",
              "  <thead>\n",
              "    <tr style=\"text-align: right;\">\n",
              "      <th></th>\n",
              "      <th>femur_length_in_cm</th>\n",
              "      <th>height_in_cm</th>\n",
              "      <th>Prediction_Linear</th>\n",
              "      <th>Prediction_Tree</th>\n",
              "      <th>SquaredError_Tree</th>\n",
              "      <th>SquaredError_Linear</th>\n",
              "    </tr>\n",
              "    <tr>\n",
              "      <th>Set</th>\n",
              "      <th></th>\n",
              "      <th></th>\n",
              "      <th></th>\n",
              "      <th></th>\n",
              "      <th></th>\n",
              "      <th></th>\n",
              "    </tr>\n",
              "  </thead>\n",
              "  <tbody>\n",
              "    <tr>\n",
              "      <th>Test</th>\n",
              "      <td>44.013198</td>\n",
              "      <td>176.163820</td>\n",
              "      <td>175.582085</td>\n",
              "      <td>175.140809</td>\n",
              "      <td>11.381713</td>\n",
              "      <td>6.084632</td>\n",
              "    </tr>\n",
              "    <tr>\n",
              "      <th>Training</th>\n",
              "      <td>43.737751</td>\n",
              "      <td>175.126039</td>\n",
              "      <td>175.126039</td>\n",
              "      <td>175.126039</td>\n",
              "      <td>0.000000</td>\n",
              "      <td>6.498807</td>\n",
              "    </tr>\n",
              "  </tbody>\n",
              "</table>\n",
              "</div>"
            ],
            "text/plain": [
              "          femur_length_in_cm  height_in_cm  Prediction_Linear  \\\n",
              "Set                                                             \n",
              "Test               44.013198    176.163820         175.582085   \n",
              "Training           43.737751    175.126039         175.126039   \n",
              "\n",
              "          Prediction_Tree  SquaredError_Tree  SquaredError_Linear  \n",
              "Set                                                                \n",
              "Test           175.140809          11.381713             6.084632  \n",
              "Training       175.126039           0.000000             6.498807  "
            ]
          },
          "execution_count": 26,
          "metadata": {},
          "output_type": "execute_result"
        }
      ],
      "source": [
        "#@title ❓ Click `Show code` in the code cell to show the solution. { display-mode: \"form\" }\n",
        "data.groupby(\"Set\").mean()"
      ]
    },
    {
      "cell_type": "markdown",
      "metadata": {
        "id": "IgEk8y6EcejW"
      },
      "source": [
        "### Interpretation\n",
        "\n",
        "On the training set, we see that the Decision Tree model has a perfect fit ($MSE=0$) while the linear model fits the data far worse ($MSE=11.38$).\n",
        "\n",
        "However, the linear model obtains better results on the unseen test set compared to the decision tree. This is a clear indicator, that the decision three *over-fits* the training data.\n",
        "\n"
      ]
    },
    {
      "cell_type": "markdown",
      "metadata": {
        "id": "5RIXzuY2cect"
      },
      "source": [
        "🏆 **Task**\n",
        "\n",
        "- Which of the model has a higher variance, which a higher bias?\n",
        "- For both models: Create a scatter plot of the predictions and data of the test set.\n"
      ]
    },
    {
      "cell_type": "code",
      "execution_count": 27,
      "metadata": {
        "colab": {
          "base_uri": "https://localhost:8080/",
          "height": 280
        },
        "id": "oADcp7bdceF6",
        "outputId": "bd92991c-aec7-4095-960e-76881cd31e9f"
      },
      "outputs": [
        {
          "data": {
            "image/png": "[encoded data removed]",
            "text/plain": [
              "<Figure size 432x288 with 1 Axes>"
            ]
          },
          "metadata": {
            "needs_background": "light"
          },
          "output_type": "display_data"
        }
      ],
      "source": [
        "# Visualizing the set results\n",
        "\n",
        "# Defining the predicted variable y and predictor X\n",
        "X = test_data[[\"femur_length_in_cm\"]]\n",
        "y = test_data[[\"height_in_cm\"]]\n",
        "\n",
        "plt.scatter(X, y, color = 'red')\n",
        "\n",
        "\n",
        "plt.scatter(X, f.predict(X), color = 'blue')\n",
        "plt.xlabel('femur_length_in_cm ')\n",
        "plt.ylabel('height_in_cm')\n",
        "plt.show()"
      ]
    },
    {
      "cell_type": "markdown",
      "metadata": {},
      "source": [
        "✍️ **Task**\n",
        "\n",
        "Create the same plot for the decision tree model."
      ]
    },
    {
      "cell_type": "code",
      "execution_count": null,
      "metadata": {},
      "outputs": [],
      "source": []
    },
    {
      "cell_type": "code",
      "execution_count": 36,
      "metadata": {
        "colab": {
          "base_uri": "https://localhost:8080/",
          "height": 280
        },
        "id": "dgLi9TWq9ata",
        "outputId": "c2ffce62-3d21-4708-f3dc-0f3f1922533e"
      },
      "outputs": [
        {
          "data": {
            "image/png": "[encoded data removed]",
            "text/plain": [
              "<Figure size 432x288 with 1 Axes>"
            ]
          },
          "metadata": {
            "needs_background": "light"
          },
          "output_type": "display_data"
        }
      ],
      "source": [
        "#@title ❓ Click `Show code` in the code cell to show the solution. { display-mode: \"form\" }\n",
        "\n",
        "# Visualizing the set results\n",
        "\n",
        "# Defining the predicted variable y and predictor X\n",
        "X = test_data[[\"femur_length_in_cm\"]]\n",
        "y = test_data[[\"height_in_cm\"]]\n",
        "\n",
        "plt.scatter(X, y, color = 'red')\n",
        "\n",
        "\n",
        "plt.scatter(X, tree_model.predict(X), color = 'green')\n",
        "plt.xlabel('femur_length_in_cm ')\n",
        "plt.ylabel('height_in_cm')\n",
        "plt.show()"
      ]
    },
    {
      "cell_type": "code",
      "execution_count": 37,
      "metadata": {
        "id": "4RSZeq-YrU1O"
      },
      "outputs": [],
      "source": [
        "# The decision tree has a very high flexibility an can therefore fit the training data perfectly. In result, the model would look very different any time you change the composition on the training data. This indicates a high variance. "
      ]
    },
    {
      "cell_type": "markdown",
      "metadata": {
        "id": "L-qnFpZOc64G"
      },
      "source": [
        "# 🏁 Recap\n",
        "\n",
        "- If you have finished the tasks and have no questions, place the green card on top.\n",
        "- If you have finished the tasks but would like to discuss the solutions together again, place the yellow card on top.\n",
        "\n",
        "![](https://www.lokalinfo.ch/fileadmin/news_import/image003_03.jpg)"
      ]
    }
  ],
  "metadata": {
    "colab": {
      "collapsed_sections": [],
      "provenance": [],
      "toc_visible": true
    },
    "kernelspec": {
      "display_name": "Python 3.10.11 64-bit (microsoft store)",
      "language": "python",
      "name": "python3"
    },
    "language_info": {
      "codemirror_mode": {
        "name": "ipython",
        "version": 3
      },
      "file_extension": ".py",
      "mimetype": "text/x-python",
      "name": "python",
      "nbconvert_exporter": "python",
      "pygments_lexer": "ipython3",
      "version": "3.10.11"
    },
    "vscode": {
      "interpreter": {
        "hash": "62c9f9b6c66864edd5299c8c6bca8c476f7af6985c4212f8d17f753b35884d59"
      }
    }
  },
  "nbformat": 4,
  "nbformat_minor": 0
}

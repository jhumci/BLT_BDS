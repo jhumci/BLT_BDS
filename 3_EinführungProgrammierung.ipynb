{
  "cells": [
    {
      "cell_type": "markdown",
      "metadata": {
        "id": "6KHuXzZ3pTAl"
      },
      "source": [
        "<table style=\"width: 100%\">\n",
        "    <tr style=\"background: #ffffff\">\n",
        "        <td style=\"padding-top:25px;width: 180px\"><img src=\"https://mci.edu/templates/mci/images/logo.svg\" alt=\"Logo\"></td>\n",
        "        <td style=\"width: 100%\">\n",
        "            <div style=\"text-align:right; width: 100%; text-align:right\"><font style=\"font-size:38px\"><b>Grundlagen Programmierung</b></font></div>\n",
        "            <div style=\"padding-top:0px; width: 100%; text-align:right\"><font size=\"4\"></font></div>\n",
        "        </td>\n",
        "    </tr>\n",
        "</table>\n",
        "\n",
        "---\n",
        "\n",
        "# 1.2.3 What if?\n",
        "\n",
        "Programming often involves examining a set of conditions and deciding which\n",
        "action to take based on those conditions.\n",
        "Python’s if statement allows you to examine the current state of a program and respond appropriately to that state.\n",
        "In this chapter you’ll learn to write conditional tests, which allow you to check any condition of interest. You’ll learn to write simple if statements, and you’ll learn how to create a more complex series of if statements to identify when the exact conditions you want are present. You’ll then apply this concept to lists, so you’ll be able to write a for loop that handles most items in a list one way but handles certain items with specific values in a different way."
      ]
    },
    {
      "cell_type": "markdown",
      "metadata": {
        "id": "ph_fiFgIgJfj"
      },
      "source": [
        "## 1.2.3.1 Boolean Expressions"
      ]
    },
    {
      "cell_type": "markdown",
      "metadata": {
        "id": "9jcqWSbpqdSB"
      },
      "source": [
        "### A simple example\n",
        "\n",
        "The following short example shows how if tests let you respond to special\n",
        "situations correctly. \n",
        "The codon \"GAG\" encoded your favorite flavour enhancer [glutamic acid](https://en.wikipedia.org/wiki/Glutamate_flavoring). The example goes through the RNA-sequence and indicates each codon that codes for glutamic acid.\n"
      ]
    },
    {
      "cell_type": "code",
      "execution_count": 3,
      "metadata": {
        "colab": {
          "base_uri": "https://localhost:8080/"
        },
        "id": "IBdS5UqFpRZq",
        "outputId": "3ddc5b19-8c92-4692-aa49-24dc1c4dca0d"
      },
      "outputs": [
        {
          "name": "stdout",
          "output_type": "stream",
          "text": [
            "['A', 'U', 'C']\n",
            "['C', 'G', 'A']\n",
            "['G', 'C', 'U']\n",
            "['G', 'A', 'G']\n",
            "Found Glutamic Acid!\n",
            "['C', 'U', 'G']\n",
            "['A', 'G', 'C']\n",
            "['U', 'U', 'G']\n"
          ]
        }
      ],
      "source": [
        "length_of_segments = 3\n",
        "dna_sequence = [\"A\", \"U\", \"C\", \"C\", \"G\",\"A\", \"G\", \"C\", \"U\", \"E\", \"G\",\"A\", \"G\", \"C\", \"U\", \"E\", \"Z\", \"G\",\"A\", \"G\", \"C\", \"U\", \"U\",\"G\"]\n",
        "\n",
        "dna_sequence.remove(\"E\")\n",
        "dna_sequence.remove(\"E\")\n",
        "dna_sequence.remove(\"Z\")\n",
        "\n",
        "for starting_point in range(0,len(dna_sequence), length_of_segments):\n",
        "  \n",
        "  current_codon = dna_sequence[starting_point:starting_point+3]\n",
        "  print(current_codon)\n",
        "\n",
        "  if ['G', 'A', 'G'] == current_codon:\n",
        "    print(\"Found Glutamic Acid!\")"
      ]
    },
    {
      "cell_type": "markdown",
      "metadata": {
        "id": "w01RZDDh5-yE"
      },
      "source": [
        "The loop in this example first stores the codon (list of three nucleotides) in the variable ```current_codon```. Next, it compare the list in ```current_codon``` with ```['G', 'A', 'G']```. Only if both are identical, a message is printed.\n"
      ]
    },
    {
      "cell_type": "markdown",
      "metadata": {
        "id": "lrZXglXE6f-W"
      },
      "source": [
        "### Checking for Equality\n",
        "\n",
        "Most conditional tests compare the current value of a variable to a specific\n",
        "value of interest. The simplest conditional test checks whether the value of a\n",
        "variable is equal to the value of interest.\n",
        "\n",
        "While an assignment of a value to a variable works with ```=```, a comparison requires two equal signs ```==```:\n"
      ]
    },
    {
      "cell_type": "code",
      "execution_count": 4,
      "metadata": {
        "colab": {
          "base_uri": "https://localhost:8080/"
        },
        "id": "ddg48O0zoFr9",
        "outputId": "02234981-9d54-43de-ed7b-b873b1f6f8ae"
      },
      "outputs": [
        {
          "data": {
            "text/plain": [
              "True"
            ]
          },
          "execution_count": 4,
          "metadata": {},
          "output_type": "execute_result"
        }
      ],
      "source": [
        "# Sets the color to \"blue\"\n",
        "color = 'blue'\n",
        "\n",
        "# Compares the color to \"blue\"\n",
        "color == 'blue'"
      ]
    },
    {
      "cell_type": "code",
      "execution_count": null,
      "metadata": {
        "colab": {
          "base_uri": "https://localhost:8080/"
        },
        "id": "kzo_s67y6r8V",
        "outputId": "36973aa5-64fb-42eb-e13f-328f0e693ae8"
      },
      "outputs": [
        {
          "data": {
            "text/plain": [
              "False"
            ]
          },
          "execution_count": 4,
          "metadata": {},
          "output_type": "execute_result"
        }
      ],
      "source": [
        "color = 'blue'\n",
        "color == 'red'"
      ]
    },
    {
      "cell_type": "code",
      "execution_count": null,
      "metadata": {
        "colab": {
          "base_uri": "https://localhost:8080/"
        },
        "id": "hjA8IC9W6wfU",
        "outputId": "70ff170d-dcad-4b17-df27-95df840bfc8c"
      },
      "outputs": [
        {
          "data": {
            "text/plain": [
              "False"
            ]
          },
          "execution_count": 5,
          "metadata": {},
          "output_type": "execute_result"
        }
      ],
      "source": [
        "color = 'blue'\n",
        "color == 'Blue'"
      ]
    },
    {
      "cell_type": "markdown",
      "metadata": {
        "id": "1rIObdU57U6u"
      },
      "source": [
        "### Checking for Inequality\n",
        "\n",
        "When you want to determine whether two values are not equal, you can\n",
        "combine an exclamation point and an equal sign (```!=```). The exclamation\n",
        "point represents not, as it does in many programming languages.\n"
      ]
    },
    {
      "cell_type": "code",
      "execution_count": 5,
      "metadata": {
        "colab": {
          "base_uri": "https://localhost:8080/"
        },
        "id": "4tftFcXa6yik",
        "outputId": "bdd05d04-0a66-4ac7-e311-97281768d8f0"
      },
      "outputs": [
        {
          "name": "stdout",
          "output_type": "stream",
          "text": [
            "This is not the codon You're looking for!\n"
          ]
        }
      ],
      "source": [
        "codon = 'GAC'\n",
        "\n",
        "if codon != 'GAG':\n",
        "  print(\"This is not the codon You're looking for!\")"
      ]
    },
    {
      "cell_type": "markdown",
      "metadata": {
        "id": "KZXWzDRe71DO"
      },
      "source": [
        "### Numerical Comparisons\n",
        "\n",
        "Testing numerical values is pretty straightforward. For example, the following\n",
        "code checks whether a person is 18 years old:"
      ]
    },
    {
      "cell_type": "code",
      "execution_count": null,
      "metadata": {
        "colab": {
          "base_uri": "https://localhost:8080/"
        },
        "id": "DrqDvEI_70TW",
        "outputId": "41b6c4b6-7e13-4a4d-bd3b-9418e03717b9"
      },
      "outputs": [
        {
          "data": {
            "text/plain": [
              "True"
            ]
          },
          "execution_count": 9,
          "metadata": {},
          "output_type": "execute_result"
        }
      ],
      "source": [
        "age = 18\n",
        "age == 18"
      ]
    },
    {
      "cell_type": "markdown",
      "metadata": {
        "id": "ITJxmXIN7_33"
      },
      "source": [
        "Integers are cast to floats, if compared to them:"
      ]
    },
    {
      "cell_type": "code",
      "execution_count": 7,
      "metadata": {
        "colab": {
          "base_uri": "https://localhost:8080/"
        },
        "id": "nw4ZQzDB7OoG",
        "outputId": "2612a87e-b662-4f06-a232-803cfc967bfb"
      },
      "outputs": [
        {
          "data": {
            "text/plain": [
              "True"
            ]
          },
          "execution_count": 7,
          "metadata": {},
          "output_type": "execute_result"
        }
      ],
      "source": [
        "age = 18\n",
        "age == 18.0"
      ]
    },
    {
      "cell_type": "markdown",
      "metadata": {
        "id": "SMdBn6688I6E"
      },
      "source": [
        "You can include various mathematical comparisons in your conditional\n",
        "statements as well, such as less than, less than or equal to, greater than, and\n",
        "greater than or equal to:"
      ]
    },
    {
      "cell_type": "code",
      "execution_count": null,
      "metadata": {
        "colab": {
          "base_uri": "https://localhost:8080/"
        },
        "id": "UWHXSWVB772F",
        "outputId": "3bdced3f-e609-44dd-ec20-0ee0673c1b7e"
      },
      "outputs": [
        {
          "data": {
            "text/plain": [
              "True"
            ]
          },
          "execution_count": 14,
          "metadata": {},
          "output_type": "execute_result"
        }
      ],
      "source": [
        "age = 19\n",
        "age < 21"
      ]
    },
    {
      "cell_type": "code",
      "execution_count": null,
      "metadata": {
        "colab": {
          "base_uri": "https://localhost:8080/"
        },
        "id": "yoDc1fcQ8MH1",
        "outputId": "e0adee9a-70ae-4cb6-8e01-72847073177a"
      },
      "outputs": [
        {
          "data": {
            "text/plain": [
              "True"
            ]
          },
          "execution_count": 15,
          "metadata": {},
          "output_type": "execute_result"
        }
      ],
      "source": [
        "age <= 21"
      ]
    },
    {
      "cell_type": "markdown",
      "metadata": {
        "id": "QCJjZbim8Qjk"
      },
      "source": [
        "Each mathematical comparison can be used as part of an if statement, which can help you detect the exact conditions of interest."
      ]
    },
    {
      "cell_type": "markdown",
      "metadata": {
        "id": "r5F2FPUO81B_"
      },
      "source": [
        "### Boolean Expressions\n",
        "\n",
        "A Boolean value is either `True` or `False`, just like the value\n",
        "of a conditional expression after it has been evaluated.\n",
        "Boolean values are often used to keep track of certain conditions, such\n",
        "as whether a game is running or whether a user can edit certain content on\n",
        "a website:"
      ]
    },
    {
      "cell_type": "code",
      "execution_count": null,
      "metadata": {
        "id": "KUegGup88w_0"
      },
      "outputs": [],
      "source": [
        "game_active = True\n",
        "can_edit = False"
      ]
    },
    {
      "cell_type": "markdown",
      "metadata": {
        "id": "PHVUuP4q8TdO"
      },
      "source": [
        "### Checking Multiple Conditions\n",
        "\n",
        "You may want to check multiple conditions at the same time. For example,\n",
        "sometimes you might need two conditions to be True to take an action. Other\n",
        "times you might be satisfied with just one condition being True. The keywords\n",
        "and and or can help you in these situations.\n",
        "\n"
      ]
    },
    {
      "cell_type": "markdown",
      "metadata": {},
      "source": [
        "#### Using and to Check Multiple Conditions\n",
        "\n",
        "The ```and``` statement is a boolean operation that checks whether both of the expressions are true:"
      ]
    },
    {
      "cell_type": "code",
      "execution_count": null,
      "metadata": {
        "colab": {
          "base_uri": "https://localhost:8080/"
        },
        "id": "DMRQOvud8OLF",
        "outputId": "21a83b99-ead6-474a-dd49-3ffbfebcab63"
      },
      "outputs": [
        {
          "data": {
            "text/plain": [
              "False"
            ]
          },
          "execution_count": 16,
          "metadata": {},
          "output_type": "execute_result"
        }
      ],
      "source": [
        "age_0 = 22\n",
        "age_1 = 18\n",
        "age_0 >= 21 and age_1 >= 21"
      ]
    },
    {
      "cell_type": "markdown",
      "metadata": {
        "id": "CW5JKtw68tW8"
      },
      "source": [
        "#### Using or to Check Multiple Conditions\n",
        "\n",
        "The ```or``` statememt is a boolean operation that checks whether at least one of the expressions is true:"
      ]
    },
    {
      "cell_type": "code",
      "execution_count": null,
      "metadata": {
        "colab": {
          "base_uri": "https://localhost:8080/"
        },
        "id": "Rqm6yMR88nDi",
        "outputId": "e7c9d9f9-2c50-4053-e67e-7aa105989327"
      },
      "outputs": [
        {
          "data": {
            "text/plain": [
              "True"
            ]
          },
          "execution_count": 18,
          "metadata": {},
          "output_type": "execute_result"
        }
      ],
      "source": [
        "age_0 = 22\n",
        "age_1 = 18\n",
        "\n",
        "age_0 >= 21 or age_1 >= 21"
      ]
    },
    {
      "cell_type": "markdown",
      "metadata": {
        "id": "fygsQTWXzYcz"
      },
      "source": [
        "### 🏁 Recap\n",
        "\n",
        "- If you have finished the tasks and have no questions, place the green card on top.\n",
        "- If you have finished the tasks but would like to discuss the solutions together again, place the yellow card on top.\n",
        "\n",
        "![](https://www.lokalinfo.ch/fileadmin/news_import/image003_03.jpg)"
      ]
    },
    {
      "cell_type": "markdown",
      "metadata": {
        "id": "K73BHLNCU-GS"
      },
      "source": [
        "## 1.2.3.2 Conditionals\n",
        "\n",
        "When you understand conditional tests, you can start writing if statements.\n",
        "Several different kinds of if statements exist, and your choice of which to\n",
        "use depends on the number of conditions you need to test. You saw several\n",
        "examples of if statements in the discussion about conditional tests, but now\n",
        "let’s dig deeper into the topic.\n"
      ]
    },
    {
      "cell_type": "markdown",
      "metadata": {
        "id": "EGlVB-M4Vlsd"
      },
      "source": [
        "### Simple if Statements\n",
        "\n",
        "The simplest kind of if statement has one test and one action:\n",
        "\n",
        "```\n",
        "if conditional_test:\n",
        "  do something\n",
        "```\n",
        "\n",
        "You can put any conditional test in the first line and just about any\n",
        "action in the indented block following the test. If the conditional test\n",
        "evaluates to True, Python executes the code following the if statement.\n",
        "If the test evaluates to False, Python ignores the code following the if\n",
        "statement."
      ]
    },
    {
      "cell_type": "code",
      "execution_count": 3,
      "metadata": {
        "colab": {
          "base_uri": "https://localhost:8080/"
        },
        "id": "_W68AY7CU9nd",
        "outputId": "2e86ce4b-180a-4846-af87-d5252ac89945"
      },
      "outputs": [
        {
          "name": "stdout",
          "output_type": "stream",
          "text": [
            "Found Glutamic acid!\n"
          ]
        }
      ],
      "source": [
        "current_codon = \"GAG\"\n",
        " \n",
        "if current_codon == \"GAG\":\n",
        "  print(\"Found Glutamic acid!\")"
      ]
    },
    {
      "cell_type": "markdown",
      "metadata": {
        "id": "r0yDqeFYWAp3"
      },
      "source": [
        "First, Python checks to see whether the value in current_codon is identical to ```\"GAG\"```. It is, so Python executes the indented print statement.\n",
        "\n",
        "Indentation plays the same role in if statements as it did in for loops.\n",
        "All indented lines after an if statement will be executed if the test passes, and the entire block of indented lines will be ignored if the test does\n",
        "not pass."
      ]
    },
    {
      "cell_type": "markdown",
      "metadata": {
        "id": "EKOMzeQHWW9u"
      },
      "source": [
        "✍️ **Task**\n",
        "\n",
        "You want to research bacterial growth under different conditions. You have a list of experiment results giving the final sample size in grams. You only want to find the experiments, where the final sample size is larger than 30 g. If You find one print the experiment number and the sample size in a sentence.\n",
        "- e.g. `\"Experiment number 4 has a sample size of 203 grams!\"`\n",
        "\n",
        "Use a for loop and an if-statement to print out the numbers of the experiments with sample sizes larger than 30g. Use a variable ```experiment_number``` for counting the experiments while you loop through the list.\n",
        "\n",
        "*Hint*: Use a for loop and an if condition."
      ]
    },
    {
      "cell_type": "code",
      "execution_count": 4,
      "metadata": {
        "id": "Jk1nyA4YgjRN"
      },
      "outputs": [],
      "source": [
        "final_sample_size_in_g = [20,10,30, 203, 30, 3, 40 ,20 , 40 ,50]\n",
        "\n",
        "experiment_number = 0"
      ]
    },
    {
      "cell_type": "code",
      "execution_count": 6,
      "metadata": {
        "colab": {
          "base_uri": "https://localhost:8080/"
        },
        "id": "KjpF1y6yWZ2E",
        "outputId": "4e4023af-d82e-4e11-c9c7-c0699c3df14d"
      },
      "outputs": [
        {
          "name": "stdout",
          "output_type": "stream",
          "text": [
            "Experiment number 14 has a sample size of 203 grams!\n",
            "Experiment number 17 has a sample size of 40 grams!\n",
            "Experiment number 19 has a sample size of 40 grams!\n",
            "Experiment number 20 has a sample size of 50 grams!\n"
          ]
        }
      ],
      "source": [
        "for weight in final_sample_size_in_g:\n",
        "    experiment_number = experiment_number + 1\n",
        "    if weight > 30:\n",
        "        print(\"Experiment number {} has a sample size of {} grams!\".format(experiment_number,weight))"
      ]
    },
    {
      "cell_type": "markdown",
      "metadata": {
        "id": "AcZF-qOSWUBO"
      },
      "source": [
        "### if-else Statements\n",
        "\n",
        "Often, you’ll want to take one action when a conditional test passes and a different\n",
        "action in all other cases. Python’s if-else syntax makes this possible.\n",
        "An if-else block is similar to a simple if statement, but the else statement\n",
        "allows you to define an action or set of actions that are executed when the\n",
        "conditional test fails."
      ]
    },
    {
      "cell_type": "code",
      "execution_count": null,
      "metadata": {
        "colab": {
          "base_uri": "https://localhost:8080/"
        },
        "id": "MIV-_2iHX6ks",
        "outputId": "f0952e80-6908-48c3-e0e0-28cb934f42c2"
      },
      "outputs": [
        {
          "name": "stdout",
          "output_type": "stream",
          "text": [
            "Sorry, you are too young to vote.\n",
            "Please register to vote as soon as you turn 18!\n"
          ]
        }
      ],
      "source": [
        "age = 17\n",
        "if age >= 18:\n",
        "  print(\"You are old enough to vote!\")\n",
        "  print(\"Have you registered to vote yet?\")\n",
        "else:\n",
        "  print(\"Sorry, you are too young to vote.\")\n",
        "  print(\"Please register to vote as soon as you turn 18!\")"
      ]
    },
    {
      "cell_type": "markdown",
      "metadata": {
        "id": "ptqgNORSX-2O"
      },
      "source": [
        "✍️ **Task**\n",
        "\n",
        "We take our list with experimental results from the prior example. Experiments with sample weights below 30 g count as failed experiments. \n",
        "Expand on the solution before. While looping through the experiments, store the results (numbers) of the failed experiments in a new list and print all the numbers of the fails experiments at the end."
      ]
    },
    {
      "cell_type": "code",
      "execution_count": 7,
      "metadata": {
        "id": "XmaZrof9g1ZN"
      },
      "outputs": [],
      "source": [
        "final_sample_size_in_g = [20,10,30, 203, 30, 3, 40 ,20 , 40 ,50]\n",
        "\n",
        "experiment_number = 0\n",
        "failed_experiments = []"
      ]
    },
    {
      "cell_type": "code",
      "execution_count": 9,
      "metadata": {
        "colab": {
          "base_uri": "https://localhost:8080/"
        },
        "id": "WMaYFGOuWTcO",
        "outputId": "546f7932-95ef-4d0f-ccae-7619ab347b82"
      },
      "outputs": [
        {
          "name": "stdout",
          "output_type": "stream",
          "text": [
            "Experiment number 14 has a sample size of 203 grams!\n",
            "Experiment number 17 has a sample size of 40 grams!\n",
            "Experiment number 19 has a sample size of 40 grams!\n",
            "Experiment number 20 has a sample size of 50 grams!\n",
            "The following experiments failed: [1, 2, 3, 5, 6, 8, 11, 12, 13, 15, 16, 18]\n"
          ]
        }
      ],
      "source": [
        "for weight in final_sample_size_in_g:\n",
        "    experiment_number = experiment_number + 1\n",
        "    if weight > 30:\n",
        "        print(\"Experiment number {} has a sample size of {} grams!\".format(experiment_number,weight))\n",
        "    else:\n",
        "        failed_experiments.append(experiment_number)\n",
        "\n",
        "print(\"The following experiments failed: \" + str(failed_experiments))"
      ]
    },
    {
      "cell_type": "markdown",
      "metadata": {
        "id": "VhOB_KpHYt3V"
      },
      "source": [
        "### The if-elif-else Chain\n",
        "Often, you’ll need to test more than two possible situations, and to evaluate these you can use Python’s if-elif-else syntax. Python executes only one\n",
        "block in an if-elif-else chain. It runs each conditional test in order until one passes. When a test passes, the code following that test is executed and\n",
        "Python skips the rest of the tests.\n",
        "\n",
        "Many real-world situations involve more than two possible conditions.\n",
        "For example, consider grouping the experiment results into different classes:\n",
        "- under 30 g - Experiment failed!\n",
        "- 30 - 100g - Experiment shows promising results!\n",
        "- larger 100g - Experiment was a great sucess!"
      ]
    },
    {
      "cell_type": "code",
      "execution_count": null,
      "metadata": {
        "colab": {
          "base_uri": "https://localhost:8080/"
        },
        "id": "Z_CH_on8YtIV",
        "outputId": "13925887-b31e-455d-8387-014d44382cdc"
      },
      "outputs": [
        {
          "name": "stdout",
          "output_type": "stream",
          "text": [
            "Experiment was a great sucess!\n"
          ]
        }
      ],
      "source": [
        "weight = 120\n",
        "\n",
        "if weight < 30:\n",
        "  print(\"Experiment failed!\")\n",
        "elif weight <= 100:\n",
        "  print(\"Experiment shows promising results!\")\n",
        "else:\n",
        "  print(\"Experiment was a great sucess!\") "
      ]
    },
    {
      "cell_type": "markdown",
      "metadata": {
        "id": "2oChPRogaiyp"
      },
      "source": [
        "Rather than printing the notification within the if-elif-else block,\n",
        "it would be more concise to set just the notification inside the if-elif-else chain and then have a simple print statement that runs after the chain has been\n",
        "evaluated:"
      ]
    },
    {
      "cell_type": "code",
      "execution_count": null,
      "metadata": {
        "colab": {
          "base_uri": "https://localhost:8080/"
        },
        "id": "1QeMYpxuah12",
        "outputId": "b12e0f7b-9e94-43fc-b7f9-da0d23b47ded"
      },
      "outputs": [
        {
          "name": "stdout",
          "output_type": "stream",
          "text": [
            "Experiment was a great sucess!\n"
          ]
        }
      ],
      "source": [
        "weight = 120\n",
        "\n",
        "notification = \"No experiment so far.\" \n",
        "\n",
        "if weight < 30:\n",
        "  notification =\"Experiment failed!\"\n",
        "elif weight <= 100:\n",
        "  notification = \"Experiment shows promising results!\"\n",
        "else:\n",
        "  notification = \"Experiment was a great success!\"\n",
        "\n",
        "print(notification)"
      ]
    },
    {
      "cell_type": "markdown",
      "metadata": {
        "id": "MpU1SddxhOgV"
      },
      "source": [
        "✍️ **Task**\n",
        "\n",
        "Change the `elif` in the code of `if` and later to `else`. What do You expect to happen?"
      ]
    },
    {
      "cell_type": "code",
      "execution_count": 19,
      "metadata": {
        "colab": {
          "base_uri": "https://localhost:8080/"
        },
        "id": "riUWqQjUhMKE",
        "outputId": "e33ab5ff-0138-4deb-9915-bd9971f9ef41"
      },
      "outputs": [
        {
          "name": "stdout",
          "output_type": "stream",
          "text": [
            "Experiment failed!\n",
            "No experiment so far.\n"
          ]
        }
      ],
      "source": [
        "weight = 20\n",
        "\n",
        "notification = \"No experiment so far.\" \n",
        "\n",
        "if weight < 30:\n",
        "  print(\"Experiment failed!\")\n",
        "elif weight <= 100:\n",
        "  print(\"Experiment shows promising results!\")\n",
        "else:\n",
        "  print(\"Experiment was a great success!\") \n",
        "\n",
        "print(notification)"
      ]
    },
    {
      "cell_type": "markdown",
      "metadata": {
        "id": "9NxWQyNObvSY"
      },
      "source": [
        "## 1.2.3.3 Using if Statements with Lists\n",
        "\n",
        "You can do some interesting work when you combine lists and if statements.\n",
        "You can watch for special values that need to be treated differently\n",
        "than other values in the list. You can manage changing conditions efficiently,\n",
        "such as the availability of certain items in a lab inventory. You can also begin to prove that your code works as you expect it to in\n",
        "all possible situations."
      ]
    },
    {
      "cell_type": "markdown",
      "metadata": {
        "id": "yFUy84X7b8WW"
      },
      "source": [
        "### Checking for Special Items\n",
        "\n",
        "Imagine a issuing office where you can get lab equipment before You start Your experiments. The following example checks the availability of a list of required lab equipment and provides a notification, if the safety glasses are requested but not available."
      ]
    },
    {
      "cell_type": "code",
      "execution_count": 9,
      "metadata": {
        "colab": {
          "base_uri": "https://localhost:8080/"
        },
        "id": "ma4HnQMpb75W",
        "outputId": "10dae890-2446-4e37-c337-2237b6b9b0d5"
      },
      "outputs": [
        {
          "name": "stdout",
          "output_type": "stream",
          "text": [
            "Adding lab coat.\n",
            "Sorry, we are out of safety glasses right now.\n",
            "Adding petri dish.\n",
            "\n",
            "Selected the lab equipment!\n"
          ]
        }
      ],
      "source": [
        "lab_equipments_needed = ['lab coat', 'safety glasses', 'petri dish']\n",
        "\n",
        "for lab_equipment in lab_equipments_needed:\n",
        "  if lab_equipment == 'safety glasses':  \n",
        "    print(\"Sorry, we are out of safety glasses right now.\")\n",
        "  else:\n",
        "    print(\"Adding \" + lab_equipment + \".\")\n",
        "print(\"\\nSelected the lab equipment!\")"
      ]
    },
    {
      "cell_type": "markdown",
      "metadata": {
        "id": "fe_c_GQYdUgm"
      },
      "source": [
        "### Checking That a List Is Not Empty\n",
        "\n",
        "We’ve made a simple assumption about every list we’ve worked with so far;\n",
        "we’ve assumed that each list has at least one item in it. Soon we’ll let users provide the information that’s stored in a list, so we won’t be able to assume that a list has any items in it each time a loop is run. In this situation, it’s useful to check whether a list is empty before running a for loop with a simple statement ```if lab_equipments_needed:```"
      ]
    },
    {
      "cell_type": "code",
      "execution_count": 10,
      "metadata": {
        "colab": {
          "base_uri": "https://localhost:8080/"
        },
        "id": "PHzmevW8U9QN",
        "outputId": "3aa8c5db-21e6-4e3d-fc4b-04d79474a82e"
      },
      "outputs": [
        {
          "name": "stdout",
          "output_type": "stream",
          "text": [
            "You need no lab equipment!\n"
          ]
        }
      ],
      "source": [
        "lab_equipments_needed = []\n",
        "#lab_equipments_needed = ['lab coat', 'safety glasses', 'petri dish']\n",
        "\n",
        "if lab_equipments_needed:\n",
        "  for lab_equipment in lab_equipments_needed:\n",
        "    print(\"Adding \" + lab_equipment + \".\")\n",
        "  print(\"\\nSelected the lab equipment!\")\n",
        "else:\n",
        "  print(\"You need no lab equipment!\")"
      ]
    },
    {
      "cell_type": "markdown",
      "metadata": {
        "id": "nEFnHtrdesUQ"
      },
      "source": [
        "### Using Multiple Lists\n",
        "\n",
        "The for loop and if statement also help to compare two lists. This allows us to keep stock of the `lab_equipments_available` without adding a \"hard coded\" statement that the safety glasses are not available."
      ]
    },
    {
      "cell_type": "code",
      "execution_count": 11,
      "metadata": {
        "colab": {
          "base_uri": "https://localhost:8080/"
        },
        "id": "xZMH99dseIDP",
        "outputId": "2dd236b1-e02e-4498-ee7a-ee772db04cef"
      },
      "outputs": [
        {
          "name": "stdout",
          "output_type": "stream",
          "text": [
            "Adding lab coat.\n",
            "Sorry, we are out of safety glasses right now.\n",
            "Adding petri dish.\n",
            "\n",
            "Selected the lab equipment!\n"
          ]
        }
      ],
      "source": [
        "# There things there are\n",
        "lab_equipments_available = ['lab coat', 'petri dish', 'microscope']\n",
        "\n",
        "# The things you need\n",
        "lab_equipments_needed = ['lab coat', 'safety glasses', 'petri dish']\n",
        "\n",
        "for lab_equipment in lab_equipments_needed:\n",
        "  # The in-statement compares what is in a list\n",
        "  if lab_equipment in lab_equipments_available:\n",
        "    print(\"Adding \" + lab_equipment + \".\")\n",
        "  else:\n",
        "    print(\"Sorry, we are out of {} right now.\".format(lab_equipment))\n",
        "\n",
        "\n",
        "print(\"\\nSelected the lab equipment!\")"
      ]
    },
    {
      "cell_type": "markdown",
      "metadata": {
        "id": "VYJB7PD8gauP"
      },
      "source": [
        "✍️ **Task**\n",
        "\n",
        "Make a list of five or more usernames, including the name 'lab supervisor'. Imagine you are writing code that will print a greeting to each user after they open their door with their ID-card. Loop through the list, and print a greeting to each user:\n",
        "- If the username is `'lab supervisor'`, print a special greeting, such as `\"Hello lab supervisor, would you like to see a status report?\"`\n",
        "- Otherwise, print a generic greeting, such as `\"Hello Eric, thank you for coming in again.\"`\n"
      ]
    },
    {
      "cell_type": "code",
      "execution_count": null,
      "metadata": {},
      "outputs": [],
      "source": []
    },
    {
      "cell_type": "code",
      "execution_count": 12,
      "metadata": {
        "colab": {
          "base_uri": "https://localhost:8080/"
        },
        "id": "8ibJR_v8fOZe",
        "outputId": "2aebb3ab-a4b6-4004-8f4e-72c484aae231"
      },
      "outputs": [
        {
          "name": "stdout",
          "output_type": "stream",
          "text": [
            "Hello Julian, thank you for comming in again.\n",
            "Hello Alex, thank you for comming in again.\n",
            "Hello lab supervisor, would you like to see a status report?\n"
          ]
        }
      ],
      "source": [
        "#@title ❓ Click `Show code` in the code cell to show the solution. { display-mode: \"form\" }\n",
        "lab_users= ['Julian', 'Alex', 'lab supervisor']\n",
        "\n",
        "for lab_user in lab_users:\n",
        "  if lab_user == \"lab supervisor\":\n",
        "    print(\"Hello lab supervisor, would you like to see a status report?\")\n",
        "  else:\n",
        "    print(\"Hello {}, thank you for coming in again.\".format(lab_user))"
      ]
    },
    {
      "cell_type": "markdown",
      "metadata": {
        "id": "Guj_6NtTgyJe"
      },
      "source": [
        "✍️ **Task**\n",
        "\n",
        "Add an if test to to make sure the list of lab users is not empty.\n",
        "- If the list is empty, print the message `\"We need to find some lab rats!\"`\n",
        "- Remove all of the usernames from your list, and make sure the correct\n",
        "message is printed."
      ]
    },
    {
      "cell_type": "code",
      "execution_count": null,
      "metadata": {},
      "outputs": [],
      "source": []
    },
    {
      "cell_type": "code",
      "execution_count": 13,
      "metadata": {
        "colab": {
          "base_uri": "https://localhost:8080/"
        },
        "id": "kNsPIpozioo9",
        "outputId": "af89abfe-5042-4c96-bd45-f1517915b66e"
      },
      "outputs": [
        {
          "name": "stdout",
          "output_type": "stream",
          "text": [
            "Hello Julian, thank you for comming in again.\n",
            "Hello Alex, thank you for comming in again.\n",
            "Hello lab supervisor, would you like to see a status report?\n"
          ]
        }
      ],
      "source": [
        "#@title ❓ Click `Show code` in the code cell to show the solution. { display-mode: \"form\" }\n",
        "lab_users= ['Julian', 'Alex', 'lab supervisor']\n",
        "\n",
        "#lab_users = []\n",
        "\n",
        "if lab_users:\n",
        "  for lab_user in lab_users:\n",
        "    if lab_user == \"lab supervisor\":\n",
        "      print(\"Hello lab supervisor, would you like to see a status report?\")\n",
        "    else:\n",
        "      print(\"Hello {}, thank you for comming in again.\".format(lab_user))\n",
        "else:\n",
        "  print(\"We need to find some lab rats!\")"
      ]
    },
    {
      "cell_type": "markdown",
      "metadata": {
        "id": "Vtent9hvzbbR"
      },
      "source": [
        "### 🏁 Recap\n",
        "\n",
        "- If you have finished the tasks and have no questions, place the green card on top.\n",
        "- If you have finished the tasks but would like to discuss the solutions together again, place the yellow card on top.\n",
        "\n",
        "![](https://www.lokalinfo.ch/fileadmin/news_import/image003_03.jpg)"
      ]
    },
    {
      "cell_type": "markdown",
      "metadata": {
        "id": "yFs-D2p3hHEm"
      },
      "source": [
        "## 🏆 1.2.3.4 **Task with Sakai-Submission**\n",
        "\n",
        "Write a program the checks the lab clearance of anyone wanting to enter the lab:\n",
        "\n",
        "- Make a list of five or more usernames called ```users_with_clearance```.\n",
        "- Make another list of five usernames called ```users_wanting_to_enter```. Make sure one or two of the new usernames are also in the ```users_with_clearance``` list.\n",
        "- Loop through the ```users_wanting_to_enter``` list to see if each of them has a lab clearance. Print a message that to greet all the persons. If the person hasn't sent them to a supervisor."
      ]
    },
    {
      "cell_type": "code",
      "execution_count": null,
      "metadata": {},
      "outputs": [],
      "source": []
    },
    {
      "cell_type": "code",
      "execution_count": 1,
      "metadata": {
        "colab": {
          "base_uri": "https://localhost:8080/"
        },
        "id": "cz1wRsxFhGc3",
        "outputId": "9c1dce3a-b3a6-4358-901d-3bfed786fbb8"
      },
      "outputs": [
        {
          "name": "stdout",
          "output_type": "stream",
          "text": [
            "Hi, Adam! Please enter.\n",
            "Hi, Eve! Please enter.\n",
            "Hi, Lilith! Please go to the supervisor to register.\n",
            "Hi, Abel! Please go to the supervisor to register.\n",
            "Hi, Cain! Please go to the supervisor to register.\n"
          ]
        }
      ],
      "source": [
        "#@title ❓ Click `Show code` in the code cell to show the solution. { display-mode: \"form\" }\n",
        "\n",
        "from solutionsfop import solution_1_2_3_4\n",
        "\n",
        "solution_1_2_3_4()\n"
      ]
    },
    {
      "cell_type": "markdown",
      "metadata": {
        "id": "TFazjaR9zhko"
      },
      "source": [
        "### 🏁 Recap\n",
        "\n",
        "- If you have finished the tasks and have no questions, place the green card on top.\n",
        "- If you have finished the tasks but would like to discuss the solutions together again, place the yellow card on top.\n",
        "\n",
        "![](https://www.lokalinfo.ch/fileadmin/news_import/image003_03.jpg)"
      ]
    },
    {
      "cell_type": "markdown",
      "metadata": {
        "id": "998siftLiR6n"
      },
      "source": [
        "## Summary\n",
        "\n",
        "In this chapter you learned how to write conditional tests, which always\n",
        "evaluate to True or False. You learned to write simple if statements, if-else\n",
        "chains, and if-elif-else chains. You began using these structures to identify\n",
        "particular conditions you needed to test and to know when those conditions\n",
        "have been met in your programs. You learned to handle certain items in a\n",
        "list differently than all other items while continuing to utilize the efficiency\n",
        "of a for loop. You also revisited Python’s style recommendations to ensure\n",
        "that your increasingly complex programs are still relatively easy to read and\n",
        "understand."
      ]
    },
    {
      "cell_type": "markdown",
      "metadata": {},
      "source": [
        "## Appendix"
      ]
    },
    {
      "cell_type": "markdown",
      "metadata": {
        "id": "ljxGCyTuiJAA"
      },
      "source": [
        "🤓 **Task**\n",
        "\n",
        "Ordinal numbers indicate their position in a list, such\n",
        "as 1st or 2nd. Most ordinal numbers end in th, except 1, 2, and 3.\n",
        "- Store the numbers 1 through 9 in a list.\n",
        "- Loop through the list.\n",
        "- Use an if-elif-else chain inside the loop to print the proper ordinal ending\n",
        "for each number. \n",
        "\n",
        "Your output should read \"1st 2nd 3rd 4th 5th 6th\n",
        "7th 8th 9th\", and each result should be on a separate line\n"
      ]
    },
    {
      "cell_type": "code",
      "execution_count": null,
      "metadata": {},
      "outputs": [],
      "source": []
    },
    {
      "cell_type": "code",
      "execution_count": 14,
      "metadata": {
        "colab": {
          "base_uri": "https://localhost:8080/"
        },
        "id": "egzl3mcgiRhm",
        "outputId": "68549d2e-4866-4611-d0ef-fa7b1b5f1716"
      },
      "outputs": [
        {
          "name": "stdout",
          "output_type": "stream",
          "text": [
            "1st\n",
            "2nd\n",
            "3rd\n",
            "4th\n",
            "5th\n",
            "6th\n",
            "7th\n",
            "8th\n",
            "9th\n"
          ]
        }
      ],
      "source": [
        "#@title ❓ Click `Show code` in the code cell to show the solution. { display-mode: \"form\" }\n",
        "numbers = [*range(1,10)]\n",
        "\n",
        "for number in numbers:\n",
        "\n",
        "  if number == 1:\n",
        "    print(\"1st\")\n",
        "  elif number == 2:\n",
        "    print(\"2nd\")\n",
        "  elif number == 3:\n",
        "    print(\"3rd\")\n",
        "  else:\n",
        "    print(\"{}th\".format(number))\n"
      ]
    },
    {
      "cell_type": "code",
      "execution_count": null,
      "metadata": {},
      "outputs": [],
      "source": []
    }
  ],
  "metadata": {
    "colab": {
      "collapsed_sections": [],
      "provenance": [],
      "toc_visible": true
    },
    "kernelspec": {
      "display_name": "Python 3.8.8 ('base')",
      "language": "python",
      "name": "python3"
    },
    "language_info": {
      "codemirror_mode": {
        "name": "ipython",
        "version": 3
      },
      "file_extension": ".py",
      "mimetype": "text/x-python",
      "name": "python",
      "nbconvert_exporter": "python",
      "pygments_lexer": "ipython3",
      "version": "3.8.8"
    },
    "vscode": {
      "interpreter": {
        "hash": "91b5df634ae01e052c095f84ce6ac57f1bf815a7c386b368c11e7051e1049005"
      }
    }
  },
  "nbformat": 4,
  "nbformat_minor": 0
}

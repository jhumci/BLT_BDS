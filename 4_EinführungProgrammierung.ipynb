{
  "cells": [
    {
      "cell_type": "markdown",
      "metadata": {
        "id": "3zStIqHaj9VK"
      },
      "source": [
        "<table style=\"width: 100%\">\n",
        "    <tr style=\"background: #ffffff\">\n",
        "        <td style=\"padding-top:25px;width: 180px\"><img src=\"https://mci.edu/templates/mci/images/logo.svg\" alt=\"Logo\"></td>\n",
        "        <td style=\"width: 100%\">\n",
        "            <div style=\"text-align:right; width: 100%; text-align:right\"><font style=\"font-size:38px\"><b>Grundlagen Programmierung</b></font></div>\n",
        "            <div style=\"padding-top:0px; width: 100%; text-align:right\"><font size=\"4\"><b>WS 2022</b></font></div>\n",
        "        </td>\n",
        "    </tr>\n",
        "</table>\n",
        "\n",
        "---\n",
        "\n",
        "# 4 Storing and Entering Information"
      ]
    },
    {
      "cell_type": "markdown",
      "metadata": {
        "id": "6xKZUH5ckD5d"
      },
      "source": [
        "## 2.4.1 Dictionaries\n",
        "\n",
        "In this chapter you’ll learn how to use\n",
        "Python’s dictionaries, which allow you to\n",
        "connect pieces of related information. You’ll\n",
        "learn how to access the information once it’s\n",
        "in a dictionary and how to modify that information.\n",
        "Because dictionaries can store an almost limitless\n",
        "amount of information, this will show you how to loop through the data in a\n",
        "dictionary. Additionally, you’ll learn to nest dictionaries inside lists, lists\n",
        "inside dictionaries, and even dictionaries inside other dictionaries.\n",
        "Understanding dictionaries allows you to model a variety of real-world\n",
        "objects more accurately. You’ll be able to create a dictionary representing a\n",
        "person and then store as much information as you want about that person.\n",
        "You can store their name, age, location, profession, and any other aspect of\n",
        "a person you can describe."
      ]
    },
    {
      "cell_type": "markdown",
      "metadata": {
        "id": "UE6CVPAZkO8h"
      },
      "source": [
        "### Working with Dictionaries\n",
        "A dictionary in Python is a collection of *key-value pairs*. Each key is connected\n",
        "to a value, and you can use a key to access the value associated with that key.\n",
        "A key’s value can be a number, a string, a list, or even another dictionary.\n",
        "In fact, you can use any object (Strings, Integer, Lists, etc.) that you can create in Python as a value in a\n",
        "dictionary.\n",
        "In Python, a dictionary is wrapped in braces, ```{}```, with a series of key-value\n",
        "pairs inside the braces, as shown in the earlier example:"
      ]
    },
    {
      "cell_type": "code",
      "execution_count": null,
      "metadata": {
        "id": "X8taOI8dj59C"
      },
      "outputs": [],
      "source": [
        "experiment_0 = {'date': '21.03.2024', 'sample_weight_in_grams': 5}"
      ]
    },
    {
      "cell_type": "markdown",
      "metadata": {
        "id": "f4h10I0xkikT"
      },
      "source": [
        "A key-value pair is a set of values associated with each other. When you\n",
        "provide a key, Python returns the value associated with that key. Every key\n",
        "is connected to its value by a colon, and individual key-value pairs are separated\n",
        "by commas. You can store as many key-value pairs as you want in a\n",
        "dictionary.\n",
        "The simplest dictionary has exactly one key-value pair, as shown in this\n",
        "modified version of the `experiment_0` dictionary:"
      ]
    },
    {
      "cell_type": "code",
      "execution_count": null,
      "metadata": {
        "id": "k-_9vSJ_khDE"
      },
      "outputs": [],
      "source": [
        "experiment_0 = {'sample_weight_in_grams': 5}"
      ]
    },
    {
      "cell_type": "markdown",
      "metadata": {
        "id": "nzi_r8Nxkqmt"
      },
      "source": [
        "## Accessing Values in a Dictionary\n",
        "\n",
        "To get the value associated with a key, give the name of the dictionary and\n",
        "then place the key inside a set of square brackets, as shown here:\n",
        "\n",
        "\n"
      ]
    },
    {
      "cell_type": "code",
      "execution_count": null,
      "metadata": {
        "colab": {
          "base_uri": "https://localhost:8080/"
        },
        "id": "iIDE_M_pkdkk",
        "outputId": "cc609243-8767-4e36-f516-e291556cccdd"
      },
      "outputs": [
        {
          "name": "stdout",
          "output_type": "stream",
          "text": [
            "5\n"
          ]
        }
      ],
      "source": [
        "experiment_0 = {'sample_weight_in_grams': 5}\n",
        "print(experiment_0['sample_weight_in_grams'])"
      ]
    },
    {
      "cell_type": "markdown",
      "metadata": {
        "id": "SvKGIDYClLuo"
      },
      "source": [
        "We can access all the values through the keys:"
      ]
    },
    {
      "cell_type": "code",
      "execution_count": null,
      "metadata": {
        "colab": {
          "base_uri": "https://localhost:8080/"
        },
        "id": "j9EhXo5TkzHp",
        "outputId": "abbff6ee-57e0-4dc5-cf89-bccc849eaa79"
      },
      "outputs": [
        {
          "name": "stdout",
          "output_type": "stream",
          "text": [
            "The experiment was on 21.03.2024 and resulted in 5 grams.\n"
          ]
        }
      ],
      "source": [
        "experiment_0 = {'date': '21.03.2024', 'sample_weight_in_grams': 5}\n",
        "print(\"The experiment was on {} and resulted in {} grams.\".format(experiment_0['date'], experiment_0['sample_weight_in_grams']))"
      ]
    },
    {
      "cell_type": "markdown",
      "metadata": {
        "id": "eIMjhB_GlVcs"
      },
      "source": [
        "### Adding New Key-Value Pairs\n",
        "Dictionaries are dynamic structures, and you can add new key-value pairs\n",
        "to a dictionary at any time. For example, to add a new key-value pair, you\n",
        "would give the name of the dictionary followed by the new key in square\n",
        "brackets along with the new value.\n",
        "\n",
        "For instance, we want to create a new experiment on the date we start it and only later add an supervisor and a result:"
      ]
    },
    {
      "cell_type": "code",
      "execution_count": null,
      "metadata": {
        "colab": {
          "base_uri": "https://localhost:8080/"
        },
        "id": "ITSLhOAblIpr",
        "outputId": "495047cd-30a7-4f42-8b05-5dee61ba6178"
      },
      "outputs": [
        {
          "name": "stdout",
          "output_type": "stream",
          "text": [
            "{'date': '21.03.2024'}\n",
            "{'date': '21.03.2024', 'supervisor': 'Alex', 'sample_weight_in_grams': 10}\n"
          ]
        }
      ],
      "source": [
        "experiment_0 = {'date': '21.03.2024'}\n",
        "print(experiment_0)\n",
        "\n",
        "experiment_0['supervisor'] = 'Alex'\n",
        "experiment_0['sample_weight_in_grams'] = 10\n",
        "\n",
        "print(experiment_0)\n",
        "\n"
      ]
    },
    {
      "cell_type": "markdown",
      "metadata": {
        "id": "7Uy4C0Ycl7hk"
      },
      "source": [
        "Python even allows us to create empty dictionaries:"
      ]
    },
    {
      "cell_type": "code",
      "execution_count": null,
      "metadata": {
        "id": "2rMvapCplnGM"
      },
      "outputs": [],
      "source": [
        "experiment_0 = {}\n",
        "print(experiment_0)\n"
      ]
    },
    {
      "cell_type": "markdown",
      "metadata": {
        "id": "JOww01UVmtRf"
      },
      "source": [
        "### Modifying Values in a Dictionary\n",
        "\n",
        "\n"
      ]
    },
    {
      "cell_type": "code",
      "execution_count": null,
      "metadata": {
        "colab": {
          "base_uri": "https://localhost:8080/"
        },
        "id": "BhMWClEpnFeP",
        "outputId": "c4bcce9f-6352-476b-9e30-d33ff73956f3"
      },
      "outputs": [
        {
          "name": "stdout",
          "output_type": "stream",
          "text": [
            "{'date': '21.03.2024', 'supervisor': 'Alex', 'sample_weight_in_grams': 10}\n",
            "{'date': '21.03.2024', 'supervisor': 'Werner', 'sample_weight_in_grams': 10}\n"
          ]
        }
      ],
      "source": [
        "experiment_0 = {'date': '21.03.2024', 'supervisor': 'Alex', 'sample_weight_in_grams': 10}\n",
        "\n",
        "print(experiment_0)\n",
        "\n",
        "experiment_0['supervisor'] = 'Werner'\n",
        "\n",
        "print(experiment_0)"
      ]
    },
    {
      "cell_type": "markdown",
      "metadata": {
        "id": "dW7_MDSzmvF2"
      },
      "source": [
        "### Removing Key-Value Pairs\n",
        "\n",
        "\n"
      ]
    },
    {
      "cell_type": "code",
      "execution_count": null,
      "metadata": {
        "colab": {
          "base_uri": "https://localhost:8080/"
        },
        "id": "mdpGmmdDm5yG",
        "outputId": "cc48a0c3-3a6e-4dad-c417-5d5a46bf2f84"
      },
      "outputs": [
        {
          "name": "stdout",
          "output_type": "stream",
          "text": [
            "{'date': '21.03.2024', 'supervisor': 'Alex', 'sample_weight_in_grams': 10}\n",
            "{'date': '21.03.2024', 'sample_weight_in_grams': 10}\n"
          ]
        }
      ],
      "source": [
        "experiment_0 = {'date': '21.03.2024', 'supervisor': 'Alex', 'sample_weight_in_grams': 10}\n",
        "\n",
        "print(experiment_0)\n",
        "\n",
        "del experiment_0['supervisor']\n",
        "\n",
        "print(experiment_0)"
      ]
    },
    {
      "cell_type": "markdown",
      "metadata": {
        "id": "EsKC2v4tmcMu"
      },
      "source": [
        "✍️ **Task**\n",
        "\n",
        "Given the following dictionary of codon encodings. \n",
        "- Remove the pair with the key ```uuu```\n",
        "- Add another codon encoding of Your choice from the [Standard DNA codon table](https://en.wikipedia.org/wiki/DNA_and_RNA_codon_tables) to the given dictionary.\n",
        "\n",
        "*Hint:* Make sure to run the first cell first, so that Python knows, that `codons` is a dictionary."
      ]
    },
    {
      "cell_type": "code",
      "execution_count": 3,
      "metadata": {
        "id": "lOc03rLvl44N"
      },
      "outputs": [],
      "source": [
        "codons = {\n",
        "    \"uuu\": \"F\",     # phenilalanyne\n",
        "    \"UUU\": \"F\",     # phenilalanyne\n",
        "    \"UCU\": \"S\",     # serine\n",
        "    \"UAU\": \"Y\",     # tyrosine\n",
        "    \"UGU\": \"C\",     # cysteine\n",
        "    \"UUC\": \"F\",     # phenilalanyne\n",
        "    \"UCC\": \"S\",     # serine\n",
        "    \"UAC\": \"Y\",     # tyrosine\n",
        "    # etc.\n",
        "}"
      ]
    },
    {
      "cell_type": "code",
      "execution_count": 4,
      "metadata": {
        "colab": {
          "base_uri": "https://localhost:8080/"
        },
        "id": "1fPSwe2k-EAv",
        "outputId": "73a54bce-3264-4922-b417-adc12fce6247"
      },
      "outputs": [
        {
          "data": {
            "text/plain": [
              "{'uuu': 'F',\n",
              " 'UUU': 'F',\n",
              " 'UCU': 'S',\n",
              " 'UAU': 'Y',\n",
              " 'UGU': 'C',\n",
              " 'UUC': 'F',\n",
              " 'UCC': 'S',\n",
              " 'UAC': 'Y',\n",
              " 'GGG': 'G'}"
            ]
          },
          "execution_count": 4,
          "metadata": {},
          "output_type": "execute_result"
        }
      ],
      "source": [
        "codons[\"GGG\"] = \"G\"\n",
        "codons"
      ]
    },
    {
      "cell_type": "markdown",
      "metadata": {
        "id": "OZEIWNLYp9rp"
      },
      "source": [
        "### Looping Through a Dictionary\n",
        "\n",
        "A single Python dictionary can contain just a few key-value pairs or millions\n",
        "of pairs. Because a dictionary can contain large amounts of data, Python lets\n",
        "you loop through a dictionary. Dictionaries can be used to store information\n",
        "in a variety of ways; therefore, several different ways exist to loop through\n",
        "them. You can loop through all of a dictionary’s key-value pairs, through its\n",
        "keys, or through its values."
      ]
    },
    {
      "cell_type": "markdown",
      "metadata": {
        "id": "5M5SKh_qqHfK"
      },
      "source": [
        "#### Looping Through All Key-Value Pairs\n",
        "\n",
        "Using the ```.items()``` fuction, we can loop though alle key-value pairs in the dictionary. Take note, that the function return two values, which we store in two seperate variables (`key` and `value`).\n",
        "\n",
        "Note that we can freely choose the variable names for the keys and the values in the for-loop:"
      ]
    },
    {
      "cell_type": "code",
      "execution_count": null,
      "metadata": {
        "colab": {
          "base_uri": "https://localhost:8080/"
        },
        "id": "s_wOgZhMnrp_",
        "outputId": "e7269b63-07f0-49d3-b6e2-4cdbde4e5db7"
      },
      "outputs": [
        {
          "name": "stdout",
          "output_type": "stream",
          "text": [
            "\n",
            "Key: UAC\n",
            "Value: Y\n",
            "\n",
            "Key: UAC\n",
            "Value: Y\n",
            "\n",
            "Key: UAC\n",
            "Value: Y\n",
            "\n",
            "Key: UAC\n",
            "Value: Y\n",
            "\n",
            "Key: UAC\n",
            "Value: Y\n",
            "\n",
            "Key: UAC\n",
            "Value: Y\n",
            "\n",
            "Key: UAC\n",
            "Value: Y\n",
            "\n",
            "Key: UUU\n",
            "Value: F\n",
            "\n",
            "Key: UCU\n",
            "Value: S\n",
            "\n",
            "Key: UAU\n",
            "Value: Y\n",
            "\n",
            "Key: UGU\n",
            "Value: C\n",
            "\n",
            "Key: UUC\n",
            "Value: F\n",
            "\n",
            "Key: UCC\n",
            "Value: S\n",
            "\n",
            "Key: UAC\n",
            "Value: Y\n"
          ]
        }
      ],
      "source": [
        "codons = {\n",
        "    \"UUU\": \"F\",     # phenilalanyne\n",
        "    \"UCU\": \"S\",     # serine\n",
        "    \"UAU\": \"Y\",     # tyrosine\n",
        "    \"UGU\": \"C\",     # cysteine\n",
        "    \"UUC\": \"F\",     # phenilalanyne\n",
        "    \"UCC\": \"S\",     # serine\n",
        "    \"UAC\": \"Y\",     # tyrosine\n",
        "    # etc.\n",
        "}\n",
        "\n",
        "for key, value in codons.items():\n",
        "  print(\"\\nKey: \" + key)  \n",
        "  print(\"Value: \" + value)\n",
        "\n",
        "for codon, amino_acid in codons.items():\n",
        "  print(\"\\nKey: \" + codon)  \n",
        "  print(\"Value: \" + amino_acid)"
      ]
    },
    {
      "cell_type": "markdown",
      "metadata": {
        "id": "lwPUZQS4teM9"
      },
      "source": [
        "#### Accessing key and values only\n",
        "\n",
        "In case You want an acces only the keys or values in a dictinary You can use the ```.keys()``` or ```.values()``` function instead of ```.items()```"
      ]
    },
    {
      "cell_type": "code",
      "execution_count": null,
      "metadata": {
        "colab": {
          "base_uri": "https://localhost:8080/"
        },
        "id": "7pt82kcqt9bG",
        "outputId": "ad062f4d-4fe6-4563-ec47-55ff09162a4e"
      },
      "outputs": [
        {
          "name": "stdout",
          "output_type": "stream",
          "text": [
            "dict_keys(['UUU', 'UCU', 'UAU', 'UGU', 'UUC', 'UCC', 'UAC'])\n",
            "dict_values(['F', 'S', 'Y', 'C', 'F', 'S', 'Y'])\n"
          ]
        }
      ],
      "source": [
        "codons = {\n",
        "    \"UUU\": \"F\",     # phenilalanyne\n",
        "    \"UCU\": \"S\",     # serine\n",
        "    \"UAU\": \"Y\",     # tyrosine\n",
        "    \"UGU\": \"C\",     # cysteine\n",
        "    \"UUC\": \"F\",     # phenilalanyne\n",
        "    \"UCC\": \"S\",     # serine\n",
        "    \"UAC\": \"Y\",     # tyrosine\n",
        "    # etc.\n",
        "}\n",
        "\n",
        "print(codons.keys())\n",
        "print(codons.values())"
      ]
    },
    {
      "cell_type": "markdown",
      "metadata": {
        "id": "J-Nko2aDrU0C"
      },
      "source": [
        "✍️ **Task**\n",
        "\n",
        "At the end of the semester all students have to evalaute the lecture. Write a script, that thanks all students that have given an evaluation already and remind all stundents that have yet to give an evaluation. \n",
        "\n",
        "\n",
        "*Hint*: You will need a for loop through all students and and if condition to check wheather they already have given their evaluation. Remember the `in` comparison, that worked with lists. It also works with dictionary keys or values (e.g.: `if \"UUU\" in codon.keys():`)\n",
        "\n",
        "You are given the following data:\n",
        "\n",
        "```all_student_names = ['Jen', 'Sarah','Edward', 'Phil', 'Sarah','Tom']```\n",
        "\n",
        "```evaluation_results = {\n",
        "'Jen': 1.2,\n",
        "'Sarah': 2.1,\n",
        "'Edward': 3.0,\n",
        "'Phil': 1.0,\n",
        "}```"
      ]
    },
    {
      "cell_type": "code",
      "execution_count": null,
      "metadata": {
        "colab": {
          "base_uri": "https://localhost:8080/"
        },
        "id": "oE1ZkwOQnv7_",
        "outputId": "ce943397-4204-4c41-ab06-91785970f072"
      },
      "outputs": [
        {
          "name": "stdout",
          "output_type": "stream",
          "text": [
            "Hi Jen!\n",
            "Thank You for Your evaluation!\n",
            "Hi Sarah!\n",
            "Thank You for Your evaluation!\n",
            "Hi Edward!\n",
            "Thank You for Your evaluation!\n",
            "Hi Phil!\n",
            "Thank You for Your evaluation!\n",
            "Hi Sarah!\n",
            "Thank You for Your evaluation!\n",
            "Hi Tom!\n",
            " Please make Your evaluation!\n"
          ]
        }
      ],
      "source": [
        "evaluation_results = {\n",
        "'Jen': 1.2,\n",
        "'Sarah': 2.1,\n",
        "'Edward': 3.0,\n",
        "'Phil': 1.0,\n",
        "}\n",
        "\n",
        "all_student_names = ['Jen', 'Sarah','Edward', 'Phil', 'Sarah','Tom']\n",
        "\n",
        "for name in all_student_names:\n",
        "  print(\"Hi {}!\".format(name))\n",
        "  \n",
        "  if name in evaluation_results.keys():\n",
        "    print(  \"Thank You for Your evaluation!\")\n",
        "  else: \n",
        "    print(\" Please make Your evaluation!\")"
      ]
    },
    {
      "cell_type": "markdown",
      "metadata": {
        "id": "2tT9cAIouIst"
      },
      "source": [
        "#### Looping Through a Dictionary’s Keys in Order\n",
        "\n",
        "A dictionary always maintains a clear connection between each key and\n",
        "its associated value, but you never get the items from a dictionary in any\n",
        "predictable order. That’s not a problem, because you’ll usually just want\n",
        "to obtain the correct value associated with each key.\n",
        "One way to return items in a certain order is to sort the keys as they’re\n",
        "returned in the for loop. You can use the `sorted()` function to get a copy of\n",
        "the keys in order:"
      ]
    },
    {
      "cell_type": "code",
      "execution_count": 5,
      "metadata": {
        "colab": {
          "base_uri": "https://localhost:8080/"
        },
        "id": "k24LgeGmr0tD",
        "outputId": "d4be37aa-9d33-4842-ccb5-dc5e3a81c047"
      },
      "outputs": [
        {
          "name": "stdout",
          "output_type": "stream",
          "text": [
            "Edward, thank you for taking the poll.\n",
            "Jen, thank you for taking the poll.\n",
            "Phil, thank you for taking the poll.\n",
            "Sarah, thank you for taking the poll.\n"
          ]
        }
      ],
      "source": [
        "evaluation_results = {\n",
        "'Jen': 1.2,\n",
        "'Sarah': 2.1,\n",
        "'Edward': 3.0,\n",
        "'Phil': 1.0,\n",
        "}\n",
        "for name in sorted(evaluation_results.keys()):\n",
        "  print(name.title() + \", thank you for taking the poll.\")"
      ]
    },
    {
      "cell_type": "markdown",
      "metadata": {
        "id": "zq7YZgX0u7xM"
      },
      "source": [
        "## Nesting\n",
        "\n",
        "Sometimes you’ll want to store a set of dictionaries in a list or a list of\n",
        "items as a value in a dictionary. This is called nesting. You can nest a set\n",
        "of dictionaries inside a list, a list of items inside a dictionary, or even a\n",
        "dictionary inside another dictionary. Nesting is a powerful feature, as the\n",
        "following examples will demonstrate.\n",
        "\n"
      ]
    },
    {
      "cell_type": "markdown",
      "metadata": {
        "id": "5ncmf2-1vCo0"
      },
      "source": [
        "### A List of Dictionaries\n",
        "The experiment_0 dictionary contains a variety of information about one experiment, but it has no room to store information about a second experiment, much less a screen full of experiments. How can you manage multiple experiments? One way is to\n",
        "make a list of experiments in which each experiment is a dictionary of information about that experiment. For example, the following code builds a list of three experiments:"
      ]
    },
    {
      "cell_type": "code",
      "execution_count": null,
      "metadata": {
        "colab": {
          "base_uri": "https://localhost:8080/"
        },
        "id": "PRuIQ7LDvBc9",
        "outputId": "d75d5284-331a-4eac-8c04-6c272a94797e"
      },
      "outputs": [
        {
          "name": "stdout",
          "output_type": "stream",
          "text": [
            "{'color': 'green', 'points': 5}\n",
            "{'color': 'yellow', 'points': 10}\n",
            "{'color': 'red', 'points': 15}\n"
          ]
        }
      ],
      "source": [
        "experiment_0 = {'color': 'green', 'points': 5}\n",
        "experiment_1 = {'color': 'yellow', 'points': 10}\n",
        "experiment_2 = {'color': 'red', 'points': 15}\n",
        "experiments = [experiment_0, experiment_1, experiment_2]\n",
        "for experiment in experiments:\n",
        "  print(experiment)"
      ]
    },
    {
      "cell_type": "markdown",
      "metadata": {
        "id": "KSd06Th4ud9t"
      },
      "source": [
        "✍️ **Task**\n",
        "\n",
        "Imagine creating a list of 10 experiments that all start today. They all have the same ```supervisor```, the same ```creation_date``` and and unique ```id_number``` stating with 100.\n",
        "\n",
        "- Write a loop to create the 10 experiments - each as a dictionary and store them in a list.\n",
        "- Write a second loop to show the first five experiments.\n",
        "- Print out how many experiments have been created."
      ]
    },
    {
      "cell_type": "code",
      "execution_count": null,
      "metadata": {
        "colab": {
          "base_uri": "https://localhost:8080/"
        },
        "id": "uEySuECvucrl",
        "outputId": "c7b8674c-0d6a-478d-ffa5-1de2e717e36b"
      },
      "outputs": [
        {
          "name": "stdout",
          "output_type": "stream",
          "text": [
            "{'supervisor': 'Alex', 'creation_date': '21.02.2022', 'id_number ': 100}\n",
            "{'supervisor': 'Alex', 'creation_date': '21.02.2022', 'id_number ': 101}\n",
            "{'supervisor': 'Alex', 'creation_date': '21.02.2022', 'id_number ': 102}\n",
            "{'supervisor': 'Alex', 'creation_date': '21.02.2022', 'id_number ': 103}\n",
            "Total number of experiments: 10\n"
          ]
        }
      ],
      "source": [
        "experiments = []\n",
        "\n",
        "supervisor = 'Alex'\n",
        "creation_date  = '21.02.2022'\n",
        "\n",
        "for experiment_no in range(1,11):\n",
        "  id_number = 100 + experiment_no - 1\n",
        "  new_experiment = {'supervisor': supervisor, 'creation_date': creation_date, 'id_number ': id_number}\n",
        "  experiments.append(new_experiment)\n",
        "\n",
        "for experiment in experiments[:4]:\n",
        "  print(experiment)\n",
        "\n",
        "print(\"Total number of experiments: \" + str(len(experiments)))"
      ]
    },
    {
      "cell_type": "markdown",
      "metadata": {
        "id": "zvuFz3Nuzyf5"
      },
      "source": [
        "# 🏁 Recap\n",
        "\n",
        "- If you have finished the tasks and have no questions, place the green card on top.\n",
        "- If you have finished the tasks but would like to discuss the solutions together again, place the yellow card on top.\n",
        "\n",
        "![](https://www.lokalinfo.ch/fileadmin/news_import/image003_03.jpg)"
      ]
    },
    {
      "cell_type": "markdown",
      "metadata": {
        "id": "TJHvJAQGxtcq"
      },
      "source": [
        "### A List in a Dictionary\n",
        "\n",
        "Rather than putting a dictionary inside a list, it’s sometimes useful to put a list inside a dictionary. "
      ]
    },
    {
      "cell_type": "code",
      "execution_count": null,
      "metadata": {
        "colab": {
          "base_uri": "https://localhost:8080/"
        },
        "id": "bkuj2VcBxV3S",
        "outputId": "a54accb7-6169-4a44-db57-28118c784d0d"
      },
      "outputs": [
        {
          "name": "stdout",
          "output_type": "stream",
          "text": [
            "The experiment is supervised by Alex\n",
            "\t Tom is participating.\n",
            "\t Helen is participating.\n"
          ]
        }
      ],
      "source": [
        "experiment = {\n",
        "'supervisor': 'Alex',\n",
        "'participants': ['Tom', 'Helen'],\n",
        "}\n",
        "\n",
        "print(\"The experiment is supervised by {}\".format(experiment['supervisor']))\n",
        "\n",
        "for participant in experiment['participants']:\n",
        "  print(\"\\t {} is participating.\".format(participant))"
      ]
    },
    {
      "cell_type": "markdown",
      "metadata": {
        "id": "BbfR95OlyAzC"
      },
      "source": [
        "### A Dictionary in a Dictionary\n",
        "You can nest a dictionary inside another dictionary, but your code can get complicated quickly when you do. For example, if you have several lab users for a lab, each with a unique username, you can use the usernames as the keys in a dictionary. You can then store information about each user by using a dictionary as the value associated with their username."
      ]
    },
    {
      "cell_type": "code",
      "execution_count": null,
      "metadata": {
        "colab": {
          "base_uri": "https://localhost:8080/"
        },
        "id": "UpZsO3yjx1Pk",
        "outputId": "67c49731-f1ab-44c8-88e0-bdac3aa54fa1"
      },
      "outputs": [
        {
          "name": "stdout",
          "output_type": "stream",
          "text": [
            "\n",
            "Username: aeinstein\n",
            "\tFull name: Albert Einstein\n",
            "\tLocation: MCI IV\n",
            "\n",
            "Username: mcurie\n",
            "\tFull name: Marie Curie\n",
            "\tLocation: MCI II\n"
          ]
        }
      ],
      "source": [
        "users = {\n",
        "'aeinstein': {\n",
        "'first': 'albert',\n",
        "'last': 'einstein',\n",
        "'location': 'MCI IV',\n",
        "},\n",
        "'mcurie': {\n",
        "'first': 'marie',\n",
        "'last': 'curie',\n",
        "'location': 'MCI II',\n",
        "},\n",
        "}\n",
        "\n",
        "for username, user_info in users.items():\n",
        "  print(\"\\nUsername: \" + username)\n",
        "  full_name = user_info['first'] + \" \" + user_info['last']\n",
        "  location = user_info['location']\n",
        "  print(\"\\tFull name: \" + full_name.title())\n",
        "  print(\"\\tLocation: \" + location)"
      ]
    },
    {
      "cell_type": "markdown",
      "metadata": {
        "id": "KV_L-ensyVss"
      },
      "source": [
        "## Summary\n",
        "In this chapter you learned how to define a dictionary and how to work\n",
        "with the information stored in a dictionary. You learned how to access and\n",
        "modify individual elements in a dictionary, and how to loop through all of\n",
        "the information in a dictionary. You learned to loop through a dictionary’s\n",
        "key-value pairs, its keys, and its values. You also learned how to nest multiple\n",
        "dictionaries in a list, nest lists in a dictionary, and nest a dictionary inside\n",
        "a dictionary."
      ]
    },
    {
      "cell_type": "markdown",
      "metadata": {
        "id": "fXUp4l_xz1CV"
      },
      "source": [
        "## User Input\n",
        "\n",
        "Most programs are written to solve an end\n",
        "user’s problem. To do so, you usually need\n",
        "to get some information from the user. For a\n",
        "simple example, let’s say someone wants to enter experiment results.\n",
        "\n",
        "You can store the user input in the a varible e.g., ```message```\n",
        "\n",
        "Take note, that the excution of the following lines is stopped until the user enters something."
      ]
    },
    {
      "cell_type": "code",
      "execution_count": 6,
      "metadata": {
        "colab": {
          "base_uri": "https://localhost:8080/"
        },
        "id": "cYu-CuHc0ndV",
        "outputId": "5a57c5b9-8b2a-47cc-aa92-1a5d0c29435b"
      },
      "outputs": [
        {
          "name": "stdout",
          "output_type": "stream",
          "text": [
            "Please enter the experiment results in gram: ayx\n",
            "ayx\n"
          ]
        }
      ],
      "source": [
        "message = input(\"Please enter the experiment results in gram: \")\n",
        "print(message)"
      ]
    },
    {
      "cell_type": "markdown",
      "metadata": {
        "id": "Ft73oplI2nEH"
      },
      "source": [
        "🏆 **Task**\n",
        "\n",
        "Write a script, that loops through the first two elements of list of experiments, we created before. The script should ask the user to enter the sample weight in grams and add it to the dictionary. Print the final list of experiments to check whether they contain a result."
      ]
    },
    {
      "cell_type": "code",
      "execution_count": 7,
      "metadata": {
        "colab": {
          "base_uri": "https://localhost:8080/"
        },
        "id": "0J_0sxYs0vtk",
        "outputId": "2077d7af-f04b-44b2-ef78-da338b255e10"
      },
      "outputs": [
        {
          "name": "stdout",
          "output_type": "stream",
          "text": [
            "{'supervisor': 'Alex', 'creation_date': '21.02.2022', 'id_number': 100}\n",
            "{'supervisor': 'Alex', 'creation_date': '21.02.2022', 'id_number': 101}\n",
            "{'supervisor': 'Alex', 'creation_date': '21.02.2022', 'id_number': 102}\n",
            "{'supervisor': 'Alex', 'creation_date': '21.02.2022', 'id_number': 103}\n",
            "Total number of experiments: 10\n"
          ]
        }
      ],
      "source": [
        "experiments = []\n",
        "\n",
        "supervisor = 'Alex'\n",
        "creation_date  = '21.02.2022'\n",
        "\n",
        "for experiment_no in range(1,11):\n",
        "  id_number = 100 + experiment_no - 1\n",
        "  new_experiment = {'supervisor': supervisor, 'creation_date': creation_date, 'id_number': id_number}\n",
        "  experiments.append(new_experiment)\n",
        "\n",
        "for experiment in experiments[:4]:\n",
        "  print(experiment)\n",
        "\n",
        "print(\"Total number of experiments: \" + str(len(experiments)))"
      ]
    },
    {
      "cell_type": "code",
      "execution_count": 8,
      "metadata": {
        "colab": {
          "base_uri": "https://localhost:8080/"
        },
        "id": "8I-SRHWr3Vh4",
        "outputId": "98d5b324-2ba3-4549-c43a-80478540371a"
      },
      "outputs": [
        {
          "name": "stdout",
          "output_type": "stream",
          "text": [
            "Please enter the experiment number 100 results in gram: 12\n",
            "Please enter the experiment number 101 results in gram: 123\n",
            "[{'supervisor': 'Alex', 'creation_date': '21.02.2022', 'id_number': 100, 'result_in_g': '12'}, {'supervisor': 'Alex', 'creation_date': '21.02.2022', 'id_number': 101, 'result_in_g': '123'}, {'supervisor': 'Alex', 'creation_date': '21.02.2022', 'id_number': 102}, {'supervisor': 'Alex', 'creation_date': '21.02.2022', 'id_number': 103}, {'supervisor': 'Alex', 'creation_date': '21.02.2022', 'id_number': 104}, {'supervisor': 'Alex', 'creation_date': '21.02.2022', 'id_number': 105}, {'supervisor': 'Alex', 'creation_date': '21.02.2022', 'id_number': 106}, {'supervisor': 'Alex', 'creation_date': '21.02.2022', 'id_number': 107}, {'supervisor': 'Alex', 'creation_date': '21.02.2022', 'id_number': 108}, {'supervisor': 'Alex', 'creation_date': '21.02.2022', 'id_number': 109}]\n"
          ]
        }
      ],
      "source": [
        "for experiment in experiments[:2]:\n",
        "  message = input(\"Please enter the experiment number \" + str(experiment[\"id_number\"]) +  \" results in gram: \")\n",
        "  experiment[\"result_in_g\"] = message\n",
        "print(experiments)"
      ]
    },
    {
      "cell_type": "markdown",
      "metadata": {
        "id": "yS8rcsZj5VzG"
      },
      "source": [
        "🤓 **Task**\n",
        "\n",
        "Ask the user which experiment number he/she wants to edit. Notify the user if there is no experiment with this ID. If the experiment already has a result, let him/her know. In all cases, let him/her enter a new result. \n"
      ]
    },
    {
      "cell_type": "code",
      "execution_count": 9,
      "metadata": {
        "colab": {
          "base_uri": "https://localhost:8080/"
        },
        "id": "MwVAmUnR3pj5",
        "outputId": "4accd88d-ca5f-464d-ae04-c4132914aec7"
      },
      "outputs": [
        {
          "data": {
            "text/plain": [
              "[{'supervisor': 'Alex',\n",
              "  'creation_date': '21.02.2022',\n",
              "  'id_number': 100,\n",
              "  'result_in_g': '12'},\n",
              " {'supervisor': 'Alex',\n",
              "  'creation_date': '21.02.2022',\n",
              "  'id_number': 101,\n",
              "  'result_in_g': '123'},\n",
              " {'supervisor': 'Alex', 'creation_date': '21.02.2022', 'id_number': 102},\n",
              " {'supervisor': 'Alex', 'creation_date': '21.02.2022', 'id_number': 103},\n",
              " {'supervisor': 'Alex', 'creation_date': '21.02.2022', 'id_number': 104},\n",
              " {'supervisor': 'Alex', 'creation_date': '21.02.2022', 'id_number': 105},\n",
              " {'supervisor': 'Alex', 'creation_date': '21.02.2022', 'id_number': 106},\n",
              " {'supervisor': 'Alex', 'creation_date': '21.02.2022', 'id_number': 107},\n",
              " {'supervisor': 'Alex', 'creation_date': '21.02.2022', 'id_number': 108},\n",
              " {'supervisor': 'Alex', 'creation_date': '21.02.2022', 'id_number': 109}]"
            ]
          },
          "execution_count": 9,
          "metadata": {},
          "output_type": "execute_result"
        }
      ],
      "source": [
        "experiments"
      ]
    },
    {
      "cell_type": "code",
      "execution_count": 11,
      "metadata": {
        "colab": {
          "base_uri": "https://localhost:8080/"
        },
        "id": "6WH5hyEe4BB-",
        "outputId": "2fe94981-4a15-43da-feff-24371c390d19"
      },
      "outputs": [
        {
          "name": "stdout",
          "output_type": "stream",
          "text": [
            "Please enter the experiment number You want to edit: 101\n",
            "The current result of experiment number 101 is 123 g.\n",
            "Please enter the new result in g: 23\n"
          ]
        }
      ],
      "source": [
        "experiment_to_edit = input(\"Please enter the experiment number You want to edit: \")\n",
        "\n",
        "experiment_found = False\n",
        "\n",
        "for experiment in experiments:\n",
        "  if experiment[\"id_number\"] == int(experiment_to_edit):\n",
        "    experiment_found = True\n",
        "    if \"result_in_g\" in experiment.keys():\n",
        "      print(\"The current result of experiment number {} is {} g.\".format(experiment[\"id_number\"],experiment[\"result_in_g\"]))\n",
        "    else:\n",
        "      print(\"Experiment number {} has no result yet.\".format(experiment[\"id_number\"]))      \n",
        "    new_result_in_g = input(\"Please enter the new result in g: \")\n",
        "    experiment[\"result_in_g\"] = new_result_in_g\n",
        "if experiment_found == False:\n",
        "  print(\"There is no experiment with this ID!\")"
      ]
    },
    {
      "cell_type": "markdown",
      "metadata": {
        "id": "NdhHV2WxwEWu"
      },
      "source": [
        "# 🏁 Recap\n",
        "\n",
        "- If you have finished the tasks and have no questions, place the green card on top.\n",
        "- If you have finished the tasks but would like to discuss the solutions together again, place the yellow card on top.\n",
        "\n",
        "![](https://www.lokalinfo.ch/fileadmin/news_import/image003_03.jpg)"
      ]
    },
    {
      "cell_type": "markdown",
      "metadata": {
        "id": "GO51W-WO9C6R"
      },
      "source": [
        "## 2.4.2 Dictionaries and While Loops\n",
        "\n",
        "The for loop takes a collection of items and executes a block of code once\n",
        "for each item in the collection. In contrast, the while loop runs as long as,\n",
        "or while, a certain condition is true.\n",
        "\n",
        "You can use a while loop to count up through a series of numbers. For\n",
        "example, the following while loop counts from 1 to 5:"
      ]
    },
    {
      "cell_type": "code",
      "execution_count": null,
      "metadata": {
        "colab": {
          "base_uri": "https://localhost:8080/"
        },
        "id": "3h1nGZmr6D6X",
        "outputId": "75a25403-3c50-47f5-f514-02074c3aafd9"
      },
      "outputs": [
        {
          "name": "stdout",
          "output_type": "stream",
          "text": [
            "1\n",
            "2\n",
            "3\n",
            "4\n",
            "5\n"
          ]
        }
      ],
      "source": [
        "current_number = 1\n",
        "while current_number <= 5:\n",
        "  print(current_number)\n",
        "  current_number = current_number + 1"
      ]
    },
    {
      "cell_type": "markdown",
      "metadata": {
        "id": "9-K-pfUO_CTm"
      },
      "source": [
        "### Letting the User Choose When to Quit\n",
        "We can make the parrot program run as long as the user wants by putting\n",
        "most of the program inside a while loop. We’ll define a quit value and then\n",
        "keep the program running as long as the user has not entered the quit value:"
      ]
    },
    {
      "cell_type": "code",
      "execution_count": null,
      "metadata": {
        "colab": {
          "base_uri": "https://localhost:8080/"
        },
        "id": "cLErrUWm6zrX",
        "outputId": "27eec48f-0c02-4663-85f9-135cdffa7886"
      },
      "outputs": [
        {
          "name": "stdout",
          "output_type": "stream",
          "text": [
            "\n",
            "Tell me something, and I will repeat it back to you: \n",
            "Enter 'quit' to end the program. quit\n",
            "quit\n"
          ]
        }
      ],
      "source": [
        "prompt = \"\\nTell me something, and I will repeat it back to you: \\nEnter 'quit' to end the program. \"\n",
        "\n",
        "message = \"\"\n",
        "while message != 'quit':\n",
        "  message = input(prompt)\n",
        "  print(message)"
      ]
    },
    {
      "cell_type": "markdown",
      "metadata": {
        "id": "8kQBVOdc_PPq"
      },
      "source": [
        "#### Using break to Exit a Loop\n",
        "To exit a while loop immediately without running any remaining code in the\n",
        "loop, regardless of the results of any conditional test, use the break statement.\n",
        "The break statement directs the flow of your program; you can use it to control\n",
        "which lines of code are executed and which aren’t, so the program only\n",
        "executes code that you want it to, when you want it to."
      ]
    },
    {
      "cell_type": "code",
      "execution_count": null,
      "metadata": {
        "colab": {
          "base_uri": "https://localhost:8080/"
        },
        "id": "FnlJ40ew_T_D",
        "outputId": "d5a58764-bc3a-441e-f505-836b531f5a06"
      },
      "outputs": [
        {
          "name": "stdout",
          "output_type": "stream",
          "text": [
            "\n",
            "Please enter the name of a city you have visited: \n",
            "(Enter 'quit' when you are finished.) test\n",
            "I'd love to go to Test!\n",
            "\n",
            "Please enter the name of a city you have visited: \n",
            "(Enter 'quit' when you are finished.) quit\n"
          ]
        }
      ],
      "source": [
        "prompt = \"\\nPlease enter the name of a city you have visited: \\n(Enter 'quit' when you are finished.) \"\n",
        "\n",
        "while True:\n",
        "  city = input(prompt)\n",
        "  if city == 'quit':\n",
        "    break\n",
        "  else:\n",
        "    print(\"I'd love to go to \" + city.title() + \"!\")"
      ]
    },
    {
      "cell_type": "markdown",
      "metadata": {
        "id": "RAEyMQfO_lcT"
      },
      "source": [
        "#### Using continue in a Loop\n",
        "Rather than breaking out of a loop entirely without executing the rest of its\n",
        "code, you can use the continue statement to return to the beginning of the\n",
        "loop based on the result of a conditional test. For example, consider a loop\n",
        "that counts from 1 to 10 but prints only the odd numbers in that range:"
      ]
    },
    {
      "cell_type": "code",
      "execution_count": null,
      "metadata": {
        "colab": {
          "base_uri": "https://localhost:8080/"
        },
        "id": "HcYY6xvi_o1b",
        "outputId": "4a3940db-fbbc-46c1-d859-cad1db0aadf8"
      },
      "outputs": [
        {
          "name": "stdout",
          "output_type": "stream",
          "text": [
            "1\n",
            "3\n",
            "5\n",
            "7\n",
            "9\n"
          ]
        }
      ],
      "source": [
        "current_number = 0\n",
        "while current_number < 10:\n",
        "  current_number = current_number + 1\n",
        "  if current_number % 2 == 0: # the modulo operator divides one number by another number and returns the remainder \n",
        "    continue\n",
        "  print(current_number)"
      ]
    },
    {
      "cell_type": "markdown",
      "metadata": {
        "id": "gy6e5ZNaAmA8"
      },
      "source": [
        "🏆 **Task**\n",
        "\n",
        "Write a simulation for logistic growth that evaluates the population size (starting from 1) for all time steps starting from zero and only ends if the population surpasses a closeness of $\\epsilon = 1$ to the limit (`while`!).\n",
        "\n",
        "Store the results for each time step in a list. The list should contain dictionaries that have the time step, current population size and the population growth since the last time step. \n",
        "\n",
        "\n"
      ]
    },
    {
      "cell_type": "code",
      "execution_count": 34,
      "metadata": {
        "colab": {
          "base_uri": "https://localhost:8080/"
        },
        "id": "7AKKlZTEqvhC",
        "outputId": "63db2e52-6fe7-40df-ee34-2b616e18db15"
      },
      "outputs": [
        {
          "name": "stdout",
          "output_type": "stream",
          "text": [
            "Started simulation with the following parameters: \n",
            " inital population size: 1 \n",
            " carrying capacity: 200 \n",
            " growth rate: 0.1\n"
          ]
        }
      ],
      "source": [
        "# importing the math library\n",
        "import math\n",
        "\n",
        "t = 0\n",
        "epsilon = 1\n",
        "\n",
        "# here the user can define the input\n",
        "initial_population_size = 1\n",
        "population_size = 1\n",
        "carrying_capacity = 200\n",
        "growth_rate = 0.1\n",
        "\n",
        "results = []\n",
        "\n",
        "print(\"Started simulation with the following parameters: \\n inital population size: {} \\n carrying capacity: {} \\n growth rate: {}\".format(initial_population_size, carrying_capacity, growth_rate))\n"
      ]
    },
    {
      "cell_type": "code",
      "execution_count": 35,
      "metadata": {
        "colab": {
          "base_uri": "https://localhost:8080/"
        },
        "id": "ldd7GgbgYWu0",
        "outputId": "fd53ac22-cd57-4dfd-9591-bc0f652fe3b9"
      },
      "outputs": [
        {
          "name": "stdout",
          "output_type": "stream",
          "text": [
            "The population after 0 time steps is 1.00\n",
            "The population after 1 time steps is 1.10\n",
            "The population after 2 time steps is 1.22\n",
            "The population after 3 time steps is 1.35\n",
            "The population after 4 time steps is 1.49\n",
            "The population after 5 time steps is 1.64\n",
            "The population after 6 time steps is 1.81\n",
            "The population after 7 time steps is 2.00\n",
            "The population after 8 time steps is 2.21\n",
            "The population after 9 time steps is 2.44\n",
            "The population after 10 time steps is 2.70\n",
            "The population after 11 time steps is 2.97\n",
            "The population after 12 time steps is 3.28\n",
            "The population after 13 time steps is 3.62\n",
            "The population after 14 time steps is 3.99\n",
            "The population after 15 time steps is 4.41\n",
            "The population after 16 time steps is 4.86\n",
            "The population after 17 time steps is 5.35\n",
            "The population after 18 time steps is 5.90\n",
            "The population after 19 time steps is 6.50\n",
            "The population after 20 time steps is 7.16\n",
            "The population after 21 time steps is 7.88\n",
            "The population after 22 time steps is 8.68\n",
            "The population after 23 time steps is 9.55\n",
            "The population after 24 time steps is 10.50\n",
            "The population after 25 time steps is 11.54\n",
            "The population after 26 time steps is 12.67\n",
            "The population after 27 time steps is 13.91\n",
            "The population after 28 time steps is 15.27\n",
            "The population after 29 time steps is 16.74\n",
            "The population after 30 time steps is 18.34\n",
            "The population after 31 time steps is 20.07\n",
            "The population after 32 time steps is 21.95\n",
            "The population after 33 time steps is 23.98\n",
            "The population after 34 time steps is 26.17\n",
            "The population after 35 time steps is 28.53\n",
            "The population after 36 time steps is 31.07\n",
            "The population after 37 time steps is 33.78\n",
            "The population after 38 time steps is 36.69\n",
            "The population after 39 time steps is 39.78\n",
            "The population after 40 time steps is 43.06\n",
            "The population after 41 time steps is 46.53\n",
            "The population after 42 time steps is 50.20\n",
            "The population after 43 time steps is 54.05\n",
            "The population after 44 time steps is 58.09\n",
            "The population after 45 time steps is 62.29\n",
            "The population after 46 time steps is 66.66\n",
            "The population after 47 time steps is 71.18\n",
            "The population after 48 time steps is 75.82\n",
            "The population after 49 time steps is 80.58\n",
            "The population after 50 time steps is 85.44\n",
            "The population after 51 time steps is 90.36\n",
            "The population after 52 time steps is 95.34\n",
            "The population after 53 time steps is 100.33\n",
            "The population after 54 time steps is 105.33\n",
            "The population after 55 time steps is 110.30\n",
            "The population after 56 time steps is 115.22\n",
            "The population after 57 time steps is 120.06\n",
            "The population after 58 time steps is 124.81\n",
            "The population after 59 time steps is 129.44\n",
            "The population after 60 time steps is 133.93\n",
            "The population after 61 time steps is 138.28\n",
            "The population after 62 time steps is 142.46\n",
            "The population after 63 time steps is 146.47\n",
            "The population after 64 time steps is 150.30\n",
            "The population after 65 time steps is 153.94\n",
            "The population after 66 time steps is 157.39\n",
            "The population after 67 time steps is 160.65\n",
            "The population after 68 time steps is 163.71\n",
            "The population after 69 time steps is 166.59\n",
            "The population after 70 time steps is 169.28\n",
            "The population after 71 time steps is 171.79\n",
            "The population after 72 time steps is 174.13\n",
            "The population after 73 time steps is 176.30\n",
            "The population after 74 time steps is 178.31\n",
            "The population after 75 time steps is 180.17\n",
            "The population after 76 time steps is 181.89\n",
            "The population after 77 time steps is 183.47\n",
            "The population after 78 time steps is 184.92\n",
            "The population after 79 time steps is 186.26\n",
            "The population after 80 time steps is 187.48\n",
            "The population after 81 time steps is 188.61\n",
            "The population after 82 time steps is 189.64\n",
            "The population after 83 time steps is 190.58\n",
            "The population after 84 time steps is 191.43\n",
            "The population after 85 time steps is 192.22\n",
            "The population after 86 time steps is 192.93\n",
            "The population after 87 time steps is 193.58\n",
            "The population after 88 time steps is 194.18\n",
            "The population after 89 time steps is 194.72\n",
            "The population after 90 time steps is 195.21\n",
            "The population after 91 time steps is 195.65\n",
            "The population after 92 time steps is 196.06\n",
            "The population after 93 time steps is 196.43\n",
            "The population after 94 time steps is 196.76\n",
            "The population after 95 time steps is 197.06\n",
            "The population after 96 time steps is 197.34\n",
            "The population after 97 time steps is 197.59\n",
            "The population after 98 time steps is 197.82\n",
            "The population after 99 time steps is 198.02\n",
            "The population after 100 time steps is 198.21\n",
            "The population after 101 time steps is 198.38\n",
            "The population after 102 time steps is 198.53\n",
            "The population after 103 time steps is 198.67\n",
            "The population after 104 time steps is 198.80\n",
            "The population after 105 time steps is 198.91\n",
            "The population after 106 time steps is 199.01\n"
          ]
        }
      ],
      "source": [
        "while population_size + epsilon  < carrying_capacity:\n",
        "\n",
        "  last_population_size = population_size\n",
        "\n",
        "  population_size = carrying_capacity / (1+((carrying_capacity - initial_population_size)/initial_population_size) * math.exp(- growth_rate*t))\n",
        "\n",
        "  growth = population_size - last_population_size\n",
        "\n",
        "  print(\"The population after {0} time steps is {1:.2f}\".format(t, population_size))\n",
        "\n",
        "  t = t + 1  \n",
        "\n",
        "  new_result = {\"Time step\" : t, \"Population size\" : population_size, \"Growth\" : growth}\n",
        "  results.append(new_result)\n"
      ]
    },
    {
      "cell_type": "code",
      "execution_count": 44,
      "metadata": {
        "colab": {
          "base_uri": "https://localhost:8080/"
        },
        "id": "_AEYtyLfarYB",
        "outputId": "3fcc4cb6-d37f-4826-b2a2-9fd3e0b90f7e"
      },
      "outputs": [
        {
          "data": {
            "text/plain": [
              "{'Time step': 55,\n",
              " 'Population size': 105.32970367257778,\n",
              " 'Growth': 4.994946159270597}"
            ]
          },
          "execution_count": 44,
          "metadata": {},
          "output_type": "execute_result"
        }
      ],
      "source": [
        "results[54]"
      ]
    },
    {
      "cell_type": "markdown",
      "metadata": {
        "id": "Em0eM9z_AxGP"
      },
      "source": [
        "🏆 **Task** Find the time step with the maximum growth in population by looping through the results.\n",
        "\n"
      ]
    },
    {
      "cell_type": "code",
      "execution_count": 40,
      "metadata": {
        "colab": {
          "base_uri": "https://localhost:8080/"
        },
        "id": "pMVVvMo7bOGl",
        "outputId": "589febea-aeec-4d19-f8c7-88d3e657a275"
      },
      "outputs": [
        {
          "name": "stdout",
          "output_type": "stream",
          "text": [
            "In time step 55 the yield is 4.994946159270597. After that, it starts to decline.\n"
          ]
        }
      ],
      "source": [
        "growth_before  = 0\n",
        "\n",
        "for result in results:\n",
        "  if result[\"Growth\"] < growth_before:\n",
        "    print(\"In time step {} the yield is {}. After that, it starts to decline.\".format(result[\"Time step\"],result[\"Growth\"]))\n",
        "    break\n",
        "  growth_before = result[\"Growth\"]"
      ]
    },
    {
      "cell_type": "markdown",
      "metadata": {
        "id": "dlDhYE7rwIe-"
      },
      "source": [
        "# 🏁 Recap\n",
        "\n",
        "- If you have finished the tasks and have no questions, place the green card on top.\n",
        "- If you have finished the tasks but would like to discuss the solutions together again, place the yellow card on top.\n",
        "\n",
        "![](https://www.lokalinfo.ch/fileadmin/news_import/image003_03.jpg)"
      ]
    }
  ],
  "metadata": {
    "colab": {
      "collapsed_sections": [],
      "provenance": [],
      "toc_visible": true
    },
    "kernelspec": {
      "display_name": "Python 3.8.8 ('base')",
      "language": "python",
      "name": "python3"
    },
    "language_info": {
      "name": "python",
      "version": "3.8.8"
    },
    "vscode": {
      "interpreter": {
        "hash": "91b5df634ae01e052c095f84ce6ac57f1bf815a7c386b368c11e7051e1049005"
      }
    }
  },
  "nbformat": 4,
  "nbformat_minor": 0
}

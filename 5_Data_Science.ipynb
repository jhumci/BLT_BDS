{
  "cells": [
    {
      "cell_type": "markdown",
      "metadata": {
        "id": "p7lSwhSG9XWT"
      },
      "source": [
        "<table style=\"width: 100%\">\n",
        "    <tr style=\"background: #ffffff\">\n",
        "        <td style=\"padding-top:25px;width: 180px\"><img src=\"https://mci.edu/templates/mci/images/logo.svg\" alt=\"Logo\"></td>\n",
        "        <td style=\"width: 100%\">\n",
        "            <div style=\"text-align:right; width: 100%; text-align:right\"><font style=\"font-size:38px\"><b>Data Science</b></font></div>\n",
        "            <div style=\"padding-top:0px; width: 100%; text-align:right\"><font size=\"4\"><b>WS 2022</b></font></div>\n",
        "        </td>\n",
        "    </tr>\n",
        "</table>\n",
        "\n",
        "---\n",
        "\n",
        "# 5 Cross-Validation and Model Selection\n",
        "\n",
        "In this session we revist the penguin data set from last week. We still know, that there are no serious outliers, but some missing values. So we start by removing observations with missing values.\n",
        "\n"
      ]
    },
    {
      "cell_type": "code",
      "execution_count": 1,
      "metadata": {
        "colab": {
          "base_uri": "https://localhost:8080/",
          "height": 423
        },
        "id": "PQzRxZ4yooSG",
        "outputId": "0d741ddb-b5ce-4afa-aa2d-8ca04a8de10e"
      },
      "outputs": [
        {
          "data": {
            "text/html": [
              "<div>\n",
              "<style scoped>\n",
              "    .dataframe tbody tr th:only-of-type {\n",
              "        vertical-align: middle;\n",
              "    }\n",
              "\n",
              "    .dataframe tbody tr th {\n",
              "        vertical-align: top;\n",
              "    }\n",
              "\n",
              "    .dataframe thead th {\n",
              "        text-align: right;\n",
              "    }\n",
              "</style>\n",
              "<table border=\"1\" class=\"dataframe\">\n",
              "  <thead>\n",
              "    <tr style=\"text-align: right;\">\n",
              "      <th></th>\n",
              "      <th>species</th>\n",
              "      <th>island</th>\n",
              "      <th>bill_length_mm</th>\n",
              "      <th>bill_depth_mm</th>\n",
              "      <th>flipper_length_mm</th>\n",
              "      <th>body_mass_g</th>\n",
              "      <th>sex</th>\n",
              "    </tr>\n",
              "  </thead>\n",
              "  <tbody>\n",
              "    <tr>\n",
              "      <th>0</th>\n",
              "      <td>Adelie</td>\n",
              "      <td>Torgersen</td>\n",
              "      <td>39.1</td>\n",
              "      <td>18.7</td>\n",
              "      <td>181.0</td>\n",
              "      <td>3750.0</td>\n",
              "      <td>Male</td>\n",
              "    </tr>\n",
              "    <tr>\n",
              "      <th>1</th>\n",
              "      <td>Adelie</td>\n",
              "      <td>Torgersen</td>\n",
              "      <td>39.5</td>\n",
              "      <td>17.4</td>\n",
              "      <td>186.0</td>\n",
              "      <td>3800.0</td>\n",
              "      <td>Female</td>\n",
              "    </tr>\n",
              "    <tr>\n",
              "      <th>2</th>\n",
              "      <td>Adelie</td>\n",
              "      <td>Torgersen</td>\n",
              "      <td>40.3</td>\n",
              "      <td>18.0</td>\n",
              "      <td>195.0</td>\n",
              "      <td>3250.0</td>\n",
              "      <td>Female</td>\n",
              "    </tr>\n",
              "    <tr>\n",
              "      <th>4</th>\n",
              "      <td>Adelie</td>\n",
              "      <td>Torgersen</td>\n",
              "      <td>36.7</td>\n",
              "      <td>19.3</td>\n",
              "      <td>193.0</td>\n",
              "      <td>3450.0</td>\n",
              "      <td>Female</td>\n",
              "    </tr>\n",
              "    <tr>\n",
              "      <th>5</th>\n",
              "      <td>Adelie</td>\n",
              "      <td>Torgersen</td>\n",
              "      <td>39.3</td>\n",
              "      <td>20.6</td>\n",
              "      <td>190.0</td>\n",
              "      <td>3650.0</td>\n",
              "      <td>Male</td>\n",
              "    </tr>\n",
              "    <tr>\n",
              "      <th>...</th>\n",
              "      <td>...</td>\n",
              "      <td>...</td>\n",
              "      <td>...</td>\n",
              "      <td>...</td>\n",
              "      <td>...</td>\n",
              "      <td>...</td>\n",
              "      <td>...</td>\n",
              "    </tr>\n",
              "    <tr>\n",
              "      <th>338</th>\n",
              "      <td>Gentoo</td>\n",
              "      <td>Biscoe</td>\n",
              "      <td>47.2</td>\n",
              "      <td>13.7</td>\n",
              "      <td>214.0</td>\n",
              "      <td>4925.0</td>\n",
              "      <td>Female</td>\n",
              "    </tr>\n",
              "    <tr>\n",
              "      <th>340</th>\n",
              "      <td>Gentoo</td>\n",
              "      <td>Biscoe</td>\n",
              "      <td>46.8</td>\n",
              "      <td>14.3</td>\n",
              "      <td>215.0</td>\n",
              "      <td>4850.0</td>\n",
              "      <td>Female</td>\n",
              "    </tr>\n",
              "    <tr>\n",
              "      <th>341</th>\n",
              "      <td>Gentoo</td>\n",
              "      <td>Biscoe</td>\n",
              "      <td>50.4</td>\n",
              "      <td>15.7</td>\n",
              "      <td>222.0</td>\n",
              "      <td>5750.0</td>\n",
              "      <td>Male</td>\n",
              "    </tr>\n",
              "    <tr>\n",
              "      <th>342</th>\n",
              "      <td>Gentoo</td>\n",
              "      <td>Biscoe</td>\n",
              "      <td>45.2</td>\n",
              "      <td>14.8</td>\n",
              "      <td>212.0</td>\n",
              "      <td>5200.0</td>\n",
              "      <td>Female</td>\n",
              "    </tr>\n",
              "    <tr>\n",
              "      <th>343</th>\n",
              "      <td>Gentoo</td>\n",
              "      <td>Biscoe</td>\n",
              "      <td>49.9</td>\n",
              "      <td>16.1</td>\n",
              "      <td>213.0</td>\n",
              "      <td>5400.0</td>\n",
              "      <td>Male</td>\n",
              "    </tr>\n",
              "  </tbody>\n",
              "</table>\n",
              "<p>333 rows × 7 columns</p>\n",
              "</div>"
            ],
            "text/plain": [
              "    species     island  bill_length_mm  bill_depth_mm  flipper_length_mm  \\\n",
              "0    Adelie  Torgersen            39.1           18.7              181.0   \n",
              "1    Adelie  Torgersen            39.5           17.4              186.0   \n",
              "2    Adelie  Torgersen            40.3           18.0              195.0   \n",
              "4    Adelie  Torgersen            36.7           19.3              193.0   \n",
              "5    Adelie  Torgersen            39.3           20.6              190.0   \n",
              "..      ...        ...             ...            ...                ...   \n",
              "338  Gentoo     Biscoe            47.2           13.7              214.0   \n",
              "340  Gentoo     Biscoe            46.8           14.3              215.0   \n",
              "341  Gentoo     Biscoe            50.4           15.7              222.0   \n",
              "342  Gentoo     Biscoe            45.2           14.8              212.0   \n",
              "343  Gentoo     Biscoe            49.9           16.1              213.0   \n",
              "\n",
              "     body_mass_g     sex  \n",
              "0         3750.0    Male  \n",
              "1         3800.0  Female  \n",
              "2         3250.0  Female  \n",
              "4         3450.0  Female  \n",
              "5         3650.0    Male  \n",
              "..           ...     ...  \n",
              "338       4925.0  Female  \n",
              "340       4850.0  Female  \n",
              "341       5750.0    Male  \n",
              "342       5200.0  Female  \n",
              "343       5400.0    Male  \n",
              "\n",
              "[333 rows x 7 columns]"
            ]
          },
          "execution_count": 1,
          "metadata": {},
          "output_type": "execute_result"
        }
      ],
      "source": [
        "import seaborn as sns\n",
        "import pandas as pd\n",
        "\n",
        "penguins = sns.load_dataset(\"penguins\")\n",
        "penguins = penguins.dropna()\n",
        "penguins"
      ]
    },
    {
      "cell_type": "markdown",
      "metadata": {
        "id": "v9qIT5uYBaEw"
      },
      "source": [
        "## 5.1 Resampling / Cross Validation\n",
        "\n",
        "In the first part, we will take the pratical approach an cut a random test-set from the data and perform a k-fold cross-validation on the remaining data.\n"
      ]
    },
    {
      "cell_type": "markdown",
      "metadata": {
        "id": "0p14eGp-lP60"
      },
      "source": [
        "## Data preparation\n",
        "\n",
        "Frist, we create binary dummy variables for species, island and sex and remove the original variables from the data set"
      ]
    },
    {
      "cell_type": "code",
      "execution_count": 2,
      "metadata": {
        "colab": {
          "base_uri": "https://localhost:8080/",
          "height": 423
        },
        "id": "B89bw7J7lPes",
        "outputId": "6e4af6d2-e876-417e-a3c9-a24ae64db817"
      },
      "outputs": [
        {
          "data": {
            "text/html": [
              "<div>\n",
              "<style scoped>\n",
              "    .dataframe tbody tr th:only-of-type {\n",
              "        vertical-align: middle;\n",
              "    }\n",
              "\n",
              "    .dataframe tbody tr th {\n",
              "        vertical-align: top;\n",
              "    }\n",
              "\n",
              "    .dataframe thead th {\n",
              "        text-align: right;\n",
              "    }\n",
              "</style>\n",
              "<table border=\"1\" class=\"dataframe\">\n",
              "  <thead>\n",
              "    <tr style=\"text-align: right;\">\n",
              "      <th></th>\n",
              "      <th>bill_length_mm</th>\n",
              "      <th>bill_depth_mm</th>\n",
              "      <th>flipper_length_mm</th>\n",
              "      <th>body_mass_g</th>\n",
              "      <th>isAdelie</th>\n",
              "      <th>isGentoo</th>\n",
              "      <th>fromTorgersen</th>\n",
              "      <th>fromBiscoe</th>\n",
              "      <th>isFemale</th>\n",
              "    </tr>\n",
              "  </thead>\n",
              "  <tbody>\n",
              "    <tr>\n",
              "      <th>0</th>\n",
              "      <td>39.1</td>\n",
              "      <td>18.7</td>\n",
              "      <td>181.0</td>\n",
              "      <td>3750.0</td>\n",
              "      <td>True</td>\n",
              "      <td>False</td>\n",
              "      <td>True</td>\n",
              "      <td>False</td>\n",
              "      <td>False</td>\n",
              "    </tr>\n",
              "    <tr>\n",
              "      <th>1</th>\n",
              "      <td>39.5</td>\n",
              "      <td>17.4</td>\n",
              "      <td>186.0</td>\n",
              "      <td>3800.0</td>\n",
              "      <td>True</td>\n",
              "      <td>False</td>\n",
              "      <td>True</td>\n",
              "      <td>False</td>\n",
              "      <td>True</td>\n",
              "    </tr>\n",
              "    <tr>\n",
              "      <th>2</th>\n",
              "      <td>40.3</td>\n",
              "      <td>18.0</td>\n",
              "      <td>195.0</td>\n",
              "      <td>3250.0</td>\n",
              "      <td>True</td>\n",
              "      <td>False</td>\n",
              "      <td>True</td>\n",
              "      <td>False</td>\n",
              "      <td>True</td>\n",
              "    </tr>\n",
              "    <tr>\n",
              "      <th>4</th>\n",
              "      <td>36.7</td>\n",
              "      <td>19.3</td>\n",
              "      <td>193.0</td>\n",
              "      <td>3450.0</td>\n",
              "      <td>True</td>\n",
              "      <td>False</td>\n",
              "      <td>True</td>\n",
              "      <td>False</td>\n",
              "      <td>True</td>\n",
              "    </tr>\n",
              "    <tr>\n",
              "      <th>5</th>\n",
              "      <td>39.3</td>\n",
              "      <td>20.6</td>\n",
              "      <td>190.0</td>\n",
              "      <td>3650.0</td>\n",
              "      <td>True</td>\n",
              "      <td>False</td>\n",
              "      <td>True</td>\n",
              "      <td>False</td>\n",
              "      <td>False</td>\n",
              "    </tr>\n",
              "    <tr>\n",
              "      <th>...</th>\n",
              "      <td>...</td>\n",
              "      <td>...</td>\n",
              "      <td>...</td>\n",
              "      <td>...</td>\n",
              "      <td>...</td>\n",
              "      <td>...</td>\n",
              "      <td>...</td>\n",
              "      <td>...</td>\n",
              "      <td>...</td>\n",
              "    </tr>\n",
              "    <tr>\n",
              "      <th>338</th>\n",
              "      <td>47.2</td>\n",
              "      <td>13.7</td>\n",
              "      <td>214.0</td>\n",
              "      <td>4925.0</td>\n",
              "      <td>False</td>\n",
              "      <td>True</td>\n",
              "      <td>False</td>\n",
              "      <td>True</td>\n",
              "      <td>True</td>\n",
              "    </tr>\n",
              "    <tr>\n",
              "      <th>340</th>\n",
              "      <td>46.8</td>\n",
              "      <td>14.3</td>\n",
              "      <td>215.0</td>\n",
              "      <td>4850.0</td>\n",
              "      <td>False</td>\n",
              "      <td>True</td>\n",
              "      <td>False</td>\n",
              "      <td>True</td>\n",
              "      <td>True</td>\n",
              "    </tr>\n",
              "    <tr>\n",
              "      <th>341</th>\n",
              "      <td>50.4</td>\n",
              "      <td>15.7</td>\n",
              "      <td>222.0</td>\n",
              "      <td>5750.0</td>\n",
              "      <td>False</td>\n",
              "      <td>True</td>\n",
              "      <td>False</td>\n",
              "      <td>True</td>\n",
              "      <td>False</td>\n",
              "    </tr>\n",
              "    <tr>\n",
              "      <th>342</th>\n",
              "      <td>45.2</td>\n",
              "      <td>14.8</td>\n",
              "      <td>212.0</td>\n",
              "      <td>5200.0</td>\n",
              "      <td>False</td>\n",
              "      <td>True</td>\n",
              "      <td>False</td>\n",
              "      <td>True</td>\n",
              "      <td>True</td>\n",
              "    </tr>\n",
              "    <tr>\n",
              "      <th>343</th>\n",
              "      <td>49.9</td>\n",
              "      <td>16.1</td>\n",
              "      <td>213.0</td>\n",
              "      <td>5400.0</td>\n",
              "      <td>False</td>\n",
              "      <td>True</td>\n",
              "      <td>False</td>\n",
              "      <td>True</td>\n",
              "      <td>False</td>\n",
              "    </tr>\n",
              "  </tbody>\n",
              "</table>\n",
              "<p>333 rows × 9 columns</p>\n",
              "</div>"
            ],
            "text/plain": [
              "     bill_length_mm  bill_depth_mm  flipper_length_mm  body_mass_g  isAdelie  \\\n",
              "0              39.1           18.7              181.0       3750.0      True   \n",
              "1              39.5           17.4              186.0       3800.0      True   \n",
              "2              40.3           18.0              195.0       3250.0      True   \n",
              "4              36.7           19.3              193.0       3450.0      True   \n",
              "5              39.3           20.6              190.0       3650.0      True   \n",
              "..              ...            ...                ...          ...       ...   \n",
              "338            47.2           13.7              214.0       4925.0     False   \n",
              "340            46.8           14.3              215.0       4850.0     False   \n",
              "341            50.4           15.7              222.0       5750.0     False   \n",
              "342            45.2           14.8              212.0       5200.0     False   \n",
              "343            49.9           16.1              213.0       5400.0     False   \n",
              "\n",
              "     isGentoo  fromTorgersen  fromBiscoe  isFemale  \n",
              "0       False           True       False     False  \n",
              "1       False           True       False      True  \n",
              "2       False           True       False      True  \n",
              "4       False           True       False      True  \n",
              "5       False           True       False     False  \n",
              "..        ...            ...         ...       ...  \n",
              "338      True          False        True      True  \n",
              "340      True          False        True      True  \n",
              "341      True          False        True     False  \n",
              "342      True          False        True      True  \n",
              "343      True          False        True     False  \n",
              "\n",
              "[333 rows x 9 columns]"
            ]
          },
          "execution_count": 2,
          "metadata": {},
          "output_type": "execute_result"
        }
      ],
      "source": [
        "penguins_cleaned = penguins.dropna()\n",
        "penguins_cleaned\n",
        "\n",
        "penguins_cleaned[\"isAdelie\"] = False\n",
        "penguins_cleaned[\"isGentoo\"] = False\n",
        "penguins_cleaned.loc[:][\"isAdelie\"] = penguins_cleaned[\"species\"]==\"Adelie\"\n",
        "penguins_cleaned.loc[:][\"isGentoo\"] = penguins_cleaned[\"species\"]==\"Gentoo\"\n",
        "penguins_cleaned[\"island\"].unique()\n",
        "\n",
        "penguins_cleaned[\"fromTorgersen\"] = False\n",
        "penguins_cleaned[\"fromBiscoe\"] = False\n",
        "penguins_cleaned.loc[:][\"fromTorgersen\"] = penguins_cleaned[\"island\"]==\"Torgersen\"\n",
        "penguins_cleaned.loc[:][\"fromBiscoe\"] = penguins_cleaned[\"island\"]==\"Biscoe\"\n",
        "\n",
        "penguins_cleaned[\"isFemale\"] = penguins_cleaned[\"sex\"]==\"Female\"\n",
        "penguins_cleaned\n",
        "\n",
        "penguins_cleaned.drop([\"species\", \"island\",\"sex\"], axis = 1)"
      ]
    },
    {
      "cell_type": "markdown",
      "metadata": {
        "id": "TvsvqCqVmyuu"
      },
      "source": [
        "### Creating a test set\n",
        "\n",
        "The sklearn model provides us [ready-to-use functions](https://scikit-learn.org/stable/modules/cross_validation.html) for splitting the data.\n",
        "\n",
        "First, we use the ```train_test_split()``` function to create an hold-out test set from the original data. We pass the dataframe and test set size as the main parameters. We also ensure, that the data is suffled and set a random state (seed) for preproducibility."
      ]
    },
    {
      "cell_type": "code",
      "execution_count": 3,
      "metadata": {
        "colab": {
          "base_uri": "https://localhost:8080/"
        },
        "id": "TLSH3xr7lYTk",
        "outputId": "d7fb0e1c-847f-4c7d-fc48-cfa78f063eb6"
      },
      "outputs": [
        {
          "name": "stdout",
          "output_type": "stream",
          "text": [
            "The original data has 333 observations.\n",
            "-- 283 are in the training and validation set.\n",
            "-- 50 are in the test set.\n"
          ]
        }
      ],
      "source": [
        "import numpy as np\n",
        "from sklearn.model_selection import train_test_split\n",
        "\n",
        "training_and_validation, test = train_test_split(penguins_cleaned, test_size=0.15, shuffle = True, random_state=1)\n",
        "\n",
        "print(\"The original data has {} observations.\".format(penguins_cleaned.shape[0]))\n",
        "print(\"-- {} are in the training and validation set.\".format(training_and_validation.shape[0]))\n",
        "print(\"-- {} are in the test set.\".format(test.shape[0]))"
      ]
    },
    {
      "cell_type": "markdown",
      "metadata": {
        "id": "UvAsYeQ6qN3r"
      },
      "source": [
        "### Implementing k-fold\n",
        "\n",
        "Here, we omit the shuffling, to ensure different data in each fold. In this way, it is easier to see how the data is split. Without any randomness, we also do not have to set a seed.\n",
        "\n",
        "Be aware, that this function does not return the DataFrame itself, but the indicies of the training and validation set in the original data set (`training_and_validation`)."
      ]
    },
    {
      "cell_type": "code",
      "execution_count": 4,
      "metadata": {
        "colab": {
          "base_uri": "https://localhost:8080/"
        },
        "id": "jNvdwp7Jz3nB",
        "outputId": "2c1ade0c-728e-413b-c546-3a96377a76fe"
      },
      "outputs": [
        {
          "name": "stdout",
          "output_type": "stream",
          "text": [
            "This is fold  number 1. We stored the indicies of the training and validation set of the fold.\n",
            "The following indicies are in the validation set:\n",
            "[ 0  1  2  3  4  5  6  7  8  9 10 11 12 13 14 15 16 17 18 19 20 21 22 23\n",
            " 24 25 26 27 28 29 30 31 32 33 34 35 36 37 38 39 40 41 42 43 44 45 46 47\n",
            " 48 49 50 51 52 53 54 55 56]\n",
            "\n",
            "\n",
            "This is fold  number 2. We stored the indicies of the training and validation set of the fold.\n",
            "The following indicies are in the validation set:\n",
            "[ 57  58  59  60  61  62  63  64  65  66  67  68  69  70  71  72  73  74\n",
            "  75  76  77  78  79  80  81  82  83  84  85  86  87  88  89  90  91  92\n",
            "  93  94  95  96  97  98  99 100 101 102 103 104 105 106 107 108 109 110\n",
            " 111 112 113]\n",
            "\n",
            "\n",
            "This is fold  number 3. We stored the indicies of the training and validation set of the fold.\n",
            "The following indicies are in the validation set:\n",
            "[114 115 116 117 118 119 120 121 122 123 124 125 126 127 128 129 130 131\n",
            " 132 133 134 135 136 137 138 139 140 141 142 143 144 145 146 147 148 149\n",
            " 150 151 152 153 154 155 156 157 158 159 160 161 162 163 164 165 166 167\n",
            " 168 169 170]\n",
            "\n",
            "\n",
            "This is fold  number 4. We stored the indicies of the training and validation set of the fold.\n",
            "The following indicies are in the validation set:\n",
            "[171 172 173 174 175 176 177 178 179 180 181 182 183 184 185 186 187 188\n",
            " 189 190 191 192 193 194 195 196 197 198 199 200 201 202 203 204 205 206\n",
            " 207 208 209 210 211 212 213 214 215 216 217 218 219 220 221 222 223 224\n",
            " 225 226]\n",
            "\n",
            "\n",
            "This is fold  number 5. We stored the indicies of the training and validation set of the fold.\n",
            "The following indicies are in the validation set:\n",
            "[227 228 229 230 231 232 233 234 235 236 237 238 239 240 241 242 243 244\n",
            " 245 246 247 248 249 250 251 252 253 254 255 256 257 258 259 260 261 262\n",
            " 263 264 265 266 267 268 269 270 271 272 273 274 275 276 277 278 279 280\n",
            " 281 282]\n",
            "\n",
            "\n"
          ]
        }
      ],
      "source": [
        "from sklearn.model_selection import KFold\n",
        "\n",
        "# Creating the k-fold object with 5 folds\n",
        "kf = KFold(n_splits=5)\n",
        "\n",
        "# Implementing a counter\n",
        "fold = 0\n",
        "\n",
        "# looping over the splits of the k-fold object\n",
        "for train_index, validation_index in kf.split(training_and_validation):\n",
        "\n",
        "    fold = fold + 1\n",
        "\n",
        "    print(\"This is fold  number {}. We stored the indicies of the training and validation set of the fold.\".format(fold))\n",
        "    print(\"The following indicies are in the validation set:\")\n",
        "    print(validation_index)\n",
        "    print(\"\\n\")\n",
        "\n"
      ]
    },
    {
      "cell_type": "markdown",
      "metadata": {
        "id": "0hY7ZgXFzwPI"
      },
      "source": [
        "## Bringing it all together\n",
        "\n",
        "Next, we use the sets, we created to train different models. We start with an simple example, where we only analyze one model with all possible predictors.\n",
        "\n",
        "We start by creating a data structre, to store the results of the experiment. For each fold and earch model, we want to store the data set, we used, the error we made, the predictors and the number of predictors. We also want to store an individual number for each model."
      ]
    },
    {
      "cell_type": "code",
      "execution_count": 5,
      "metadata": {
        "id": "V7rNQCWauGJd"
      },
      "outputs": [],
      "source": [
        "# Here we just prepare the data structure to store the results\n",
        "import pandas as pd\n",
        "\n",
        "columns=[\"fold\", \"data_set\", \"MSE\", \"predictors\" ,\"number_of_predictors\", \"model_number\"]"
      ]
    },
    {
      "cell_type": "markdown",
      "metadata": {
        "id": "YTZMztX71Gu7"
      },
      "source": [
        "### Training with Cross-Validation"
      ]
    },
    {
      "cell_type": "code",
      "execution_count": 6,
      "metadata": {
        "id": "GaSIiCutnTvW"
      },
      "outputs": [],
      "source": [
        "from sklearn.model_selection import KFold\n",
        "from sklearn.linear_model import LinearRegression\n",
        "\n",
        "# The kFold Split\n",
        "kf = KFold(n_splits=5)\n",
        "\n",
        "# An empty list to store the results\n",
        "results = []\n",
        "\n",
        "# The full list of possible predictors\n",
        "list_of_predictors = ['bill_length_mm', 'bill_depth_mm','flipper_length_mm', 'isAdelie', 'isGentoo','fromTorgersen',\t'fromBiscoe',\t'isFemale']\n",
        "\n",
        "# We call the first fold 0 and the first model 1\n",
        "# We will increment this in the loop\n",
        "fold = 0\n",
        "model_number = 1\n",
        "\n",
        "# Loop over the five fold, we created\n",
        "for train_index, validation_index in kf.split(training_and_validation):\n",
        "\n",
        "    fold = fold + 1\n",
        "\n",
        "    # Defining the predicted variable y and predictor X\n",
        "    X_train = training_and_validation.iloc[train_index][list_of_predictors]\n",
        "    y_train = training_and_validation.iloc[train_index][[\"body_mass_g\"]]\n",
        "\n",
        "\n",
        "    # Define, that we want to take a linear regression as a model f\n",
        "    reg = LinearRegression()\n",
        "\n",
        "    # Fitting Simple Linear Regression to the test set\n",
        "    reg.fit(X_train, y_train)\n",
        "\n",
        "    # Make prediction on the validation set\n",
        "    X_validate = training_and_validation.iloc[validation_index][list_of_predictors]\n",
        "    y_validate = training_and_validation.iloc[validation_index][[\"body_mass_g\"]]\n",
        "    y_hat = reg.predict(X_validate)\n",
        "\n",
        "    # Calculate the MSE\n",
        "    mse = np.mean((y_validate-y_hat)**2)[0]\n",
        "\n",
        "    # Add the results of the folds to the prior results\n",
        "    results.append([fold, 'validation', mse, list_of_predictors, len(list_of_predictors), model_number])\n"
      ]
    },
    {
      "cell_type": "markdown",
      "metadata": {
        "id": "qxsvRJkKxz2g"
      },
      "source": [
        "### Evaluation on the Test Set\n",
        "\n",
        "Next, we use the full training and validation set to make a prediction on the unseen test set:"
      ]
    },
    {
      "cell_type": "code",
      "execution_count": 7,
      "metadata": {
        "id": "mjYlF_SyxzYf"
      },
      "outputs": [],
      "source": [
        "    # Define, that we want to take a linear regression as a model f\n",
        "    reg = LinearRegression()\n",
        "\n",
        "    X_training_and_validation= training_and_validation[list_of_predictors]\n",
        "    y_training_and_validation = training_and_validation[\"body_mass_g\"]\n",
        "\n",
        "\n",
        "    # Fitting Simple Linear Regression to the test set\n",
        "    reg.fit(X_training_and_validation, y_training_and_validation)\n",
        "\n",
        "    # Make prediction on the validation set\n",
        "    X_test = test[list_of_predictors]\n",
        "    y_test = test[\"body_mass_g\"]\n",
        "    y_hat = reg.predict(X_test)\n",
        "\n",
        "    mse = np.mean((y_test-y_hat)**2)\n",
        "\n",
        "    results.append([0, 'test', mse, list_of_predictors, len(list_of_predictors), model_number])"
      ]
    },
    {
      "cell_type": "markdown",
      "metadata": {
        "id": "AnPVEApJHf8g"
      },
      "source": [
        "Finally, we create a data set from our lusts of results."
      ]
    },
    {
      "cell_type": "code",
      "execution_count": 8,
      "metadata": {
        "colab": {
          "base_uri": "https://localhost:8080/",
          "height": 237
        },
        "id": "48AcXZqrqBIr",
        "outputId": "8bb888f4-69f1-40d8-bcad-b06ea5fdbaca"
      },
      "outputs": [
        {
          "data": {
            "text/html": [
              "<div>\n",
              "<style scoped>\n",
              "    .dataframe tbody tr th:only-of-type {\n",
              "        vertical-align: middle;\n",
              "    }\n",
              "\n",
              "    .dataframe tbody tr th {\n",
              "        vertical-align: top;\n",
              "    }\n",
              "\n",
              "    .dataframe thead th {\n",
              "        text-align: right;\n",
              "    }\n",
              "</style>\n",
              "<table border=\"1\" class=\"dataframe\">\n",
              "  <thead>\n",
              "    <tr style=\"text-align: right;\">\n",
              "      <th></th>\n",
              "      <th>fold</th>\n",
              "      <th>data_set</th>\n",
              "      <th>MSE</th>\n",
              "      <th>predictors</th>\n",
              "      <th>number_of_predictors</th>\n",
              "      <th>model_number</th>\n",
              "    </tr>\n",
              "  </thead>\n",
              "  <tbody>\n",
              "    <tr>\n",
              "      <th>0</th>\n",
              "      <td>1</td>\n",
              "      <td>validation</td>\n",
              "      <td>105118.967335</td>\n",
              "      <td>[bill_length_mm, bill_depth_mm, flipper_length...</td>\n",
              "      <td>8</td>\n",
              "      <td>1</td>\n",
              "    </tr>\n",
              "    <tr>\n",
              "      <th>1</th>\n",
              "      <td>2</td>\n",
              "      <td>validation</td>\n",
              "      <td>77949.249522</td>\n",
              "      <td>[bill_length_mm, bill_depth_mm, flipper_length...</td>\n",
              "      <td>8</td>\n",
              "      <td>1</td>\n",
              "    </tr>\n",
              "    <tr>\n",
              "      <th>2</th>\n",
              "      <td>3</td>\n",
              "      <td>validation</td>\n",
              "      <td>81003.906826</td>\n",
              "      <td>[bill_length_mm, bill_depth_mm, flipper_length...</td>\n",
              "      <td>8</td>\n",
              "      <td>1</td>\n",
              "    </tr>\n",
              "    <tr>\n",
              "      <th>3</th>\n",
              "      <td>4</td>\n",
              "      <td>validation</td>\n",
              "      <td>86648.824233</td>\n",
              "      <td>[bill_length_mm, bill_depth_mm, flipper_length...</td>\n",
              "      <td>8</td>\n",
              "      <td>1</td>\n",
              "    </tr>\n",
              "    <tr>\n",
              "      <th>4</th>\n",
              "      <td>5</td>\n",
              "      <td>validation</td>\n",
              "      <td>64040.560553</td>\n",
              "      <td>[bill_length_mm, bill_depth_mm, flipper_length...</td>\n",
              "      <td>8</td>\n",
              "      <td>1</td>\n",
              "    </tr>\n",
              "    <tr>\n",
              "      <th>5</th>\n",
              "      <td>0</td>\n",
              "      <td>test</td>\n",
              "      <td>94117.240247</td>\n",
              "      <td>[bill_length_mm, bill_depth_mm, flipper_length...</td>\n",
              "      <td>8</td>\n",
              "      <td>1</td>\n",
              "    </tr>\n",
              "  </tbody>\n",
              "</table>\n",
              "</div>"
            ],
            "text/plain": [
              "   fold    data_set            MSE  \\\n",
              "0     1  validation  105118.967335   \n",
              "1     2  validation   77949.249522   \n",
              "2     3  validation   81003.906826   \n",
              "3     4  validation   86648.824233   \n",
              "4     5  validation   64040.560553   \n",
              "5     0        test   94117.240247   \n",
              "\n",
              "                                          predictors  number_of_predictors  \\\n",
              "0  [bill_length_mm, bill_depth_mm, flipper_length...                     8   \n",
              "1  [bill_length_mm, bill_depth_mm, flipper_length...                     8   \n",
              "2  [bill_length_mm, bill_depth_mm, flipper_length...                     8   \n",
              "3  [bill_length_mm, bill_depth_mm, flipper_length...                     8   \n",
              "4  [bill_length_mm, bill_depth_mm, flipper_length...                     8   \n",
              "5  [bill_length_mm, bill_depth_mm, flipper_length...                     8   \n",
              "\n",
              "   model_number  \n",
              "0             1  \n",
              "1             1  \n",
              "2             1  \n",
              "3             1  \n",
              "4             1  \n",
              "5             1  "
            ]
          },
          "execution_count": 8,
          "metadata": {},
          "output_type": "execute_result"
        }
      ],
      "source": [
        "df_results = pd.DataFrame(columns=columns, data = results)\n",
        "df_results"
      ]
    },
    {
      "cell_type": "markdown",
      "metadata": {
        "id": "11bd3FMo2wU6"
      },
      "source": [
        "### Visualization of the results\n",
        "\n",
        "As to be be expected, we observe some variance in the $MSE$ on the validation sets of the cross-validation. The test-set error is close to the average error of the cross validation runs."
      ]
    },
    {
      "cell_type": "code",
      "execution_count": 9,
      "metadata": {
        "colab": {
          "base_uri": "https://localhost:8080/",
          "height": 298
        },
        "id": "ce-OlUplrtZ7",
        "outputId": "8cfe1c50-f60b-4a7e-e8b1-81912837337d"
      },
      "outputs": [
        {
          "data": {
            "text/plain": [
              "<AxesSubplot:xlabel='data_set', ylabel='MSE'>"
            ]
          },
          "execution_count": 9,
          "metadata": {},
          "output_type": "execute_result"
        },
        {
          "data": {
            "image/png": "[encoded data removed]",
            "text/plain": [
              "<Figure size 432x288 with 1 Axes>"
            ]
          },
          "metadata": {
            "needs_background": "light"
          },
          "output_type": "display_data"
        }
      ],
      "source": [
        "import seaborn as sns\n",
        "\n",
        "sns.scatterplot(data=df_results, x=\"data_set\", y=\"MSE\", hue = \"fold\")"
      ]
    },
    {
      "cell_type": "markdown",
      "metadata": {
        "id": "L1cMOjttE6yu"
      },
      "source": [
        "# 🏁 Recap\n",
        "\n",
        "- If you have finished the tasks and have no questions, place the green card on top.\n",
        "- If you have finished the tasks but would like to discuss the solutions together again, place the yellow card on top.\n",
        "\n",
        "![](https://www.lokalinfo.ch/fileadmin/news_import/image003_03.jpg)"
      ]
    },
    {
      "cell_type": "markdown",
      "metadata": {
        "id": "sN2MKZGQ3fgg"
      },
      "source": [
        "## 🏆 Case Study I\n",
        "\n",
        "Perform a full best subset selection to find a good model with a 5-fold cross validation.\n",
        "- What is the best model's average $MSE$?\n",
        "- What are the model's predictors?\n",
        "- Compare all the models You tested on the test set after training them on the full training and validation set. Does Your choosen model outperform all others?\n",
        "\n",
        "*Hint*:\n",
        "\n",
        "Set the ```random_state=1``` in the ```train_test_split()```\n",
        "You can expand on the code above. You will have to create a second loop within the exisiting loop. This loop must run through a list of all possible predictor combinations, which are create in the cell below. All models with the same predictors should have the same model number.\n"
      ]
    },
    {
      "cell_type": "code",
      "execution_count": 10,
      "metadata": {
        "colab": {
          "base_uri": "https://localhost:8080/"
        },
        "id": "AF0FtsRe3LRO",
        "outputId": "42c61edc-db23-4951-9d31-4d45aa0677be"
      },
      "outputs": [
        {
          "name": "stdout",
          "output_type": "stream",
          "text": [
            "[]\n",
            "['bill_length_mm']\n",
            "['bill_depth_mm']\n",
            "['flipper_length_mm']\n",
            "['isAdelie']\n",
            "['isGentoo']\n",
            "['fromTorgersen']\n",
            "['fromBiscoe']\n",
            "['isFemale']\n",
            "['bill_length_mm', 'bill_depth_mm']\n",
            "['bill_length_mm', 'flipper_length_mm']\n",
            "['bill_length_mm', 'isAdelie']\n",
            "['bill_length_mm', 'isGentoo']\n",
            "['bill_length_mm', 'fromTorgersen']\n",
            "['bill_length_mm', 'fromBiscoe']\n",
            "['bill_length_mm', 'isFemale']\n",
            "['bill_depth_mm', 'flipper_length_mm']\n",
            "['bill_depth_mm', 'isAdelie']\n",
            "['bill_depth_mm', 'isGentoo']\n",
            "['bill_depth_mm', 'fromTorgersen']\n",
            "['bill_depth_mm', 'fromBiscoe']\n",
            "['bill_depth_mm', 'isFemale']\n",
            "['flipper_length_mm', 'isAdelie']\n",
            "['flipper_length_mm', 'isGentoo']\n",
            "['flipper_length_mm', 'fromTorgersen']\n",
            "['flipper_length_mm', 'fromBiscoe']\n",
            "['flipper_length_mm', 'isFemale']\n",
            "['isAdelie', 'isGentoo']\n",
            "['isAdelie', 'fromTorgersen']\n",
            "['isAdelie', 'fromBiscoe']\n",
            "['isAdelie', 'isFemale']\n",
            "['isGentoo', 'fromTorgersen']\n",
            "['isGentoo', 'fromBiscoe']\n",
            "['isGentoo', 'isFemale']\n",
            "['fromTorgersen', 'fromBiscoe']\n",
            "['fromTorgersen', 'isFemale']\n",
            "['fromBiscoe', 'isFemale']\n",
            "['bill_length_mm', 'bill_depth_mm', 'flipper_length_mm']\n",
            "['bill_length_mm', 'bill_depth_mm', 'isAdelie']\n",
            "['bill_length_mm', 'bill_depth_mm', 'isGentoo']\n",
            "['bill_length_mm', 'bill_depth_mm', 'fromTorgersen']\n",
            "['bill_length_mm', 'bill_depth_mm', 'fromBiscoe']\n",
            "['bill_length_mm', 'bill_depth_mm', 'isFemale']\n",
            "['bill_length_mm', 'flipper_length_mm', 'isAdelie']\n",
            "['bill_length_mm', 'flipper_length_mm', 'isGentoo']\n",
            "['bill_length_mm', 'flipper_length_mm', 'fromTorgersen']\n",
            "['bill_length_mm', 'flipper_length_mm', 'fromBiscoe']\n",
            "['bill_length_mm', 'flipper_length_mm', 'isFemale']\n",
            "['bill_length_mm', 'isAdelie', 'isGentoo']\n",
            "['bill_length_mm', 'isAdelie', 'fromTorgersen']\n",
            "['bill_length_mm', 'isAdelie', 'fromBiscoe']\n",
            "['bill_length_mm', 'isAdelie', 'isFemale']\n",
            "['bill_length_mm', 'isGentoo', 'fromTorgersen']\n",
            "['bill_length_mm', 'isGentoo', 'fromBiscoe']\n",
            "['bill_length_mm', 'isGentoo', 'isFemale']\n",
            "['bill_length_mm', 'fromTorgersen', 'fromBiscoe']\n",
            "['bill_length_mm', 'fromTorgersen', 'isFemale']\n",
            "['bill_length_mm', 'fromBiscoe', 'isFemale']\n",
            "['bill_depth_mm', 'flipper_length_mm', 'isAdelie']\n",
            "['bill_depth_mm', 'flipper_length_mm', 'isGentoo']\n",
            "['bill_depth_mm', 'flipper_length_mm', 'fromTorgersen']\n",
            "['bill_depth_mm', 'flipper_length_mm', 'fromBiscoe']\n",
            "['bill_depth_mm', 'flipper_length_mm', 'isFemale']\n",
            "['bill_depth_mm', 'isAdelie', 'isGentoo']\n",
            "['bill_depth_mm', 'isAdelie', 'fromTorgersen']\n",
            "['bill_depth_mm', 'isAdelie', 'fromBiscoe']\n",
            "['bill_depth_mm', 'isAdelie', 'isFemale']\n",
            "['bill_depth_mm', 'isGentoo', 'fromTorgersen']\n",
            "['bill_depth_mm', 'isGentoo', 'fromBiscoe']\n",
            "['bill_depth_mm', 'isGentoo', 'isFemale']\n",
            "['bill_depth_mm', 'fromTorgersen', 'fromBiscoe']\n",
            "['bill_depth_mm', 'fromTorgersen', 'isFemale']\n",
            "['bill_depth_mm', 'fromBiscoe', 'isFemale']\n",
            "['flipper_length_mm', 'isAdelie', 'isGentoo']\n",
            "['flipper_length_mm', 'isAdelie', 'fromTorgersen']\n",
            "['flipper_length_mm', 'isAdelie', 'fromBiscoe']\n",
            "['flipper_length_mm', 'isAdelie', 'isFemale']\n",
            "['flipper_length_mm', 'isGentoo', 'fromTorgersen']\n",
            "['flipper_length_mm', 'isGentoo', 'fromBiscoe']\n",
            "['flipper_length_mm', 'isGentoo', 'isFemale']\n",
            "['flipper_length_mm', 'fromTorgersen', 'fromBiscoe']\n",
            "['flipper_length_mm', 'fromTorgersen', 'isFemale']\n",
            "['flipper_length_mm', 'fromBiscoe', 'isFemale']\n",
            "['isAdelie', 'isGentoo', 'fromTorgersen']\n",
            "['isAdelie', 'isGentoo', 'fromBiscoe']\n",
            "['isAdelie', 'isGentoo', 'isFemale']\n",
            "['isAdelie', 'fromTorgersen', 'fromBiscoe']\n",
            "['isAdelie', 'fromTorgersen', 'isFemale']\n",
            "['isAdelie', 'fromBiscoe', 'isFemale']\n",
            "['isGentoo', 'fromTorgersen', 'fromBiscoe']\n",
            "['isGentoo', 'fromTorgersen', 'isFemale']\n",
            "['isGentoo', 'fromBiscoe', 'isFemale']\n",
            "['fromTorgersen', 'fromBiscoe', 'isFemale']\n",
            "['bill_length_mm', 'bill_depth_mm', 'flipper_length_mm', 'isAdelie']\n",
            "['bill_length_mm', 'bill_depth_mm', 'flipper_length_mm', 'isGentoo']\n",
            "['bill_length_mm', 'bill_depth_mm', 'flipper_length_mm', 'fromTorgersen']\n",
            "['bill_length_mm', 'bill_depth_mm', 'flipper_length_mm', 'fromBiscoe']\n",
            "['bill_length_mm', 'bill_depth_mm', 'flipper_length_mm', 'isFemale']\n",
            "['bill_length_mm', 'bill_depth_mm', 'isAdelie', 'isGentoo']\n",
            "['bill_length_mm', 'bill_depth_mm', 'isAdelie', 'fromTorgersen']\n",
            "['bill_length_mm', 'bill_depth_mm', 'isAdelie', 'fromBiscoe']\n",
            "['bill_length_mm', 'bill_depth_mm', 'isAdelie', 'isFemale']\n",
            "['bill_length_mm', 'bill_depth_mm', 'isGentoo', 'fromTorgersen']\n",
            "['bill_length_mm', 'bill_depth_mm', 'isGentoo', 'fromBiscoe']\n",
            "['bill_length_mm', 'bill_depth_mm', 'isGentoo', 'isFemale']\n",
            "['bill_length_mm', 'bill_depth_mm', 'fromTorgersen', 'fromBiscoe']\n",
            "['bill_length_mm', 'bill_depth_mm', 'fromTorgersen', 'isFemale']\n",
            "['bill_length_mm', 'bill_depth_mm', 'fromBiscoe', 'isFemale']\n",
            "['bill_length_mm', 'flipper_length_mm', 'isAdelie', 'isGentoo']\n",
            "['bill_length_mm', 'flipper_length_mm', 'isAdelie', 'fromTorgersen']\n",
            "['bill_length_mm', 'flipper_length_mm', 'isAdelie', 'fromBiscoe']\n",
            "['bill_length_mm', 'flipper_length_mm', 'isAdelie', 'isFemale']\n",
            "['bill_length_mm', 'flipper_length_mm', 'isGentoo', 'fromTorgersen']\n",
            "['bill_length_mm', 'flipper_length_mm', 'isGentoo', 'fromBiscoe']\n",
            "['bill_length_mm', 'flipper_length_mm', 'isGentoo', 'isFemale']\n",
            "['bill_length_mm', 'flipper_length_mm', 'fromTorgersen', 'fromBiscoe']\n",
            "['bill_length_mm', 'flipper_length_mm', 'fromTorgersen', 'isFemale']\n",
            "['bill_length_mm', 'flipper_length_mm', 'fromBiscoe', 'isFemale']\n",
            "['bill_length_mm', 'isAdelie', 'isGentoo', 'fromTorgersen']\n",
            "['bill_length_mm', 'isAdelie', 'isGentoo', 'fromBiscoe']\n",
            "['bill_length_mm', 'isAdelie', 'isGentoo', 'isFemale']\n",
            "['bill_length_mm', 'isAdelie', 'fromTorgersen', 'fromBiscoe']\n",
            "['bill_length_mm', 'isAdelie', 'fromTorgersen', 'isFemale']\n",
            "['bill_length_mm', 'isAdelie', 'fromBiscoe', 'isFemale']\n",
            "['bill_length_mm', 'isGentoo', 'fromTorgersen', 'fromBiscoe']\n",
            "['bill_length_mm', 'isGentoo', 'fromTorgersen', 'isFemale']\n",
            "['bill_length_mm', 'isGentoo', 'fromBiscoe', 'isFemale']\n",
            "['bill_length_mm', 'fromTorgersen', 'fromBiscoe', 'isFemale']\n",
            "['bill_depth_mm', 'flipper_length_mm', 'isAdelie', 'isGentoo']\n",
            "['bill_depth_mm', 'flipper_length_mm', 'isAdelie', 'fromTorgersen']\n",
            "['bill_depth_mm', 'flipper_length_mm', 'isAdelie', 'fromBiscoe']\n",
            "['bill_depth_mm', 'flipper_length_mm', 'isAdelie', 'isFemale']\n",
            "['bill_depth_mm', 'flipper_length_mm', 'isGentoo', 'fromTorgersen']\n",
            "['bill_depth_mm', 'flipper_length_mm', 'isGentoo', 'fromBiscoe']\n",
            "['bill_depth_mm', 'flipper_length_mm', 'isGentoo', 'isFemale']\n",
            "['bill_depth_mm', 'flipper_length_mm', 'fromTorgersen', 'fromBiscoe']\n",
            "['bill_depth_mm', 'flipper_length_mm', 'fromTorgersen', 'isFemale']\n",
            "['bill_depth_mm', 'flipper_length_mm', 'fromBiscoe', 'isFemale']\n",
            "['bill_depth_mm', 'isAdelie', 'isGentoo', 'fromTorgersen']\n",
            "['bill_depth_mm', 'isAdelie', 'isGentoo', 'fromBiscoe']\n",
            "['bill_depth_mm', 'isAdelie', 'isGentoo', 'isFemale']\n",
            "['bill_depth_mm', 'isAdelie', 'fromTorgersen', 'fromBiscoe']\n",
            "['bill_depth_mm', 'isAdelie', 'fromTorgersen', 'isFemale']\n",
            "['bill_depth_mm', 'isAdelie', 'fromBiscoe', 'isFemale']\n",
            "['bill_depth_mm', 'isGentoo', 'fromTorgersen', 'fromBiscoe']\n",
            "['bill_depth_mm', 'isGentoo', 'fromTorgersen', 'isFemale']\n",
            "['bill_depth_mm', 'isGentoo', 'fromBiscoe', 'isFemale']\n",
            "['bill_depth_mm', 'fromTorgersen', 'fromBiscoe', 'isFemale']\n",
            "['flipper_length_mm', 'isAdelie', 'isGentoo', 'fromTorgersen']\n",
            "['flipper_length_mm', 'isAdelie', 'isGentoo', 'fromBiscoe']\n",
            "['flipper_length_mm', 'isAdelie', 'isGentoo', 'isFemale']\n",
            "['flipper_length_mm', 'isAdelie', 'fromTorgersen', 'fromBiscoe']\n",
            "['flipper_length_mm', 'isAdelie', 'fromTorgersen', 'isFemale']\n",
            "['flipper_length_mm', 'isAdelie', 'fromBiscoe', 'isFemale']\n",
            "['flipper_length_mm', 'isGentoo', 'fromTorgersen', 'fromBiscoe']\n",
            "['flipper_length_mm', 'isGentoo', 'fromTorgersen', 'isFemale']\n",
            "['flipper_length_mm', 'isGentoo', 'fromBiscoe', 'isFemale']\n",
            "['flipper_length_mm', 'fromTorgersen', 'fromBiscoe', 'isFemale']\n",
            "['isAdelie', 'isGentoo', 'fromTorgersen', 'fromBiscoe']\n",
            "['isAdelie', 'isGentoo', 'fromTorgersen', 'isFemale']\n",
            "['isAdelie', 'isGentoo', 'fromBiscoe', 'isFemale']\n",
            "['isAdelie', 'fromTorgersen', 'fromBiscoe', 'isFemale']\n",
            "['isGentoo', 'fromTorgersen', 'fromBiscoe', 'isFemale']\n",
            "['bill_length_mm', 'bill_depth_mm', 'flipper_length_mm', 'isAdelie', 'isGentoo']\n",
            "['bill_length_mm', 'bill_depth_mm', 'flipper_length_mm', 'isAdelie', 'fromTorgersen']\n",
            "['bill_length_mm', 'bill_depth_mm', 'flipper_length_mm', 'isAdelie', 'fromBiscoe']\n",
            "['bill_length_mm', 'bill_depth_mm', 'flipper_length_mm', 'isAdelie', 'isFemale']\n",
            "['bill_length_mm', 'bill_depth_mm', 'flipper_length_mm', 'isGentoo', 'fromTorgersen']\n",
            "['bill_length_mm', 'bill_depth_mm', 'flipper_length_mm', 'isGentoo', 'fromBiscoe']\n",
            "['bill_length_mm', 'bill_depth_mm', 'flipper_length_mm', 'isGentoo', 'isFemale']\n",
            "['bill_length_mm', 'bill_depth_mm', 'flipper_length_mm', 'fromTorgersen', 'fromBiscoe']\n",
            "['bill_length_mm', 'bill_depth_mm', 'flipper_length_mm', 'fromTorgersen', 'isFemale']\n",
            "['bill_length_mm', 'bill_depth_mm', 'flipper_length_mm', 'fromBiscoe', 'isFemale']\n",
            "['bill_length_mm', 'bill_depth_mm', 'isAdelie', 'isGentoo', 'fromTorgersen']\n",
            "['bill_length_mm', 'bill_depth_mm', 'isAdelie', 'isGentoo', 'fromBiscoe']\n",
            "['bill_length_mm', 'bill_depth_mm', 'isAdelie', 'isGentoo', 'isFemale']\n",
            "['bill_length_mm', 'bill_depth_mm', 'isAdelie', 'fromTorgersen', 'fromBiscoe']\n",
            "['bill_length_mm', 'bill_depth_mm', 'isAdelie', 'fromTorgersen', 'isFemale']\n",
            "['bill_length_mm', 'bill_depth_mm', 'isAdelie', 'fromBiscoe', 'isFemale']\n",
            "['bill_length_mm', 'bill_depth_mm', 'isGentoo', 'fromTorgersen', 'fromBiscoe']\n",
            "['bill_length_mm', 'bill_depth_mm', 'isGentoo', 'fromTorgersen', 'isFemale']\n",
            "['bill_length_mm', 'bill_depth_mm', 'isGentoo', 'fromBiscoe', 'isFemale']\n",
            "['bill_length_mm', 'bill_depth_mm', 'fromTorgersen', 'fromBiscoe', 'isFemale']\n",
            "['bill_length_mm', 'flipper_length_mm', 'isAdelie', 'isGentoo', 'fromTorgersen']\n",
            "['bill_length_mm', 'flipper_length_mm', 'isAdelie', 'isGentoo', 'fromBiscoe']\n",
            "['bill_length_mm', 'flipper_length_mm', 'isAdelie', 'isGentoo', 'isFemale']\n",
            "['bill_length_mm', 'flipper_length_mm', 'isAdelie', 'fromTorgersen', 'fromBiscoe']\n",
            "['bill_length_mm', 'flipper_length_mm', 'isAdelie', 'fromTorgersen', 'isFemale']\n",
            "['bill_length_mm', 'flipper_length_mm', 'isAdelie', 'fromBiscoe', 'isFemale']\n",
            "['bill_length_mm', 'flipper_length_mm', 'isGentoo', 'fromTorgersen', 'fromBiscoe']\n",
            "['bill_length_mm', 'flipper_length_mm', 'isGentoo', 'fromTorgersen', 'isFemale']\n",
            "['bill_length_mm', 'flipper_length_mm', 'isGentoo', 'fromBiscoe', 'isFemale']\n",
            "['bill_length_mm', 'flipper_length_mm', 'fromTorgersen', 'fromBiscoe', 'isFemale']\n",
            "['bill_length_mm', 'isAdelie', 'isGentoo', 'fromTorgersen', 'fromBiscoe']\n",
            "['bill_length_mm', 'isAdelie', 'isGentoo', 'fromTorgersen', 'isFemale']\n",
            "['bill_length_mm', 'isAdelie', 'isGentoo', 'fromBiscoe', 'isFemale']\n",
            "['bill_length_mm', 'isAdelie', 'fromTorgersen', 'fromBiscoe', 'isFemale']\n",
            "['bill_length_mm', 'isGentoo', 'fromTorgersen', 'fromBiscoe', 'isFemale']\n",
            "['bill_depth_mm', 'flipper_length_mm', 'isAdelie', 'isGentoo', 'fromTorgersen']\n",
            "['bill_depth_mm', 'flipper_length_mm', 'isAdelie', 'isGentoo', 'fromBiscoe']\n",
            "['bill_depth_mm', 'flipper_length_mm', 'isAdelie', 'isGentoo', 'isFemale']\n",
            "['bill_depth_mm', 'flipper_length_mm', 'isAdelie', 'fromTorgersen', 'fromBiscoe']\n",
            "['bill_depth_mm', 'flipper_length_mm', 'isAdelie', 'fromTorgersen', 'isFemale']\n",
            "['bill_depth_mm', 'flipper_length_mm', 'isAdelie', 'fromBiscoe', 'isFemale']\n",
            "['bill_depth_mm', 'flipper_length_mm', 'isGentoo', 'fromTorgersen', 'fromBiscoe']\n",
            "['bill_depth_mm', 'flipper_length_mm', 'isGentoo', 'fromTorgersen', 'isFemale']\n",
            "['bill_depth_mm', 'flipper_length_mm', 'isGentoo', 'fromBiscoe', 'isFemale']\n",
            "['bill_depth_mm', 'flipper_length_mm', 'fromTorgersen', 'fromBiscoe', 'isFemale']\n",
            "['bill_depth_mm', 'isAdelie', 'isGentoo', 'fromTorgersen', 'fromBiscoe']\n",
            "['bill_depth_mm', 'isAdelie', 'isGentoo', 'fromTorgersen', 'isFemale']\n",
            "['bill_depth_mm', 'isAdelie', 'isGentoo', 'fromBiscoe', 'isFemale']\n",
            "['bill_depth_mm', 'isAdelie', 'fromTorgersen', 'fromBiscoe', 'isFemale']\n",
            "['bill_depth_mm', 'isGentoo', 'fromTorgersen', 'fromBiscoe', 'isFemale']\n",
            "['flipper_length_mm', 'isAdelie', 'isGentoo', 'fromTorgersen', 'fromBiscoe']\n",
            "['flipper_length_mm', 'isAdelie', 'isGentoo', 'fromTorgersen', 'isFemale']\n",
            "['flipper_length_mm', 'isAdelie', 'isGentoo', 'fromBiscoe', 'isFemale']\n",
            "['flipper_length_mm', 'isAdelie', 'fromTorgersen', 'fromBiscoe', 'isFemale']\n",
            "['flipper_length_mm', 'isGentoo', 'fromTorgersen', 'fromBiscoe', 'isFemale']\n",
            "['isAdelie', 'isGentoo', 'fromTorgersen', 'fromBiscoe', 'isFemale']\n",
            "['bill_length_mm', 'bill_depth_mm', 'flipper_length_mm', 'isAdelie', 'isGentoo', 'fromTorgersen']\n",
            "['bill_length_mm', 'bill_depth_mm', 'flipper_length_mm', 'isAdelie', 'isGentoo', 'fromBiscoe']\n",
            "['bill_length_mm', 'bill_depth_mm', 'flipper_length_mm', 'isAdelie', 'isGentoo', 'isFemale']\n",
            "['bill_length_mm', 'bill_depth_mm', 'flipper_length_mm', 'isAdelie', 'fromTorgersen', 'fromBiscoe']\n",
            "['bill_length_mm', 'bill_depth_mm', 'flipper_length_mm', 'isAdelie', 'fromTorgersen', 'isFemale']\n",
            "['bill_length_mm', 'bill_depth_mm', 'flipper_length_mm', 'isAdelie', 'fromBiscoe', 'isFemale']\n",
            "['bill_length_mm', 'bill_depth_mm', 'flipper_length_mm', 'isGentoo', 'fromTorgersen', 'fromBiscoe']\n",
            "['bill_length_mm', 'bill_depth_mm', 'flipper_length_mm', 'isGentoo', 'fromTorgersen', 'isFemale']\n",
            "['bill_length_mm', 'bill_depth_mm', 'flipper_length_mm', 'isGentoo', 'fromBiscoe', 'isFemale']\n",
            "['bill_length_mm', 'bill_depth_mm', 'flipper_length_mm', 'fromTorgersen', 'fromBiscoe', 'isFemale']\n",
            "['bill_length_mm', 'bill_depth_mm', 'isAdelie', 'isGentoo', 'fromTorgersen', 'fromBiscoe']\n",
            "['bill_length_mm', 'bill_depth_mm', 'isAdelie', 'isGentoo', 'fromTorgersen', 'isFemale']\n",
            "['bill_length_mm', 'bill_depth_mm', 'isAdelie', 'isGentoo', 'fromBiscoe', 'isFemale']\n",
            "['bill_length_mm', 'bill_depth_mm', 'isAdelie', 'fromTorgersen', 'fromBiscoe', 'isFemale']\n",
            "['bill_length_mm', 'bill_depth_mm', 'isGentoo', 'fromTorgersen', 'fromBiscoe', 'isFemale']\n",
            "['bill_length_mm', 'flipper_length_mm', 'isAdelie', 'isGentoo', 'fromTorgersen', 'fromBiscoe']\n",
            "['bill_length_mm', 'flipper_length_mm', 'isAdelie', 'isGentoo', 'fromTorgersen', 'isFemale']\n",
            "['bill_length_mm', 'flipper_length_mm', 'isAdelie', 'isGentoo', 'fromBiscoe', 'isFemale']\n",
            "['bill_length_mm', 'flipper_length_mm', 'isAdelie', 'fromTorgersen', 'fromBiscoe', 'isFemale']\n",
            "['bill_length_mm', 'flipper_length_mm', 'isGentoo', 'fromTorgersen', 'fromBiscoe', 'isFemale']\n",
            "['bill_length_mm', 'isAdelie', 'isGentoo', 'fromTorgersen', 'fromBiscoe', 'isFemale']\n",
            "['bill_depth_mm', 'flipper_length_mm', 'isAdelie', 'isGentoo', 'fromTorgersen', 'fromBiscoe']\n",
            "['bill_depth_mm', 'flipper_length_mm', 'isAdelie', 'isGentoo', 'fromTorgersen', 'isFemale']\n",
            "['bill_depth_mm', 'flipper_length_mm', 'isAdelie', 'isGentoo', 'fromBiscoe', 'isFemale']\n",
            "['bill_depth_mm', 'flipper_length_mm', 'isAdelie', 'fromTorgersen', 'fromBiscoe', 'isFemale']\n",
            "['bill_depth_mm', 'flipper_length_mm', 'isGentoo', 'fromTorgersen', 'fromBiscoe', 'isFemale']\n",
            "['bill_depth_mm', 'isAdelie', 'isGentoo', 'fromTorgersen', 'fromBiscoe', 'isFemale']\n",
            "['flipper_length_mm', 'isAdelie', 'isGentoo', 'fromTorgersen', 'fromBiscoe', 'isFemale']\n",
            "['bill_length_mm', 'bill_depth_mm', 'flipper_length_mm', 'isAdelie', 'isGentoo', 'fromTorgersen', 'fromBiscoe']\n",
            "['bill_length_mm', 'bill_depth_mm', 'flipper_length_mm', 'isAdelie', 'isGentoo', 'fromTorgersen', 'isFemale']\n",
            "['bill_length_mm', 'bill_depth_mm', 'flipper_length_mm', 'isAdelie', 'isGentoo', 'fromBiscoe', 'isFemale']\n",
            "['bill_length_mm', 'bill_depth_mm', 'flipper_length_mm', 'isAdelie', 'fromTorgersen', 'fromBiscoe', 'isFemale']\n",
            "['bill_length_mm', 'bill_depth_mm', 'flipper_length_mm', 'isGentoo', 'fromTorgersen', 'fromBiscoe', 'isFemale']\n",
            "['bill_length_mm', 'bill_depth_mm', 'isAdelie', 'isGentoo', 'fromTorgersen', 'fromBiscoe', 'isFemale']\n",
            "['bill_length_mm', 'flipper_length_mm', 'isAdelie', 'isGentoo', 'fromTorgersen', 'fromBiscoe', 'isFemale']\n",
            "['bill_depth_mm', 'flipper_length_mm', 'isAdelie', 'isGentoo', 'fromTorgersen', 'fromBiscoe', 'isFemale']\n",
            "['bill_length_mm', 'bill_depth_mm', 'flipper_length_mm', 'isAdelie', 'isGentoo', 'fromTorgersen', 'fromBiscoe', 'isFemale']\n"
          ]
        }
      ],
      "source": [
        "# Hint: Itertools allows you to calculate a possible subsets\n",
        "import itertools\n",
        "\n",
        "list_of_all_predictors = ['bill_length_mm', 'bill_depth_mm','flipper_length_mm', 'isAdelie', 'isGentoo','fromTorgersen',\t'fromBiscoe',\t'isFemale']\n",
        "\n",
        "model_number = 0\n",
        "\n",
        "for L in range(0, len(list_of_all_predictors)+1):\n",
        "    for subset in itertools.combinations(list_of_all_predictors, L):\n",
        "        list_of_current_predictors = list(subset)\n",
        "        print(list_of_current_predictors)\n",
        "        model_number = model_number + 1"
      ]
    },
    {
      "cell_type": "markdown",
      "metadata": {
        "id": "mEAoVt-j5RHv"
      },
      "source": [
        "### Perform Cross Validation\n",
        "\n",
        "Here You can adjust the code from above:"
      ]
    },
    {
      "cell_type": "code",
      "execution_count": 11,
      "metadata": {
        "id": "MKZjkrUM5Q0Q"
      },
      "outputs": [],
      "source": [
        "from sklearn.model_selection import KFold\n",
        "from sklearn.linear_model import LinearRegression\n",
        "\n",
        "training_and_validation, test = train_test_split(penguins_cleaned, test_size=0.15, shuffle = True, random_state=1)\n",
        "\n",
        "kf = KFold(n_splits=5)\n",
        "\n",
        "results = []\n",
        "\n",
        "list_of_predictors = ['bill_length_mm', 'bill_depth_mm','flipper_length_mm', 'isAdelie', 'isGentoo','fromTorgersen',\t'fromBiscoe',\t'isFemale']\n",
        "\n",
        "\n",
        "\n",
        "def train_and_crossvalidate(list_of_predictors, training_and_validation, model_number):\n",
        "  \n",
        "  fold = 0\n",
        "\n",
        "\n",
        "  for train_index, validation_index in kf.split(training_and_validation):\n",
        "\n",
        "      fold = fold + 1\n",
        "\n",
        "      # Defining the predicted variable y and predictor X\n",
        "\n",
        "\n",
        "      X_train = training_and_validation.iloc[train_index][list_of_predictors]\n",
        "      y_train = training_and_validation.iloc[train_index][[\"body_mass_g\"]]\n",
        "\n",
        "\n",
        "      # Define, that we want to take a linear regression as a model f\n",
        "      reg = LinearRegression()\n",
        "\n",
        "      # Fitting Simple Linear Regression to the test set\n",
        "      reg.fit(X_train, y_train)\n",
        "\n",
        "      # Make prediction on the validation set\n",
        "      X_validate = training_and_validation.iloc[validation_index][list_of_predictors]\n",
        "      y_validate = training_and_validation.iloc[validation_index][[\"body_mass_g\"]]\n",
        "      y_hat = reg.predict(X_validate)\n",
        "\n",
        "      mse = np.mean((y_validate-y_hat)**2)[0]\n",
        "\n",
        "      results.append([fold, 'validation', mse, list_of_predictors, len(list_of_predictors), model_number])\n",
        "\n",
        "model_number = 1\n",
        "for L in range(0, len(list_of_all_predictors)+1):\n",
        "    for subset in itertools.combinations(list_of_all_predictors, L):\n",
        "        list_of_current_predictors = list(subset)\n",
        "        model_number = model_number + 1\n",
        "        \n",
        "        if len(list_of_current_predictors) != 0:\n",
        "          train_and_crossvalidate(list_of_current_predictors, training_and_validation, model_number)\n",
        "      "
      ]
    },
    {
      "cell_type": "code",
      "execution_count": 12,
      "metadata": {
        "colab": {
          "base_uri": "https://localhost:8080/",
          "height": 423
        },
        "id": "OQIsoCXE6JCR",
        "outputId": "d198c2a5-f0d1-4909-f8d7-2d4a0ddd20bc"
      },
      "outputs": [
        {
          "data": {
            "text/html": [
              "<div>\n",
              "<style scoped>\n",
              "    .dataframe tbody tr th:only-of-type {\n",
              "        vertical-align: middle;\n",
              "    }\n",
              "\n",
              "    .dataframe tbody tr th {\n",
              "        vertical-align: top;\n",
              "    }\n",
              "\n",
              "    .dataframe thead th {\n",
              "        text-align: right;\n",
              "    }\n",
              "</style>\n",
              "<table border=\"1\" class=\"dataframe\">\n",
              "  <thead>\n",
              "    <tr style=\"text-align: right;\">\n",
              "      <th></th>\n",
              "      <th>fold</th>\n",
              "      <th>data_set</th>\n",
              "      <th>MSE</th>\n",
              "      <th>predictors</th>\n",
              "      <th>number_of_predictors</th>\n",
              "      <th>model_number</th>\n",
              "    </tr>\n",
              "  </thead>\n",
              "  <tbody>\n",
              "    <tr>\n",
              "      <th>0</th>\n",
              "      <td>1</td>\n",
              "      <td>validation</td>\n",
              "      <td>528425.308194</td>\n",
              "      <td>[bill_length_mm]</td>\n",
              "      <td>1</td>\n",
              "      <td>3</td>\n",
              "    </tr>\n",
              "    <tr>\n",
              "      <th>1</th>\n",
              "      <td>2</td>\n",
              "      <td>validation</td>\n",
              "      <td>422437.574449</td>\n",
              "      <td>[bill_length_mm]</td>\n",
              "      <td>1</td>\n",
              "      <td>3</td>\n",
              "    </tr>\n",
              "    <tr>\n",
              "      <th>2</th>\n",
              "      <td>3</td>\n",
              "      <td>validation</td>\n",
              "      <td>426538.156170</td>\n",
              "      <td>[bill_length_mm]</td>\n",
              "      <td>1</td>\n",
              "      <td>3</td>\n",
              "    </tr>\n",
              "    <tr>\n",
              "      <th>3</th>\n",
              "      <td>4</td>\n",
              "      <td>validation</td>\n",
              "      <td>358419.906671</td>\n",
              "      <td>[bill_length_mm]</td>\n",
              "      <td>1</td>\n",
              "      <td>3</td>\n",
              "    </tr>\n",
              "    <tr>\n",
              "      <th>4</th>\n",
              "      <td>5</td>\n",
              "      <td>validation</td>\n",
              "      <td>323478.395749</td>\n",
              "      <td>[bill_length_mm]</td>\n",
              "      <td>1</td>\n",
              "      <td>3</td>\n",
              "    </tr>\n",
              "    <tr>\n",
              "      <th>...</th>\n",
              "      <td>...</td>\n",
              "      <td>...</td>\n",
              "      <td>...</td>\n",
              "      <td>...</td>\n",
              "      <td>...</td>\n",
              "      <td>...</td>\n",
              "    </tr>\n",
              "    <tr>\n",
              "      <th>1270</th>\n",
              "      <td>1</td>\n",
              "      <td>validation</td>\n",
              "      <td>105118.967335</td>\n",
              "      <td>[bill_length_mm, bill_depth_mm, flipper_length...</td>\n",
              "      <td>8</td>\n",
              "      <td>257</td>\n",
              "    </tr>\n",
              "    <tr>\n",
              "      <th>1271</th>\n",
              "      <td>2</td>\n",
              "      <td>validation</td>\n",
              "      <td>77949.249522</td>\n",
              "      <td>[bill_length_mm, bill_depth_mm, flipper_length...</td>\n",
              "      <td>8</td>\n",
              "      <td>257</td>\n",
              "    </tr>\n",
              "    <tr>\n",
              "      <th>1272</th>\n",
              "      <td>3</td>\n",
              "      <td>validation</td>\n",
              "      <td>81003.906826</td>\n",
              "      <td>[bill_length_mm, bill_depth_mm, flipper_length...</td>\n",
              "      <td>8</td>\n",
              "      <td>257</td>\n",
              "    </tr>\n",
              "    <tr>\n",
              "      <th>1273</th>\n",
              "      <td>4</td>\n",
              "      <td>validation</td>\n",
              "      <td>86648.824233</td>\n",
              "      <td>[bill_length_mm, bill_depth_mm, flipper_length...</td>\n",
              "      <td>8</td>\n",
              "      <td>257</td>\n",
              "    </tr>\n",
              "    <tr>\n",
              "      <th>1274</th>\n",
              "      <td>5</td>\n",
              "      <td>validation</td>\n",
              "      <td>64040.560553</td>\n",
              "      <td>[bill_length_mm, bill_depth_mm, flipper_length...</td>\n",
              "      <td>8</td>\n",
              "      <td>257</td>\n",
              "    </tr>\n",
              "  </tbody>\n",
              "</table>\n",
              "<p>1275 rows × 6 columns</p>\n",
              "</div>"
            ],
            "text/plain": [
              "      fold    data_set            MSE  \\\n",
              "0        1  validation  528425.308194   \n",
              "1        2  validation  422437.574449   \n",
              "2        3  validation  426538.156170   \n",
              "3        4  validation  358419.906671   \n",
              "4        5  validation  323478.395749   \n",
              "...    ...         ...            ...   \n",
              "1270     1  validation  105118.967335   \n",
              "1271     2  validation   77949.249522   \n",
              "1272     3  validation   81003.906826   \n",
              "1273     4  validation   86648.824233   \n",
              "1274     5  validation   64040.560553   \n",
              "\n",
              "                                             predictors  number_of_predictors  \\\n",
              "0                                      [bill_length_mm]                     1   \n",
              "1                                      [bill_length_mm]                     1   \n",
              "2                                      [bill_length_mm]                     1   \n",
              "3                                      [bill_length_mm]                     1   \n",
              "4                                      [bill_length_mm]                     1   \n",
              "...                                                 ...                   ...   \n",
              "1270  [bill_length_mm, bill_depth_mm, flipper_length...                     8   \n",
              "1271  [bill_length_mm, bill_depth_mm, flipper_length...                     8   \n",
              "1272  [bill_length_mm, bill_depth_mm, flipper_length...                     8   \n",
              "1273  [bill_length_mm, bill_depth_mm, flipper_length...                     8   \n",
              "1274  [bill_length_mm, bill_depth_mm, flipper_length...                     8   \n",
              "\n",
              "      model_number  \n",
              "0                3  \n",
              "1                3  \n",
              "2                3  \n",
              "3                3  \n",
              "4                3  \n",
              "...            ...  \n",
              "1270           257  \n",
              "1271           257  \n",
              "1272           257  \n",
              "1273           257  \n",
              "1274           257  \n",
              "\n",
              "[1275 rows x 6 columns]"
            ]
          },
          "execution_count": 12,
          "metadata": {},
          "output_type": "execute_result"
        }
      ],
      "source": [
        "df_results = pd.DataFrame(columns=columns, data = results)\n",
        "df_results"
      ]
    },
    {
      "cell_type": "code",
      "execution_count": 13,
      "metadata": {
        "colab": {
          "base_uri": "https://localhost:8080/",
          "height": 302
        },
        "id": "XJjZycXg6PdB",
        "outputId": "d3f6fb21-8f51-45a2-a737-579b9ec9a40b"
      },
      "outputs": [
        {
          "data": {
            "text/plain": [
              "<AxesSubplot:xlabel='number_of_predictors', ylabel='MSE'>"
            ]
          },
          "execution_count": 13,
          "metadata": {},
          "output_type": "execute_result"
        },
        {
          "data": {
            "image/png": "[encoded data removed]",
            "text/plain": [
              "<Figure size 432x288 with 1 Axes>"
            ]
          },
          "metadata": {
            "needs_background": "light"
          },
          "output_type": "display_data"
        }
      ],
      "source": [
        "# With this plot You can see how the number of predictors influences the models in-sample accuracy\n",
        "import seaborn as sns\n",
        "\n",
        "sns.scatterplot(data=df_results, x=\"number_of_predictors\", y=\"MSE\", hue = \"fold\")"
      ]
    },
    {
      "cell_type": "code",
      "execution_count": 14,
      "metadata": {
        "colab": {
          "base_uri": "https://localhost:8080/",
          "height": 298
        },
        "id": "WfRLW9HF7CaD",
        "outputId": "fd442d0d-1611-49c0-ae68-d52ad11c7064"
      },
      "outputs": [
        {
          "data": {
            "text/plain": [
              "<AxesSubplot:xlabel='number_of_predictors', ylabel='MSE'>"
            ]
          },
          "execution_count": 14,
          "metadata": {},
          "output_type": "execute_result"
        },
        {
          "data": {
            "image/png": "[encoded data removed]",
            "text/plain": [
              "<Figure size 432x288 with 1 Axes>"
            ]
          },
          "metadata": {
            "needs_background": "light"
          },
          "output_type": "display_data"
        }
      ],
      "source": [
        "# This is just another way to visualize it\n",
        "import seaborn as sns\n",
        "\n",
        "sns.violinplot(data=df_results, x=\"number_of_predictors\", y=\"MSE\")"
      ]
    },
    {
      "cell_type": "code",
      "execution_count": 15,
      "metadata": {
        "id": "VjXIUb1x6rrx"
      },
      "outputs": [],
      "source": [
        "mean_vadlidation_MSE = df_results.groupby(\"model_number\").mean()[\"MSE\"]"
      ]
    },
    {
      "cell_type": "code",
      "execution_count": 16,
      "metadata": {
        "colab": {
          "base_uri": "https://localhost:8080/"
        },
        "id": "WV7ZYuED695S",
        "outputId": "bc709a21-9812-4236-d13e-00b0e2dbc904"
      },
      "outputs": [
        {
          "data": {
            "text/plain": [
              "223"
            ]
          },
          "execution_count": 16,
          "metadata": {},
          "output_type": "execute_result"
        }
      ],
      "source": [
        "# Model number 233 has the lowest MSE in the validation set\n",
        "mean_vadlidation_MSE.idxmin()"
      ]
    },
    {
      "cell_type": "code",
      "execution_count": 17,
      "metadata": {
        "colab": {
          "base_uri": "https://localhost:8080/"
        },
        "id": "23IIRjdG7R9R",
        "outputId": "ccd3c5a2-f2eb-4137-c380-ce618a7f0cc6"
      },
      "outputs": [
        {
          "data": {
            "text/plain": [
              "['bill_length_mm',\n",
              " 'bill_depth_mm',\n",
              " 'flipper_length_mm',\n",
              " 'isAdelie',\n",
              " 'isGentoo',\n",
              " 'isFemale']"
            ]
          },
          "execution_count": 17,
          "metadata": {},
          "output_type": "execute_result"
        }
      ],
      "source": [
        "# The model uses the following predictors:\n",
        "df_results[df_results[\"model_number\"]==223][\"predictors\"][1100]"
      ]
    },
    {
      "cell_type": "markdown",
      "metadata": {
        "id": "gRYi8QGkFGOF"
      },
      "source": [
        "# 🏁 Recap\n",
        "\n",
        "- If you have finished the tasks and have no questions, place the green card on top.\n",
        "- If you have finished the tasks but would like to discuss the solutions together again, place the yellow card on top.\n",
        "\n",
        "![](https://www.lokalinfo.ch/fileadmin/news_import/image003_03.jpg)"
      ]
    },
    {
      "cell_type": "markdown",
      "metadata": {
        "id": "vTpI3hQ2_ye_"
      },
      "source": [
        "### Check on Test Set\n",
        "\n",
        "Finally, we can see, whether out selection makes sense on the test set:"
      ]
    },
    {
      "cell_type": "code",
      "execution_count": 18,
      "metadata": {
        "id": "MVsTotrZ9Giz"
      },
      "outputs": [],
      "source": [
        "\n",
        "results = []\n",
        "model_number = 1\n",
        "for L in range(0, len(list_of_all_predictors)+1):\n",
        "    for subset in itertools.combinations(list_of_all_predictors, L):\n",
        "        list_of_current_predictors = list(subset)\n",
        "        model_number = model_number + 1\n",
        "        \n",
        "        if len(list_of_current_predictors) != 0:\n",
        "\n",
        "          # Defining the predicted variable y and predictor X\n",
        "\n",
        "          X_training_and_validation = training_and_validation[list_of_current_predictors]\n",
        "          y_training_and_validation = training_and_validation[\"body_mass_g\"]\n",
        "\n",
        "          # Define, that we want to take a linear regression as a model f\n",
        "          reg = LinearRegression()\n",
        "\n",
        "          # Fitting Simple Linear Regression to the test set\n",
        "          reg.fit(X_training_and_validation, y_training_and_validation)\n",
        "\n",
        "\n",
        "          X_test = test[list_of_current_predictors]\n",
        "          y_test = test[\"body_mass_g\"]\n",
        "          y_hat = reg.predict(X_test)\n",
        "\n",
        "          mse = np.mean((y_test-y_hat)**2)\n",
        "\n",
        "          results.append([0, 'test', mse, list_of_current_predictors, len(list_of_current_predictors), model_number])"
      ]
    },
    {
      "cell_type": "code",
      "execution_count": 19,
      "metadata": {
        "colab": {
          "base_uri": "https://localhost:8080/",
          "height": 423
        },
        "id": "0yu3TehTBDwp",
        "outputId": "121cafed-8c55-445a-c522-6baf85ce2021"
      },
      "outputs": [
        {
          "data": {
            "text/html": [
              "<div>\n",
              "<style scoped>\n",
              "    .dataframe tbody tr th:only-of-type {\n",
              "        vertical-align: middle;\n",
              "    }\n",
              "\n",
              "    .dataframe tbody tr th {\n",
              "        vertical-align: top;\n",
              "    }\n",
              "\n",
              "    .dataframe thead th {\n",
              "        text-align: right;\n",
              "    }\n",
              "</style>\n",
              "<table border=\"1\" class=\"dataframe\">\n",
              "  <thead>\n",
              "    <tr style=\"text-align: right;\">\n",
              "      <th></th>\n",
              "      <th>fold</th>\n",
              "      <th>data_set</th>\n",
              "      <th>MSE</th>\n",
              "      <th>predictors</th>\n",
              "      <th>number_of_predictors</th>\n",
              "      <th>model_number</th>\n",
              "    </tr>\n",
              "  </thead>\n",
              "  <tbody>\n",
              "    <tr>\n",
              "      <th>0</th>\n",
              "      <td>0</td>\n",
              "      <td>test</td>\n",
              "      <td>499298.452851</td>\n",
              "      <td>[bill_length_mm]</td>\n",
              "      <td>1</td>\n",
              "      <td>3</td>\n",
              "    </tr>\n",
              "    <tr>\n",
              "      <th>1</th>\n",
              "      <td>0</td>\n",
              "      <td>test</td>\n",
              "      <td>480027.025768</td>\n",
              "      <td>[bill_depth_mm]</td>\n",
              "      <td>1</td>\n",
              "      <td>4</td>\n",
              "    </tr>\n",
              "    <tr>\n",
              "      <th>2</th>\n",
              "      <td>0</td>\n",
              "      <td>test</td>\n",
              "      <td>159455.784150</td>\n",
              "      <td>[flipper_length_mm]</td>\n",
              "      <td>1</td>\n",
              "      <td>5</td>\n",
              "    </tr>\n",
              "    <tr>\n",
              "      <th>3</th>\n",
              "      <td>0</td>\n",
              "      <td>test</td>\n",
              "      <td>516552.666944</td>\n",
              "      <td>[isAdelie]</td>\n",
              "      <td>1</td>\n",
              "      <td>6</td>\n",
              "    </tr>\n",
              "    <tr>\n",
              "      <th>4</th>\n",
              "      <td>0</td>\n",
              "      <td>test</td>\n",
              "      <td>232108.521476</td>\n",
              "      <td>[isGentoo]</td>\n",
              "      <td>1</td>\n",
              "      <td>7</td>\n",
              "    </tr>\n",
              "    <tr>\n",
              "      <th>...</th>\n",
              "      <td>...</td>\n",
              "      <td>...</td>\n",
              "      <td>...</td>\n",
              "      <td>...</td>\n",
              "      <td>...</td>\n",
              "      <td>...</td>\n",
              "    </tr>\n",
              "    <tr>\n",
              "      <th>250</th>\n",
              "      <td>0</td>\n",
              "      <td>test</td>\n",
              "      <td>98632.299986</td>\n",
              "      <td>[bill_length_mm, bill_depth_mm, flipper_length...</td>\n",
              "      <td>7</td>\n",
              "      <td>253</td>\n",
              "    </tr>\n",
              "    <tr>\n",
              "      <th>251</th>\n",
              "      <td>0</td>\n",
              "      <td>test</td>\n",
              "      <td>98590.642641</td>\n",
              "      <td>[bill_length_mm, bill_depth_mm, isAdelie, isGe...</td>\n",
              "      <td>7</td>\n",
              "      <td>254</td>\n",
              "    </tr>\n",
              "    <tr>\n",
              "      <th>252</th>\n",
              "      <td>0</td>\n",
              "      <td>test</td>\n",
              "      <td>98888.804851</td>\n",
              "      <td>[bill_length_mm, flipper_length_mm, isAdelie, ...</td>\n",
              "      <td>7</td>\n",
              "      <td>255</td>\n",
              "    </tr>\n",
              "    <tr>\n",
              "      <th>253</th>\n",
              "      <td>0</td>\n",
              "      <td>test</td>\n",
              "      <td>97091.357444</td>\n",
              "      <td>[bill_depth_mm, flipper_length_mm, isAdelie, i...</td>\n",
              "      <td>7</td>\n",
              "      <td>256</td>\n",
              "    </tr>\n",
              "    <tr>\n",
              "      <th>254</th>\n",
              "      <td>0</td>\n",
              "      <td>test</td>\n",
              "      <td>94117.240247</td>\n",
              "      <td>[bill_length_mm, bill_depth_mm, flipper_length...</td>\n",
              "      <td>8</td>\n",
              "      <td>257</td>\n",
              "    </tr>\n",
              "  </tbody>\n",
              "</table>\n",
              "<p>255 rows × 6 columns</p>\n",
              "</div>"
            ],
            "text/plain": [
              "     fold data_set            MSE  \\\n",
              "0       0     test  499298.452851   \n",
              "1       0     test  480027.025768   \n",
              "2       0     test  159455.784150   \n",
              "3       0     test  516552.666944   \n",
              "4       0     test  232108.521476   \n",
              "..    ...      ...            ...   \n",
              "250     0     test   98632.299986   \n",
              "251     0     test   98590.642641   \n",
              "252     0     test   98888.804851   \n",
              "253     0     test   97091.357444   \n",
              "254     0     test   94117.240247   \n",
              "\n",
              "                                            predictors  number_of_predictors  \\\n",
              "0                                     [bill_length_mm]                     1   \n",
              "1                                      [bill_depth_mm]                     1   \n",
              "2                                  [flipper_length_mm]                     1   \n",
              "3                                           [isAdelie]                     1   \n",
              "4                                           [isGentoo]                     1   \n",
              "..                                                 ...                   ...   \n",
              "250  [bill_length_mm, bill_depth_mm, flipper_length...                     7   \n",
              "251  [bill_length_mm, bill_depth_mm, isAdelie, isGe...                     7   \n",
              "252  [bill_length_mm, flipper_length_mm, isAdelie, ...                     7   \n",
              "253  [bill_depth_mm, flipper_length_mm, isAdelie, i...                     7   \n",
              "254  [bill_length_mm, bill_depth_mm, flipper_length...                     8   \n",
              "\n",
              "     model_number  \n",
              "0               3  \n",
              "1               4  \n",
              "2               5  \n",
              "3               6  \n",
              "4               7  \n",
              "..            ...  \n",
              "250           253  \n",
              "251           254  \n",
              "252           255  \n",
              "253           256  \n",
              "254           257  \n",
              "\n",
              "[255 rows x 6 columns]"
            ]
          },
          "execution_count": 19,
          "metadata": {},
          "output_type": "execute_result"
        }
      ],
      "source": [
        "df_results = pd.DataFrame(columns=columns, data = results)\n",
        "df_results"
      ]
    },
    {
      "cell_type": "code",
      "execution_count": 20,
      "metadata": {
        "colab": {
          "base_uri": "https://localhost:8080/",
          "height": 676
        },
        "id": "LF71Pr0oBgp6",
        "outputId": "326b17d3-412f-4fe7-b81e-6ebdb2a68616"
      },
      "outputs": [
        {
          "data": {
            "text/html": [
              "<div>\n",
              "<style scoped>\n",
              "    .dataframe tbody tr th:only-of-type {\n",
              "        vertical-align: middle;\n",
              "    }\n",
              "\n",
              "    .dataframe tbody tr th {\n",
              "        vertical-align: top;\n",
              "    }\n",
              "\n",
              "    .dataframe thead th {\n",
              "        text-align: right;\n",
              "    }\n",
              "</style>\n",
              "<table border=\"1\" class=\"dataframe\">\n",
              "  <thead>\n",
              "    <tr style=\"text-align: right;\">\n",
              "      <th></th>\n",
              "      <th>fold</th>\n",
              "      <th>data_set</th>\n",
              "      <th>MSE</th>\n",
              "      <th>predictors</th>\n",
              "      <th>number_of_predictors</th>\n",
              "      <th>model_number</th>\n",
              "    </tr>\n",
              "  </thead>\n",
              "  <tbody>\n",
              "    <tr>\n",
              "      <th>254</th>\n",
              "      <td>0</td>\n",
              "      <td>test</td>\n",
              "      <td>94117.240247</td>\n",
              "      <td>[bill_length_mm, bill_depth_mm, flipper_length...</td>\n",
              "      <td>8</td>\n",
              "      <td>257</td>\n",
              "    </tr>\n",
              "    <tr>\n",
              "      <th>247</th>\n",
              "      <td>0</td>\n",
              "      <td>test</td>\n",
              "      <td>94161.146609</td>\n",
              "      <td>[bill_length_mm, bill_depth_mm, flipper_length...</td>\n",
              "      <td>7</td>\n",
              "      <td>250</td>\n",
              "    </tr>\n",
              "    <tr>\n",
              "      <th>248</th>\n",
              "      <td>0</td>\n",
              "      <td>test</td>\n",
              "      <td>94333.503424</td>\n",
              "      <td>[bill_length_mm, bill_depth_mm, flipper_length...</td>\n",
              "      <td>7</td>\n",
              "      <td>251</td>\n",
              "    </tr>\n",
              "    <tr>\n",
              "      <th>220</th>\n",
              "      <td>0</td>\n",
              "      <td>test</td>\n",
              "      <td>94549.835072</td>\n",
              "      <td>[bill_length_mm, bill_depth_mm, flipper_length...</td>\n",
              "      <td>6</td>\n",
              "      <td>223</td>\n",
              "    </tr>\n",
              "    <tr>\n",
              "      <th>241</th>\n",
              "      <td>0</td>\n",
              "      <td>test</td>\n",
              "      <td>97073.247327</td>\n",
              "      <td>[bill_depth_mm, flipper_length_mm, isAdelie, i...</td>\n",
              "      <td>6</td>\n",
              "      <td>244</td>\n",
              "    </tr>\n",
              "    <tr>\n",
              "      <th>253</th>\n",
              "      <td>0</td>\n",
              "      <td>test</td>\n",
              "      <td>97091.357444</td>\n",
              "      <td>[bill_depth_mm, flipper_length_mm, isAdelie, i...</td>\n",
              "      <td>7</td>\n",
              "      <td>256</td>\n",
              "    </tr>\n",
              "    <tr>\n",
              "      <th>240</th>\n",
              "      <td>0</td>\n",
              "      <td>test</td>\n",
              "      <td>97228.567677</td>\n",
              "      <td>[bill_depth_mm, flipper_length_mm, isAdelie, i...</td>\n",
              "      <td>6</td>\n",
              "      <td>243</td>\n",
              "    </tr>\n",
              "    <tr>\n",
              "      <th>199</th>\n",
              "      <td>0</td>\n",
              "      <td>test</td>\n",
              "      <td>97419.655316</td>\n",
              "      <td>[bill_depth_mm, flipper_length_mm, isAdelie, i...</td>\n",
              "      <td>5</td>\n",
              "      <td>202</td>\n",
              "    </tr>\n",
              "    <tr>\n",
              "      <th>218</th>\n",
              "      <td>0</td>\n",
              "      <td>test</td>\n",
              "      <td>97642.541172</td>\n",
              "      <td>[bill_length_mm, bill_depth_mm, flipper_length...</td>\n",
              "      <td>6</td>\n",
              "      <td>221</td>\n",
              "    </tr>\n",
              "    <tr>\n",
              "      <th>226</th>\n",
              "      <td>0</td>\n",
              "      <td>test</td>\n",
              "      <td>97705.074785</td>\n",
              "      <td>[bill_length_mm, bill_depth_mm, flipper_length...</td>\n",
              "      <td>6</td>\n",
              "      <td>229</td>\n",
              "    </tr>\n",
              "    <tr>\n",
              "      <th>205</th>\n",
              "      <td>0</td>\n",
              "      <td>test</td>\n",
              "      <td>97710.385863</td>\n",
              "      <td>[bill_depth_mm, flipper_length_mm, isGentoo, f...</td>\n",
              "      <td>5</td>\n",
              "      <td>208</td>\n",
              "    </tr>\n",
              "    <tr>\n",
              "      <th>174</th>\n",
              "      <td>0</td>\n",
              "      <td>test</td>\n",
              "      <td>98001.298514</td>\n",
              "      <td>[bill_length_mm, bill_depth_mm, isAdelie, isGe...</td>\n",
              "      <td>5</td>\n",
              "      <td>177</td>\n",
              "    </tr>\n",
              "    <tr>\n",
              "      <th>246</th>\n",
              "      <td>0</td>\n",
              "      <td>test</td>\n",
              "      <td>98026.425359</td>\n",
              "      <td>[bill_length_mm, bill_depth_mm, flipper_length...</td>\n",
              "      <td>7</td>\n",
              "      <td>249</td>\n",
              "    </tr>\n",
              "    <tr>\n",
              "      <th>230</th>\n",
              "      <td>0</td>\n",
              "      <td>test</td>\n",
              "      <td>98325.393101</td>\n",
              "      <td>[bill_length_mm, bill_depth_mm, isAdelie, isGe...</td>\n",
              "      <td>6</td>\n",
              "      <td>233</td>\n",
              "    </tr>\n",
              "    <tr>\n",
              "      <th>243</th>\n",
              "      <td>0</td>\n",
              "      <td>test</td>\n",
              "      <td>98509.102403</td>\n",
              "      <td>[bill_depth_mm, flipper_length_mm, isGentoo, f...</td>\n",
              "      <td>6</td>\n",
              "      <td>246</td>\n",
              "    </tr>\n",
              "    <tr>\n",
              "      <th>229</th>\n",
              "      <td>0</td>\n",
              "      <td>test</td>\n",
              "      <td>98544.737295</td>\n",
              "      <td>[bill_length_mm, bill_depth_mm, isAdelie, isGe...</td>\n",
              "      <td>6</td>\n",
              "      <td>232</td>\n",
              "    </tr>\n",
              "    <tr>\n",
              "      <th>251</th>\n",
              "      <td>0</td>\n",
              "      <td>test</td>\n",
              "      <td>98590.642641</td>\n",
              "      <td>[bill_length_mm, bill_depth_mm, isAdelie, isGe...</td>\n",
              "      <td>7</td>\n",
              "      <td>254</td>\n",
              "    </tr>\n",
              "    <tr>\n",
              "      <th>250</th>\n",
              "      <td>0</td>\n",
              "      <td>test</td>\n",
              "      <td>98632.299986</td>\n",
              "      <td>[bill_length_mm, bill_depth_mm, flipper_length...</td>\n",
              "      <td>7</td>\n",
              "      <td>253</td>\n",
              "    </tr>\n",
              "    <tr>\n",
              "      <th>252</th>\n",
              "      <td>0</td>\n",
              "      <td>test</td>\n",
              "      <td>98888.804851</td>\n",
              "      <td>[bill_length_mm, flipper_length_mm, isAdelie, ...</td>\n",
              "      <td>7</td>\n",
              "      <td>255</td>\n",
              "    </tr>\n",
              "    <tr>\n",
              "      <th>133</th>\n",
              "      <td>0</td>\n",
              "      <td>test</td>\n",
              "      <td>98924.068102</td>\n",
              "      <td>[bill_depth_mm, flipper_length_mm, isGentoo, i...</td>\n",
              "      <td>4</td>\n",
              "      <td>136</td>\n",
              "    </tr>\n",
              "  </tbody>\n",
              "</table>\n",
              "</div>"
            ],
            "text/plain": [
              "     fold data_set           MSE  \\\n",
              "254     0     test  94117.240247   \n",
              "247     0     test  94161.146609   \n",
              "248     0     test  94333.503424   \n",
              "220     0     test  94549.835072   \n",
              "241     0     test  97073.247327   \n",
              "253     0     test  97091.357444   \n",
              "240     0     test  97228.567677   \n",
              "199     0     test  97419.655316   \n",
              "218     0     test  97642.541172   \n",
              "226     0     test  97705.074785   \n",
              "205     0     test  97710.385863   \n",
              "174     0     test  98001.298514   \n",
              "246     0     test  98026.425359   \n",
              "230     0     test  98325.393101   \n",
              "243     0     test  98509.102403   \n",
              "229     0     test  98544.737295   \n",
              "251     0     test  98590.642641   \n",
              "250     0     test  98632.299986   \n",
              "252     0     test  98888.804851   \n",
              "133     0     test  98924.068102   \n",
              "\n",
              "                                            predictors  number_of_predictors  \\\n",
              "254  [bill_length_mm, bill_depth_mm, flipper_length...                     8   \n",
              "247  [bill_length_mm, bill_depth_mm, flipper_length...                     7   \n",
              "248  [bill_length_mm, bill_depth_mm, flipper_length...                     7   \n",
              "220  [bill_length_mm, bill_depth_mm, flipper_length...                     6   \n",
              "241  [bill_depth_mm, flipper_length_mm, isAdelie, i...                     6   \n",
              "253  [bill_depth_mm, flipper_length_mm, isAdelie, i...                     7   \n",
              "240  [bill_depth_mm, flipper_length_mm, isAdelie, i...                     6   \n",
              "199  [bill_depth_mm, flipper_length_mm, isAdelie, i...                     5   \n",
              "218  [bill_length_mm, bill_depth_mm, flipper_length...                     6   \n",
              "226  [bill_length_mm, bill_depth_mm, flipper_length...                     6   \n",
              "205  [bill_depth_mm, flipper_length_mm, isGentoo, f...                     5   \n",
              "174  [bill_length_mm, bill_depth_mm, isAdelie, isGe...                     5   \n",
              "246  [bill_length_mm, bill_depth_mm, flipper_length...                     7   \n",
              "230  [bill_length_mm, bill_depth_mm, isAdelie, isGe...                     6   \n",
              "243  [bill_depth_mm, flipper_length_mm, isGentoo, f...                     6   \n",
              "229  [bill_length_mm, bill_depth_mm, isAdelie, isGe...                     6   \n",
              "251  [bill_length_mm, bill_depth_mm, isAdelie, isGe...                     7   \n",
              "250  [bill_length_mm, bill_depth_mm, flipper_length...                     7   \n",
              "252  [bill_length_mm, flipper_length_mm, isAdelie, ...                     7   \n",
              "133  [bill_depth_mm, flipper_length_mm, isGentoo, i...                     4   \n",
              "\n",
              "     model_number  \n",
              "254           257  \n",
              "247           250  \n",
              "248           251  \n",
              "220           223  \n",
              "241           244  \n",
              "253           256  \n",
              "240           243  \n",
              "199           202  \n",
              "218           221  \n",
              "226           229  \n",
              "205           208  \n",
              "174           177  \n",
              "246           249  \n",
              "230           233  \n",
              "243           246  \n",
              "229           232  \n",
              "251           254  \n",
              "250           253  \n",
              "252           255  \n",
              "133           136  "
            ]
          },
          "execution_count": 20,
          "metadata": {},
          "output_type": "execute_result"
        }
      ],
      "source": [
        "df_results.sort_values(\"MSE\").head(20)"
      ]
    },
    {
      "cell_type": "code",
      "execution_count": 21,
      "metadata": {
        "id": "EUbKzPdTBkwa"
      },
      "outputs": [],
      "source": [
        "# We can see, that model 223 is also the forth best model in the test set\n",
        "# It also also the best model using only 6 variables"
      ]
    },
    {
      "cell_type": "markdown",
      "metadata": {
        "id": "LnBSnXzZJlNY"
      },
      "source": [
        "We can take a closer look at this model, to see how it works. If we look at the parameters, we see that for instance beeing a female penguine decreases the predicted weight."
      ]
    },
    {
      "cell_type": "code",
      "execution_count": 22,
      "metadata": {
        "colab": {
          "base_uri": "https://localhost:8080/"
        },
        "id": "bFofBYv-BwsL",
        "outputId": "6c080d44-ac0b-4b0c-c12e-e1f6291149d7"
      },
      "outputs": [
        {
          "name": "stdout",
          "output_type": "stream",
          "text": [
            "intercept (beta_0): -1228.8475502926458\n",
            "slope (beta_i): [  16.39166536   62.71409703   16.43978836  228.08685154 1224.05955709\n",
            " -407.50446643]\n"
          ]
        }
      ],
      "source": [
        "# Get coefficents\n",
        "\n",
        "best_predictors = ['bill_length_mm',\n",
        " 'bill_depth_mm',\n",
        " 'flipper_length_mm',\n",
        " 'isAdelie',\n",
        " 'isGentoo',\n",
        " 'isFemale']\n",
        "\n",
        "# Defining the predicted variable y and predictor X\n",
        "\n",
        "X_training_and_validation = training_and_validation[best_predictors]\n",
        "y_training_and_validation = training_and_validation[\"body_mass_g\"]\n",
        "\n",
        "# Define, that we want to take a linear regression as a model f\n",
        "reg = LinearRegression()\n",
        "\n",
        "# Fitting Simple Linear Regression to the test set\n",
        "reg.fit(X_training_and_validation, y_training_and_validation)\n",
        "\n",
        "# Print the Intercept:\n",
        "print('intercept (beta_0):', reg.intercept_)\n",
        "\n",
        "# Print the Slope:\n",
        "print('slope (beta_i):', reg.coef_) \n"
      ]
    },
    {
      "cell_type": "markdown",
      "metadata": {
        "id": "8efwzkW3FIWe"
      },
      "source": [
        "# 🏁 Recap\n",
        "\n",
        "- If you have finished the tasks and have no questions, place the green card on top.\n",
        "- If you have finished the tasks but would like to discuss the solutions together again, place the yellow card on top.\n",
        "\n",
        "![](https://www.lokalinfo.ch/fileadmin/news_import/image003_03.jpg)"
      ]
    },
    {
      "cell_type": "markdown",
      "metadata": {
        "id": "unQVyWNABeMQ"
      },
      "source": [
        "## 5.2 Regularisation\n"
      ]
    },
    {
      "cell_type": "markdown",
      "metadata": {
        "id": "1j5X3Y6wCtfs"
      },
      "source": [
        "## Ridge Regression\n",
        "\n",
        "As an alternative to the extensive search, we can use the regression model, with a regluarization term like the [Ridge Regression](https://scikit-learn.org/stable/modules/generated/sklearn.linear_model.Ridge.html). This model expands the linear regression with a penalty term for large coefficents $\\beta_i$:\n",
        "\n",
        "\n",
        "$$RSS+\\alpha \\sum^p_{j=1}  \\beta_j^2$$\n",
        "\n",
        "- $\\sum^p_{j=1}  \\beta_j^2$ ... shrinkage penalty\n",
        "- $\\alpha$ ... tuning parameter (hyper parameter)\n",
        "* note that the model will still contain all parameters\n",
        "\n",
        "As Scikitlearn provides an implementation of the Ridge Regression, we do not have to change much in our previous code, but simply exchange the model.\n",
        "\n",
        "We can pass the tuning parameter to the function in statmodels.\n",
        "```reg = Ridge(alpha=1.0, random_state = 0)``` to try and $\\alpha$ of $1$\n"
      ]
    },
    {
      "cell_type": "code",
      "execution_count": 23,
      "metadata": {
        "id": "6Cqi-pqtDMhE"
      },
      "outputs": [],
      "source": [
        "# Defining training and test set with all possible predictors\n",
        "list_of_predictors = ['bill_length_mm', 'bill_depth_mm','flipper_length_mm', 'isAdelie', 'isGentoo','fromTorgersen',\t'fromBiscoe',\t'isFemale']\n",
        "X_training_and_validation = training_and_validation[list_of_predictors]\n",
        "y_training_and_validation = training_and_validation[\"body_mass_g\"]\n",
        "\n",
        "X_test = test[list_of_predictors]\n",
        "y_test = test[\"body_mass_g\"]"
      ]
    },
    {
      "cell_type": "code",
      "execution_count": 24,
      "metadata": {
        "colab": {
          "base_uri": "https://localhost:8080/"
        },
        "id": "jzZ-j5Ebg_5A",
        "outputId": "97a19782-14a8-45b5-ec75-4596f15631f2"
      },
      "outputs": [
        {
          "data": {
            "text/plain": [
              "Ridge(random_state=0)"
            ]
          },
          "execution_count": 24,
          "metadata": {},
          "output_type": "execute_result"
        }
      ],
      "source": [
        "# Training the Ridge Regression\n",
        "from sklearn.linear_model import Ridge\n",
        "\n",
        "reg = Ridge(alpha=1.0, random_state = 0)\n",
        "reg.fit(X_training_and_validation, y_training_and_validation)"
      ]
    },
    {
      "cell_type": "code",
      "execution_count": 25,
      "metadata": {
        "colab": {
          "base_uri": "https://localhost:8080/"
        },
        "id": "52ZZ2Q3xg_2Y",
        "outputId": "a9083816-3ed5-4006-a90b-a764189a449d"
      },
      "outputs": [
        {
          "data": {
            "text/plain": [
              "96076.96969012977"
            ]
          },
          "execution_count": 25,
          "metadata": {},
          "output_type": "execute_result"
        }
      ],
      "source": [
        "# Prediction and evaluation\n",
        "# We see, that the ridge regression gives us good predictions, without the extensive search\n",
        "# With an MSE of 96077, only four of our prior models better on the test set\n",
        "y_hat = reg.predict(X_test)\n",
        "mse = np.mean((y_test-y_hat)**2)\n",
        "mse"
      ]
    },
    {
      "cell_type": "code",
      "execution_count": 26,
      "metadata": {
        "colab": {
          "base_uri": "https://localhost:8080/"
        },
        "id": "jnPr2kbgg_xI",
        "outputId": "76450f5a-0559-4a6f-82e6-734cfa648881"
      },
      "outputs": [
        {
          "name": "stdout",
          "output_type": "stream",
          "text": [
            "intercept (beta_0): -1408.8878099537933\n",
            "slope (beta_i): [  14.41779582   43.09502952   19.83239925  181.97312327  990.69350391\n",
            "   12.11287368   58.78989938 -416.6695119 ]\n"
          ]
        }
      ],
      "source": [
        "# Print the Intercept:\n",
        "print('intercept (beta_0):', reg.intercept_)\n",
        "\n",
        "# Print the Slope:\n",
        "print('slope (beta_i):', reg.coef_) "
      ]
    },
    {
      "cell_type": "markdown",
      "metadata": {
        "id": "ewqREErBGbjs"
      },
      "source": [
        "# 🏁 Recap\n",
        "\n",
        "- If you have finished the tasks and have no questions, place the green card on top.\n",
        "- If you have finished the tasks but would like to discuss the solutions together again, place the yellow card on top.\n",
        "\n",
        "![](https://www.lokalinfo.ch/fileadmin/news_import/image003_03.jpg)"
      ]
    },
    {
      "cell_type": "markdown",
      "metadata": {
        "id": "WluHVQK3vFZe"
      },
      "source": [
        "## 🏆 Case Study II\n",
        "\n",
        "See if You can get a better test set result for the Ridge Regression using another alpha. Test all alphas in:\n",
        "\n",
        "```alpha in np.linspace(0.0, 5, num=21)```\n"
      ]
    },
    {
      "cell_type": "code",
      "execution_count": 27,
      "metadata": {
        "id": "_YIoIfIGvSRL"
      },
      "outputs": [],
      "source": [
        "# Training the Ridge Regression\n",
        "from sklearn.linear_model import Ridge\n",
        "\n",
        "def test_ridge(alpha):\n",
        "  # Defining training and test set with all possible predictors\n",
        "  list_of_predictors = ['bill_length_mm', 'bill_depth_mm','flipper_length_mm', 'isAdelie', 'isGentoo','fromTorgersen',\t'fromBiscoe',\t'isFemale']\n",
        "  X_training_and_validation = training_and_validation[list_of_predictors]\n",
        "  y_training_and_validation = training_and_validation[\"body_mass_g\"]\n",
        "\n",
        "  X_test = test[list_of_predictors]\n",
        "  y_test = test[\"body_mass_g\"]\n",
        "\n",
        "\n",
        "\n",
        "  reg = Ridge(alpha=alpha, random_state = 0)\n",
        "  reg.fit(X_training_and_validation, y_training_and_validation)\n",
        "  y_hat = reg.predict(X_test)\n",
        "  mse = np.mean((y_test-y_hat)**2)\n",
        "  print(\"Test set MSE with alpha = {}: {}\".format(alpha, mse))"
      ]
    },
    {
      "cell_type": "code",
      "execution_count": 28,
      "metadata": {
        "colab": {
          "base_uri": "https://localhost:8080/"
        },
        "id": "UetRYzlBvSq2",
        "outputId": "891acce3-d3e4-4af1-a884-24487ea2c6a9"
      },
      "outputs": [
        {
          "name": "stdout",
          "output_type": "stream",
          "text": [
            "Test set MSE with alpha = 0.0: 94117.24024658365\n",
            "Test set MSE with alpha = 0.25: 94572.09121171707\n",
            "Test set MSE with alpha = 0.5: 95061.89743653237\n",
            "Test set MSE with alpha = 0.75: 95567.62423964994\n",
            "Test set MSE with alpha = 1.0: 96076.96969012977\n",
            "Test set MSE with alpha = 1.25: 96582.02420368796\n",
            "Test set MSE with alpha = 1.5: 97077.77922088705\n",
            "Test set MSE with alpha = 1.75: 97561.15968811506\n",
            "Test set MSE with alpha = 2.0: 98030.3866209861\n",
            "Test set MSE with alpha = 2.25: 98484.55161236161\n",
            "Test set MSE with alpha = 2.5: 98923.329701562\n",
            "Test set MSE with alpha = 2.75: 99346.78389769662\n",
            "Test set MSE with alpha = 3.0: 99755.23120260709\n",
            "Test set MSE with alpha = 3.25: 100149.15036636882\n",
            "Test set MSE with alpha = 3.5: 100529.1182386734\n",
            "Test set MSE with alpha = 3.75: 100895.76587757329\n",
            "Test set MSE with alpha = 4.0: 101249.74840283858\n",
            "Test set MSE with alpha = 4.25: 101591.72446293423\n",
            "Test set MSE with alpha = 4.5: 101922.34245247729\n",
            "Test set MSE with alpha = 4.75: 102242.23148041354\n",
            "Test set MSE with alpha = 5.0: 102551.9956828409\n"
          ]
        }
      ],
      "source": [
        "for alpha in np.linspace(0.0, 5, num=21):\n",
        "  test_ridge(alpha)"
      ]
    },
    {
      "cell_type": "code",
      "execution_count": 29,
      "metadata": {
        "id": "9e2IeNpgwtsJ"
      },
      "outputs": [],
      "source": [
        "# Looping throug a possible set of hyper parameters alpha is what we call a grid search\n",
        "# We observe, that in this case. The model without any penalty term (alpha = 0) is better than any other model\n",
        "# This is exaclty the model number 257, with all predictors, also created in our extensive search"
      ]
    },
    {
      "cell_type": "markdown",
      "metadata": {
        "id": "E6DAECdTGgeD"
      },
      "source": [
        "# 🏁 Recap\n",
        "\n",
        "- If you have finished the tasks and have no questions, place the green card on top.\n",
        "- If you have finished the tasks but would like to discuss the solutions together again, place the yellow card on top.\n",
        "\n",
        "![](https://www.lokalinfo.ch/fileadmin/news_import/image003_03.jpg)"
      ]
    },
    {
      "cell_type": "markdown",
      "metadata": {
        "id": "m5QhH8q8i158"
      },
      "source": [
        "## Lasso Regression\n",
        "\n",
        "In pratice, we should use the test and valdiation set, to  find the best parameter for $\\alpha$, so that we have an untouched test set for the final evaluation. We could implement the cross validation, as we did for finding the best combination of predcitors.\n",
        "\n",
        "Luckily, many sklearn functions already have this prepared for us. While [```Lasso```](https://scikit-learn.org/stable/modules/generated/sklearn.linear_model.Lasso.html) let's us select an alpha, if we use\n",
        "[```LassoCV```](https://scikit-learn.org/stable/modules/generated/sklearn.linear_model.LassoCV.html) sklearn automatically performs a cross validation during training to find the best alpha.\n"
      ]
    },
    {
      "cell_type": "code",
      "execution_count": 30,
      "metadata": {
        "colab": {
          "base_uri": "https://localhost:8080/"
        },
        "id": "lzipi-NoDuWt",
        "outputId": "1bed1423-23c8-4a2a-e9f5-40f242ae0c07"
      },
      "outputs": [
        {
          "data": {
            "text/plain": [
              "LassoCV(cv=5, random_state=1)"
            ]
          },
          "execution_count": 30,
          "metadata": {},
          "output_type": "execute_result"
        }
      ],
      "source": [
        "# Training a Lasso Regression with automatic search fpr alpha\n",
        "from sklearn.linear_model import LassoCV\n",
        "reg = LassoCV(cv=5, random_state=1)\n",
        "reg.fit(X_training_and_validation, y_training_and_validation)"
      ]
    },
    {
      "cell_type": "code",
      "execution_count": 31,
      "metadata": {
        "colab": {
          "base_uri": "https://localhost:8080/"
        },
        "id": "-BWnqhbQgpDY",
        "outputId": "965e35c0-ad7f-449d-dc3b-cb65eb5a05a8"
      },
      "outputs": [
        {
          "name": "stdout",
          "output_type": "stream",
          "text": [
            "intercept (beta_0): -1395.3482765157323\n",
            "slope (beta_i): [   1.50176886    7.82286338   26.73944917    0.          611.90324758\n",
            "    0.           56.84263436 -435.62608151]\n"
          ]
        }
      ],
      "source": [
        "# Print the Intercept:\n",
        "print('intercept (beta_0):', reg.intercept_)\n",
        "\n",
        "# Print the Slope:\n",
        "print('slope (beta_i):', reg.coef_) \n"
      ]
    },
    {
      "cell_type": "code",
      "execution_count": 32,
      "metadata": {
        "colab": {
          "base_uri": "https://localhost:8080/"
        },
        "id": "0zywlAtog1SY",
        "outputId": "0427c73b-8920-40ab-ec3f-0f88e1420233"
      },
      "outputs": [
        {
          "data": {
            "text/plain": [
              "107142.5066756019"
            ]
          },
          "execution_count": 32,
          "metadata": {},
          "output_type": "execute_result"
        }
      ],
      "source": [
        "# Results of the Lasso Regression\n",
        "y_hat = reg.predict(X_test)\n",
        "mse = np.mean((y_test-y_hat)**2)\n",
        "mse"
      ]
    },
    {
      "cell_type": "markdown",
      "metadata": {
        "id": "eIjgUp7bl7IQ"
      },
      "source": [
        "### Comparison of the best models\n",
        "\n",
        "If we compare, the parameters of the three models, we see that even if they all provide good results, the parameters they use are very different.\n",
        "\n",
        "The Lasso Regression removes two other variables, than the feature selection we performed. We also see, that the parameters stay similar in magnitude, but are still very different. This shows, that more complicated flexible models (e.g., with many predictors) are harder to interpret.\n",
        "\n",
        "\n",
        "|  | intercept | bill_length_mm | bill_depth_mm | flipper_length_mm | isAdelie | isGentoo | fromTorgersen | fromBiscoe | isFemale |\n",
        "|---|---|---|---|---|---|---|---|---|---|\n",
        "| Full set evaluation | -1228.8 | 16.3 | 62.7 | 16.4 | 228.1 | 1224.6 | 0 | 0 | -407.5 |\n",
        "| Lasso | -1395.3 | 1.5 | 7.8 | 26.7 | 0 | 611.9 | 0 | 56.8 | -435.6 |\n",
        "| Ridge | -1408.8 | 14.4 | 43.1 | 19.8 | 182.0 | 990.7 | 12.1 | 58.8 | -416.7 |"
      ]
    },
    {
      "cell_type": "markdown",
      "metadata": {
        "id": "4IVBDfL8GxHc"
      },
      "source": [
        "# 🏁 Recap\n",
        "\n",
        "- If you have finished the tasks and have no questions, place the green card on top.\n",
        "- If you have finished the tasks but would like to discuss the solutions together again, place the yellow card on top.\n",
        "\n",
        "![](https://www.lokalinfo.ch/fileadmin/news_import/image003_03.jpg)"
      ]
    },
    {
      "cell_type": "markdown",
      "metadata": {},
      "source": []
    }
  ],
  "metadata": {
    "colab": {
      "collapsed_sections": [],
      "provenance": [],
      "toc_visible": true
    },
    "kernelspec": {
      "display_name": "Python 3.8.8 ('base')",
      "language": "python",
      "name": "python3"
    },
    "language_info": {
      "codemirror_mode": {
        "name": "ipython",
        "version": 3
      },
      "file_extension": ".py",
      "mimetype": "text/x-python",
      "name": "python",
      "nbconvert_exporter": "python",
      "pygments_lexer": "ipython3",
      "version": "3.8.8"
    },
    "vscode": {
      "interpreter": {
        "hash": "91b5df634ae01e052c095f84ce6ac57f1bf815a7c386b368c11e7051e1049005"
      }
    }
  },
  "nbformat": 4,
  "nbformat_minor": 0
}

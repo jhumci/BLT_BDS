{
  "cells": [
    {
      "cell_type": "markdown",
      "metadata": {
        "id": "olx8H8f62Pvw"
      },
      "source": [
        "<table style=\"width: 100%\">\n",
        "    <tr style=\"background: #ffffff\">\n",
        "        <td style=\"padding-top:25px;width: 180px\"><img src=\"https://mci.edu/templates/mci/images/logo.svg\" alt=\"Logo\"></td>\n",
        "        <td style=\"width: 100%\">\n",
        "            <div style=\"text-align:right; width: 100%; text-align:right\"><font style=\"font-size:38px\"><b>Grundlagen Programmierung</b></font></div>\n",
        "            <div style=\"padding-top:0px; width: 100%; text-align:right\"><font size=\"4\"></font></div>\n",
        "        </td>\n",
        "    </tr>\n",
        "</table>\n",
        "\n",
        "---\n",
        "\n",
        "# 1.2.2 Lists and Loops\n",
        "\n",
        "If we want to work efficiently with more than one data point, stored in a variable, we have to introduce some new concepts. In this notebook You will learn to store multiple data points in a list and how to automate actions You want to perform on all of these data points.\n"
      ]
    },
    {
      "cell_type": "markdown",
      "metadata": {
        "id": "_qn1Nb-J5N-l"
      },
      "source": [
        "## 1.2.2.1 Special Data Types\n",
        "\n",
        "Last time we introduced different data types variables can have. We can check the type of a variable using the `type()` keyword:"
      ]
    },
    {
      "cell_type": "code",
      "execution_count": 1,
      "metadata": {
        "colab": {
          "base_uri": "https://localhost:8080/"
        },
        "id": "vwHEDRlM2MQG",
        "outputId": "bbc644e9-4091-4070-8cb2-94ab0c1b0674"
      },
      "outputs": [
        {
          "data": {
            "text/plain": [
              "str"
            ]
          },
          "execution_count": 1,
          "metadata": {},
          "output_type": "execute_result"
        }
      ],
      "source": [
        "type(\"ABC\")"
      ]
    },
    {
      "cell_type": "code",
      "execution_count": 2,
      "metadata": {
        "colab": {
          "base_uri": "https://localhost:8080/"
        },
        "id": "9isLxqfS2anA",
        "outputId": "98f3b30e-6774-4ffe-f53d-f41b5a4666ef"
      },
      "outputs": [
        {
          "data": {
            "text/plain": [
              "int"
            ]
          },
          "execution_count": 2,
          "metadata": {},
          "output_type": "execute_result"
        }
      ],
      "source": [
        "type(1)"
      ]
    },
    {
      "cell_type": "code",
      "execution_count": 3,
      "metadata": {
        "colab": {
          "base_uri": "https://localhost:8080/"
        },
        "id": "RyH_lkiH2cQf",
        "outputId": "eec6ff0b-8c3d-45f0-9f64-369a4ff8bba5"
      },
      "outputs": [
        {
          "data": {
            "text/plain": [
              "float"
            ]
          },
          "execution_count": 3,
          "metadata": {},
          "output_type": "execute_result"
        }
      ],
      "source": [
        "type(1.1)"
      ]
    },
    {
      "cell_type": "code",
      "execution_count": 4,
      "metadata": {},
      "outputs": [
        {
          "data": {
            "text/plain": [
              "bool"
            ]
          },
          "execution_count": 4,
          "metadata": {},
          "output_type": "execute_result"
        }
      ],
      "source": [
        "var_name = True\n",
        "type(var_name)"
      ]
    },
    {
      "cell_type": "markdown",
      "metadata": {
        "id": "NQbLnSK32rYf"
      },
      "source": [
        "### The \"None\" Data Type\n",
        "There are always situations where an input parameter (perhaps because it is optional) or a return value (perhaps because an error has occurred) should take the value \"None\". In Python, there is a special data type NoneType for this, whose value range contains exactly one value, namely None.\n",
        "\n",
        "None represents the absence of a value. The fact that the \"absence of a value\" is represented by a special value (which is actually a contradiction in terms) has to do with the fact that the computer cannot deal with \"nothing\" in any other way. The computer only understands bit sequences, and therefore \"nothing\" must be represented by a special bit sequence. And in Python, this special bit sequence is called None.\n",
        "\n",
        "For instance, we want do define a new variable, but the variable has no value yet:"
      ]
    },
    {
      "cell_type": "code",
      "execution_count": 5,
      "metadata": {
        "colab": {
          "base_uri": "https://localhost:8080/"
        },
        "id": "s5O5LqeO2pqX",
        "outputId": "f496f7ba-1a0d-4392-8a50-3c488c4c44b9"
      },
      "outputs": [
        {
          "data": {
            "text/plain": [
              "NoneType"
            ]
          },
          "execution_count": 5,
          "metadata": {},
          "output_type": "execute_result"
        }
      ],
      "source": [
        "# Storing the time passed in the simulation\n",
        "current_simulation_time = None\n",
        "type(current_simulation_time)"
      ]
    },
    {
      "cell_type": "markdown",
      "metadata": {
        "id": "iIDFIKBd3jWY"
      },
      "source": [
        "### Boolean Expressions\n",
        "\n",
        "As You learned, computers work with binary decisions (e.g. ```True``` or ```False```). Such information can be stored in a single bit.  A Boolean value is either ```True``` or ```False```. Boolean values are often used to keep track of certain conditions, such as whether a game is running or whether a user can edit certain content on a website:"
      ]
    },
    {
      "cell_type": "code",
      "execution_count": 6,
      "metadata": {
        "id": "5juVNDF-2eGu"
      },
      "outputs": [],
      "source": [
        "simulation_active = False\n",
        "can_edit = False"
      ]
    },
    {
      "cell_type": "markdown",
      "metadata": {
        "id": "ZQosHc8v4V-4"
      },
      "source": [
        "If we want to check, the status of a boolean variable we can use the ```==``` operator. If the status of ```simulation_active``` is in fact ```true```, the evaluation results in another boolean value ```true```. "
      ]
    },
    {
      "cell_type": "code",
      "execution_count": 7,
      "metadata": {
        "colab": {
          "base_uri": "https://localhost:8080/"
        },
        "id": "tBYYozy84VXG",
        "outputId": "51b7cdfa-3106-4142-e31e-e48245702a1b"
      },
      "outputs": [
        {
          "data": {
            "text/plain": [
              "True"
            ]
          },
          "execution_count": 7,
          "metadata": {},
          "output_type": "execute_result"
        }
      ],
      "source": [
        "simulation_active = True\n",
        "simulation_active == True"
      ]
    },
    {
      "cell_type": "markdown",
      "metadata": {
        "id": "eBn_8yMh42fd"
      },
      "source": [
        "Comparative evaluations are not limited to boolean values. We can also compare strings or numbers:"
      ]
    },
    {
      "cell_type": "code",
      "execution_count": 8,
      "metadata": {
        "colab": {
          "base_uri": "https://localhost:8080/"
        },
        "id": "lS9VQyCy4MZg",
        "outputId": "99f0bb29-1c89-411a-98d6-89947e4f6cfc"
      },
      "outputs": [
        {
          "data": {
            "text/plain": [
              "True"
            ]
          },
          "execution_count": 8,
          "metadata": {},
          "output_type": "execute_result"
        }
      ],
      "source": [
        "\"abc\" == \"abc\""
      ]
    },
    {
      "cell_type": "code",
      "execution_count": 9,
      "metadata": {
        "colab": {
          "base_uri": "https://localhost:8080/"
        },
        "id": "j4BXPq5S5CQu",
        "outputId": "52b93093-d1be-4f1e-ab0b-f45e4eb6f20e"
      },
      "outputs": [
        {
          "data": {
            "text/plain": [
              "False"
            ]
          },
          "execution_count": 9,
          "metadata": {},
          "output_type": "execute_result"
        }
      ],
      "source": [
        "\"Abc\" == \"abc\""
      ]
    },
    {
      "cell_type": "code",
      "execution_count": 10,
      "metadata": {
        "colab": {
          "base_uri": "https://localhost:8080/"
        },
        "id": "xexSYrPp5Dtd",
        "outputId": "da7cc917-196a-4496-83b0-e05cd91e6a11"
      },
      "outputs": [
        {
          "data": {
            "text/plain": [
              "True"
            ]
          },
          "execution_count": 10,
          "metadata": {},
          "output_type": "execute_result"
        }
      ],
      "source": [
        "1 == 1"
      ]
    },
    {
      "cell_type": "code",
      "execution_count": 11,
      "metadata": {
        "colab": {
          "base_uri": "https://localhost:8080/"
        },
        "id": "rfS9Kym15FM9",
        "outputId": "9b4402ef-642f-4dcb-d56a-7cb5b600ef76"
      },
      "outputs": [
        {
          "data": {
            "text/plain": [
              "False"
            ]
          },
          "execution_count": 11,
          "metadata": {},
          "output_type": "execute_result"
        }
      ],
      "source": [
        "1 == 1.1"
      ]
    },
    {
      "cell_type": "code",
      "execution_count": 12,
      "metadata": {
        "colab": {
          "base_uri": "https://localhost:8080/"
        },
        "id": "XatLbb4f5Gjs",
        "outputId": "899e84cc-643a-45c8-ce5f-a58b2efdda77"
      },
      "outputs": [
        {
          "data": {
            "text/plain": [
              "True"
            ]
          },
          "execution_count": 12,
          "metadata": {},
          "output_type": "execute_result"
        }
      ],
      "source": [
        "1 <= 1.1"
      ]
    },
    {
      "cell_type": "markdown",
      "metadata": {},
      "source": [
        "### Boolean Algebra\n",
        "\n",
        "Python can evaluate Expressions of Boolean Algebra using the keywords `and`, `or`, and `not`:"
      ]
    },
    {
      "cell_type": "code",
      "execution_count": 13,
      "metadata": {},
      "outputs": [
        {
          "name": "stdout",
          "output_type": "stream",
          "text": [
            "a and b is: False\n",
            "a or b is: True\n",
            "not a is: True\n",
            "c is: True\n"
          ]
        }
      ],
      "source": [
        "a = True\n",
        "b = False\n",
        "\n",
        "print(\"a and b is: \" + str(a and b))\n",
        "\n",
        "print(\"a or b is: \" + str(a or b))\n",
        "\n",
        "print(\"not a is: \" + str(not(b)))\n",
        "\n",
        "# we can also store the result in a new variable\n",
        "\n",
        "c = (a or b) and a\n",
        "print(\"c is: \" + str(c))"
      ]
    },
    {
      "cell_type": "markdown",
      "metadata": {
        "id": "mzHJCuXnUer4"
      },
      "source": [
        "✍️ **Task**\n",
        "\n",
        "Define two Boolean variables `is_from_austria` and `has_been_aged`. Set there values to `True` or `False`.\n",
        "\n",
        "Create a third variable `is_really_good_cheese`, that is only true, if both other variables are `True` at the same time. \n",
        "\n"
      ]
    },
    {
      "cell_type": "code",
      "execution_count": null,
      "metadata": {},
      "outputs": [],
      "source": []
    },
    {
      "cell_type": "code",
      "execution_count": 14,
      "metadata": {
        "id": "RvWFPr8q5IJM"
      },
      "outputs": [
        {
          "data": {
            "text/plain": [
              "False"
            ]
          },
          "execution_count": 14,
          "metadata": {},
          "output_type": "execute_result"
        }
      ],
      "source": [
        "#@title ❓ Click `Show code` in the code cell to show the solution. { display-mode: \"form\" }\n",
        "\n",
        "has_been_aged = True\n",
        "is_from_austria = False\n",
        "is_really_good_cheese = (is_from_austria and has_been_aged)\n",
        "is_from_austria"
      ]
    },
    {
      "cell_type": "markdown",
      "metadata": {
        "id": "jAAjJMcwvbYe"
      },
      "source": [
        "### 🏁 Recap\n",
        "\n",
        "- 🟥 If you have not finished the tasks, place the red card on top.\n",
        "- 🟩 If you have finished the tasks and have no questions and want to proceed, place the green card on top.\n",
        "- 🟨 If you have finished the tasks but would like to discuss the solutions together again, place the yellow card on top."
      ]
    },
    {
      "cell_type": "markdown",
      "metadata": {
        "id": "np0wSuOn5d2G"
      },
      "source": [
        "## 1.2.2.2 Lists\n",
        "\n",
        "In this chapter and the next you’ll learn\n",
        "what lists are and how to start working with\n",
        "the elements in a list. Lists allow you to store\n",
        "sets of information in one place, whether you\n",
        "have just a few items or millions of items. Lists are\n",
        "one of Python’s most powerful features readily accessible\n",
        "to new programmers, and they tie together many\n",
        "important concepts in programming.\n",
        "\n",
        "\n",
        "\n"
      ]
    },
    {
      "cell_type": "markdown",
      "metadata": {
        "id": "9nRKlKnx5s8-"
      },
      "source": [
        "Last time we wrote a function to evaluate logistic growth at a single point in time $t$.\n",
        "If we want to store multiply points in time where we want to evaluate the results, we could use multiple variables (e.g., `t_1`, `t_2`, ...). However, we would have to change our calculation code by hand to take the right variable any time we want to calculate something new.\n",
        "\n",
        "```\n",
        "t_1 = 1\n",
        "t_2 = 2\n",
        "t_3 = 3\n",
        "t_4 = 4\n",
        "...\n",
        "```\n",
        "\n",
        "![](https://upload.wikimedia.org/wikipedia/commons/8/84/Courbe_logistique%2C_Verhulst%2C_1845.png)\n",
        "\n",
        "Lists are a more elegant way to do this."
      ]
    },
    {
      "cell_type": "code",
      "execution_count": 15,
      "metadata": {
        "id": "rROwY3Zg5ftO"
      },
      "outputs": [],
      "source": [
        "# importing the math library\n",
        "import math\n",
        "\n",
        "# here the user can define the input\n",
        "initial_population_size = 100\n",
        "carrying_capacity = 200\n",
        "growth_rate = 0.1\n",
        "\n",
        "t = 10\n",
        "\n",
        "\n",
        "# here the calculation is made\n",
        "population_size = carrying_capacity / (1+((carrying_capacity - initial_population_size)/initial_population_size) * math.exp(- growth_rate*t))\n"
      ]
    },
    {
      "cell_type": "markdown",
      "metadata": {
        "id": "_XaT29JoESQI"
      },
      "source": [
        "#### What is a List?\n",
        "\n",
        "A list is a collection of items in a particular order. You can make a list that includes the letters of the alphabet, the digits from 0–9, or the names of all the people in your family. You can put anything you want into a list, and the items in your list don’t have to be related in any particular way.\n",
        "\n",
        "Because a list usually contains more than one element, it’s a good idea to make the name of your list plural, such as ```letters```, ```digits```, or ```names```.\n",
        "\n",
        "In Python, square brackets (```[]```) indicate a list, and individual elements\n",
        "in the list are separated by commas. Here’s a simple example of a list that contains a few kinds of populations we could model:\n"
      ]
    },
    {
      "cell_type": "code",
      "execution_count": 16,
      "metadata": {
        "colab": {
          "base_uri": "https://localhost:8080/"
        },
        "id": "EWm5zz8pEZcK",
        "outputId": "5f2c2e24-7686-4ceb-f117-4bfc11c7e12f"
      },
      "outputs": [
        {
          "name": "stdout",
          "output_type": "stream",
          "text": [
            "['seals', 'fungi', 'mice', 'bacteria']\n"
          ]
        }
      ],
      "source": [
        "populations = ['seals', 'fungi', 'mice', 'bacteria']\n",
        "print(populations)"
      ]
    },
    {
      "cell_type": "code",
      "execution_count": 17,
      "metadata": {
        "colab": {
          "base_uri": "https://localhost:8080/"
        },
        "id": "Pz5V5RtqEppi",
        "outputId": "17976ce8-d6e8-4beb-d2da-301c2031b279"
      },
      "outputs": [
        {
          "data": {
            "text/plain": [
              "list"
            ]
          },
          "execution_count": 17,
          "metadata": {},
          "output_type": "execute_result"
        }
      ],
      "source": [
        "type(populations)"
      ]
    },
    {
      "cell_type": "markdown",
      "metadata": {
        "id": "zwzxEWdyEziY"
      },
      "source": [
        "#### Accessing Elements in a List\n",
        "\n",
        "Lists are ordered collections, so you can access any element in a list by telling Python the position, or ```index```, of the item desired. To access an element in a list, write the name of the list followed by the index of the item enclosed in square brackets.\n",
        "For example, let’s pull out the first bicycle in the list bicycles:\n"
      ]
    },
    {
      "cell_type": "code",
      "execution_count": 18,
      "metadata": {
        "colab": {
          "base_uri": "https://localhost:8080/"
        },
        "id": "-182YkEHEruw",
        "outputId": "3bb05502-a77e-413d-a075-0f7f939f5102"
      },
      "outputs": [
        {
          "name": "stdout",
          "output_type": "stream",
          "text": [
            "seals\n"
          ]
        }
      ],
      "source": [
        "print(populations[0])"
      ]
    },
    {
      "cell_type": "markdown",
      "metadata": {
        "id": "M2J7UgVTFCfi"
      },
      "source": [
        "Index Positions Start at 0, Not 1 \n",
        "\n",
        "Python considers the first item in a list to be at position 0, not position 1. This is true of most programming languages, and the reason has to do with how the list operations are implemented at a lower level. If you’re receiving unexpected results, determine whether you are making a simple off-by-one error."
      ]
    },
    {
      "cell_type": "code",
      "execution_count": 19,
      "metadata": {
        "colab": {
          "base_uri": "https://localhost:8080/",
          "height": 235
        },
        "id": "iM3ja-dfE8Mg",
        "outputId": "c4373404-dfaa-4d4b-f337-104c7472db16"
      },
      "outputs": [
        {
          "name": "stdout",
          "output_type": "stream",
          "text": [
            "fungi\n",
            "bacteria\n"
          ]
        }
      ],
      "source": [
        "populations = ['seals', 'fungi', 'mice', 'bacteria']\n",
        "print(populations[1])\n",
        "print(populations[3])\n"
      ]
    },
    {
      "cell_type": "markdown",
      "metadata": {
        "id": "shBVR7cGFNLD"
      },
      "source": [
        "Python has a special syntax for accessing the last element in a list. By asking for the item at index -1, Python always returns the last item in the list:"
      ]
    },
    {
      "cell_type": "code",
      "execution_count": 20,
      "metadata": {
        "colab": {
          "base_uri": "https://localhost:8080/"
        },
        "id": "0A6I39PVFG9w",
        "outputId": "451f0c2a-7ba0-43bb-b8d3-9f28a7d436a1"
      },
      "outputs": [
        {
          "name": "stdout",
          "output_type": "stream",
          "text": [
            "bacteria\n"
          ]
        }
      ],
      "source": [
        "populations = ['seals', 'fungi', 'mice', 'bacteria']\n",
        "print(populations[-1])"
      ]
    },
    {
      "cell_type": "markdown",
      "metadata": {
        "id": "V3U_7smaFb1Q"
      },
      "source": [
        "✍️ **Task**\n",
        "\n",
        "Store the full name of the four DNA-Nucleotides as Strings in a list and use the ```print()```-function to print:\n",
        " \n",
        " - Guanine\n",
        " - Adenine\n",
        " - Cytosine \n",
        " - Thymine\n",
        "\n",
        "\n",
        "`\"My favorite Nucleotide is Guanine!\"`\n",
        "\n",
        "Hereby, use a variable to store the position in the list.\n",
        "\n",
        "![](https://www.genome.gov/sites/default/files/media/images/tg/Nucleotide.jpg)"
      ]
    },
    {
      "cell_type": "code",
      "execution_count": null,
      "metadata": {},
      "outputs": [],
      "source": []
    },
    {
      "cell_type": "code",
      "execution_count": 21,
      "metadata": {
        "id": "hm8y5AyZqzJy"
      },
      "outputs": [
        {
          "name": "stdout",
          "output_type": "stream",
          "text": [
            "My favorite Nucleotide is Adenine!\n"
          ]
        }
      ],
      "source": [
        "#@title ❓ Click `Show code` in the code cell to show the solution. { display-mode: \"form\" }\n",
        "\n",
        "pos = 1\n",
        "nucleotides = [\"Guanine\", \"Adenine\", \"Cytosine\", \"Thymine\"]\n",
        "\n",
        "print(\"My favorite Nucleotide is {}!\".format(nucleotides[pos]))"
      ]
    },
    {
      "cell_type": "markdown",
      "metadata": {
        "id": "S48u5RUSGeiT"
      },
      "source": [
        "#### Adding and removing Elements to/from a List\n",
        "\n",
        "Python provides several ways to add new data to existing lists.\n",
        "\n",
        "**Append**\n",
        "\n",
        "The simplest way to add a new element to a list is to append the item to the list. When you append an item to a list, the new element is added to the end of the list.\n"
      ]
    },
    {
      "cell_type": "code",
      "execution_count": 22,
      "metadata": {
        "colab": {
          "base_uri": "https://localhost:8080/"
        },
        "id": "qqpMRcPKFPh_",
        "outputId": "5cbd2af9-209b-4a70-826e-bb5df7759e91"
      },
      "outputs": [
        {
          "name": "stdout",
          "output_type": "stream",
          "text": [
            "['Guanine', 'Adenine', 'Cytosine']\n",
            "['Guanine', 'Adenine', 'Cytosine', 'Thymine']\n"
          ]
        }
      ],
      "source": [
        "nucleotides = [\"Guanine\", \"Adenine\", \"Cytosine\"]\n",
        "print(nucleotides)\n",
        "nucleotides.append('Thymine')\n",
        "print(nucleotides)"
      ]
    },
    {
      "cell_type": "markdown",
      "metadata": {
        "id": "dsv18UDNGzXT"
      },
      "source": [
        "The `append()` method makes it easy to build lists dynamically. For example, you can start with an empty list (`empty_list=[]`) and then add items to the list\n",
        "using a series of `append()` statements.\n",
        "\n",
        "A method is some defined functionality, we can use. Different data objects have different methods (e.g., we used the `title()` method on strings in the last lecture: `\"ada\".title()`). In the following, we focus in methods, that work on lists. In Python, You can spot methods and functions by the `()` following the method or function name. \n",
        "\n",
        "For now, we can use the term functions and methods interchangeably.\n",
        "🤓 In particular both, `print(list)` and `list.append()`are functions. However, `.append()` is also a method (a function that belongs to a certain object, in this case a list).\n",
        "\n",
        "Later, we will learn how do define our own custom functions.\n",
        "\n",
        "✍️ **Task**\n",
        "\n",
        "Start with the empty list and add all missing nucleotides:"
      ]
    },
    {
      "cell_type": "code",
      "execution_count": null,
      "metadata": {},
      "outputs": [],
      "source": []
    },
    {
      "cell_type": "code",
      "execution_count": 23,
      "metadata": {
        "colab": {
          "base_uri": "https://localhost:8080/"
        },
        "id": "MjQKWXQ2GniT",
        "outputId": "f7a28def-d8ee-4d4e-d26b-e1aee8192eed"
      },
      "outputs": [
        {
          "name": "stdout",
          "output_type": "stream",
          "text": [
            "['Guanine', 'Adenine', 'Cytosine', 'Thymine']\n"
          ]
        }
      ],
      "source": [
        "#@title ❓ Click `Show code` in the code cell to show the solution. { display-mode: \"form\" }\n",
        "\n",
        "nucleotides = []\n",
        "nucleotides.append(\"Guanine\")\n",
        "nucleotides.append(\"Adenine\")\n",
        "nucleotides.append(\"Cytosine\")\n",
        "nucleotides.append(\"Thymine\")\n",
        "print(nucleotides)"
      ]
    },
    {
      "cell_type": "markdown",
      "metadata": {
        "id": "Gw-EUr1CG59c"
      },
      "source": [
        "**Inserting**\n",
        "\n",
        "You can add a new element at any position in your list by using the ```insert()```\n",
        "method. You do this by specifying the index of the new element and the\n",
        "value of the new item."
      ]
    },
    {
      "cell_type": "code",
      "execution_count": 24,
      "metadata": {
        "colab": {
          "base_uri": "https://localhost:8080/"
        },
        "id": "V1-nDLbTG0n0",
        "outputId": "a16a63eb-f10f-476d-9118-9beccc4a09f3"
      },
      "outputs": [
        {
          "name": "stdout",
          "output_type": "stream",
          "text": [
            "['Thymine', 'Guanine', 'Adenine', 'Cytosine']\n"
          ]
        }
      ],
      "source": [
        "nucleotides = ['Guanine', 'Adenine', 'Cytosine']\n",
        "nucleotides.insert(0, 'Thymine')\n",
        "print(nucleotides)"
      ]
    },
    {
      "cell_type": "markdown",
      "metadata": {
        "id": "fp1SVDqBHKK7"
      },
      "source": [
        "**Removing**\n",
        "\n",
        "If you know the position of the item you want to remove from a list, you can use the `del` statement."
      ]
    },
    {
      "cell_type": "code",
      "execution_count": 25,
      "metadata": {
        "colab": {
          "base_uri": "https://localhost:8080/"
        },
        "id": "d0EOBEGEHBKT",
        "outputId": "b2961f39-ce44-4ed1-a318-e0c46db17fca"
      },
      "outputs": [
        {
          "name": "stdout",
          "output_type": "stream",
          "text": [
            "['Guanine', 'Adenine', 'Cytosine']\n",
            "['Adenine', 'Cytosine']\n"
          ]
        }
      ],
      "source": [
        "nucleotides = ['Guanine', 'Adenine', 'Cytosine']\n",
        "print(nucleotides)\n",
        "del nucleotides[0]\n",
        "print(nucleotides)"
      ]
    },
    {
      "cell_type": "markdown",
      "metadata": {
        "id": "SkkSBOPmHaBE"
      },
      "source": [
        "**Popping**\n",
        "\n",
        "Sometimes you’ll want to use the value of an item after you remove it from a list. For example, you might want to get the data of one experiment of all the experiments You have to evaluate. \n",
        "\n",
        "The `pop()` method removes the last item in a list, but it lets you work with that item after removing it. The term pop comes from thinking of a list as a stack of items and popping one item off the top of the stack. In this analogy, the top of a stack corresponds to the end of a list.\n",
        "\n",
        "Note, that we now have a function that returns a value, we can work with. For instance, we can store the popped date in the variable `popped_lab_date`."
      ]
    },
    {
      "cell_type": "code",
      "execution_count": 26,
      "metadata": {
        "colab": {
          "base_uri": "https://localhost:8080/"
        },
        "id": "oi8DI40-HZZT",
        "outputId": "31947d69-927f-44fc-9c82-b93442332753"
      },
      "outputs": [
        {
          "name": "stdout",
          "output_type": "stream",
          "text": [
            "['21.03.2023', '22.03.2023', '24.03.2023']\n",
            "['21.03.2023', '22.03.2023']\n",
            "24.03.2023\n"
          ]
        }
      ],
      "source": [
        "lab_dates = ['21.03.2023', '22.03.2023', '24.03.2023']\n",
        "print(lab_dates)\n",
        "popped_lab_date = lab_dates.pop()\n",
        "print(lab_dates)\n",
        "print(popped_lab_date)"
      ]
    },
    {
      "cell_type": "markdown",
      "metadata": {
        "id": "L3d4iz94IXwi"
      },
      "source": [
        "Similiar to ```del``` popping also works for any index in the list."
      ]
    },
    {
      "cell_type": "code",
      "execution_count": 27,
      "metadata": {
        "colab": {
          "base_uri": "https://localhost:8080/"
        },
        "id": "K4N_xZazIUSM",
        "outputId": "a5391165-e4c4-40b6-812f-0a857899eba9"
      },
      "outputs": [
        {
          "name": "stdout",
          "output_type": "stream",
          "text": [
            "['21.03.2023', '22.03.2023', '24.03.2023']\n",
            "['21.03.2023', '24.03.2023']\n",
            "22.03.2023\n"
          ]
        }
      ],
      "source": [
        "lab_dates = ['21.03.2023', '22.03.2023', '24.03.2023']\n",
        "print(lab_dates)\n",
        "popped_lab_date = lab_dates.pop(1)\n",
        "print(lab_dates)\n",
        "print(popped_lab_date)"
      ]
    },
    {
      "cell_type": "markdown",
      "metadata": {
        "id": "XnzBvVKTIkRs"
      },
      "source": [
        "**Removing an Item by Value**\n",
        "\n",
        "Sometimes you won’t know the position of the value you want to remove\n",
        "from a list. If you only know the value of the item you want to remove, you can use the ```remove()``` method.\n",
        "\n",
        "For instance, You know that all the experiments on the 21.03.2023 failed and want to remove them from Your stack."
      ]
    },
    {
      "cell_type": "code",
      "execution_count": 28,
      "metadata": {
        "colab": {
          "base_uri": "https://localhost:8080/"
        },
        "id": "DLLLcsjQHMnE",
        "outputId": "cbd92fc0-896b-4b02-b2cb-9e8006428683"
      },
      "outputs": [
        {
          "name": "stdout",
          "output_type": "stream",
          "text": [
            "['21.03.2023', '22.03.2023', '24.03.2023']\n",
            "['22.03.2023', '24.03.2023']\n",
            "21.03.2023\n",
            "\n",
            " Experiments on 21.03.2023 all failed.\n"
          ]
        }
      ],
      "source": [
        "lab_dates = ['21.03.2023', '22.03.2023', '24.03.2023']\n",
        "print(lab_dates)\n",
        "failed_experiments = '21.03.2023'\n",
        "lab_dates.remove(failed_experiments)\n",
        "print(lab_dates)\n",
        "print(failed_experiments)\n",
        "\n",
        "print(\"\\n Experiments on \" + failed_experiments + \" all failed.\")"
      ]
    },
    {
      "cell_type": "markdown",
      "metadata": {
        "id": "kpzfT_odP69e"
      },
      "source": [
        "#### Organizing a List\n",
        "\n",
        "Often, your lists will be created in an unpredictable order, because you can’t\n",
        "always control the order in which your users provide their data. Although\n",
        "this is unavoidable in most circumstances, you’ll frequently want to present\n",
        "your information in a particular order. Sometimes you’ll want to preserve the\n",
        "original order of your list, and other times you’ll want to change the original\n",
        "order. Python provides a number of different ways to organize your lists,\n",
        "depending on the situation.\n"
      ]
    },
    {
      "cell_type": "markdown",
      "metadata": {
        "id": "7W75Eo-XQEs2"
      },
      "source": [
        "##### Sorting a List Permanently with the `sort()` Method\n",
        "\n",
        "The `sort()` method operates on the list itself and changes the order of the list."
      ]
    },
    {
      "cell_type": "code",
      "execution_count": 29,
      "metadata": {
        "colab": {
          "base_uri": "https://localhost:8080/"
        },
        "id": "YXG7ApQ0Ix4U",
        "outputId": "86916797-4e0f-4a95-9bda-3487adf24d79"
      },
      "outputs": [
        {
          "name": "stdout",
          "output_type": "stream",
          "text": [
            "['algae', 'bacteria', 'fungus', 'yeast']\n"
          ]
        }
      ],
      "source": [
        "# List of biotech organisms\n",
        "organisms = ['bacteria', 'yeast', 'algae', 'fungus']\n",
        "\n",
        "# Sorting the organisms alphabetically\n",
        "organisms.sort()\n",
        "\n",
        "# Printing the sorted list of organisms\n",
        "print(organisms)"
      ]
    },
    {
      "cell_type": "code",
      "execution_count": 30,
      "metadata": {
        "colab": {
          "base_uri": "https://localhost:8080/"
        },
        "id": "A_NXL7K8QFav",
        "outputId": "7e907442-43f5-42b8-b2d8-487e24ce62c1"
      },
      "outputs": [
        {
          "name": "stdout",
          "output_type": "stream",
          "text": [
            "['yeast', 'fungus', 'bacteria', 'algae']\n"
          ]
        }
      ],
      "source": [
        "# List of biotech organisms\n",
        "organisms = ['bacteria', 'yeast', 'algae', 'fungus']\n",
        "\n",
        "# Sorting the organisms passend a parameter to change the order\n",
        "organisms.sort(reverse=True)\n",
        "\n",
        "# Printing the sorted list of organisms\n",
        "print(organisms)"
      ]
    },
    {
      "cell_type": "markdown",
      "metadata": {},
      "source": [
        "Note, that the `sort()`method does not retrun something. If You try to store the new list in a variable, it will not work:"
      ]
    },
    {
      "cell_type": "code",
      "execution_count": 31,
      "metadata": {},
      "outputs": [
        {
          "name": "stdout",
          "output_type": "stream",
          "text": [
            "<class 'NoneType'>\n",
            "['yeast', 'fungus', 'bacteria', 'algae']\n",
            "None\n"
          ]
        }
      ],
      "source": [
        "my_sorted_organisms = organisms.sort(reverse=True)\n",
        "print(type(my_sorted_organisms))\n",
        "print(organisms)\n",
        "print(my_sorted_organisms)"
      ]
    },
    {
      "cell_type": "markdown",
      "metadata": {
        "id": "p47OM16_QMu2"
      },
      "source": [
        "##### Sorting a List Temporarily \n",
        "\n",
        "The `sorted()` function maintains the original order of a list, but returns a new list with sorted values:"
      ]
    },
    {
      "cell_type": "code",
      "execution_count": 32,
      "metadata": {
        "colab": {
          "base_uri": "https://localhost:8080/"
        },
        "id": "4T4TWT_6QH5-",
        "outputId": "6219ca30-a62f-41db-ee0c-06088d9a3271"
      },
      "outputs": [
        {
          "name": "stdout",
          "output_type": "stream",
          "text": [
            "Here is the original list:\n",
            "['yeast', 'fungus', 'bacteria', 'algae']\n",
            "\n",
            "Here is the sorted list:\n",
            "['algae', 'bacteria', 'fungus', 'yeast']\n",
            "\n",
            "Here is the original list again:\n",
            "['yeast', 'fungus', 'bacteria', 'algae']\n"
          ]
        }
      ],
      "source": [
        "print(\"Here is the original list:\")\n",
        "print(organisms)\n",
        "print(\"\\nHere is the sorted list:\")\n",
        "print(sorted(organisms))\n",
        "print(\"\\nHere is the original list again:\")\n",
        "print(organisms)"
      ]
    },
    {
      "cell_type": "markdown",
      "metadata": {
        "id": "AA6QlQRBQYrH"
      },
      "source": [
        "##### Finding the Length of a List\n",
        "\n",
        "You can quickly find the length of a list by using the `len()` function. The list\n",
        "in this example has four items, so its length is 4:"
      ]
    },
    {
      "cell_type": "code",
      "execution_count": 33,
      "metadata": {
        "colab": {
          "base_uri": "https://localhost:8080/"
        },
        "id": "KCQhB7dHQX23",
        "outputId": "ab7dd5d3-2ce6-4968-ed97-d31bbca1f0ac"
      },
      "outputs": [
        {
          "data": {
            "text/plain": [
              "4"
            ]
          },
          "execution_count": 33,
          "metadata": {},
          "output_type": "execute_result"
        }
      ],
      "source": [
        "organisms = ['bacteria', 'yeast', 'algae', 'fungus']\n",
        "len(organisms)"
      ]
    },
    {
      "cell_type": "markdown",
      "metadata": {
        "id": "kkGlltF7RBFx"
      },
      "source": [
        "#### Avoiding Index Errors When Working with Lists"
      ]
    },
    {
      "cell_type": "markdown",
      "metadata": {
        "id": "AtdLPGsIQela"
      },
      "source": [
        "Note that the index goes from 0 to 3, so that if You enter the 4th position it throws an `out of range` error!"
      ]
    },
    {
      "cell_type": "code",
      "execution_count": 34,
      "metadata": {
        "colab": {
          "base_uri": "https://localhost:8080/",
          "height": 167
        },
        "id": "oOm9eHQGQRDP",
        "outputId": "79168c29-b2de-4dbd-b298-fa5b04bdce1e"
      },
      "outputs": [
        {
          "ename": "IndexError",
          "evalue": "list index out of range",
          "output_type": "error",
          "traceback": [
            "\u001b[1;31m---------------------------------------------------------------------------\u001b[0m",
            "\u001b[1;31mIndexError\u001b[0m                                Traceback (most recent call last)",
            "Cell \u001b[1;32mIn[34], line 1\u001b[0m\n\u001b[1;32m----> 1\u001b[0m \u001b[43morganisms\u001b[49m\u001b[43m[\u001b[49m\u001b[38;5;241;43m4\u001b[39;49m\u001b[43m]\u001b[49m\n",
            "\u001b[1;31mIndexError\u001b[0m: list index out of range"
          ]
        }
      ],
      "source": [
        "organisms[4]"
      ]
    },
    {
      "cell_type": "markdown",
      "metadata": {
        "id": "z3uciYhjRNQq"
      },
      "source": [
        "Keep in mind that whenever you want to access the last item in a list\n",
        "you use the index -1. This will always work, even if your list has changed\n",
        "size since the last time you accessed it:"
      ]
    },
    {
      "cell_type": "code",
      "execution_count": 19,
      "metadata": {
        "colab": {
          "base_uri": "https://localhost:8080/",
          "height": 35
        },
        "id": "Yv6sO0_NRMbq",
        "outputId": "cce13e5a-b483-49e1-ee8f-a0b9cf5b59ad"
      },
      "outputs": [
        {
          "data": {
            "text/plain": [
              "'fungus'"
            ]
          },
          "execution_count": 19,
          "metadata": {},
          "output_type": "execute_result"
        }
      ],
      "source": [
        "organisms[-1]"
      ]
    },
    {
      "cell_type": "code",
      "execution_count": 20,
      "metadata": {
        "colab": {
          "base_uri": "https://localhost:8080/",
          "height": 35
        },
        "id": "ZFqbhXLWRQLi",
        "outputId": "3926881d-d0cc-46d0-fd34-2a4b98c5cdeb"
      },
      "outputs": [
        {
          "data": {
            "text/plain": [
              "'fungus'"
            ]
          },
          "execution_count": 20,
          "metadata": {},
          "output_type": "execute_result"
        }
      ],
      "source": [
        "# this is just a longer way to write cars[-1]\n",
        "organisms[len(organisms)-1]"
      ]
    },
    {
      "cell_type": "markdown",
      "metadata": {
        "id": "1s1zdv0bQs-Z"
      },
      "source": [
        "🤓 **Task**\n",
        "\n",
        "Seeing the World: Think of at least five places in the world you’d like to visit.\n",
        "\n",
        "Create a list and change it's order (see instructions below.)\n",
        "\n",
        "We can use two different methods that work differently. \n",
        "- `sorted(<list>)` takes the list as a parameter and returns a new list, that is the sorted version of the list. The original list is not changed. \n",
        "- `<list>.sort()` operates on the list itself (this is why we call in \"on the list\" writing the method name `.sort()` after the list-name). In other words, the `<objectname>.<methodname>()` indicates, that we use a method that is special to the object we are manipulating.\n",
        "- In between the `()` we can pass parameters (e.g., `reverse=True`) that specify what exactly the method shall do.\n"
      ]
    },
    {
      "cell_type": "markdown",
      "metadata": {},
      "source": [
        "- Store the locations in a list. Make sure the list is not in alphabetical order.\n",
        "- Print your list in its original order. Don’t worry about printing the list neatly, just print it as a raw Python list."
      ]
    },
    {
      "cell_type": "code",
      "execution_count": null,
      "metadata": {},
      "outputs": [],
      "source": []
    },
    {
      "cell_type": "code",
      "execution_count": null,
      "metadata": {},
      "outputs": [
        {
          "name": "stdout",
          "output_type": "stream",
          "text": [
            "['Tirol', 'Burgenland', 'Wachau', 'Finale Ligure', 'Provence']\n"
          ]
        }
      ],
      "source": [
        "#@title ❓ Click `Show code` in the code cell to show the solution. { display-mode: \"form\" }\n",
        "list_of_places = [\"Tirol\", \"Burgenland\", \"Wachau\", \"Finale Ligure\", \"Provence\"]\n",
        "print(list_of_places)"
      ]
    },
    {
      "cell_type": "markdown",
      "metadata": {},
      "source": [
        "- Use `sorted()` to print your list in alphabetical order without modifying the\n",
        "actual list."
      ]
    },
    {
      "cell_type": "code",
      "execution_count": null,
      "metadata": {},
      "outputs": [],
      "source": []
    },
    {
      "cell_type": "code",
      "execution_count": null,
      "metadata": {},
      "outputs": [
        {
          "name": "stdout",
          "output_type": "stream",
          "text": [
            "['Burgenland', 'Finale Ligure', 'Provence', 'Tirol', 'Wachau']\n"
          ]
        }
      ],
      "source": [
        "#@title ❓ Click `Show code` in the code cell to show the solution. { display-mode: \"form\" }\n",
        "print(sorted(list_of_places))"
      ]
    },
    {
      "cell_type": "markdown",
      "metadata": {},
      "source": [
        "- Show that your list is still in its original order by printing it."
      ]
    },
    {
      "cell_type": "code",
      "execution_count": null,
      "metadata": {},
      "outputs": [],
      "source": []
    },
    {
      "cell_type": "code",
      "execution_count": null,
      "metadata": {},
      "outputs": [
        {
          "name": "stdout",
          "output_type": "stream",
          "text": [
            "['Tirol', 'Burgenland', 'Wachau', 'Finale Ligure', 'Provence']\n"
          ]
        }
      ],
      "source": [
        "#@title ❓ Click `Show code` in the code cell to show the solution. { display-mode: \"form\" }\n",
        "print(list_of_places)"
      ]
    },
    {
      "cell_type": "markdown",
      "metadata": {},
      "source": [
        "- Use `sorted()` with `reverse=True` to change the order of your list. Print the list to show that its order has changed."
      ]
    },
    {
      "cell_type": "code",
      "execution_count": null,
      "metadata": {},
      "outputs": [],
      "source": []
    },
    {
      "cell_type": "code",
      "execution_count": 25,
      "metadata": {},
      "outputs": [
        {
          "name": "stdout",
          "output_type": "stream",
          "text": [
            "['Wachau', 'Tirol', 'Provence', 'Finale Ligure', 'Burgenland']\n"
          ]
        }
      ],
      "source": [
        "#@title ❓ Click `Show code` in the code cell to show the solution. { display-mode: \"form\" }\n",
        "print(sorted(list_of_places,reverse=True))"
      ]
    },
    {
      "cell_type": "markdown",
      "metadata": {},
      "source": [
        "- Use `sort()` to change your list so it’s stored in alphabetical order. Print the list to show that its order has been changed."
      ]
    },
    {
      "cell_type": "code",
      "execution_count": null,
      "metadata": {},
      "outputs": [],
      "source": []
    },
    {
      "cell_type": "code",
      "execution_count": 29,
      "metadata": {},
      "outputs": [
        {
          "name": "stdout",
          "output_type": "stream",
          "text": [
            "['Burgenland', 'Finale Ligure', 'Provence', 'Tirol', 'Wachau']\n"
          ]
        }
      ],
      "source": [
        "#@title ❓ Click `Show code` in the code cell to show the solution. { display-mode: \"form\" }\n",
        "list_of_places.sort(reverse=False)\n",
        "print(list_of_places)"
      ]
    },
    {
      "cell_type": "markdown",
      "metadata": {},
      "source": [
        "- Use `sort()` to change your list so it’s stored in reverse alphabetical order.\n",
        "- Print the list to show that its order has changed."
      ]
    },
    {
      "cell_type": "code",
      "execution_count": null,
      "metadata": {},
      "outputs": [],
      "source": []
    },
    {
      "cell_type": "code",
      "execution_count": 30,
      "metadata": {},
      "outputs": [
        {
          "name": "stdout",
          "output_type": "stream",
          "text": [
            "['Wachau', 'Tirol', 'Provence', 'Finale Ligure', 'Burgenland']\n"
          ]
        }
      ],
      "source": [
        "#@title ❓ Click `Show code` in the code cell to show the solution. { display-mode: \"form\" }\n",
        "list_of_places.sort(reverse=True)\n",
        "print(list_of_places)"
      ]
    },
    {
      "cell_type": "markdown",
      "metadata": {
        "id": "1YyXWbdvvkQm"
      },
      "source": [
        "### 🏁 Recap\n",
        "\n",
        "- 🟥 If you have not finished the tasks, place the red card on top.\n",
        "- 🟩 If you have finished the tasks and have no questions and want to proceed, place the green card on top.\n",
        "- 🟨 If you have finished the tasks but would like to discuss the solutions together again, place the yellow card on top."
      ]
    },
    {
      "cell_type": "markdown",
      "metadata": {
        "id": "id86f6xNRady"
      },
      "source": [
        "## 1.2.2.3 Working with Lists\n",
        "\n",
        "In Chapter 3 you learned how to make a\n",
        "simple list, and you learned to work with\n",
        "the individual elements in a list. In this chapter\n",
        "you’ll learn how to loop through an entire\n",
        "list using just a few lines of code regardless of how\n",
        "long the list is. Looping allows you to take the same action, or set of actions,\n",
        "with every item in a list. As a result, you’ll be able to work efficiently with\n",
        "lists of any length, including those with thousands or even millions of items.\n",
        "\n",
        "\n",
        "\n"
      ]
    },
    {
      "cell_type": "markdown",
      "metadata": {
        "id": "rFSTdPwdTd1P"
      },
      "source": [
        "### Looping Through an Entire List\n",
        "\n",
        "You’ll often want to run through all entries in a list, performing the same\n",
        "task with each item. For example, in a game you might want to move every\n",
        "element on the screen by the same amount, or in a list of numbers you\n",
        "might want to perform the same statistical operation on every element. Or\n",
        "perhaps you’ll want to display each headline from a list of articles on a website.\n",
        "When you want to do the same action with every item in a list, you can\n",
        "use Python’s for loop.\n",
        "\n",
        "Imagine having a list of all the dates You made $n$ experiment in the lab. You can **loop** trough the list using the ```for``` command.\n",
        "\n",
        "- We begin by defining a list, just as we did before. Next,\n",
        "we define a **for loop**. This line tells Python to pull a date from the list ```lab_dates```, and store it in the variable ```lab_date```. Then, we tell Python to print the date that was just stored in ```lab_date```. Python then repeats lines 2 and 3, once for each date in the list. It might help to read this code as **\"For each `lab_date` in the list of `lab_dates`, print the date.\"**"
      ]
    },
    {
      "cell_type": "code",
      "execution_count": null,
      "metadata": {
        "colab": {
          "base_uri": "https://localhost:8080/"
        },
        "id": "OeEwsQuYQqhx",
        "outputId": "1ce88088-827b-45ab-9db5-8498d2a8e148"
      },
      "outputs": [
        {
          "name": "stdout",
          "output_type": "stream",
          "text": [
            "There was a lab on 21.03.2023.\n",
            "There was a lab on 22.03.2023.\n",
            "There was a lab on 24.03.2023.\n"
          ]
        }
      ],
      "source": [
        "lab_dates = ['21.03.2023', '22.03.2023', '24.03.2023']\n",
        "for lab_date in lab_dates:\n",
        "  print(\"There was a lab on {}.\".format(lab_date))"
      ]
    },
    {
      "cell_type": "markdown",
      "metadata": {
        "id": "VZ524WX8TKI1"
      },
      "source": [
        "When you’re using loops for the first time, keep in mind that the set of\n",
        "steps is repeated once for each item in the list, no matter how many items\n",
        "are in the list. If you have a million items in your list, Python repeats these\n",
        "steps a million times—and usually very quickly.\n",
        "Also keep in mind when writing your own for loops that you can choose\n",
        "any name you want for the temporary variable that holds each value in the\n",
        "list. However, it’s helpful to choose a meaningful name that represents a\n",
        "single item from the list. For example, here’s a good way to start a for loop\n",
        "for a list of cats, a list of dogs, and a general list of items:"
      ]
    },
    {
      "cell_type": "markdown",
      "metadata": {
        "id": "yEuILf7TTJv9"
      },
      "source": [
        "```\n",
        "for cat in cats:\n",
        "for dog in dogs:\n",
        "for item in list_of_items:\n",
        "```"
      ]
    },
    {
      "cell_type": "markdown",
      "metadata": {
        "id": "qKaniznTTZU-"
      },
      "source": [
        "### Scope of the loop\n",
        "\n",
        "Python uses indentation (whitespace) to indicate, that is part of the loop. The first two ```print()``` statements are within the loop. The last one is outside the loop and therefore only executed once at the end.\n",
        "\n",
        "An indentation in Python is usually four blanks ```“⠀   ”``` the faster way to create an indentation is the tab key (↹). You can reverse a indentation using the shift and tab key at the same time.\n"
      ]
    },
    {
      "cell_type": "code",
      "execution_count": 21,
      "metadata": {
        "colab": {
          "base_uri": "https://localhost:8080/"
        },
        "id": "3r3FHyelTJkI",
        "outputId": "cc40fd17-c1f0-481f-d577-c2fe6130d5e4"
      },
      "outputs": [
        {
          "name": "stdout",
          "output_type": "stream",
          "text": [
            "There was a lab on 21.03.2023.\n",
            "The lab was a great success!\n",
            "There was a lab on 22.03.2023.\n",
            "The lab was a great success!\n",
            "There was a lab on 24.03.2023.\n",
            "The lab was a great success!\n",
            "There were 3 labs in total.\n"
          ]
        }
      ],
      "source": [
        "lab_dates = ['21.03.2023', '22.03.2023', '24.03.2023']\n",
        "for lab_date in lab_dates:\n",
        "  print(\"There was a lab on {}.\".format(lab_date))\n",
        "  print(\"The lab was a great success!\")\n",
        "print(\"There were {} labs in total.\".format(len(lab_dates)))"
      ]
    },
    {
      "cell_type": "markdown",
      "metadata": {},
      "source": [
        "✍️ **Task**\n",
        "\n",
        "Copy the code from above and use the tab key to move the last print statement into the loop. "
      ]
    },
    {
      "cell_type": "code",
      "execution_count": null,
      "metadata": {},
      "outputs": [],
      "source": []
    },
    {
      "cell_type": "markdown",
      "metadata": {
        "id": "8CHZH2DWUXrH"
      },
      "source": [
        "### Avoiding Indentation Errors\n",
        "\n",
        "Python uses indentation to determine when one line of code is connected to the line above it.\n",
        "Python’s use of indentation makes code very easy to read. Basically, it uses whitespace to force you to write neatly formatted code with a clear visual structure. In longer Python programs, you’ll notice blocks of code indented at a few different levels. These indentation levels help you gain a general sense of the overall program’s organization.\n",
        "\n",
        "As you begin to write code that relies on proper indentation, you’ll\n",
        "need to watch for a few common indentation errors."
      ]
    },
    {
      "cell_type": "code",
      "execution_count": 25,
      "metadata": {
        "colab": {
          "base_uri": "https://localhost:8080/",
          "height": 132
        },
        "id": "T6tYf4AAR0d0",
        "outputId": "13d7592c-e54a-46ec-ff5c-bbe96203c8b1"
      },
      "outputs": [
        {
          "ename": "IndentationError",
          "evalue": "expected an indented block (<ipython-input-25-fde78335c7ea>, line 3)",
          "output_type": "error",
          "traceback": [
            "\u001b[1;36m  File \u001b[1;32m\"<ipython-input-25-fde78335c7ea>\"\u001b[1;36m, line \u001b[1;32m3\u001b[0m\n\u001b[1;33m    print(\"There was a lab on {}.\".format(lab_date))\u001b[0m\n\u001b[1;37m    ^\u001b[0m\n\u001b[1;31mIndentationError\u001b[0m\u001b[1;31m:\u001b[0m expected an indented block\n"
          ]
        }
      ],
      "source": [
        "lab_dates = ['21.03.2023', '22.03.2023', '24.03.2023']\n",
        "for lab_date in lab_dates:\n",
        "print(\"There was a lab on {}.\".format(lab_date))"
      ]
    },
    {
      "cell_type": "markdown",
      "metadata": {
        "id": "VNf1E2WsUqgh"
      },
      "source": [
        "You can usually resolve this kind of indentation error by indenting the\n",
        "line or lines immediately after the for statement.\n",
        "\n",
        "If you accidentally indent a line that doesn’t need to be indented, Python\n",
        "informs you about the unexpected indent:"
      ]
    },
    {
      "cell_type": "code",
      "execution_count": 26,
      "metadata": {
        "colab": {
          "base_uri": "https://localhost:8080/",
          "height": 132
        },
        "id": "HOIB42ObUwBH",
        "outputId": "d523b5f5-3f5b-4224-ffe5-104d9f4ca6a6"
      },
      "outputs": [
        {
          "ename": "IndentationError",
          "evalue": "unexpected indent (<ipython-input-26-430061a3f46f>, line 2)",
          "output_type": "error",
          "traceback": [
            "\u001b[1;36m  File \u001b[1;32m\"<ipython-input-26-430061a3f46f>\"\u001b[1;36m, line \u001b[1;32m2\u001b[0m\n\u001b[1;33m    message = \"Hello Python world!\"\u001b[0m\n\u001b[1;37m    ^\u001b[0m\n\u001b[1;31mIndentationError\u001b[0m\u001b[1;31m:\u001b[0m unexpected indent\n"
          ]
        }
      ],
      "source": [
        "#Example\n",
        "    message = \"Hello Python world!\"\n",
        "    print(message)"
      ]
    },
    {
      "cell_type": "markdown",
      "metadata": {
        "id": "pxOYyOecVkG7"
      },
      "source": [
        "### Making Numerical Lists\n",
        "\n",
        "Many reasons exist to store a set of numbers. For example, you’ll need to\n",
        "keep track of the positions of each character in a game, and you might want\n",
        "to keep track of a player’s high scores as well. In data visualizations, you’ll\n",
        "almost always work with sets of numbers, such as temperatures, distances,\n",
        "population sizes, or latitude and longitude values, among other types of\n",
        "numerical sets.\n",
        "Lists are ideal for storing sets of numbers, and Python provides a number\n",
        "of tools to help you work efficiently with lists of numbers. Once you\n",
        "understand how to use these tools effectively, your code will work well even\n",
        "when your lists contain millions of items."
      ]
    },
    {
      "cell_type": "markdown",
      "metadata": {
        "id": "w1muWG4XYoBl"
      },
      "source": [
        "#### Using the range() Function\n",
        "Python’s ```range()``` function makes it easy to generate a series of numbers.\n",
        "For example, you can use the `range()` function to print a series of numbers\n",
        "like this:"
      ]
    },
    {
      "cell_type": "code",
      "execution_count": 27,
      "metadata": {
        "colab": {
          "base_uri": "https://localhost:8080/"
        },
        "id": "Gwna3ZN0Uv-w",
        "outputId": "7d240a70-43fc-4b16-de4d-a8b8cf076fb2"
      },
      "outputs": [
        {
          "name": "stdout",
          "output_type": "stream",
          "text": [
            "1\n",
            "2\n",
            "3\n",
            "4\n"
          ]
        }
      ],
      "source": [
        "for value in range(1,5):\n",
        "  print(value)"
      ]
    },
    {
      "cell_type": "markdown",
      "metadata": {
        "id": "sUHlJS_XY653"
      },
      "source": [
        "Although this code looks like it should print the numbers from 1 to 5, it doesn’t print the number 5.\n",
        "If your output is different than what you expect when you’re using\n",
        "`range()`, try adjusting your end value by 1.\n"
      ]
    },
    {
      "cell_type": "markdown",
      "metadata": {
        "id": "z-nbxfC5ZNzV"
      },
      "source": [
        "#### Using range() to Make a List of Numbers\n",
        "\n",
        "As You see in the next line, a range is a special data type in Python. Like lists, we can use ranges in a for loop. \n"
      ]
    },
    {
      "cell_type": "code",
      "execution_count": 28,
      "metadata": {
        "colab": {
          "base_uri": "https://localhost:8080/"
        },
        "id": "JWLp0UWiZROU",
        "outputId": "db6e0a4f-7043-4e50-a9d1-7f782d10ae51"
      },
      "outputs": [
        {
          "data": {
            "text/plain": [
              "range"
            ]
          },
          "execution_count": 28,
          "metadata": {},
          "output_type": "execute_result"
        }
      ],
      "source": [
        "type(range(1,5))"
      ]
    },
    {
      "cell_type": "markdown",
      "metadata": {
        "id": "oE55QVtOZRtV"
      },
      "source": [
        "Using ```range()``` to make a list of numbers If you want to make a list of numbers, you can convert the results of ```range()```\n",
        "directly into a list using the ```list()``` function. When you wrap ```list()``` around a call to the ```range()``` function, the output will be a list of numbers."
      ]
    },
    {
      "cell_type": "code",
      "execution_count": 29,
      "metadata": {
        "colab": {
          "base_uri": "https://localhost:8080/"
        },
        "id": "N_rUDyabY542",
        "outputId": "7d0c64f8-1ace-4ce8-dc64-52a9258ffce3"
      },
      "outputs": [
        {
          "name": "stdout",
          "output_type": "stream",
          "text": [
            "[1, 2, 3, 4, 5]\n"
          ]
        }
      ],
      "source": [
        "numbers = list(range(1,6))\n",
        "print(numbers)"
      ]
    },
    {
      "cell_type": "markdown",
      "metadata": {
        "id": "gs1xGDTnaEF-"
      },
      "source": [
        "We can also use the `range()` function to tell Python to skip numbers\n",
        "in a given range. For example, here’s how we would list the even numbers\n",
        "between 1 and 10 by adding a third number that indicates the step width:"
      ]
    },
    {
      "cell_type": "code",
      "execution_count": 30,
      "metadata": {
        "colab": {
          "base_uri": "https://localhost:8080/"
        },
        "id": "Njlm4x-taFmA",
        "outputId": "ece92a10-2ad8-4048-f24c-2117bede5066"
      },
      "outputs": [
        {
          "name": "stdout",
          "output_type": "stream",
          "text": [
            "[2, 4, 6, 8, 10]\n"
          ]
        }
      ],
      "source": [
        "even_numbers = list(range(2,11,2))\n",
        "print(even_numbers)"
      ]
    },
    {
      "cell_type": "markdown",
      "metadata": {
        "id": "XAzyDh7dV4IC"
      },
      "source": [
        "✍️ **Task**\n",
        "\n",
        "\n",
        "Put the code from the logarithmic growth into a for loop to get the results from $t=0$ to $t=100$ in steps of $5$.\n",
        "\n",
        "Also adjust the string, so that the simulation parameters are only mentioned once.\n",
        "\n",
        "\n",
        "```\n",
        "# importing the math library\n",
        "import math\n",
        "\n",
        "# here the user can define the input\n",
        "initial_population_size = 1\n",
        "carrying_capacity = 200\n",
        "growth_rate = 0.1\n",
        "\n",
        "t = 10\n",
        "\n",
        "\n",
        "# here the calculation is made\n",
        "population_size = carrying_capacity / (1+((carrying_capacity - initial_population_size)/initial_population_size) * math.exp(- growth_rate*t))\n",
        "\n",
        "# here, we print out the results\n",
        "print(\"Started simulation with the following parameters: \\n initial population size: {} \\n carrying capacity: {} \\n growth rate: {}  \\n The population after {} time steps is {}\".format(initial_population_size, carrying_capacity, growth_rate, t, population_size))\n",
        "\n",
        "\n",
        "```\n",
        "\n"
      ]
    },
    {
      "cell_type": "code",
      "execution_count": null,
      "metadata": {},
      "outputs": [],
      "source": []
    },
    {
      "cell_type": "code",
      "execution_count": 31,
      "metadata": {
        "colab": {
          "base_uri": "https://localhost:8080/"
        },
        "id": "YtC6fnaMUmo6",
        "outputId": "26209c3c-6678-4c19-e959-91e8ab75e096"
      },
      "outputs": [
        {
          "name": "stdout",
          "output_type": "stream",
          "text": [
            "Started simulation with the following parameters: \n",
            " initial population size: 1 \n",
            " carrying capacity: 200 \n",
            " growth rate: 0.1\n",
            "The population after 0 time steps is 1.0\n",
            "0\n",
            "The population after 5 time steps is 1.6433907579962073\n",
            "5\n",
            "The population after 10 time steps is 2.6951268906510597\n",
            "10\n",
            "The population after 15 time steps is 4.4050047852599326\n",
            "15\n",
            "The population after 20 time steps is 7.16031774028636\n",
            "20\n",
            "The population after 25 time steps is 11.537408932172543\n",
            "25\n",
            "The population after 30 time steps is 18.335794507722106\n",
            "30\n",
            "The population after 35 time steps is 28.533604014079685\n",
            "35\n",
            "The population after 40 time steps is 43.05879205034302\n",
            "40\n",
            "The population after 45 time steps is 62.29190006520509\n",
            "45\n",
            "The population after 50 time steps is 85.43899689116635\n",
            "50\n",
            "The population after 55 time steps is 110.29812104787398\n",
            "55\n",
            "The population after 60 time steps is 133.93410071047683\n",
            "60\n",
            "The population after 65 time steps is 153.94273522063156\n",
            "65\n",
            "The population after 70 time steps is 169.28142835717827\n",
            "70\n",
            "The population after 75 time steps is 180.16982615148848\n",
            "75\n",
            "The population after 80 time steps is 187.48411137436904\n",
            "80\n",
            "The population after 85 time steps is 192.2170905172022\n",
            "85\n",
            "The population after 90 time steps is 195.2060229278333\n",
            "90\n",
            "The population after 95 time steps is 197.0646211476928\n",
            "95\n",
            "The population after 100 time steps is 198.20926137758156\n",
            "100\n"
          ]
        }
      ],
      "source": [
        "#@title ❓ Click `Show code` in the code cell to show the solution. { display-mode: \"form\" }\n",
        "\n",
        "# importing the math library\n",
        "import math\n",
        "\n",
        "# here the user can define the input\n",
        "initial_population_size = 1\n",
        "carrying_capacity = 200\n",
        "growth_rate = 0.1\n",
        "\n",
        "print(\"Started simulation with the following parameters: \\n initial population size: {} \\n carrying capacity: {} \\n growth rate: {}\".format(initial_population_size, carrying_capacity, growth_rate))\n",
        "\n",
        "\n",
        "for t in range(0,101,5):\n",
        "    population_size = carrying_capacity / (1+((carrying_capacity - initial_population_size)/initial_population_size) * math.exp(- growth_rate*t))\n",
        "\n",
        "    print(\"The population after {} time steps is {}\".format(t, population_size))\n",
        "    print(t)"
      ]
    },
    {
      "cell_type": "markdown",
      "metadata": {},
      "source": [
        "## 1.2.2.4 Working with Lists"
      ]
    },
    {
      "cell_type": "markdown",
      "metadata": {
        "id": "k-AgawptePEk"
      },
      "source": [
        "#### Simple Statistics with a List of Numbers\n",
        "\n",
        "A few Python functions are specific to lists of numbers. For example, you\n",
        "can easily find the minimum, maximum, and sum of a list of numbers:\n"
      ]
    },
    {
      "cell_type": "code",
      "execution_count": 32,
      "metadata": {
        "colab": {
          "base_uri": "https://localhost:8080/"
        },
        "id": "Xa5UVDD9eXWW",
        "outputId": "7c5d4626-9707-48be-c6c8-5fdf77e1e709"
      },
      "outputs": [
        {
          "data": {
            "text/plain": [
              "0"
            ]
          },
          "execution_count": 32,
          "metadata": {},
          "output_type": "execute_result"
        }
      ],
      "source": [
        "digits = [1, 2, 3, 4, 5, 6, 7, 8, 9, 0]\n",
        "min(digits)"
      ]
    },
    {
      "cell_type": "code",
      "execution_count": 33,
      "metadata": {
        "colab": {
          "base_uri": "https://localhost:8080/"
        },
        "id": "Q1daHA3xeXPr",
        "outputId": "e9064d41-0c4f-4d4b-dbbb-26239f9f1901"
      },
      "outputs": [
        {
          "data": {
            "text/plain": [
              "9"
            ]
          },
          "execution_count": 33,
          "metadata": {},
          "output_type": "execute_result"
        }
      ],
      "source": [
        "max(digits)"
      ]
    },
    {
      "cell_type": "code",
      "execution_count": 34,
      "metadata": {
        "colab": {
          "base_uri": "https://localhost:8080/"
        },
        "id": "q9nrWLxMeXIS",
        "outputId": "bd5cfe05-2ef0-471a-815e-c137a3c395c7"
      },
      "outputs": [
        {
          "data": {
            "text/plain": [
              "45"
            ]
          },
          "execution_count": 34,
          "metadata": {},
          "output_type": "execute_result"
        }
      ],
      "source": [
        "sum(digits)"
      ]
    },
    {
      "cell_type": "markdown",
      "metadata": {
        "id": "I4UywqU4efEj"
      },
      "source": [
        "✍️ **Task**\n",
        "\n",
        "Calculate the mean (average) of the list ```digits``` using its sum and the length:"
      ]
    },
    {
      "cell_type": "code",
      "execution_count": null,
      "metadata": {},
      "outputs": [],
      "source": []
    },
    {
      "cell_type": "code",
      "execution_count": null,
      "metadata": {
        "colab": {
          "base_uri": "https://localhost:8080/"
        },
        "id": "IZiklKBAeeki",
        "outputId": "00b1e9a0-1143-4a46-95fe-52eaa81adbb5"
      },
      "outputs": [
        {
          "data": {
            "text/plain": [
              "4.5"
            ]
          },
          "execution_count": 72,
          "metadata": {},
          "output_type": "execute_result"
        }
      ],
      "source": [
        "#@title ❓ Click `Show code` in the code cell to show the solution. { display-mode: \"form\" }\n",
        "mean =  sum(digits) / len(digits)\n",
        "mean"
      ]
    },
    {
      "cell_type": "markdown",
      "metadata": {
        "id": "bS0sgd6Kfutf"
      },
      "source": [
        "✍️ **Task**\n",
        "\n",
        "An important principle is to test code with simple examples\n",
        "\n",
        "- Counting to twenty: Use a for loop to output the numbers from 1 to 20 inclusive and store them in a list `numbers`.\n",
        "- Then, before the loop, initialize `numbers` as an empty list\n",
        "- Then use `min()` and `max()` to make sure that your list actually starts at one and ends at 20\n",
        "- Also use the `sum()` function to count all the numbers in your list together\n",
        "\n",
        "- One hundred: Run your code for the numbers from 1 to 100 to check the [Gaussian summation formula](https://www.giga.de/ratgeber/specials/gausssche-summenformel-zahlen-von-1-bis-100-addieren-so-geht-s/)\n",
        "- One million: Run your code with this too, but comment out your `print()` statement first!"
      ]
    },
    {
      "cell_type": "code",
      "execution_count": null,
      "metadata": {},
      "outputs": [],
      "source": []
    },
    {
      "cell_type": "code",
      "execution_count": null,
      "metadata": {},
      "outputs": [],
      "source": []
    },
    {
      "cell_type": "code",
      "execution_count": 36,
      "metadata": {
        "id": "qhYsELWjp8Zb"
      },
      "outputs": [
        {
          "name": "stdout",
          "output_type": "stream",
          "text": [
            "1\n",
            "20\n"
          ]
        }
      ],
      "source": [
        "#@title ❓ Click `Show code` in the code cell to show the solution. { display-mode: \"form\" }\n",
        "numbers = []\n",
        "for value in range(1,21):\n",
        "    numbers.append(value)\n",
        "\n",
        "print(min(numbers))\n",
        "print(max(numbers))"
      ]
    },
    {
      "cell_type": "code",
      "execution_count": 37,
      "metadata": {},
      "outputs": [
        {
          "name": "stdout",
          "output_type": "stream",
          "text": [
            "1\n",
            "100\n",
            "5050\n",
            "50.5\n"
          ]
        }
      ],
      "source": [
        "#@title ❓ Click `Show code` in the code cell to show the solution. { display-mode: \"form\" }\n",
        "numbers = []\n",
        "for value in range(1,101):\n",
        "    numbers.append(value)\n",
        "\n",
        "print(min(numbers))\n",
        "print(max(numbers))\n",
        "print(sum(numbers))\n",
        "print(sum(numbers)/len(numbers))"
      ]
    },
    {
      "cell_type": "markdown",
      "metadata": {
        "id": "zX-RloyTV10a"
      },
      "source": [
        "### Working with Part of a List\n",
        "\n",
        "#### Slicing a List\n",
        "\n",
        "To make a slice, you specify the index of the first and last elements you\n",
        "want to work with. As with the `range()` function, Python stops one item\n",
        "before the second index you specify. To output the first three elements\n",
        "in a list, you would request indices 0 through 3, which would return elements\n",
        "0, 1, and 2.\n",
        "The following example involves a list of players on a team:"
      ]
    },
    {
      "cell_type": "code",
      "execution_count": 39,
      "metadata": {
        "colab": {
          "base_uri": "https://localhost:8080/"
        },
        "id": "GjQi5MRUfnAn",
        "outputId": "cfa40472-e768-444c-9ad6-30683c728f81"
      },
      "outputs": [
        {
          "name": "stdout",
          "output_type": "stream",
          "text": [
            "['alice', 'bob', 'carol']\n"
          ]
        }
      ],
      "source": [
        "# List of biotech researchers\n",
        "researchers = ['alice', 'bob', 'carol', 'david', 'emma']\n",
        "\n",
        "# Printing the first three researchers\n",
        "print(researchers[0:3])"
      ]
    },
    {
      "cell_type": "markdown",
      "metadata": {
        "id": "HFuESxMvgmGS"
      },
      "source": [
        "You can generate any subset of a list. For example, if you want the second,\n",
        "third, and fourth items in a list, you would start the slice at index 1 and\n",
        "end at index 4:"
      ]
    },
    {
      "cell_type": "code",
      "execution_count": 40,
      "metadata": {
        "colab": {
          "base_uri": "https://localhost:8080/"
        },
        "id": "Cnz8Hw6qftUw",
        "outputId": "4a1adb12-c0d1-4887-e092-bb7adbd3dd87"
      },
      "outputs": [
        {
          "name": "stdout",
          "output_type": "stream",
          "text": [
            "['bob', 'carol', 'david']\n"
          ]
        }
      ],
      "source": [
        "print(researchers[1:4])"
      ]
    },
    {
      "cell_type": "markdown",
      "metadata": {
        "id": "gM2B1r89grBk"
      },
      "source": [
        "If you omit the first index in a slice, Python automatically starts your\n",
        "slice at the beginning of the list:"
      ]
    },
    {
      "cell_type": "code",
      "execution_count": 41,
      "metadata": {
        "colab": {
          "base_uri": "https://localhost:8080/"
        },
        "id": "4daPtT_2gqUZ",
        "outputId": "dbf5d365-2639-407e-b7e6-eac7fddd1b7a"
      },
      "outputs": [
        {
          "name": "stdout",
          "output_type": "stream",
          "text": [
            "['alice', 'bob', 'carol', 'david']\n"
          ]
        }
      ],
      "source": [
        "print(researchers[:4])"
      ]
    },
    {
      "cell_type": "markdown",
      "metadata": {
        "id": "GsKv9xhag1Od"
      },
      "source": [
        "A similar syntax works if you want a slice that includes the end of a list.\n",
        "For example, if you want all items from the third item through the last item,\n",
        "you can start with index 2 and omit the second index:"
      ]
    },
    {
      "cell_type": "code",
      "execution_count": 42,
      "metadata": {
        "colab": {
          "base_uri": "https://localhost:8080/"
        },
        "id": "45eaHEiig0qM",
        "outputId": "9a23801e-7f2e-41e9-cceb-1ab28b377157"
      },
      "outputs": [
        {
          "name": "stdout",
          "output_type": "stream",
          "text": [
            "['carol', 'david', 'emma']\n"
          ]
        }
      ],
      "source": [
        "print(researchers[2:])"
      ]
    },
    {
      "cell_type": "markdown",
      "metadata": {
        "id": "YPxet8lfg_Bb"
      },
      "source": [
        "This syntax allows you to output all of the elements from any point in\n",
        "your list to the end regardless of the length of the list. Recall that a negative\n",
        "index returns an element a certain distance from the end of a list;\n",
        "therefore, you can output any slice from the end of a list. For example, if\n",
        "we want to output the last three players on the roster"
      ]
    },
    {
      "cell_type": "code",
      "execution_count": 43,
      "metadata": {
        "colab": {
          "base_uri": "https://localhost:8080/"
        },
        "id": "_CV6oxsjgnT-",
        "outputId": "6fa1215b-a3fe-482b-d70c-aa5f7c843cde"
      },
      "outputs": [
        {
          "name": "stdout",
          "output_type": "stream",
          "text": [
            "['carol', 'david', 'emma']\n"
          ]
        }
      ],
      "source": [
        "print(researchers[-3:])"
      ]
    },
    {
      "cell_type": "markdown",
      "metadata": {
        "id": "1AkKlK2-hnNt"
      },
      "source": [
        "### Copying a List\n",
        "\n",
        "Often, you’ll want to start with an existing list and make an entirely new list\n",
        "based on the first one. Let’s explore how copying a list works and examine\n",
        "one situation in which copying a list is useful.\n",
        "To copy a list, you can make a slice that includes the entire original list\n",
        "by omitting the first index and the second index ([:]). This tells Python to\n",
        "make a slice that starts at the first item and ends with the last item, producing\n",
        "a copy of the entire list.\n",
        "For example, imagine we have a list of our favorite foods and want to\n",
        "make a separate list of foods that a friend likes. This friend likes everything\n",
        "in our list so far, so we can create their list by copying ours:"
      ]
    },
    {
      "cell_type": "code",
      "execution_count": 44,
      "metadata": {
        "colab": {
          "base_uri": "https://localhost:8080/"
        },
        "id": "EqQzhrg5g6iM",
        "outputId": "55296572-3b22-4c19-93f4-a35f745a524d"
      },
      "outputs": [
        {
          "name": "stdout",
          "output_type": "stream",
          "text": [
            "My favorite foods are:\n",
            "['pizza', 'falafel', 'carrot cake']\n",
            "\n",
            "My friend's favorite foods are:\n",
            "['pizza', 'falafel', 'carrot cake']\n"
          ]
        }
      ],
      "source": [
        "my_foods = ['pizza', 'falafel', 'carrot cake']\n",
        "friend_foods = my_foods[:]\n",
        "print(\"My favorite foods are:\")\n",
        "print(my_foods)\n",
        "print(\"\\nMy friend's favorite foods are:\")\n",
        "print(friend_foods)"
      ]
    },
    {
      "cell_type": "markdown",
      "metadata": {
        "id": "X7cfrhZ2h3se"
      },
      "source": [
        "To prove that we actually have two separate lists, we’ll add a new food\n",
        "to each list and show that each list keeps track of the appropriate person’s\n",
        "favorite foods:"
      ]
    },
    {
      "cell_type": "code",
      "execution_count": 45,
      "metadata": {
        "colab": {
          "base_uri": "https://localhost:8080/"
        },
        "id": "OwtNbleSh27L",
        "outputId": "45b647f9-a6b2-4455-db1b-14691f56ca6d"
      },
      "outputs": [
        {
          "name": "stdout",
          "output_type": "stream",
          "text": [
            "My favorite foods are:\n",
            "['pizza', 'falafel', 'carrot cake', 'cannoli']\n",
            "\n",
            "My friend's favorite foods are:\n",
            "['pizza', 'falafel', 'carrot cake', 'ice cream']\n"
          ]
        }
      ],
      "source": [
        "my_foods = ['pizza', 'falafel', 'carrot cake']\n",
        "friend_foods = my_foods[:]\n",
        "my_foods.append('cannoli')\n",
        "friend_foods.append('ice cream')\n",
        "\n",
        "print(\"My favorite foods are:\")\n",
        "print(my_foods)\n",
        "\n",
        "print(\"\\nMy friend's favorite foods are:\")\n",
        "print(friend_foods)"
      ]
    },
    {
      "cell_type": "markdown",
      "metadata": {
        "id": "v3XyJArSiIZe"
      },
      "source": [
        "The output at x shows that 'cannoli' now appears in our list of favorite\n",
        "foods but 'ice cream' doesn’t. At y we can see that 'ice cream' now appears\n",
        "in our friend’s list but 'cannoli' doesn’t. If we had simply set friend_foods\n",
        "equal to my_foods, we would not produce two separate lists. For example,\n",
        "here’s what happens when you try to copy a list without using a slice:"
      ]
    },
    {
      "cell_type": "code",
      "execution_count": 46,
      "metadata": {
        "colab": {
          "base_uri": "https://localhost:8080/"
        },
        "id": "mgRYYHg8htlN",
        "outputId": "a0f31914-cb52-465c-84ad-6e3f5ab2a385"
      },
      "outputs": [
        {
          "name": "stdout",
          "output_type": "stream",
          "text": [
            "My favorite foods are:\n",
            "['pizza', 'falafel', 'carrot cake', 'cannoli', 'ice cream']\n",
            "\n",
            "My friend's favorite foods are:\n",
            "['pizza', 'falafel', 'carrot cake', 'cannoli', 'ice cream']\n"
          ]
        }
      ],
      "source": [
        "my_foods = ['pizza', 'falafel', 'carrot cake']\n",
        "\n",
        "# This doesn't work:\n",
        "friend_foods = my_foods\n",
        "\n",
        "my_foods.append('cannoli')\n",
        "friend_foods.append('ice cream')\n",
        "print(\"My favorite foods are:\")\n",
        "print(my_foods)\n",
        "print(\"\\nMy friend's favorite foods are:\")\n",
        "print(friend_foods)"
      ]
    },
    {
      "cell_type": "markdown",
      "metadata": {
        "id": "jIiFsIFziRCe"
      },
      "source": [
        "Instead of storing a copy of `my_foods` in `friend_foods`, we set\n",
        "`friend_foods` equal to `my_foods`. This syntax actually tells Python to connect\n",
        "the new variable `friend_foods` to the list that is already contained in\n",
        "`my_foods`, so now both variables point to the same list (position in the memory). As a result, when we\n",
        "add 'cannoli' to `my_foods`, it will also appear in `friend_foods`. Likewise 'ice\n",
        "cream' will appear in both lists, even though it appears to be added only to\n",
        "`friend_foods`."
      ]
    },
    {
      "cell_type": "markdown",
      "metadata": {
        "id": "woKl9U8Lvpjl"
      },
      "source": [
        "### 🏁 Recap\n",
        "\n",
        "- 🟥 If you have not finished the tasks, place the red card on top.\n",
        "- 🟩 If you have finished the tasks and have no questions and want to proceed, place the green card on top.\n",
        "- 🟨 If you have finished the tasks but would like to discuss the solutions together again, place the yellow card on top."
      ]
    },
    {
      "cell_type": "markdown",
      "metadata": {
        "id": "xOqA30lljGvZ"
      },
      "source": [
        "##  1.2.2.5 🏆 **Task with Sakai-Submission**\n",
        "\n",
        "\n",
        "You are given data of the following RNA-Sequence.\n",
        "\n",
        "```rna_sequence = [\"A\", \"U\", \"C\", \"C\", \"G\",\"A\", \"G\", \"C\", \"U\", \"E\", \"G\",\"A\", \"G\", \"C\", \"U\", \"E\", \"Z\", \"G\",\"A\", \"G\", \"C\", \"U\", \"U\", \"G\"]```\n",
        "\n",
        "As You see, the data must have some errors, it should contain only the nucleotides A, G, U, and C. \n",
        "\n",
        "- First clean the data by removing all corrupted items from the list. You can use the ```remove()```function or google for a more elegant way.\n",
        "\n",
        "A sequence of three nucleotides is call a **codon** that can be translated in a specific amino acid. \n",
        "\n",
        "- Next create a loop, that prints out all three letter codons of the remaining sequence as a list of three elements. \n",
        "- Bonus: instead of the list of three elements, make each codon a three letter string and store all the codons in a list.\n",
        "\n",
        "![](https://www.genome.gov/sites/default/files/media/images/tg/Genetic-code.jpg)"
      ]
    },
    {
      "cell_type": "code",
      "execution_count": null,
      "metadata": {},
      "outputs": [],
      "source": []
    },
    {
      "cell_type": "code",
      "execution_count": 1,
      "metadata": {
        "colab": {
          "base_uri": "https://localhost:8080/"
        },
        "id": "3nbB39LWjBef",
        "outputId": "237afefb-a8ef-4e13-d587-64b81e918ec2"
      },
      "outputs": [
        {
          "name": "stdout",
          "output_type": "stream",
          "text": [
            "Length of original sequence is 24\n",
            "Length of cleaned sequence is 21\n",
            "['A', 'U', 'C']\n",
            "['C', 'G', 'A']\n",
            "['G', 'C', 'U']\n",
            "['G', 'A', 'G']\n",
            "['C', 'U', 'G']\n",
            "['A', 'G', 'C']\n",
            "['U', 'U', 'G']\n",
            "['AUC', 'CGA', 'GCU', 'GAG', 'CUG', 'AGC', 'UUG']\n"
          ]
        }
      ],
      "source": [
        "#@title ❓ Click `Show code` in the code cell to show the solution. { display-mode: \"form\" }\n",
        "\n",
        "from solutionsfop import solution_1_2_2_5\n",
        "\n",
        "solution_1_2_2_5()\n"
      ]
    },
    {
      "cell_type": "markdown",
      "metadata": {
        "id": "rrpgf3yvvuO-"
      },
      "source": [
        "### 🏁 Recap\n",
        "\n",
        "- If you have finished the tasks and have no questions, place the green card on top.\n",
        "- If you have finished the tasks but would like to discuss the solutions together again, place the yellow card on top.\n",
        "\n",
        "![](https://www.lokalinfo.ch/fileadmin/news_import/image003_03.jpg)"
      ]
    },
    {
      "cell_type": "markdown",
      "metadata": {},
      "source": [
        "## 🤓 Appendix"
      ]
    },
    {
      "cell_type": "markdown",
      "metadata": {
        "id": "KUUuWLcBezIX"
      },
      "source": [
        "#### List Comprehensions\n",
        "\n",
        "are an elegant ([pythonic](https://stackoverflow.com/questions/25011078/what-does-pythonic-mean)) way of generating numerical list.\n",
        "\n",
        "A list comprehension combines the\n",
        "for loop and the creation of new elements into one line, and automatically\n",
        "appends each new element. List comprehensions are not always presented\n",
        "to beginners, but I have included them here because you’ll most likely see\n",
        "them as soon as you start looking at other people’s code.\n",
        "\n",
        "🤓 **Bonus Task**\n",
        "Rewrite the following list comprehension in a regular for loop."
      ]
    },
    {
      "cell_type": "code",
      "execution_count": null,
      "metadata": {
        "colab": {
          "base_uri": "https://localhost:8080/"
        },
        "id": "_ZNv1V7ufBH8",
        "outputId": "4a44abbf-a75f-4d9b-ff74-b25783bccce1"
      },
      "outputs": [
        {
          "name": "stdout",
          "output_type": "stream",
          "text": [
            "[1, 4, 9, 16, 25, 36, 49, 64, 81, 100]\n"
          ]
        }
      ],
      "source": [
        "squares = [value**2 for value in range(1,11)]\n",
        "print(squares)"
      ]
    },
    {
      "cell_type": "code",
      "execution_count": null,
      "metadata": {
        "colab": {
          "base_uri": "https://localhost:8080/"
        },
        "id": "fFoHTV0yfBAb",
        "outputId": "d6a2e642-fe2b-4ed6-a971-1f9b9fa2bedf"
      },
      "outputs": [
        {
          "name": "stdout",
          "output_type": "stream",
          "text": [
            "[1, 4, 9, 16, 25, 36, 49, 64, 81, 100]\n"
          ]
        }
      ],
      "source": [
        "squares = []\n",
        "for value in range(1,11):\n",
        "  squares.append(value**2)\n",
        "print(squares)"
      ]
    },
    {
      "cell_type": "markdown",
      "metadata": {
        "id": "QT6I33NaiimR"
      },
      "source": [
        "### Tuples\n",
        "\n",
        "Lists work well for storing sets of items that can change throughout the life of a program. The ability to modify lists is particularly important when you’re working with a list of users on a website or a list of characters in a game. However, sometimes you’ll want to create a list of items that cannot change. Tuples allow you to do just that. Python refers to values that cannot change as immutable, and an immutable list is called a tuple.\n"
      ]
    },
    {
      "cell_type": "code",
      "execution_count": null,
      "metadata": {
        "colab": {
          "base_uri": "https://localhost:8080/"
        },
        "id": "0524KTSziMEf",
        "outputId": "e9e85a49-57a6-4cb2-fabc-062c1a524048"
      },
      "outputs": [
        {
          "name": "stdout",
          "output_type": "stream",
          "text": [
            "200\n",
            "50\n"
          ]
        }
      ],
      "source": [
        "dimensions = (200, 50)\n",
        "print(dimensions[0])\n",
        "print(dimensions[1])"
      ]
    },
    {
      "cell_type": "markdown",
      "metadata": {
        "id": "4eZecwaqiuaQ"
      },
      "source": [
        "trying to change a value within a tuple:"
      ]
    },
    {
      "cell_type": "code",
      "execution_count": null,
      "metadata": {
        "colab": {
          "base_uri": "https://localhost:8080/",
          "height": 167
        },
        "id": "AZeTIScjipyQ",
        "outputId": "307ab7af-673d-4da0-a199-f19e43ed7470"
      },
      "outputs": [
        {
          "ename": "TypeError",
          "evalue": "ignored",
          "output_type": "error",
          "traceback": [
            "\u001b[0;31m---------------------------------------------------------------------------\u001b[0m\n",
            "\u001b[0;31mTypeError\u001b[0m                                 Traceback (most recent call last)\n",
            "\u001b[0;32m<ipython-input-90-00271e61a311>\u001b[0m in \u001b[0;36m<module>\u001b[0;34m()\u001b[0m\n",
            "\u001b[0;32m----> 1\u001b[0;31m \u001b[0mdimensions\u001b[0m\u001b[0;34m[\u001b[0m\u001b[0;36m0\u001b[0m\u001b[0;34m]\u001b[0m \u001b[0;34m=\u001b[0m \u001b[0;36m250\u001b[0m\u001b[0;34m\u001b[0m\u001b[0;34m\u001b[0m\u001b[0m\n",
            "\u001b[0m\n",
            "\u001b[0;31mTypeError\u001b[0m: 'tuple' object does not support item assignment"
          ]
        }
      ],
      "source": [
        "dimensions[0] = 250"
      ]
    },
    {
      "cell_type": "markdown",
      "metadata": {
        "id": "_GMVaK-ai-gQ"
      },
      "source": [
        "We can change a tuple, if re redefine it:"
      ]
    },
    {
      "cell_type": "code",
      "execution_count": null,
      "metadata": {
        "colab": {
          "base_uri": "https://localhost:8080/"
        },
        "id": "FSKKs-4sitKA",
        "outputId": "8e41bfaa-462e-42f0-9eb6-c0078738bb6a"
      },
      "outputs": [
        {
          "name": "stdout",
          "output_type": "stream",
          "text": [
            "300\n",
            "25\n"
          ]
        }
      ],
      "source": [
        "dimensions = (300, 25)\n",
        "print(dimensions[0])\n",
        "print(dimensions[1])"
      ]
    }
  ],
  "metadata": {
    "colab": {
      "collapsed_sections": [],
      "provenance": [],
      "toc_visible": true
    },
    "kernelspec": {
      "display_name": "Python 3",
      "language": "python",
      "name": "python3"
    },
    "language_info": {
      "codemirror_mode": {
        "name": "ipython",
        "version": 3
      },
      "file_extension": ".py",
      "mimetype": "text/x-python",
      "name": "python",
      "nbconvert_exporter": "python",
      "pygments_lexer": "ipython3",
      "version": "3.12.7"
    }
  },
  "nbformat": 4,
  "nbformat_minor": 0
}

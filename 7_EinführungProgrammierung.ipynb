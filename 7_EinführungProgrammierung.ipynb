{
  "cells": [
    {
      "cell_type": "markdown",
      "metadata": {
        "id": "K8p3NPX3tyxl"
      },
      "source": [
        "<table style=\"width: 100%\">\n",
        "    <tr style=\"background: #ffffff\">\n",
        "        <td style=\"padding-top:25px;width: 180px\"><img src=\"https://mci.edu/templates/mci/images/logo.svg\" alt=\"Logo\"></td>\n",
        "        <td style=\"width: 100%\">\n",
        "            <div style=\"text-align:right; width: 100%; text-align:right\"><font style=\"font-size:38px\"><b>Grundlagen Programmierung</b></font></div>\n",
        "            <div style=\"padding-top:0px; width: 100%; text-align:right\"><font size=\"4\"></font></div>\n",
        "        </td>\n",
        "    </tr>\n",
        "</table>\n",
        "\n",
        "---\n",
        "\n",
        "# 1.2.7 Challenge: Reconstruction in Shotgun-Sequencing\n",
        "\n",
        "![](https://en.wikipedia.org/wiki/De_novo_sequence_assemblers)"
      ]
    },
    {
      "cell_type": "markdown",
      "metadata": {
        "id": "rGMKEl8Zmijf"
      },
      "source": [
        "## 2.7.1 Testing Your Code\n",
        "\n",
        "When You write a function or a class, you can also write tests for that code. Testing proves that your code works as it’s supposed\n",
        "to in response to all the input types it’s designed to receive. When you write tests, you can be confident\n",
        "that your code will work correctly as more people begin to use Your programs. You’ll also be able to test\n",
        "new code as you add it to make sure your changes don’t break your program’s existing behavior. Every programmer makes mistakes, so every\n",
        "programmer must test their code often, catching problems before users encounter them."
      ]
    },
    {
      "cell_type": "markdown",
      "metadata": {
        "id": "nuVgXW0tXrds"
      },
      "source": [
        "### Testing a Function\n",
        "\n",
        "To learn about testing, we need code to test. Here’s a simple function that\n",
        "takes in a first and last name, and returns a neatly formatted full name:"
      ]
    },
    {
      "cell_type": "code",
      "execution_count": 15,
      "metadata": {
        "id": "Gc5i2bPZtxIm"
      },
      "outputs": [],
      "source": [
        "def get_formatted_name(first, last):\n",
        "  \"\"\"Generate a neatly formatted full name.\"\"\"\n",
        "  full_name = first + ' ' + last\n",
        "  return full_name.title()"
      ]
    },
    {
      "cell_type": "markdown",
      "metadata": {
        "id": "YV8BZ8SwYVs8"
      },
      "source": [
        "The function ```get_formatted_name()``` combines the first and last name\n",
        "with a space in between to complete a full name, and then capitalizes and\n",
        "returns the full name. To check that ```get_formatted_name()``` works, let’s make a script that uses this function. The script lets users enter a\n",
        "first and last name, and see a neatly formatted full name:"
      ]
    },
    {
      "cell_type": "code",
      "execution_count": 16,
      "metadata": {
        "colab": {
          "base_uri": "https://localhost:8080/"
        },
        "id": "OPJBJm0tXyJz",
        "outputId": "06b1c544-b5da-42a1-89c0-832e419a1e0c"
      },
      "outputs": [
        {
          "name": "stdout",
          "output_type": "stream",
          "text": [
            "Enter 'q' at any time to quit.\n",
            "\tNeatly formatted name:  .\n",
            "\tNeatly formatted name:  .\n",
            "\tNeatly formatted name:  .\n",
            "\tNeatly formatted name:  .\n",
            "\tNeatly formatted name:  .\n",
            "\tNeatly formatted name:  .\n",
            "\tNeatly formatted name:  .\n",
            "\tNeatly formatted name:  .\n",
            "\tNeatly formatted name:  .\n",
            "\tNeatly formatted name:  .\n",
            "\tNeatly formatted name:  .\n",
            "\tNeatly formatted name:  .\n",
            "\tNeatly formatted name:  .\n",
            "\tNeatly formatted name:  .\n",
            "\tNeatly formatted name:  .\n",
            "\tNeatly formatted name:  .\n",
            "\tNeatly formatted name:  .\n",
            "\tNeatly formatted name:  .\n",
            "\tNeatly formatted name:  .\n",
            "\tNeatly formatted name:  .\n",
            "\tNeatly formatted name:  .\n",
            "\tNeatly formatted name:  .\n",
            "\tNeatly formatted name:  .\n",
            "\tNeatly formatted name:  .\n",
            "\tNeatly formatted name:  .\n",
            "\tNeatly formatted name:  .\n",
            "\tNeatly formatted name:  .\n",
            "\tNeatly formatted name:  .\n",
            "\tNeatly formatted name:  .\n",
            "\tNeatly formatted name:  Dg.\n",
            "\tNeatly formatted name: Df Sdf.\n",
            "\tNeatly formatted name: Df Sdf.\n",
            "\tNeatly formatted name: Ds F.\n",
            "\tNeatly formatted name: F Sd.\n",
            "\tNeatly formatted name: F F.\n",
            "\tNeatly formatted name: Sd F.\n",
            "\tNeatly formatted name: Ds .\n",
            "\tNeatly formatted name:  Sd.\n",
            "\tNeatly formatted name:  .\n",
            "\tNeatly formatted name:  .\n",
            "\tNeatly formatted name:  .\n",
            "\tNeatly formatted name:  .\n",
            "\tNeatly formatted name:  .\n",
            "\tNeatly formatted name:  .\n",
            "\tNeatly formatted name:  .\n",
            "\tNeatly formatted name:  .\n",
            "\tNeatly formatted name:  .\n",
            "\tNeatly formatted name:  .\n",
            "\tNeatly formatted name: D As.\n"
          ]
        }
      ],
      "source": [
        "print(\"Enter 'q' at any time to quit.\")\n",
        "\n",
        "while True:\n",
        "  first = input(\"\\nPlease give me a first name: \")\n",
        "\n",
        "  if first == 'q':\n",
        "    break\n",
        "\n",
        "  last = input(\"Please give me a last name: \")\n",
        "  if last == 'q':\n",
        "    break\n",
        "\n",
        "  formatted_name = get_formatted_name(first, last)\n",
        "  print(\"\\tNeatly formatted name: \" + formatted_name + '.')"
      ]
    },
    {
      "cell_type": "markdown",
      "metadata": {
        "id": "W7ZbnCyeYg17"
      },
      "source": [
        "We can see that the names generated here are correct. But let’s say we\n",
        "want to modify ```get_formatted_name()``` so it can also handle middle names.\n",
        "As we do so, we want to make sure we don’t break the way the function\n",
        "handles names that have only a first and last name. We could test our code by running teh script above and entering a name like Janis Joplin every time we\n",
        "modify ```get_formatted_name()```, but that would become tedious. Fortunately,\n",
        "Python provides an efficient way to automate the testing of a function’s\n",
        "output. If we automate the testing of ```get_formatted_name()```, we can always be\n",
        "confident that the function will work when given the kinds of names we’ve\n",
        "written tests for."
      ]
    },
    {
      "cell_type": "markdown",
      "metadata": {
        "id": "kdfQzGpaY0Db"
      },
      "source": [
        "### Unit Tests and Test Cases\n",
        "\n",
        "The module ```unittest``` from the Python standard library provides tools for\n",
        "testing your code. A unit test verifies that one specific aspect of a function’s\n",
        "behavior is correct. A test case is a collection of unit tests that together prove that a function behaves as it’s supposed to, within the full range of situations you expect it to handle. \n",
        "\n",
        "A good test case considers all the possible\n",
        "kinds of input a function could receive and includes tests to represent each\n",
        "of these situations. A test case with full coverage includes a full range of unit tests covering all the possible ways you can use a function. Achieving full\n",
        "coverage on a large project can be daunting. It’s often good enough to write\n",
        "tests for your code’s critical behaviors and then aim for full coverage only if\n",
        "the project starts to see widespread use."
      ]
    },
    {
      "cell_type": "markdown",
      "metadata": {
        "id": "9ym_4y1xZPJ9"
      },
      "source": [
        "#### A Passing Test\n",
        "The syntax for setting up a test case takes some getting used to, but once\n",
        "you’ve set up the test case it’s straightforward to add more unit tests for your\n",
        "functions. To write a test case for a function, import the unittest module\n",
        "and the function you want to test. Then create a class that inherits from\n",
        "```unittest.TestCase```, and write a series of methods to test different aspects of your function’s behavior (e.g. ```test_first_last_name(self)```).\n",
        "Here’s a test case with one method that verifies that the function\n",
        "```get_formatted_name()``` works correctly when given a first and last name:"
      ]
    },
    {
      "cell_type": "code",
      "execution_count": 17,
      "metadata": {
        "colab": {
          "base_uri": "https://localhost:8080/"
        },
        "id": "HtY4mPvyYGoz",
        "outputId": "2dd80dd6-481e-4827-f9df-68351653f7ea"
      },
      "outputs": [
        {
          "name": "stderr",
          "output_type": "stream",
          "text": [
            "test_first_last_name (__main__.NamesTestCase)\n",
            "Do names like 'Janis Joplin' work? ... ok\n",
            "\n",
            "----------------------------------------------------------------------\n",
            "Ran 1 test in 0.002s\n",
            "\n",
            "OK\n"
          ]
        },
        {
          "data": {
            "text/plain": [
              "<unittest.main.TestProgram at 0x20cac320af0>"
            ]
          },
          "execution_count": 17,
          "metadata": {},
          "output_type": "execute_result"
        }
      ],
      "source": [
        "# Use the unit test module\n",
        "import unittest\n",
        "\n",
        "# Define a class of tests, for instance for one specific function\n",
        "class NamesTestCase(unittest.TestCase):\n",
        "  \"\"\"Tests for 'name_function.py'.\"\"\"\n",
        "\n",
        "  # Define test function that test the function in different ways\n",
        "  def test_first_last_name(self):\n",
        "    \"\"\"Do names like 'Janis Joplin' work?\"\"\"\n",
        "    formatted_name = get_formatted_name('janis', 'joplin')\n",
        "\n",
        "    # check for the expected result\n",
        "    self.assertEqual(formatted_name, 'Janis Joplin')\n",
        "\n",
        "# execution of the unit test\n",
        "unittest.main(argv=[''], verbosity=2, exit=False)"
      ]
    },
    {
      "cell_type": "markdown",
      "metadata": {
        "id": "DMaUeJXkaAPD"
      },
      "source": [
        "First, we import unittest. At we create a class called ```NamesTestCase```, which will contain a series of unit tests for ```get_formatted_name()```. You can name the class anything you want, but it’s best to call it something related to the function you’re about to test and to use the word Test in the class name. This class must inherit from the class ```unittest.TestCase``` so Python knows how to run the tests you write.\n",
        "```NamesTestCase``` contains a single method that tests one aspect of\n",
        "```get_formatted_name()```. We call this method ```test_first_last_name()``` because\n",
        "we’re verifying that names with only a first and last name are formatted correctly.\n",
        "Any method that starts with ```test_``` will be run automatically when we\n",
        "run ```test_name_function.py```. Within this test method, we call the function\n",
        "we want to test and store a return value that we’re interested in testing. In\n",
        "this example we call ```get_formatted_name()``` with the arguments ```'janis'``` and\n",
        "```'joplin'```, and store the result in ```formatted_name```.\n",
        "Then, we use one of unittest’s most useful features: an ```assert``` method.\n",
        "Assert methods verify that a result you received matches the result you\n",
        "expected to receive. In this case, because we know ```get_formatted_name()``` is\n",
        "supposed to return a capitalized, properly spaced full name, we expect\n",
        "the value in formatted_name to be ```Janis Joplin```. To check if this is true, we use unittest’s ```assertEqual()``` method and pass it ```formatted_name``` and ```'Janis Joplin'```. The line\n",
        "\n",
        "```\n",
        "self.assertEqual(formatted_name, 'Janis Joplin')\n",
        "```\n",
        "\n",
        "says, “Compare the value in ```formatted_name``` to the string ```'Janis Joplin'```. If they are equal as expected, fine. But if they don’t match, let me know!” The line ```unittest.main()``` tells Python to run the tests in this file. When we run test_name_function.py, we get the following output:\n",
        "\n",
        "```\n",
        "test_first_last_name (__main__.NamesTestCase)\n",
        "Do names like 'Janis Joplin' work? ... ok\n",
        "\n",
        "----------------------------------------------------------------------\n",
        "Ran 1 test in 0.004s\n",
        "\n",
        "OK\n",
        "<unittest.main.TestProgram at 0x7f2b69fd2c90>\n",
        "```\n",
        "\n",
        "Python tells us how many tests (functions starting with ```test_``` were and how long it took to run the tests. The final OK tells us that all unit tests in the test case passed.\n",
        "\n",
        "This output indicates that the function ```get_formatted_name()``` will always\n",
        "work for names that have a first and last name unless we modify the function.\n",
        "When we modify ```get_formatted_name()```, we can run this test again. If\n",
        "the test case passes, we know the function will still work for names like\n",
        "```Janis Joplin```."
      ]
    },
    {
      "cell_type": "markdown",
      "metadata": {
        "id": "XMTs8r_zcH39"
      },
      "source": [
        "#### A Failing Test\n",
        "\n",
        "What does a failing test look like? Let’s modify `get_formatted_name()` so it can\n",
        "handle middle names, but we’ll do so in a way that breaks the function for\n",
        "names with just a first and last name, like Janis Joplin.\n",
        "\n",
        "Here’s a new version of `get_formatted_name()` that requires a middle name\n",
        "argument:"
      ]
    },
    {
      "cell_type": "code",
      "execution_count": 18,
      "metadata": {
        "id": "LEccu_9HcMzz"
      },
      "outputs": [],
      "source": [
        "def get_formatted_name(first, middle, last):\n",
        "  \"\"\"Generate a neatly formatted full name.\"\"\"\n",
        "  full_name = first + ' ' + middle + ' ' + last\n",
        "  return full_name.title()"
      ]
    },
    {
      "cell_type": "markdown",
      "metadata": {
        "id": "fWOEFG-acRo8"
      },
      "source": [
        "This version should work for people with middle names, but when we\n",
        "test it, we see that we’ve broken the function for people with just a first\n",
        "and last name. This time, running the file test_name_function.py gives this\n",
        "output:"
      ]
    },
    {
      "cell_type": "code",
      "execution_count": 19,
      "metadata": {
        "colab": {
          "base_uri": "https://localhost:8080/"
        },
        "id": "bqN0R-4JZ_d1",
        "outputId": "3d24ac70-26c4-449b-d889-ea627ec32076"
      },
      "outputs": [
        {
          "name": "stderr",
          "output_type": "stream",
          "text": [
            "test_first_last_name (__main__.NamesTestCase)\n",
            "Do names like 'Janis Joplin' work? ... ERROR\n",
            "\n",
            "======================================================================\n",
            "ERROR: test_first_last_name (__main__.NamesTestCase)\n",
            "Do names like 'Janis Joplin' work?\n",
            "----------------------------------------------------------------------\n",
            "Traceback (most recent call last):\n",
            "  File \"<ipython-input-17-cfc738a5e017>\", line 11, in test_first_last_name\n",
            "    formatted_name = get_formatted_name('janis', 'joplin')\n",
            "TypeError: get_formatted_name() missing 1 required positional argument: 'last'\n",
            "\n",
            "----------------------------------------------------------------------\n",
            "Ran 1 test in 0.002s\n",
            "\n",
            "FAILED (errors=1)\n"
          ]
        },
        {
          "data": {
            "text/plain": [
              "<unittest.main.TestProgram at 0x20cac6c5220>"
            ]
          },
          "execution_count": 19,
          "metadata": {},
          "output_type": "execute_result"
        }
      ],
      "source": [
        "unittest.main(argv=[''], verbosity=2, exit=False)"
      ]
    },
    {
      "cell_type": "markdown",
      "metadata": {
        "id": "AidaraQicbHU"
      },
      "source": [
        "There’s a lot of information here because there’s a lot you might need\n",
        "to know when a test fails. The first item in the output below the double line is an ```ERROR```, which tells us one unit test in the test case resulted in an error. Next, we see that ```test_first_last_name()``` in ```NamesTestCase``` caused an error. \n",
        "Knowing which test failed is critical when your test case contains many unit tests. Next, we see a standard traceback, which reports that the function call\n",
        "```get_formatted_name('janis', 'joplin')``` no longer works because it’s missing a required positional argument.\n",
        "We also see that one unit test was run. Finally, we see an additional\n",
        "message that the overall test case failed and that one error occurred when\n",
        "running the test case. This information appears at the end of the output\n",
        "so you see it right away; you don’t want to scroll up through a long output\n",
        "listing to find out how many tests failed."
      ]
    },
    {
      "cell_type": "markdown",
      "metadata": {
        "id": "1UP2Omc9dL0P"
      },
      "source": [
        "#### Responding to a Failed Test\n",
        "\n",
        "What do you do when a test fails? Assuming you’re checking the right conditions,\n",
        "a passing test means the function is behaving correctly and a failing\n",
        "test means there’s an error in the new code you wrote. So when a test fails, don’t change the test. Instead, fix the code that caused the test to fail.\n",
        "Examine the changes you just made to the function, and figure out how\n",
        "those changes broke the desired behavior. In this case get_formatted_name() used to require only two parameters: a\n",
        "first name and a last name. Now it requires a first name, middle name, and\n",
        "last name. The addition of that mandatory middle name parameter broke\n",
        "the desired behavior of `get_formatted_name()`. The best option here is to\n",
        "make the middle name optional ([remember what we learned on functions](https://colab.research.google.com/drive/1X3ZMCOMhsqm4hoPRNH2IbRZgcBboVyV9?usp=sharing)).\n",
        "\n",
        "✍️ **Task**\n",
        "\n",
        "- Improve the function to take an optional middle name argument\n",
        "- Add a new test-function to test an example with middle name in the new function"
      ]
    },
    {
      "cell_type": "code",
      "execution_count": null,
      "metadata": {},
      "outputs": [],
      "source": []
    },
    {
      "cell_type": "code",
      "execution_count": null,
      "metadata": {},
      "outputs": [],
      "source": []
    },
    {
      "cell_type": "code",
      "execution_count": 20,
      "metadata": {
        "id": "S2WcerZKZmVf"
      },
      "outputs": [],
      "source": [
        "#@title ❓ Click `Show code` in the code cell to show the solution. { display-mode: \"form\" }\n",
        "\n",
        "def get_formatted_name(first, last, middle = \"\"):\n",
        "  \"\"\"Generate a neatly formatted full name.\"\"\"\n",
        "  if middle ==\"\":\n",
        "    full_name = first + ' ' + last\n",
        "  else:\n",
        "    full_name = first + ' ' + middle + ' ' + last\n",
        "  return full_name.title()\n"
      ]
    },
    {
      "cell_type": "code",
      "execution_count": 21,
      "metadata": {
        "colab": {
          "base_uri": "https://localhost:8080/"
        },
        "id": "jr5A-h23d1o_",
        "outputId": "9494f377-c812-4149-e0f9-b4a0094e06da"
      },
      "outputs": [
        {
          "name": "stderr",
          "output_type": "stream",
          "text": [
            "test_first_last_name (__main__.NamesTestCase)\n",
            "Do names like 'Janis Joplin' work? ... ok\n",
            "test_first_middle_last_name (__main__.NamesTestCase)\n",
            "Do names like 'Arthur Conan Doyle' work? ... ok\n",
            "\n",
            "----------------------------------------------------------------------\n",
            "Ran 2 tests in 0.003s\n",
            "\n",
            "OK\n"
          ]
        },
        {
          "data": {
            "text/plain": [
              "<unittest.main.TestProgram at 0x20cac7aa700>"
            ]
          },
          "execution_count": 21,
          "metadata": {},
          "output_type": "execute_result"
        }
      ],
      "source": [
        "#@title ❓ Click `Show code` in the code cell to show the solution. { display-mode: \"form\" }\n",
        "\n",
        "import unittest\n",
        "\n",
        "class NamesTestCase(unittest.TestCase):\n",
        "  \"\"\"Tests for 'name_function.py'.\"\"\"\n",
        "\n",
        "  def test_first_last_name(self):\n",
        "    \"\"\"Do names like 'Janis Joplin' work?\"\"\"\n",
        "    formatted_name = get_formatted_name('janis', 'joplin')\n",
        "    self.assertEqual(formatted_name, 'Janis Joplin')\n",
        "  \n",
        "  def test_first_middle_last_name(self):\n",
        "    \"\"\"Do names like 'Arthur Conan Doyle' work?\"\"\"\n",
        "    formatted_name = get_formatted_name('arthur', 'doyle', 'conan')\n",
        "    self.assertEqual(formatted_name, 'Arthur Conan Doyle')\n",
        "\n",
        "unittest.main(argv=[''], verbosity=2, exit=False)"
      ]
    },
    {
      "cell_type": "markdown",
      "metadata": {
        "id": "79dmUpmKw-nX"
      },
      "source": [
        "### 🏁 Recap\n",
        "\n",
        "- If you have finished the tasks and have no questions, place the green card on top.\n",
        "- If you have finished the tasks but would like to discuss the solutions together again, place the yellow card on top.\n",
        "\n",
        "![](https://www.lokalinfo.ch/fileadmin/news_import/image003_03.jpg)"
      ]
    },
    {
      "cell_type": "markdown",
      "metadata": {
        "id": "IUh-cRIZeXoH"
      },
      "source": [
        "## 2.7.2 Challenge: Reconstruction in Shotgun-Sequencing\n",
        "\n",
        "So far, we assumed to have full length DNA-Sequences available from a database or any other source. In fact, we do not have the technology yet to read long strands of DNA a direct storing them in a database. Instead, the DNA strand is broken down in shorter sequences for reading the results. However, we have to bring the short sequences in the right order again.\n",
        "\n",
        "\"Shotgun sequencing is a laboratory technique for determining the DNA sequence of an organism’s genome. The method involves randomly breaking up the genome into small DNA fragments that are sequenced individually. A computer program looks for overlaps in the DNA sequences, using them to reassemble the fragments in their correct order to reconstitute the genome.\" [genome.gov](https://www.genome.gov/genetics-glossary/Shotgun-Sequencing)\n",
        "\n",
        "\n",
        "![](https://www.genome.gov/sites/default/files/media/images/tg/Shotgun-sequencing.jpg)\n",
        "\n",
        "\n",
        "You have a list of fragmented DNA-snippets that have to be assembled in the right order. Your task is to implement an algorithm, that brings the DNA-sequence into the right order."
      ]
    },
    {
      "cell_type": "markdown",
      "metadata": {
        "id": "IGueW3WZlIen"
      },
      "source": [
        "### Grading\n",
        "\n",
        "This is the basis for the final grade. \n",
        "\n",
        "- Passing the unit tests for the following functions:\n",
        "  - ```GlueFragmentsTestCase``` - **15 %**\n",
        "  - ```CompareBeginningsTestCase``` - **15 %**\n",
        "  - ```CompareEndingsTestCase```- **15 %**\n",
        "  - ```assemble_sequence()``` - **15 %**\n",
        "- Coding style and comments - **20 %**\n",
        "- Speed of execution of ```assemble_sequence()```- **10 %**\n",
        "- Find a nice criteria when to stop the assembly assuming You don not know the length of the initial sequence```- **10 %**"
      ]
    },
    {
      "cell_type": "markdown",
      "metadata": {
        "id": "RODx876dWmv9"
      },
      "source": [
        "### Preparation of the Data Set\n",
        "\n",
        "Next, we prepare the data set for the challenge. The following code splits the Virus-DNA (```full_dna_sequence```), we have seen before, into 500 shorter segments with length 200.\n",
        "\n",
        "This results in a high average coverage of $\\text{coverage} = N \\times L / G  = 500 \\times 200 / 2316 = 43,3$. So so average every base is read 43 times.\n",
        "\n",
        "The average coverage for a whole genome can be calculated from the length of the original genome ($G$), the number of reads ($N$), and the average read length ($L$) as $N \\times L / G$\n",
        "\n",
        "The segments are stored in a ```list_of_fragments```. "
      ]
    },
    {
      "cell_type": "code",
      "execution_count": 22,
      "metadata": {
        "colab": {
          "base_uri": "https://localhost:8080/"
        },
        "id": "d8qyc_uUeK-8",
        "outputId": "6a810173-7076-4686-829a-2ccb417dad31"
      },
      "outputs": [
        {
          "name": "stdout",
          "output_type": "stream",
          "text": [
            "The final DNA sequence is 2316 long.\n",
            "Created a list of 500 subquences that are 200 long.\n"
          ]
        }
      ],
      "source": [
        "# fragment_dna()\n",
        "\n",
        "import random\n",
        "\n",
        "fragment_length = 200\n",
        "number_of_segements = 500\n",
        "\n",
        "full_dna_sequence = \"CAAACCATTTGAATGGATGTCAATCCGACTCTACTTTTCCTAAAAATTCCAGCACAAAATGCCATAAGCACCACATTCCCTTATACTGGAGATCCTCCATACAGCCATGGAACAGGAACAGGATACACCATGGACACAGTAAACAGAACACACCAATACTCAGAAAAGGGGAAGTGGACAACAAACACAGAGACTGGTGCACCCCAGCTCAACCCGATTGACGGACCACTACCTGAAGATAATGAACCAAGTGGGTATGCACAAACAGACTGTGTTCTAGAGGCTATGGCTTTCCTTGAAGAATCCCATCCAGGAATATTTGAAAATTCATGCCTTGAAACAATGGAAGTTGTTCAACAAACAAGGGTAGATAAACTGACTCAAGGTCGCCAGACTTATGATTGGACATTAAACAGAAATCAACCGGCAGCAACTGCATTGGCCAACACCATAGAAGTTTTCAGATCGAATGACCTAACAGCTAACGAGTCAGGAAGGCTAATAGATTTCTTAAAGGATGTGATGGAATCAATGAACAAAGAGGAAATAGAGATAACAACCCACTTTCAAAGAAAAAGGAGAGTAAGAGACAACATGACCAAGAAGATGATCACGCAAAGAACAATAGGGAAGAAAAAACAGAGACTGAATAAGAGAGGCTATCTAATAAGAGCACTGACATTAAATACGATGACCAAAGATGCAGAGAGAGGCAAGTTAAAAAGAAGGGCTATCGCAACACCTGGGATGCAGATTAGAGGTTTCGTATACTTTGTTGAAACTTTAGCTAGGAGCATTTGCGAAAAGCTTGAACAGTCTGGGCTCCCAGTAGGGGGCAATGAAAAGAAGGCCAAATTGGCAAATGTTGTGAGAAAGATGATGACTAATTCACAAGATACAGAGATTTCTTTCACAATCACTGGGGACAACACTAAATGGAATGAGAATCAAAATCCTCGAATGTTCCTGGCGATGATTACATATATCACCAGAAATCAACCCGAGTGGTTTAGAAACATCCTGAGCATGGCACCCATAATGTTCTCAAATAAAATGGCAAGACTAGGGAAAGGGTACATGTTCGAGAGTAAAAGAATGAAGATTCGAACACAAATACCAGCAGAAATGCTAGCAAGCATTGATCTAAAGTATTTCAATGAATCAACAAGGAAGAAAATTGAGAAGATAAGGCCTCTTTTAATGGATGGCACAGCATCACTGAGTCCTGGGATGATGATGGGCATGTTCAACATGCTAAGTACTGTCTTGGGAGTCTCGATACTGAATCTTGGACAAAAGAAATACACCAAGACAACATACTGGTGGGATGGGCTTCAATCATCCGACGATTTTGCTCTCATAGTGAATGCACCAAACCATGAAGGAATACAAGCAGGAGTGGACAGATTCTACAGGACCTGCAAATTAGTGGGAATCAACATGAGCAAAAAGAAGTCCTATATAAATAAGACAGGGACATTTGAATTCACAAGCTTTTTTTATCGCTATGGATTTGTGGCTAATTTTAGCATGGAGCTACCCAGCTTTGGAGTGTCTGGAGTAAATGAATCAGCTGACATGAGTATTGGAGTAACAGTGATAAAGAACAACATGATAAACAATGACCTTGGACCTGCAACGGCTCAGATGGCTCTTCAATTGTTCATCAAAGACTACAGATACACATATAGATGTCATAGGGGAGACACACAAATTCAGACGAGAAGATCATTTGAGTTGAAGAAGCTATGGGATCAAACCCAATCAAAGGTAGGGCTATTAGTATCAGATGGAGGACCAAACTTATACAACATACGGAATCTTCACATTCCTGAAGTCTGCTTAAAATGGGAGCTAATGGATGATGATTATCGGGGAAGACTTTGTAATCCCCTGAATCCCTTTGTGAGTCATAAGGAGATTGATTCTGTAAACAATGCTGTGGTAATGCCAGCCCATGGCCCAGCCAAAAGCATGGAATATGATGCCGTCGCTACTACACATTCCTGGATTCCCAAGAGGAATCGTTCTATTCTCAACACAAGCCAAAGGGGAATTCTTGAGGATGAACAGATGTACCAGAAGTGTTGCAATTTATTCGAGAAATTTTTCCCTAGCAGTTCATATAGGAGGCCGGTTGGAATTTCTAGCATGGTGGAGGCCATGGTGTCTAGGGCCCGGATTGATGCCAGAGTCGACTTTGAGTCTGGACGGATTAAGAAAGAAGAGTTCTCTGAGATCATGAAGATCTGTTCCACCATTGAAGAACTCAGACGGCAAAAATAATGAATTTAACTTGTCCTTCATGAAAAAATG\"\n",
        "print(\"The final DNA sequence is {} long.\".format(len(full_dna_sequence)))\n",
        "\n",
        "list_of_fragments = []\n",
        "\n",
        "# The seed ensures, hat everybody gets the same results, when we randomly split the data\n",
        "random.seed(1)\n",
        "\n",
        "for i in range(1,number_of_segements):\n",
        "  start = random.randint(0, len(full_dna_sequence))\n",
        "  end = start + fragment_length\n",
        "  list_of_fragments.append(full_dna_sequence[start:end])\n",
        "  #print(\"From {} to {}\".format(start, end))\n",
        "\n",
        "#full_dna_sequence\n",
        "\n",
        "print(\"Created a list of {} subquences that are {} long.\".format(number_of_segements,fragment_length))\n"
      ]
    },
    {
      "cell_type": "markdown",
      "metadata": {
        "id": "i1xQsQoE-dTP"
      },
      "source": [
        "We make the data a litte bit nicer, than it would be in reality:\n",
        "\n",
        "First we add the first and last 200 sequences of the original sequence to the list of fragments."
      ]
    },
    {
      "cell_type": "code",
      "execution_count": 23,
      "metadata": {
        "id": "R5DYQ0Rk-L79"
      },
      "outputs": [],
      "source": [
        "list_of_fragments.append(full_dna_sequence[0:200])\n",
        "list_of_fragments.append(full_dna_sequence[-200:])"
      ]
    },
    {
      "cell_type": "markdown",
      "metadata": {
        "id": "S7nra9hJ_YPU"
      },
      "source": [
        "Next, we ensure, that all fragments have the same length."
      ]
    },
    {
      "cell_type": "code",
      "execution_count": 24,
      "metadata": {
        "id": "s_pRG92H-6a7"
      },
      "outputs": [],
      "source": [
        "for fragment in list_of_fragments:\n",
        "  if len(fragment)<fragment_length:\n",
        "    list_of_fragments.remove(fragment)"
      ]
    },
    {
      "cell_type": "markdown",
      "metadata": {
        "id": "1oOnDxSnMEIA"
      },
      "source": [
        "This results in the list of fragments (reads) we are going to work with:"
      ]
    },
    {
      "cell_type": "code",
      "execution_count": 25,
      "metadata": {
        "colab": {
          "base_uri": "https://localhost:8080/"
        },
        "id": "NTlaAU5V_VMU",
        "outputId": "0ea57f1d-c071-42c8-9f14-4b018eda82a9"
      },
      "outputs": [
        {
          "data": {
            "text/plain": [
              "['AGATAACAACCCACTTTCAAAGAAAAAGGAGAGTAAGAGACAACATGACCAAGAAGATGATCACGCAAAGAACAATAGGGAAGAAAAAACAGAGACTGAATAAGAGAGGCTATCTAATAAGAGCACTGACATTAAATACGATGACCAAAGATGCAGAGAGAGGCAAGTTAAAAAGAAGGGCTATCGCAACACCTGGGATG',\n",
              " 'GCACAAACAGACTGTGTTCTAGAGGCTATGGCTTTCCTTGAAGAATCCCATCCAGGAATATTTGAAAATTCATGCCTTGAAACAATGGAAGTTGTTCAACAAACAAGGGTAGATAAACTGACTCAAGGTCGCCAGACTTATGATTGGACATTAAACAGAAATCAACCGGCAGCAACTGCATTGGCCAACACCATAGAAGT',\n",
              " 'TCAAATAAAATGGCAAGACTAGGGAAAGGGTACATGTTCGAGAGTAAAAGAATGAAGATTCGAACACAAATACCAGCAGAAATGCTAGCAAGCATTGATCTAAAGTATTTCAATGAATCAACAAGGAAGAAAATTGAGAAGATAAGGCCTCTTTTAATGGATGGCACAGCATCACTGAGTCCTGGGATGATGATGGGCAT',\n",
              " 'TAACGAGTCAGGAAGGCTAATAGATTTCTTAAAGGATGTGATGGAATCAATGAACAAAGAGGAAATAGAGATAACAACCCACTTTCAAAGAAAAAGGAGAGTAAGAGACAACATGACCAAGAAGATGATCACGCAAAGAACAATAGGGAAGAAAAAACAGAGACTGAATAAGAGAGGCTATCTAATAAGAGCACTGACAT',\n",
              " 'CTATTCTCAACACAAGCCAAAGGGGAATTCTTGAGGATGAACAGATGTACCAGAAGTGTTGCAATTTATTCGAGAAATTTTTCCCTAGCAGTTCATATAGGAGGCCGGTTGGAATTTCTAGCATGGTGGAGGCCATGGTGTCTAGGGCCCGGATTGATGCCAGAGTCGACTTTGAGTCTGGACGGATTAAGAAAGAAGAG']"
            ]
          },
          "execution_count": 25,
          "metadata": {},
          "output_type": "execute_result"
        }
      ],
      "source": [
        "# Have a look at the first five fragments\n",
        "list_of_fragments[0:5]"
      ]
    },
    {
      "cell_type": "markdown",
      "metadata": {
        "id": "uZPP9JfxW04L"
      },
      "source": [
        "### Decision on further parameters\n",
        "\n",
        "Next, we set some further parameters, so that we all work on the same basis.\n",
        "\n",
        "Frist, we assume, that the want at least 33 nucleotides to be identical before we match the data. If this number would become to short, we would falsely connect parts of the data that do not belong together.\n",
        "\n",
        "If $n$ was 3, both\n",
        "\n",
        "```ABCDEF```\n",
        "and\n",
        "```ABCXYZ```\n",
        "\n",
        "could be following to\n",
        "\n",
        "```123ABC```\n",
        "\n",
        "resulting in \n",
        "\n",
        "```123ABCDEF``` or ```123ABCXYZ```\n",
        "\n",
        "As our simple algorithm cannot differentiate what is right. We choose a large $n$ as safeguard.\n",
        "\n",
        "We also make a copy ```list_of_fragments_to_work_with```of out original data, so we do not mess with it and choose an arbitrate sequence ```longest_fragment``` to start the synthesis. We will use ```longest_fragment```later to add the matching sequences we found."
      ]
    },
    {
      "cell_type": "code",
      "execution_count": 26,
      "metadata": {
        "colab": {
          "base_uri": "https://localhost:8080/"
        },
        "id": "1ey2TTigUk4N",
        "outputId": "2aae5052-1082-4012-dc7b-33190a656030"
      },
      "outputs": [
        {
          "name": "stdout",
          "output_type": "stream",
          "text": [
            "Selected one of the fragments as the inital segment. Now there are 457 remaining.\n"
          ]
        }
      ],
      "source": [
        "# Minimal sequence length for valid matches\n",
        "n = 33\n",
        "\n",
        "# Copy the list of fragments\n",
        "list_of_fragments_to_work_with = list_of_fragments[:]\n",
        "\n",
        "# start with a random fragment\n",
        "longest_fragment  = list_of_fragments_to_work_with[0]\n",
        "\n",
        "print(\"Selected one of the fragments as the initial segment. Now there are {} remaining.\".format(len(list_of_fragments_to_work_with)))"
      ]
    },
    {
      "cell_type": "markdown",
      "metadata": {
        "id": "7_vEOkV3lYYm"
      },
      "source": [
        "### Starting points\n",
        "\n",
        "The challenge is divided into various subproblems. Each subproblem can be solved with a function. If you implement all function, You can pass the assignment even if You would fail to complete the sequence assembly.\n",
        "\n",
        "The outline of the functions is given below. You can also find a unit test for each function below. \n",
        "\n",
        "First, implement end test the following four functions. Run the unit test below, to make sure they work. \n"
      ]
    },
    {
      "cell_type": "code",
      "execution_count": null,
      "metadata": {
        "id": "lmeHKIW6le5d"
      },
      "outputs": [],
      "source": [
        "def glue_fragments_end(existing_string, additional_string, size_of_overlap):\n",
        "  \"\"\"Returns a String that glues the last part of the additional_string to the end of the existing_string.\"\"\"\n",
        "  # ...\n",
        "  \n",
        "  return new_string\n"
      ]
    },
    {
      "cell_type": "code",
      "execution_count": null,
      "metadata": {
        "id": "dMz3onyZleyV"
      },
      "outputs": [],
      "source": [
        "def glue_fragments_beginning(existing_string, additional_string, size_of_overlap):\n",
        "  \"\"\"Returns a String that glues the first part of the additional_string to the beginning of the existing_string.\"\"\"\n",
        "  # ...\n",
        "  \n",
        "  return new_string"
      ]
    },
    {
      "cell_type": "code",
      "execution_count": 27,
      "metadata": {
        "id": "97lRZ-vTlfH-"
      },
      "outputs": [],
      "source": [
        "def compare_beginning(existing_string, additional_string, least_overlap):\n",
        "\n",
        "  \"\"\"Compares the beginning of the existing_string to see if there is a overlap to the end of the additional_string. Returns the number of nucleotides that overlap. With the least overlap parameter, You can tweak what the minimal overlap between the strings must have.\"\"\"\n",
        "  # ...\n",
        "  \n",
        "  return overlap"
      ]
    },
    {
      "cell_type": "code",
      "execution_count": 28,
      "metadata": {
        "id": "Nqgj1lRNlfAO"
      },
      "outputs": [],
      "source": [
        "def compare_end(string, substring,least_overlap):\n",
        "\n",
        "  \"\"\"Compares the end of the existing_string to see if there is a overlap to the beginning of the additional_string. Returns the number of nucleotides that overlap.\"\"\"\n",
        "  # ...\n",
        "  \n",
        "  return overlap"
      ]
    },
    {
      "cell_type": "code",
      "execution_count": 142,
      "metadata": {
        "colab": {
          "base_uri": "https://localhost:8080/"
        },
        "id": "c6I3RUc3ea62",
        "outputId": "d6d0fc3e-9dc4-4ee3-fb3f-e288a218ef38"
      },
      "outputs": [
        {
          "name": "stderr",
          "output_type": "stream",
          "text": [
            "test_compare_beginning_find (__main__.CompareBeginningsTestCase)\n",
            "Do we find an overlap that is at least 3 at the beginning of the String? ... ok\n",
            "test_compare_beginning_find_but_useless (__main__.CompareBeginningsTestCase)\n",
            "Do we find if the matching search string we find contributes no additional information? ... ok\n",
            "test_compare_beginning_no_find (__main__.CompareBeginningsTestCase)\n",
            "Do we return 0 if we do not find a match? ... ok\n",
            "test_compare_ending_find (__main__.CompareEndingsTestCase)\n",
            "Do we find an overlap that is at least 3 at the beginning of the String? ... ok\n",
            "test_compare_ending_find_but_useless (__main__.CompareEndingsTestCase)\n",
            "Do we find if the matching search string we find contributes no additional information? ... ok\n",
            "test_compare_ending_no_find (__main__.CompareEndingsTestCase)\n",
            "Do we return 0 if we do not find a match? ... ok\n",
            "test_glue_to_beginning (__main__.GlueFragmentsTestCase)\n",
            "Do we get the right new string in return? ... ok\n",
            "test_glue_to_end (__main__.GlueFragmentsTestCase)\n",
            "Do we get the right new string in return? ... ok\n",
            "test_first_last_name (__main__.NamesTestCase)\n",
            "Do names like 'Janis Joplin' work? ... ERROR\n",
            "\n",
            "======================================================================\n",
            "ERROR: test_first_last_name (__main__.NamesTestCase)\n",
            "Do names like 'Janis Joplin' work?\n",
            "----------------------------------------------------------------------\n",
            "Traceback (most recent call last):\n",
            "  File \"<ipython-input-3-2375565d150f>\", line 8, in test_first_last_name\n",
            "    formatted_name = get_formatted_name('janis', 'joplin')\n",
            "TypeError: get_formatted_name() missing 1 required positional argument: 'last'\n",
            "\n",
            "----------------------------------------------------------------------\n",
            "Ran 9 tests in 0.028s\n",
            "\n",
            "FAILED (errors=1)\n"
          ]
        },
        {
          "data": {
            "text/plain": [
              "<unittest.main.TestProgram at 0x7fa9a7cd0850>"
            ]
          },
          "execution_count": 142,
          "metadata": {},
          "output_type": "execute_result"
        }
      ],
      "source": [
        "import unittest\n",
        "\n",
        "class CompareBeginningsTestCase(unittest.TestCase):\n",
        "  \"\"\"Tests for the challenge\"\"\"\n",
        "\n",
        "  def test_compare_beginning_find(self):\n",
        "    \"\"\"Do we find an overlap that is at least 3 at the beginning of the String?\"\"\"\n",
        "    overlap = compare_beginning(\"QWERTZUIOPASDF\", \"AQWERT\",3)\n",
        "    self.assertEqual(overlap, 5)\n",
        "  \n",
        "  def test_compare_beginning_find_but_useless(self):\n",
        "    \"\"\"Do we find if the matching search string we find contributes no additional information?\"\"\"\n",
        "    overlap = compare_beginning(\"QWERTZUIOPASDF\", \"AQWERT\",5)\n",
        "    self.assertEqual(overlap, 0)\n",
        "\n",
        "  def test_compare_beginning_no_find(self):\n",
        "    \"\"\"Do we return 0 if we do not find a match?\"\"\"\n",
        "    overlap = compare_beginning(\"QWERTZUIOPASDF\", \"AAAAA\",5)\n",
        "    self.assertEqual(overlap, 0)\n",
        "\n",
        "class CompareEndingsTestCase(unittest.TestCase):\n",
        "  \"\"\"Tests for the challenge\"\"\"\n",
        "\n",
        "  def test_compare_ending_find(self):\n",
        "    \"\"\"Do we find an overlap that is at least 3 at the beginning of the String?\"\"\"\n",
        "    overlap = compare_end(\"QWERTZUIOPASDF\", \"PASDF12345\",3)\n",
        "    self.assertEqual(overlap, 5)\n",
        "  \n",
        "  def test_compare_ending_find_but_useless(self):\n",
        "    \"\"\"Do we find if the matching search string we find contributes no additional information?\"\"\"\n",
        "    overlap = compare_end(\"QWERTZUIOPASDF\", \"PASDF12345\",5)\n",
        "    self.assertEqual(overlap, 0)\n",
        "\n",
        "  def test_compare_ending_no_find(self):\n",
        "    \"\"\"Do we return 0 if we do not find a match?\"\"\"\n",
        "    overlap = compare_end(\"QWERTZUIOPASDF\", \"PASDF12345\",5)\n",
        "    self.assertEqual(overlap, 0)\n",
        "\n",
        "\n",
        "class GlueFragmentsTestCase(unittest.TestCase):\n",
        "  \"\"\"Tests for the challenge\"\"\"\n",
        "\n",
        "  def test_glue_to_beginning(self):\n",
        "    \"\"\"Do we get the right new string in return?\"\"\"\n",
        "\n",
        "    string = \"ABCDEGF\"\n",
        "    substring = \"0123ABC\"\n",
        "    size_of_overlap = 3\n",
        "\n",
        "    new_sting = glue_fragments_beginning(string, substring, size_of_overlap)\n",
        "    new_sting = self.assertEqual(new_sting, \"0123ABCDEGF\")\n",
        "\n",
        "\n",
        "  def test_glue_to_end(self):\n",
        "    \"\"\"Do we get the right new string in return?\"\"\"\n",
        "\n",
        "    string = \"QWERTZUIOPASDF\"\n",
        "    substring = \"PASDF12345678\"\n",
        "    size_of_overlap = 5\n",
        "\n",
        "    new_sting = glue_fragments_end(string, substring, size_of_overlap)\n",
        "    self.assertEqual(new_sting, \"QWERTZUIOPASDF12345678\")\n",
        "\n",
        "unittest.main(argv=[''], verbosity=2, exit=False)"
      ]
    },
    {
      "cell_type": "markdown",
      "metadata": {
        "id": "ciylK09mNFzY"
      },
      "source": [
        "### Putting it all together\n",
        "\n",
        "Write a final function that calls the former four functions.\n",
        "\n",
        "```assemble_sequence(longest_fragment, list_of_fragments_to_work_with)```\n",
        "\n",
        "This final function takes the `list_of_fragments_to_work_with` and a first `longest_fragment` as arguments and should return a final DNA sequence assembled from the list. It should also count all comparisons it makes and print the final number in the end. Also calculate the time needed for the assembly an print it out.\n",
        "\n",
        "\n",
        "```Python\n",
        "# Import a library for logging time\n",
        "import time\n",
        "\n",
        "# get the start time\n",
        "st = time.time()\n",
        "\n",
        "# Call the assemble_sequence function\n",
        "result = assemble_sequence(list_of_fragments_to_work_with[0], list_of_fragments_to_work_with[:])\n",
        "\n",
        "print(\"The final segment is {} nucleotides long.\".format(len(result)))\n",
        "\n",
        "\n",
        "# get the end time\n",
        "et = time.time()\n",
        "\n",
        "# get the execution time\n",
        "elapsed_time = et - st\n",
        "\n",
        "print('Execution time:', elapsed_time, 'seconds')\n",
        "\n",
        "```"
      ]
    },
    {
      "cell_type": "markdown",
      "metadata": {
        "id": "sVkRjZh2M73w"
      },
      "source": [
        "### Solution"
      ]
    },
    {
      "cell_type": "code",
      "execution_count": null,
      "metadata": {},
      "outputs": [],
      "source": []
    }
  ],
  "metadata": {
    "colab": {
      "collapsed_sections": [],
      "provenance": [],
      "toc_visible": true
    },
    "kernelspec": {
      "display_name": "Python 3.8.8 ('base')",
      "language": "python",
      "name": "python3"
    },
    "language_info": {
      "codemirror_mode": {
        "name": "ipython",
        "version": 3
      },
      "file_extension": ".py",
      "mimetype": "text/x-python",
      "name": "python",
      "nbconvert_exporter": "python",
      "pygments_lexer": "ipython3",
      "version": "3.8.8"
    },
    "vscode": {
      "interpreter": {
        "hash": "91b5df634ae01e052c095f84ce6ac57f1bf815a7c386b368c11e7051e1049005"
      }
    }
  },
  "nbformat": 4,
  "nbformat_minor": 0
}

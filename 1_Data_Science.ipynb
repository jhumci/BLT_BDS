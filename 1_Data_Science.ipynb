{
  "cells": [
    {
      "cell_type": "markdown",
      "metadata": {
        "id": "Otoq0rzZLWTJ"
      },
      "source": [
        "<table style=\"width: 100%\">\n",
        "    <tr style=\"background: #ffffff\">\n",
        "        <td style=\"padding-top:25px;width: 180px\"><img src=\"https://mci.edu/templates/mci/images/logo.svg\" alt=\"Logo\"></td>\n",
        "        <td style=\"width: 100%\">\n",
        "            <div style=\"text-align:right; width: 100%; text-align:right\"><font style=\"font-size:38px\"><b>Data Science</b></font></div>\n",
        "            <div style=\"padding-top:0px; width: 100%; text-align:right\"><font size=\"4\"><b>WS 2022</b></font></div>\n",
        "        </td>\n",
        "    </tr>\n",
        "</table>\n",
        "\n",
        "---\n",
        "\n",
        "# 1 Matrix Data and Numpy"
      ]
    },
    {
      "cell_type": "markdown",
      "metadata": {
        "id": "TjxxB2NiLtjw"
      },
      "source": [
        "## Importing Python Packages\n",
        "\n",
        "Python relies on a large library of packages the provide additional functionality. For instance, the ```numpy``` [package](https://numpy.org/) provides many functions for scientific compution.\n",
        "\n",
        "You can only use packages, if You import them before. In the following example, we import the package numpy and give it a shorthand ``np``. In this way, we can use all the function provided by the package.\n"
      ]
    },
    {
      "cell_type": "code",
      "execution_count": 1,
      "metadata": {
        "id": "fxX_R5plLJ4D"
      },
      "outputs": [],
      "source": [
        "import numpy as np"
      ]
    },
    {
      "cell_type": "markdown",
      "metadata": {
        "id": "lNvk_WUObvZw"
      },
      "source": [
        "After the packages has been imported sucessfully, we can use numpy to generate a random integer. (see the [documentation](https://numpy.org/doc/stable/reference/random/generated/numpy.random.randint.html) on how the function works"
      ]
    },
    {
      "cell_type": "code",
      "execution_count": 2,
      "metadata": {
        "colab": {
          "base_uri": "https://localhost:8080/"
        },
        "id": "CSEoQCo0bvAI",
        "outputId": "101034ab-2fe0-422c-f135-84affa825e58"
      },
      "outputs": [
        {
          "data": {
            "text/plain": [
              "60"
            ]
          },
          "execution_count": 2,
          "metadata": {},
          "output_type": "execute_result"
        }
      ],
      "source": [
        "np.random.randint(100)"
      ]
    },
    {
      "cell_type": "markdown",
      "metadata": {
        "id": "O0fejUglcjqJ"
      },
      "source": [
        "✍️ **Task**\n",
        "\n",
        "Create a script or function, that generates random numbers between 0 and 100 until it generates the number 42. If it generates the number 42 the function should stop the loop and return the number of tries it took to get to 42. What number of tries do you expect it to take?\n",
        "\n",
        "*Hint:* \n",
        "\n",
        "- You can use a while loop\n",
        "- before starting the loop You could define two variables:\n",
        "- `number = None` to check wether the current number is not  42:  `while number !=42: `\n",
        "- `number_of_tries = 0`  to count the number of tries"
      ]
    },
    {
      "cell_type": "code",
      "execution_count": 3,
      "metadata": {
        "colab": {
          "base_uri": "https://localhost:8080/"
        },
        "id": "-P7_AflddDcI",
        "outputId": "e786e364-81db-40be-ca9c-10f9f39b046a"
      },
      "outputs": [
        {
          "name": "stdout",
          "output_type": "stream",
          "text": [
            "It took 71 tries to reach 42!\n"
          ]
        }
      ],
      "source": [
        "def shuffle():\n",
        "  number = None\n",
        "  number_of_tries = 0\n",
        "  while number != 42:\n",
        "    number = np.random.randint(100)\n",
        "    number_of_tries = number_of_tries + 1\n",
        "  print(\"It took {} tries to reach 42!\".format(number_of_tries))\n",
        "\n",
        "shuffle() "
      ]
    },
    {
      "cell_type": "markdown",
      "metadata": {
        "id": "V7RjQanULyoH"
      },
      "source": [
        "## 1.2 Installing Python Packages\n",
        "\n",
        "You can only import packages, that are already installed in Your Python environment (that is installed on the server that runs this notebook). Phython comes with a package manager (think app store) called **PIP**. If You need to install a package, you can use ``!pip install <package_name>``. This works for the most common packages. The ```!``` brings You out of the Python coding environment into a unix shell from where the package manager is started (we will revisit the unix shell, when we talk about unix systems).\n",
        "\n",
        "✍️ **Task**\n",
        "\n",
        "Try to import the [neurokit2](https://neurokit2.readthedocs.io/en/latest/) package using `import neurokit2`. If it does not work, install it using `!pip install neurokit2` and try again.\n",
        "\n",
        "Run the function ```minimal_example_neurokit()``` to simulate ECG data, derive the heart rate and make a plot."
      ]
    },
    {
      "cell_type": "code",
      "execution_count": 4,
      "metadata": {
        "colab": {
          "base_uri": "https://localhost:8080/",
          "height": 320
        },
        "id": "-lBa9tlKLQjI",
        "outputId": "5e192b12-9ebe-4b1a-e779-acd5cabff047"
      },
      "outputs": [],
      "source": [
        "import neurokit2"
      ]
    },
    {
      "cell_type": "code",
      "execution_count": 5,
      "metadata": {
        "colab": {
          "base_uri": "https://localhost:8080/"
        },
        "id": "8NnQSQcnfOWK",
        "outputId": "bc80c269-88e2-4820-affd-4bdf7eed3bfe"
      },
      "outputs": [
        {
          "name": "stdout",
          "output_type": "stream",
          "text": [
            "Requirement already satisfied: neurokit2 in c:\\users\\jlhuber\\anaconda3\\lib\\site-packages (0.1.5)\n",
            "Requirement already satisfied: matplotlib in c:\\users\\jlhuber\\anaconda3\\lib\\site-packages (from neurokit2) (3.3.4)\n",
            "Requirement already satisfied: scikit-learn in c:\\users\\jlhuber\\anaconda3\\lib\\site-packages (from neurokit2) (0.24.1)\n",
            "Requirement already satisfied: scipy in c:\\users\\jlhuber\\anaconda3\\lib\\site-packages (from neurokit2) (1.6.2)\n",
            "Requirement already satisfied: pandas in c:\\users\\jlhuber\\anaconda3\\lib\\site-packages (from neurokit2) (1.2.4)\n",
            "Requirement already satisfied: numpy in c:\\users\\jlhuber\\anaconda3\\lib\\site-packages (from neurokit2) (1.20.1)\n",
            "Requirement already satisfied: pillow>=6.2.0 in c:\\users\\jlhuber\\anaconda3\\lib\\site-packages (from matplotlib->neurokit2) (8.2.0)\n",
            "Requirement already satisfied: python-dateutil>=2.1 in c:\\users\\jlhuber\\anaconda3\\lib\\site-packages (from matplotlib->neurokit2) (2.8.1)\n",
            "Requirement already satisfied: pyparsing!=2.0.4,!=2.1.2,!=2.1.6,>=2.0.3 in c:\\users\\jlhuber\\anaconda3\\lib\\site-packages (from matplotlib->neurokit2) (2.4.7)\n",
            "Requirement already satisfied: cycler>=0.10 in c:\\users\\jlhuber\\anaconda3\\lib\\site-packages (from matplotlib->neurokit2) (0.10.0)\n",
            "Requirement already satisfied: kiwisolver>=1.0.1 in c:\\users\\jlhuber\\anaconda3\\lib\\site-packages (from matplotlib->neurokit2) (1.3.1)\n",
            "Requirement already satisfied: six in c:\\users\\jlhuber\\anaconda3\\lib\\site-packages (from cycler>=0.10->matplotlib->neurokit2) (1.15.0)\n",
            "Requirement already satisfied: pytz>=2017.3 in c:\\users\\jlhuber\\anaconda3\\lib\\site-packages (from pandas->neurokit2) (2021.1)\n",
            "Requirement already satisfied: joblib>=0.11 in c:\\users\\jlhuber\\anaconda3\\lib\\site-packages (from scikit-learn->neurokit2) (1.0.1)\n",
            "Requirement already satisfied: threadpoolctl>=2.0.0 in c:\\users\\jlhuber\\anaconda3\\lib\\site-packages (from scikit-learn->neurokit2) (2.1.0)\n"
          ]
        }
      ],
      "source": [
        "!pip install neurokit2"
      ]
    },
    {
      "cell_type": "code",
      "execution_count": 6,
      "metadata": {
        "id": "ga3pZU3tfOFq"
      },
      "outputs": [],
      "source": [
        "import neurokit2"
      ]
    },
    {
      "cell_type": "markdown",
      "metadata": {
        "id": "QcVHUK5NkZdK"
      },
      "source": [
        "Now, You can use the package. One application of this packages is to generate heart rate data:"
      ]
    },
    {
      "cell_type": "code",
      "execution_count": 7,
      "metadata": {
        "colab": {
          "base_uri": "https://localhost:8080/",
          "height": 308
        },
        "id": "JSC_hhsHfe-k",
        "outputId": "d6357132-2fc1-4aa0-a5b6-f6b7014bf45c"
      },
      "outputs": [
        {
          "data": {
            "image/png": "[encoded data removed]",
            "text/plain": [
              "<Figure size 432x288 with 2 Axes>"
            ]
          },
          "metadata": {
            "needs_background": "light"
          },
          "output_type": "display_data"
        }
      ],
      "source": [
        "def minimal_example_neurokit():\n",
        "  # Simulate ecg signal (you can use your own one)\n",
        "  ecg = neurokit2.ecg_simulate(duration=15, sampling_rate=1000, heart_rate=80)\n",
        "\n",
        "  # Default processing pipeline\n",
        "  signals, info = neurokit2.ecg_process(ecg, sampling_rate=1000)\n",
        "\n",
        "  # Visualize\n",
        "  plot = neurokit2.ecg_plot(signals)\n",
        "\n",
        "minimal_example_neurokit()"
      ]
    },
    {
      "cell_type": "markdown",
      "metadata": {
        "id": "DxdhpyW2-jRI"
      },
      "source": [
        "# 🏁 Recap\n",
        "\n",
        "- If you have finished the tasks and have no questions, place the green card on top.\n",
        "- If you have finished the tasks but would like to discuss the solutions together again, place the yellow card on top.\n",
        "\n",
        "![](https://www.lokalinfo.ch/fileadmin/news_import/image003_03.jpg)"
      ]
    },
    {
      "cell_type": "markdown",
      "metadata": {
        "id": "npQzBdi1L_9v"
      },
      "source": [
        "## numpy\n",
        "\n",
        "is a library for the Python programming language, adding support for large, multi-dimensional arrays and matrices, along with a large collection of high-level mathematical functions to operate on these arrays.\n"
      ]
    },
    {
      "cell_type": "markdown",
      "metadata": {
        "id": "9hpFwSNXNU3B"
      },
      "source": [
        "### Differences between lists and NumPy Arrays\n",
        "\n",
        "NumPy arrays are similar to list, but have some differences:\n",
        "\n",
        "- An array's size is immutable. You cannot append, insert or remove elements like you can with a list.\n",
        "- All of an array's elements must be of the same data type.\n",
        "- A NumPy array behaves in a Pythonic fashion. You can ```len(my_array)``` just like you would assume and access a element using `my_array[<index>]`."
      ]
    },
    {
      "cell_type": "code",
      "execution_count": 8,
      "metadata": {
        "colab": {
          "base_uri": "https://localhost:8080/"
        },
        "id": "aHf3VvDAL95u",
        "outputId": "9625005d-73f2-4091-afc0-1505fe1f4cbf"
      },
      "outputs": [
        {
          "data": {
            "text/plain": [
              "[4.0, 3.286, 3.5]"
            ]
          },
          "execution_count": 8,
          "metadata": {},
          "output_type": "execute_result"
        }
      ],
      "source": [
        "import numpy as np\n",
        "final_sample_weight_as_list = [4.0, 3.286, 3.5]\n",
        "final_sample_weight_as_list"
      ]
    },
    {
      "cell_type": "code",
      "execution_count": 9,
      "metadata": {
        "colab": {
          "base_uri": "https://localhost:8080/",
          "height": 36
        },
        "id": "X3pDZu4cLZXn",
        "outputId": "787f7cd5-0d5d-4181-e78f-56d6c3f96ff4"
      },
      "outputs": [
        {
          "data": {
            "text/plain": [
              "'Whatevs'"
            ]
          },
          "execution_count": 9,
          "metadata": {},
          "output_type": "execute_result"
        }
      ],
      "source": [
        "# Can have elements appended to it\n",
        "final_sample_weight_as_list.append(4.0)\n",
        "# Can have multiple datatypes in it.\n",
        "final_sample_weight_as_list.insert(1, \"Whatevs\")\n",
        "# Can have items removed\n",
        "final_sample_weight_as_list.pop(1)"
      ]
    },
    {
      "cell_type": "markdown",
      "metadata": {
        "id": "K-O0U8mah0pp"
      },
      "source": [
        "We can take a list and transform it into an numpy array using ``np.array(<list>)`` \n",
        "\n",
        "*Hint:*\n",
        "\n",
        "- If it does not work, make sure the list only contains numbers before You convert it."
      ]
    },
    {
      "cell_type": "code",
      "execution_count": 10,
      "metadata": {
        "colab": {
          "base_uri": "https://localhost:8080/"
        },
        "id": "Wqm0fWWsNgKY",
        "outputId": "d344ed18-0cc7-4037-a262-a068f7b00147"
      },
      "outputs": [
        {
          "data": {
            "text/plain": [
              "[4.0, 3.286, 3.5, 4.0]"
            ]
          },
          "execution_count": 10,
          "metadata": {},
          "output_type": "execute_result"
        }
      ],
      "source": [
        "final_sample_weight_as_list"
      ]
    },
    {
      "cell_type": "code",
      "execution_count": 11,
      "metadata": {
        "id": "MmRlLr8fNhu4"
      },
      "outputs": [],
      "source": [
        "final_sample_weight = np.array(final_sample_weight_as_list)"
      ]
    },
    {
      "cell_type": "code",
      "execution_count": 12,
      "metadata": {
        "colab": {
          "base_uri": "https://localhost:8080/"
        },
        "id": "d_GZ2xj6NkkY",
        "outputId": "f872c9ca-d6c9-40f0-8c3e-92890cf817f9"
      },
      "outputs": [
        {
          "data": {
            "text/plain": [
              "array([4.   , 3.286, 3.5  , 4.   ])"
            ]
          },
          "execution_count": 12,
          "metadata": {},
          "output_type": "execute_result"
        }
      ],
      "source": [
        "final_sample_weight"
      ]
    },
    {
      "cell_type": "markdown",
      "metadata": {
        "id": "ooT3JjS2iBSq"
      },
      "source": [
        "We can show that the data type is valid for the whole array, and not only for the single elements (like it is in a list)."
      ]
    },
    {
      "cell_type": "code",
      "execution_count": 13,
      "metadata": {
        "colab": {
          "base_uri": "https://localhost:8080/"
        },
        "id": "KjaypLpwNlzo",
        "outputId": "41688cc5-7747-49f8-8d55-bcfa0e58d332"
      },
      "outputs": [
        {
          "data": {
            "text/plain": [
              "dtype('float64')"
            ]
          },
          "execution_count": 13,
          "metadata": {},
          "output_type": "execute_result"
        }
      ],
      "source": [
        "final_sample_weight.dtype"
      ]
    },
    {
      "cell_type": "markdown",
      "metadata": {
        "id": "_rBaf7i_jKMQ"
      },
      "source": [
        "and the size of the array"
      ]
    },
    {
      "cell_type": "code",
      "execution_count": 14,
      "metadata": {
        "colab": {
          "base_uri": "https://localhost:8080/"
        },
        "id": "ZWlszEC2No2n",
        "outputId": "49585fd8-0247-4880-b5f7-c735440077bc"
      },
      "outputs": [
        {
          "data": {
            "text/plain": [
              "4"
            ]
          },
          "execution_count": 14,
          "metadata": {},
          "output_type": "execute_result"
        }
      ],
      "source": [
        "final_sample_weight.size\n"
      ]
    },
    {
      "cell_type": "code",
      "execution_count": 15,
      "metadata": {
        "colab": {
          "base_uri": "https://localhost:8080/"
        },
        "id": "AaqYyW_jNqFI",
        "outputId": "0ce96c83-0001-4a09-dcc0-fb2651915718"
      },
      "outputs": [
        {
          "data": {
            "text/plain": [
              "4"
            ]
          },
          "execution_count": 15,
          "metadata": {},
          "output_type": "execute_result"
        }
      ],
      "source": [
        "len(final_sample_weight)\n"
      ]
    },
    {
      "cell_type": "markdown",
      "metadata": {
        "id": "2ZFzjCWFN0k4"
      },
      "source": [
        "### Multidimensional Arrays\n",
        "- The data structure is actually called ndarray, representing any **n**umber of **d**imensions\n",
        "- Arrays can have multiple dimensions, you declare them on creation\n",
        "- Dimensions help define what each element in the array represents. \n",
        "- A two dimensional array is just an array of arrays\n",
        "- *Shape* defines the length of each of the array's dimensions\n",
        "- Each dimension is also referred to as an axis, and they are zero-indexed. \n",
        "- Multiples are called axes.\n",
        "- A two dimensional (2d) array is called a matrix."
      ]
    },
    {
      "cell_type": "markdown",
      "metadata": {
        "id": "xNi9nW4zyya0"
      },
      "source": [
        "$A = \\begin{bmatrix}    65 & 154  \\\\    73 & 182 \\\\    68 & 167 \\\\   \\end{bmatrix}$\n",
        "\n",
        "$A =  (a_{i,j}) = \\begin{bmatrix}    a_{1,1} & a_{1,2}  \\\\    a_{2,1} & a_{2,2} \\\\    a_{3,1} & a_{3,2} \\\\    \\end{bmatrix}$\n"
      ]
    },
    {
      "cell_type": "markdown",
      "metadata": {
        "id": "XH5WaiuGkFt0"
      },
      "source": [
        "We can create a simple matrix passing to lists within a list:\n",
        "- The inner lists (e.g., `[65, 154]` are the rows. The rows are divided by a comma:"
      ]
    },
    {
      "cell_type": "code",
      "execution_count": 17,
      "metadata": {
        "id": "ZLN1oAhzNt13"
      },
      "outputs": [],
      "source": [
        "simple_matrix = np.array([[65, 154],\n",
        "                          [73, 182],\n",
        "                          [68, 167]])"
      ]
    },
    {
      "cell_type": "code",
      "execution_count": 18,
      "metadata": {
        "colab": {
          "base_uri": "https://localhost:8080/"
        },
        "id": "IfHxOkY_j1LU",
        "outputId": "cb9e243c-4a37-423e-e37c-d398217c7770"
      },
      "outputs": [
        {
          "data": {
            "text/plain": [
              "array([[ 65, 154],\n",
              "       [ 73, 182],\n",
              "       [ 68, 167]])"
            ]
          },
          "execution_count": 18,
          "metadata": {},
          "output_type": "execute_result"
        }
      ],
      "source": [
        "simple_matrix"
      ]
    },
    {
      "cell_type": "markdown",
      "metadata": {
        "id": "R-tbyja7kSPs"
      },
      "source": [
        "Printing the shape shows, that this a $3 \\times 2$ matrix, where the first number is the number of rows and the second number is the number of columns:"
      ]
    },
    {
      "cell_type": "code",
      "execution_count": 19,
      "metadata": {
        "colab": {
          "base_uri": "https://localhost:8080/"
        },
        "id": "rdINKQaGj2u8",
        "outputId": "77f09cac-5632-45f1-b0a8-78f5737d0737"
      },
      "outputs": [
        {
          "data": {
            "text/plain": [
              "(3, 2)"
            ]
          },
          "execution_count": 19,
          "metadata": {},
          "output_type": "execute_result"
        }
      ],
      "source": [
        "simple_matrix.shape"
      ]
    },
    {
      "cell_type": "markdown",
      "metadata": {
        "id": "BJQCASlUkf11"
      },
      "source": [
        "✍️ **Task**\n",
        "\n",
        "Put the sample data and the calculation data into two separate matrices. Take care to only put the numbers (float or int), not the units in the matrix.\n",
        "\n",
        "- `calculation_data`\n",
        "\n",
        "|  | Water | Glucose | Vitamins |\n",
        "|:---:|:---:|:---:|:---:|\n",
        "| Caloric density | 0 kcal/ g | 4kcal/ g | 0 kcal/ g |\n",
        "| Price | 0 €/ g | 0.02 €/ g | 0.10 €/ g\n",
        "\n",
        "- `sample_data`\n",
        "\n",
        "|  | Water | Glucose | Vitamins |\n",
        "|:---:|:---:|:---:|:---:|\n",
        "| Sample 1 | 100 g | 10 g | 1 g |\n",
        "| Sample 2 | 70 g | 20 g | 2 g |\n",
        "| Sample 3 | 90 g | 10 g | 1 g |\n"
      ]
    },
    {
      "cell_type": "code",
      "execution_count": null,
      "metadata": {
        "colab": {
          "base_uri": "https://localhost:8080/"
        },
        "id": "b8qkzkDtj9dT",
        "outputId": "1c2ae56c-1ed7-4071-c11f-c13b774534bd"
      },
      "outputs": [
        {
          "data": {
            "text/plain": [
              "array([[0.  , 4.  , 0.  ],\n",
              "       [0.  , 0.02, 0.1 ]])"
            ]
          },
          "execution_count": 64,
          "metadata": {},
          "output_type": "execute_result"
        }
      ],
      "source": [
        "calculation_data = np.array([[0, 4, 0],\n",
        "                          [0, 0.02, 0.1]])\n",
        "calculation_data"
      ]
    },
    {
      "cell_type": "code",
      "execution_count": null,
      "metadata": {
        "colab": {
          "base_uri": "https://localhost:8080/"
        },
        "id": "LAlFnVbVlTfe",
        "outputId": "c02ffbde-ac6c-4d33-8fd5-9b57212fcf33"
      },
      "outputs": [
        {
          "data": {
            "text/plain": [
              "array([[100,  10,   1],\n",
              "       [ 70,  20,   2],\n",
              "       [ 90,  10,   1]])"
            ]
          },
          "execution_count": 65,
          "metadata": {},
          "output_type": "execute_result"
        }
      ],
      "source": [
        "sample_data = np.array([[100, 10, 1],\n",
        "                        [70, 20, 2],\n",
        "                        [90, 10, 1]])\n",
        "sample_data"
      ]
    },
    {
      "cell_type": "code",
      "execution_count": null,
      "metadata": {
        "colab": {
          "base_uri": "https://localhost:8080/"
        },
        "id": "MyMSAPJflgPl",
        "outputId": "04074dc4-668d-476e-eb21-4421c232643b"
      },
      "outputs": [
        {
          "data": {
            "text/plain": [
              "array([70, 20,  2])"
            ]
          },
          "execution_count": 67,
          "metadata": {},
          "output_type": "execute_result"
        }
      ],
      "source": [
        "sample_data[1,:]"
      ]
    },
    {
      "cell_type": "markdown",
      "metadata": {
        "id": "4N-B8wfaluF-"
      },
      "source": [
        "### Indexing\n",
        "\n",
        "For getting information out of an array, we can use, what we learend from lists. To get to the 5 in the middle of the matrix, we can first select the second row ```matrix[1]```and then the second element ```matrix[1][1]```"
      ]
    },
    {
      "cell_type": "code",
      "execution_count": 11,
      "metadata": {
        "colab": {
          "base_uri": "https://localhost:8080/"
        },
        "id": "hHoeUyl4lznn",
        "outputId": "a80f06dc-b3fc-46f3-cd06-3cbe697e8c0c"
      },
      "outputs": [
        {
          "data": {
            "text/plain": [
              "array([70, 20,  2])"
            ]
          },
          "execution_count": 11,
          "metadata": {},
          "output_type": "execute_result"
        }
      ],
      "source": [
        "matrix = np.array([[100, 10, 1],\n",
        "                        [70, 20, 2],\n",
        "                        [90, 10, 1]])\n",
        "\n",
        "matrix[1]"
      ]
    },
    {
      "cell_type": "code",
      "execution_count": 13,
      "metadata": {
        "colab": {
          "base_uri": "https://localhost:8080/"
        },
        "id": "nQ-ybdDjmoiq",
        "outputId": "a200a511-3ace-49d5-b84e-06b617a62171"
      },
      "outputs": [
        {
          "data": {
            "text/plain": [
              "array([70, 20,  2])"
            ]
          },
          "execution_count": 13,
          "metadata": {},
          "output_type": "execute_result"
        }
      ],
      "source": [
        "second_row = matrix[1]\n",
        "second_row"
      ]
    },
    {
      "cell_type": "markdown",
      "metadata": {
        "id": "Kx3sPtrEnazS"
      },
      "source": [
        "We can find, how long the second row is."
      ]
    },
    {
      "cell_type": "code",
      "execution_count": 14,
      "metadata": {
        "colab": {
          "base_uri": "https://localhost:8080/"
        },
        "id": "zLPHhE-knWTC",
        "outputId": "cd7faa7b-9164-4f77-da52-a364b5faec20"
      },
      "outputs": [
        {
          "data": {
            "text/plain": [
              "3"
            ]
          },
          "execution_count": 14,
          "metadata": {},
          "output_type": "execute_result"
        }
      ],
      "source": [
        "second_row.size"
      ]
    },
    {
      "cell_type": "code",
      "execution_count": 15,
      "metadata": {
        "colab": {
          "base_uri": "https://localhost:8080/"
        },
        "id": "_CSIbvU6mob0",
        "outputId": "1bb88f03-3a21-4820-855f-82c3cd53d818"
      },
      "outputs": [
        {
          "data": {
            "text/plain": [
              "20"
            ]
          },
          "execution_count": 15,
          "metadata": {},
          "output_type": "execute_result"
        }
      ],
      "source": [
        "second_row[1]"
      ]
    },
    {
      "cell_type": "code",
      "execution_count": 16,
      "metadata": {},
      "outputs": [
        {
          "data": {
            "text/plain": [
              "20"
            ]
          },
          "execution_count": 16,
          "metadata": {},
          "output_type": "execute_result"
        }
      ],
      "source": [
        "matrix[1][1]"
      ]
    },
    {
      "cell_type": "markdown",
      "metadata": {
        "id": "ZZCjH_7Lm4Li"
      },
      "source": [
        "However, numpy offers a shorter way to access array information, which means the second elemement in the first dimension and the second element in the second dimension:"
      ]
    },
    {
      "cell_type": "code",
      "execution_count": 17,
      "metadata": {
        "colab": {
          "base_uri": "https://localhost:8080/"
        },
        "id": "u-zaBBQTm-yp",
        "outputId": "d2992a7a-2f41-416e-f341-95408bc0def1"
      },
      "outputs": [
        {
          "data": {
            "text/plain": [
              "20"
            ]
          },
          "execution_count": 17,
          "metadata": {},
          "output_type": "execute_result"
        }
      ],
      "source": [
        "matrix[1,1]"
      ]
    },
    {
      "cell_type": "markdown",
      "metadata": {},
      "source": [
        "✍️ **Task**\n",
        "\n",
        "Use the same notation, to get the  `90` out of the `matrix`"
      ]
    },
    {
      "cell_type": "code",
      "execution_count": 19,
      "metadata": {},
      "outputs": [
        {
          "data": {
            "text/plain": [
              "90"
            ]
          },
          "execution_count": 19,
          "metadata": {},
          "output_type": "execute_result"
        }
      ],
      "source": [
        "matrix[2][0]"
      ]
    },
    {
      "cell_type": "markdown",
      "metadata": {
        "id": "FW1UaGcgnCsJ"
      },
      "source": [
        "As with lists, we can also take subsamples using `:`"
      ]
    },
    {
      "cell_type": "code",
      "execution_count": 28,
      "metadata": {
        "colab": {
          "base_uri": "https://localhost:8080/"
        },
        "id": "krjoJf6PnLXy",
        "outputId": "db00f31a-44b0-49d8-a284-e99e5dd90c6c"
      },
      "outputs": [
        {
          "data": {
            "text/plain": [
              "array([5, 6])"
            ]
          },
          "execution_count": 28,
          "metadata": {},
          "output_type": "execute_result"
        }
      ],
      "source": [
        "matrix[1,1:3]"
      ]
    },
    {
      "cell_type": "markdown",
      "metadata": {
        "id": "R0PkEH-cnHcj"
      },
      "source": [
        "✍️ **Task**\n",
        "\n",
        "Write a function loops through a matrix and prints the position ($i,j$) and value element ($a_{i,j}$) of a matrix in multiple lines.\n",
        "\n",
        "$A =  (a_{i,j}) = \\begin{bmatrix}    a_{1,1} & a_{1,2}  \\\\    a_{2,1} & a_{2,2} \\\\    a_{3,1} & a_{3,2} \\\\    \\end{bmatrix}$"
      ]
    },
    {
      "cell_type": "markdown",
      "metadata": {},
      "source": [
        "*Hint*:\n",
        "\n",
        "-  There are different ways to to this.\n",
        "- You can geht the shape of the matrix and loop throtuh the columns and rows using an index:\n",
        "\n",
        "```\n",
        "number_of_rows = matrix.shape[0]\n",
        "number_of_columns = matrix.shape[1]\n",
        "for row_number in range(0,number_of_rows):\n",
        "  current_row = matrix[row_number]\n",
        "  <...>\n",
        "  element = matrix[row_number,column_number]\n",
        "```\n",
        "- The pythonic way by iterating directly over the matrix:\n",
        "\n",
        "```\n",
        "row_number = 1\n",
        "for row in matrix:\n",
        "  column_number = 1\n",
        "  for element in row:\n",
        "    <...>\n",
        "```"
      ]
    },
    {
      "cell_type": "code",
      "execution_count": 29,
      "metadata": {
        "id": "wNbPUo3L-9mq"
      },
      "outputs": [],
      "source": [
        "matrix = np.array([[100, 10, 1],\n",
        "                        [70, 20, 2],\n",
        "                        [90, 10, 1]])\n"
      ]
    },
    {
      "cell_type": "code",
      "execution_count": 31,
      "metadata": {},
      "outputs": [
        {
          "name": "stdout",
          "output_type": "stream",
          "text": [
            "a_0,0 = 100\n",
            "a_0,1 = 10\n",
            "a_0,2 = 1\n",
            "a_1,0 = 70\n",
            "a_1,1 = 20\n",
            "a_1,2 = 2\n",
            "a_2,0 = 90\n",
            "a_2,1 = 10\n",
            "a_2,2 = 1\n"
          ]
        }
      ],
      "source": [
        "# Get the number of columns and rows\n",
        "number_of_rows = matrix.shape[0]\n",
        "number_of_columns = matrix.shape[1]\n",
        "\n",
        "# loop over the rows\n",
        "for row_number in range(0,number_of_rows):\n",
        "  # store the current row\n",
        "  current_row = matrix[row_number]\n",
        "  # loop over the columns\n",
        "  for column_number in range(0,number_of_columns):\n",
        "    # get the element by the row and column number:\n",
        "    element = matrix[row_number,column_number]\n",
        "    print(\"a_{},{} = {}\".format(row_number,column_number,element))\n"
      ]
    },
    {
      "cell_type": "code",
      "execution_count": 32,
      "metadata": {
        "colab": {
          "base_uri": "https://localhost:8080/"
        },
        "id": "9bMG7p9ynqUq",
        "outputId": "dc3bde88-4249-4a5b-d3a3-0ac42935ac64"
      },
      "outputs": [
        {
          "name": "stdout",
          "output_type": "stream",
          "text": [
            "a_1,1 = 100\n",
            "a_1,2 = 10\n",
            "a_1,3 = 1\n",
            "a_2,1 = 70\n",
            "a_2,2 = 20\n",
            "a_2,3 = 2\n",
            "a_3,1 = 90\n",
            "a_3,2 = 10\n",
            "a_3,3 = 1\n"
          ]
        }
      ],
      "source": [
        "current_row = 1\n",
        "\n",
        "for row in matrix:\n",
        "  current_column = 1\n",
        "  for element in row:\n",
        "    print(\"a_{},{} = {}\".format(current_row, current_column, element))\n",
        "    current_column = current_column + 1\n",
        "  current_row = current_row + 1"
      ]
    },
    {
      "cell_type": "markdown",
      "metadata": {
        "id": "BrVa8OpF2Lnj"
      },
      "source": [
        "### Example Matrix Multiplication\n",
        "\n",
        "numpy offers different mathematical operations between matrices.\n",
        "\n",
        "If the matrices have the same shape, the standard mathematical operators (```+- / *```) perform an element-wise operation. \n",
        "\n",
        "\n",
        "\n"
      ]
    },
    {
      "cell_type": "code",
      "execution_count": 34,
      "metadata": {
        "colab": {
          "base_uri": "https://localhost:8080/"
        },
        "id": "3W5YHnRun4QS",
        "outputId": "e9e6514c-fb0d-43d4-d1fb-e124ed680d18"
      },
      "outputs": [
        {
          "name": "stdout",
          "output_type": "stream",
          "text": [
            "(2,)\n",
            "(2,)\n"
          ]
        }
      ],
      "source": [
        "a_2 = np.array([1, 2])\n",
        "b_2 = np.array([2, 3])\n",
        "\n",
        "print(a_2.shape)\n",
        "print(b_2.shape)"
      ]
    },
    {
      "cell_type": "code",
      "execution_count": 36,
      "metadata": {},
      "outputs": [
        {
          "data": {
            "text/plain": [
              "array([1, 2])"
            ]
          },
          "execution_count": 36,
          "metadata": {},
          "output_type": "execute_result"
        }
      ],
      "source": [
        "a_2"
      ]
    },
    {
      "cell_type": "code",
      "execution_count": 37,
      "metadata": {},
      "outputs": [
        {
          "data": {
            "text/plain": [
              "array([2, 3])"
            ]
          },
          "execution_count": 37,
          "metadata": {},
          "output_type": "execute_result"
        }
      ],
      "source": [
        "b_2"
      ]
    },
    {
      "cell_type": "code",
      "execution_count": 38,
      "metadata": {
        "colab": {
          "base_uri": "https://localhost:8080/"
        },
        "id": "0bE-PiYH2sPz",
        "outputId": "33e91b29-009d-4221-cdfe-c975c327608e"
      },
      "outputs": [
        {
          "data": {
            "text/plain": [
              "array([3, 5])"
            ]
          },
          "execution_count": 38,
          "metadata": {},
          "output_type": "execute_result"
        }
      ],
      "source": [
        "a_2 + b_2"
      ]
    },
    {
      "cell_type": "markdown",
      "metadata": {
        "id": "acU9jCit4G4M"
      },
      "source": [
        "Matrix multiplication can be performed using the ```matmul()``` (or just ```@```) or ```dot()``` [function](https://numpy.org/doc/stable/reference/generated/numpy.dot.html):"
      ]
    },
    {
      "cell_type": "code",
      "execution_count": 39,
      "metadata": {
        "colab": {
          "base_uri": "https://localhost:8080/"
        },
        "id": "vxcEQu4g2bev",
        "outputId": "85995b3e-d739-4990-d61e-3d63d155c436"
      },
      "outputs": [
        {
          "data": {
            "text/plain": [
              "8"
            ]
          },
          "execution_count": 39,
          "metadata": {},
          "output_type": "execute_result"
        }
      ],
      "source": [
        "np.matmul(a_2, b_2)"
      ]
    },
    {
      "cell_type": "code",
      "execution_count": 40,
      "metadata": {
        "colab": {
          "base_uri": "https://localhost:8080/"
        },
        "id": "ICnLmi_f2vv6",
        "outputId": "fc4a14cb-8c7e-4761-f008-d5e75afc4b58"
      },
      "outputs": [
        {
          "data": {
            "text/plain": [
              "8"
            ]
          },
          "execution_count": 40,
          "metadata": {},
          "output_type": "execute_result"
        }
      ],
      "source": [
        "np.dot(a_2, b_2)"
      ]
    },
    {
      "cell_type": "code",
      "execution_count": 41,
      "metadata": {},
      "outputs": [
        {
          "data": {
            "text/plain": [
              "8"
            ]
          },
          "execution_count": 41,
          "metadata": {},
          "output_type": "execute_result"
        }
      ],
      "source": [
        "a_2 @ b_2"
      ]
    },
    {
      "cell_type": "markdown",
      "metadata": {
        "id": "DD68zNXN3juF"
      },
      "source": [
        "✍️ **Task** \n",
        "\n",
        "Use matrix multiplication to calculate the price of the following growth media:\n",
        "\n",
        "*Hint*:\n",
        "\n",
        "- Remember that You already defined the matrices in a prior task\n",
        "\n",
        "$\\begin{bmatrix}\n",
        "  100 g & 10 g& 1g \\\\\n",
        "  70 g & 20 g& 2g \\\\\n",
        "  90 g & 10 g& 1g \\\\\n",
        "  \\end{bmatrix}\n",
        "  \\times\n",
        "  \\begin{bmatrix}\n",
        "  0.00 €/ g \\\\\n",
        "  0.02 €/ g \\\\\n",
        "  0.10 €/ g \\\\\n",
        "  \\end{bmatrix}=\n",
        "  \\begin{bmatrix}\n",
        "  ? \\\\\n",
        "  ? \\\\\n",
        "  ? \\\\\n",
        "  \\end{bmatrix}$"
      ]
    },
    {
      "cell_type": "code",
      "execution_count": null,
      "metadata": {
        "colab": {
          "base_uri": "https://localhost:8080/"
        },
        "id": "SgcjIk7Y3i2S",
        "outputId": "b0e2e8aa-fb6f-4953-f5d6-504f827da32a"
      },
      "outputs": [
        {
          "data": {
            "text/plain": [
              "array([0.3, 0.6, 0.3])"
            ]
          },
          "execution_count": 19,
          "metadata": {},
          "output_type": "execute_result"
        }
      ],
      "source": [
        "sample_data = np.array([[100, 10, 1],\n",
        "                        [70, 20, 2],\n",
        "                        [90, 10, 1]])\n",
        "\n",
        "calculation_data = np.array([0, 0.02, 0.1])\n",
        "np.matmul(sample_data, calculation_data)"
      ]
    },
    {
      "cell_type": "markdown",
      "metadata": {
        "id": "HIYw1IoC-7G3"
      },
      "source": [
        "# 🏁 Recap\n",
        "\n",
        "- If you have finished the tasks and have no questions, place the green card on top.\n",
        "- If you have finished the tasks but would like to discuss the solutions together again, place the yellow card on top.\n",
        "\n",
        "![](https://www.lokalinfo.ch/fileadmin/news_import/image003_03.jpg)"
      ]
    },
    {
      "cell_type": "markdown",
      "metadata": {
        "id": "vg4kNNOEVXoZ"
      },
      "source": [
        "## Systems of Linear Equations\n",
        "\n",
        "In mathematics, a system of linear equations (or linear system) is a collection of one or more linear equations involving the same variables.\n",
        "\n",
        "They have many practical application (e.g., creating mixtures) and are a good startign point to data sciences, as most modern methods like artifical neuronal networks are footed on linear algebra.\n",
        "\n",
        "A general system of m linear equations with n unknowns and coefficients ($x$) can be written as\n",
        "\n",
        "$a_{11}x_{1}+a_{12}x_{2}+\\dots +a_{1n}x_{n}+b_{1}=0\\\\a_{21}x_{1}+a_{22}x_{2}+\\dots +a_{2n}x_{n}+b_{2}=0\\\\\\vdots \\\\a_{m1}x_{1}+a_{m2}x_{2}+\\dots +a_{mn}x_{n}+b_{m}=0$\n",
        "\n",
        "\n",
        "The vector equation is equivalent to a matrix equation of the form\n",
        "\n",
        "$A \\times x = b$\n",
        "\n",
        "where A is an m×n matrix, x is a column vector with n entries, and b is a column vector with m entries.\n",
        "\n",
        "$A={\\begin{bmatrix}a_{11}&a_{12}&\\cdots &a_{1n}\\\\a_{21}&a_{22}&\\cdots &a_{2n}\\\\\\vdots &\\vdots &\\ddots &\\vdots \\\\a_{m1}&a_{m2}&\\cdots &a_{mn}\\end{bmatrix}},\\quad \\mathbf {x} ={\\begin{bmatrix}x_{1}\\\\x_{2}\\\\\\vdots \\\\x_{n}\\end{bmatrix}},\\quad \\mathbf {b} ={\\begin{bmatrix}b_{1}\\\\b_{2}\\\\\\vdots \\\\b_{m}\\end{bmatrix}}$"
      ]
    },
    {
      "cell_type": "markdown",
      "metadata": {
        "id": "VI2HntMuB_a7"
      },
      "source": [
        "### Example\n",
        "\n",
        "Imagine having two functions $y$ and $y_1$, based on a additional coefficient $x$. To find the intersecation, You have different possibilities:\n",
        "\n",
        "First, You can plot them ot find the intersections:\n"
      ]
    },
    {
      "cell_type": "code",
      "execution_count": null,
      "metadata": {
        "colab": {
          "base_uri": "https://localhost:8080/",
          "height": 283
        },
        "id": "hSX2kyzdVeea",
        "outputId": "e2a16816-fbb4-4755-c3b7-e9c5c560f0dc"
      },
      "outputs": [
        {
          "data": {
            "text/plain": [
              "[<matplotlib.lines.Line2D at 0x7fd2b0e40310>]"
            ]
          },
          "execution_count": 40,
          "metadata": {},
          "output_type": "execute_result"
        },
        {
          "data": {
            "image/png": "[encoded data removed]",
            "text/plain": [
              "<Figure size 432x288 with 1 Axes>"
            ]
          },
          "metadata": {
            "needs_background": "light"
          },
          "output_type": "display_data"
        }
      ],
      "source": [
        "import matplotlib.pyplot as plt\n",
        "import numpy as np\n",
        "# create x and y vectors\n",
        "x = np.linspace(-2, 2, 100)\n",
        "y1 = 2 * x + 1\n",
        "y2 = -0.5 * x + 3\n",
        "plt.plot(x, y1)\n",
        "plt.plot(x, y2)\n",
        "# [...]"
      ]
    },
    {
      "cell_type": "markdown",
      "metadata": {
        "id": "N5-ojDxi9dls"
      },
      "source": [
        "Second, in a mathematical formulation You want to solve:\n",
        "\n",
        "$y_1 = y$, where\n",
        "\n",
        "$y = 2 x + 1$\n",
        "\n",
        "$y_1 = -0.5  x + 3$\n",
        "\n",
        "This would result in:\n",
        "\n",
        "$ -0.5  x + 3 = 2 x + 1$\n",
        "\n",
        "and\n",
        "\n",
        "$2 = 2.5 x$\n",
        "\n",
        "$x = 0.8$\n",
        "\n",
        "Last, You can reformulate both formulas of the problem as a joint matrix multiplication:\n",
        "\n",
        "\n"
      ]
    },
    {
      "cell_type": "markdown",
      "metadata": {},
      "source": [
        "$\\begin{bmatrix}-2 & 1\\\\+ 0.5 & 1  \\\\\\end{bmatrix}\\times\\begin{bmatrix}x \\\\y \\\\\\end{bmatrix}=\\begin{bmatrix}1 \\\\3 \\\\\\end{bmatrix}$"
      ]
    },
    {
      "cell_type": "markdown",
      "metadata": {},
      "source": [
        "\n",
        "Numpy provides a function so solve such problems:\n",
        "\n",
        "$\\text{left} \\times  \\text{coefficients} = \\text{right}$:\n",
        "\n",
        "  ```np.linalg.solve(left, right)```\n",
        "\n",
        "Compared, to the other aproaches, this provides a very conveniat way to formulate and solve larger problems:"
      ]
    },
    {
      "cell_type": "code",
      "execution_count": null,
      "metadata": {
        "colab": {
          "base_uri": "https://localhost:8080/"
        },
        "id": "NC2nrN689dxX",
        "outputId": "4084b3e0-6d5e-40f4-967d-5d0cb7df02ef"
      },
      "outputs": [
        {
          "name": "stdout",
          "output_type": "stream",
          "text": [
            "[0.8 2.6]\n"
          ]
        }
      ],
      "source": [
        "import numpy as np\n",
        " \n",
        "A = np.array([[-2, 1], [0.5, 1]])\n",
        "b = np.array([1,3])\n",
        "x = np.linalg.solve(A, b)\n",
        "print(x)"
      ]
    },
    {
      "cell_type": "markdown",
      "metadata": {
        "id": "BUfg7y605gUo"
      },
      "source": [
        "🏆 **Task**\n",
        "\n",
        "You want to create a new growth medium on industrial scale. You base the the new medium on two existing products (A and B). \n",
        "You want to create 400 kg of the new mixture. Component A costs 18 €. Component B costs  22 €. How much (kg) of A and B do You need, if the new mixture should cost 19,50 €?\n",
        "\n",
        "First, create two formulas of the equation system by what You know. Then reformulate them as a matrix multiplication and solve them using numpy."
      ]
    },
    {
      "cell_type": "markdown",
      "metadata": {},
      "source": [
        "* Variables:\n",
        "    * $a$ ... weight of Component A\n",
        "    * $b$ ... weight of Component B\n",
        "\n",
        "* Formula for the weight:\n",
        "    * $1 \\cdot a + 1 \\cdot b = 400 kg$\n",
        "* Formula for thr cost:\n",
        "    * $18 €/kg \\cdot a + 22 €/kg \\cdot b = 19.5 €/kg \\cdot 400 kg$"
      ]
    },
    {
      "cell_type": "markdown",
      "metadata": {},
      "source": [
        "$\\begin{bmatrix}18 & 22\\\\ 1 & 1  \\\\\\end{bmatrix}\\times\\begin{bmatrix}a \\\\ b \\\\\\end{bmatrix}=\\begin{bmatrix} 19.5 \\cdot 400 \\\\ 400 \\\\\\end{bmatrix}$"
      ]
    },
    {
      "cell_type": "code",
      "execution_count": 54,
      "metadata": {
        "id": "E5F7WyRu5f45"
      },
      "outputs": [],
      "source": [
        "left = np.array([[18, 22],\n",
        "                        [1, 1]])\n",
        "\n",
        "right = np.array([19.5 * 400, 400])"
      ]
    },
    {
      "cell_type": "code",
      "execution_count": 55,
      "metadata": {
        "colab": {
          "base_uri": "https://localhost:8080/"
        },
        "id": "R3EAg6hCVeza",
        "outputId": "f87247c2-d8e1-453e-d9b1-ea0cf5f9b40b"
      },
      "outputs": [
        {
          "data": {
            "text/plain": [
              "array([250., 150.])"
            ]
          },
          "execution_count": 55,
          "metadata": {},
          "output_type": "execute_result"
        }
      ],
      "source": [
        "np.linalg.solve(left, right)"
      ]
    },
    {
      "cell_type": "markdown",
      "metadata": {
        "id": "ftA0QQEvY00G"
      },
      "source": [
        "🏆 **Task**\n",
        "\n",
        "Sit down an estimate your femur length and enter the data [here](https://docs.google.com/spreadsheets/d/1NxCE0eVnNgMUUlpoq_5ZP8kTufB2s2njrbm3ti-SqGo/edit?usp=sharing). We measure from knee cap to the end of Your Gluteus maximus. In this way, we overestimate the femur lenth, but this is not problem, as  we all do the same mistake (create the same bias in the data).\n",
        "\n"
      ]
    },
    {
      "cell_type": "markdown",
      "metadata": {
        "id": "GVbkXmGu_O4p"
      },
      "source": [
        "# 🏁 Recap\n",
        "\n",
        "- If you have finished the tasks and have no questions, place the green card on top.\n",
        "- If you have finished the tasks but would like to discuss the solutions together again, place the yellow card on top.\n",
        "\n",
        "![](https://www.lokalinfo.ch/fileadmin/news_import/image003_03.jpg)"
      ]
    },
    {
      "cell_type": "code",
      "execution_count": null,
      "metadata": {
        "id": "T1zAfQi5Z-k_"
      },
      "outputs": [],
      "source": []
    }
  ],
  "metadata": {
    "colab": {
      "collapsed_sections": [],
      "provenance": [],
      "toc_visible": true
    },
    "kernelspec": {
      "display_name": "Python 3.8.8 ('base')",
      "language": "python",
      "name": "python3"
    },
    "language_info": {
      "codemirror_mode": {
        "name": "ipython",
        "version": 3
      },
      "file_extension": ".py",
      "mimetype": "text/x-python",
      "name": "python",
      "nbconvert_exporter": "python",
      "pygments_lexer": "ipython3",
      "version": "3.8.8"
    },
    "vscode": {
      "interpreter": {
        "hash": "91b5df634ae01e052c095f84ce6ac57f1bf815a7c386b368c11e7051e1049005"
      }
    }
  },
  "nbformat": 4,
  "nbformat_minor": 0
}

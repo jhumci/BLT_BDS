{
  "nbformat": 4,
  "nbformat_minor": 0,
  "metadata": {
    "colab": {
      "provenance": [],
      "toc_visible": true,
      "collapsed_sections": []
    },
    "kernelspec": {
      "name": "python3",
      "display_name": "Python 3"
    },
    "language_info": {
      "name": "python"
    }
  },
  "cells": [
    {
      "cell_type": "markdown",
      "source": [
        "<table style=\"width: 100%\">\n",
        "    <tr style=\"background: #ffffff\">\n",
        "        <td style=\"padding-top:25px;width: 180px\"><img src=\"https://mci.edu/templates/mci/images/logo.svg\" alt=\"Logo\"></td>\n",
        "        <td style=\"width: 100%\">\n",
        "            <div style=\"text-align:right; width: 100%; text-align:right\"><font style=\"font-size:38px\"><b>Data Science</b></font></div>\n",
        "            <div style=\"padding-top:0px; width: 100%; text-align:right\"><font size=\"4\"><b>WS 2022</b></font></div>\n",
        "        </td>\n",
        "    </tr>\n",
        "</table>\n",
        "\n",
        "---\n",
        "\n",
        "# 1 Matrix Data and Numpy"
      ],
      "metadata": {
        "id": "Otoq0rzZLWTJ"
      }
    },
    {
      "cell_type": "markdown",
      "source": [
        "## Importing Python Packages\n",
        "\n",
        "Python relies on a large library of packages the provide additional functionality. For instance, the ```numpy``` [package](https://numpy.org/) provides many functions for scientific compution.\n",
        "\n",
        "You can only use packages, if You import them before. In the following example, we import the package numpy and give it a shorthand ``np``. In this way, we can use all the function provided by the package.\n"
      ],
      "metadata": {
        "id": "TjxxB2NiLtjw"
      }
    },
    {
      "cell_type": "code",
      "execution_count": 2,
      "metadata": {
        "id": "fxX_R5plLJ4D"
      },
      "outputs": [],
      "source": [
        "import numpy as np"
      ]
    },
    {
      "cell_type": "markdown",
      "source": [
        "After the packages has been imported sucessfully, we can use numpy to generate a random integer. (see the [documentation](https://numpy.org/doc/stable/reference/random/generated/numpy.random.randint.html) on how the function works"
      ],
      "metadata": {
        "id": "lNvk_WUObvZw"
      }
    },
    {
      "cell_type": "code",
      "source": [
        "np.random.randint(100)"
      ],
      "metadata": {
        "colab": {
          "base_uri": "https://localhost:8080/"
        },
        "id": "CSEoQCo0bvAI",
        "outputId": "101034ab-2fe0-422c-f135-84affa825e58"
      },
      "execution_count": null,
      "outputs": [
        {
          "output_type": "execute_result",
          "data": {
            "text/plain": [
              "18"
            ]
          },
          "metadata": {},
          "execution_count": 17
        }
      ]
    },
    {
      "cell_type": "markdown",
      "source": [
        "✍️ **Task**\n",
        "\n",
        "Create a function, that generates random numbers between 0 and 100 until it generates the number 42. If it generates the number 42 the function should stop the for loop (`break`) and return the number of tries it took to get to 42. What number of tries do you expect it to take?"
      ],
      "metadata": {
        "id": "O0fejUglcjqJ"
      }
    },
    {
      "cell_type": "code",
      "source": [
        "def shuffle():\n",
        "  number = None\n",
        "  number_of_tries = 0\n",
        "  while number != 42:\n",
        "    number = np.random.randint(100)\n",
        "    number_of_tries = number_of_tries + 1\n",
        "  print(\"It took {} tries to reach 42!\".format(number_of_tries))\n",
        "\n",
        "shuffle() "
      ],
      "metadata": {
        "colab": {
          "base_uri": "https://localhost:8080/"
        },
        "id": "-P7_AflddDcI",
        "outputId": "e786e364-81db-40be-ca9c-10f9f39b046a"
      },
      "execution_count": 3,
      "outputs": [
        {
          "output_type": "stream",
          "name": "stdout",
          "text": [
            "It took 136 tries to reach 42!\n"
          ]
        }
      ]
    },
    {
      "cell_type": "markdown",
      "source": [
        "## Installing Python Packages\n",
        "\n",
        "You can only import packages, that are already installed in Your Python environment. Phython comes with a package manager (think app store) called PIP. If You need to install a package, you can use ``!pip install <package_name>``. This works for the most common packages. The ```!``` brings You out of the Python environment into a unix shell from where the package manager is started.\n",
        "\n",
        "✍️ **Task**\n",
        "\n",
        "Try to import the [neurokit2](https://neurokit2.readthedocs.io/en/latest/) package using `import neurokit2`. If it does not work, install it using `!pip install neurokit2` and try again.\n",
        "\n",
        "Run the function ```minimal_example_neurokit()``` to simulate ECG data, derive the heart rate and make a plot."
      ],
      "metadata": {
        "id": "V7RjQanULyoH"
      }
    },
    {
      "cell_type": "code",
      "source": [
        "import neurokit2"
      ],
      "metadata": {
        "id": "-lBa9tlKLQjI",
        "colab": {
          "base_uri": "https://localhost:8080/",
          "height": 320
        },
        "outputId": "5e192b12-9ebe-4b1a-e779-acd5cabff047"
      },
      "execution_count": 4,
      "outputs": [
        {
          "output_type": "error",
          "ename": "ModuleNotFoundError",
          "evalue": "ignored",
          "traceback": [
            "\u001b[0;31m---------------------------------------------------------------------------\u001b[0m",
            "\u001b[0;31mModuleNotFoundError\u001b[0m                       Traceback (most recent call last)",
            "\u001b[0;32m<ipython-input-4-39c4eeb4bcdd>\u001b[0m in \u001b[0;36m<module>\u001b[0;34m\u001b[0m\n\u001b[0;32m----> 1\u001b[0;31m \u001b[0;32mimport\u001b[0m \u001b[0mneurokit2\u001b[0m\u001b[0;34m\u001b[0m\u001b[0;34m\u001b[0m\u001b[0m\n\u001b[0m",
            "\u001b[0;31mModuleNotFoundError\u001b[0m: No module named 'neurokit2'",
            "",
            "\u001b[0;31m---------------------------------------------------------------------------\u001b[0;32m\nNOTE: If your import is failing due to a missing package, you can\nmanually install dependencies using either !pip or !apt.\n\nTo view examples of installing some common dependencies, click the\n\"Open Examples\" button below.\n\u001b[0;31m---------------------------------------------------------------------------\u001b[0m\n"
          ],
          "errorDetails": {
            "actions": [
              {
                "action": "open_url",
                "actionText": "Open Examples",
                "url": "/notebooks/snippets/importing_libraries.ipynb"
              }
            ]
          }
        }
      ]
    },
    {
      "cell_type": "code",
      "source": [
        "!pip install neurokit2"
      ],
      "metadata": {
        "colab": {
          "base_uri": "https://localhost:8080/"
        },
        "id": "8NnQSQcnfOWK",
        "outputId": "bc80c269-88e2-4820-affd-4bdf7eed3bfe"
      },
      "execution_count": 5,
      "outputs": [
        {
          "output_type": "stream",
          "name": "stdout",
          "text": [
            "Looking in indexes: https://pypi.org/simple, https://us-python.pkg.dev/colab-wheels/public/simple/\n",
            "Collecting neurokit2\n",
            "  Downloading neurokit2-0.2.1-py2.py3-none-any.whl (1.2 MB)\n",
            "\u001b[K     |████████████████████████████████| 1.2 MB 15.3 MB/s \n",
            "\u001b[?25hRequirement already satisfied: matplotlib in /usr/local/lib/python3.7/dist-packages (from neurokit2) (3.2.2)\n",
            "Requirement already satisfied: scipy in /usr/local/lib/python3.7/dist-packages (from neurokit2) (1.7.3)\n",
            "Requirement already satisfied: scikit-learn>=1.0.0 in /usr/local/lib/python3.7/dist-packages (from neurokit2) (1.0.2)\n",
            "Requirement already satisfied: numpy in /usr/local/lib/python3.7/dist-packages (from neurokit2) (1.21.6)\n",
            "Requirement already satisfied: pandas in /usr/local/lib/python3.7/dist-packages (from neurokit2) (1.3.5)\n",
            "Requirement already satisfied: threadpoolctl>=2.0.0 in /usr/local/lib/python3.7/dist-packages (from scikit-learn>=1.0.0->neurokit2) (3.1.0)\n",
            "Requirement already satisfied: joblib>=0.11 in /usr/local/lib/python3.7/dist-packages (from scikit-learn>=1.0.0->neurokit2) (1.1.0)\n",
            "Requirement already satisfied: pyparsing!=2.0.4,!=2.1.2,!=2.1.6,>=2.0.1 in /usr/local/lib/python3.7/dist-packages (from matplotlib->neurokit2) (3.0.9)\n",
            "Requirement already satisfied: python-dateutil>=2.1 in /usr/local/lib/python3.7/dist-packages (from matplotlib->neurokit2) (2.8.2)\n",
            "Requirement already satisfied: cycler>=0.10 in /usr/local/lib/python3.7/dist-packages (from matplotlib->neurokit2) (0.11.0)\n",
            "Requirement already satisfied: kiwisolver>=1.0.1 in /usr/local/lib/python3.7/dist-packages (from matplotlib->neurokit2) (1.4.4)\n",
            "Requirement already satisfied: typing-extensions in /usr/local/lib/python3.7/dist-packages (from kiwisolver>=1.0.1->matplotlib->neurokit2) (4.1.1)\n",
            "Requirement already satisfied: six>=1.5 in /usr/local/lib/python3.7/dist-packages (from python-dateutil>=2.1->matplotlib->neurokit2) (1.15.0)\n",
            "Requirement already satisfied: pytz>=2017.3 in /usr/local/lib/python3.7/dist-packages (from pandas->neurokit2) (2022.2.1)\n",
            "Installing collected packages: neurokit2\n",
            "Successfully installed neurokit2-0.2.1\n"
          ]
        }
      ]
    },
    {
      "cell_type": "code",
      "source": [
        "import neurokit2"
      ],
      "metadata": {
        "id": "ga3pZU3tfOFq"
      },
      "execution_count": 6,
      "outputs": []
    },
    {
      "cell_type": "markdown",
      "source": [
        "Now, You can use the package. One application of this packages is to generate heart rate data:"
      ],
      "metadata": {
        "id": "QcVHUK5NkZdK"
      }
    },
    {
      "cell_type": "code",
      "source": [
        "def minimal_example_neurokit():\n",
        "  # Simulate ecg signal (you can use your own one)\n",
        "  ecg = neurokit2.ecg_simulate(duration=15, sampling_rate=1000, heart_rate=80)\n",
        "\n",
        "  # Default processing pipeline\n",
        "  signals, info = neurokit2.ecg_process(ecg, sampling_rate=1000)\n",
        "\n",
        "  # Visualize\n",
        "  plot = neurokit2.ecg_plot(signals)\n",
        "\n",
        "minimal_example_neurokit()"
      ],
      "metadata": {
        "colab": {
          "base_uri": "https://localhost:8080/",
          "height": 308
        },
        "id": "JSC_hhsHfe-k",
        "outputId": "d6357132-2fc1-4aa0-a5b6-f6b7014bf45c"
      },
      "execution_count": 7,
      "outputs": [
        {
          "output_type": "display_data",
          "data": {
            "text/plain": [
              "<Figure size 432x288 with 2 Axes>"
            ],
            "image/png": "[encoded data removed]"
          },
          "metadata": {
            "needs_background": "light"
          }
        }
      ]
    },
    {
      "cell_type": "markdown",
      "source": [
        "# 🏁 Recap\n",
        "\n",
        "- If you have finished the tasks and have no questions, place the green card on top.\n",
        "- If you have finished the tasks but would like to discuss the solutions together again, place the yellow card on top.\n",
        "\n",
        "![](https://www.lokalinfo.ch/fileadmin/news_import/image003_03.jpg)"
      ],
      "metadata": {
        "id": "DxdhpyW2-jRI"
      }
    },
    {
      "cell_type": "markdown",
      "source": [
        "## numpy\n",
        "\n",
        "is a library for the Python programming language, adding support for large, multi-dimensional arrays and matrices, along with a large collection of high-level mathematical functions to operate on these arrays.\n"
      ],
      "metadata": {
        "id": "npQzBdi1L_9v"
      }
    },
    {
      "cell_type": "markdown",
      "source": [
        "### Differences between lists and NumPy Arrays\n",
        "- An array's size is immutable. You cannot append, insert or remove elements like you can with a list.\n",
        "- All of an array's elements must be of the same data type.\n",
        "- A NumPy array behaves in a Pythonic fashion. You can ```len(my_array)``` just like you would assume."
      ],
      "metadata": {
        "id": "9hpFwSNXNU3B"
      }
    },
    {
      "cell_type": "code",
      "source": [
        "import numpy as np\n",
        "final_sample_weight_as_list = [4.0, 3.286, 3.5]\n",
        "final_sample_weight_as_list"
      ],
      "metadata": {
        "id": "aHf3VvDAL95u",
        "colab": {
          "base_uri": "https://localhost:8080/"
        },
        "outputId": "9625005d-73f2-4091-afc0-1505fe1f4cbf"
      },
      "execution_count": 8,
      "outputs": [
        {
          "output_type": "execute_result",
          "data": {
            "text/plain": [
              "[4.0, 3.286, 3.5]"
            ]
          },
          "metadata": {},
          "execution_count": 8
        }
      ]
    },
    {
      "cell_type": "code",
      "source": [
        "# Can have elements appended to it\n",
        "final_sample_weight_as_list.append(4.0)\n",
        "# Can have multiple datatypes in it.\n",
        "final_sample_weight_as_list.insert(1, \"Whatevs\")\n",
        "# Can have items removed\n",
        "final_sample_weight_as_list.pop(1)"
      ],
      "metadata": {
        "colab": {
          "base_uri": "https://localhost:8080/",
          "height": 36
        },
        "id": "X3pDZu4cLZXn",
        "outputId": "787f7cd5-0d5d-4181-e78f-56d6c3f96ff4"
      },
      "execution_count": 9,
      "outputs": [
        {
          "output_type": "execute_result",
          "data": {
            "text/plain": [
              "'Whatevs'"
            ],
            "application/vnd.google.colaboratory.intrinsic+json": {
              "type": "string"
            }
          },
          "metadata": {},
          "execution_count": 9
        }
      ]
    },
    {
      "cell_type": "markdown",
      "source": [
        "We can take a list and transform it into an numpy array using ``np.array(<list>)`` "
      ],
      "metadata": {
        "id": "K-O0U8mah0pp"
      }
    },
    {
      "cell_type": "code",
      "source": [
        "final_sample_weight_as_list"
      ],
      "metadata": {
        "colab": {
          "base_uri": "https://localhost:8080/"
        },
        "id": "Wqm0fWWsNgKY",
        "outputId": "d344ed18-0cc7-4037-a262-a068f7b00147"
      },
      "execution_count": 10,
      "outputs": [
        {
          "output_type": "execute_result",
          "data": {
            "text/plain": [
              "[4.0, 3.286, 3.5, 4.0]"
            ]
          },
          "metadata": {},
          "execution_count": 10
        }
      ]
    },
    {
      "cell_type": "code",
      "source": [
        "final_sample_weight = np.array(final_sample_weight_as_list)"
      ],
      "metadata": {
        "id": "MmRlLr8fNhu4"
      },
      "execution_count": 11,
      "outputs": []
    },
    {
      "cell_type": "code",
      "source": [
        "final_sample_weight"
      ],
      "metadata": {
        "colab": {
          "base_uri": "https://localhost:8080/"
        },
        "id": "d_GZ2xj6NkkY",
        "outputId": "f872c9ca-d6c9-40f0-8c3e-92890cf817f9"
      },
      "execution_count": 12,
      "outputs": [
        {
          "output_type": "execute_result",
          "data": {
            "text/plain": [
              "array([4.   , 3.286, 3.5  , 4.   ])"
            ]
          },
          "metadata": {},
          "execution_count": 12
        }
      ]
    },
    {
      "cell_type": "markdown",
      "source": [
        "We can show that the data type is valid for the whole array, and not only for the single elements (like it is in a list)."
      ],
      "metadata": {
        "id": "ooT3JjS2iBSq"
      }
    },
    {
      "cell_type": "code",
      "source": [
        "final_sample_weight.dtype"
      ],
      "metadata": {
        "colab": {
          "base_uri": "https://localhost:8080/"
        },
        "id": "KjaypLpwNlzo",
        "outputId": "41688cc5-7747-49f8-8d55-bcfa0e58d332"
      },
      "execution_count": 13,
      "outputs": [
        {
          "output_type": "execute_result",
          "data": {
            "text/plain": [
              "dtype('float64')"
            ]
          },
          "metadata": {},
          "execution_count": 13
        }
      ]
    },
    {
      "cell_type": "markdown",
      "source": [
        "and the size of the array"
      ],
      "metadata": {
        "id": "_rBaf7i_jKMQ"
      }
    },
    {
      "cell_type": "code",
      "source": [
        "final_sample_weight.size\n"
      ],
      "metadata": {
        "colab": {
          "base_uri": "https://localhost:8080/"
        },
        "id": "ZWlszEC2No2n",
        "outputId": "49585fd8-0247-4880-b5f7-c735440077bc"
      },
      "execution_count": 14,
      "outputs": [
        {
          "output_type": "execute_result",
          "data": {
            "text/plain": [
              "4"
            ]
          },
          "metadata": {},
          "execution_count": 14
        }
      ]
    },
    {
      "cell_type": "code",
      "source": [
        "len(final_sample_weight)\n"
      ],
      "metadata": {
        "colab": {
          "base_uri": "https://localhost:8080/"
        },
        "id": "AaqYyW_jNqFI",
        "outputId": "0ce96c83-0001-4a09-dcc0-fb2651915718"
      },
      "execution_count": 15,
      "outputs": [
        {
          "output_type": "execute_result",
          "data": {
            "text/plain": [
              "4"
            ]
          },
          "metadata": {},
          "execution_count": 15
        }
      ]
    },
    {
      "cell_type": "markdown",
      "source": [
        "### Multidimensional Arrays\n",
        "- The data structure is actually called ndarray, representing any **n**umber of dimensions\n",
        "- Arrays can have multiple dimensions, you declare them on creation\n",
        "- Dimensions help define what each element in the array represents. \n",
        "- A two dimensional array is just an array of arrays\n",
        "- *Shape* defines the length of each of the array's dimensions\n",
        "- Each dimension is also referred to as an axis, and they are zero-indexed. \n",
        "- Multiples are called axes.\n",
        "- A 2d array is called a matrix."
      ],
      "metadata": {
        "id": "2ZFzjCWFN0k4"
      }
    },
    {
      "cell_type": "markdown",
      "source": [
        "$A = \\begin{bmatrix}    65 & 154  \\\\    73 & 182 \\\\    68 & 167 \\\\   \\end{bmatrix}$\n",
        "\n",
        "$A =  (a_{i,j}) = \\begin{bmatrix}    a_{1,1} & a_{1,2}  \\\\    a_{2,1} & a_{2,2} \\\\    a_{3,1} & a_{3,2} \\\\    \\end{bmatrix}$\n"
      ],
      "metadata": {
        "id": "xNi9nW4zyya0"
      }
    },
    {
      "cell_type": "markdown",
      "source": [
        "We can create a simple matrix passing to lists within a list:"
      ],
      "metadata": {
        "id": "XH5WaiuGkFt0"
      }
    },
    {
      "cell_type": "code",
      "source": [
        "simple_matrix = np.array([[65, 154],\n",
        "                          [73, 182],\n",
        "                          [68, 167]])"
      ],
      "metadata": {
        "id": "ZLN1oAhzNt13"
      },
      "execution_count": 17,
      "outputs": []
    },
    {
      "cell_type": "code",
      "source": [
        "simple_matrix"
      ],
      "metadata": {
        "colab": {
          "base_uri": "https://localhost:8080/"
        },
        "id": "IfHxOkY_j1LU",
        "outputId": "cb9e243c-4a37-423e-e37c-d398217c7770"
      },
      "execution_count": 18,
      "outputs": [
        {
          "output_type": "execute_result",
          "data": {
            "text/plain": [
              "array([[ 65, 154],\n",
              "       [ 73, 182],\n",
              "       [ 68, 167]])"
            ]
          },
          "metadata": {},
          "execution_count": 18
        }
      ]
    },
    {
      "cell_type": "markdown",
      "source": [
        "Printing the shape shows, that this a $3 \\times 2$ matrix"
      ],
      "metadata": {
        "id": "R-tbyja7kSPs"
      }
    },
    {
      "cell_type": "code",
      "source": [
        "simple_matrix.shape"
      ],
      "metadata": {
        "colab": {
          "base_uri": "https://localhost:8080/"
        },
        "id": "rdINKQaGj2u8",
        "outputId": "77f09cac-5632-45f1-b0a8-78f5737d0737"
      },
      "execution_count": 19,
      "outputs": [
        {
          "output_type": "execute_result",
          "data": {
            "text/plain": [
              "(3, 2)"
            ]
          },
          "metadata": {},
          "execution_count": 19
        }
      ]
    },
    {
      "cell_type": "markdown",
      "source": [
        "✍️ **Task**\n",
        "\n",
        "Put the sample data and the calculation data into two separate matrices:\n",
        "\n",
        "- `calculation_data`\n",
        "\n",
        "|  | Water | Glucose | Vitamins |\n",
        "|:---:|:---:|:---:|:---:|\n",
        "| Caloric density | 0 kcal/ g | 4kcal/ g | 0 kcal/ g |\n",
        "| Price | 0 €/ g | 0.02 €/ g | 0.10 €/ g\n",
        "\n",
        "- `sample_data`\n",
        "\n",
        "|  | Water | Glucose | Vitamins |\n",
        "|:---:|:---:|:---:|:---:|\n",
        "| Sample 1 | 100 g | 10 g | 1 g |\n",
        "| Sample 2 | 70 g | 20 g | 2 g |\n",
        "| Sample 3 | 90 g | 10 g | 1 g |\n"
      ],
      "metadata": {
        "id": "BJQCASlUkf11"
      }
    },
    {
      "cell_type": "code",
      "source": [
        "calculation_data = np.array([[0, 4, 0],\n",
        "                          [0, 0.02, 0.1]])\n",
        "calculation_data"
      ],
      "metadata": {
        "colab": {
          "base_uri": "https://localhost:8080/"
        },
        "id": "b8qkzkDtj9dT",
        "outputId": "1c2ae56c-1ed7-4071-c11f-c13b774534bd"
      },
      "execution_count": null,
      "outputs": [
        {
          "output_type": "execute_result",
          "data": {
            "text/plain": [
              "array([[0.  , 4.  , 0.  ],\n",
              "       [0.  , 0.02, 0.1 ]])"
            ]
          },
          "metadata": {},
          "execution_count": 64
        }
      ]
    },
    {
      "cell_type": "code",
      "source": [
        "sample_data = np.array([[100, 10, 1],\n",
        "                        [70, 20, 2],\n",
        "                        [90, 10, 1]])\n",
        "sample_data"
      ],
      "metadata": {
        "colab": {
          "base_uri": "https://localhost:8080/"
        },
        "id": "LAlFnVbVlTfe",
        "outputId": "c02ffbde-ac6c-4d33-8fd5-9b57212fcf33"
      },
      "execution_count": null,
      "outputs": [
        {
          "output_type": "execute_result",
          "data": {
            "text/plain": [
              "array([[100,  10,   1],\n",
              "       [ 70,  20,   2],\n",
              "       [ 90,  10,   1]])"
            ]
          },
          "metadata": {},
          "execution_count": 65
        }
      ]
    },
    {
      "cell_type": "code",
      "source": [
        "sample_data[1,:]"
      ],
      "metadata": {
        "colab": {
          "base_uri": "https://localhost:8080/"
        },
        "id": "MyMSAPJflgPl",
        "outputId": "04074dc4-668d-476e-eb21-4421c232643b"
      },
      "execution_count": null,
      "outputs": [
        {
          "output_type": "execute_result",
          "data": {
            "text/plain": [
              "array([70, 20,  2])"
            ]
          },
          "metadata": {},
          "execution_count": 67
        }
      ]
    },
    {
      "cell_type": "markdown",
      "source": [
        "### Indexing\n",
        "\n",
        "For getting information out of an array, we can use, what we learend from lists. To get to the 5 in the middle of the matrix, we can first select the second row ```matrix[1]```and then the second element ```matrix[1][1]```"
      ],
      "metadata": {
        "id": "4N-B8wfaluF-"
      }
    },
    {
      "cell_type": "code",
      "source": [
        "matrix = np.array([[1, 2, 3],\n",
        "                        [4, 5, 6],\n",
        "                        [7, 8, 9]])\n",
        "\n",
        "matrix[1]"
      ],
      "metadata": {
        "colab": {
          "base_uri": "https://localhost:8080/"
        },
        "id": "hHoeUyl4lznn",
        "outputId": "a80f06dc-b3fc-46f3-cd06-3cbe697e8c0c"
      },
      "execution_count": 20,
      "outputs": [
        {
          "output_type": "execute_result",
          "data": {
            "text/plain": [
              "array([4, 5, 6])"
            ]
          },
          "metadata": {},
          "execution_count": 20
        }
      ]
    },
    {
      "cell_type": "code",
      "source": [
        "second_row = matrix[1]\n",
        "second_row"
      ],
      "metadata": {
        "colab": {
          "base_uri": "https://localhost:8080/"
        },
        "id": "nQ-ybdDjmoiq",
        "outputId": "a200a511-3ace-49d5-b84e-06b617a62171"
      },
      "execution_count": 21,
      "outputs": [
        {
          "output_type": "execute_result",
          "data": {
            "text/plain": [
              "array([4, 5, 6])"
            ]
          },
          "metadata": {},
          "execution_count": 21
        }
      ]
    },
    {
      "cell_type": "markdown",
      "source": [
        "We can find, how long the second row is."
      ],
      "metadata": {
        "id": "Kx3sPtrEnazS"
      }
    },
    {
      "cell_type": "code",
      "source": [
        "second_row.size"
      ],
      "metadata": {
        "colab": {
          "base_uri": "https://localhost:8080/"
        },
        "id": "zLPHhE-knWTC",
        "outputId": "cd7faa7b-9164-4f77-da52-a364b5faec20"
      },
      "execution_count": 22,
      "outputs": [
        {
          "output_type": "execute_result",
          "data": {
            "text/plain": [
              "3"
            ]
          },
          "metadata": {},
          "execution_count": 22
        }
      ]
    },
    {
      "cell_type": "code",
      "source": [
        "second_row[1]"
      ],
      "metadata": {
        "colab": {
          "base_uri": "https://localhost:8080/"
        },
        "id": "_CSIbvU6mob0",
        "outputId": "1bb88f03-3a21-4820-855f-82c3cd53d818"
      },
      "execution_count": 23,
      "outputs": [
        {
          "output_type": "execute_result",
          "data": {
            "text/plain": [
              "5"
            ]
          },
          "metadata": {},
          "execution_count": 23
        }
      ]
    },
    {
      "cell_type": "markdown",
      "source": [
        "However, numpy offers a shorter way to access arra information:"
      ],
      "metadata": {
        "id": "ZZCjH_7Lm4Li"
      }
    },
    {
      "cell_type": "code",
      "source": [
        "matrix[1,1]"
      ],
      "metadata": {
        "colab": {
          "base_uri": "https://localhost:8080/"
        },
        "id": "u-zaBBQTm-yp",
        "outputId": "d2992a7a-2f41-416e-f341-95408bc0def1"
      },
      "execution_count": 24,
      "outputs": [
        {
          "output_type": "execute_result",
          "data": {
            "text/plain": [
              "5"
            ]
          },
          "metadata": {},
          "execution_count": 24
        }
      ]
    },
    {
      "cell_type": "markdown",
      "source": [
        "As with lists, we can also take subsamples using `:`"
      ],
      "metadata": {
        "id": "FW1UaGcgnCsJ"
      }
    },
    {
      "cell_type": "code",
      "source": [
        "matrix[1,1:3]"
      ],
      "metadata": {
        "colab": {
          "base_uri": "https://localhost:8080/"
        },
        "id": "krjoJf6PnLXy",
        "outputId": "db00f31a-44b0-49d8-a284-e99e5dd90c6c"
      },
      "execution_count": 28,
      "outputs": [
        {
          "output_type": "execute_result",
          "data": {
            "text/plain": [
              "array([5, 6])"
            ]
          },
          "metadata": {},
          "execution_count": 28
        }
      ]
    },
    {
      "cell_type": "markdown",
      "source": [
        "✍️ **Task**\n",
        "\n",
        "Write a function loops through a matrix and prints the position ($i,j$) and value element ($a_{i,j}$) of a matrix in multiple lines.\n",
        "\n",
        "$A =  (a_{i,j}) = \\begin{bmatrix}    a_{1,1} & a_{1,2}  \\\\    a_{2,1} & a_{2,2} \\\\    a_{3,1} & a_{3,2} \\\\    \\end{bmatrix}$"
      ],
      "metadata": {
        "id": "R0PkEH-cnHcj"
      }
    },
    {
      "cell_type": "code",
      "source": [
        "matrix = np.array([[1, 2, 3],\n",
        "                        [4, 5, 6],\n",
        "                        [7, 8, 9]])\n"
      ],
      "metadata": {
        "id": "wNbPUo3L-9mq"
      },
      "execution_count": null,
      "outputs": []
    },
    {
      "cell_type": "code",
      "source": [
        "i = 1\n",
        "\n",
        "\n",
        "for row in matrix:\n",
        "  j = 1\n",
        "  for element in row:\n",
        "    print(\"a_{},{} = {}\".format(i,j,element))\n",
        "    j = j + 1\n",
        "  i = i + 1"
      ],
      "metadata": {
        "colab": {
          "base_uri": "https://localhost:8080/"
        },
        "id": "9bMG7p9ynqUq",
        "outputId": "dc3bde88-4249-4a5b-d3a3-0ac42935ac64"
      },
      "execution_count": null,
      "outputs": [
        {
          "output_type": "stream",
          "name": "stdout",
          "text": [
            "a_1,1 = 1\n",
            "a_1,2 = 2\n",
            "a_1,3 = 3\n",
            "a_2,1 = 4\n",
            "a_2,2 = 5\n",
            "a_2,3 = 6\n",
            "a_3,1 = 7\n",
            "a_3,2 = 8\n",
            "a_3,3 = 9\n"
          ]
        }
      ]
    },
    {
      "cell_type": "markdown",
      "source": [
        "### Example Matrix Multiplication\n",
        "\n",
        "numpy offers different mathematical operations between matrices.\n",
        "\n",
        "If the matrices have the same shape, the standard mathematical operators (```+- / *```) perform an element-wise operation. \n",
        "\n",
        "\n",
        "\n"
      ],
      "metadata": {
        "id": "BrVa8OpF2Lnj"
      }
    },
    {
      "cell_type": "code",
      "source": [
        "a_2 = np.array([1, 2])\n",
        "b_2 = np.array([2, 3])\n",
        "\n",
        "print(a_2.shape)\n",
        "print(b_2.shape)"
      ],
      "metadata": {
        "colab": {
          "base_uri": "https://localhost:8080/"
        },
        "id": "3W5YHnRun4QS",
        "outputId": "e9e6514c-fb0d-43d4-d1fb-e124ed680d18"
      },
      "execution_count": 29,
      "outputs": [
        {
          "output_type": "stream",
          "name": "stdout",
          "text": [
            "(2,)\n",
            "(2,)\n"
          ]
        }
      ]
    },
    {
      "cell_type": "code",
      "source": [
        "a_2 + b_2"
      ],
      "metadata": {
        "colab": {
          "base_uri": "https://localhost:8080/"
        },
        "id": "0bE-PiYH2sPz",
        "outputId": "33e91b29-009d-4221-cdfe-c975c327608e"
      },
      "execution_count": 30,
      "outputs": [
        {
          "output_type": "execute_result",
          "data": {
            "text/plain": [
              "array([3, 5])"
            ]
          },
          "metadata": {},
          "execution_count": 30
        }
      ]
    },
    {
      "cell_type": "markdown",
      "source": [
        "Matrix multiplication can be performed using the ```matmul()``` or ```dot()``` [function](https://numpy.org/doc/stable/reference/generated/numpy.dot.html):"
      ],
      "metadata": {
        "id": "acU9jCit4G4M"
      }
    },
    {
      "cell_type": "code",
      "source": [
        "np.matmul(a_2, b_2)"
      ],
      "metadata": {
        "colab": {
          "base_uri": "https://localhost:8080/"
        },
        "id": "vxcEQu4g2bev",
        "outputId": "85995b3e-d739-4990-d61e-3d63d155c436"
      },
      "execution_count": null,
      "outputs": [
        {
          "output_type": "execute_result",
          "data": {
            "text/plain": [
              "8"
            ]
          },
          "metadata": {},
          "execution_count": 13
        }
      ]
    },
    {
      "cell_type": "code",
      "source": [
        "np.dot(a_2, b_2)"
      ],
      "metadata": {
        "colab": {
          "base_uri": "https://localhost:8080/"
        },
        "id": "ICnLmi_f2vv6",
        "outputId": "fc4a14cb-8c7e-4761-f008-d5e75afc4b58"
      },
      "execution_count": null,
      "outputs": [
        {
          "output_type": "execute_result",
          "data": {
            "text/plain": [
              "8"
            ]
          },
          "metadata": {},
          "execution_count": 14
        }
      ]
    },
    {
      "cell_type": "markdown",
      "source": [
        "✍️ **Task** \n",
        "\n",
        "Use matrix multiplication to calculate the price of the following growth media:\n",
        "\n",
        "$\\begin{bmatrix}\n",
        "  100 g & 10 g& 1g \\\\\n",
        "  70 g & 20 g& 2g \\\\\n",
        "  90 g & 10 g& 1g \\\\\n",
        "  \\end{bmatrix}\n",
        "  \\times\n",
        "  \\begin{bmatrix}\n",
        "  0.00 €/ g \\\\\n",
        "  0.02 €/ g \\\\\n",
        "  0.10 €/ g \\\\\n",
        "  \\end{bmatrix}=\n",
        "  \\begin{bmatrix}\n",
        "  ? \\\\\n",
        "  ? \\\\\n",
        "  ? \\\\\n",
        "  \\end{bmatrix}$"
      ],
      "metadata": {
        "id": "DD68zNXN3juF"
      }
    },
    {
      "cell_type": "code",
      "source": [
        "sample_data = np.array([[100, 10, 1],\n",
        "                        [70, 20, 2],\n",
        "                        [90, 10, 1]])\n",
        "\n",
        "calculation_data = np.array([0, 0.02, 0.1])\n",
        "np.matmul(sample_data, calculation_data)"
      ],
      "metadata": {
        "colab": {
          "base_uri": "https://localhost:8080/"
        },
        "id": "SgcjIk7Y3i2S",
        "outputId": "b0e2e8aa-fb6f-4953-f5d6-504f827da32a"
      },
      "execution_count": null,
      "outputs": [
        {
          "output_type": "execute_result",
          "data": {
            "text/plain": [
              "array([0.3, 0.6, 0.3])"
            ]
          },
          "metadata": {},
          "execution_count": 19
        }
      ]
    },
    {
      "cell_type": "markdown",
      "source": [
        "# 🏁 Recap\n",
        "\n",
        "- If you have finished the tasks and have no questions, place the green card on top.\n",
        "- If you have finished the tasks but would like to discuss the solutions together again, place the yellow card on top.\n",
        "\n",
        "![](https://www.lokalinfo.ch/fileadmin/news_import/image003_03.jpg)"
      ],
      "metadata": {
        "id": "HIYw1IoC-7G3"
      }
    },
    {
      "cell_type": "markdown",
      "source": [
        "## Systems of Linear Equations\n",
        "\n",
        "In mathematics, a system of linear equations (or linear system) is a collection of one or more linear equations involving the same variables.\n",
        "\n",
        "They have many practical application (e.g., creating mixtures) and are a good startign point to data sciences, as most modern methods like artifical neuronal networks are footed on linear algebra.\n",
        "\n",
        "A general system of m linear equations with n unknowns and coefficients ($x$) can be written as\n",
        "\n",
        "$a_{11}x_{1}+a_{12}x_{2}+\\dots +a_{1n}x_{n}+b_{1}=0\\\\a_{21}x_{1}+a_{22}x_{2}+\\dots +a_{2n}x_{n}+b_{2}=0\\\\\\vdots \\\\a_{m1}x_{1}+a_{m2}x_{2}+\\dots +a_{mn}x_{n}+b_{m}=0$\n",
        "\n",
        "\n",
        "The vector equation is equivalent to a matrix equation of the form\n",
        "\n",
        "$A \\times x = b$\n",
        "\n",
        "where A is an m×n matrix, x is a column vector with n entries, and b is a column vector with m entries.\n",
        "\n",
        "$A={\\begin{bmatrix}a_{11}&a_{12}&\\cdots &a_{1n}\\\\a_{21}&a_{22}&\\cdots &a_{2n}\\\\\\vdots &\\vdots &\\ddots &\\vdots \\\\a_{m1}&a_{m2}&\\cdots &a_{mn}\\end{bmatrix}},\\quad \\mathbf {x} ={\\begin{bmatrix}x_{1}\\\\x_{2}\\\\\\vdots \\\\x_{n}\\end{bmatrix}},\\quad \\mathbf {b} ={\\begin{bmatrix}b_{1}\\\\b_{2}\\\\\\vdots \\\\b_{m}\\end{bmatrix}}$"
      ],
      "metadata": {
        "id": "vg4kNNOEVXoZ"
      }
    },
    {
      "cell_type": "markdown",
      "source": [
        "### Example\n",
        "\n",
        "Imagine having two functions $y$ and $y_1$, based on a additional coefficient $x$. To find the intersecation, You have different possibilities:\n",
        "\n",
        "First, You can plot them ot find the intersections:\n"
      ],
      "metadata": {
        "id": "VI2HntMuB_a7"
      }
    },
    {
      "cell_type": "code",
      "source": [
        "import matplotlib.pyplot as plt\n",
        "import numpy as np\n",
        "# create x and y vectors\n",
        "x = np.linspace(-2, 2, 100)\n",
        "y1 = 2 * x + 1\n",
        "y2 = -0.5 * x + 3\n",
        "plt.plot(x, y1)\n",
        "plt.plot(x, y2)\n",
        "# [...]"
      ],
      "metadata": {
        "colab": {
          "base_uri": "https://localhost:8080/",
          "height": 283
        },
        "id": "hSX2kyzdVeea",
        "outputId": "e2a16816-fbb4-4755-c3b7-e9c5c560f0dc"
      },
      "execution_count": null,
      "outputs": [
        {
          "output_type": "execute_result",
          "data": {
            "text/plain": [
              "[<matplotlib.lines.Line2D at 0x7fd2b0e40310>]"
            ]
          },
          "metadata": {},
          "execution_count": 40
        },
        {
          "output_type": "display_data",
          "data": {
            "text/plain": [
              "<Figure size 432x288 with 1 Axes>"
            ],
            "image/png": "[encoded data removed]"
          },
          "metadata": {
            "needs_background": "light"
          }
        }
      ]
    },
    {
      "cell_type": "markdown",
      "source": [
        "Second, in a mathematical fomulation You want to solve:\n",
        "\n",
        "$y_1 = y$, where\n",
        "\n",
        "$y = 2 x + 1$\n",
        "\n",
        "$y_1 = -0.5  x + 3$\n",
        "\n",
        "This would result in:\n",
        "\n",
        "$ -0.5  x + 3 = 2 x + 1$\n",
        "\n",
        "and\n",
        "\n",
        "$2 = 2.5 x$\n",
        "\n",
        "$x = 0.8$\n",
        "\n",
        "Last, You can reformulate both formulas of the problem as a joint matrix multiplication:\n",
        "\n",
        "$\\begin{bmatrix}\n",
        "  -2 & 1\\\\\n",
        "  + 0.5 & 1  \\\\\n",
        "  \\end{bmatrix}\n",
        "  \\times\n",
        "  \\begin{bmatrix}\n",
        "  x \\\\\n",
        "  y \\\\\n",
        "  \\end{bmatrix}=\n",
        "  \\begin{bmatrix}\n",
        "  1 \\\\\n",
        "  3 \\\\\n",
        "  \\end{bmatrix}$\n",
        "\n",
        "Numpy provides a function so solve such problems:\n",
        "\n",
        "$\\text{left} \\times  \\text{coefficients} = \\text{right}$:\n",
        "\n",
        "  ```np.linalg.solve(left, right)```\n",
        "\n",
        "Compared, to the other aproaches, this provides a very conveniat way to formulate and solve larger problems:\n"
      ],
      "metadata": {
        "id": "N5-ojDxi9dls"
      }
    },
    {
      "cell_type": "code",
      "source": [
        "import numpy as np\n",
        " \n",
        "A = np.array([[-2, 1], [0.5, 1]])\n",
        "b = np.array([1,3])\n",
        "x = np.linalg.solve(A, b)\n",
        "print(x)"
      ],
      "metadata": {
        "colab": {
          "base_uri": "https://localhost:8080/"
        },
        "id": "NC2nrN689dxX",
        "outputId": "4084b3e0-6d5e-40f4-967d-5d0cb7df02ef"
      },
      "execution_count": null,
      "outputs": [
        {
          "output_type": "stream",
          "name": "stdout",
          "text": [
            "[0.8 2.6]\n"
          ]
        }
      ]
    },
    {
      "cell_type": "markdown",
      "source": [
        "🏆 **Task**\n",
        "\n",
        "You want to create a new growth medium on industrial scale. You base the the new medium on two existing products (A and B). \n",
        "You want to create 400 kg of the new mixture. Component A costs 18 €. Component B costs  22 €. How much (kg) of A and B do You need, if the new mixture should cost 19,50 €?\n",
        "\n",
        "First, create two formulas of the equation system by what You know. Then reformulate them as a matrix multiplication and solve them using numpy."
      ],
      "metadata": {
        "id": "BUfg7y605gUo"
      }
    },
    {
      "cell_type": "code",
      "source": [
        "left = np.array([[18, 22],\n",
        "                        [1, 1]])\n",
        "\n",
        "right = np.array([19.5*400, 400])"
      ],
      "metadata": {
        "id": "E5F7WyRu5f45"
      },
      "execution_count": null,
      "outputs": []
    },
    {
      "cell_type": "code",
      "source": [
        "np.linalg.solve(left, right)"
      ],
      "metadata": {
        "colab": {
          "base_uri": "https://localhost:8080/"
        },
        "id": "R3EAg6hCVeza",
        "outputId": "f87247c2-d8e1-453e-d9b1-ea0cf5f9b40b"
      },
      "execution_count": null,
      "outputs": [
        {
          "output_type": "execute_result",
          "data": {
            "text/plain": [
              "array([250., 150.])"
            ]
          },
          "metadata": {},
          "execution_count": 4
        }
      ]
    },
    {
      "cell_type": "markdown",
      "source": [
        "🏆 **Task**\n",
        "\n",
        "Sit down an estimate your femur length and enter the data [here](https://docs.google.com/spreadsheets/d/1NxCE0eVnNgMUUlpoq_5ZP8kTufB2s2njrbm3ti-SqGo/edit?usp=sharing). We measure from knee cap to the end of Your Gluteus maximus. In this way, we overestimate the femur lenth, but this is not problem, as  we all do the same mistake (create the same bias in the data).\n",
        "\n"
      ],
      "metadata": {
        "id": "ftA0QQEvY00G"
      }
    },
    {
      "cell_type": "markdown",
      "source": [
        "# 🏁 Recap\n",
        "\n",
        "- If you have finished the tasks and have no questions, place the green card on top.\n",
        "- If you have finished the tasks but would like to discuss the solutions together again, place the yellow card on top.\n",
        "\n",
        "![](https://www.lokalinfo.ch/fileadmin/news_import/image003_03.jpg)"
      ],
      "metadata": {
        "id": "GVbkXmGu_O4p"
      }
    },
    {
      "cell_type": "code",
      "source": [],
      "metadata": {
        "id": "T1zAfQi5Z-k_"
      },
      "execution_count": null,
      "outputs": []
    }
  ]
}
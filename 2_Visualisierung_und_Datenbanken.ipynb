{
  "cells": [
    {
      "cell_type": "markdown",
      "metadata": {
        "id": "vB74bNlEAElm"
      },
      "source": [
        "<table style=\"width: 100%\">\n",
        "    <tr style=\"background: #ffffff\">\n",
        "        <td style=\"padding-top:25px;width: 180px\"><img src=\"https://mci.edu/templates/mci/images/logo.svg\" alt=\"Logo\"></td>\n",
        "        <td style=\"width: 100%\">\n",
        "            <div style=\"text-align:right; width: 100%; text-align:right\"><font style=\"font-size:38px\"><b>Visualisierung und Datenbanken</b></font></div>\n",
        "            <div style=\"padding-top:0px; width: 100%; text-align:right\"><font size=\"4\"><b>WS 2022</b></font></div>\n",
        "        </td>\n",
        "    </tr>\n",
        "</table>\n",
        "\n",
        "---\n",
        "\n",
        "# 2 Data Cleansing\n",
        "\n",
        "Most data You'll come by will be messy in all kind of ways. There are missing observations which can be coded in different ways (cells beeing empty or containing an `None` value) or even observations, that are obviously wrong (age of 200 in the following example): \n",
        "\n"
      ]
    },
    {
      "cell_type": "markdown",
      "metadata": {},
      "source": [
        "<table style=\"width: 100%\">\n",
        "    <tr style=\"background: #ffffff\">\n",
        "        <td style=\"padding-top:25px;width: 180px\"><img src=\"https://mci.edu/templates/mci/images/logo.svg\" alt=\"Logo\"></td>\n",
        "        <td style=\"width: 100%\">\n",
        "            <div style=\"text-align:right; width: 100%; text-align:right\"><font style=\"font-size:38px\"><b>Visualisierung und Datenbanken</b></font></div>\n",
        "            <div style=\"padding-top:0px; width: 100%; text-align:right\"><font size=\"4\"><b>WS 2022</b></font></div>\n",
        "        </td>\n",
        "    </tr>\n",
        "</table>\n",
        "\n",
        "---\n",
        "\n",
        "# 2 Data Cleansing\n",
        "\n",
        "Most data You'll come by will be messy in all kind of ways. There are missing observations which can be coded in different ways (cells beeing empty or containing an `None` value) or even observations, that are obviously wrong (age of 200 in the following example): \n",
        "\n"
      ]
    },
    {
      "cell_type": "code",
      "execution_count": 96,
      "metadata": {
        "colab": {
          "base_uri": "https://localhost:8080/",
          "height": 206
        },
        "id": "2uM9Hpo8AHiu",
        "outputId": "6af50e0a-74f4-4f42-ed33-8baf0637b5c0"
      },
      "outputs": [
        {
          "data": {
            "text/html": [
              "<div>\n",
              "<style scoped>\n",
              "    .dataframe tbody tr th:only-of-type {\n",
              "        vertical-align: middle;\n",
              "    }\n",
              "\n",
              "    .dataframe tbody tr th {\n",
              "        vertical-align: top;\n",
              "    }\n",
              "\n",
              "    .dataframe thead th {\n",
              "        text-align: right;\n",
              "    }\n",
              "</style>\n",
              "<table border=\"1\" class=\"dataframe\">\n",
              "  <thead>\n",
              "    <tr style=\"text-align: right;\">\n",
              "      <th></th>\n",
              "      <th>Patient Id</th>\n",
              "      <th>Patient Age</th>\n",
              "      <th>Year of Diagnosis</th>\n",
              "      <th>Blood cell count (mcL)</th>\n",
              "      <th>Patient First Name</th>\n",
              "      <th>Family Name</th>\n",
              "      <th>Disorder Subclass</th>\n",
              "    </tr>\n",
              "  </thead>\n",
              "  <tbody>\n",
              "    <tr>\n",
              "      <th>0</th>\n",
              "      <td>PID0x6418</td>\n",
              "      <td>10</td>\n",
              "      <td>2022</td>\n",
              "      <td>4.760603</td>\n",
              "      <td>Richard</td>\n",
              "      <td></td>\n",
              "      <td>None</td>\n",
              "    </tr>\n",
              "    <tr>\n",
              "      <th>1</th>\n",
              "      <td>PID0x6418</td>\n",
              "      <td>10</td>\n",
              "      <td>2023</td>\n",
              "      <td>4.760603</td>\n",
              "      <td>Richard</td>\n",
              "      <td></td>\n",
              "      <td>None</td>\n",
              "    </tr>\n",
              "    <tr>\n",
              "      <th>2</th>\n",
              "      <td>PID0x25d5</td>\n",
              "      <td>200</td>\n",
              "      <td>NaN</td>\n",
              "      <td>4.910669</td>\n",
              "      <td>Mike</td>\n",
              "      <td></td>\n",
              "      <td>Cystic fibrosis</td>\n",
              "    </tr>\n",
              "    <tr>\n",
              "      <th>3</th>\n",
              "      <td>PID0x4a82</td>\n",
              "      <td>5</td>\n",
              "      <td>NaN</td>\n",
              "      <td>4.893297</td>\n",
              "      <td>Kimberly</td>\n",
              "      <td></td>\n",
              "      <td>Diabetes</td>\n",
              "    </tr>\n",
              "    <tr>\n",
              "      <th>4</th>\n",
              "      <td>PID0x4ac8</td>\n",
              "      <td>5</td>\n",
              "      <td>2010</td>\n",
              "      <td>4.893297</td>\n",
              "      <td>Jeffery</td>\n",
              "      <td>Hoelscher</td>\n",
              "      <td>diabetes</td>\n",
              "    </tr>\n",
              "  </tbody>\n",
              "</table>\n",
              "</div>"
            ],
            "text/plain": [
              "  Patient Id  Patient Age Year of Diagnosis Blood cell count (mcL)  \\\n",
              "0  PID0x6418           10              2022               4.760603   \n",
              "1  PID0x6418           10              2023               4.760603   \n",
              "2  PID0x25d5          200               NaN               4.910669   \n",
              "3  PID0x4a82            5               NaN               4.893297   \n",
              "4  PID0x4ac8            5              2010               4.893297   \n",
              "\n",
              "  Patient First Name Family Name Disorder Subclass  \n",
              "0            Richard                          None  \n",
              "1            Richard                          None  \n",
              "2               Mike               Cystic fibrosis  \n",
              "3           Kimberly                      Diabetes  \n",
              "4            Jeffery   Hoelscher          diabetes  "
            ]
          },
          "execution_count": 96,
          "metadata": {},
          "output_type": "execute_result"
        }
      ],
      "source": [
        "import pandas as pd\n",
        "\n",
        "data = {\"Patient Id\" : [\"PID0x6418\",\"PID0x6418\",\"PID0x25d5\",\"PID0x4a82\",\"PID0x4ac8\",\"PID0x1bf7\"],\t\"Patient Age\" : [10,10, 200,5,5,6], \"Year of Diagnosis\" : [2022,2023,\"NaN\",\"NaN\",2010,2021] ,\"Blood cell count (mcL)\" : [\"4.760603\",\"4.760603\", \"4.910669\", \"4.893297\", \"4.893297\", \"4.720703\"], \"Patient First Name\" : [\"Richard\", \"Richard\", \"Mike\", \"Kimberly\", \"Jeffery\", \"Johanna\"], \"Family Name\" : [\"\",\"\", \"\", \"\", \"Hoelscher\", \"\" ], \"Disorder Subclass\" :[None, None, \"Cystic fibrosis\", \"Diabetes\", \"diabetes\", \"Cancer\"]}\n",
        "\n",
        "df=pd.DataFrame(data)\n",
        "\n",
        "df.head()\n"
      ]
    },
    {
      "cell_type": "code",
      "execution_count": 97,
      "metadata": {},
      "outputs": [
        {
          "data": {
            "text/plain": [
              "0    False\n",
              "1    False\n",
              "2    False\n",
              "3    False\n",
              "4    False\n",
              "5    False\n",
              "dtype: bool"
            ]
          },
          "execution_count": 97,
          "metadata": {},
          "output_type": "execute_result"
        }
      ],
      "source": [
        "df.duplicated()"
      ]
    },
    {
      "cell_type": "code",
      "execution_count": null,
      "metadata": {},
      "outputs": [],
      "source": []
    },
    {
      "cell_type": "code",
      "execution_count": 54,
      "metadata": {},
      "outputs": [
        {
          "name": "stdout",
          "output_type": "stream",
          "text": [
            "<class 'pandas.core.frame.DataFrame'>\n",
            "42\n",
            "42\n",
            "<class 'pandas.core.series.Series'>\n",
            "6\n",
            "6\n"
          ]
        }
      ],
      "source": [
        "print(type(df))\n",
        "print(df.size)\n",
        "print(df.size)\n",
        "\n",
        "print(type(df[\"Year of Diagnosis\"]))\n",
        "print(df[\"Year of Diagnosis\"].size)\n",
        "print(df[\"Year of Diagnosis\"].size)"
      ]
    },
    {
      "cell_type": "markdown",
      "metadata": {
        "id": "rqO1jPY5HE7u"
      },
      "source": [
        "## Getting a first overview\n",
        "\n",
        "You can get an first impression of all the interval scaled data in the data frame, by using the ```info()``` and ```describe()``` functions"
      ]
    },
    {
      "cell_type": "code",
      "execution_count": 55,
      "metadata": {
        "colab": {
          "base_uri": "https://localhost:8080/"
        },
        "id": "_4AiA0oBUzrC",
        "outputId": "0a415de3-7eb6-488e-8287-9d0ee7abd6cc"
      },
      "outputs": [
        {
          "name": "stdout",
          "output_type": "stream",
          "text": [
            "<class 'pandas.core.frame.DataFrame'>\n",
            "RangeIndex: 6 entries, 0 to 5\n",
            "Data columns (total 7 columns):\n",
            " #   Column                  Non-Null Count  Dtype \n",
            "---  ------                  --------------  ----- \n",
            " 0   Patient Id              6 non-null      object\n",
            " 1   Patient Age             6 non-null      int64 \n",
            " 2   Year of Diagnosis       6 non-null      object\n",
            " 3   Blood cell count (mcL)  6 non-null      object\n",
            " 4   Patient First Name      6 non-null      object\n",
            " 5   Family Name             6 non-null      object\n",
            " 6   Disorder Subclass       4 non-null      object\n",
            "dtypes: int64(1), object(6)\n",
            "memory usage: 464.0+ bytes\n"
          ]
        }
      ],
      "source": [
        "df.info()"
      ]
    },
    {
      "cell_type": "code",
      "execution_count": 56,
      "metadata": {
        "colab": {
          "base_uri": "https://localhost:8080/",
          "height": 300
        },
        "id": "S8Q1d3mRHjcB",
        "outputId": "2e303225-64f8-4e44-87cc-c4780aa18020"
      },
      "outputs": [
        {
          "data": {
            "text/html": [
              "<div>\n",
              "<style scoped>\n",
              "    .dataframe tbody tr th:only-of-type {\n",
              "        vertical-align: middle;\n",
              "    }\n",
              "\n",
              "    .dataframe tbody tr th {\n",
              "        vertical-align: top;\n",
              "    }\n",
              "\n",
              "    .dataframe thead th {\n",
              "        text-align: right;\n",
              "    }\n",
              "</style>\n",
              "<table border=\"1\" class=\"dataframe\">\n",
              "  <thead>\n",
              "    <tr style=\"text-align: right;\">\n",
              "      <th></th>\n",
              "      <th>Patient Age</th>\n",
              "    </tr>\n",
              "  </thead>\n",
              "  <tbody>\n",
              "    <tr>\n",
              "      <th>count</th>\n",
              "      <td>6.000000</td>\n",
              "    </tr>\n",
              "    <tr>\n",
              "      <th>mean</th>\n",
              "      <td>39.333333</td>\n",
              "    </tr>\n",
              "    <tr>\n",
              "      <th>std</th>\n",
              "      <td>78.744312</td>\n",
              "    </tr>\n",
              "    <tr>\n",
              "      <th>min</th>\n",
              "      <td>5.000000</td>\n",
              "    </tr>\n",
              "    <tr>\n",
              "      <th>25%</th>\n",
              "      <td>5.250000</td>\n",
              "    </tr>\n",
              "    <tr>\n",
              "      <th>50%</th>\n",
              "      <td>8.000000</td>\n",
              "    </tr>\n",
              "    <tr>\n",
              "      <th>75%</th>\n",
              "      <td>10.000000</td>\n",
              "    </tr>\n",
              "    <tr>\n",
              "      <th>max</th>\n",
              "      <td>200.000000</td>\n",
              "    </tr>\n",
              "  </tbody>\n",
              "</table>\n",
              "</div>"
            ],
            "text/plain": [
              "       Patient Age\n",
              "count     6.000000\n",
              "mean     39.333333\n",
              "std      78.744312\n",
              "min       5.000000\n",
              "25%       5.250000\n",
              "50%       8.000000\n",
              "75%      10.000000\n",
              "max     200.000000"
            ]
          },
          "execution_count": 56,
          "metadata": {},
          "output_type": "execute_result"
        }
      ],
      "source": [
        "df.describe()"
      ]
    },
    {
      "cell_type": "markdown",
      "metadata": {
        "id": "VGcECNrWH6cy"
      },
      "source": [
        "Note that this only gives You information about the age, as this is the only interval scaled variable."
      ]
    },
    {
      "cell_type": "code",
      "execution_count": 57,
      "metadata": {
        "colab": {
          "base_uri": "https://localhost:8080/"
        },
        "id": "IKCD8yNOIfnw",
        "outputId": "6b7fcc57-62dc-4691-c4bb-b7c310fbbde6"
      },
      "outputs": [
        {
          "data": {
            "text/plain": [
              "dtype('int64')"
            ]
          },
          "execution_count": 57,
          "metadata": {},
          "output_type": "execute_result"
        }
      ],
      "source": [
        "# Age is an integer\n",
        "df[\"Patient Age\"].dtype"
      ]
    },
    {
      "cell_type": "code",
      "execution_count": 58,
      "metadata": {
        "colab": {
          "base_uri": "https://localhost:8080/"
        },
        "id": "yZLdq3kDJHLR",
        "outputId": "fa958841-9bfe-4a4c-a3e9-f1a74af09a43"
      },
      "outputs": [
        {
          "data": {
            "text/plain": [
              "dtype('O')"
            ]
          },
          "execution_count": 58,
          "metadata": {},
          "output_type": "execute_result"
        }
      ],
      "source": [
        "# Blood cell count, however is object which is a kind of placeholder if the data type is not obvious\n",
        "df[\"Blood cell count (mcL)\"].dtype"
      ]
    },
    {
      "cell_type": "markdown",
      "metadata": {
        "id": "caSKoOxjI5GM"
      },
      "source": [
        "### Changing Data Types of Columns\n",
        "\n",
        "There are differet [ways](https://sparkbyexamples.com/pandas/pandas-convert-string-to-float-type-dataframe/#:~:text=pandas%20Convert%20String%20to%20Float,float64%20%2C%20numpy) to change the data types of columns. Here we change the columns type to a float"
      ]
    },
    {
      "cell_type": "code",
      "execution_count": 59,
      "metadata": {
        "colab": {
          "base_uri": "https://localhost:8080/"
        },
        "id": "GMXP3xUSIZ6o",
        "outputId": "2bc76757-93b9-4c17-cfec-cb52f905cd43"
      },
      "outputs": [
        {
          "data": {
            "text/plain": [
              "dtype('float64')"
            ]
          },
          "execution_count": 59,
          "metadata": {},
          "output_type": "execute_result"
        }
      ],
      "source": [
        "df[\"Blood cell count (mcL)\"] = pd.to_numeric(df[\"Blood cell count (mcL)\"])\n",
        "df[\"Blood cell count (mcL)\"].dtype"
      ]
    },
    {
      "cell_type": "markdown",
      "metadata": {},
      "source": [
        "If Python finds values, that cannot it intepreted as a float it will usually raise an error. You can force Phython to supress the error with the `errors='coerce'` parameter."
      ]
    },
    {
      "cell_type": "code",
      "execution_count": 60,
      "metadata": {},
      "outputs": [
        {
          "ename": "ValueError",
          "evalue": "Unable to parse string \"NaN\" at position 2",
          "output_type": "error",
          "traceback": [
            "\u001b[1;31m---------------------------------------------------------------------------\u001b[0m",
            "\u001b[1;31mValueError\u001b[0m                                Traceback (most recent call last)",
            "\u001b[1;32mpandas\\_libs\\lib.pyx\u001b[0m in \u001b[0;36mpandas._libs.lib.maybe_convert_numeric\u001b[1;34m()\u001b[0m\n",
            "\u001b[1;31mValueError\u001b[0m: Unable to parse string \"NaN\"",
            "\nDuring handling of the above exception, another exception occurred:\n",
            "\u001b[1;31mValueError\u001b[0m                                Traceback (most recent call last)",
            "\u001b[1;32m<ipython-input-60-6fdf62e985d5>\u001b[0m in \u001b[0;36m<module>\u001b[1;34m\u001b[0m\n\u001b[1;32m----> 1\u001b[1;33m \u001b[0mdf\u001b[0m\u001b[1;33m[\u001b[0m\u001b[1;34m\"Year of Diagnosis\"\u001b[0m\u001b[1;33m]\u001b[0m \u001b[1;33m=\u001b[0m \u001b[0mpd\u001b[0m\u001b[1;33m.\u001b[0m\u001b[0mto_numeric\u001b[0m\u001b[1;33m(\u001b[0m\u001b[0mdf\u001b[0m\u001b[1;33m[\u001b[0m\u001b[1;34m\"Year of Diagnosis\"\u001b[0m\u001b[1;33m]\u001b[0m\u001b[1;33m)\u001b[0m\u001b[1;33m\u001b[0m\u001b[1;33m\u001b[0m\u001b[0m\n\u001b[0m\u001b[0;32m      2\u001b[0m \u001b[0mdf\u001b[0m\u001b[1;33m[\u001b[0m\u001b[1;34m\"Year of Diagnosis\"\u001b[0m\u001b[1;33m]\u001b[0m\u001b[1;33m.\u001b[0m\u001b[0mdtype\u001b[0m\u001b[1;33m\u001b[0m\u001b[1;33m\u001b[0m\u001b[0m\n\u001b[0;32m      3\u001b[0m \u001b[0mprint\u001b[0m\u001b[1;33m(\u001b[0m\u001b[0mdf\u001b[0m\u001b[1;33m[\u001b[0m\u001b[1;34m\"Year of Diagnosis\"\u001b[0m\u001b[1;33m]\u001b[0m\u001b[1;33m)\u001b[0m\u001b[1;33m\u001b[0m\u001b[1;33m\u001b[0m\u001b[0m\n",
            "\u001b[1;32mc:\\Users\\JLHUBER\\Anaconda3\\lib\\site-packages\\pandas\\core\\tools\\numeric.py\u001b[0m in \u001b[0;36mto_numeric\u001b[1;34m(arg, errors, downcast)\u001b[0m\n\u001b[0;32m    152\u001b[0m         \u001b[0mcoerce_numeric\u001b[0m \u001b[1;33m=\u001b[0m \u001b[0merrors\u001b[0m \u001b[1;32mnot\u001b[0m \u001b[1;32min\u001b[0m \u001b[1;33m(\u001b[0m\u001b[1;34m\"ignore\"\u001b[0m\u001b[1;33m,\u001b[0m \u001b[1;34m\"raise\"\u001b[0m\u001b[1;33m)\u001b[0m\u001b[1;33m\u001b[0m\u001b[1;33m\u001b[0m\u001b[0m\n\u001b[0;32m    153\u001b[0m         \u001b[1;32mtry\u001b[0m\u001b[1;33m:\u001b[0m\u001b[1;33m\u001b[0m\u001b[1;33m\u001b[0m\u001b[0m\n\u001b[1;32m--> 154\u001b[1;33m             values = lib.maybe_convert_numeric(\n\u001b[0m\u001b[0;32m    155\u001b[0m                 \u001b[0mvalues\u001b[0m\u001b[1;33m,\u001b[0m \u001b[0mset\u001b[0m\u001b[1;33m(\u001b[0m\u001b[1;33m)\u001b[0m\u001b[1;33m,\u001b[0m \u001b[0mcoerce_numeric\u001b[0m\u001b[1;33m=\u001b[0m\u001b[0mcoerce_numeric\u001b[0m\u001b[1;33m\u001b[0m\u001b[1;33m\u001b[0m\u001b[0m\n\u001b[0;32m    156\u001b[0m             )\n",
            "\u001b[1;32mpandas\\_libs\\lib.pyx\u001b[0m in \u001b[0;36mpandas._libs.lib.maybe_convert_numeric\u001b[1;34m()\u001b[0m\n",
            "\u001b[1;31mValueError\u001b[0m: Unable to parse string \"NaN\" at position 2"
          ]
        }
      ],
      "source": [
        "df[\"Year of Diagnosis\"] = pd.to_numeric(df[\"Year of Diagnosis\"])\n",
        "df[\"Year of Diagnosis\"].dtype\n",
        "print(df[\"Year of Diagnosis\"])"
      ]
    },
    {
      "cell_type": "code",
      "execution_count": 61,
      "metadata": {},
      "outputs": [
        {
          "name": "stdout",
          "output_type": "stream",
          "text": [
            "0    2022.0\n",
            "1    2022.0\n",
            "2       NaN\n",
            "3       NaN\n",
            "4    2010.0\n",
            "5    2021.0\n",
            "Name: Year of Diagnosis, dtype: float64\n"
          ]
        }
      ],
      "source": [
        "df[\"Year of Diagnosis\"] = pd.to_numeric(df[\"Year of Diagnosis\"],errors='coerce')\n",
        "df[\"Year of Diagnosis\"].dtype\n",
        "print(df[\"Year of Diagnosis\"])"
      ]
    },
    {
      "cell_type": "markdown",
      "metadata": {
        "id": "bMmUbG_OI84J"
      },
      "source": [
        "Now, the description includes the Bloos cell count:"
      ]
    },
    {
      "cell_type": "code",
      "execution_count": 62,
      "metadata": {
        "colab": {
          "base_uri": "https://localhost:8080/",
          "height": 300
        },
        "id": "fv9Ja7naI-aZ",
        "outputId": "9c817684-64f3-47fd-865d-041c84984ff2"
      },
      "outputs": [
        {
          "data": {
            "text/html": [
              "<div>\n",
              "<style scoped>\n",
              "    .dataframe tbody tr th:only-of-type {\n",
              "        vertical-align: middle;\n",
              "    }\n",
              "\n",
              "    .dataframe tbody tr th {\n",
              "        vertical-align: top;\n",
              "    }\n",
              "\n",
              "    .dataframe thead th {\n",
              "        text-align: right;\n",
              "    }\n",
              "</style>\n",
              "<table border=\"1\" class=\"dataframe\">\n",
              "  <thead>\n",
              "    <tr style=\"text-align: right;\">\n",
              "      <th></th>\n",
              "      <th>Patient Age</th>\n",
              "      <th>Year of Diagnosis</th>\n",
              "      <th>Blood cell count (mcL)</th>\n",
              "    </tr>\n",
              "  </thead>\n",
              "  <tbody>\n",
              "    <tr>\n",
              "      <th>count</th>\n",
              "      <td>6.000000</td>\n",
              "      <td>4.00000</td>\n",
              "      <td>6.000000</td>\n",
              "    </tr>\n",
              "    <tr>\n",
              "      <th>mean</th>\n",
              "      <td>39.333333</td>\n",
              "      <td>2018.75000</td>\n",
              "      <td>4.823195</td>\n",
              "    </tr>\n",
              "    <tr>\n",
              "      <th>std</th>\n",
              "      <td>78.744312</td>\n",
              "      <td>5.85235</td>\n",
              "      <td>0.084641</td>\n",
              "    </tr>\n",
              "    <tr>\n",
              "      <th>min</th>\n",
              "      <td>5.000000</td>\n",
              "      <td>2010.00000</td>\n",
              "      <td>4.720703</td>\n",
              "    </tr>\n",
              "    <tr>\n",
              "      <th>25%</th>\n",
              "      <td>5.250000</td>\n",
              "      <td>2018.25000</td>\n",
              "      <td>4.760603</td>\n",
              "    </tr>\n",
              "    <tr>\n",
              "      <th>50%</th>\n",
              "      <td>8.000000</td>\n",
              "      <td>2021.50000</td>\n",
              "      <td>4.826950</td>\n",
              "    </tr>\n",
              "    <tr>\n",
              "      <th>75%</th>\n",
              "      <td>10.000000</td>\n",
              "      <td>2022.00000</td>\n",
              "      <td>4.893297</td>\n",
              "    </tr>\n",
              "    <tr>\n",
              "      <th>max</th>\n",
              "      <td>200.000000</td>\n",
              "      <td>2022.00000</td>\n",
              "      <td>4.910669</td>\n",
              "    </tr>\n",
              "  </tbody>\n",
              "</table>\n",
              "</div>"
            ],
            "text/plain": [
              "       Patient Age  Year of Diagnosis  Blood cell count (mcL)\n",
              "count     6.000000            4.00000                6.000000\n",
              "mean     39.333333         2018.75000                4.823195\n",
              "std      78.744312            5.85235                0.084641\n",
              "min       5.000000         2010.00000                4.720703\n",
              "25%       5.250000         2018.25000                4.760603\n",
              "50%       8.000000         2021.50000                4.826950\n",
              "75%      10.000000         2022.00000                4.893297\n",
              "max     200.000000         2022.00000                4.910669"
            ]
          },
          "execution_count": 62,
          "metadata": {},
          "output_type": "execute_result"
        }
      ],
      "source": [
        "df.describe()"
      ]
    },
    {
      "cell_type": "markdown",
      "metadata": {
        "id": "L9sGtZpxHh7e"
      },
      "source": [
        "To get a first overview on categorical data it is usefull to print unique values in the columns using the ```unique()``` function:"
      ]
    },
    {
      "cell_type": "code",
      "execution_count": 63,
      "metadata": {
        "colab": {
          "base_uri": "https://localhost:8080/"
        },
        "id": "pq3Zn3VGHc0o",
        "outputId": "8ff3eb79-bef9-418b-ff6a-ccbbc51d8aa7"
      },
      "outputs": [
        {
          "data": {
            "text/plain": [
              "array(['PID0x6418', 'PID0x25d5', 'PID0x4a82', 'PID0x4ac8', 'PID0x1bf7'],\n",
              "      dtype=object)"
            ]
          },
          "execution_count": 63,
          "metadata": {},
          "output_type": "execute_result"
        }
      ],
      "source": [
        "df[\"Patient Id\"].unique()"
      ]
    },
    {
      "cell_type": "markdown",
      "metadata": {
        "id": "LF2E8ck3HMNW"
      },
      "source": [
        "✍️ **Task**\n",
        "\n",
        "Show the unique values of all colums. What irregularities do You find?"
      ]
    },
    {
      "cell_type": "code",
      "execution_count": 86,
      "metadata": {
        "colab": {
          "base_uri": "https://localhost:8080/"
        },
        "id": "5DNklUZxHMom",
        "outputId": "c1928e3b-1e52-4fa7-a68c-44ba6b6f9afa"
      },
      "outputs": [
        {
          "name": "stdout",
          "output_type": "stream",
          "text": [
            "In column Patient Id we have:\n",
            "['PID0x6418' 'PID0x25d5' 'PID0x4a82' 'PID0x4ac8' 'PID0x1bf7']\n",
            "\n",
            "\n",
            "In column Patient Age we have:\n",
            "[ 10 200   5   6]\n",
            "\n",
            "\n",
            "In column Blood cell count (mcL) we have:\n",
            "['4.760603' '4.910669' '4.893297' '4.720703']\n",
            "\n",
            "\n",
            "In column Patient First Name we have:\n",
            "['Richard' 'Mike' 'Kimberly' 'Jeffery' 'Johanna']\n",
            "\n",
            "\n",
            "In column Family Name we have:\n",
            "['NaN' 'Hoelscher' '']\n",
            "\n",
            "\n",
            "In column Disorder Subclass we have:\n",
            "[None 'Cystic fibrosis' 'Diabetes' 'diabetes' 'Cancer']\n",
            "\n",
            "\n"
          ]
        }
      ],
      "source": [
        "for column in df.columns:\n",
        "  print(\"In column {} we have:\".format(column))\n",
        "  print(df[column].unique())\n",
        "  print(\"\\n\")"
      ]
    },
    {
      "cell_type": "markdown",
      "metadata": {
        "id": "H3KRftBrKSRq"
      },
      "source": [
        "We see the following:\n",
        "- We have only 5 different patient IDs, even when we have 6 patients (IDs should be unique)\n",
        "- Patient Age of 200 seems off\n",
        "- Family Names have missing values coded in two different ways as `\"NaN\"` and `\"\"`\n",
        "- There are two spellings of Diabetes/diabetes"
      ]
    },
    {
      "cell_type": "markdown",
      "metadata": {
        "id": "wX8QtSK4VM2d"
      },
      "source": [
        "For even more info, we can use the ```value_counts()``` function:"
      ]
    },
    {
      "cell_type": "code",
      "execution_count": 65,
      "metadata": {
        "colab": {
          "base_uri": "https://localhost:8080/"
        },
        "id": "50EY2HW-VD4z",
        "outputId": "8059c895-bb71-40fd-ec8b-a623e7fc41a2"
      },
      "outputs": [
        {
          "data": {
            "text/plain": [
              "Diabetes           1\n",
              "Cancer             1\n",
              "Cystic fibrosis    1\n",
              "diabetes           1\n",
              "Name: Disorder Subclass, dtype: int64"
            ]
          },
          "execution_count": 65,
          "metadata": {},
          "output_type": "execute_result"
        }
      ],
      "source": [
        "df[\"Disorder Subclass\"].value_counts()"
      ]
    },
    {
      "cell_type": "markdown",
      "metadata": {
        "id": "SOxD4uZGuVQa"
      },
      "source": [
        "# 🏁 Recap\n",
        "\n",
        "- If you have finished the tasks and have no questions, place the green card on top.\n",
        "- If you have finished the tasks but would like to discuss the solutions together again, place the yellow card on top.\n",
        "\n",
        "![](https://www.lokalinfo.ch/fileadmin/news_import/image003_03.jpg)"
      ]
    },
    {
      "cell_type": "markdown",
      "metadata": {
        "id": "d0jWaXj4AwnW"
      },
      "source": [
        "## Dropping Rows in a DataFrame\n",
        "\n",
        "If You want to omit certains rows in Your data, Your can use a filter and/or where clause like we did in the last lecture.\n",
        "\n",
        "✍️ **Task**\n",
        "\n",
        "Create a new data frame with only the \"Cancer\" Disorder Subclass"
      ]
    },
    {
      "cell_type": "code",
      "execution_count": 66,
      "metadata": {},
      "outputs": [
        {
          "data": {
            "text/html": [
              "<div>\n",
              "<style scoped>\n",
              "    .dataframe tbody tr th:only-of-type {\n",
              "        vertical-align: middle;\n",
              "    }\n",
              "\n",
              "    .dataframe tbody tr th {\n",
              "        vertical-align: top;\n",
              "    }\n",
              "\n",
              "    .dataframe thead th {\n",
              "        text-align: right;\n",
              "    }\n",
              "</style>\n",
              "<table border=\"1\" class=\"dataframe\">\n",
              "  <thead>\n",
              "    <tr style=\"text-align: right;\">\n",
              "      <th></th>\n",
              "      <th>Patient Id</th>\n",
              "      <th>Patient Age</th>\n",
              "      <th>Year of Diagnosis</th>\n",
              "      <th>Blood cell count (mcL)</th>\n",
              "      <th>Patient First Name</th>\n",
              "      <th>Family Name</th>\n",
              "      <th>Disorder Subclass</th>\n",
              "    </tr>\n",
              "  </thead>\n",
              "  <tbody>\n",
              "    <tr>\n",
              "      <th>0</th>\n",
              "      <td>PID0x6418</td>\n",
              "      <td>10</td>\n",
              "      <td>2022.0</td>\n",
              "      <td>4.760603</td>\n",
              "      <td>Richard</td>\n",
              "      <td></td>\n",
              "      <td>None</td>\n",
              "    </tr>\n",
              "    <tr>\n",
              "      <th>1</th>\n",
              "      <td>PID0x6418</td>\n",
              "      <td>10</td>\n",
              "      <td>2022.0</td>\n",
              "      <td>4.760603</td>\n",
              "      <td>Richard</td>\n",
              "      <td></td>\n",
              "      <td>None</td>\n",
              "    </tr>\n",
              "    <tr>\n",
              "      <th>2</th>\n",
              "      <td>PID0x25d5</td>\n",
              "      <td>200</td>\n",
              "      <td>NaN</td>\n",
              "      <td>4.910669</td>\n",
              "      <td>Mike</td>\n",
              "      <td></td>\n",
              "      <td>Cystic fibrosis</td>\n",
              "    </tr>\n",
              "    <tr>\n",
              "      <th>3</th>\n",
              "      <td>PID0x4a82</td>\n",
              "      <td>5</td>\n",
              "      <td>NaN</td>\n",
              "      <td>4.893297</td>\n",
              "      <td>Kimberly</td>\n",
              "      <td></td>\n",
              "      <td>Diabetes</td>\n",
              "    </tr>\n",
              "    <tr>\n",
              "      <th>4</th>\n",
              "      <td>PID0x4ac8</td>\n",
              "      <td>5</td>\n",
              "      <td>2010.0</td>\n",
              "      <td>4.893297</td>\n",
              "      <td>Jeffery</td>\n",
              "      <td>Hoelscher</td>\n",
              "      <td>diabetes</td>\n",
              "    </tr>\n",
              "    <tr>\n",
              "      <th>5</th>\n",
              "      <td>PID0x1bf7</td>\n",
              "      <td>6</td>\n",
              "      <td>2021.0</td>\n",
              "      <td>4.720703</td>\n",
              "      <td>Johanna</td>\n",
              "      <td></td>\n",
              "      <td>Cancer</td>\n",
              "    </tr>\n",
              "  </tbody>\n",
              "</table>\n",
              "</div>"
            ],
            "text/plain": [
              "  Patient Id  Patient Age  Year of Diagnosis  Blood cell count (mcL)  \\\n",
              "0  PID0x6418           10             2022.0                4.760603   \n",
              "1  PID0x6418           10             2022.0                4.760603   \n",
              "2  PID0x25d5          200                NaN                4.910669   \n",
              "3  PID0x4a82            5                NaN                4.893297   \n",
              "4  PID0x4ac8            5             2010.0                4.893297   \n",
              "5  PID0x1bf7            6             2021.0                4.720703   \n",
              "\n",
              "  Patient First Name Family Name Disorder Subclass  \n",
              "0            Richard                          None  \n",
              "1            Richard                          None  \n",
              "2               Mike               Cystic fibrosis  \n",
              "3           Kimberly                      Diabetes  \n",
              "4            Jeffery   Hoelscher          diabetes  \n",
              "5            Johanna                        Cancer  "
            ]
          },
          "execution_count": 66,
          "metadata": {},
          "output_type": "execute_result"
        }
      ],
      "source": [
        "df"
      ]
    },
    {
      "cell_type": "code",
      "execution_count": 98,
      "metadata": {},
      "outputs": [
        {
          "data": {
            "text/plain": [
              "0    False\n",
              "1    False\n",
              "2    False\n",
              "3    False\n",
              "4    False\n",
              "5     True\n",
              "Name: Disorder Subclass, dtype: bool"
            ]
          },
          "execution_count": 98,
          "metadata": {},
          "output_type": "execute_result"
        }
      ],
      "source": [
        "df[\"Disorder Subclass\"]==\"Cancer\""
      ]
    },
    {
      "cell_type": "code",
      "execution_count": 99,
      "metadata": {
        "colab": {
          "base_uri": "https://localhost:8080/",
          "height": 81
        },
        "id": "pQgTeWsAFK3Z",
        "outputId": "5bb0a040-2b6e-450c-c707-9830b808ee23"
      },
      "outputs": [
        {
          "data": {
            "text/html": [
              "<div>\n",
              "<style scoped>\n",
              "    .dataframe tbody tr th:only-of-type {\n",
              "        vertical-align: middle;\n",
              "    }\n",
              "\n",
              "    .dataframe tbody tr th {\n",
              "        vertical-align: top;\n",
              "    }\n",
              "\n",
              "    .dataframe thead th {\n",
              "        text-align: right;\n",
              "    }\n",
              "</style>\n",
              "<table border=\"1\" class=\"dataframe\">\n",
              "  <thead>\n",
              "    <tr style=\"text-align: right;\">\n",
              "      <th></th>\n",
              "      <th>Patient Id</th>\n",
              "      <th>Patient Age</th>\n",
              "      <th>Year of Diagnosis</th>\n",
              "      <th>Blood cell count (mcL)</th>\n",
              "      <th>Patient First Name</th>\n",
              "      <th>Family Name</th>\n",
              "      <th>Disorder Subclass</th>\n",
              "    </tr>\n",
              "  </thead>\n",
              "  <tbody>\n",
              "    <tr>\n",
              "      <th>0</th>\n",
              "      <td>PID0x6418</td>\n",
              "      <td>10</td>\n",
              "      <td>2022</td>\n",
              "      <td>4.760603</td>\n",
              "      <td>Richard</td>\n",
              "      <td></td>\n",
              "      <td>None</td>\n",
              "    </tr>\n",
              "    <tr>\n",
              "      <th>1</th>\n",
              "      <td>PID0x6418</td>\n",
              "      <td>10</td>\n",
              "      <td>2023</td>\n",
              "      <td>4.760603</td>\n",
              "      <td>Richard</td>\n",
              "      <td></td>\n",
              "      <td>None</td>\n",
              "    </tr>\n",
              "    <tr>\n",
              "      <th>2</th>\n",
              "      <td>PID0x25d5</td>\n",
              "      <td>200</td>\n",
              "      <td>NaN</td>\n",
              "      <td>4.910669</td>\n",
              "      <td>Mike</td>\n",
              "      <td></td>\n",
              "      <td>Cystic fibrosis</td>\n",
              "    </tr>\n",
              "    <tr>\n",
              "      <th>3</th>\n",
              "      <td>PID0x4a82</td>\n",
              "      <td>5</td>\n",
              "      <td>NaN</td>\n",
              "      <td>4.893297</td>\n",
              "      <td>Kimberly</td>\n",
              "      <td></td>\n",
              "      <td>Diabetes</td>\n",
              "    </tr>\n",
              "    <tr>\n",
              "      <th>4</th>\n",
              "      <td>PID0x4ac8</td>\n",
              "      <td>5</td>\n",
              "      <td>2010</td>\n",
              "      <td>4.893297</td>\n",
              "      <td>Jeffery</td>\n",
              "      <td>Hoelscher</td>\n",
              "      <td>diabetes</td>\n",
              "    </tr>\n",
              "  </tbody>\n",
              "</table>\n",
              "</div>"
            ],
            "text/plain": [
              "  Patient Id  Patient Age Year of Diagnosis Blood cell count (mcL)  \\\n",
              "0  PID0x6418           10              2022               4.760603   \n",
              "1  PID0x6418           10              2023               4.760603   \n",
              "2  PID0x25d5          200               NaN               4.910669   \n",
              "3  PID0x4a82            5               NaN               4.893297   \n",
              "4  PID0x4ac8            5              2010               4.893297   \n",
              "\n",
              "  Patient First Name Family Name Disorder Subclass  \n",
              "0            Richard                          None  \n",
              "1            Richard                          None  \n",
              "2               Mike               Cystic fibrosis  \n",
              "3           Kimberly                      Diabetes  \n",
              "4            Jeffery   Hoelscher          diabetes  "
            ]
          },
          "execution_count": 99,
          "metadata": {},
          "output_type": "execute_result"
        }
      ],
      "source": [
        "df[df[\"Disorder Subclass\"]==\"Cancer\"]\n",
        "df.head()"
      ]
    },
    {
      "cell_type": "code",
      "execution_count": 100,
      "metadata": {},
      "outputs": [
        {
          "data": {
            "text/html": [
              "<div>\n",
              "<style scoped>\n",
              "    .dataframe tbody tr th:only-of-type {\n",
              "        vertical-align: middle;\n",
              "    }\n",
              "\n",
              "    .dataframe tbody tr th {\n",
              "        vertical-align: top;\n",
              "    }\n",
              "\n",
              "    .dataframe thead th {\n",
              "        text-align: right;\n",
              "    }\n",
              "</style>\n",
              "<table border=\"1\" class=\"dataframe\">\n",
              "  <thead>\n",
              "    <tr style=\"text-align: right;\">\n",
              "      <th></th>\n",
              "      <th>Patient Id</th>\n",
              "      <th>Patient Age</th>\n",
              "      <th>Year of Diagnosis</th>\n",
              "      <th>Blood cell count (mcL)</th>\n",
              "      <th>Patient First Name</th>\n",
              "      <th>Family Name</th>\n",
              "      <th>Disorder Subclass</th>\n",
              "    </tr>\n",
              "  </thead>\n",
              "  <tbody>\n",
              "    <tr>\n",
              "      <th>5</th>\n",
              "      <td>PID0x1bf7</td>\n",
              "      <td>6</td>\n",
              "      <td>2021</td>\n",
              "      <td>4.720703</td>\n",
              "      <td>Johanna</td>\n",
              "      <td></td>\n",
              "      <td>Cancer</td>\n",
              "    </tr>\n",
              "  </tbody>\n",
              "</table>\n",
              "</div>"
            ],
            "text/plain": [
              "  Patient Id  Patient Age Year of Diagnosis Blood cell count (mcL)  \\\n",
              "5  PID0x1bf7            6              2021               4.720703   \n",
              "\n",
              "  Patient First Name Family Name Disorder Subclass  \n",
              "5            Johanna                        Cancer  "
            ]
          },
          "execution_count": 100,
          "metadata": {},
          "output_type": "execute_result"
        }
      ],
      "source": [
        "new_df = df[df[\"Disorder Subclass\"]==\"Cancer\"].copy()\n",
        "new_df"
      ]
    },
    {
      "cell_type": "markdown",
      "metadata": {
        "id": "NHuoby58Fgkt"
      },
      "source": [
        "### Dropping Duplicates\n",
        "\n",
        "Another common problem are duplicates. You can find them using the [```duplicate```](https://pandas.pydata.org/docs/reference/api/pandas.DataFrame.duplicated.html) function."
      ]
    },
    {
      "cell_type": "code",
      "execution_count": 88,
      "metadata": {
        "colab": {
          "base_uri": "https://localhost:8080/",
          "height": 237
        },
        "id": "pTb8Pab20Q8e",
        "outputId": "b6d315af-0c95-4b03-b185-c298595a402c"
      },
      "outputs": [
        {
          "data": {
            "text/html": [
              "<div>\n",
              "<style scoped>\n",
              "    .dataframe tbody tr th:only-of-type {\n",
              "        vertical-align: middle;\n",
              "    }\n",
              "\n",
              "    .dataframe tbody tr th {\n",
              "        vertical-align: top;\n",
              "    }\n",
              "\n",
              "    .dataframe thead th {\n",
              "        text-align: right;\n",
              "    }\n",
              "</style>\n",
              "<table border=\"1\" class=\"dataframe\">\n",
              "  <thead>\n",
              "    <tr style=\"text-align: right;\">\n",
              "      <th></th>\n",
              "      <th>Patient Id</th>\n",
              "      <th>Patient Age</th>\n",
              "      <th>Blood cell count (mcL)</th>\n",
              "      <th>Patient First Name</th>\n",
              "      <th>Family Name</th>\n",
              "      <th>Disorder Subclass</th>\n",
              "    </tr>\n",
              "  </thead>\n",
              "  <tbody>\n",
              "    <tr>\n",
              "      <th>0</th>\n",
              "      <td>PID0x6418</td>\n",
              "      <td>10</td>\n",
              "      <td>4.760603</td>\n",
              "      <td>Richard</td>\n",
              "      <td>NaN</td>\n",
              "      <td>None</td>\n",
              "    </tr>\n",
              "    <tr>\n",
              "      <th>1</th>\n",
              "      <td>PID0x6418</td>\n",
              "      <td>10</td>\n",
              "      <td>4.760603</td>\n",
              "      <td>Richard</td>\n",
              "      <td>NaN</td>\n",
              "      <td>None</td>\n",
              "    </tr>\n",
              "    <tr>\n",
              "      <th>2</th>\n",
              "      <td>PID0x25d5</td>\n",
              "      <td>200</td>\n",
              "      <td>4.910669</td>\n",
              "      <td>Mike</td>\n",
              "      <td>NaN</td>\n",
              "      <td>Cystic fibrosis</td>\n",
              "    </tr>\n",
              "    <tr>\n",
              "      <th>3</th>\n",
              "      <td>PID0x4a82</td>\n",
              "      <td>5</td>\n",
              "      <td>4.893297</td>\n",
              "      <td>Kimberly</td>\n",
              "      <td>NaN</td>\n",
              "      <td>Diabetes</td>\n",
              "    </tr>\n",
              "    <tr>\n",
              "      <th>4</th>\n",
              "      <td>PID0x4ac8</td>\n",
              "      <td>5</td>\n",
              "      <td>4.893297</td>\n",
              "      <td>Jeffery</td>\n",
              "      <td>Hoelscher</td>\n",
              "      <td>diabetes</td>\n",
              "    </tr>\n",
              "    <tr>\n",
              "      <th>5</th>\n",
              "      <td>PID0x1bf7</td>\n",
              "      <td>6</td>\n",
              "      <td>4.720703</td>\n",
              "      <td>Johanna</td>\n",
              "      <td></td>\n",
              "      <td>Cancer</td>\n",
              "    </tr>\n",
              "  </tbody>\n",
              "</table>\n",
              "</div>"
            ],
            "text/plain": [
              "  Patient Id  Patient Age Blood cell count (mcL) Patient First Name  \\\n",
              "0  PID0x6418           10               4.760603            Richard   \n",
              "1  PID0x6418           10               4.760603            Richard   \n",
              "2  PID0x25d5          200               4.910669               Mike   \n",
              "3  PID0x4a82            5               4.893297           Kimberly   \n",
              "4  PID0x4ac8            5               4.893297            Jeffery   \n",
              "5  PID0x1bf7            6               4.720703            Johanna   \n",
              "\n",
              "  Family Name Disorder Subclass  \n",
              "0         NaN              None  \n",
              "1         NaN              None  \n",
              "2         NaN   Cystic fibrosis  \n",
              "3         NaN          Diabetes  \n",
              "4   Hoelscher          diabetes  \n",
              "5                        Cancer  "
            ]
          },
          "execution_count": 88,
          "metadata": {},
          "output_type": "execute_result"
        }
      ],
      "source": [
        "df"
      ]
    },
    {
      "cell_type": "code",
      "execution_count": 89,
      "metadata": {
        "colab": {
          "base_uri": "https://localhost:8080/"
        },
        "id": "rlHBNXRcEs9V",
        "outputId": "87fc71af-0d61-4f2e-b64a-89d94bec3b65"
      },
      "outputs": [
        {
          "data": {
            "text/plain": [
              "0    False\n",
              "1     True\n",
              "2    False\n",
              "3    False\n",
              "4    False\n",
              "5    False\n",
              "dtype: bool"
            ]
          },
          "execution_count": 89,
          "metadata": {},
          "output_type": "execute_result"
        }
      ],
      "source": [
        "df.duplicated()"
      ]
    },
    {
      "cell_type": "markdown",
      "metadata": {
        "id": "b5OqOFCuF6ID"
      },
      "source": [
        "✍️ **Task**\n",
        "\n",
        "Remove the duplicate rows from the dataframe\n",
        "\n",
        "*Hint*: Take a look in the [documentation](https://pandas.pydata.org/docs/reference/api/pandas.DataFrame.duplicated.html) and use the return as a filter."
      ]
    },
    {
      "cell_type": "code",
      "execution_count": 90,
      "metadata": {
        "colab": {
          "base_uri": "https://localhost:8080/",
          "height": 206
        },
        "id": "Jyb6W3hSGAgT",
        "outputId": "19278080-abb9-4d63-f941-c0d19d79d9b2"
      },
      "outputs": [
        {
          "data": {
            "text/html": [
              "<div>\n",
              "<style scoped>\n",
              "    .dataframe tbody tr th:only-of-type {\n",
              "        vertical-align: middle;\n",
              "    }\n",
              "\n",
              "    .dataframe tbody tr th {\n",
              "        vertical-align: top;\n",
              "    }\n",
              "\n",
              "    .dataframe thead th {\n",
              "        text-align: right;\n",
              "    }\n",
              "</style>\n",
              "<table border=\"1\" class=\"dataframe\">\n",
              "  <thead>\n",
              "    <tr style=\"text-align: right;\">\n",
              "      <th></th>\n",
              "      <th>Patient Id</th>\n",
              "      <th>Patient Age</th>\n",
              "      <th>Blood cell count (mcL)</th>\n",
              "      <th>Patient First Name</th>\n",
              "      <th>Family Name</th>\n",
              "      <th>Disorder Subclass</th>\n",
              "    </tr>\n",
              "  </thead>\n",
              "  <tbody>\n",
              "    <tr>\n",
              "      <th>0</th>\n",
              "      <td>PID0x6418</td>\n",
              "      <td>10</td>\n",
              "      <td>4.760603</td>\n",
              "      <td>Richard</td>\n",
              "      <td>NaN</td>\n",
              "      <td>None</td>\n",
              "    </tr>\n",
              "    <tr>\n",
              "      <th>1</th>\n",
              "      <td>PID0x6418</td>\n",
              "      <td>10</td>\n",
              "      <td>4.760603</td>\n",
              "      <td>Richard</td>\n",
              "      <td>NaN</td>\n",
              "      <td>None</td>\n",
              "    </tr>\n",
              "    <tr>\n",
              "      <th>2</th>\n",
              "      <td>PID0x25d5</td>\n",
              "      <td>200</td>\n",
              "      <td>4.910669</td>\n",
              "      <td>Mike</td>\n",
              "      <td>NaN</td>\n",
              "      <td>Cystic fibrosis</td>\n",
              "    </tr>\n",
              "    <tr>\n",
              "      <th>3</th>\n",
              "      <td>PID0x4a82</td>\n",
              "      <td>5</td>\n",
              "      <td>4.893297</td>\n",
              "      <td>Kimberly</td>\n",
              "      <td>NaN</td>\n",
              "      <td>Diabetes</td>\n",
              "    </tr>\n",
              "    <tr>\n",
              "      <th>4</th>\n",
              "      <td>PID0x4ac8</td>\n",
              "      <td>5</td>\n",
              "      <td>4.893297</td>\n",
              "      <td>Jeffery</td>\n",
              "      <td>Hoelscher</td>\n",
              "      <td>diabetes</td>\n",
              "    </tr>\n",
              "    <tr>\n",
              "      <th>5</th>\n",
              "      <td>PID0x1bf7</td>\n",
              "      <td>6</td>\n",
              "      <td>4.720703</td>\n",
              "      <td>Johanna</td>\n",
              "      <td></td>\n",
              "      <td>Cancer</td>\n",
              "    </tr>\n",
              "  </tbody>\n",
              "</table>\n",
              "</div>"
            ],
            "text/plain": [
              "  Patient Id  Patient Age Blood cell count (mcL) Patient First Name  \\\n",
              "0  PID0x6418           10               4.760603            Richard   \n",
              "1  PID0x6418           10               4.760603            Richard   \n",
              "2  PID0x25d5          200               4.910669               Mike   \n",
              "3  PID0x4a82            5               4.893297           Kimberly   \n",
              "4  PID0x4ac8            5               4.893297            Jeffery   \n",
              "5  PID0x1bf7            6               4.720703            Johanna   \n",
              "\n",
              "  Family Name Disorder Subclass  \n",
              "0         NaN              None  \n",
              "1         NaN              None  \n",
              "2         NaN   Cystic fibrosis  \n",
              "3         NaN          Diabetes  \n",
              "4   Hoelscher          diabetes  \n",
              "5                        Cancer  "
            ]
          },
          "execution_count": 90,
          "metadata": {},
          "output_type": "execute_result"
        }
      ],
      "source": [
        "data = {\"Patient Id\" : [\"PID0x6418\",\"PID0x6418\",\"PID0x25d5\",\"PID0x4a82\",\"PID0x4ac8\",\"PID0x1bf7\"],\t\"Patient Age\" : [10,10, 200,5,5,6], \"Blood cell count (mcL)\" : [\"4.760603\",\"4.760603\", \"4.910669\", \"4.893297\", \"4.893297\", \"4.720703\"], \"Patient First Name\" : [\"Richard\", \"Richard\", \"Mike\", \"Kimberly\", \"Jeffery\", \"Johanna\"], \"Family Name\" : [\"NaN\",\"NaN\", \"NaN\", \"NaN\", \"Hoelscher\", \"\" ], \"Disorder Subclass\" :[None, None, \"Cystic fibrosis\", \"Diabetes\", \"diabetes\", \"Cancer\"]}\n",
        "\n",
        "df=pd.DataFrame(data)\n",
        "df"
      ]
    },
    {
      "cell_type": "code",
      "execution_count": 74,
      "metadata": {},
      "outputs": [
        {
          "data": {
            "text/html": [
              "<div>\n",
              "<style scoped>\n",
              "    .dataframe tbody tr th:only-of-type {\n",
              "        vertical-align: middle;\n",
              "    }\n",
              "\n",
              "    .dataframe tbody tr th {\n",
              "        vertical-align: top;\n",
              "    }\n",
              "\n",
              "    .dataframe thead th {\n",
              "        text-align: right;\n",
              "    }\n",
              "</style>\n",
              "<table border=\"1\" class=\"dataframe\">\n",
              "  <thead>\n",
              "    <tr style=\"text-align: right;\">\n",
              "      <th></th>\n",
              "      <th>Patient Id</th>\n",
              "      <th>Patient Age</th>\n",
              "      <th>Blood cell count (mcL)</th>\n",
              "      <th>Patient First Name</th>\n",
              "      <th>Family Name</th>\n",
              "      <th>Disorder Subclass</th>\n",
              "    </tr>\n",
              "  </thead>\n",
              "  <tbody>\n",
              "    <tr>\n",
              "      <th>0</th>\n",
              "      <td>PID0x6418</td>\n",
              "      <td>10</td>\n",
              "      <td>4.760603</td>\n",
              "      <td>Richard</td>\n",
              "      <td>NaN</td>\n",
              "      <td>None</td>\n",
              "    </tr>\n",
              "    <tr>\n",
              "      <th>2</th>\n",
              "      <td>PID0x25d5</td>\n",
              "      <td>200</td>\n",
              "      <td>4.910669</td>\n",
              "      <td>Mike</td>\n",
              "      <td>NaN</td>\n",
              "      <td>Cystic fibrosis</td>\n",
              "    </tr>\n",
              "    <tr>\n",
              "      <th>3</th>\n",
              "      <td>PID0x4a82</td>\n",
              "      <td>5</td>\n",
              "      <td>4.893297</td>\n",
              "      <td>Kimberly</td>\n",
              "      <td>NaN</td>\n",
              "      <td>Diabetes</td>\n",
              "    </tr>\n",
              "    <tr>\n",
              "      <th>4</th>\n",
              "      <td>PID0x4ac8</td>\n",
              "      <td>5</td>\n",
              "      <td>4.893297</td>\n",
              "      <td>Jeffery</td>\n",
              "      <td>Hoelscher</td>\n",
              "      <td>diabetes</td>\n",
              "    </tr>\n",
              "    <tr>\n",
              "      <th>5</th>\n",
              "      <td>PID0x1bf7</td>\n",
              "      <td>6</td>\n",
              "      <td>4.720703</td>\n",
              "      <td>Johanna</td>\n",
              "      <td></td>\n",
              "      <td>Cancer</td>\n",
              "    </tr>\n",
              "  </tbody>\n",
              "</table>\n",
              "</div>"
            ],
            "text/plain": [
              "  Patient Id  Patient Age Blood cell count (mcL) Patient First Name  \\\n",
              "0  PID0x6418           10               4.760603            Richard   \n",
              "2  PID0x25d5          200               4.910669               Mike   \n",
              "3  PID0x4a82            5               4.893297           Kimberly   \n",
              "4  PID0x4ac8            5               4.893297            Jeffery   \n",
              "5  PID0x1bf7            6               4.720703            Johanna   \n",
              "\n",
              "  Family Name Disorder Subclass  \n",
              "0         NaN              None  \n",
              "2         NaN   Cystic fibrosis  \n",
              "3         NaN          Diabetes  \n",
              "4   Hoelscher          diabetes  \n",
              "5                        Cancer  "
            ]
          },
          "execution_count": 74,
          "metadata": {},
          "output_type": "execute_result"
        }
      ],
      "source": [
        "df = df[df.duplicated(keep=\"first\")==False]\n",
        "\n",
        "df"
      ]
    },
    {
      "cell_type": "markdown",
      "metadata": {
        "id": "bQma3tTmA2G9"
      },
      "source": [
        "## Changing the Index of a DataFrame\n",
        "\n",
        "Now, that we have unique patient Ids, we can use them as a new index:\n"
      ]
    },
    {
      "cell_type": "code",
      "execution_count": 17,
      "metadata": {
        "colab": {
          "base_uri": "https://localhost:8080/",
          "height": 237
        },
        "id": "Z2h-hq9oLksi",
        "outputId": "0dfbbd4d-0908-48ce-b831-c569d8d93071"
      },
      "outputs": [
        {
          "data": {
            "text/html": [
              "<div>\n",
              "<style scoped>\n",
              "    .dataframe tbody tr th:only-of-type {\n",
              "        vertical-align: middle;\n",
              "    }\n",
              "\n",
              "    .dataframe tbody tr th {\n",
              "        vertical-align: top;\n",
              "    }\n",
              "\n",
              "    .dataframe thead th {\n",
              "        text-align: right;\n",
              "    }\n",
              "</style>\n",
              "<table border=\"1\" class=\"dataframe\">\n",
              "  <thead>\n",
              "    <tr style=\"text-align: right;\">\n",
              "      <th></th>\n",
              "      <th>Patient Age</th>\n",
              "      <th>Blood cell count (mcL)</th>\n",
              "      <th>Patient First Name</th>\n",
              "      <th>Family Name</th>\n",
              "      <th>Disorder Subclass</th>\n",
              "    </tr>\n",
              "    <tr>\n",
              "      <th>Patient Id</th>\n",
              "      <th></th>\n",
              "      <th></th>\n",
              "      <th></th>\n",
              "      <th></th>\n",
              "      <th></th>\n",
              "    </tr>\n",
              "  </thead>\n",
              "  <tbody>\n",
              "    <tr>\n",
              "      <th>PID0x6418</th>\n",
              "      <td>10</td>\n",
              "      <td>4.760603</td>\n",
              "      <td>Richard</td>\n",
              "      <td>NaN</td>\n",
              "      <td>None</td>\n",
              "    </tr>\n",
              "    <tr>\n",
              "      <th>PID0x25d5</th>\n",
              "      <td>200</td>\n",
              "      <td>4.910669</td>\n",
              "      <td>Mike</td>\n",
              "      <td>NaN</td>\n",
              "      <td>Cystic fibrosis</td>\n",
              "    </tr>\n",
              "    <tr>\n",
              "      <th>PID0x4a82</th>\n",
              "      <td>5</td>\n",
              "      <td>4.893297</td>\n",
              "      <td>Kimberly</td>\n",
              "      <td>NaN</td>\n",
              "      <td>Diabetes</td>\n",
              "    </tr>\n",
              "    <tr>\n",
              "      <th>PID0x4ac8</th>\n",
              "      <td>5</td>\n",
              "      <td>4.893297</td>\n",
              "      <td>Jeffery</td>\n",
              "      <td>Hoelscher</td>\n",
              "      <td>diabetes</td>\n",
              "    </tr>\n",
              "    <tr>\n",
              "      <th>PID0x1bf7</th>\n",
              "      <td>6</td>\n",
              "      <td>4.720703</td>\n",
              "      <td>Johanna</td>\n",
              "      <td></td>\n",
              "      <td>Cancer</td>\n",
              "    </tr>\n",
              "  </tbody>\n",
              "</table>\n",
              "</div>"
            ],
            "text/plain": [
              "            Patient Age Blood cell count (mcL) Patient First Name Family Name  \\\n",
              "Patient Id                                                                      \n",
              "PID0x6418            10               4.760603            Richard         NaN   \n",
              "PID0x25d5           200               4.910669               Mike         NaN   \n",
              "PID0x4a82             5               4.893297           Kimberly         NaN   \n",
              "PID0x4ac8             5               4.893297            Jeffery   Hoelscher   \n",
              "PID0x1bf7             6               4.720703            Johanna               \n",
              "\n",
              "           Disorder Subclass  \n",
              "Patient Id                    \n",
              "PID0x6418               None  \n",
              "PID0x25d5    Cystic fibrosis  \n",
              "PID0x4a82           Diabetes  \n",
              "PID0x4ac8           diabetes  \n",
              "PID0x1bf7             Cancer  "
            ]
          },
          "execution_count": 17,
          "metadata": {},
          "output_type": "execute_result"
        }
      ],
      "source": [
        "df = df.set_index(\"Patient Id\")\n",
        "df"
      ]
    },
    {
      "cell_type": "markdown",
      "metadata": {
        "id": "slus-uhpMAzE"
      },
      "source": [
        "Now, we can use the loc statement to access the observation using the key, a we did with dictionaries:"
      ]
    },
    {
      "cell_type": "code",
      "execution_count": 18,
      "metadata": {
        "colab": {
          "base_uri": "https://localhost:8080/"
        },
        "id": "W5KSj1shLyq2",
        "outputId": "4efacbc4-a2dd-48b4-943a-ce2fa7357969"
      },
      "outputs": [
        {
          "data": {
            "text/plain": [
              "Patient Age                     10\n",
              "Blood cell count (mcL)    4.760603\n",
              "Patient First Name         Richard\n",
              "Family Name                    NaN\n",
              "Disorder Subclass             None\n",
              "Name: PID0x6418, dtype: object"
            ]
          },
          "execution_count": 18,
          "metadata": {},
          "output_type": "execute_result"
        }
      ],
      "source": [
        "df.loc[\"PID0x6418\"]"
      ]
    },
    {
      "cell_type": "markdown",
      "metadata": {
        "id": "Ceyn7954MWN8"
      },
      "source": [
        "### Removing Outliers\n",
        "\n",
        "We realized that an age of 200 in not realistic. One common way to deal whith this is to replace the value with an average from the remaining data."
      ]
    },
    {
      "cell_type": "code",
      "execution_count": 19,
      "metadata": {
        "colab": {
          "base_uri": "https://localhost:8080/"
        },
        "id": "S91tzN8FNdwl",
        "outputId": "95c119fc-ff82-4f9e-ea67-c16f051b11d9"
      },
      "outputs": [
        {
          "data": {
            "text/plain": [
              "45.2"
            ]
          },
          "execution_count": 19,
          "metadata": {},
          "output_type": "execute_result"
        }
      ],
      "source": [
        "mean_age = df['Patient Age'].mean()\n",
        "mean_age"
      ]
    },
    {
      "cell_type": "markdown",
      "metadata": {
        "id": "CsnriM_NN3mW"
      },
      "source": [
        "We can use ```.loc[]``` do chage this specific value:"
      ]
    },
    {
      "cell_type": "code",
      "execution_count": 20,
      "metadata": {
        "colab": {
          "base_uri": "https://localhost:8080/",
          "height": 237
        },
        "id": "dAhIXZwkMN_9",
        "outputId": "c0e5e1d5-7067-42cc-9195-34524e1f9c3e"
      },
      "outputs": [
        {
          "data": {
            "text/html": [
              "<div>\n",
              "<style scoped>\n",
              "    .dataframe tbody tr th:only-of-type {\n",
              "        vertical-align: middle;\n",
              "    }\n",
              "\n",
              "    .dataframe tbody tr th {\n",
              "        vertical-align: top;\n",
              "    }\n",
              "\n",
              "    .dataframe thead th {\n",
              "        text-align: right;\n",
              "    }\n",
              "</style>\n",
              "<table border=\"1\" class=\"dataframe\">\n",
              "  <thead>\n",
              "    <tr style=\"text-align: right;\">\n",
              "      <th></th>\n",
              "      <th>Patient Age</th>\n",
              "      <th>Blood cell count (mcL)</th>\n",
              "      <th>Patient First Name</th>\n",
              "      <th>Family Name</th>\n",
              "      <th>Disorder Subclass</th>\n",
              "    </tr>\n",
              "    <tr>\n",
              "      <th>Patient Id</th>\n",
              "      <th></th>\n",
              "      <th></th>\n",
              "      <th></th>\n",
              "      <th></th>\n",
              "      <th></th>\n",
              "    </tr>\n",
              "  </thead>\n",
              "  <tbody>\n",
              "    <tr>\n",
              "      <th>PID0x6418</th>\n",
              "      <td>10.0</td>\n",
              "      <td>4.760603</td>\n",
              "      <td>Richard</td>\n",
              "      <td>NaN</td>\n",
              "      <td>None</td>\n",
              "    </tr>\n",
              "    <tr>\n",
              "      <th>PID0x25d5</th>\n",
              "      <td>45.2</td>\n",
              "      <td>4.910669</td>\n",
              "      <td>Mike</td>\n",
              "      <td>NaN</td>\n",
              "      <td>Cystic fibrosis</td>\n",
              "    </tr>\n",
              "    <tr>\n",
              "      <th>PID0x4a82</th>\n",
              "      <td>5.0</td>\n",
              "      <td>4.893297</td>\n",
              "      <td>Kimberly</td>\n",
              "      <td>NaN</td>\n",
              "      <td>Diabetes</td>\n",
              "    </tr>\n",
              "    <tr>\n",
              "      <th>PID0x4ac8</th>\n",
              "      <td>5.0</td>\n",
              "      <td>4.893297</td>\n",
              "      <td>Jeffery</td>\n",
              "      <td>Hoelscher</td>\n",
              "      <td>diabetes</td>\n",
              "    </tr>\n",
              "    <tr>\n",
              "      <th>PID0x1bf7</th>\n",
              "      <td>6.0</td>\n",
              "      <td>4.720703</td>\n",
              "      <td>Johanna</td>\n",
              "      <td></td>\n",
              "      <td>Cancer</td>\n",
              "    </tr>\n",
              "  </tbody>\n",
              "</table>\n",
              "</div>"
            ],
            "text/plain": [
              "            Patient Age Blood cell count (mcL) Patient First Name Family Name  \\\n",
              "Patient Id                                                                      \n",
              "PID0x6418          10.0               4.760603            Richard         NaN   \n",
              "PID0x25d5          45.2               4.910669               Mike         NaN   \n",
              "PID0x4a82           5.0               4.893297           Kimberly         NaN   \n",
              "PID0x4ac8           5.0               4.893297            Jeffery   Hoelscher   \n",
              "PID0x1bf7           6.0               4.720703            Johanna               \n",
              "\n",
              "           Disorder Subclass  \n",
              "Patient Id                    \n",
              "PID0x6418               None  \n",
              "PID0x25d5    Cystic fibrosis  \n",
              "PID0x4a82           Diabetes  \n",
              "PID0x4ac8           diabetes  \n",
              "PID0x1bf7             Cancer  "
            ]
          },
          "execution_count": 20,
          "metadata": {},
          "output_type": "execute_result"
        }
      ],
      "source": [
        "df.loc[df['Patient Age']>80,'Patient Age'] = mean_age\n",
        "df"
      ]
    },
    {
      "cell_type": "markdown",
      "metadata": {
        "id": "FhAWr_wPvVGT"
      },
      "source": [
        "# 🏁 Recap\n",
        "\n",
        "- If you have finished the tasks and have no questions, place the green card on top.\n",
        "- If you have finished the tasks but would like to discuss the solutions together again, place the yellow card on top.\n",
        "\n",
        "![](https://www.lokalinfo.ch/fileadmin/news_import/image003_03.jpg)"
      ]
    },
    {
      "cell_type": "markdown",
      "metadata": {
        "id": "uVADJwhQOE4w"
      },
      "source": [
        "✍️ **Task**\n",
        "\n",
        "As the age of 45.2 still seems to be an outlier in that data set, replace the age of all the observations with an age older then 45 by 10:"
      ]
    },
    {
      "cell_type": "code",
      "execution_count": 21,
      "metadata": {
        "colab": {
          "base_uri": "https://localhost:8080/",
          "height": 237
        },
        "id": "7S7oNQS5M5GU",
        "outputId": "fddda5b6-d428-4cc6-a65a-aec989cf15b7"
      },
      "outputs": [
        {
          "data": {
            "text/html": [
              "<div>\n",
              "<style scoped>\n",
              "    .dataframe tbody tr th:only-of-type {\n",
              "        vertical-align: middle;\n",
              "    }\n",
              "\n",
              "    .dataframe tbody tr th {\n",
              "        vertical-align: top;\n",
              "    }\n",
              "\n",
              "    .dataframe thead th {\n",
              "        text-align: right;\n",
              "    }\n",
              "</style>\n",
              "<table border=\"1\" class=\"dataframe\">\n",
              "  <thead>\n",
              "    <tr style=\"text-align: right;\">\n",
              "      <th></th>\n",
              "      <th>Patient Age</th>\n",
              "      <th>Blood cell count (mcL)</th>\n",
              "      <th>Patient First Name</th>\n",
              "      <th>Family Name</th>\n",
              "      <th>Disorder Subclass</th>\n",
              "    </tr>\n",
              "    <tr>\n",
              "      <th>Patient Id</th>\n",
              "      <th></th>\n",
              "      <th></th>\n",
              "      <th></th>\n",
              "      <th></th>\n",
              "      <th></th>\n",
              "    </tr>\n",
              "  </thead>\n",
              "  <tbody>\n",
              "    <tr>\n",
              "      <th>PID0x6418</th>\n",
              "      <td>10.0</td>\n",
              "      <td>4.760603</td>\n",
              "      <td>Richard</td>\n",
              "      <td>NaN</td>\n",
              "      <td>None</td>\n",
              "    </tr>\n",
              "    <tr>\n",
              "      <th>PID0x25d5</th>\n",
              "      <td>10.0</td>\n",
              "      <td>4.910669</td>\n",
              "      <td>Mike</td>\n",
              "      <td>NaN</td>\n",
              "      <td>Cystic fibrosis</td>\n",
              "    </tr>\n",
              "    <tr>\n",
              "      <th>PID0x4a82</th>\n",
              "      <td>5.0</td>\n",
              "      <td>4.893297</td>\n",
              "      <td>Kimberly</td>\n",
              "      <td>NaN</td>\n",
              "      <td>Diabetes</td>\n",
              "    </tr>\n",
              "    <tr>\n",
              "      <th>PID0x4ac8</th>\n",
              "      <td>5.0</td>\n",
              "      <td>4.893297</td>\n",
              "      <td>Jeffery</td>\n",
              "      <td>Hoelscher</td>\n",
              "      <td>diabetes</td>\n",
              "    </tr>\n",
              "    <tr>\n",
              "      <th>PID0x1bf7</th>\n",
              "      <td>6.0</td>\n",
              "      <td>4.720703</td>\n",
              "      <td>Johanna</td>\n",
              "      <td></td>\n",
              "      <td>Cancer</td>\n",
              "    </tr>\n",
              "  </tbody>\n",
              "</table>\n",
              "</div>"
            ],
            "text/plain": [
              "            Patient Age Blood cell count (mcL) Patient First Name Family Name  \\\n",
              "Patient Id                                                                      \n",
              "PID0x6418          10.0               4.760603            Richard         NaN   \n",
              "PID0x25d5          10.0               4.910669               Mike         NaN   \n",
              "PID0x4a82           5.0               4.893297           Kimberly         NaN   \n",
              "PID0x4ac8           5.0               4.893297            Jeffery   Hoelscher   \n",
              "PID0x1bf7           6.0               4.720703            Johanna               \n",
              "\n",
              "           Disorder Subclass  \n",
              "Patient Id                    \n",
              "PID0x6418               None  \n",
              "PID0x25d5    Cystic fibrosis  \n",
              "PID0x4a82           Diabetes  \n",
              "PID0x4ac8           diabetes  \n",
              "PID0x1bf7             Cancer  "
            ]
          },
          "execution_count": 21,
          "metadata": {},
          "output_type": "execute_result"
        }
      ],
      "source": [
        "df.loc[df['Patient Age']>45,'Patient Age'] = 10\n",
        "df"
      ]
    },
    {
      "cell_type": "markdown",
      "metadata": {
        "id": "JfkClOzUTrJe"
      },
      "source": [
        "### Removing Obeservations with missing data\n",
        "\n",
        "If we have more than enough data at and in might be the best to remove observations with missing data. The function ```.dropna(how=\"any\")``` removes all rows that contain a ```None``` or `NaN` value in **any** of the columns.\n",
        "\n"
      ]
    },
    {
      "cell_type": "code",
      "execution_count": 22,
      "metadata": {
        "colab": {
          "base_uri": "https://localhost:8080/",
          "height": 237
        },
        "id": "Be5AVUz6Trpd",
        "outputId": "1591e605-b2d4-4ef8-edd9-733c34a0e265"
      },
      "outputs": [
        {
          "data": {
            "text/html": [
              "<div>\n",
              "<style scoped>\n",
              "    .dataframe tbody tr th:only-of-type {\n",
              "        vertical-align: middle;\n",
              "    }\n",
              "\n",
              "    .dataframe tbody tr th {\n",
              "        vertical-align: top;\n",
              "    }\n",
              "\n",
              "    .dataframe thead th {\n",
              "        text-align: right;\n",
              "    }\n",
              "</style>\n",
              "<table border=\"1\" class=\"dataframe\">\n",
              "  <thead>\n",
              "    <tr style=\"text-align: right;\">\n",
              "      <th></th>\n",
              "      <th>Patient Age</th>\n",
              "      <th>Blood cell count (mcL)</th>\n",
              "      <th>Patient First Name</th>\n",
              "      <th>Family Name</th>\n",
              "      <th>Disorder Subclass</th>\n",
              "    </tr>\n",
              "    <tr>\n",
              "      <th>Patient Id</th>\n",
              "      <th></th>\n",
              "      <th></th>\n",
              "      <th></th>\n",
              "      <th></th>\n",
              "      <th></th>\n",
              "    </tr>\n",
              "  </thead>\n",
              "  <tbody>\n",
              "    <tr>\n",
              "      <th>PID0x6418</th>\n",
              "      <td>10.0</td>\n",
              "      <td>4.760603</td>\n",
              "      <td>Richard</td>\n",
              "      <td>NaN</td>\n",
              "      <td>None</td>\n",
              "    </tr>\n",
              "    <tr>\n",
              "      <th>PID0x25d5</th>\n",
              "      <td>10.0</td>\n",
              "      <td>4.910669</td>\n",
              "      <td>Mike</td>\n",
              "      <td>NaN</td>\n",
              "      <td>Cystic fibrosis</td>\n",
              "    </tr>\n",
              "    <tr>\n",
              "      <th>PID0x4a82</th>\n",
              "      <td>5.0</td>\n",
              "      <td>4.893297</td>\n",
              "      <td>Kimberly</td>\n",
              "      <td>NaN</td>\n",
              "      <td>Diabetes</td>\n",
              "    </tr>\n",
              "    <tr>\n",
              "      <th>PID0x4ac8</th>\n",
              "      <td>5.0</td>\n",
              "      <td>4.893297</td>\n",
              "      <td>Jeffery</td>\n",
              "      <td>Hoelscher</td>\n",
              "      <td>diabetes</td>\n",
              "    </tr>\n",
              "    <tr>\n",
              "      <th>PID0x1bf7</th>\n",
              "      <td>6.0</td>\n",
              "      <td>4.720703</td>\n",
              "      <td>Johanna</td>\n",
              "      <td></td>\n",
              "      <td>Cancer</td>\n",
              "    </tr>\n",
              "  </tbody>\n",
              "</table>\n",
              "</div>"
            ],
            "text/plain": [
              "            Patient Age Blood cell count (mcL) Patient First Name Family Name  \\\n",
              "Patient Id                                                                      \n",
              "PID0x6418          10.0               4.760603            Richard         NaN   \n",
              "PID0x25d5          10.0               4.910669               Mike         NaN   \n",
              "PID0x4a82           5.0               4.893297           Kimberly         NaN   \n",
              "PID0x4ac8           5.0               4.893297            Jeffery   Hoelscher   \n",
              "PID0x1bf7           6.0               4.720703            Johanna               \n",
              "\n",
              "           Disorder Subclass  \n",
              "Patient Id                    \n",
              "PID0x6418               None  \n",
              "PID0x25d5    Cystic fibrosis  \n",
              "PID0x4a82           Diabetes  \n",
              "PID0x4ac8           diabetes  \n",
              "PID0x1bf7             Cancer  "
            ]
          },
          "execution_count": 22,
          "metadata": {},
          "output_type": "execute_result"
        }
      ],
      "source": [
        "df.dropna(how=\"any\")\n",
        "df"
      ]
    },
    {
      "cell_type": "markdown",
      "metadata": {
        "id": "ekkb6G72OXD-"
      },
      "source": [
        "### Replacing and Filling missing values\n",
        "\n",
        "We have diffent kinds of missing values. A missing Familiy Name is coded by an empty sting or \"NaN\", while an empty disorder subclass is coded by a ```None``` type. Only the ```None``` type values are real missing values, that are treated by the `dropna()` function.\n"
      ]
    },
    {
      "cell_type": "code",
      "execution_count": 23,
      "metadata": {
        "colab": {
          "base_uri": "https://localhost:8080/",
          "height": 206
        },
        "id": "VKtB-MH3OdS1",
        "outputId": "695923bf-4444-474a-b70a-d04c9bfbaa39"
      },
      "outputs": [
        {
          "data": {
            "text/html": [
              "<div>\n",
              "<style scoped>\n",
              "    .dataframe tbody tr th:only-of-type {\n",
              "        vertical-align: middle;\n",
              "    }\n",
              "\n",
              "    .dataframe tbody tr th {\n",
              "        vertical-align: top;\n",
              "    }\n",
              "\n",
              "    .dataframe thead th {\n",
              "        text-align: right;\n",
              "    }\n",
              "</style>\n",
              "<table border=\"1\" class=\"dataframe\">\n",
              "  <thead>\n",
              "    <tr style=\"text-align: right;\">\n",
              "      <th></th>\n",
              "      <th>Patient Id</th>\n",
              "      <th>Patient Age</th>\n",
              "      <th>Blood cell count (mcL)</th>\n",
              "      <th>Patient First Name</th>\n",
              "      <th>Family Name</th>\n",
              "      <th>Disorder Subclass</th>\n",
              "    </tr>\n",
              "  </thead>\n",
              "  <tbody>\n",
              "    <tr>\n",
              "      <th>1</th>\n",
              "      <td>PID0x6418</td>\n",
              "      <td>10</td>\n",
              "      <td>4.760603</td>\n",
              "      <td>Richard</td>\n",
              "      <td>NaN</td>\n",
              "      <td>None</td>\n",
              "    </tr>\n",
              "    <tr>\n",
              "      <th>2</th>\n",
              "      <td>PID0x25d5</td>\n",
              "      <td>200</td>\n",
              "      <td>4.910669</td>\n",
              "      <td>Mike</td>\n",
              "      <td>NaN</td>\n",
              "      <td>Cystic fibrosis</td>\n",
              "    </tr>\n",
              "    <tr>\n",
              "      <th>3</th>\n",
              "      <td>PID0x4a82</td>\n",
              "      <td>5</td>\n",
              "      <td>4.893297</td>\n",
              "      <td>Kimberly</td>\n",
              "      <td>NaN</td>\n",
              "      <td>Diabetes</td>\n",
              "    </tr>\n",
              "    <tr>\n",
              "      <th>4</th>\n",
              "      <td>PID0x4ac8</td>\n",
              "      <td>5</td>\n",
              "      <td>4.893297</td>\n",
              "      <td>Jeffery</td>\n",
              "      <td>Hoelscher</td>\n",
              "      <td>diabetes</td>\n",
              "    </tr>\n",
              "    <tr>\n",
              "      <th>5</th>\n",
              "      <td>PID0x1bf7</td>\n",
              "      <td>6</td>\n",
              "      <td>4.720703</td>\n",
              "      <td>Johanna</td>\n",
              "      <td></td>\n",
              "      <td>Cancer</td>\n",
              "    </tr>\n",
              "  </tbody>\n",
              "</table>\n",
              "</div>"
            ],
            "text/plain": [
              "  Patient Id  Patient Age Blood cell count (mcL) Patient First Name  \\\n",
              "1  PID0x6418           10               4.760603            Richard   \n",
              "2  PID0x25d5          200               4.910669               Mike   \n",
              "3  PID0x4a82            5               4.893297           Kimberly   \n",
              "4  PID0x4ac8            5               4.893297            Jeffery   \n",
              "5  PID0x1bf7            6               4.720703            Johanna   \n",
              "\n",
              "  Family Name Disorder Subclass  \n",
              "1         NaN              None  \n",
              "2         NaN   Cystic fibrosis  \n",
              "3         NaN          Diabetes  \n",
              "4   Hoelscher          diabetes  \n",
              "5                        Cancer  "
            ]
          },
          "execution_count": 23,
          "metadata": {},
          "output_type": "execute_result"
        }
      ],
      "source": [
        "data = {\"Patient Id\" : [\"PID0x6418\",\"PID0x6418\",\"PID0x25d5\",\"PID0x4a82\",\"PID0x4ac8\",\"PID0x1bf7\"],\t\"Patient Age\" : [10,10, 200,5,5,6], \"Blood cell count (mcL)\" : [\"4.760603\",\"4.760603\", \"4.910669\", \"4.893297\", \"4.893297\", \"4.720703\"], \"Patient First Name\" : [\"Richard\", \"Richard\", \"Mike\", \"Kimberly\", \"Jeffery\", \"Johanna\"], \"Family Name\" : [\"NaN\",\"NaN\", \"NaN\", \"NaN\", \"Hoelscher\", \"\" ], \"Disorder Subclass\" :[None, None, \"Cystic fibrosis\", \"Diabetes\", \"diabetes\", \"Cancer\"]}\n",
        "\n",
        "df=pd.DataFrame(data)\n",
        "\n",
        "df.tail()"
      ]
    },
    {
      "cell_type": "markdown",
      "metadata": {
        "id": "c6_t2dyPSgnf"
      },
      "source": [
        "To replace values in a data frame with other, we can use the ```replace``` function. As a parameter, we define a dictionary, that tells pandas, what keys to replace witgh which values:\n"
      ]
    },
    {
      "cell_type": "code",
      "execution_count": 24,
      "metadata": {
        "colab": {
          "base_uri": "https://localhost:8080/",
          "height": 237
        },
        "id": "j2Gi0BOERvR3",
        "outputId": "14d1de6a-ea06-45c8-8790-cb4d1a97c9bb"
      },
      "outputs": [
        {
          "data": {
            "text/html": [
              "<div>\n",
              "<style scoped>\n",
              "    .dataframe tbody tr th:only-of-type {\n",
              "        vertical-align: middle;\n",
              "    }\n",
              "\n",
              "    .dataframe tbody tr th {\n",
              "        vertical-align: top;\n",
              "    }\n",
              "\n",
              "    .dataframe thead th {\n",
              "        text-align: right;\n",
              "    }\n",
              "</style>\n",
              "<table border=\"1\" class=\"dataframe\">\n",
              "  <thead>\n",
              "    <tr style=\"text-align: right;\">\n",
              "      <th></th>\n",
              "      <th>Patient Id</th>\n",
              "      <th>Patient Age</th>\n",
              "      <th>Blood cell count (mcL)</th>\n",
              "      <th>Patient First Name</th>\n",
              "      <th>Family Name</th>\n",
              "      <th>Disorder Subclass</th>\n",
              "    </tr>\n",
              "  </thead>\n",
              "  <tbody>\n",
              "    <tr>\n",
              "      <th>0</th>\n",
              "      <td>PID0x6418</td>\n",
              "      <td>10</td>\n",
              "      <td>4.760603</td>\n",
              "      <td>Richard</td>\n",
              "      <td>None</td>\n",
              "      <td>None</td>\n",
              "    </tr>\n",
              "    <tr>\n",
              "      <th>1</th>\n",
              "      <td>PID0x6418</td>\n",
              "      <td>10</td>\n",
              "      <td>4.760603</td>\n",
              "      <td>Richard</td>\n",
              "      <td>None</td>\n",
              "      <td>None</td>\n",
              "    </tr>\n",
              "    <tr>\n",
              "      <th>2</th>\n",
              "      <td>PID0x25d5</td>\n",
              "      <td>200</td>\n",
              "      <td>4.910669</td>\n",
              "      <td>Mike</td>\n",
              "      <td>None</td>\n",
              "      <td>Cystic fibrosis</td>\n",
              "    </tr>\n",
              "    <tr>\n",
              "      <th>3</th>\n",
              "      <td>PID0x4a82</td>\n",
              "      <td>5</td>\n",
              "      <td>4.893297</td>\n",
              "      <td>Kimberly</td>\n",
              "      <td>None</td>\n",
              "      <td>Diabetes</td>\n",
              "    </tr>\n",
              "    <tr>\n",
              "      <th>4</th>\n",
              "      <td>PID0x4ac8</td>\n",
              "      <td>5</td>\n",
              "      <td>4.893297</td>\n",
              "      <td>Jeffery</td>\n",
              "      <td>Hoelscher</td>\n",
              "      <td>diabetes</td>\n",
              "    </tr>\n",
              "    <tr>\n",
              "      <th>5</th>\n",
              "      <td>PID0x1bf7</td>\n",
              "      <td>6</td>\n",
              "      <td>4.720703</td>\n",
              "      <td>Johanna</td>\n",
              "      <td>None</td>\n",
              "      <td>Cancer</td>\n",
              "    </tr>\n",
              "  </tbody>\n",
              "</table>\n",
              "</div>"
            ],
            "text/plain": [
              "  Patient Id  Patient Age Blood cell count (mcL) Patient First Name  \\\n",
              "0  PID0x6418           10               4.760603            Richard   \n",
              "1  PID0x6418           10               4.760603            Richard   \n",
              "2  PID0x25d5          200               4.910669               Mike   \n",
              "3  PID0x4a82            5               4.893297           Kimberly   \n",
              "4  PID0x4ac8            5               4.893297            Jeffery   \n",
              "5  PID0x1bf7            6               4.720703            Johanna   \n",
              "\n",
              "  Family Name Disorder Subclass  \n",
              "0        None              None  \n",
              "1        None              None  \n",
              "2        None   Cystic fibrosis  \n",
              "3        None          Diabetes  \n",
              "4   Hoelscher          diabetes  \n",
              "5        None            Cancer  "
            ]
          },
          "execution_count": 24,
          "metadata": {},
          "output_type": "execute_result"
        }
      ],
      "source": [
        "mapping = {\"\": None, \"NaN\": None}\n",
        "\n",
        "df[\"Family Name\"] = df[\"Family Name\"].replace(mapping)\n",
        "df"
      ]
    },
    {
      "cell_type": "markdown",
      "metadata": {
        "id": "kK-z1FAMWCVT"
      },
      "source": [
        "Now, that we have real empty values, we can use the missingno package to make a plot the the missing values:\n",
        "\n",
        "The plot shows, that we have full data for all patients for the first four columns, but in the fifth column (Family Name) there is only one full observation:"
      ]
    },
    {
      "cell_type": "code",
      "execution_count": 25,
      "metadata": {
        "colab": {
          "base_uri": "https://localhost:8080/",
          "height": 465
        },
        "id": "fhWzTJksV66i",
        "outputId": "d42be1f4-98f8-461b-a56a-f3b4af09e519"
      },
      "outputs": [
        {
          "data": {
            "text/plain": [
              "<AxesSubplot:>"
            ]
          },
          "execution_count": 25,
          "metadata": {},
          "output_type": "execute_result"
        },
        {
          "data": {
            "image/png": "[encoded data removed]",
            "text/plain": [
              "<Figure size 1080x360 with 2 Axes>"
            ]
          },
          "metadata": {
            "needs_background": "light"
          },
          "output_type": "display_data"
        }
      ],
      "source": [
        "import missingno as msno\n",
        "\n",
        "msno.matrix(df,figsize=(15,5))\n"
      ]
    },
    {
      "cell_type": "markdown",
      "metadata": {
        "id": "-gEkYvRKPpvZ"
      },
      "source": [
        "Now, that we have real empty values, we can replace then using the ```fillna()``` function:"
      ]
    },
    {
      "cell_type": "code",
      "execution_count": 26,
      "metadata": {
        "colab": {
          "base_uri": "https://localhost:8080/",
          "height": 238
        },
        "id": "Xl8JRmPmOds1",
        "outputId": "2eee2c55-0318-46df-a3f3-4bb1f870fcbb"
      },
      "outputs": [
        {
          "data": {
            "text/html": [
              "<div>\n",
              "<style scoped>\n",
              "    .dataframe tbody tr th:only-of-type {\n",
              "        vertical-align: middle;\n",
              "    }\n",
              "\n",
              "    .dataframe tbody tr th {\n",
              "        vertical-align: top;\n",
              "    }\n",
              "\n",
              "    .dataframe thead th {\n",
              "        text-align: right;\n",
              "    }\n",
              "</style>\n",
              "<table border=\"1\" class=\"dataframe\">\n",
              "  <thead>\n",
              "    <tr style=\"text-align: right;\">\n",
              "      <th></th>\n",
              "      <th>Patient Id</th>\n",
              "      <th>Patient Age</th>\n",
              "      <th>Blood cell count (mcL)</th>\n",
              "      <th>Patient First Name</th>\n",
              "      <th>Family Name</th>\n",
              "      <th>Disorder Subclass</th>\n",
              "    </tr>\n",
              "  </thead>\n",
              "  <tbody>\n",
              "    <tr>\n",
              "      <th>0</th>\n",
              "      <td>PID0x6418</td>\n",
              "      <td>10</td>\n",
              "      <td>4.760603</td>\n",
              "      <td>Richard</td>\n",
              "      <td>HERE IS NO DATA</td>\n",
              "      <td>HERE IS NO DATA</td>\n",
              "    </tr>\n",
              "    <tr>\n",
              "      <th>1</th>\n",
              "      <td>PID0x6418</td>\n",
              "      <td>10</td>\n",
              "      <td>4.760603</td>\n",
              "      <td>Richard</td>\n",
              "      <td>HERE IS NO DATA</td>\n",
              "      <td>HERE IS NO DATA</td>\n",
              "    </tr>\n",
              "    <tr>\n",
              "      <th>2</th>\n",
              "      <td>PID0x25d5</td>\n",
              "      <td>200</td>\n",
              "      <td>4.910669</td>\n",
              "      <td>Mike</td>\n",
              "      <td>HERE IS NO DATA</td>\n",
              "      <td>Cystic fibrosis</td>\n",
              "    </tr>\n",
              "    <tr>\n",
              "      <th>3</th>\n",
              "      <td>PID0x4a82</td>\n",
              "      <td>5</td>\n",
              "      <td>4.893297</td>\n",
              "      <td>Kimberly</td>\n",
              "      <td>HERE IS NO DATA</td>\n",
              "      <td>Diabetes</td>\n",
              "    </tr>\n",
              "    <tr>\n",
              "      <th>4</th>\n",
              "      <td>PID0x4ac8</td>\n",
              "      <td>5</td>\n",
              "      <td>4.893297</td>\n",
              "      <td>Jeffery</td>\n",
              "      <td>Hoelscher</td>\n",
              "      <td>diabetes</td>\n",
              "    </tr>\n",
              "    <tr>\n",
              "      <th>5</th>\n",
              "      <td>PID0x1bf7</td>\n",
              "      <td>6</td>\n",
              "      <td>4.720703</td>\n",
              "      <td>Johanna</td>\n",
              "      <td>HERE IS NO DATA</td>\n",
              "      <td>Cancer</td>\n",
              "    </tr>\n",
              "  </tbody>\n",
              "</table>\n",
              "</div>"
            ],
            "text/plain": [
              "  Patient Id  Patient Age Blood cell count (mcL) Patient First Name  \\\n",
              "0  PID0x6418           10               4.760603            Richard   \n",
              "1  PID0x6418           10               4.760603            Richard   \n",
              "2  PID0x25d5          200               4.910669               Mike   \n",
              "3  PID0x4a82            5               4.893297           Kimberly   \n",
              "4  PID0x4ac8            5               4.893297            Jeffery   \n",
              "5  PID0x1bf7            6               4.720703            Johanna   \n",
              "\n",
              "       Family Name Disorder Subclass  \n",
              "0  HERE IS NO DATA   HERE IS NO DATA  \n",
              "1  HERE IS NO DATA   HERE IS NO DATA  \n",
              "2  HERE IS NO DATA   Cystic fibrosis  \n",
              "3  HERE IS NO DATA          Diabetes  \n",
              "4        Hoelscher          diabetes  \n",
              "5  HERE IS NO DATA            Cancer  "
            ]
          },
          "execution_count": 26,
          "metadata": {},
          "output_type": "execute_result"
        }
      ],
      "source": [
        "df.fillna(\"HERE IS NO DATA\")"
      ]
    },
    {
      "cell_type": "markdown",
      "metadata": {
        "id": "ChJ5unZGvlPo"
      },
      "source": [
        "# 🏁 Recap\n",
        "\n",
        "- If you have finished the tasks and have no questions, place the green card on top.\n",
        "- If you have finished the tasks but would like to discuss the solutions together again, place the yellow card on top.\n",
        "\n",
        "![](https://www.lokalinfo.ch/fileadmin/news_import/image003_03.jpg)"
      ]
    },
    {
      "cell_type": "markdown",
      "metadata": {
        "id": "Cw0akMzjB0Y3"
      },
      "source": [
        "# 🏆 Case Study: Cleaning the disease data set\n",
        "\n",
        "We use the disease [data](https://www.kaggle.com/code/brsdincer/genomes-and-genetics-disorder-eda-process-i/data) we used before.\n",
        "\n",
        "You can download the ```train.csv``` file from sakai and upload it to the google Colab by clicking on the folder symbol to the left. Next, click on the arrow up symbol to upload the file.\n",
        "\n",
        "After the upload You can use the ```.read_csv()``` function to create a data frame from the CSV-File.\n",
        "\n",
        "Clean the data and create a report:\n",
        "- Read the data\n",
        "- Drop the following columns:\n",
        "  - \"Test 1\",\"Test 2\",\"Test 3\",\"Test 4\",\"Test 5\",\"Symptom 1\",\"Symptom 2\", \"Symptom 3\",\"Symptom 4\",\"Symptom 5\"\n",
        "- How many columns are there left?\n",
        "- What is the column with the most missing values?\n",
        "- What are the three most common familiy names?\n",
        "- Check the following colums and put in real ```None``` Values\n",
        "  - \"H/O radiation exposure (x-ray)\"\n",
        "  - \"H/O substance abuse\"\n",
        "- How many observations are there for each different Disorder Subclass\n",
        "- Check whether there are any irregularities (e.g., outliers) in the interval scaled data using the `describe()` function\n",
        "\n"
      ]
    },
    {
      "cell_type": "code",
      "execution_count": 101,
      "metadata": {
        "colab": {
          "base_uri": "https://localhost:8080/",
          "height": 594
        },
        "id": "PSNZBIpLBWSe",
        "outputId": "e97237e9-c575-469e-f6e7-678c528440b0"
      },
      "outputs": [
        {
          "data": {
            "text/html": [
              "<div>\n",
              "<style scoped>\n",
              "    .dataframe tbody tr th:only-of-type {\n",
              "        vertical-align: middle;\n",
              "    }\n",
              "\n",
              "    .dataframe tbody tr th {\n",
              "        vertical-align: top;\n",
              "    }\n",
              "\n",
              "    .dataframe thead th {\n",
              "        text-align: right;\n",
              "    }\n",
              "</style>\n",
              "<table border=\"1\" class=\"dataframe\">\n",
              "  <thead>\n",
              "    <tr style=\"text-align: right;\">\n",
              "      <th></th>\n",
              "      <th>Patient Id</th>\n",
              "      <th>Patient Age</th>\n",
              "      <th>Genes in mother's side</th>\n",
              "      <th>Inherited from father</th>\n",
              "      <th>Maternal gene</th>\n",
              "      <th>Paternal gene</th>\n",
              "      <th>Blood cell count (mcL)</th>\n",
              "      <th>Patient First Name</th>\n",
              "      <th>Family Name</th>\n",
              "      <th>Father's name</th>\n",
              "      <th>...</th>\n",
              "      <th>Birth defects</th>\n",
              "      <th>White Blood cell count (thousand per microliter)</th>\n",
              "      <th>Blood test result</th>\n",
              "      <th>Symptom 1</th>\n",
              "      <th>Symptom 2</th>\n",
              "      <th>Symptom 3</th>\n",
              "      <th>Symptom 4</th>\n",
              "      <th>Symptom 5</th>\n",
              "      <th>Genetic Disorder</th>\n",
              "      <th>Disorder Subclass</th>\n",
              "    </tr>\n",
              "  </thead>\n",
              "  <tbody>\n",
              "    <tr>\n",
              "      <th>0</th>\n",
              "      <td>PID0x6418</td>\n",
              "      <td>2.0</td>\n",
              "      <td>Yes</td>\n",
              "      <td>No</td>\n",
              "      <td>Yes</td>\n",
              "      <td>No</td>\n",
              "      <td>4.760603</td>\n",
              "      <td>Richard</td>\n",
              "      <td>NaN</td>\n",
              "      <td>Larre</td>\n",
              "      <td>...</td>\n",
              "      <td>NaN</td>\n",
              "      <td>9.857562</td>\n",
              "      <td>NaN</td>\n",
              "      <td>1.0</td>\n",
              "      <td>1.0</td>\n",
              "      <td>1.0</td>\n",
              "      <td>1.0</td>\n",
              "      <td>1.0</td>\n",
              "      <td>Mitochondrial genetic inheritance disorders</td>\n",
              "      <td>Leber's hereditary optic neuropathy</td>\n",
              "    </tr>\n",
              "    <tr>\n",
              "      <th>1</th>\n",
              "      <td>PID0x25d5</td>\n",
              "      <td>4.0</td>\n",
              "      <td>Yes</td>\n",
              "      <td>Yes</td>\n",
              "      <td>No</td>\n",
              "      <td>No</td>\n",
              "      <td>4.910669</td>\n",
              "      <td>Mike</td>\n",
              "      <td>NaN</td>\n",
              "      <td>Brycen</td>\n",
              "      <td>...</td>\n",
              "      <td>Multiple</td>\n",
              "      <td>5.522560</td>\n",
              "      <td>normal</td>\n",
              "      <td>1.0</td>\n",
              "      <td>NaN</td>\n",
              "      <td>1.0</td>\n",
              "      <td>1.0</td>\n",
              "      <td>0.0</td>\n",
              "      <td>NaN</td>\n",
              "      <td>Cystic fibrosis</td>\n",
              "    </tr>\n",
              "    <tr>\n",
              "      <th>2</th>\n",
              "      <td>PID0x4a82</td>\n",
              "      <td>6.0</td>\n",
              "      <td>Yes</td>\n",
              "      <td>No</td>\n",
              "      <td>No</td>\n",
              "      <td>No</td>\n",
              "      <td>4.893297</td>\n",
              "      <td>Kimberly</td>\n",
              "      <td>NaN</td>\n",
              "      <td>Nashon</td>\n",
              "      <td>...</td>\n",
              "      <td>Singular</td>\n",
              "      <td>NaN</td>\n",
              "      <td>normal</td>\n",
              "      <td>0.0</td>\n",
              "      <td>1.0</td>\n",
              "      <td>1.0</td>\n",
              "      <td>1.0</td>\n",
              "      <td>1.0</td>\n",
              "      <td>Multifactorial genetic inheritance disorders</td>\n",
              "      <td>Diabetes</td>\n",
              "    </tr>\n",
              "    <tr>\n",
              "      <th>3</th>\n",
              "      <td>PID0x4ac8</td>\n",
              "      <td>12.0</td>\n",
              "      <td>Yes</td>\n",
              "      <td>No</td>\n",
              "      <td>Yes</td>\n",
              "      <td>No</td>\n",
              "      <td>4.705280</td>\n",
              "      <td>Jeffery</td>\n",
              "      <td>Hoelscher</td>\n",
              "      <td>Aayaan</td>\n",
              "      <td>...</td>\n",
              "      <td>Singular</td>\n",
              "      <td>7.919321</td>\n",
              "      <td>inconclusive</td>\n",
              "      <td>0.0</td>\n",
              "      <td>0.0</td>\n",
              "      <td>1.0</td>\n",
              "      <td>0.0</td>\n",
              "      <td>0.0</td>\n",
              "      <td>Mitochondrial genetic inheritance disorders</td>\n",
              "      <td>Leigh syndrome</td>\n",
              "    </tr>\n",
              "    <tr>\n",
              "      <th>4</th>\n",
              "      <td>PID0x1bf7</td>\n",
              "      <td>11.0</td>\n",
              "      <td>Yes</td>\n",
              "      <td>No</td>\n",
              "      <td>NaN</td>\n",
              "      <td>Yes</td>\n",
              "      <td>4.720703</td>\n",
              "      <td>Johanna</td>\n",
              "      <td>Stutzman</td>\n",
              "      <td>Suave</td>\n",
              "      <td>...</td>\n",
              "      <td>Multiple</td>\n",
              "      <td>4.098210</td>\n",
              "      <td>NaN</td>\n",
              "      <td>0.0</td>\n",
              "      <td>0.0</td>\n",
              "      <td>0.0</td>\n",
              "      <td>0.0</td>\n",
              "      <td>NaN</td>\n",
              "      <td>Multifactorial genetic inheritance disorders</td>\n",
              "      <td>Cancer</td>\n",
              "    </tr>\n",
              "  </tbody>\n",
              "</table>\n",
              "<p>5 rows × 45 columns</p>\n",
              "</div>"
            ],
            "text/plain": [
              "  Patient Id  Patient Age Genes in mother's side Inherited from father  \\\n",
              "0  PID0x6418          2.0                    Yes                    No   \n",
              "1  PID0x25d5          4.0                    Yes                   Yes   \n",
              "2  PID0x4a82          6.0                    Yes                    No   \n",
              "3  PID0x4ac8         12.0                    Yes                    No   \n",
              "4  PID0x1bf7         11.0                    Yes                    No   \n",
              "\n",
              "  Maternal gene Paternal gene  Blood cell count (mcL) Patient First Name  \\\n",
              "0           Yes            No                4.760603            Richard   \n",
              "1            No            No                4.910669               Mike   \n",
              "2            No            No                4.893297           Kimberly   \n",
              "3           Yes            No                4.705280            Jeffery   \n",
              "4           NaN           Yes                4.720703            Johanna   \n",
              "\n",
              "  Family Name Father's name  ...  Birth defects  \\\n",
              "0         NaN         Larre  ...            NaN   \n",
              "1         NaN        Brycen  ...       Multiple   \n",
              "2         NaN        Nashon  ...       Singular   \n",
              "3   Hoelscher        Aayaan  ...       Singular   \n",
              "4    Stutzman         Suave  ...       Multiple   \n",
              "\n",
              "   White Blood cell count (thousand per microliter) Blood test result  \\\n",
              "0                                          9.857562               NaN   \n",
              "1                                          5.522560            normal   \n",
              "2                                               NaN            normal   \n",
              "3                                          7.919321      inconclusive   \n",
              "4                                          4.098210               NaN   \n",
              "\n",
              "  Symptom 1 Symptom 2 Symptom 3 Symptom 4  Symptom 5  \\\n",
              "0       1.0       1.0       1.0       1.0        1.0   \n",
              "1       1.0       NaN       1.0       1.0        0.0   \n",
              "2       0.0       1.0       1.0       1.0        1.0   \n",
              "3       0.0       0.0       1.0       0.0        0.0   \n",
              "4       0.0       0.0       0.0       0.0        NaN   \n",
              "\n",
              "                               Genetic Disorder  \\\n",
              "0   Mitochondrial genetic inheritance disorders   \n",
              "1                                           NaN   \n",
              "2  Multifactorial genetic inheritance disorders   \n",
              "3   Mitochondrial genetic inheritance disorders   \n",
              "4  Multifactorial genetic inheritance disorders   \n",
              "\n",
              "                     Disorder Subclass  \n",
              "0  Leber's hereditary optic neuropathy  \n",
              "1                      Cystic fibrosis  \n",
              "2                             Diabetes  \n",
              "3                       Leigh syndrome  \n",
              "4                               Cancer  \n",
              "\n",
              "[5 rows x 45 columns]"
            ]
          },
          "execution_count": 101,
          "metadata": {},
          "output_type": "execute_result"
        }
      ],
      "source": [
        "# read the data\n",
        "disease_data = pd.read_csv(\"data/genetic_disorders/train.csv\",delimiter=\",\")\n",
        "\n",
        "disease_data.head()"
      ]
    },
    {
      "cell_type": "code",
      "execution_count": 79,
      "metadata": {
        "colab": {
          "base_uri": "https://localhost:8080/"
        },
        "id": "hlyLIm9ofNI_",
        "outputId": "64989e8a-818b-4bd3-9273-b23024ccfe34"
      },
      "outputs": [
        {
          "data": {
            "text/plain": [
              "Index(['Patient Id', 'Patient Age', 'Genes in mother's side',\n",
              "       'Inherited from father', 'Maternal gene', 'Paternal gene',\n",
              "       'Blood cell count (mcL)', 'Patient First Name', 'Family Name',\n",
              "       'Father's name', 'Mother's age', 'Father's age', 'Institute Name',\n",
              "       'Location of Institute', 'Status', 'Respiratory Rate (breaths/min)',\n",
              "       'Heart Rate (rates/min', 'Parental consent', 'Follow-up', 'Gender',\n",
              "       'Birth asphyxia', 'Autopsy shows birth defect (if applicable)',\n",
              "       'Place of birth', 'Folic acid details (peri-conceptional)',\n",
              "       'H/O serious maternal illness', 'H/O radiation exposure (x-ray)',\n",
              "       'H/O substance abuse', 'Assisted conception IVF/ART',\n",
              "       'History of anomalies in previous pregnancies',\n",
              "       'No. of previous abortion', 'Birth defects',\n",
              "       'White Blood cell count (thousand per microliter)', 'Blood test result',\n",
              "       'Genetic Disorder', 'Disorder Subclass'],\n",
              "      dtype='object')"
            ]
          },
          "execution_count": 79,
          "metadata": {},
          "output_type": "execute_result"
        }
      ],
      "source": [
        "# drop the following columns\n",
        "\n",
        "disease_data = disease_data.drop(columns = [\"Test 1\",\"Test 2\",\"Test 3\",\"Test 4\",\"Test 5\",\"Symptom 1\",\"Symptom 2\", \"Symptom 3\",\"Symptom 4\",\"Symptom 5\"])\n",
        "disease_data.columns"
      ]
    },
    {
      "cell_type": "code",
      "execution_count": 80,
      "metadata": {},
      "outputs": [
        {
          "data": {
            "text/html": [
              "<div>\n",
              "<style scoped>\n",
              "    .dataframe tbody tr th:only-of-type {\n",
              "        vertical-align: middle;\n",
              "    }\n",
              "\n",
              "    .dataframe tbody tr th {\n",
              "        vertical-align: top;\n",
              "    }\n",
              "\n",
              "    .dataframe thead th {\n",
              "        text-align: right;\n",
              "    }\n",
              "</style>\n",
              "<table border=\"1\" class=\"dataframe\">\n",
              "  <thead>\n",
              "    <tr style=\"text-align: right;\">\n",
              "      <th></th>\n",
              "      <th>Patient Id</th>\n",
              "      <th>Patient Age</th>\n",
              "      <th>Genes in mother's side</th>\n",
              "      <th>Inherited from father</th>\n",
              "      <th>Maternal gene</th>\n",
              "      <th>Paternal gene</th>\n",
              "      <th>Blood cell count (mcL)</th>\n",
              "      <th>Patient First Name</th>\n",
              "      <th>Family Name</th>\n",
              "      <th>Father's name</th>\n",
              "      <th>...</th>\n",
              "      <th>H/O radiation exposure (x-ray)</th>\n",
              "      <th>H/O substance abuse</th>\n",
              "      <th>Assisted conception IVF/ART</th>\n",
              "      <th>History of anomalies in previous pregnancies</th>\n",
              "      <th>No. of previous abortion</th>\n",
              "      <th>Birth defects</th>\n",
              "      <th>White Blood cell count (thousand per microliter)</th>\n",
              "      <th>Blood test result</th>\n",
              "      <th>Genetic Disorder</th>\n",
              "      <th>Disorder Subclass</th>\n",
              "    </tr>\n",
              "  </thead>\n",
              "  <tbody>\n",
              "    <tr>\n",
              "      <th>0</th>\n",
              "      <td>PID0x6418</td>\n",
              "      <td>2.0</td>\n",
              "      <td>Yes</td>\n",
              "      <td>No</td>\n",
              "      <td>Yes</td>\n",
              "      <td>No</td>\n",
              "      <td>4.760603</td>\n",
              "      <td>Richard</td>\n",
              "      <td>NaN</td>\n",
              "      <td>Larre</td>\n",
              "      <td>...</td>\n",
              "      <td>No</td>\n",
              "      <td>No</td>\n",
              "      <td>No</td>\n",
              "      <td>Yes</td>\n",
              "      <td>NaN</td>\n",
              "      <td>NaN</td>\n",
              "      <td>9.857562</td>\n",
              "      <td>NaN</td>\n",
              "      <td>Mitochondrial genetic inheritance disorders</td>\n",
              "      <td>Leber's hereditary optic neuropathy</td>\n",
              "    </tr>\n",
              "    <tr>\n",
              "      <th>1</th>\n",
              "      <td>PID0x25d5</td>\n",
              "      <td>4.0</td>\n",
              "      <td>Yes</td>\n",
              "      <td>Yes</td>\n",
              "      <td>No</td>\n",
              "      <td>No</td>\n",
              "      <td>4.910669</td>\n",
              "      <td>Mike</td>\n",
              "      <td>NaN</td>\n",
              "      <td>Brycen</td>\n",
              "      <td>...</td>\n",
              "      <td>Not applicable</td>\n",
              "      <td>Not applicable</td>\n",
              "      <td>No</td>\n",
              "      <td>Yes</td>\n",
              "      <td>NaN</td>\n",
              "      <td>Multiple</td>\n",
              "      <td>5.522560</td>\n",
              "      <td>normal</td>\n",
              "      <td>NaN</td>\n",
              "      <td>Cystic fibrosis</td>\n",
              "    </tr>\n",
              "    <tr>\n",
              "      <th>2</th>\n",
              "      <td>PID0x4a82</td>\n",
              "      <td>6.0</td>\n",
              "      <td>Yes</td>\n",
              "      <td>No</td>\n",
              "      <td>No</td>\n",
              "      <td>No</td>\n",
              "      <td>4.893297</td>\n",
              "      <td>Kimberly</td>\n",
              "      <td>NaN</td>\n",
              "      <td>Nashon</td>\n",
              "      <td>...</td>\n",
              "      <td>Yes</td>\n",
              "      <td>NaN</td>\n",
              "      <td>Yes</td>\n",
              "      <td>Yes</td>\n",
              "      <td>4.0</td>\n",
              "      <td>Singular</td>\n",
              "      <td>NaN</td>\n",
              "      <td>normal</td>\n",
              "      <td>Multifactorial genetic inheritance disorders</td>\n",
              "      <td>Diabetes</td>\n",
              "    </tr>\n",
              "    <tr>\n",
              "      <th>3</th>\n",
              "      <td>PID0x4ac8</td>\n",
              "      <td>12.0</td>\n",
              "      <td>Yes</td>\n",
              "      <td>No</td>\n",
              "      <td>Yes</td>\n",
              "      <td>No</td>\n",
              "      <td>4.705280</td>\n",
              "      <td>Jeffery</td>\n",
              "      <td>Hoelscher</td>\n",
              "      <td>Aayaan</td>\n",
              "      <td>...</td>\n",
              "      <td>-</td>\n",
              "      <td>Not applicable</td>\n",
              "      <td>NaN</td>\n",
              "      <td>Yes</td>\n",
              "      <td>1.0</td>\n",
              "      <td>Singular</td>\n",
              "      <td>7.919321</td>\n",
              "      <td>inconclusive</td>\n",
              "      <td>Mitochondrial genetic inheritance disorders</td>\n",
              "      <td>Leigh syndrome</td>\n",
              "    </tr>\n",
              "    <tr>\n",
              "      <th>4</th>\n",
              "      <td>PID0x1bf7</td>\n",
              "      <td>11.0</td>\n",
              "      <td>Yes</td>\n",
              "      <td>No</td>\n",
              "      <td>NaN</td>\n",
              "      <td>Yes</td>\n",
              "      <td>4.720703</td>\n",
              "      <td>Johanna</td>\n",
              "      <td>Stutzman</td>\n",
              "      <td>Suave</td>\n",
              "      <td>...</td>\n",
              "      <td>-</td>\n",
              "      <td>Not applicable</td>\n",
              "      <td>Yes</td>\n",
              "      <td>No</td>\n",
              "      <td>4.0</td>\n",
              "      <td>Multiple</td>\n",
              "      <td>4.098210</td>\n",
              "      <td>NaN</td>\n",
              "      <td>Multifactorial genetic inheritance disorders</td>\n",
              "      <td>Cancer</td>\n",
              "    </tr>\n",
              "  </tbody>\n",
              "</table>\n",
              "<p>5 rows × 35 columns</p>\n",
              "</div>"
            ],
            "text/plain": [
              "  Patient Id  Patient Age Genes in mother's side Inherited from father  \\\n",
              "0  PID0x6418          2.0                    Yes                    No   \n",
              "1  PID0x25d5          4.0                    Yes                   Yes   \n",
              "2  PID0x4a82          6.0                    Yes                    No   \n",
              "3  PID0x4ac8         12.0                    Yes                    No   \n",
              "4  PID0x1bf7         11.0                    Yes                    No   \n",
              "\n",
              "  Maternal gene Paternal gene  Blood cell count (mcL) Patient First Name  \\\n",
              "0           Yes            No                4.760603            Richard   \n",
              "1            No            No                4.910669               Mike   \n",
              "2            No            No                4.893297           Kimberly   \n",
              "3           Yes            No                4.705280            Jeffery   \n",
              "4           NaN           Yes                4.720703            Johanna   \n",
              "\n",
              "  Family Name Father's name  ...  H/O radiation exposure (x-ray)  \\\n",
              "0         NaN         Larre  ...                              No   \n",
              "1         NaN        Brycen  ...                  Not applicable   \n",
              "2         NaN        Nashon  ...                             Yes   \n",
              "3   Hoelscher        Aayaan  ...                               -   \n",
              "4    Stutzman         Suave  ...                               -   \n",
              "\n",
              "   H/O substance abuse Assisted conception IVF/ART  \\\n",
              "0                   No                          No   \n",
              "1       Not applicable                          No   \n",
              "2                  NaN                         Yes   \n",
              "3       Not applicable                         NaN   \n",
              "4       Not applicable                         Yes   \n",
              "\n",
              "  History of anomalies in previous pregnancies No. of previous abortion  \\\n",
              "0                                          Yes                      NaN   \n",
              "1                                          Yes                      NaN   \n",
              "2                                          Yes                      4.0   \n",
              "3                                          Yes                      1.0   \n",
              "4                                           No                      4.0   \n",
              "\n",
              "  Birth defects White Blood cell count (thousand per microliter)  \\\n",
              "0           NaN                                         9.857562   \n",
              "1      Multiple                                         5.522560   \n",
              "2      Singular                                              NaN   \n",
              "3      Singular                                         7.919321   \n",
              "4      Multiple                                         4.098210   \n",
              "\n",
              "  Blood test result                              Genetic Disorder  \\\n",
              "0               NaN   Mitochondrial genetic inheritance disorders   \n",
              "1            normal                                           NaN   \n",
              "2            normal  Multifactorial genetic inheritance disorders   \n",
              "3      inconclusive   Mitochondrial genetic inheritance disorders   \n",
              "4               NaN  Multifactorial genetic inheritance disorders   \n",
              "\n",
              "                     Disorder Subclass  \n",
              "0  Leber's hereditary optic neuropathy  \n",
              "1                      Cystic fibrosis  \n",
              "2                             Diabetes  \n",
              "3                       Leigh syndrome  \n",
              "4                               Cancer  \n",
              "\n",
              "[5 rows x 35 columns]"
            ]
          },
          "execution_count": 80,
          "metadata": {},
          "output_type": "execute_result"
        }
      ],
      "source": [
        "disease_data.head()"
      ]
    },
    {
      "cell_type": "code",
      "execution_count": 81,
      "metadata": {
        "colab": {
          "base_uri": "https://localhost:8080/",
          "height": 623
        },
        "id": "8P9j8lkLBOZM",
        "outputId": "4211c495-be48-4cfa-a9e6-b4f1401bb391"
      },
      "outputs": [
        {
          "data": {
            "text/plain": [
              "<AxesSubplot:>"
            ]
          },
          "execution_count": 81,
          "metadata": {},
          "output_type": "execute_result"
        },
        {
          "data": {
            "image/png": "[encoded data removed]",
            "text/plain": [
              "<Figure size 1080x360 with 2 Axes>"
            ]
          },
          "metadata": {
            "needs_background": "light"
          },
          "output_type": "display_data"
        }
      ],
      "source": [
        "# How many colunms are there left?\n",
        "#!pip install missingno\n",
        "import missingno as msno\n",
        "\n",
        "msno.matrix(disease_data,figsize=(15,5))"
      ]
    },
    {
      "cell_type": "code",
      "execution_count": 103,
      "metadata": {},
      "outputs": [
        {
          "data": {
            "text/plain": [
              "45"
            ]
          },
          "execution_count": 103,
          "metadata": {},
          "output_type": "execute_result"
        }
      ],
      "source": [
        "disease_data.columns.size"
      ]
    },
    {
      "cell_type": "code",
      "execution_count": 108,
      "metadata": {
        "colab": {
          "base_uri": "https://localhost:8080/"
        },
        "id": "H36xg_PNgGbt",
        "outputId": "66515dba-2fc3-47dc-b821-cfabf10f1cc8"
      },
      "outputs": [
        {
          "data": {
            "text/plain": [
              "Patient Id                                             0\n",
              "Patient Age                                         1427\n",
              "Genes in mother's side                                 0\n",
              "Inherited from father                                306\n",
              "Maternal gene                                       2810\n",
              "Paternal gene                                          0\n",
              "Blood cell count (mcL)                                 0\n",
              "Patient First Name                                     0\n",
              "Family Name                                         9691\n",
              "Father's name                                          0\n",
              "Mother's age                                        6036\n",
              "Father's age                                        5986\n",
              "Institute Name                                      5106\n",
              "Location of Institute                                  0\n",
              "Status                                                 0\n",
              "Respiratory Rate (breaths/min)                      2149\n",
              "Heart Rate (rates/min                               2113\n",
              "Test 1                                              2127\n",
              "Test 2                                              2152\n",
              "Test 3                                              2147\n",
              "Test 4                                              2140\n",
              "Test 5                                              2170\n",
              "Parental consent                                    2125\n",
              "Follow-up                                           2166\n",
              "Gender                                              2173\n",
              "Birth asphyxia                                      2139\n",
              "Autopsy shows birth defect (if applicable)          1026\n",
              "Place of birth                                      2124\n",
              "Folic acid details (peri-conceptional)              2117\n",
              "H/O serious maternal illness                        2152\n",
              "H/O radiation exposure (x-ray)                      2153\n",
              "H/O substance abuse                                 2195\n",
              "Assisted conception IVF/ART                         2122\n",
              "History of anomalies in previous pregnancies        2172\n",
              "No. of previous abortion                            2162\n",
              "Birth defects                                       2154\n",
              "White Blood cell count (thousand per microliter)    2148\n",
              "Blood test result                                   2145\n",
              "Symptom 1                                           2155\n",
              "Symptom 2                                           2222\n",
              "Symptom 3                                           2101\n",
              "Symptom 4                                           2113\n",
              "Symptom 5                                           2153\n",
              "Genetic Disorder                                    2146\n",
              "Disorder Subclass                                   2168\n",
              "dtype: int64"
            ]
          },
          "execution_count": 108,
          "metadata": {},
          "output_type": "execute_result"
        }
      ],
      "source": [
        "# What is the column with the most missing values?\n",
        "disease_data.isnull().sum()"
      ]
    },
    {
      "cell_type": "code",
      "execution_count": 109,
      "metadata": {
        "colab": {
          "base_uri": "https://localhost:8080/"
        },
        "id": "DWWII-guVpNm",
        "outputId": "6cdff1b3-a422-4c28-9286-1ea095c712cd"
      },
      "outputs": [
        {
          "data": {
            "text/plain": [
              "Smith       157\n",
              "Williams    106\n",
              "Johnson      99\n",
              "Brown        90\n",
              "Jones        81\n",
              "           ... \n",
              "Belgarde      1\n",
              "Chui          1\n",
              "Foran         1\n",
              "Nostrand      1\n",
              "Crouch        1\n",
              "Name: Family Name, Length: 6282, dtype: int64"
            ]
          },
          "execution_count": 109,
          "metadata": {},
          "output_type": "execute_result"
        }
      ],
      "source": [
        "# What are the three most common familiy names?\n",
        "disease_data[\"Family Name\"].value_counts()"
      ]
    },
    {
      "cell_type": "code",
      "execution_count": 85,
      "metadata": {
        "colab": {
          "base_uri": "https://localhost:8080/"
        },
        "id": "Gi2BI22igf0A",
        "outputId": "174dbc00-d6bd-45a3-da48-8705bf2efb78"
      },
      "outputs": [
        {
          "data": {
            "text/plain": [
              "Not applicable    5029\n",
              "No                5005\n",
              "Yes               4980\n",
              "-                 4916\n",
              "Name: H/O radiation exposure (x-ray), dtype: int64"
            ]
          },
          "execution_count": 85,
          "metadata": {},
          "output_type": "execute_result"
        }
      ],
      "source": [
        "# Check the following columns and put in real None Values\n",
        "disease_data[\"H/O radiation exposure (x-ray)\"].value_counts()"
      ]
    },
    {
      "cell_type": "code",
      "execution_count": 110,
      "metadata": {
        "colab": {
          "base_uri": "https://localhost:8080/"
        },
        "id": "3nVMmNsJgr2k",
        "outputId": "f3e4837d-79d4-4eb2-c02b-1c43257b907c"
      },
      "outputs": [
        {
          "data": {
            "text/plain": [
              "No     5005\n",
              "Yes    4980\n",
              "Name: H/O radiation exposure (x-ray), dtype: int64"
            ]
          },
          "execution_count": 110,
          "metadata": {},
          "output_type": "execute_result"
        }
      ],
      "source": [
        "disease_data[\"H/O radiation exposure (x-ray)\"] = disease_data[\"H/O radiation exposure (x-ray)\"].replace({\"Not applicable\" : None})\n",
        "disease_data[\"H/O radiation exposure (x-ray)\"] = disease_data[\"H/O radiation exposure (x-ray)\"].replace({\"-\": None})\n",
        "disease_data[\"H/O radiation exposure (x-ray)\"].value_counts()"
      ]
    },
    {
      "cell_type": "code",
      "execution_count": 34,
      "metadata": {
        "colab": {
          "base_uri": "https://localhost:8080/"
        },
        "id": "LhIumNbyhJRt",
        "outputId": "fc4d844e-a32e-4249-c635-60694f503ead"
      },
      "outputs": [
        {
          "data": {
            "text/plain": [
              "-                 5042\n",
              "No                5033\n",
              "Yes               4975\n",
              "Not applicable    4838\n",
              "Name: H/O substance abuse, dtype: int64"
            ]
          },
          "execution_count": 34,
          "metadata": {},
          "output_type": "execute_result"
        }
      ],
      "source": [
        "disease_data[\"H/O substance abuse\"].value_counts()"
      ]
    },
    {
      "cell_type": "code",
      "execution_count": 35,
      "metadata": {
        "colab": {
          "base_uri": "https://localhost:8080/"
        },
        "id": "L_mbye_Gb_6J",
        "outputId": "d5e3c867-96b9-49dc-cffb-418d2393a3ae"
      },
      "outputs": [
        {
          "data": {
            "text/plain": [
              "No     5033\n",
              "Yes    4975\n",
              "Name: H/O substance abuse, dtype: int64"
            ]
          },
          "execution_count": 35,
          "metadata": {},
          "output_type": "execute_result"
        }
      ],
      "source": [
        "disease_data[\"H/O substance abuse\"] = disease_data[\"H/O substance abuse\"].replace({\"Not applicable\" : None})\n",
        "disease_data[\"H/O substance abuse\"] = disease_data[\"H/O substance abuse\"].replace({\"-\": None})\n",
        "disease_data[\"H/O substance abuse\"].value_counts()"
      ]
    },
    {
      "cell_type": "code",
      "execution_count": 36,
      "metadata": {
        "colab": {
          "base_uri": "https://localhost:8080/"
        },
        "id": "x9RrKlnLdYtm",
        "outputId": "517a3a2a-4fb1-4e1b-c114-7b5f7435673e"
      },
      "outputs": [
        {
          "name": "stdout",
          "output_type": "stream",
          "text": [
            "Disorder_Subclass VALUES:\n",
            "\n",
            "Leigh syndrome                         5160\n",
            "Mitochondrial myopathy                 4405\n",
            "Cystic fibrosis                        3448\n",
            "Tay-Sachs                              2833\n",
            "Diabetes                               1817\n",
            "Hemochromatosis                        1355\n",
            "Leber's hereditary optic neuropathy     648\n",
            "Alzheimer's                             152\n",
            "Cancer                                   97\n",
            "Name: Disorder Subclass, dtype: int64\n"
          ]
        }
      ],
      "source": [
        "# How many observations are there for each different Disorder Subclass\n",
        "print(\"Disorder_Subclass VALUES:\\n\")\n",
        "print(disease_data[\"Disorder Subclass\"].value_counts())"
      ]
    },
    {
      "cell_type": "code",
      "execution_count": 37,
      "metadata": {
        "colab": {
          "base_uri": "https://localhost:8080/",
          "height": 362
        },
        "id": "RH4vivn4muNv",
        "outputId": "7f8ca301-aad5-4407-e4d7-320a38371f76"
      },
      "outputs": [
        {
          "data": {
            "text/html": [
              "<div>\n",
              "<style scoped>\n",
              "    .dataframe tbody tr th:only-of-type {\n",
              "        vertical-align: middle;\n",
              "    }\n",
              "\n",
              "    .dataframe tbody tr th {\n",
              "        vertical-align: top;\n",
              "    }\n",
              "\n",
              "    .dataframe thead th {\n",
              "        text-align: right;\n",
              "    }\n",
              "</style>\n",
              "<table border=\"1\" class=\"dataframe\">\n",
              "  <thead>\n",
              "    <tr style=\"text-align: right;\">\n",
              "      <th></th>\n",
              "      <th>Patient Age</th>\n",
              "      <th>Blood cell count (mcL)</th>\n",
              "      <th>Mother's age</th>\n",
              "      <th>Father's age</th>\n",
              "      <th>No. of previous abortion</th>\n",
              "      <th>White Blood cell count (thousand per microliter)</th>\n",
              "    </tr>\n",
              "  </thead>\n",
              "  <tbody>\n",
              "    <tr>\n",
              "      <th>count</th>\n",
              "      <td>20656.000000</td>\n",
              "      <td>22083.000000</td>\n",
              "      <td>16047.000000</td>\n",
              "      <td>16097.000000</td>\n",
              "      <td>19921.000000</td>\n",
              "      <td>19935.000000</td>\n",
              "    </tr>\n",
              "    <tr>\n",
              "      <th>mean</th>\n",
              "      <td>6.974148</td>\n",
              "      <td>4.898871</td>\n",
              "      <td>34.526454</td>\n",
              "      <td>41.972852</td>\n",
              "      <td>2.003062</td>\n",
              "      <td>7.486224</td>\n",
              "    </tr>\n",
              "    <tr>\n",
              "      <th>std</th>\n",
              "      <td>4.319475</td>\n",
              "      <td>0.199663</td>\n",
              "      <td>9.852598</td>\n",
              "      <td>13.035501</td>\n",
              "      <td>1.411919</td>\n",
              "      <td>2.653393</td>\n",
              "    </tr>\n",
              "    <tr>\n",
              "      <th>min</th>\n",
              "      <td>0.000000</td>\n",
              "      <td>4.092727</td>\n",
              "      <td>18.000000</td>\n",
              "      <td>20.000000</td>\n",
              "      <td>0.000000</td>\n",
              "      <td>3.000000</td>\n",
              "    </tr>\n",
              "    <tr>\n",
              "      <th>25%</th>\n",
              "      <td>3.000000</td>\n",
              "      <td>4.763109</td>\n",
              "      <td>26.000000</td>\n",
              "      <td>31.000000</td>\n",
              "      <td>1.000000</td>\n",
              "      <td>5.424703</td>\n",
              "    </tr>\n",
              "    <tr>\n",
              "      <th>50%</th>\n",
              "      <td>7.000000</td>\n",
              "      <td>4.899399</td>\n",
              "      <td>35.000000</td>\n",
              "      <td>42.000000</td>\n",
              "      <td>2.000000</td>\n",
              "      <td>7.477132</td>\n",
              "    </tr>\n",
              "    <tr>\n",
              "      <th>75%</th>\n",
              "      <td>11.000000</td>\n",
              "      <td>5.033830</td>\n",
              "      <td>43.000000</td>\n",
              "      <td>53.000000</td>\n",
              "      <td>3.000000</td>\n",
              "      <td>9.526152</td>\n",
              "    </tr>\n",
              "    <tr>\n",
              "      <th>max</th>\n",
              "      <td>14.000000</td>\n",
              "      <td>5.609829</td>\n",
              "      <td>51.000000</td>\n",
              "      <td>64.000000</td>\n",
              "      <td>4.000000</td>\n",
              "      <td>12.000000</td>\n",
              "    </tr>\n",
              "  </tbody>\n",
              "</table>\n",
              "</div>"
            ],
            "text/plain": [
              "        Patient Age  Blood cell count (mcL)  Mother's age  Father's age  \\\n",
              "count  20656.000000            22083.000000  16047.000000  16097.000000   \n",
              "mean       6.974148                4.898871     34.526454     41.972852   \n",
              "std        4.319475                0.199663      9.852598     13.035501   \n",
              "min        0.000000                4.092727     18.000000     20.000000   \n",
              "25%        3.000000                4.763109     26.000000     31.000000   \n",
              "50%        7.000000                4.899399     35.000000     42.000000   \n",
              "75%       11.000000                5.033830     43.000000     53.000000   \n",
              "max       14.000000                5.609829     51.000000     64.000000   \n",
              "\n",
              "       No. of previous abortion  \\\n",
              "count              19921.000000   \n",
              "mean                   2.003062   \n",
              "std                    1.411919   \n",
              "min                    0.000000   \n",
              "25%                    1.000000   \n",
              "50%                    2.000000   \n",
              "75%                    3.000000   \n",
              "max                    4.000000   \n",
              "\n",
              "       White Blood cell count (thousand per microliter)  \n",
              "count                                      19935.000000  \n",
              "mean                                           7.486224  \n",
              "std                                            2.653393  \n",
              "min                                            3.000000  \n",
              "25%                                            5.424703  \n",
              "50%                                            7.477132  \n",
              "75%                                            9.526152  \n",
              "max                                           12.000000  "
            ]
          },
          "execution_count": 37,
          "metadata": {},
          "output_type": "execute_result"
        }
      ],
      "source": [
        "# Check whether there are any irregularities in the inter scaled data\n",
        "disease_data.describe()"
      ]
    },
    {
      "cell_type": "markdown",
      "metadata": {
        "id": "NZN8Jm52vvz3"
      },
      "source": [
        "# 🏁 Recap\n",
        "\n",
        "- If you have finished the tasks and have no questions, place the green card on top.\n",
        "- If you have finished the tasks but would like to discuss the solutions together again, place the yellow card on top.\n",
        "\n",
        "![](https://www.lokalinfo.ch/fileadmin/news_import/image003_03.jpg)"
      ]
    }
  ],
  "metadata": {
    "colab": {
      "collapsed_sections": [],
      "provenance": [],
      "toc_visible": true
    },
    "kernelspec": {
      "display_name": "Python 3.8.8 ('base')",
      "language": "python",
      "name": "python3"
    },
    "language_info": {
      "codemirror_mode": {
        "name": "ipython",
        "version": 3
      },
      "file_extension": ".py",
      "mimetype": "text/x-python",
      "name": "python",
      "nbconvert_exporter": "python",
      "pygments_lexer": "ipython3",
      "version": "3.8.8"
    },
    "vscode": {
      "interpreter": {
        "hash": "91b5df634ae01e052c095f84ce6ac57f1bf815a7c386b368c11e7051e1049005"
      }
    }
  },
  "nbformat": 4,
  "nbformat_minor": 0
}
